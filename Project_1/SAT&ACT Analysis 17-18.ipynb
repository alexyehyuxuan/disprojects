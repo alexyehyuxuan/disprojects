{
 "cells": [
  {
   "cell_type": "markdown",
   "metadata": {},
   "source": [
    "# Project 1: SAT & ACT Analysis"
   ]
  },
  {
   "cell_type": "markdown",
   "metadata": {},
   "source": [
    "The first markdown cell in a notebook is a great place to provide an overview of your entire project. You will likely want to at least state your\n",
    "\n",
    "## Problem Statement"
   ]
  },
  {
   "cell_type": "markdown",
   "metadata": {},
   "source": [
    "While there have been many adopters of the SATs, the ACT still maintains a large chunk of the target market. How can we take effective actionable steps toward having a higher SAT participation rate."
   ]
  },
  {
   "cell_type": "markdown",
   "metadata": {},
   "source": [
    "## Executive Summary\n",
    "\n",
    "This project was targetted at creating actionable data from statistics gathered from the SAT & ACT during the years 2017-2018. The population in the datasets are a percentage based population of students from each state that have taken the exams.\n",
    "Within the dataset, variables were targetted and explored for potential relationships. Notably between participation rates between both tests, as well as the effect of participation rates on scores.\n",
    "\n",
    "Through external research for supplementary purposes, key findings were that legislature drove most of the changes within the data, and that further effective steps in order to increase SAT foothold on the market.\n",
    "\n",
    "### Contents:\n",
    "- [2017 Data Import & Cleaning](#Data-Import-and-Cleaning)\n",
    "- [2018 Data Import and Cleaning](#2018-Data-Import-and-Cleaning)\n",
    "- [Exploratory Data Analysis](#Exploratory-Data-Analysis)\n",
    "- [Data Visualization](#Visualize-the-data)\n",
    "- [Descriptive and Inferential Statistics](#Descriptive-and-Inferential-Statistics)\n",
    "- [Outside Research](#Outside-Research)\n",
    "- [Conclusions and Recommendations](#Conclusions-and-Recommendations)"
   ]
  },
  {
   "cell_type": "markdown",
   "metadata": {},
   "source": [
    "**If you combine your problem statement, executive summary, data dictionary, and conclusions/recommendations, you have an amazing README.md file that quickly aligns your audience to the contents of your project.** Don't forget to cite your data sources!"
   ]
  },
  {
   "cell_type": "markdown",
   "metadata": {},
   "source": [
    "*All libraries used should be added here*"
   ]
  },
  {
   "cell_type": "code",
   "execution_count": 1,
   "metadata": {},
   "outputs": [],
   "source": [
    "#Imports:\n",
    "import pandas as pd\n",
    "import numpy as np\n",
    "import matplotlib.pyplot as plt\n",
    "import scipy.stats as stats\n",
    "from scipy.stats import norm\n",
    "import seaborn as sns\n",
    "import math as math"
   ]
  },
  {
   "cell_type": "markdown",
   "metadata": {},
   "source": [
    "## 2017 Data Import and Cleaning"
   ]
  },
  {
   "cell_type": "markdown",
   "metadata": {},
   "source": [
    "#### 1. Read In SAT & ACT  Data\n",
    "\n",
    "Read in the `sat_2017.csv` and `act_2017.csv` files and assign them to appropriately named pandas dataframes."
   ]
  },
  {
   "cell_type": "code",
   "execution_count": 4,
   "metadata": {},
   "outputs": [],
   "source": [
    "#Code:\n",
    "sat_17 = pd.read_csv('data/sat_2017.csv')\n",
    "act_17 = pd.read_csv('data/act_2017.csv')"
   ]
  },
  {
   "cell_type": "markdown",
   "metadata": {},
   "source": [
    "#### 2. Display Data\n",
    "\n",
    "Print the first 10 rows of each dataframe to your jupyter notebook"
   ]
  },
  {
   "cell_type": "code",
   "execution_count": 5,
   "metadata": {
    "scrolled": true
   },
   "outputs": [
    {
     "name": "stdout",
     "output_type": "stream",
     "text": [
      "                  State Participation  Evidence-Based Reading and Writing  \\\n",
      "0               Alabama            5%                                 593   \n",
      "1                Alaska           38%                                 547   \n",
      "2               Arizona           30%                                 563   \n",
      "3              Arkansas            3%                                 614   \n",
      "4            California           53%                                 531   \n",
      "5              Colorado           11%                                 606   \n",
      "6           Connecticut          100%                                 530   \n",
      "7              Delaware          100%                                 503   \n",
      "8  District of Columbia          100%                                 482   \n",
      "9               Florida           83%                                 520   \n",
      "\n",
      "   Math  Total  \n",
      "0   572   1165  \n",
      "1   533   1080  \n",
      "2   553   1116  \n",
      "3   594   1208  \n",
      "4   524   1055  \n",
      "5   595   1201  \n",
      "6   512   1041  \n",
      "7   492    996  \n",
      "8   468    950  \n",
      "9   497   1017  \n"
     ]
    }
   ],
   "source": [
    "#Code:\n",
    "print (sat_17.head(10))"
   ]
  },
  {
   "cell_type": "code",
   "execution_count": 6,
   "metadata": {},
   "outputs": [
    {
     "data": {
      "text/plain": [
       "State                                 object\n",
       "Participation                         object\n",
       "Evidence-Based Reading and Writing     int64\n",
       "Math                                   int64\n",
       "Total                                  int64\n",
       "dtype: object"
      ]
     },
     "execution_count": 6,
     "metadata": {},
     "output_type": "execute_result"
    }
   ],
   "source": [
    "sat_17.dtypes"
   ]
  },
  {
   "cell_type": "code",
   "execution_count": 7,
   "metadata": {
    "scrolled": true
   },
   "outputs": [
    {
     "name": "stdout",
     "output_type": "stream",
     "text": [
      "                  State Participation  English  Math  Reading  Science  \\\n",
      "0              National           60%     20.3  20.7     21.4     21.0   \n",
      "1               Alabama          100%     18.9  18.4     19.7     19.4   \n",
      "2                Alaska           65%     18.7  19.8     20.4     19.9   \n",
      "3               Arizona           62%     18.6  19.8     20.1     19.8   \n",
      "4              Arkansas          100%     18.9  19.0     19.7     19.5   \n",
      "5            California           31%     22.5  22.7     23.1     22.2   \n",
      "6              Colorado          100%     20.1  20.3     21.2     20.9   \n",
      "7           Connecticut           31%     25.5  24.6     25.6     24.6   \n",
      "8              Delaware           18%     24.1  23.4     24.8     23.6   \n",
      "9  District of Columbia           32%     24.4  23.5     24.9     23.5   \n",
      "\n",
      "  Composite  \n",
      "0      21.0  \n",
      "1      19.2  \n",
      "2      19.8  \n",
      "3      19.7  \n",
      "4      19.4  \n",
      "5      22.8  \n",
      "6      20.8  \n",
      "7      25.2  \n",
      "8      24.1  \n",
      "9      24.2  \n"
     ]
    }
   ],
   "source": [
    "print (act_17.head(10))"
   ]
  },
  {
   "cell_type": "code",
   "execution_count": 8,
   "metadata": {},
   "outputs": [
    {
     "data": {
      "text/plain": [
       "State             object\n",
       "Participation     object\n",
       "English          float64\n",
       "Math             float64\n",
       "Reading          float64\n",
       "Science          float64\n",
       "Composite         object\n",
       "dtype: object"
      ]
     },
     "execution_count": 8,
     "metadata": {},
     "output_type": "execute_result"
    }
   ],
   "source": [
    "act_17.dtypes"
   ]
  },
  {
   "cell_type": "markdown",
   "metadata": {},
   "source": [
    "#### 3. Verbally Describe Data\n",
    "\n",
    "Take your time looking through the data and thoroughly describe the data in the markdown cell below. "
   ]
  },
  {
   "cell_type": "markdown",
   "metadata": {},
   "source": [
    "sat17\n",
    "- 5 columns \n",
    "- 50 rows \n",
    "- 'Participation' is an object data type\n",
    "- Other columns are int\n",
    "\n",
    "act17\n",
    "- 7 columns\n",
    "- 50 rows\n",
    "- 'Participation' is an object data type\n",
    "- 'Composite' is an object data type (although it is a column of numbers)\n",
    "- Other columns are floats"
   ]
  },
  {
   "cell_type": "markdown",
   "metadata": {},
   "source": [
    "#### 4a. Does the data look complete? "
   ]
  },
  {
   "cell_type": "code",
   "execution_count": 9,
   "metadata": {
    "scrolled": false
   },
   "outputs": [
    {
     "data": {
      "text/plain": [
       "State            False\n",
       "Participation    False\n",
       "English          False\n",
       "Math             False\n",
       "Reading          False\n",
       "Science          False\n",
       "Composite        False\n",
       "dtype: bool"
      ]
     },
     "execution_count": 9,
     "metadata": {},
     "output_type": "execute_result"
    }
   ],
   "source": [
    "act_17.isnull().any()"
   ]
  },
  {
   "cell_type": "code",
   "execution_count": 10,
   "metadata": {},
   "outputs": [
    {
     "data": {
      "text/plain": [
       "State                                 False\n",
       "Participation                         False\n",
       "Evidence-Based Reading and Writing    False\n",
       "Math                                  False\n",
       "Total                                 False\n",
       "dtype: bool"
      ]
     },
     "execution_count": 10,
     "metadata": {},
     "output_type": "execute_result"
    }
   ],
   "source": [
    "sat_17.isnull().any()"
   ]
  },
  {
   "cell_type": "markdown",
   "metadata": {},
   "source": [
    "Answer: The data looks complete."
   ]
  },
  {
   "cell_type": "markdown",
   "metadata": {},
   "source": [
    "#### 4b. Are there any obvious issues with the observations?\n",
    "\n",
    "**What is the minimum *possible* value for each test/subtest? What is the maximum *possible* value?**\n",
    "\n",
    "Consider comparing any questionable values to the sources of your data:\n",
    "- [SAT](https://blog.collegevine.com/here-are-the-average-sat-scores-by-state/)\n",
    "- [ACT](https://blog.prepscholar.com/act-scores-by-state-averages-highs-and-lows)"
   ]
  },
  {
   "cell_type": "markdown",
   "metadata": {},
   "source": [
    "Minimum:\n",
    "    SAT = 400 \n",
    "    SAT Subtest = 200\n",
    "    ACT test = 1\n",
    "    ACT Subtest = 1"
   ]
  },
  {
   "cell_type": "markdown",
   "metadata": {},
   "source": [
    "Maximum: \n",
    "SAT = 1600\n",
    "SAT Subtest = 800\n",
    "ACT = 36\n",
    "ACT Subtest = 36"
   ]
  },
  {
   "cell_type": "markdown",
   "metadata": {},
   "source": [
    "#### 4c. Fix any errors you identified\n",
    "\n",
    "**The data is available** so there's no need to guess or calculate anything. If you didn't find any errors, continue to the next step."
   ]
  },
  {
   "cell_type": "markdown",
   "metadata": {},
   "source": [
    "Data Errors Found:\n",
    "- Sat_17 Maryland Math should be 520\n",
    "- Act_17 Maryland Science should be 23.2"
   ]
  },
  {
   "cell_type": "code",
   "execution_count": 11,
   "metadata": {},
   "outputs": [
    {
     "name": "stderr",
     "output_type": "stream",
     "text": [
      "<ipython-input-11-813f1d229613>:1: SettingWithCopyWarning: \n",
      "A value is trying to be set on a copy of a slice from a DataFrame\n",
      "\n",
      "See the caveats in the documentation: https://pandas.pydata.org/pandas-docs/stable/user_guide/indexing.html#returning-a-view-versus-a-copy\n",
      "  act_17['Science'][21] = 23.2\n",
      "<ipython-input-11-813f1d229613>:2: SettingWithCopyWarning: \n",
      "A value is trying to be set on a copy of a slice from a DataFrame\n",
      "\n",
      "See the caveats in the documentation: https://pandas.pydata.org/pandas-docs/stable/user_guide/indexing.html#returning-a-view-versus-a-copy\n",
      "  sat_17['Math'][20] = 520\n"
     ]
    }
   ],
   "source": [
    "act_17['Science'][21] = 23.2\n",
    "sat_17['Math'][20] = 520"
   ]
  },
  {
   "cell_type": "code",
   "execution_count": 12,
   "metadata": {},
   "outputs": [
    {
     "data": {
      "text/html": [
       "<div>\n",
       "<style scoped>\n",
       "    .dataframe tbody tr th:only-of-type {\n",
       "        vertical-align: middle;\n",
       "    }\n",
       "\n",
       "    .dataframe tbody tr th {\n",
       "        vertical-align: top;\n",
       "    }\n",
       "\n",
       "    .dataframe thead th {\n",
       "        text-align: right;\n",
       "    }\n",
       "</style>\n",
       "<table border=\"1\" class=\"dataframe\">\n",
       "  <thead>\n",
       "    <tr style=\"text-align: right;\">\n",
       "      <th></th>\n",
       "      <th>State</th>\n",
       "      <th>Participation</th>\n",
       "      <th>Evidence-Based Reading and Writing</th>\n",
       "      <th>Math</th>\n",
       "      <th>Total</th>\n",
       "    </tr>\n",
       "  </thead>\n",
       "  <tbody>\n",
       "    <tr>\n",
       "      <th>0</th>\n",
       "      <td>Alabama</td>\n",
       "      <td>5%</td>\n",
       "      <td>593</td>\n",
       "      <td>572</td>\n",
       "      <td>1165</td>\n",
       "    </tr>\n",
       "    <tr>\n",
       "      <th>1</th>\n",
       "      <td>Alaska</td>\n",
       "      <td>38%</td>\n",
       "      <td>547</td>\n",
       "      <td>533</td>\n",
       "      <td>1080</td>\n",
       "    </tr>\n",
       "    <tr>\n",
       "      <th>2</th>\n",
       "      <td>Arizona</td>\n",
       "      <td>30%</td>\n",
       "      <td>563</td>\n",
       "      <td>553</td>\n",
       "      <td>1116</td>\n",
       "    </tr>\n",
       "    <tr>\n",
       "      <th>3</th>\n",
       "      <td>Arkansas</td>\n",
       "      <td>3%</td>\n",
       "      <td>614</td>\n",
       "      <td>594</td>\n",
       "      <td>1208</td>\n",
       "    </tr>\n",
       "    <tr>\n",
       "      <th>4</th>\n",
       "      <td>California</td>\n",
       "      <td>53%</td>\n",
       "      <td>531</td>\n",
       "      <td>524</td>\n",
       "      <td>1055</td>\n",
       "    </tr>\n",
       "    <tr>\n",
       "      <th>5</th>\n",
       "      <td>Colorado</td>\n",
       "      <td>11%</td>\n",
       "      <td>606</td>\n",
       "      <td>595</td>\n",
       "      <td>1201</td>\n",
       "    </tr>\n",
       "    <tr>\n",
       "      <th>6</th>\n",
       "      <td>Connecticut</td>\n",
       "      <td>100%</td>\n",
       "      <td>530</td>\n",
       "      <td>512</td>\n",
       "      <td>1041</td>\n",
       "    </tr>\n",
       "    <tr>\n",
       "      <th>7</th>\n",
       "      <td>Delaware</td>\n",
       "      <td>100%</td>\n",
       "      <td>503</td>\n",
       "      <td>492</td>\n",
       "      <td>996</td>\n",
       "    </tr>\n",
       "    <tr>\n",
       "      <th>8</th>\n",
       "      <td>District of Columbia</td>\n",
       "      <td>100%</td>\n",
       "      <td>482</td>\n",
       "      <td>468</td>\n",
       "      <td>950</td>\n",
       "    </tr>\n",
       "    <tr>\n",
       "      <th>9</th>\n",
       "      <td>Florida</td>\n",
       "      <td>83%</td>\n",
       "      <td>520</td>\n",
       "      <td>497</td>\n",
       "      <td>1017</td>\n",
       "    </tr>\n",
       "    <tr>\n",
       "      <th>10</th>\n",
       "      <td>Georgia</td>\n",
       "      <td>61%</td>\n",
       "      <td>535</td>\n",
       "      <td>515</td>\n",
       "      <td>1050</td>\n",
       "    </tr>\n",
       "    <tr>\n",
       "      <th>11</th>\n",
       "      <td>Hawaii</td>\n",
       "      <td>55%</td>\n",
       "      <td>544</td>\n",
       "      <td>541</td>\n",
       "      <td>1085</td>\n",
       "    </tr>\n",
       "    <tr>\n",
       "      <th>12</th>\n",
       "      <td>Idaho</td>\n",
       "      <td>93%</td>\n",
       "      <td>513</td>\n",
       "      <td>493</td>\n",
       "      <td>1005</td>\n",
       "    </tr>\n",
       "    <tr>\n",
       "      <th>13</th>\n",
       "      <td>Illinois</td>\n",
       "      <td>9%</td>\n",
       "      <td>559</td>\n",
       "      <td>556</td>\n",
       "      <td>1115</td>\n",
       "    </tr>\n",
       "    <tr>\n",
       "      <th>14</th>\n",
       "      <td>Indiana</td>\n",
       "      <td>63%</td>\n",
       "      <td>542</td>\n",
       "      <td>532</td>\n",
       "      <td>1074</td>\n",
       "    </tr>\n",
       "    <tr>\n",
       "      <th>15</th>\n",
       "      <td>Iowa</td>\n",
       "      <td>2%</td>\n",
       "      <td>641</td>\n",
       "      <td>635</td>\n",
       "      <td>1275</td>\n",
       "    </tr>\n",
       "    <tr>\n",
       "      <th>16</th>\n",
       "      <td>Kansas</td>\n",
       "      <td>4%</td>\n",
       "      <td>632</td>\n",
       "      <td>628</td>\n",
       "      <td>1260</td>\n",
       "    </tr>\n",
       "    <tr>\n",
       "      <th>17</th>\n",
       "      <td>Kentucky</td>\n",
       "      <td>4%</td>\n",
       "      <td>631</td>\n",
       "      <td>616</td>\n",
       "      <td>1247</td>\n",
       "    </tr>\n",
       "    <tr>\n",
       "      <th>18</th>\n",
       "      <td>Louisiana</td>\n",
       "      <td>4%</td>\n",
       "      <td>611</td>\n",
       "      <td>586</td>\n",
       "      <td>1198</td>\n",
       "    </tr>\n",
       "    <tr>\n",
       "      <th>19</th>\n",
       "      <td>Maine</td>\n",
       "      <td>95%</td>\n",
       "      <td>513</td>\n",
       "      <td>499</td>\n",
       "      <td>1012</td>\n",
       "    </tr>\n",
       "    <tr>\n",
       "      <th>20</th>\n",
       "      <td>Maryland</td>\n",
       "      <td>69%</td>\n",
       "      <td>536</td>\n",
       "      <td>520</td>\n",
       "      <td>1060</td>\n",
       "    </tr>\n",
       "    <tr>\n",
       "      <th>21</th>\n",
       "      <td>Massachusetts</td>\n",
       "      <td>76%</td>\n",
       "      <td>555</td>\n",
       "      <td>551</td>\n",
       "      <td>1107</td>\n",
       "    </tr>\n",
       "    <tr>\n",
       "      <th>22</th>\n",
       "      <td>Michigan</td>\n",
       "      <td>100%</td>\n",
       "      <td>509</td>\n",
       "      <td>495</td>\n",
       "      <td>1005</td>\n",
       "    </tr>\n",
       "    <tr>\n",
       "      <th>23</th>\n",
       "      <td>Minnesota</td>\n",
       "      <td>3%</td>\n",
       "      <td>644</td>\n",
       "      <td>651</td>\n",
       "      <td>1295</td>\n",
       "    </tr>\n",
       "    <tr>\n",
       "      <th>24</th>\n",
       "      <td>Mississippi</td>\n",
       "      <td>2%</td>\n",
       "      <td>634</td>\n",
       "      <td>607</td>\n",
       "      <td>1242</td>\n",
       "    </tr>\n",
       "    <tr>\n",
       "      <th>25</th>\n",
       "      <td>Missouri</td>\n",
       "      <td>3%</td>\n",
       "      <td>640</td>\n",
       "      <td>631</td>\n",
       "      <td>1271</td>\n",
       "    </tr>\n",
       "    <tr>\n",
       "      <th>26</th>\n",
       "      <td>Montana</td>\n",
       "      <td>10%</td>\n",
       "      <td>605</td>\n",
       "      <td>591</td>\n",
       "      <td>1196</td>\n",
       "    </tr>\n",
       "    <tr>\n",
       "      <th>27</th>\n",
       "      <td>Nebraska</td>\n",
       "      <td>3%</td>\n",
       "      <td>629</td>\n",
       "      <td>625</td>\n",
       "      <td>1253</td>\n",
       "    </tr>\n",
       "    <tr>\n",
       "      <th>28</th>\n",
       "      <td>Nevada</td>\n",
       "      <td>26%</td>\n",
       "      <td>563</td>\n",
       "      <td>553</td>\n",
       "      <td>1116</td>\n",
       "    </tr>\n",
       "    <tr>\n",
       "      <th>29</th>\n",
       "      <td>New Hampshire</td>\n",
       "      <td>96%</td>\n",
       "      <td>532</td>\n",
       "      <td>520</td>\n",
       "      <td>1052</td>\n",
       "    </tr>\n",
       "    <tr>\n",
       "      <th>30</th>\n",
       "      <td>New Jersey</td>\n",
       "      <td>70%</td>\n",
       "      <td>530</td>\n",
       "      <td>526</td>\n",
       "      <td>1056</td>\n",
       "    </tr>\n",
       "    <tr>\n",
       "      <th>31</th>\n",
       "      <td>New Mexico</td>\n",
       "      <td>11%</td>\n",
       "      <td>577</td>\n",
       "      <td>561</td>\n",
       "      <td>1138</td>\n",
       "    </tr>\n",
       "    <tr>\n",
       "      <th>32</th>\n",
       "      <td>New York</td>\n",
       "      <td>67%</td>\n",
       "      <td>528</td>\n",
       "      <td>523</td>\n",
       "      <td>1052</td>\n",
       "    </tr>\n",
       "    <tr>\n",
       "      <th>33</th>\n",
       "      <td>North Carolina</td>\n",
       "      <td>49%</td>\n",
       "      <td>546</td>\n",
       "      <td>535</td>\n",
       "      <td>1081</td>\n",
       "    </tr>\n",
       "    <tr>\n",
       "      <th>34</th>\n",
       "      <td>North Dakota</td>\n",
       "      <td>2%</td>\n",
       "      <td>635</td>\n",
       "      <td>621</td>\n",
       "      <td>1256</td>\n",
       "    </tr>\n",
       "    <tr>\n",
       "      <th>35</th>\n",
       "      <td>Ohio</td>\n",
       "      <td>12%</td>\n",
       "      <td>578</td>\n",
       "      <td>570</td>\n",
       "      <td>1149</td>\n",
       "    </tr>\n",
       "    <tr>\n",
       "      <th>36</th>\n",
       "      <td>Oklahoma</td>\n",
       "      <td>7%</td>\n",
       "      <td>530</td>\n",
       "      <td>517</td>\n",
       "      <td>1047</td>\n",
       "    </tr>\n",
       "    <tr>\n",
       "      <th>37</th>\n",
       "      <td>Oregon</td>\n",
       "      <td>43%</td>\n",
       "      <td>560</td>\n",
       "      <td>548</td>\n",
       "      <td>1108</td>\n",
       "    </tr>\n",
       "    <tr>\n",
       "      <th>38</th>\n",
       "      <td>Pennsylvania</td>\n",
       "      <td>65%</td>\n",
       "      <td>540</td>\n",
       "      <td>531</td>\n",
       "      <td>1071</td>\n",
       "    </tr>\n",
       "    <tr>\n",
       "      <th>39</th>\n",
       "      <td>Rhode Island</td>\n",
       "      <td>71%</td>\n",
       "      <td>539</td>\n",
       "      <td>524</td>\n",
       "      <td>1062</td>\n",
       "    </tr>\n",
       "    <tr>\n",
       "      <th>40</th>\n",
       "      <td>South Carolina</td>\n",
       "      <td>50%</td>\n",
       "      <td>543</td>\n",
       "      <td>521</td>\n",
       "      <td>1064</td>\n",
       "    </tr>\n",
       "    <tr>\n",
       "      <th>41</th>\n",
       "      <td>South Dakota</td>\n",
       "      <td>3%</td>\n",
       "      <td>612</td>\n",
       "      <td>603</td>\n",
       "      <td>1216</td>\n",
       "    </tr>\n",
       "    <tr>\n",
       "      <th>42</th>\n",
       "      <td>Tennessee</td>\n",
       "      <td>5%</td>\n",
       "      <td>623</td>\n",
       "      <td>604</td>\n",
       "      <td>1228</td>\n",
       "    </tr>\n",
       "    <tr>\n",
       "      <th>43</th>\n",
       "      <td>Texas</td>\n",
       "      <td>62%</td>\n",
       "      <td>513</td>\n",
       "      <td>507</td>\n",
       "      <td>1020</td>\n",
       "    </tr>\n",
       "    <tr>\n",
       "      <th>44</th>\n",
       "      <td>Utah</td>\n",
       "      <td>3%</td>\n",
       "      <td>624</td>\n",
       "      <td>614</td>\n",
       "      <td>1238</td>\n",
       "    </tr>\n",
       "    <tr>\n",
       "      <th>45</th>\n",
       "      <td>Vermont</td>\n",
       "      <td>60%</td>\n",
       "      <td>562</td>\n",
       "      <td>551</td>\n",
       "      <td>1114</td>\n",
       "    </tr>\n",
       "    <tr>\n",
       "      <th>46</th>\n",
       "      <td>Virginia</td>\n",
       "      <td>65%</td>\n",
       "      <td>561</td>\n",
       "      <td>541</td>\n",
       "      <td>1102</td>\n",
       "    </tr>\n",
       "    <tr>\n",
       "      <th>47</th>\n",
       "      <td>Washington</td>\n",
       "      <td>64%</td>\n",
       "      <td>541</td>\n",
       "      <td>534</td>\n",
       "      <td>1075</td>\n",
       "    </tr>\n",
       "    <tr>\n",
       "      <th>48</th>\n",
       "      <td>West Virginia</td>\n",
       "      <td>14%</td>\n",
       "      <td>558</td>\n",
       "      <td>528</td>\n",
       "      <td>1086</td>\n",
       "    </tr>\n",
       "    <tr>\n",
       "      <th>49</th>\n",
       "      <td>Wisconsin</td>\n",
       "      <td>3%</td>\n",
       "      <td>642</td>\n",
       "      <td>649</td>\n",
       "      <td>1291</td>\n",
       "    </tr>\n",
       "    <tr>\n",
       "      <th>50</th>\n",
       "      <td>Wyoming</td>\n",
       "      <td>3%</td>\n",
       "      <td>626</td>\n",
       "      <td>604</td>\n",
       "      <td>1230</td>\n",
       "    </tr>\n",
       "  </tbody>\n",
       "</table>\n",
       "</div>"
      ],
      "text/plain": [
       "                   State Participation  Evidence-Based Reading and Writing  \\\n",
       "0                Alabama            5%                                 593   \n",
       "1                 Alaska           38%                                 547   \n",
       "2                Arizona           30%                                 563   \n",
       "3               Arkansas            3%                                 614   \n",
       "4             California           53%                                 531   \n",
       "5               Colorado           11%                                 606   \n",
       "6            Connecticut          100%                                 530   \n",
       "7               Delaware          100%                                 503   \n",
       "8   District of Columbia          100%                                 482   \n",
       "9                Florida           83%                                 520   \n",
       "10               Georgia           61%                                 535   \n",
       "11                Hawaii           55%                                 544   \n",
       "12                 Idaho           93%                                 513   \n",
       "13              Illinois            9%                                 559   \n",
       "14               Indiana           63%                                 542   \n",
       "15                  Iowa            2%                                 641   \n",
       "16                Kansas            4%                                 632   \n",
       "17              Kentucky            4%                                 631   \n",
       "18             Louisiana            4%                                 611   \n",
       "19                 Maine           95%                                 513   \n",
       "20              Maryland           69%                                 536   \n",
       "21         Massachusetts           76%                                 555   \n",
       "22              Michigan          100%                                 509   \n",
       "23             Minnesota            3%                                 644   \n",
       "24           Mississippi            2%                                 634   \n",
       "25              Missouri            3%                                 640   \n",
       "26               Montana           10%                                 605   \n",
       "27              Nebraska            3%                                 629   \n",
       "28                Nevada           26%                                 563   \n",
       "29         New Hampshire           96%                                 532   \n",
       "30            New Jersey           70%                                 530   \n",
       "31            New Mexico           11%                                 577   \n",
       "32              New York           67%                                 528   \n",
       "33        North Carolina           49%                                 546   \n",
       "34          North Dakota            2%                                 635   \n",
       "35                  Ohio           12%                                 578   \n",
       "36              Oklahoma            7%                                 530   \n",
       "37                Oregon           43%                                 560   \n",
       "38          Pennsylvania           65%                                 540   \n",
       "39          Rhode Island           71%                                 539   \n",
       "40        South Carolina           50%                                 543   \n",
       "41          South Dakota            3%                                 612   \n",
       "42             Tennessee            5%                                 623   \n",
       "43                 Texas           62%                                 513   \n",
       "44                  Utah            3%                                 624   \n",
       "45               Vermont           60%                                 562   \n",
       "46              Virginia           65%                                 561   \n",
       "47            Washington           64%                                 541   \n",
       "48         West Virginia           14%                                 558   \n",
       "49             Wisconsin            3%                                 642   \n",
       "50               Wyoming            3%                                 626   \n",
       "\n",
       "    Math  Total  \n",
       "0    572   1165  \n",
       "1    533   1080  \n",
       "2    553   1116  \n",
       "3    594   1208  \n",
       "4    524   1055  \n",
       "5    595   1201  \n",
       "6    512   1041  \n",
       "7    492    996  \n",
       "8    468    950  \n",
       "9    497   1017  \n",
       "10   515   1050  \n",
       "11   541   1085  \n",
       "12   493   1005  \n",
       "13   556   1115  \n",
       "14   532   1074  \n",
       "15   635   1275  \n",
       "16   628   1260  \n",
       "17   616   1247  \n",
       "18   586   1198  \n",
       "19   499   1012  \n",
       "20   520   1060  \n",
       "21   551   1107  \n",
       "22   495   1005  \n",
       "23   651   1295  \n",
       "24   607   1242  \n",
       "25   631   1271  \n",
       "26   591   1196  \n",
       "27   625   1253  \n",
       "28   553   1116  \n",
       "29   520   1052  \n",
       "30   526   1056  \n",
       "31   561   1138  \n",
       "32   523   1052  \n",
       "33   535   1081  \n",
       "34   621   1256  \n",
       "35   570   1149  \n",
       "36   517   1047  \n",
       "37   548   1108  \n",
       "38   531   1071  \n",
       "39   524   1062  \n",
       "40   521   1064  \n",
       "41   603   1216  \n",
       "42   604   1228  \n",
       "43   507   1020  \n",
       "44   614   1238  \n",
       "45   551   1114  \n",
       "46   541   1102  \n",
       "47   534   1075  \n",
       "48   528   1086  \n",
       "49   649   1291  \n",
       "50   604   1230  "
      ]
     },
     "execution_count": 12,
     "metadata": {},
     "output_type": "execute_result"
    }
   ],
   "source": [
    "sat_17"
   ]
  },
  {
   "cell_type": "code",
   "execution_count": 13,
   "metadata": {
    "scrolled": false
   },
   "outputs": [
    {
     "data": {
      "text/html": [
       "<div>\n",
       "<style scoped>\n",
       "    .dataframe tbody tr th:only-of-type {\n",
       "        vertical-align: middle;\n",
       "    }\n",
       "\n",
       "    .dataframe tbody tr th {\n",
       "        vertical-align: top;\n",
       "    }\n",
       "\n",
       "    .dataframe thead th {\n",
       "        text-align: right;\n",
       "    }\n",
       "</style>\n",
       "<table border=\"1\" class=\"dataframe\">\n",
       "  <thead>\n",
       "    <tr style=\"text-align: right;\">\n",
       "      <th></th>\n",
       "      <th>State</th>\n",
       "      <th>Participation</th>\n",
       "      <th>English</th>\n",
       "      <th>Math</th>\n",
       "      <th>Reading</th>\n",
       "      <th>Science</th>\n",
       "      <th>Composite</th>\n",
       "    </tr>\n",
       "  </thead>\n",
       "  <tbody>\n",
       "    <tr>\n",
       "      <th>0</th>\n",
       "      <td>National</td>\n",
       "      <td>60%</td>\n",
       "      <td>20.3</td>\n",
       "      <td>20.7</td>\n",
       "      <td>21.4</td>\n",
       "      <td>21.0</td>\n",
       "      <td>21.0</td>\n",
       "    </tr>\n",
       "    <tr>\n",
       "      <th>1</th>\n",
       "      <td>Alabama</td>\n",
       "      <td>100%</td>\n",
       "      <td>18.9</td>\n",
       "      <td>18.4</td>\n",
       "      <td>19.7</td>\n",
       "      <td>19.4</td>\n",
       "      <td>19.2</td>\n",
       "    </tr>\n",
       "    <tr>\n",
       "      <th>2</th>\n",
       "      <td>Alaska</td>\n",
       "      <td>65%</td>\n",
       "      <td>18.7</td>\n",
       "      <td>19.8</td>\n",
       "      <td>20.4</td>\n",
       "      <td>19.9</td>\n",
       "      <td>19.8</td>\n",
       "    </tr>\n",
       "    <tr>\n",
       "      <th>3</th>\n",
       "      <td>Arizona</td>\n",
       "      <td>62%</td>\n",
       "      <td>18.6</td>\n",
       "      <td>19.8</td>\n",
       "      <td>20.1</td>\n",
       "      <td>19.8</td>\n",
       "      <td>19.7</td>\n",
       "    </tr>\n",
       "    <tr>\n",
       "      <th>4</th>\n",
       "      <td>Arkansas</td>\n",
       "      <td>100%</td>\n",
       "      <td>18.9</td>\n",
       "      <td>19.0</td>\n",
       "      <td>19.7</td>\n",
       "      <td>19.5</td>\n",
       "      <td>19.4</td>\n",
       "    </tr>\n",
       "    <tr>\n",
       "      <th>5</th>\n",
       "      <td>California</td>\n",
       "      <td>31%</td>\n",
       "      <td>22.5</td>\n",
       "      <td>22.7</td>\n",
       "      <td>23.1</td>\n",
       "      <td>22.2</td>\n",
       "      <td>22.8</td>\n",
       "    </tr>\n",
       "    <tr>\n",
       "      <th>6</th>\n",
       "      <td>Colorado</td>\n",
       "      <td>100%</td>\n",
       "      <td>20.1</td>\n",
       "      <td>20.3</td>\n",
       "      <td>21.2</td>\n",
       "      <td>20.9</td>\n",
       "      <td>20.8</td>\n",
       "    </tr>\n",
       "    <tr>\n",
       "      <th>7</th>\n",
       "      <td>Connecticut</td>\n",
       "      <td>31%</td>\n",
       "      <td>25.5</td>\n",
       "      <td>24.6</td>\n",
       "      <td>25.6</td>\n",
       "      <td>24.6</td>\n",
       "      <td>25.2</td>\n",
       "    </tr>\n",
       "    <tr>\n",
       "      <th>8</th>\n",
       "      <td>Delaware</td>\n",
       "      <td>18%</td>\n",
       "      <td>24.1</td>\n",
       "      <td>23.4</td>\n",
       "      <td>24.8</td>\n",
       "      <td>23.6</td>\n",
       "      <td>24.1</td>\n",
       "    </tr>\n",
       "    <tr>\n",
       "      <th>9</th>\n",
       "      <td>District of Columbia</td>\n",
       "      <td>32%</td>\n",
       "      <td>24.4</td>\n",
       "      <td>23.5</td>\n",
       "      <td>24.9</td>\n",
       "      <td>23.5</td>\n",
       "      <td>24.2</td>\n",
       "    </tr>\n",
       "    <tr>\n",
       "      <th>10</th>\n",
       "      <td>Florida</td>\n",
       "      <td>73%</td>\n",
       "      <td>19.0</td>\n",
       "      <td>19.4</td>\n",
       "      <td>21.0</td>\n",
       "      <td>19.4</td>\n",
       "      <td>19.8</td>\n",
       "    </tr>\n",
       "    <tr>\n",
       "      <th>11</th>\n",
       "      <td>Georgia</td>\n",
       "      <td>55%</td>\n",
       "      <td>21.0</td>\n",
       "      <td>20.9</td>\n",
       "      <td>22.0</td>\n",
       "      <td>21.3</td>\n",
       "      <td>21.4</td>\n",
       "    </tr>\n",
       "    <tr>\n",
       "      <th>12</th>\n",
       "      <td>Hawaii</td>\n",
       "      <td>90%</td>\n",
       "      <td>17.8</td>\n",
       "      <td>19.2</td>\n",
       "      <td>19.2</td>\n",
       "      <td>19.3</td>\n",
       "      <td>19.0</td>\n",
       "    </tr>\n",
       "    <tr>\n",
       "      <th>13</th>\n",
       "      <td>Idaho</td>\n",
       "      <td>38%</td>\n",
       "      <td>21.9</td>\n",
       "      <td>21.8</td>\n",
       "      <td>23.0</td>\n",
       "      <td>22.1</td>\n",
       "      <td>22.3</td>\n",
       "    </tr>\n",
       "    <tr>\n",
       "      <th>14</th>\n",
       "      <td>Illinois</td>\n",
       "      <td>93%</td>\n",
       "      <td>21.0</td>\n",
       "      <td>21.2</td>\n",
       "      <td>21.6</td>\n",
       "      <td>21.3</td>\n",
       "      <td>21.4</td>\n",
       "    </tr>\n",
       "    <tr>\n",
       "      <th>15</th>\n",
       "      <td>Indiana</td>\n",
       "      <td>35%</td>\n",
       "      <td>22.0</td>\n",
       "      <td>22.4</td>\n",
       "      <td>23.2</td>\n",
       "      <td>22.3</td>\n",
       "      <td>22.6</td>\n",
       "    </tr>\n",
       "    <tr>\n",
       "      <th>16</th>\n",
       "      <td>Iowa</td>\n",
       "      <td>67%</td>\n",
       "      <td>21.2</td>\n",
       "      <td>21.3</td>\n",
       "      <td>22.6</td>\n",
       "      <td>22.1</td>\n",
       "      <td>21.9</td>\n",
       "    </tr>\n",
       "    <tr>\n",
       "      <th>17</th>\n",
       "      <td>Kansas</td>\n",
       "      <td>73%</td>\n",
       "      <td>21.1</td>\n",
       "      <td>21.3</td>\n",
       "      <td>22.3</td>\n",
       "      <td>21.7</td>\n",
       "      <td>21.7</td>\n",
       "    </tr>\n",
       "    <tr>\n",
       "      <th>18</th>\n",
       "      <td>Kentucky</td>\n",
       "      <td>100%</td>\n",
       "      <td>19.6</td>\n",
       "      <td>19.4</td>\n",
       "      <td>20.5</td>\n",
       "      <td>20.1</td>\n",
       "      <td>20.0</td>\n",
       "    </tr>\n",
       "    <tr>\n",
       "      <th>19</th>\n",
       "      <td>Louisiana</td>\n",
       "      <td>100%</td>\n",
       "      <td>19.4</td>\n",
       "      <td>18.8</td>\n",
       "      <td>19.8</td>\n",
       "      <td>19.6</td>\n",
       "      <td>19.5</td>\n",
       "    </tr>\n",
       "    <tr>\n",
       "      <th>20</th>\n",
       "      <td>Maine</td>\n",
       "      <td>8%</td>\n",
       "      <td>24.2</td>\n",
       "      <td>24.0</td>\n",
       "      <td>24.8</td>\n",
       "      <td>23.7</td>\n",
       "      <td>24.3</td>\n",
       "    </tr>\n",
       "    <tr>\n",
       "      <th>21</th>\n",
       "      <td>Maryland</td>\n",
       "      <td>28%</td>\n",
       "      <td>23.3</td>\n",
       "      <td>23.1</td>\n",
       "      <td>24.2</td>\n",
       "      <td>23.2</td>\n",
       "      <td>23.6</td>\n",
       "    </tr>\n",
       "    <tr>\n",
       "      <th>22</th>\n",
       "      <td>Massachusetts</td>\n",
       "      <td>29%</td>\n",
       "      <td>25.4</td>\n",
       "      <td>25.3</td>\n",
       "      <td>25.9</td>\n",
       "      <td>24.7</td>\n",
       "      <td>25.4</td>\n",
       "    </tr>\n",
       "    <tr>\n",
       "      <th>23</th>\n",
       "      <td>Michigan</td>\n",
       "      <td>29%</td>\n",
       "      <td>24.1</td>\n",
       "      <td>23.7</td>\n",
       "      <td>24.5</td>\n",
       "      <td>23.8</td>\n",
       "      <td>24.1</td>\n",
       "    </tr>\n",
       "    <tr>\n",
       "      <th>24</th>\n",
       "      <td>Minnesota</td>\n",
       "      <td>100%</td>\n",
       "      <td>20.4</td>\n",
       "      <td>21.5</td>\n",
       "      <td>21.8</td>\n",
       "      <td>21.6</td>\n",
       "      <td>21.5</td>\n",
       "    </tr>\n",
       "    <tr>\n",
       "      <th>25</th>\n",
       "      <td>Mississippi</td>\n",
       "      <td>100%</td>\n",
       "      <td>18.2</td>\n",
       "      <td>18.1</td>\n",
       "      <td>18.8</td>\n",
       "      <td>18.8</td>\n",
       "      <td>18.6</td>\n",
       "    </tr>\n",
       "    <tr>\n",
       "      <th>26</th>\n",
       "      <td>Missouri</td>\n",
       "      <td>100%</td>\n",
       "      <td>19.8</td>\n",
       "      <td>19.9</td>\n",
       "      <td>20.8</td>\n",
       "      <td>20.5</td>\n",
       "      <td>20.4</td>\n",
       "    </tr>\n",
       "    <tr>\n",
       "      <th>27</th>\n",
       "      <td>Montana</td>\n",
       "      <td>100%</td>\n",
       "      <td>19.0</td>\n",
       "      <td>20.2</td>\n",
       "      <td>21.0</td>\n",
       "      <td>20.5</td>\n",
       "      <td>20.3</td>\n",
       "    </tr>\n",
       "    <tr>\n",
       "      <th>28</th>\n",
       "      <td>Nebraska</td>\n",
       "      <td>84%</td>\n",
       "      <td>20.9</td>\n",
       "      <td>20.9</td>\n",
       "      <td>21.9</td>\n",
       "      <td>21.5</td>\n",
       "      <td>21.4</td>\n",
       "    </tr>\n",
       "    <tr>\n",
       "      <th>29</th>\n",
       "      <td>Nevada</td>\n",
       "      <td>100%</td>\n",
       "      <td>16.3</td>\n",
       "      <td>18.0</td>\n",
       "      <td>18.1</td>\n",
       "      <td>18.2</td>\n",
       "      <td>17.8</td>\n",
       "    </tr>\n",
       "    <tr>\n",
       "      <th>30</th>\n",
       "      <td>New Hampshire</td>\n",
       "      <td>18%</td>\n",
       "      <td>25.4</td>\n",
       "      <td>25.1</td>\n",
       "      <td>26.0</td>\n",
       "      <td>24.9</td>\n",
       "      <td>25.5</td>\n",
       "    </tr>\n",
       "    <tr>\n",
       "      <th>31</th>\n",
       "      <td>New Jersey</td>\n",
       "      <td>34%</td>\n",
       "      <td>23.8</td>\n",
       "      <td>23.8</td>\n",
       "      <td>24.1</td>\n",
       "      <td>23.2</td>\n",
       "      <td>23.9</td>\n",
       "    </tr>\n",
       "    <tr>\n",
       "      <th>32</th>\n",
       "      <td>New Mexico</td>\n",
       "      <td>66%</td>\n",
       "      <td>18.6</td>\n",
       "      <td>19.4</td>\n",
       "      <td>20.4</td>\n",
       "      <td>20.0</td>\n",
       "      <td>19.7</td>\n",
       "    </tr>\n",
       "    <tr>\n",
       "      <th>33</th>\n",
       "      <td>New York</td>\n",
       "      <td>31%</td>\n",
       "      <td>23.8</td>\n",
       "      <td>24.0</td>\n",
       "      <td>24.6</td>\n",
       "      <td>23.9</td>\n",
       "      <td>24.2</td>\n",
       "    </tr>\n",
       "    <tr>\n",
       "      <th>34</th>\n",
       "      <td>North Carolina</td>\n",
       "      <td>100%</td>\n",
       "      <td>17.8</td>\n",
       "      <td>19.3</td>\n",
       "      <td>19.6</td>\n",
       "      <td>19.3</td>\n",
       "      <td>19.1</td>\n",
       "    </tr>\n",
       "    <tr>\n",
       "      <th>35</th>\n",
       "      <td>North Dakota</td>\n",
       "      <td>98%</td>\n",
       "      <td>19.0</td>\n",
       "      <td>20.4</td>\n",
       "      <td>20.5</td>\n",
       "      <td>20.6</td>\n",
       "      <td>20.3</td>\n",
       "    </tr>\n",
       "    <tr>\n",
       "      <th>36</th>\n",
       "      <td>Ohio</td>\n",
       "      <td>75%</td>\n",
       "      <td>21.2</td>\n",
       "      <td>21.6</td>\n",
       "      <td>22.5</td>\n",
       "      <td>22.0</td>\n",
       "      <td>22.0</td>\n",
       "    </tr>\n",
       "    <tr>\n",
       "      <th>37</th>\n",
       "      <td>Oklahoma</td>\n",
       "      <td>100%</td>\n",
       "      <td>18.5</td>\n",
       "      <td>18.8</td>\n",
       "      <td>20.1</td>\n",
       "      <td>19.6</td>\n",
       "      <td>19.4</td>\n",
       "    </tr>\n",
       "    <tr>\n",
       "      <th>38</th>\n",
       "      <td>Oregon</td>\n",
       "      <td>40%</td>\n",
       "      <td>21.2</td>\n",
       "      <td>21.5</td>\n",
       "      <td>22.4</td>\n",
       "      <td>21.7</td>\n",
       "      <td>21.8</td>\n",
       "    </tr>\n",
       "    <tr>\n",
       "      <th>39</th>\n",
       "      <td>Pennsylvania</td>\n",
       "      <td>23%</td>\n",
       "      <td>23.4</td>\n",
       "      <td>23.4</td>\n",
       "      <td>24.2</td>\n",
       "      <td>23.3</td>\n",
       "      <td>23.7</td>\n",
       "    </tr>\n",
       "    <tr>\n",
       "      <th>40</th>\n",
       "      <td>Rhode Island</td>\n",
       "      <td>21%</td>\n",
       "      <td>24.0</td>\n",
       "      <td>23.3</td>\n",
       "      <td>24.7</td>\n",
       "      <td>23.4</td>\n",
       "      <td>24.0</td>\n",
       "    </tr>\n",
       "    <tr>\n",
       "      <th>41</th>\n",
       "      <td>South Carolina</td>\n",
       "      <td>100%</td>\n",
       "      <td>17.5</td>\n",
       "      <td>18.6</td>\n",
       "      <td>19.1</td>\n",
       "      <td>18.9</td>\n",
       "      <td>18.7</td>\n",
       "    </tr>\n",
       "    <tr>\n",
       "      <th>42</th>\n",
       "      <td>South Dakota</td>\n",
       "      <td>80%</td>\n",
       "      <td>20.7</td>\n",
       "      <td>21.5</td>\n",
       "      <td>22.3</td>\n",
       "      <td>22.0</td>\n",
       "      <td>21.8</td>\n",
       "    </tr>\n",
       "    <tr>\n",
       "      <th>43</th>\n",
       "      <td>Tennessee</td>\n",
       "      <td>100%</td>\n",
       "      <td>19.5</td>\n",
       "      <td>19.2</td>\n",
       "      <td>20.1</td>\n",
       "      <td>19.9</td>\n",
       "      <td>19.8</td>\n",
       "    </tr>\n",
       "    <tr>\n",
       "      <th>44</th>\n",
       "      <td>Texas</td>\n",
       "      <td>45%</td>\n",
       "      <td>19.5</td>\n",
       "      <td>20.7</td>\n",
       "      <td>21.1</td>\n",
       "      <td>20.9</td>\n",
       "      <td>20.7</td>\n",
       "    </tr>\n",
       "    <tr>\n",
       "      <th>45</th>\n",
       "      <td>Utah</td>\n",
       "      <td>100%</td>\n",
       "      <td>19.5</td>\n",
       "      <td>19.9</td>\n",
       "      <td>20.8</td>\n",
       "      <td>20.6</td>\n",
       "      <td>20.3</td>\n",
       "    </tr>\n",
       "    <tr>\n",
       "      <th>46</th>\n",
       "      <td>Vermont</td>\n",
       "      <td>29%</td>\n",
       "      <td>23.3</td>\n",
       "      <td>23.1</td>\n",
       "      <td>24.4</td>\n",
       "      <td>23.2</td>\n",
       "      <td>23.6</td>\n",
       "    </tr>\n",
       "    <tr>\n",
       "      <th>47</th>\n",
       "      <td>Virginia</td>\n",
       "      <td>29%</td>\n",
       "      <td>23.5</td>\n",
       "      <td>23.3</td>\n",
       "      <td>24.6</td>\n",
       "      <td>23.5</td>\n",
       "      <td>23.8</td>\n",
       "    </tr>\n",
       "    <tr>\n",
       "      <th>48</th>\n",
       "      <td>Washington</td>\n",
       "      <td>29%</td>\n",
       "      <td>20.9</td>\n",
       "      <td>21.9</td>\n",
       "      <td>22.1</td>\n",
       "      <td>22.0</td>\n",
       "      <td>21.9</td>\n",
       "    </tr>\n",
       "    <tr>\n",
       "      <th>49</th>\n",
       "      <td>West Virginia</td>\n",
       "      <td>69%</td>\n",
       "      <td>20.0</td>\n",
       "      <td>19.4</td>\n",
       "      <td>21.2</td>\n",
       "      <td>20.5</td>\n",
       "      <td>20.4</td>\n",
       "    </tr>\n",
       "    <tr>\n",
       "      <th>50</th>\n",
       "      <td>Wisconsin</td>\n",
       "      <td>100%</td>\n",
       "      <td>19.7</td>\n",
       "      <td>20.4</td>\n",
       "      <td>20.6</td>\n",
       "      <td>20.9</td>\n",
       "      <td>20.5</td>\n",
       "    </tr>\n",
       "    <tr>\n",
       "      <th>51</th>\n",
       "      <td>Wyoming</td>\n",
       "      <td>100%</td>\n",
       "      <td>19.4</td>\n",
       "      <td>19.8</td>\n",
       "      <td>20.8</td>\n",
       "      <td>20.6</td>\n",
       "      <td>20.2x</td>\n",
       "    </tr>\n",
       "  </tbody>\n",
       "</table>\n",
       "</div>"
      ],
      "text/plain": [
       "                   State Participation  English  Math  Reading  Science  \\\n",
       "0               National           60%     20.3  20.7     21.4     21.0   \n",
       "1                Alabama          100%     18.9  18.4     19.7     19.4   \n",
       "2                 Alaska           65%     18.7  19.8     20.4     19.9   \n",
       "3                Arizona           62%     18.6  19.8     20.1     19.8   \n",
       "4               Arkansas          100%     18.9  19.0     19.7     19.5   \n",
       "5             California           31%     22.5  22.7     23.1     22.2   \n",
       "6               Colorado          100%     20.1  20.3     21.2     20.9   \n",
       "7            Connecticut           31%     25.5  24.6     25.6     24.6   \n",
       "8               Delaware           18%     24.1  23.4     24.8     23.6   \n",
       "9   District of Columbia           32%     24.4  23.5     24.9     23.5   \n",
       "10               Florida           73%     19.0  19.4     21.0     19.4   \n",
       "11               Georgia           55%     21.0  20.9     22.0     21.3   \n",
       "12                Hawaii           90%     17.8  19.2     19.2     19.3   \n",
       "13                 Idaho           38%     21.9  21.8     23.0     22.1   \n",
       "14              Illinois           93%     21.0  21.2     21.6     21.3   \n",
       "15               Indiana           35%     22.0  22.4     23.2     22.3   \n",
       "16                  Iowa           67%     21.2  21.3     22.6     22.1   \n",
       "17                Kansas           73%     21.1  21.3     22.3     21.7   \n",
       "18              Kentucky          100%     19.6  19.4     20.5     20.1   \n",
       "19             Louisiana          100%     19.4  18.8     19.8     19.6   \n",
       "20                 Maine            8%     24.2  24.0     24.8     23.7   \n",
       "21              Maryland           28%     23.3  23.1     24.2     23.2   \n",
       "22         Massachusetts           29%     25.4  25.3     25.9     24.7   \n",
       "23              Michigan           29%     24.1  23.7     24.5     23.8   \n",
       "24             Minnesota          100%     20.4  21.5     21.8     21.6   \n",
       "25           Mississippi          100%     18.2  18.1     18.8     18.8   \n",
       "26              Missouri          100%     19.8  19.9     20.8     20.5   \n",
       "27               Montana          100%     19.0  20.2     21.0     20.5   \n",
       "28              Nebraska           84%     20.9  20.9     21.9     21.5   \n",
       "29                Nevada          100%     16.3  18.0     18.1     18.2   \n",
       "30         New Hampshire           18%     25.4  25.1     26.0     24.9   \n",
       "31            New Jersey           34%     23.8  23.8     24.1     23.2   \n",
       "32            New Mexico           66%     18.6  19.4     20.4     20.0   \n",
       "33              New York           31%     23.8  24.0     24.6     23.9   \n",
       "34        North Carolina          100%     17.8  19.3     19.6     19.3   \n",
       "35          North Dakota           98%     19.0  20.4     20.5     20.6   \n",
       "36                  Ohio           75%     21.2  21.6     22.5     22.0   \n",
       "37              Oklahoma          100%     18.5  18.8     20.1     19.6   \n",
       "38                Oregon           40%     21.2  21.5     22.4     21.7   \n",
       "39          Pennsylvania           23%     23.4  23.4     24.2     23.3   \n",
       "40          Rhode Island           21%     24.0  23.3     24.7     23.4   \n",
       "41        South Carolina          100%     17.5  18.6     19.1     18.9   \n",
       "42          South Dakota           80%     20.7  21.5     22.3     22.0   \n",
       "43             Tennessee          100%     19.5  19.2     20.1     19.9   \n",
       "44                 Texas           45%     19.5  20.7     21.1     20.9   \n",
       "45                  Utah          100%     19.5  19.9     20.8     20.6   \n",
       "46               Vermont           29%     23.3  23.1     24.4     23.2   \n",
       "47              Virginia           29%     23.5  23.3     24.6     23.5   \n",
       "48            Washington           29%     20.9  21.9     22.1     22.0   \n",
       "49         West Virginia           69%     20.0  19.4     21.2     20.5   \n",
       "50             Wisconsin          100%     19.7  20.4     20.6     20.9   \n",
       "51               Wyoming          100%     19.4  19.8     20.8     20.6   \n",
       "\n",
       "   Composite  \n",
       "0       21.0  \n",
       "1       19.2  \n",
       "2       19.8  \n",
       "3       19.7  \n",
       "4       19.4  \n",
       "5       22.8  \n",
       "6       20.8  \n",
       "7       25.2  \n",
       "8       24.1  \n",
       "9       24.2  \n",
       "10      19.8  \n",
       "11      21.4  \n",
       "12      19.0  \n",
       "13      22.3  \n",
       "14      21.4  \n",
       "15      22.6  \n",
       "16      21.9  \n",
       "17      21.7  \n",
       "18      20.0  \n",
       "19      19.5  \n",
       "20      24.3  \n",
       "21      23.6  \n",
       "22      25.4  \n",
       "23      24.1  \n",
       "24      21.5  \n",
       "25      18.6  \n",
       "26      20.4  \n",
       "27      20.3  \n",
       "28      21.4  \n",
       "29      17.8  \n",
       "30      25.5  \n",
       "31      23.9  \n",
       "32      19.7  \n",
       "33      24.2  \n",
       "34      19.1  \n",
       "35      20.3  \n",
       "36      22.0  \n",
       "37      19.4  \n",
       "38      21.8  \n",
       "39      23.7  \n",
       "40      24.0  \n",
       "41      18.7  \n",
       "42      21.8  \n",
       "43      19.8  \n",
       "44      20.7  \n",
       "45      20.3  \n",
       "46      23.6  \n",
       "47      23.8  \n",
       "48      21.9  \n",
       "49      20.4  \n",
       "50      20.5  \n",
       "51     20.2x  "
      ]
     },
     "execution_count": 13,
     "metadata": {},
     "output_type": "execute_result"
    }
   ],
   "source": [
    "act_17"
   ]
  },
  {
   "cell_type": "markdown",
   "metadata": {},
   "source": [
    "#### 5. What are your data types? \n",
    "Display the data types of each feature. "
   ]
  },
  {
   "cell_type": "code",
   "execution_count": 14,
   "metadata": {
    "scrolled": true
   },
   "outputs": [
    {
     "data": {
      "text/plain": [
       "State             object\n",
       "Participation     object\n",
       "English          float64\n",
       "Math             float64\n",
       "Reading          float64\n",
       "Science          float64\n",
       "Composite         object\n",
       "dtype: object"
      ]
     },
     "execution_count": 14,
     "metadata": {},
     "output_type": "execute_result"
    }
   ],
   "source": [
    "#code\n",
    "act_17.dtypes"
   ]
  },
  {
   "cell_type": "code",
   "execution_count": 15,
   "metadata": {},
   "outputs": [
    {
     "data": {
      "text/plain": [
       "State                                 object\n",
       "Participation                         object\n",
       "Evidence-Based Reading and Writing     int64\n",
       "Math                                   int64\n",
       "Total                                  int64\n",
       "dtype: object"
      ]
     },
     "execution_count": 15,
     "metadata": {},
     "output_type": "execute_result"
    }
   ],
   "source": [
    "sat_17.dtypes"
   ]
  },
  {
   "cell_type": "markdown",
   "metadata": {},
   "source": [
    "What did you learn?\n",
    "- Do any of them seem odd?  \n",
    "- Which ones are not as they should be?  "
   ]
  },
  {
   "cell_type": "markdown",
   "metadata": {},
   "source": [
    "Answer:\n",
    "- All columns tend to hold numbers, therefore should not be an object-type for comparison\n",
    "- Participation rates should be data type float\n",
    "- Composite should convert to float. \n"
   ]
  },
  {
   "cell_type": "markdown",
   "metadata": {},
   "source": [
    "#### 6. Fix Incorrect Data Types\n",
    "Based on what you discovered above, use appropriate methods to re-type incorrectly typed data.\n",
    "- Define a function that will allow you to convert participation rates to an appropriate numeric type. Use `map` or `apply` to change these columns in each dataframe."
   ]
  },
  {
   "cell_type": "code",
   "execution_count": 16,
   "metadata": {},
   "outputs": [
    {
     "data": {
      "text/html": [
       "<div>\n",
       "<style scoped>\n",
       "    .dataframe tbody tr th:only-of-type {\n",
       "        vertical-align: middle;\n",
       "    }\n",
       "\n",
       "    .dataframe tbody tr th {\n",
       "        vertical-align: top;\n",
       "    }\n",
       "\n",
       "    .dataframe thead th {\n",
       "        text-align: right;\n",
       "    }\n",
       "</style>\n",
       "<table border=\"1\" class=\"dataframe\">\n",
       "  <thead>\n",
       "    <tr style=\"text-align: right;\">\n",
       "      <th></th>\n",
       "      <th>State</th>\n",
       "      <th>Participation</th>\n",
       "      <th>Evidence-Based Reading and Writing</th>\n",
       "      <th>Math</th>\n",
       "      <th>Total</th>\n",
       "    </tr>\n",
       "  </thead>\n",
       "  <tbody>\n",
       "    <tr>\n",
       "      <th>0</th>\n",
       "      <td>Alabama</td>\n",
       "      <td>5%</td>\n",
       "      <td>593</td>\n",
       "      <td>572</td>\n",
       "      <td>1165</td>\n",
       "    </tr>\n",
       "    <tr>\n",
       "      <th>1</th>\n",
       "      <td>Alaska</td>\n",
       "      <td>38%</td>\n",
       "      <td>547</td>\n",
       "      <td>533</td>\n",
       "      <td>1080</td>\n",
       "    </tr>\n",
       "    <tr>\n",
       "      <th>2</th>\n",
       "      <td>Arizona</td>\n",
       "      <td>30%</td>\n",
       "      <td>563</td>\n",
       "      <td>553</td>\n",
       "      <td>1116</td>\n",
       "    </tr>\n",
       "    <tr>\n",
       "      <th>3</th>\n",
       "      <td>Arkansas</td>\n",
       "      <td>3%</td>\n",
       "      <td>614</td>\n",
       "      <td>594</td>\n",
       "      <td>1208</td>\n",
       "    </tr>\n",
       "    <tr>\n",
       "      <th>4</th>\n",
       "      <td>California</td>\n",
       "      <td>53%</td>\n",
       "      <td>531</td>\n",
       "      <td>524</td>\n",
       "      <td>1055</td>\n",
       "    </tr>\n",
       "  </tbody>\n",
       "</table>\n",
       "</div>"
      ],
      "text/plain": [
       "        State Participation  Evidence-Based Reading and Writing  Math  Total\n",
       "0     Alabama            5%                                 593   572   1165\n",
       "1      Alaska           38%                                 547   533   1080\n",
       "2     Arizona           30%                                 563   553   1116\n",
       "3    Arkansas            3%                                 614   594   1208\n",
       "4  California           53%                                 531   524   1055"
      ]
     },
     "execution_count": 16,
     "metadata": {},
     "output_type": "execute_result"
    }
   ],
   "source": [
    "sat_17.head()"
   ]
  },
  {
   "cell_type": "code",
   "execution_count": 17,
   "metadata": {
    "scrolled": false
   },
   "outputs": [],
   "source": [
    "#code\n",
    "def change_type(part):\n",
    "        part = part.replace('%','')\n",
    "        return float(part)\n",
    "    "
   ]
  },
  {
   "cell_type": "code",
   "execution_count": 18,
   "metadata": {},
   "outputs": [
    {
     "data": {
      "text/html": [
       "<div>\n",
       "<style scoped>\n",
       "    .dataframe tbody tr th:only-of-type {\n",
       "        vertical-align: middle;\n",
       "    }\n",
       "\n",
       "    .dataframe tbody tr th {\n",
       "        vertical-align: top;\n",
       "    }\n",
       "\n",
       "    .dataframe thead th {\n",
       "        text-align: right;\n",
       "    }\n",
       "</style>\n",
       "<table border=\"1\" class=\"dataframe\">\n",
       "  <thead>\n",
       "    <tr style=\"text-align: right;\">\n",
       "      <th></th>\n",
       "      <th>State</th>\n",
       "      <th>Participation</th>\n",
       "      <th>Evidence-Based Reading and Writing</th>\n",
       "      <th>Math</th>\n",
       "      <th>Total</th>\n",
       "    </tr>\n",
       "  </thead>\n",
       "  <tbody>\n",
       "    <tr>\n",
       "      <th>0</th>\n",
       "      <td>Alabama</td>\n",
       "      <td>5%</td>\n",
       "      <td>593</td>\n",
       "      <td>572</td>\n",
       "      <td>1165</td>\n",
       "    </tr>\n",
       "    <tr>\n",
       "      <th>1</th>\n",
       "      <td>Alaska</td>\n",
       "      <td>38%</td>\n",
       "      <td>547</td>\n",
       "      <td>533</td>\n",
       "      <td>1080</td>\n",
       "    </tr>\n",
       "    <tr>\n",
       "      <th>2</th>\n",
       "      <td>Arizona</td>\n",
       "      <td>30%</td>\n",
       "      <td>563</td>\n",
       "      <td>553</td>\n",
       "      <td>1116</td>\n",
       "    </tr>\n",
       "    <tr>\n",
       "      <th>3</th>\n",
       "      <td>Arkansas</td>\n",
       "      <td>3%</td>\n",
       "      <td>614</td>\n",
       "      <td>594</td>\n",
       "      <td>1208</td>\n",
       "    </tr>\n",
       "    <tr>\n",
       "      <th>4</th>\n",
       "      <td>California</td>\n",
       "      <td>53%</td>\n",
       "      <td>531</td>\n",
       "      <td>524</td>\n",
       "      <td>1055</td>\n",
       "    </tr>\n",
       "  </tbody>\n",
       "</table>\n",
       "</div>"
      ],
      "text/plain": [
       "        State Participation  Evidence-Based Reading and Writing  Math  Total\n",
       "0     Alabama            5%                                 593   572   1165\n",
       "1      Alaska           38%                                 547   533   1080\n",
       "2     Arizona           30%                                 563   553   1116\n",
       "3    Arkansas            3%                                 614   594   1208\n",
       "4  California           53%                                 531   524   1055"
      ]
     },
     "execution_count": 18,
     "metadata": {},
     "output_type": "execute_result"
    }
   ],
   "source": [
    "sat_17.head()"
   ]
  },
  {
   "cell_type": "code",
   "execution_count": 19,
   "metadata": {
    "scrolled": true
   },
   "outputs": [],
   "source": [
    "sat_17['Participation']=sat_17['Participation'].map(change_type)"
   ]
  },
  {
   "cell_type": "code",
   "execution_count": 20,
   "metadata": {},
   "outputs": [
    {
     "data": {
      "text/html": [
       "<div>\n",
       "<style scoped>\n",
       "    .dataframe tbody tr th:only-of-type {\n",
       "        vertical-align: middle;\n",
       "    }\n",
       "\n",
       "    .dataframe tbody tr th {\n",
       "        vertical-align: top;\n",
       "    }\n",
       "\n",
       "    .dataframe thead th {\n",
       "        text-align: right;\n",
       "    }\n",
       "</style>\n",
       "<table border=\"1\" class=\"dataframe\">\n",
       "  <thead>\n",
       "    <tr style=\"text-align: right;\">\n",
       "      <th></th>\n",
       "      <th>State</th>\n",
       "      <th>Participation</th>\n",
       "      <th>Evidence-Based Reading and Writing</th>\n",
       "      <th>Math</th>\n",
       "      <th>Total</th>\n",
       "    </tr>\n",
       "  </thead>\n",
       "  <tbody>\n",
       "    <tr>\n",
       "      <th>0</th>\n",
       "      <td>Alabama</td>\n",
       "      <td>5.0</td>\n",
       "      <td>593</td>\n",
       "      <td>572</td>\n",
       "      <td>1165</td>\n",
       "    </tr>\n",
       "    <tr>\n",
       "      <th>1</th>\n",
       "      <td>Alaska</td>\n",
       "      <td>38.0</td>\n",
       "      <td>547</td>\n",
       "      <td>533</td>\n",
       "      <td>1080</td>\n",
       "    </tr>\n",
       "    <tr>\n",
       "      <th>2</th>\n",
       "      <td>Arizona</td>\n",
       "      <td>30.0</td>\n",
       "      <td>563</td>\n",
       "      <td>553</td>\n",
       "      <td>1116</td>\n",
       "    </tr>\n",
       "    <tr>\n",
       "      <th>3</th>\n",
       "      <td>Arkansas</td>\n",
       "      <td>3.0</td>\n",
       "      <td>614</td>\n",
       "      <td>594</td>\n",
       "      <td>1208</td>\n",
       "    </tr>\n",
       "    <tr>\n",
       "      <th>4</th>\n",
       "      <td>California</td>\n",
       "      <td>53.0</td>\n",
       "      <td>531</td>\n",
       "      <td>524</td>\n",
       "      <td>1055</td>\n",
       "    </tr>\n",
       "  </tbody>\n",
       "</table>\n",
       "</div>"
      ],
      "text/plain": [
       "        State  Participation  Evidence-Based Reading and Writing  Math  Total\n",
       "0     Alabama            5.0                                 593   572   1165\n",
       "1      Alaska           38.0                                 547   533   1080\n",
       "2     Arizona           30.0                                 563   553   1116\n",
       "3    Arkansas            3.0                                 614   594   1208\n",
       "4  California           53.0                                 531   524   1055"
      ]
     },
     "execution_count": 20,
     "metadata": {},
     "output_type": "execute_result"
    }
   ],
   "source": [
    "sat_17.head()"
   ]
  },
  {
   "cell_type": "code",
   "execution_count": 21,
   "metadata": {},
   "outputs": [],
   "source": [
    "act_17['Participation']=act_17['Participation'].map(change_type)"
   ]
  },
  {
   "cell_type": "code",
   "execution_count": 22,
   "metadata": {},
   "outputs": [],
   "source": [
    "#act_17['Composite']=act_17['Composite'].astype(float)\n",
    "#ValueError could not convert string to float: '20.2x'"
   ]
  },
  {
   "cell_type": "markdown",
   "metadata": {},
   "source": [
    "- Fix any individual values preventing other columns from being the appropriate type."
   ]
  },
  {
   "cell_type": "markdown",
   "metadata": {},
   "source": [
    "`Act_17 Composite has score of 20.2x which stops conversion to float`"
   ]
  },
  {
   "cell_type": "code",
   "execution_count": 23,
   "metadata": {},
   "outputs": [
    {
     "name": "stderr",
     "output_type": "stream",
     "text": [
      "<ipython-input-23-d3f45d47f640>:2: SettingWithCopyWarning: \n",
      "A value is trying to be set on a copy of a slice from a DataFrame\n",
      "\n",
      "See the caveats in the documentation: https://pandas.pydata.org/pandas-docs/stable/user_guide/indexing.html#returning-a-view-versus-a-copy\n",
      "  act_17['Composite'][51] = 20.2\n"
     ]
    }
   ],
   "source": [
    "#remove x from wyoming\n",
    "act_17['Composite'][51] = 20.2"
   ]
  },
  {
   "cell_type": "code",
   "execution_count": 24,
   "metadata": {
    "scrolled": false
   },
   "outputs": [
    {
     "data": {
      "text/plain": [
       "47    23.8\n",
       "48    21.9\n",
       "49    20.4\n",
       "50    20.5\n",
       "51    20.2\n",
       "Name: Composite, dtype: object"
      ]
     },
     "execution_count": 24,
     "metadata": {},
     "output_type": "execute_result"
    }
   ],
   "source": [
    "act_17['Composite'].tail()"
   ]
  },
  {
   "cell_type": "code",
   "execution_count": 25,
   "metadata": {},
   "outputs": [],
   "source": [
    "act_17['Composite']=act_17['Composite'].astype(float)"
   ]
  },
  {
   "cell_type": "markdown",
   "metadata": {},
   "source": [
    "- Finish your data modifications by making sure the columns are now typed appropriately."
   ]
  },
  {
   "cell_type": "code",
   "execution_count": 26,
   "metadata": {},
   "outputs": [
    {
     "data": {
      "text/plain": [
       "State             object\n",
       "Participation    float64\n",
       "English          float64\n",
       "Math             float64\n",
       "Reading          float64\n",
       "Science          float64\n",
       "Composite        float64\n",
       "dtype: object"
      ]
     },
     "execution_count": 26,
     "metadata": {},
     "output_type": "execute_result"
    }
   ],
   "source": [
    "act_17.dtypes"
   ]
  },
  {
   "cell_type": "markdown",
   "metadata": {},
   "source": [
    "- Display the data types again to confirm they are correct."
   ]
  },
  {
   "cell_type": "code",
   "execution_count": 27,
   "metadata": {},
   "outputs": [
    {
     "data": {
      "text/plain": [
       "State                                  object\n",
       "Participation                         float64\n",
       "Evidence-Based Reading and Writing      int64\n",
       "Math                                    int64\n",
       "Total                                   int64\n",
       "dtype: object"
      ]
     },
     "execution_count": 27,
     "metadata": {},
     "output_type": "execute_result"
    }
   ],
   "source": [
    "sat_17.dtypes"
   ]
  },
  {
   "cell_type": "code",
   "execution_count": 28,
   "metadata": {},
   "outputs": [
    {
     "data": {
      "text/plain": [
       "State             object\n",
       "Participation    float64\n",
       "English          float64\n",
       "Math             float64\n",
       "Reading          float64\n",
       "Science          float64\n",
       "Composite        float64\n",
       "dtype: object"
      ]
     },
     "execution_count": 28,
     "metadata": {},
     "output_type": "execute_result"
    }
   ],
   "source": [
    "act_17.dtypes"
   ]
  },
  {
   "cell_type": "markdown",
   "metadata": {},
   "source": [
    "#### 7. Rename Columns\n",
    "Change the names of the columns to more expressive names so that you can tell the difference the SAT columns and the ACT columns. Your solution should map all column names being changed at once (no repeated singular name-changes). **We will be combining these data with some of the data from 2018, and so you should name columns in an appropriate way**.\n",
    "\n",
    "**Guidelines**:\n",
    "- Column names should be all lowercase (you will thank yourself when you start pushing data to SQL later in the course)\n",
    "- Column names should not contain spaces (underscores will suffice--this allows for using the `df.column_name` method to access columns in addition to `df['column_name']`.\n",
    "- Column names should be unique and informative (the only feature that we actually share between dataframes is the state)."
   ]
  },
  {
   "cell_type": "code",
   "execution_count": 29,
   "metadata": {
    "scrolled": true
   },
   "outputs": [],
   "source": [
    "#code\n",
    "sat_17 = sat_17.rename(columns = {\n",
    "    'State' : 'state',\n",
    "    'Participation' : 'sat17_participation',\n",
    "    'Evidence-Based Reading and Writing' : 'sat17_ebrw',\n",
    "    'Math' : 'sat17_math',\n",
    "    'Total' : 'sat17_total'\n",
    "})\n"
   ]
  },
  {
   "cell_type": "code",
   "execution_count": 30,
   "metadata": {
    "scrolled": true
   },
   "outputs": [],
   "source": [
    "act_17 = act_17.rename(columns = {\n",
    "    'State' : 'state',\n",
    "    'Participation' : 'act17_participation',\n",
    "    'English' : 'act17_eng',\n",
    "    'Math' : 'act17_math',\n",
    "    'Reading' : 'act17_reading',\n",
    "    'Science' : 'act17_science',\n",
    "    'Composite' : 'act17_composite'\n",
    "})\n"
   ]
  },
  {
   "cell_type": "markdown",
   "metadata": {},
   "source": [
    "#### 8. Create a data dictionary\n",
    "\n",
    "Now that we've fixed our data, and given it appropriate names, let's create a [data dictionary](http://library.ucmerced.edu/node/10249). \n",
    "\n",
    "A data dictionary provides a quick overview of features/variables/columns, alongside data types and descriptions. The more descriptive you can be, the more useful this document is.\n",
    "\n",
    "Example of a Fictional Data Dictionary Entry: \n",
    "\n",
    "|Feature|Type|Dataset|Description|\n",
    "|---|---|---|---|\n",
    "|**county_pop**|*integer*|2010 census|The population of the county (units in thousands, where 2.5 represents 2500 people).| \n",
    "|**per_poverty**|*float*|2010 census|The percent of the county over the age of 18 living below the 200% of official US poverty rate (units percent to two decimal places 98.10 means 98.1%)|\n",
    "\n",
    "[Here's a quick link to a short guide for formatting markdown in Jupyter notebooks](https://jupyter-notebook.readthedocs.io/en/stable/examples/Notebook/Working%20With%20Markdown%20Cells.html).\n",
    "\n",
    "Provided is the skeleton for formatting a markdown table, with columns headers that will help you create a data dictionary to quickly summarize your data, as well as some examples. **This would be a great thing to copy and paste into your custom README for this project.**"
   ]
  },
  {
   "cell_type": "markdown",
   "metadata": {},
   "source": [
    "|Feature|Type|Dataset|Description|Min|Max|\n",
    "|---|---|---|---|---|---|\n",
    "Column Name|int/float/object|ACT/SAT|Description of each column|-|-|\n",
    "|sat17_participation|float|SAT|Percentage of Student Senior Population tested| 0 | 100|\n",
    "|sat17_ebrw|int|SAT|Avg SAT Subtest (Evidence-Based Reading and Writing) score for each state|200|800|\n",
    "|sat17_math|int|SAT|Avg SAT Subtest (Math) score for each state|200|800|\n",
    "|sat17_total|int|SAT|Avg Total SAT Test score for each state |400|1600\n",
    "|act17_participation|float|ACT|Percentage of Student Senior Population tested| 0 | 100|\n",
    "|act17_english|float|ACT|Avg ACT English score for each state  |1|36|\n",
    "|act17_math|float|ACT|Avg ACT Math score for each state |1|36|\n",
    "|act17_reading|float|ACT|Avg ACT Reading score for each state |1|36|\n",
    "|act17_science|float|ACT|Avg ACT Science score for each state |1|36|\n",
    "|act17composite|float|ACT|Avg ACT Composite score max. for each state|1|36|\n",
    "\n",
    "\n"
   ]
  },
  {
   "cell_type": "markdown",
   "metadata": {},
   "source": [
    "#### 9. Drop unnecessary rows\n",
    "\n",
    "One of our dataframes contains an extra row. Identify and remove this from the dataframe."
   ]
  },
  {
   "cell_type": "code",
   "execution_count": 31,
   "metadata": {},
   "outputs": [
    {
     "data": {
      "text/html": [
       "<div>\n",
       "<style scoped>\n",
       "    .dataframe tbody tr th:only-of-type {\n",
       "        vertical-align: middle;\n",
       "    }\n",
       "\n",
       "    .dataframe tbody tr th {\n",
       "        vertical-align: top;\n",
       "    }\n",
       "\n",
       "    .dataframe thead th {\n",
       "        text-align: right;\n",
       "    }\n",
       "</style>\n",
       "<table border=\"1\" class=\"dataframe\">\n",
       "  <thead>\n",
       "    <tr style=\"text-align: right;\">\n",
       "      <th></th>\n",
       "      <th>state</th>\n",
       "      <th>act17_participation</th>\n",
       "      <th>act17_eng</th>\n",
       "      <th>act17_math</th>\n",
       "      <th>act17_reading</th>\n",
       "      <th>act17_science</th>\n",
       "      <th>act17_composite</th>\n",
       "    </tr>\n",
       "  </thead>\n",
       "  <tbody>\n",
       "    <tr>\n",
       "      <th>0</th>\n",
       "      <td>National</td>\n",
       "      <td>60.0</td>\n",
       "      <td>20.3</td>\n",
       "      <td>20.7</td>\n",
       "      <td>21.4</td>\n",
       "      <td>21.0</td>\n",
       "      <td>21.0</td>\n",
       "    </tr>\n",
       "    <tr>\n",
       "      <th>1</th>\n",
       "      <td>Alabama</td>\n",
       "      <td>100.0</td>\n",
       "      <td>18.9</td>\n",
       "      <td>18.4</td>\n",
       "      <td>19.7</td>\n",
       "      <td>19.4</td>\n",
       "      <td>19.2</td>\n",
       "    </tr>\n",
       "    <tr>\n",
       "      <th>2</th>\n",
       "      <td>Alaska</td>\n",
       "      <td>65.0</td>\n",
       "      <td>18.7</td>\n",
       "      <td>19.8</td>\n",
       "      <td>20.4</td>\n",
       "      <td>19.9</td>\n",
       "      <td>19.8</td>\n",
       "    </tr>\n",
       "    <tr>\n",
       "      <th>3</th>\n",
       "      <td>Arizona</td>\n",
       "      <td>62.0</td>\n",
       "      <td>18.6</td>\n",
       "      <td>19.8</td>\n",
       "      <td>20.1</td>\n",
       "      <td>19.8</td>\n",
       "      <td>19.7</td>\n",
       "    </tr>\n",
       "    <tr>\n",
       "      <th>4</th>\n",
       "      <td>Arkansas</td>\n",
       "      <td>100.0</td>\n",
       "      <td>18.9</td>\n",
       "      <td>19.0</td>\n",
       "      <td>19.7</td>\n",
       "      <td>19.5</td>\n",
       "      <td>19.4</td>\n",
       "    </tr>\n",
       "  </tbody>\n",
       "</table>\n",
       "</div>"
      ],
      "text/plain": [
       "      state  act17_participation  act17_eng  act17_math  act17_reading  \\\n",
       "0  National                 60.0       20.3        20.7           21.4   \n",
       "1   Alabama                100.0       18.9        18.4           19.7   \n",
       "2    Alaska                 65.0       18.7        19.8           20.4   \n",
       "3   Arizona                 62.0       18.6        19.8           20.1   \n",
       "4  Arkansas                100.0       18.9        19.0           19.7   \n",
       "\n",
       "   act17_science  act17_composite  \n",
       "0           21.0             21.0  \n",
       "1           19.4             19.2  \n",
       "2           19.9             19.8  \n",
       "3           19.8             19.7  \n",
       "4           19.5             19.4  "
      ]
     },
     "execution_count": 31,
     "metadata": {},
     "output_type": "execute_result"
    }
   ],
   "source": [
    "act_17.head()"
   ]
  },
  {
   "cell_type": "code",
   "execution_count": 32,
   "metadata": {
    "scrolled": true
   },
   "outputs": [],
   "source": [
    "#Remove act_17 National Row\n",
    "act_17 = act_17.drop(0)"
   ]
  },
  {
   "cell_type": "code",
   "execution_count": 33,
   "metadata": {
    "scrolled": true
   },
   "outputs": [
    {
     "data": {
      "text/html": [
       "<div>\n",
       "<style scoped>\n",
       "    .dataframe tbody tr th:only-of-type {\n",
       "        vertical-align: middle;\n",
       "    }\n",
       "\n",
       "    .dataframe tbody tr th {\n",
       "        vertical-align: top;\n",
       "    }\n",
       "\n",
       "    .dataframe thead th {\n",
       "        text-align: right;\n",
       "    }\n",
       "</style>\n",
       "<table border=\"1\" class=\"dataframe\">\n",
       "  <thead>\n",
       "    <tr style=\"text-align: right;\">\n",
       "      <th></th>\n",
       "      <th>state</th>\n",
       "      <th>act17_participation</th>\n",
       "      <th>act17_eng</th>\n",
       "      <th>act17_math</th>\n",
       "      <th>act17_reading</th>\n",
       "      <th>act17_science</th>\n",
       "      <th>act17_composite</th>\n",
       "    </tr>\n",
       "  </thead>\n",
       "  <tbody>\n",
       "    <tr>\n",
       "      <th>1</th>\n",
       "      <td>Alabama</td>\n",
       "      <td>100.0</td>\n",
       "      <td>18.9</td>\n",
       "      <td>18.4</td>\n",
       "      <td>19.7</td>\n",
       "      <td>19.4</td>\n",
       "      <td>19.2</td>\n",
       "    </tr>\n",
       "    <tr>\n",
       "      <th>2</th>\n",
       "      <td>Alaska</td>\n",
       "      <td>65.0</td>\n",
       "      <td>18.7</td>\n",
       "      <td>19.8</td>\n",
       "      <td>20.4</td>\n",
       "      <td>19.9</td>\n",
       "      <td>19.8</td>\n",
       "    </tr>\n",
       "    <tr>\n",
       "      <th>3</th>\n",
       "      <td>Arizona</td>\n",
       "      <td>62.0</td>\n",
       "      <td>18.6</td>\n",
       "      <td>19.8</td>\n",
       "      <td>20.1</td>\n",
       "      <td>19.8</td>\n",
       "      <td>19.7</td>\n",
       "    </tr>\n",
       "    <tr>\n",
       "      <th>4</th>\n",
       "      <td>Arkansas</td>\n",
       "      <td>100.0</td>\n",
       "      <td>18.9</td>\n",
       "      <td>19.0</td>\n",
       "      <td>19.7</td>\n",
       "      <td>19.5</td>\n",
       "      <td>19.4</td>\n",
       "    </tr>\n",
       "    <tr>\n",
       "      <th>5</th>\n",
       "      <td>California</td>\n",
       "      <td>31.0</td>\n",
       "      <td>22.5</td>\n",
       "      <td>22.7</td>\n",
       "      <td>23.1</td>\n",
       "      <td>22.2</td>\n",
       "      <td>22.8</td>\n",
       "    </tr>\n",
       "  </tbody>\n",
       "</table>\n",
       "</div>"
      ],
      "text/plain": [
       "        state  act17_participation  act17_eng  act17_math  act17_reading  \\\n",
       "1     Alabama                100.0       18.9        18.4           19.7   \n",
       "2      Alaska                 65.0       18.7        19.8           20.4   \n",
       "3     Arizona                 62.0       18.6        19.8           20.1   \n",
       "4    Arkansas                100.0       18.9        19.0           19.7   \n",
       "5  California                 31.0       22.5        22.7           23.1   \n",
       "\n",
       "   act17_science  act17_composite  \n",
       "1           19.4             19.2  \n",
       "2           19.9             19.8  \n",
       "3           19.8             19.7  \n",
       "4           19.5             19.4  \n",
       "5           22.2             22.8  "
      ]
     },
     "execution_count": 33,
     "metadata": {},
     "output_type": "execute_result"
    }
   ],
   "source": [
    "act_17.head()"
   ]
  },
  {
   "cell_type": "markdown",
   "metadata": {},
   "source": [
    "#### 10. Merge Dataframes\n",
    "\n",
    "Join the 2017 ACT and SAT dataframes using the state in each dataframe as the key. Assign this to a new variable."
   ]
  },
  {
   "cell_type": "code",
   "execution_count": 34,
   "metadata": {},
   "outputs": [],
   "source": [
    "#Code:\n",
    "actsat_17 = pd.merge(sat_17, act_17, on='state', how='outer')"
   ]
  },
  {
   "cell_type": "code",
   "execution_count": 35,
   "metadata": {},
   "outputs": [
    {
     "data": {
      "text/html": [
       "<div>\n",
       "<style scoped>\n",
       "    .dataframe tbody tr th:only-of-type {\n",
       "        vertical-align: middle;\n",
       "    }\n",
       "\n",
       "    .dataframe tbody tr th {\n",
       "        vertical-align: top;\n",
       "    }\n",
       "\n",
       "    .dataframe thead th {\n",
       "        text-align: right;\n",
       "    }\n",
       "</style>\n",
       "<table border=\"1\" class=\"dataframe\">\n",
       "  <thead>\n",
       "    <tr style=\"text-align: right;\">\n",
       "      <th></th>\n",
       "      <th>state</th>\n",
       "      <th>sat17_participation</th>\n",
       "      <th>sat17_ebrw</th>\n",
       "      <th>sat17_math</th>\n",
       "      <th>sat17_total</th>\n",
       "      <th>act17_participation</th>\n",
       "      <th>act17_eng</th>\n",
       "      <th>act17_math</th>\n",
       "      <th>act17_reading</th>\n",
       "      <th>act17_science</th>\n",
       "      <th>act17_composite</th>\n",
       "    </tr>\n",
       "  </thead>\n",
       "  <tbody>\n",
       "    <tr>\n",
       "      <th>0</th>\n",
       "      <td>Alabama</td>\n",
       "      <td>5.0</td>\n",
       "      <td>593</td>\n",
       "      <td>572</td>\n",
       "      <td>1165</td>\n",
       "      <td>100.0</td>\n",
       "      <td>18.9</td>\n",
       "      <td>18.4</td>\n",
       "      <td>19.7</td>\n",
       "      <td>19.4</td>\n",
       "      <td>19.2</td>\n",
       "    </tr>\n",
       "    <tr>\n",
       "      <th>1</th>\n",
       "      <td>Alaska</td>\n",
       "      <td>38.0</td>\n",
       "      <td>547</td>\n",
       "      <td>533</td>\n",
       "      <td>1080</td>\n",
       "      <td>65.0</td>\n",
       "      <td>18.7</td>\n",
       "      <td>19.8</td>\n",
       "      <td>20.4</td>\n",
       "      <td>19.9</td>\n",
       "      <td>19.8</td>\n",
       "    </tr>\n",
       "    <tr>\n",
       "      <th>2</th>\n",
       "      <td>Arizona</td>\n",
       "      <td>30.0</td>\n",
       "      <td>563</td>\n",
       "      <td>553</td>\n",
       "      <td>1116</td>\n",
       "      <td>62.0</td>\n",
       "      <td>18.6</td>\n",
       "      <td>19.8</td>\n",
       "      <td>20.1</td>\n",
       "      <td>19.8</td>\n",
       "      <td>19.7</td>\n",
       "    </tr>\n",
       "    <tr>\n",
       "      <th>3</th>\n",
       "      <td>Arkansas</td>\n",
       "      <td>3.0</td>\n",
       "      <td>614</td>\n",
       "      <td>594</td>\n",
       "      <td>1208</td>\n",
       "      <td>100.0</td>\n",
       "      <td>18.9</td>\n",
       "      <td>19.0</td>\n",
       "      <td>19.7</td>\n",
       "      <td>19.5</td>\n",
       "      <td>19.4</td>\n",
       "    </tr>\n",
       "    <tr>\n",
       "      <th>4</th>\n",
       "      <td>California</td>\n",
       "      <td>53.0</td>\n",
       "      <td>531</td>\n",
       "      <td>524</td>\n",
       "      <td>1055</td>\n",
       "      <td>31.0</td>\n",
       "      <td>22.5</td>\n",
       "      <td>22.7</td>\n",
       "      <td>23.1</td>\n",
       "      <td>22.2</td>\n",
       "      <td>22.8</td>\n",
       "    </tr>\n",
       "  </tbody>\n",
       "</table>\n",
       "</div>"
      ],
      "text/plain": [
       "        state  sat17_participation  sat17_ebrw  sat17_math  sat17_total  \\\n",
       "0     Alabama                  5.0         593         572         1165   \n",
       "1      Alaska                 38.0         547         533         1080   \n",
       "2     Arizona                 30.0         563         553         1116   \n",
       "3    Arkansas                  3.0         614         594         1208   \n",
       "4  California                 53.0         531         524         1055   \n",
       "\n",
       "   act17_participation  act17_eng  act17_math  act17_reading  act17_science  \\\n",
       "0                100.0       18.9        18.4           19.7           19.4   \n",
       "1                 65.0       18.7        19.8           20.4           19.9   \n",
       "2                 62.0       18.6        19.8           20.1           19.8   \n",
       "3                100.0       18.9        19.0           19.7           19.5   \n",
       "4                 31.0       22.5        22.7           23.1           22.2   \n",
       "\n",
       "   act17_composite  \n",
       "0             19.2  \n",
       "1             19.8  \n",
       "2             19.7  \n",
       "3             19.4  \n",
       "4             22.8  "
      ]
     },
     "execution_count": 35,
     "metadata": {},
     "output_type": "execute_result"
    }
   ],
   "source": [
    "actsat_17.head()"
   ]
  },
  {
   "cell_type": "markdown",
   "metadata": {},
   "source": [
    "#### 11. Save your cleaned, merged dataframe\n",
    "\n",
    "Use a relative path to save out your data as `combined_2017.csv`."
   ]
  },
  {
   "cell_type": "code",
   "execution_count": 36,
   "metadata": {},
   "outputs": [],
   "source": [
    "#code\n",
    "actsat_17.to_csv('combined_2017.csv')"
   ]
  },
  {
   "cell_type": "markdown",
   "metadata": {},
   "source": [
    "## 2018 Data Import and Cleaning"
   ]
  },
  {
   "cell_type": "markdown",
   "metadata": {},
   "source": [
    "Links to the 2018 ACT and SAT data are provided in the README. These data live in PDFs, and so you'll get to enjoy practicing some *manual* data collection. Save these data as a CSV in your `data` directory, and import, explore, and clean these data in the same way you did above. **Make sure you comment on your steps so it is clear *why* you are doing each process**."
   ]
  },
  {
   "cell_type": "code",
   "execution_count": 39,
   "metadata": {},
   "outputs": [],
   "source": [
    "#ImportingFiles\n",
    "sat_18 = pd.read_csv('data/sat_2018.csv')\n",
    "act_18 = pd.read_csv('data/act_2018_updated.csv')"
   ]
  },
  {
   "cell_type": "code",
   "execution_count": 40,
   "metadata": {},
   "outputs": [
    {
     "data": {
      "text/plain": [
       "State                                 object\n",
       "Participation                         object\n",
       "Evidence-Based Reading and Writing     int64\n",
       "Math                                   int64\n",
       "Total                                  int64\n",
       "dtype: object"
      ]
     },
     "execution_count": 40,
     "metadata": {},
     "output_type": "execute_result"
    }
   ],
   "source": [
    "sat_18.dtypes"
   ]
  },
  {
   "cell_type": "code",
   "execution_count": 41,
   "metadata": {
    "scrolled": true
   },
   "outputs": [
    {
     "data": {
      "text/html": [
       "<div>\n",
       "<style scoped>\n",
       "    .dataframe tbody tr th:only-of-type {\n",
       "        vertical-align: middle;\n",
       "    }\n",
       "\n",
       "    .dataframe tbody tr th {\n",
       "        vertical-align: top;\n",
       "    }\n",
       "\n",
       "    .dataframe thead th {\n",
       "        text-align: right;\n",
       "    }\n",
       "</style>\n",
       "<table border=\"1\" class=\"dataframe\">\n",
       "  <thead>\n",
       "    <tr style=\"text-align: right;\">\n",
       "      <th></th>\n",
       "      <th>State</th>\n",
       "      <th>Participation</th>\n",
       "      <th>Evidence-Based Reading and Writing</th>\n",
       "      <th>Math</th>\n",
       "      <th>Total</th>\n",
       "    </tr>\n",
       "  </thead>\n",
       "  <tbody>\n",
       "    <tr>\n",
       "      <th>0</th>\n",
       "      <td>Alabama</td>\n",
       "      <td>6%</td>\n",
       "      <td>595</td>\n",
       "      <td>571</td>\n",
       "      <td>1166</td>\n",
       "    </tr>\n",
       "    <tr>\n",
       "      <th>1</th>\n",
       "      <td>Alaska</td>\n",
       "      <td>43%</td>\n",
       "      <td>562</td>\n",
       "      <td>544</td>\n",
       "      <td>1106</td>\n",
       "    </tr>\n",
       "    <tr>\n",
       "      <th>2</th>\n",
       "      <td>Arizona</td>\n",
       "      <td>29%</td>\n",
       "      <td>577</td>\n",
       "      <td>572</td>\n",
       "      <td>1149</td>\n",
       "    </tr>\n",
       "    <tr>\n",
       "      <th>3</th>\n",
       "      <td>Arkansas</td>\n",
       "      <td>5%</td>\n",
       "      <td>592</td>\n",
       "      <td>576</td>\n",
       "      <td>1169</td>\n",
       "    </tr>\n",
       "    <tr>\n",
       "      <th>4</th>\n",
       "      <td>California</td>\n",
       "      <td>60%</td>\n",
       "      <td>540</td>\n",
       "      <td>536</td>\n",
       "      <td>1076</td>\n",
       "    </tr>\n",
       "  </tbody>\n",
       "</table>\n",
       "</div>"
      ],
      "text/plain": [
       "        State Participation  Evidence-Based Reading and Writing  Math  Total\n",
       "0     Alabama            6%                                 595   571   1166\n",
       "1      Alaska           43%                                 562   544   1106\n",
       "2     Arizona           29%                                 577   572   1149\n",
       "3    Arkansas            5%                                 592   576   1169\n",
       "4  California           60%                                 540   536   1076"
      ]
     },
     "execution_count": 41,
     "metadata": {},
     "output_type": "execute_result"
    }
   ],
   "source": [
    "sat_18.head()"
   ]
  },
  {
   "cell_type": "code",
   "execution_count": 42,
   "metadata": {},
   "outputs": [],
   "source": [
    "#Remove % from participation\n",
    "sat_18['Participation']=sat_18['Participation'].map(change_type)"
   ]
  },
  {
   "cell_type": "code",
   "execution_count": 43,
   "metadata": {},
   "outputs": [
    {
     "data": {
      "text/plain": [
       "State                             object\n",
       "Percentage of Students Tested      int64\n",
       "Average Composite Score          float64\n",
       "Average English Score            float64\n",
       "Average Math Score               float64\n",
       "Average Reading Score            float64\n",
       "Average Science Score            float64\n",
       "dtype: object"
      ]
     },
     "execution_count": 43,
     "metadata": {},
     "output_type": "execute_result"
    }
   ],
   "source": [
    "act_18.dtypes"
   ]
  },
  {
   "cell_type": "code",
   "execution_count": 44,
   "metadata": {},
   "outputs": [
    {
     "data": {
      "text/html": [
       "<div>\n",
       "<style scoped>\n",
       "    .dataframe tbody tr th:only-of-type {\n",
       "        vertical-align: middle;\n",
       "    }\n",
       "\n",
       "    .dataframe tbody tr th {\n",
       "        vertical-align: top;\n",
       "    }\n",
       "\n",
       "    .dataframe thead th {\n",
       "        text-align: right;\n",
       "    }\n",
       "</style>\n",
       "<table border=\"1\" class=\"dataframe\">\n",
       "  <thead>\n",
       "    <tr style=\"text-align: right;\">\n",
       "      <th></th>\n",
       "      <th>State</th>\n",
       "      <th>Percentage of Students Tested</th>\n",
       "      <th>Average Composite Score</th>\n",
       "      <th>Average English Score</th>\n",
       "      <th>Average Math Score</th>\n",
       "      <th>Average Reading Score</th>\n",
       "      <th>Average Science Score</th>\n",
       "    </tr>\n",
       "  </thead>\n",
       "  <tbody>\n",
       "    <tr>\n",
       "      <th>0</th>\n",
       "      <td>Alabama</td>\n",
       "      <td>100</td>\n",
       "      <td>19.1</td>\n",
       "      <td>18.9</td>\n",
       "      <td>18.3</td>\n",
       "      <td>19.6</td>\n",
       "      <td>19.0</td>\n",
       "    </tr>\n",
       "    <tr>\n",
       "      <th>1</th>\n",
       "      <td>Alaska</td>\n",
       "      <td>33</td>\n",
       "      <td>20.8</td>\n",
       "      <td>19.8</td>\n",
       "      <td>20.6</td>\n",
       "      <td>21.6</td>\n",
       "      <td>20.7</td>\n",
       "    </tr>\n",
       "    <tr>\n",
       "      <th>2</th>\n",
       "      <td>Arizona</td>\n",
       "      <td>66</td>\n",
       "      <td>19.2</td>\n",
       "      <td>18.2</td>\n",
       "      <td>19.4</td>\n",
       "      <td>19.5</td>\n",
       "      <td>19.2</td>\n",
       "    </tr>\n",
       "    <tr>\n",
       "      <th>3</th>\n",
       "      <td>Arkansas</td>\n",
       "      <td>100</td>\n",
       "      <td>19.4</td>\n",
       "      <td>19.1</td>\n",
       "      <td>18.9</td>\n",
       "      <td>19.7</td>\n",
       "      <td>19.4</td>\n",
       "    </tr>\n",
       "    <tr>\n",
       "      <th>4</th>\n",
       "      <td>California</td>\n",
       "      <td>27</td>\n",
       "      <td>22.7</td>\n",
       "      <td>22.5</td>\n",
       "      <td>22.5</td>\n",
       "      <td>23.0</td>\n",
       "      <td>22.1</td>\n",
       "    </tr>\n",
       "  </tbody>\n",
       "</table>\n",
       "</div>"
      ],
      "text/plain": [
       "        State  Percentage of Students Tested  Average Composite Score  \\\n",
       "0     Alabama                            100                     19.1   \n",
       "1      Alaska                             33                     20.8   \n",
       "2     Arizona                             66                     19.2   \n",
       "3    Arkansas                            100                     19.4   \n",
       "4  California                             27                     22.7   \n",
       "\n",
       "   Average English Score  Average Math Score  Average Reading Score  \\\n",
       "0                   18.9                18.3                   19.6   \n",
       "1                   19.8                20.6                   21.6   \n",
       "2                   18.2                19.4                   19.5   \n",
       "3                   19.1                18.9                   19.7   \n",
       "4                   22.5                22.5                   23.0   \n",
       "\n",
       "   Average Science Score  \n",
       "0                   19.0  \n",
       "1                   20.7  \n",
       "2                   19.2  \n",
       "3                   19.4  \n",
       "4                   22.1  "
      ]
     },
     "execution_count": 44,
     "metadata": {},
     "output_type": "execute_result"
    }
   ],
   "source": [
    "act_18.head()"
   ]
  },
  {
   "cell_type": "code",
   "execution_count": 45,
   "metadata": {},
   "outputs": [],
   "source": [
    "#Convert sat_18/act_18 'Participation' column to float\n",
    "sat_18['Participation']=sat_18['Participation'].astype(float)\n",
    "act_18['Percentage of Students Tested']=act_18['Percentage of Students Tested'].astype(float)"
   ]
  },
  {
   "cell_type": "code",
   "execution_count": 46,
   "metadata": {},
   "outputs": [
    {
     "data": {
      "text/plain": [
       "State                             object\n",
       "Percentage of Students Tested    float64\n",
       "Average Composite Score          float64\n",
       "Average English Score            float64\n",
       "Average Math Score               float64\n",
       "Average Reading Score            float64\n",
       "Average Science Score            float64\n",
       "dtype: object"
      ]
     },
     "execution_count": 46,
     "metadata": {},
     "output_type": "execute_result"
    }
   ],
   "source": [
    "act_18.dtypes"
   ]
  },
  {
   "cell_type": "code",
   "execution_count": 47,
   "metadata": {
    "scrolled": false
   },
   "outputs": [
    {
     "data": {
      "text/plain": [
       "State                                  object\n",
       "Participation                         float64\n",
       "Evidence-Based Reading and Writing      int64\n",
       "Math                                    int64\n",
       "Total                                   int64\n",
       "dtype: object"
      ]
     },
     "execution_count": 47,
     "metadata": {},
     "output_type": "execute_result"
    }
   ],
   "source": [
    "sat_18.dtypes"
   ]
  },
  {
   "cell_type": "code",
   "execution_count": 48,
   "metadata": {},
   "outputs": [],
   "source": [
    "sat_18 = sat_18.rename(columns = {\n",
    "    'State' : 'state',\n",
    "    'Participation' : 'sat18_participation',\n",
    "    'Evidence-Based Reading and Writing' : 'sat18_ebrw',\n",
    "    'Math' : 'sat18_math',\n",
    "    'Total' : 'sat18_total'\n",
    "})\n"
   ]
  },
  {
   "cell_type": "code",
   "execution_count": 49,
   "metadata": {},
   "outputs": [
    {
     "data": {
      "text/html": [
       "<div>\n",
       "<style scoped>\n",
       "    .dataframe tbody tr th:only-of-type {\n",
       "        vertical-align: middle;\n",
       "    }\n",
       "\n",
       "    .dataframe tbody tr th {\n",
       "        vertical-align: top;\n",
       "    }\n",
       "\n",
       "    .dataframe thead th {\n",
       "        text-align: right;\n",
       "    }\n",
       "</style>\n",
       "<table border=\"1\" class=\"dataframe\">\n",
       "  <thead>\n",
       "    <tr style=\"text-align: right;\">\n",
       "      <th></th>\n",
       "      <th>state</th>\n",
       "      <th>sat18_participation</th>\n",
       "      <th>sat18_ebrw</th>\n",
       "      <th>sat18_math</th>\n",
       "      <th>sat18_total</th>\n",
       "    </tr>\n",
       "  </thead>\n",
       "  <tbody>\n",
       "    <tr>\n",
       "      <th>0</th>\n",
       "      <td>Alabama</td>\n",
       "      <td>6.0</td>\n",
       "      <td>595</td>\n",
       "      <td>571</td>\n",
       "      <td>1166</td>\n",
       "    </tr>\n",
       "    <tr>\n",
       "      <th>1</th>\n",
       "      <td>Alaska</td>\n",
       "      <td>43.0</td>\n",
       "      <td>562</td>\n",
       "      <td>544</td>\n",
       "      <td>1106</td>\n",
       "    </tr>\n",
       "    <tr>\n",
       "      <th>2</th>\n",
       "      <td>Arizona</td>\n",
       "      <td>29.0</td>\n",
       "      <td>577</td>\n",
       "      <td>572</td>\n",
       "      <td>1149</td>\n",
       "    </tr>\n",
       "    <tr>\n",
       "      <th>3</th>\n",
       "      <td>Arkansas</td>\n",
       "      <td>5.0</td>\n",
       "      <td>592</td>\n",
       "      <td>576</td>\n",
       "      <td>1169</td>\n",
       "    </tr>\n",
       "    <tr>\n",
       "      <th>4</th>\n",
       "      <td>California</td>\n",
       "      <td>60.0</td>\n",
       "      <td>540</td>\n",
       "      <td>536</td>\n",
       "      <td>1076</td>\n",
       "    </tr>\n",
       "  </tbody>\n",
       "</table>\n",
       "</div>"
      ],
      "text/plain": [
       "        state  sat18_participation  sat18_ebrw  sat18_math  sat18_total\n",
       "0     Alabama                  6.0         595         571         1166\n",
       "1      Alaska                 43.0         562         544         1106\n",
       "2     Arizona                 29.0         577         572         1149\n",
       "3    Arkansas                  5.0         592         576         1169\n",
       "4  California                 60.0         540         536         1076"
      ]
     },
     "execution_count": 49,
     "metadata": {},
     "output_type": "execute_result"
    }
   ],
   "source": [
    "sat_18.head()"
   ]
  },
  {
   "cell_type": "code",
   "execution_count": 50,
   "metadata": {},
   "outputs": [],
   "source": [
    "act_18 = act_18.rename(columns = {\n",
    "    'State' : 'state',\n",
    "    'Percentage of Students Tested' : 'act18_participation',\n",
    "    'Average Composite Score' : 'act18_composite',\n",
    "    'Average English Score' : 'act18_eng',\n",
    "    'Average Math Score' : 'act18_math',\n",
    "    'Average Reading Score' : 'act18_reading',\n",
    "    'Average Science Score' : 'act18_science',\n",
    "})"
   ]
  },
  {
   "cell_type": "code",
   "execution_count": 51,
   "metadata": {},
   "outputs": [
    {
     "data": {
      "text/html": [
       "<div>\n",
       "<style scoped>\n",
       "    .dataframe tbody tr th:only-of-type {\n",
       "        vertical-align: middle;\n",
       "    }\n",
       "\n",
       "    .dataframe tbody tr th {\n",
       "        vertical-align: top;\n",
       "    }\n",
       "\n",
       "    .dataframe thead th {\n",
       "        text-align: right;\n",
       "    }\n",
       "</style>\n",
       "<table border=\"1\" class=\"dataframe\">\n",
       "  <thead>\n",
       "    <tr style=\"text-align: right;\">\n",
       "      <th></th>\n",
       "      <th>state</th>\n",
       "      <th>act18_participation</th>\n",
       "      <th>act18_composite</th>\n",
       "      <th>act18_eng</th>\n",
       "      <th>act18_math</th>\n",
       "      <th>act18_reading</th>\n",
       "      <th>act18_science</th>\n",
       "    </tr>\n",
       "  </thead>\n",
       "  <tbody>\n",
       "    <tr>\n",
       "      <th>0</th>\n",
       "      <td>Alabama</td>\n",
       "      <td>100.0</td>\n",
       "      <td>19.1</td>\n",
       "      <td>18.9</td>\n",
       "      <td>18.3</td>\n",
       "      <td>19.6</td>\n",
       "      <td>19.0</td>\n",
       "    </tr>\n",
       "    <tr>\n",
       "      <th>1</th>\n",
       "      <td>Alaska</td>\n",
       "      <td>33.0</td>\n",
       "      <td>20.8</td>\n",
       "      <td>19.8</td>\n",
       "      <td>20.6</td>\n",
       "      <td>21.6</td>\n",
       "      <td>20.7</td>\n",
       "    </tr>\n",
       "    <tr>\n",
       "      <th>2</th>\n",
       "      <td>Arizona</td>\n",
       "      <td>66.0</td>\n",
       "      <td>19.2</td>\n",
       "      <td>18.2</td>\n",
       "      <td>19.4</td>\n",
       "      <td>19.5</td>\n",
       "      <td>19.2</td>\n",
       "    </tr>\n",
       "    <tr>\n",
       "      <th>3</th>\n",
       "      <td>Arkansas</td>\n",
       "      <td>100.0</td>\n",
       "      <td>19.4</td>\n",
       "      <td>19.1</td>\n",
       "      <td>18.9</td>\n",
       "      <td>19.7</td>\n",
       "      <td>19.4</td>\n",
       "    </tr>\n",
       "    <tr>\n",
       "      <th>4</th>\n",
       "      <td>California</td>\n",
       "      <td>27.0</td>\n",
       "      <td>22.7</td>\n",
       "      <td>22.5</td>\n",
       "      <td>22.5</td>\n",
       "      <td>23.0</td>\n",
       "      <td>22.1</td>\n",
       "    </tr>\n",
       "  </tbody>\n",
       "</table>\n",
       "</div>"
      ],
      "text/plain": [
       "        state  act18_participation  act18_composite  act18_eng  act18_math  \\\n",
       "0     Alabama                100.0             19.1       18.9        18.3   \n",
       "1      Alaska                 33.0             20.8       19.8        20.6   \n",
       "2     Arizona                 66.0             19.2       18.2        19.4   \n",
       "3    Arkansas                100.0             19.4       19.1        18.9   \n",
       "4  California                 27.0             22.7       22.5        22.5   \n",
       "\n",
       "   act18_reading  act18_science  \n",
       "0           19.6           19.0  \n",
       "1           21.6           20.7  \n",
       "2           19.5           19.2  \n",
       "3           19.7           19.4  \n",
       "4           23.0           22.1  "
      ]
     },
     "execution_count": 51,
     "metadata": {},
     "output_type": "execute_result"
    }
   ],
   "source": [
    "act_18.head()"
   ]
  },
  {
   "cell_type": "markdown",
   "metadata": {},
   "source": [
    "#### Combine your 2017 and 2018 data into a single dataframe\n",
    "Joining on state names should work, assuming you formatted all your state names identically. Make sure none of your columns (other than state) have identical names. Do yourself a favor and decide if you're encoding participation rates as floats or integers and standardize this across your datasets.\n",
    "\n",
    "Save the contents of this merged dataframe as `final.csv`.\n",
    "\n",
    "**Use this combined dataframe for the remainder of the project**."
   ]
  },
  {
   "cell_type": "code",
   "execution_count": 52,
   "metadata": {},
   "outputs": [],
   "source": [
    "actsat_18 = pd.merge(sat_18, act_18, on='state', how='outer')\n",
    "final = pd.merge(actsat_17, actsat_18, on='state', how='outer')"
   ]
  },
  {
   "cell_type": "code",
   "execution_count": 53,
   "metadata": {},
   "outputs": [
    {
     "data": {
      "text/html": [
       "<div>\n",
       "<style scoped>\n",
       "    .dataframe tbody tr th:only-of-type {\n",
       "        vertical-align: middle;\n",
       "    }\n",
       "\n",
       "    .dataframe tbody tr th {\n",
       "        vertical-align: top;\n",
       "    }\n",
       "\n",
       "    .dataframe thead th {\n",
       "        text-align: right;\n",
       "    }\n",
       "</style>\n",
       "<table border=\"1\" class=\"dataframe\">\n",
       "  <thead>\n",
       "    <tr style=\"text-align: right;\">\n",
       "      <th></th>\n",
       "      <th>state</th>\n",
       "      <th>sat17_participation</th>\n",
       "      <th>sat17_ebrw</th>\n",
       "      <th>sat17_math</th>\n",
       "      <th>sat17_total</th>\n",
       "      <th>act17_participation</th>\n",
       "      <th>act17_eng</th>\n",
       "      <th>act17_math</th>\n",
       "      <th>act17_reading</th>\n",
       "      <th>act17_science</th>\n",
       "      <th>...</th>\n",
       "      <th>sat18_participation</th>\n",
       "      <th>sat18_ebrw</th>\n",
       "      <th>sat18_math</th>\n",
       "      <th>sat18_total</th>\n",
       "      <th>act18_participation</th>\n",
       "      <th>act18_composite</th>\n",
       "      <th>act18_eng</th>\n",
       "      <th>act18_math</th>\n",
       "      <th>act18_reading</th>\n",
       "      <th>act18_science</th>\n",
       "    </tr>\n",
       "  </thead>\n",
       "  <tbody>\n",
       "    <tr>\n",
       "      <th>0</th>\n",
       "      <td>Alabama</td>\n",
       "      <td>5.0</td>\n",
       "      <td>593</td>\n",
       "      <td>572</td>\n",
       "      <td>1165</td>\n",
       "      <td>100.0</td>\n",
       "      <td>18.9</td>\n",
       "      <td>18.4</td>\n",
       "      <td>19.7</td>\n",
       "      <td>19.4</td>\n",
       "      <td>...</td>\n",
       "      <td>6.0</td>\n",
       "      <td>595</td>\n",
       "      <td>571</td>\n",
       "      <td>1166</td>\n",
       "      <td>100.0</td>\n",
       "      <td>19.1</td>\n",
       "      <td>18.9</td>\n",
       "      <td>18.3</td>\n",
       "      <td>19.6</td>\n",
       "      <td>19.0</td>\n",
       "    </tr>\n",
       "    <tr>\n",
       "      <th>1</th>\n",
       "      <td>Alaska</td>\n",
       "      <td>38.0</td>\n",
       "      <td>547</td>\n",
       "      <td>533</td>\n",
       "      <td>1080</td>\n",
       "      <td>65.0</td>\n",
       "      <td>18.7</td>\n",
       "      <td>19.8</td>\n",
       "      <td>20.4</td>\n",
       "      <td>19.9</td>\n",
       "      <td>...</td>\n",
       "      <td>43.0</td>\n",
       "      <td>562</td>\n",
       "      <td>544</td>\n",
       "      <td>1106</td>\n",
       "      <td>33.0</td>\n",
       "      <td>20.8</td>\n",
       "      <td>19.8</td>\n",
       "      <td>20.6</td>\n",
       "      <td>21.6</td>\n",
       "      <td>20.7</td>\n",
       "    </tr>\n",
       "    <tr>\n",
       "      <th>2</th>\n",
       "      <td>Arizona</td>\n",
       "      <td>30.0</td>\n",
       "      <td>563</td>\n",
       "      <td>553</td>\n",
       "      <td>1116</td>\n",
       "      <td>62.0</td>\n",
       "      <td>18.6</td>\n",
       "      <td>19.8</td>\n",
       "      <td>20.1</td>\n",
       "      <td>19.8</td>\n",
       "      <td>...</td>\n",
       "      <td>29.0</td>\n",
       "      <td>577</td>\n",
       "      <td>572</td>\n",
       "      <td>1149</td>\n",
       "      <td>66.0</td>\n",
       "      <td>19.2</td>\n",
       "      <td>18.2</td>\n",
       "      <td>19.4</td>\n",
       "      <td>19.5</td>\n",
       "      <td>19.2</td>\n",
       "    </tr>\n",
       "    <tr>\n",
       "      <th>3</th>\n",
       "      <td>Arkansas</td>\n",
       "      <td>3.0</td>\n",
       "      <td>614</td>\n",
       "      <td>594</td>\n",
       "      <td>1208</td>\n",
       "      <td>100.0</td>\n",
       "      <td>18.9</td>\n",
       "      <td>19.0</td>\n",
       "      <td>19.7</td>\n",
       "      <td>19.5</td>\n",
       "      <td>...</td>\n",
       "      <td>5.0</td>\n",
       "      <td>592</td>\n",
       "      <td>576</td>\n",
       "      <td>1169</td>\n",
       "      <td>100.0</td>\n",
       "      <td>19.4</td>\n",
       "      <td>19.1</td>\n",
       "      <td>18.9</td>\n",
       "      <td>19.7</td>\n",
       "      <td>19.4</td>\n",
       "    </tr>\n",
       "    <tr>\n",
       "      <th>4</th>\n",
       "      <td>California</td>\n",
       "      <td>53.0</td>\n",
       "      <td>531</td>\n",
       "      <td>524</td>\n",
       "      <td>1055</td>\n",
       "      <td>31.0</td>\n",
       "      <td>22.5</td>\n",
       "      <td>22.7</td>\n",
       "      <td>23.1</td>\n",
       "      <td>22.2</td>\n",
       "      <td>...</td>\n",
       "      <td>60.0</td>\n",
       "      <td>540</td>\n",
       "      <td>536</td>\n",
       "      <td>1076</td>\n",
       "      <td>27.0</td>\n",
       "      <td>22.7</td>\n",
       "      <td>22.5</td>\n",
       "      <td>22.5</td>\n",
       "      <td>23.0</td>\n",
       "      <td>22.1</td>\n",
       "    </tr>\n",
       "  </tbody>\n",
       "</table>\n",
       "<p>5 rows × 21 columns</p>\n",
       "</div>"
      ],
      "text/plain": [
       "        state  sat17_participation  sat17_ebrw  sat17_math  sat17_total  \\\n",
       "0     Alabama                  5.0         593         572         1165   \n",
       "1      Alaska                 38.0         547         533         1080   \n",
       "2     Arizona                 30.0         563         553         1116   \n",
       "3    Arkansas                  3.0         614         594         1208   \n",
       "4  California                 53.0         531         524         1055   \n",
       "\n",
       "   act17_participation  act17_eng  act17_math  act17_reading  act17_science  \\\n",
       "0                100.0       18.9        18.4           19.7           19.4   \n",
       "1                 65.0       18.7        19.8           20.4           19.9   \n",
       "2                 62.0       18.6        19.8           20.1           19.8   \n",
       "3                100.0       18.9        19.0           19.7           19.5   \n",
       "4                 31.0       22.5        22.7           23.1           22.2   \n",
       "\n",
       "   ...  sat18_participation  sat18_ebrw  sat18_math  sat18_total  \\\n",
       "0  ...                  6.0         595         571         1166   \n",
       "1  ...                 43.0         562         544         1106   \n",
       "2  ...                 29.0         577         572         1149   \n",
       "3  ...                  5.0         592         576         1169   \n",
       "4  ...                 60.0         540         536         1076   \n",
       "\n",
       "   act18_participation  act18_composite  act18_eng  act18_math  act18_reading  \\\n",
       "0                100.0             19.1       18.9        18.3           19.6   \n",
       "1                 33.0             20.8       19.8        20.6           21.6   \n",
       "2                 66.0             19.2       18.2        19.4           19.5   \n",
       "3                100.0             19.4       19.1        18.9           19.7   \n",
       "4                 27.0             22.7       22.5        22.5           23.0   \n",
       "\n",
       "   act18_science  \n",
       "0           19.0  \n",
       "1           20.7  \n",
       "2           19.2  \n",
       "3           19.4  \n",
       "4           22.1  \n",
       "\n",
       "[5 rows x 21 columns]"
      ]
     },
     "execution_count": 53,
     "metadata": {},
     "output_type": "execute_result"
    }
   ],
   "source": [
    "final.head()"
   ]
  },
  {
   "cell_type": "code",
   "execution_count": 54,
   "metadata": {},
   "outputs": [],
   "source": [
    "final.to_csv('final.csv')"
   ]
  },
  {
   "cell_type": "markdown",
   "metadata": {},
   "source": [
    "## Exploratory Data Analysis\n",
    "\n",
    "\n",
    "### Summary Statistics\n",
    "Transpose the output of pandas `describe` method to create a quick overview of each numeric feature."
   ]
  },
  {
   "cell_type": "code",
   "execution_count": 55,
   "metadata": {},
   "outputs": [
    {
     "data": {
      "text/plain": [
       "<bound method DataFrame.transpose of        sat17_participation  sat17_ebrw  sat17_math  sat17_total  \\\n",
       "count            51.000000   51.000000   51.000000    51.000000   \n",
       "mean             39.803922  569.117647  556.803922  1126.098039   \n",
       "std              35.276632   45.666901   47.180513    92.494812   \n",
       "min               2.000000  482.000000  468.000000   950.000000   \n",
       "25%               4.000000  533.500000  522.000000  1055.500000   \n",
       "50%              38.000000  559.000000  548.000000  1107.000000   \n",
       "75%              66.000000  613.000000  599.000000  1212.000000   \n",
       "max             100.000000  644.000000  651.000000  1295.000000   \n",
       "\n",
       "       act17_participation  act17_eng  act17_math  act17_reading  \\\n",
       "count            51.000000  51.000000   51.000000      51.000000   \n",
       "mean             65.254902  20.931373   21.182353      22.013725   \n",
       "std              32.140842   2.353677    1.981989       2.067271   \n",
       "min               8.000000  16.300000   18.000000      18.100000   \n",
       "25%              31.000000  19.000000   19.400000      20.450000   \n",
       "50%              69.000000  20.700000   20.900000      21.800000   \n",
       "75%             100.000000  23.300000   23.100000      24.150000   \n",
       "max             100.000000  25.500000   25.300000      26.000000   \n",
       "\n",
       "       act17_science  act17_composite  sat18_participation  sat18_ebrw  \\\n",
       "count      51.000000        51.000000            51.000000   51.000000   \n",
       "mean       21.450980        21.519608            45.745098  563.686275   \n",
       "std         1.739353         2.020695            37.314256   47.502627   \n",
       "min        18.200000        17.800000             2.000000  480.000000   \n",
       "25%        19.950000        19.800000             4.500000  534.500000   \n",
       "50%        21.300000        21.400000            52.000000  552.000000   \n",
       "75%        23.200000        23.600000            77.500000  610.500000   \n",
       "max        24.900000        25.500000           100.000000  643.000000   \n",
       "\n",
       "       sat18_math  sat18_total  act18_participation  act18_composite  \\\n",
       "count   51.000000    51.000000            51.000000        51.000000   \n",
       "mean   556.235294  1120.019608            61.647059        21.486275   \n",
       "std     47.772623    94.155083            34.080976         2.106278   \n",
       "min    480.000000   977.000000             7.000000        17.700000   \n",
       "25%    522.500000  1057.500000            28.500000        19.950000   \n",
       "50%    544.000000  1098.000000            66.000000        21.300000   \n",
       "75%    593.500000  1204.000000           100.000000        23.550000   \n",
       "max    655.000000  1298.000000           100.000000        25.600000   \n",
       "\n",
       "       act18_eng  act18_math  act18_reading  act18_science  \n",
       "count  51.000000   51.000000      51.000000      51.000000  \n",
       "mean   20.988235   21.125490      22.015686      21.345098  \n",
       "std     2.446356    2.035765       2.167245       1.870114  \n",
       "min    16.600000   17.800000      18.000000      17.900000  \n",
       "25%    19.100000   19.400000      20.450000      19.850000  \n",
       "50%    20.200000   20.700000      21.600000      21.100000  \n",
       "75%    23.700000   23.150000      24.100000      23.050000  \n",
       "max    26.000000   25.200000      26.100000      24.900000  >"
      ]
     },
     "execution_count": 55,
     "metadata": {},
     "output_type": "execute_result"
    }
   ],
   "source": [
    "final.describe().transpose"
   ]
  },
  {
   "cell_type": "markdown",
   "metadata": {},
   "source": [
    "#### Manually calculate standard deviation\n",
    "\n",
    "$$\\sigma = \\sqrt{\\frac{1}{n}\\sum_{i=1}^n(x_i - \\mu)^2}$$\n",
    "\n",
    "- Write a function to calculate standard deviation using the formula above"
   ]
  },
  {
   "cell_type": "code",
   "execution_count": 56,
   "metadata": {},
   "outputs": [],
   "source": [
    "def sd_func(series):\n",
    "    #find mean\n",
    "    series_mean = sum(series)/len(series)\n",
    "    series_count = 0 \n",
    "    for i in series:\n",
    "    #for each item in series, add to count\n",
    "        series_count += (i-series_mean)**2\n",
    "    return (series_count/len(series))**0.5\n",
    "    \n",
    "    \n",
    "    "
   ]
  },
  {
   "cell_type": "markdown",
   "metadata": {},
   "source": [
    "- Use a **dictionary comprehension** to apply your standard deviation function to each numeric column in the dataframe.  **No loops**  \n",
    "- Assign the output to variable `sd` as a dictionary where: \n",
    "    - Each column name is now a key \n",
    "    - That standard deviation of the column is the value \n",
    "     \n",
    "*Example Output :* `{'ACT_Math': 120, 'ACT_Reading': 120, ...}`"
   ]
  },
  {
   "cell_type": "code",
   "execution_count": 57,
   "metadata": {},
   "outputs": [],
   "source": [
    "#Set \n",
    "col_list = list((final.columns)[1:])\n",
    "sd_list = [sd_func(final[i]) for i in col_list]"
   ]
  },
  {
   "cell_type": "code",
   "execution_count": 58,
   "metadata": {
    "scrolled": true
   },
   "outputs": [
    {
     "data": {
      "text/plain": [
       "{'sat17_participation': 34.92907076664508,\n",
       " 'sat17_ebrw': 45.21697020437866,\n",
       " 'sat17_math': 46.71566878587415,\n",
       " 'sat17_total': 91.58351056778743,\n",
       " 'act17_participation': 31.824175751231806,\n",
       " 'act17_eng': 2.3304876369363363,\n",
       " 'act17_math': 1.9624620273436781,\n",
       " 'act17_reading': 2.0469029314842646,\n",
       " 'act17_science': 1.7222161451443676,\n",
       " 'act17_composite': 2.000786081581989,\n",
       " 'sat18_participation': 36.946619223539415,\n",
       " 'sat18_ebrw': 47.03460978357609,\n",
       " 'sat18_math': 47.30194550378352,\n",
       " 'sat18_total': 93.22742384464433,\n",
       " 'act18_participation': 33.745194881997506,\n",
       " 'act18_composite': 2.0855261815801147,\n",
       " 'act18_eng': 2.4222536143202795,\n",
       " 'act18_math': 2.015707255555717,\n",
       " 'act18_reading': 2.145891884510421,\n",
       " 'act18_science': 1.8516885484833543}"
      ]
     },
     "execution_count": 58,
     "metadata": {},
     "output_type": "execute_result"
    }
   ],
   "source": [
    "sd = {key: value for key, value in zip(col_list, sd_list)}\n",
    "sd"
   ]
  },
  {
   "cell_type": "markdown",
   "metadata": {},
   "source": [
    "Do your manually calculated standard deviations match up with the output from pandas `describe`? What about numpy's `std` method?"
   ]
  },
  {
   "cell_type": "code",
   "execution_count": 59,
   "metadata": {
    "scrolled": true
   },
   "outputs": [
    {
     "data": {
      "text/plain": [
       "(45.21697020437866, 45.21697020437866)"
      ]
     },
     "execution_count": 59,
     "metadata": {},
     "output_type": "execute_result"
    }
   ],
   "source": [
    "sd_func(final.sat17_ebrw), np.std(final.sat17_ebrw)"
   ]
  },
  {
   "cell_type": "markdown",
   "metadata": {},
   "source": [
    "Answer: It does not match numpy's std method as it did not account for degrees of freedom."
   ]
  },
  {
   "cell_type": "markdown",
   "metadata": {},
   "source": [
    "#### Investigate trends in the data\n",
    "Using sorting and/or masking (along with the `.head` method to not print our entire dataframe), consider the following questions:\n",
    "\n",
    "- Which states have the highest and lowest participation rates for the:\n",
    "    - 2017 SAT?\n",
    "    - 2018 SAT?\n",
    "    - 2017 ACT?\n",
    "    - 2018 ACT?\n",
    "- Which states have the highest and lowest mean total/composite scores for the:\n",
    "    - 2017 SAT?\n",
    "    - 2018 SAT?\n",
    "    - 2017 ACT?\n",
    "    - 2018 ACT?\n",
    "- Do any states with 100% participation on a given test have a rate change year-to-year?\n",
    "- Do any states show have >50% participation on *both* tests either year?\n",
    "\n",
    "Based on what you've just observed, have you identified any states that you're especially interested in? **Make a note of these and state *why* you think they're interesting**.\n",
    "\n",
    "**You should comment on your findings at each step in a markdown cell below your code block**. Make sure you include at least one example of sorting your dataframe by a column, and one example of using boolean filtering (i.e., masking) to select a subset of the dataframe."
   ]
  },
  {
   "cell_type": "code",
   "execution_count": 60,
   "metadata": {},
   "outputs": [],
   "source": [
    "#Set State as Index\n",
    "final.set_index('state', inplace=True)"
   ]
  },
  {
   "cell_type": "markdown",
   "metadata": {},
   "source": [
    "- Which states have the highest and lowest participation rates for the:\n",
    "    - 2017 SAT?\n",
    "    - 2018 SAT?\n",
    "    - 2017 ACT?\n",
    "    - 2018 ACT?"
   ]
  },
  {
   "cell_type": "code",
   "execution_count": 61,
   "metadata": {},
   "outputs": [],
   "source": [
    "def h_l_score(i,v):\n",
    "    h = i.sort_values(ascending=False).head(v)\n",
    "    l = i.sort_values(ascending=False).tail(v)\n",
    "    print(f'High Score\\n{h} \\nBottom Score \\n{l}')"
   ]
  },
  {
   "cell_type": "code",
   "execution_count": 62,
   "metadata": {},
   "outputs": [
    {
     "name": "stdout",
     "output_type": "stream",
     "text": [
      "High Score\n",
      "state\n",
      "Connecticut             100.0\n",
      "Delaware                100.0\n",
      "District of Columbia    100.0\n",
      "Michigan                100.0\n",
      "New Hampshire            96.0\n",
      "Maine                    95.0\n",
      "Idaho                    93.0\n",
      "Florida                  83.0\n",
      "Name: sat17_participation, dtype: float64 \n",
      "Bottom Score \n",
      "state\n",
      "Wisconsin       3.0\n",
      "Nebraska        3.0\n",
      "South Dakota    3.0\n",
      "Utah            3.0\n",
      "Missouri        3.0\n",
      "Iowa            2.0\n",
      "Mississippi     2.0\n",
      "North Dakota    2.0\n",
      "Name: sat17_participation, dtype: float64\n"
     ]
    }
   ],
   "source": [
    "h_l_score(final['sat17_participation'],8)"
   ]
  },
  {
   "cell_type": "markdown",
   "metadata": {},
   "source": [
    "`SAT 2017 Highest & Lowest Participation Rates`\n",
    "- Highest : Connecticut, Delaware, District of Columbia & Michigan\n",
    "- Lowest : Iowa, Mississippi & North Dakota\t"
   ]
  },
  {
   "cell_type": "code",
   "execution_count": 63,
   "metadata": {},
   "outputs": [
    {
     "name": "stdout",
     "output_type": "stream",
     "text": [
      "High Score\n",
      "state\n",
      "Idaho          100.0\n",
      "Michigan       100.0\n",
      "Delaware       100.0\n",
      "Connecticut    100.0\n",
      "Colorado       100.0\n",
      "Illinois        99.0\n",
      "Name: sat18_participation, dtype: float64 \n",
      "Bottom Score \n",
      "state\n",
      "Mississippi     3.0\n",
      "Wisconsin       3.0\n",
      "Nebraska        3.0\n",
      "South Dakota    3.0\n",
      "Wyoming         3.0\n",
      "North Dakota    2.0\n",
      "Name: sat18_participation, dtype: float64\n"
     ]
    }
   ],
   "source": [
    "h_l_score(final['sat18_participation'],6)"
   ]
  },
  {
   "cell_type": "markdown",
   "metadata": {},
   "source": [
    "`SAT 2018 Highest & Lowest Participation Rates`\n",
    "- Highest : Idaho, Michigan, Delaware, Connecticut & Colorado\n",
    "- Lowest : North Dakota\t"
   ]
  },
  {
   "cell_type": "code",
   "execution_count": 64,
   "metadata": {},
   "outputs": [
    {
     "name": "stdout",
     "output_type": "stream",
     "text": [
      "High Score\n",
      "state\n",
      "Wyoming           100.0\n",
      "Oklahoma          100.0\n",
      "Arkansas          100.0\n",
      "Colorado          100.0\n",
      "Kentucky          100.0\n",
      "Louisiana         100.0\n",
      "Minnesota         100.0\n",
      "Mississippi       100.0\n",
      "Wisconsin         100.0\n",
      "Montana           100.0\n",
      "Nevada            100.0\n",
      "North Carolina    100.0\n",
      "Missouri          100.0\n",
      "Alabama           100.0\n",
      "Tennessee         100.0\n",
      "Utah              100.0\n",
      "South Carolina    100.0\n",
      "North Dakota       98.0\n",
      "Name: act17_participation, dtype: float64 \n",
      "Bottom Score \n",
      "state\n",
      "Idaho                   38.0\n",
      "Indiana                 35.0\n",
      "New Jersey              34.0\n",
      "District of Columbia    32.0\n",
      "Connecticut             31.0\n",
      "New York                31.0\n",
      "California              31.0\n",
      "Washington              29.0\n",
      "Virginia                29.0\n",
      "Michigan                29.0\n",
      "Massachusetts           29.0\n",
      "Vermont                 29.0\n",
      "Maryland                28.0\n",
      "Pennsylvania            23.0\n",
      "Rhode Island            21.0\n",
      "Delaware                18.0\n",
      "New Hampshire           18.0\n",
      "Maine                    8.0\n",
      "Name: act17_participation, dtype: float64\n"
     ]
    }
   ],
   "source": [
    "h_l_score(final['act17_participation'],18)"
   ]
  },
  {
   "cell_type": "markdown",
   "metadata": {},
   "source": [
    "`ACT 2017 Highest & Lowest Participation Rates`\n",
    "- Highest : Wyoming, Oklahoma, Arkansas, Colorado, Kentucky, Louisiana, Minnesota, Mississippi, Wisconsin, Montana, Nevada, North Carolina, Missouri, Alabama, Tennessee, Utah & South Carolina\n",
    "- Lowest : Maine\n",
    "\n"
   ]
  },
  {
   "cell_type": "code",
   "execution_count": 65,
   "metadata": {},
   "outputs": [
    {
     "name": "stdout",
     "output_type": "stream",
     "text": [
      "High Score\n",
      "state\n",
      "Wyoming           100.0\n",
      "Oklahoma          100.0\n",
      "Arkansas          100.0\n",
      "Kentucky          100.0\n",
      "Louisiana         100.0\n",
      "Mississippi       100.0\n",
      "Wisconsin         100.0\n",
      "Montana           100.0\n",
      "Nebraska          100.0\n",
      "Nevada            100.0\n",
      "North Carolina    100.0\n",
      "Ohio              100.0\n",
      "Missouri          100.0\n",
      "Alabama           100.0\n",
      "South Carolina    100.0\n",
      "Tennessee         100.0\n",
      "Utah              100.0\n",
      "Minnesota          99.0\n",
      "Name: act18_participation, dtype: float64 \n",
      "Bottom Score \n",
      "state\n",
      "District of Columbia    32.0\n",
      "Indiana                 32.0\n",
      "Maryland                31.0\n",
      "New Jersey              31.0\n",
      "Colorado                30.0\n",
      "New York                27.0\n",
      "California              27.0\n",
      "Connecticut             26.0\n",
      "Massachusetts           25.0\n",
      "Virginia                24.0\n",
      "Vermont                 24.0\n",
      "Washington              24.0\n",
      "Michigan                22.0\n",
      "Pennsylvania            20.0\n",
      "Delaware                17.0\n",
      "New Hampshire           16.0\n",
      "Rhode Island            15.0\n",
      "Maine                    7.0\n",
      "Name: act18_participation, dtype: float64\n"
     ]
    }
   ],
   "source": [
    "h_l_score(final['act18_participation'],18)"
   ]
  },
  {
   "cell_type": "markdown",
   "metadata": {},
   "source": [
    "`ACT 2018 Highest & Lowest Participation Rates`\n",
    "- Highest : Wyoming, Oklahoma, Arkansas, Kentucky, Louisiana, Mississippi, Wisconsin, Montana, Nebraska, Nevada,\n",
    "North Carolina, Ohio, Missouri, Alabama, South Carolina, Tennessee & Utah    \n",
    "- Lowest : Maine"
   ]
  },
  {
   "cell_type": "markdown",
   "metadata": {},
   "source": [
    "- Which states have the highest and lowest mean total/composite scores for the:\n",
    "    - 2017 SAT?\n",
    "    - 2018 SAT?\n",
    "    - 2017 ACT?\n",
    "    - 2018 ACT?"
   ]
  },
  {
   "cell_type": "code",
   "execution_count": 66,
   "metadata": {
    "scrolled": false
   },
   "outputs": [
    {
     "name": "stdout",
     "output_type": "stream",
     "text": [
      "High Score\n",
      "state\n",
      "Minnesota    1295\n",
      "Wisconsin    1291\n",
      "Iowa         1275\n",
      "Missouri     1271\n",
      "Kansas       1260\n",
      "Name: sat17_total, dtype: int64 \n",
      "Bottom Score \n",
      "state\n",
      "Maine                   1012\n",
      "Michigan                1005\n",
      "Idaho                   1005\n",
      "Delaware                 996\n",
      "District of Columbia     950\n",
      "Name: sat17_total, dtype: int64\n"
     ]
    }
   ],
   "source": [
    "h_l_score(final['sat17_total'],5)"
   ]
  },
  {
   "cell_type": "markdown",
   "metadata": {},
   "source": [
    "`SAT 2017 Highest & Lowest Total Score`\n",
    "- Highest : Minnesota  \n",
    "- Lowest : District of Columbia"
   ]
  },
  {
   "cell_type": "code",
   "execution_count": 67,
   "metadata": {
    "scrolled": false
   },
   "outputs": [
    {
     "name": "stdout",
     "output_type": "stream",
     "text": [
      "High Score\n",
      "state\n",
      "Minnesota       1298\n",
      "Wisconsin       1294\n",
      "North Dakota    1283\n",
      "Name: sat18_total, dtype: int64 \n",
      "Bottom Score \n",
      "state\n",
      "West Virginia           999\n",
      "Delaware                998\n",
      "District of Columbia    977\n",
      "Name: sat18_total, dtype: int64\n"
     ]
    }
   ],
   "source": [
    "h_l_score(final['sat18_total'],3)"
   ]
  },
  {
   "cell_type": "markdown",
   "metadata": {},
   "source": [
    "`SAT 2018 Highest & Lowest Total Score`\n",
    "- Highest : Minnesota\n",
    "- Lowest : District of Columbia"
   ]
  },
  {
   "cell_type": "code",
   "execution_count": 68,
   "metadata": {
    "scrolled": false
   },
   "outputs": [
    {
     "name": "stdout",
     "output_type": "stream",
     "text": [
      "High Score\n",
      "state\n",
      "New Hampshire    25.5\n",
      "Massachusetts    25.4\n",
      "Connecticut      25.2\n",
      "Name: act17_composite, dtype: float64 \n",
      "Bottom Score \n",
      "state\n",
      "South Carolina    18.7\n",
      "Mississippi       18.6\n",
      "Nevada            17.8\n",
      "Name: act17_composite, dtype: float64\n"
     ]
    }
   ],
   "source": [
    "h_l_score(final['act17_composite'],3)"
   ]
  },
  {
   "cell_type": "markdown",
   "metadata": {},
   "source": [
    "`ACT 2017 Highest & Lowest Composite Score`\n",
    "- Highest : New Hampshire\n",
    "- Lowest : Nevada"
   ]
  },
  {
   "cell_type": "code",
   "execution_count": 69,
   "metadata": {
    "scrolled": false
   },
   "outputs": [
    {
     "name": "stdout",
     "output_type": "stream",
     "text": [
      "High Score\n",
      "state\n",
      "Connecticut      25.6\n",
      "Massachusetts    25.5\n",
      "New Hampshire    25.1\n",
      "Name: act18_composite, dtype: float64 \n",
      "Bottom Score \n",
      "state\n",
      "Mississippi       18.6\n",
      "South Carolina    18.3\n",
      "Nevada            17.7\n",
      "Name: act18_composite, dtype: float64\n"
     ]
    }
   ],
   "source": [
    "h_l_score(final['act18_composite'],3)"
   ]
  },
  {
   "cell_type": "markdown",
   "metadata": {},
   "source": [
    "`ACT 2018 Highest & Lowest Composite Score`\n",
    "- Highest : Connecticut\n",
    "- Lowest : Nevada"
   ]
  },
  {
   "cell_type": "markdown",
   "metadata": {},
   "source": [
    "Do any states with 100% participation on a given test have a rate change year-to-year?"
   ]
  },
  {
   "cell_type": "code",
   "execution_count": 70,
   "metadata": {},
   "outputs": [],
   "source": [
    "#Create function to calculate Rate of Change\n",
    "def rate_of_change(series_17, series_18):\n",
    "    roc = (series_18 - series_17) / series_17\n",
    "    return roc.round(3)"
   ]
  },
  {
   "cell_type": "code",
   "execution_count": 71,
   "metadata": {
    "scrolled": false
   },
   "outputs": [
    {
     "data": {
      "text/html": [
       "<div>\n",
       "<style scoped>\n",
       "    .dataframe tbody tr th:only-of-type {\n",
       "        vertical-align: middle;\n",
       "    }\n",
       "\n",
       "    .dataframe tbody tr th {\n",
       "        vertical-align: top;\n",
       "    }\n",
       "\n",
       "    .dataframe thead th {\n",
       "        text-align: right;\n",
       "    }\n",
       "</style>\n",
       "<table border=\"1\" class=\"dataframe\">\n",
       "  <thead>\n",
       "    <tr style=\"text-align: right;\">\n",
       "      <th></th>\n",
       "      <th>sat17_participation</th>\n",
       "      <th>sat18_participation</th>\n",
       "    </tr>\n",
       "    <tr>\n",
       "      <th>state</th>\n",
       "      <th></th>\n",
       "      <th></th>\n",
       "    </tr>\n",
       "  </thead>\n",
       "  <tbody>\n",
       "    <tr>\n",
       "      <th>Colorado</th>\n",
       "      <td>11.0</td>\n",
       "      <td>100.0</td>\n",
       "    </tr>\n",
       "    <tr>\n",
       "      <th>Connecticut</th>\n",
       "      <td>100.0</td>\n",
       "      <td>100.0</td>\n",
       "    </tr>\n",
       "    <tr>\n",
       "      <th>Delaware</th>\n",
       "      <td>100.0</td>\n",
       "      <td>100.0</td>\n",
       "    </tr>\n",
       "    <tr>\n",
       "      <th>District of Columbia</th>\n",
       "      <td>100.0</td>\n",
       "      <td>92.0</td>\n",
       "    </tr>\n",
       "    <tr>\n",
       "      <th>Idaho</th>\n",
       "      <td>93.0</td>\n",
       "      <td>100.0</td>\n",
       "    </tr>\n",
       "    <tr>\n",
       "      <th>Michigan</th>\n",
       "      <td>100.0</td>\n",
       "      <td>100.0</td>\n",
       "    </tr>\n",
       "  </tbody>\n",
       "</table>\n",
       "</div>"
      ],
      "text/plain": [
       "                      sat17_participation  sat18_participation\n",
       "state                                                         \n",
       "Colorado                             11.0                100.0\n",
       "Connecticut                         100.0                100.0\n",
       "Delaware                            100.0                100.0\n",
       "District of Columbia                100.0                 92.0\n",
       "Idaho                                93.0                100.0\n",
       "Michigan                            100.0                100.0"
      ]
     },
     "execution_count": 71,
     "metadata": {},
     "output_type": "execute_result"
    }
   ],
   "source": [
    "#Create Mask of SAT17/ SAT18 with 100% Participation\n",
    "sat_fullpart = final[(final.sat17_participation == 100.0) | (final.sat18_participation == 100.0)]\n",
    "sat_fullpart = sat_fullpart[['sat17_participation', 'sat18_participation']]\n",
    "sat_fullpart"
   ]
  },
  {
   "cell_type": "code",
   "execution_count": 72,
   "metadata": {
    "scrolled": true
   },
   "outputs": [
    {
     "data": {
      "text/plain": [
       "state\n",
       "Colorado                8.091\n",
       "District of Columbia   -0.080\n",
       "Idaho                   0.075\n",
       "dtype: float64"
      ]
     },
     "execution_count": 72,
     "metadata": {},
     "output_type": "execute_result"
    }
   ],
   "source": [
    "#Apply function to determine rate of change / Masking results with no change\n",
    "sat_roc = rate_of_change(sat_fullpart['sat17_participation'],sat_fullpart['sat18_participation'])\n",
    "sat_roc[sat_roc!=0]"
   ]
  },
  {
   "cell_type": "markdown",
   "metadata": {},
   "source": [
    "`SAT 2017-2018 Rate of Change`\n",
    "- Colorado, District of Columbia & Idaho\n",
    "- Notably Colorado experienced a drastic increase of participants from 2017-2018 (8.091 Rate of Change)"
   ]
  },
  {
   "cell_type": "code",
   "execution_count": 73,
   "metadata": {
    "scrolled": true
   },
   "outputs": [
    {
     "data": {
      "text/html": [
       "<div>\n",
       "<style scoped>\n",
       "    .dataframe tbody tr th:only-of-type {\n",
       "        vertical-align: middle;\n",
       "    }\n",
       "\n",
       "    .dataframe tbody tr th {\n",
       "        vertical-align: top;\n",
       "    }\n",
       "\n",
       "    .dataframe thead th {\n",
       "        text-align: right;\n",
       "    }\n",
       "</style>\n",
       "<table border=\"1\" class=\"dataframe\">\n",
       "  <thead>\n",
       "    <tr style=\"text-align: right;\">\n",
       "      <th></th>\n",
       "      <th>act17_participation</th>\n",
       "      <th>act18_participation</th>\n",
       "    </tr>\n",
       "    <tr>\n",
       "      <th>state</th>\n",
       "      <th></th>\n",
       "      <th></th>\n",
       "    </tr>\n",
       "  </thead>\n",
       "  <tbody>\n",
       "    <tr>\n",
       "      <th>Alabama</th>\n",
       "      <td>100.0</td>\n",
       "      <td>100.0</td>\n",
       "    </tr>\n",
       "    <tr>\n",
       "      <th>Arkansas</th>\n",
       "      <td>100.0</td>\n",
       "      <td>100.0</td>\n",
       "    </tr>\n",
       "    <tr>\n",
       "      <th>Colorado</th>\n",
       "      <td>100.0</td>\n",
       "      <td>30.0</td>\n",
       "    </tr>\n",
       "    <tr>\n",
       "      <th>Kentucky</th>\n",
       "      <td>100.0</td>\n",
       "      <td>100.0</td>\n",
       "    </tr>\n",
       "    <tr>\n",
       "      <th>Louisiana</th>\n",
       "      <td>100.0</td>\n",
       "      <td>100.0</td>\n",
       "    </tr>\n",
       "    <tr>\n",
       "      <th>Minnesota</th>\n",
       "      <td>100.0</td>\n",
       "      <td>99.0</td>\n",
       "    </tr>\n",
       "    <tr>\n",
       "      <th>Mississippi</th>\n",
       "      <td>100.0</td>\n",
       "      <td>100.0</td>\n",
       "    </tr>\n",
       "    <tr>\n",
       "      <th>Missouri</th>\n",
       "      <td>100.0</td>\n",
       "      <td>100.0</td>\n",
       "    </tr>\n",
       "    <tr>\n",
       "      <th>Montana</th>\n",
       "      <td>100.0</td>\n",
       "      <td>100.0</td>\n",
       "    </tr>\n",
       "    <tr>\n",
       "      <th>Nebraska</th>\n",
       "      <td>84.0</td>\n",
       "      <td>100.0</td>\n",
       "    </tr>\n",
       "    <tr>\n",
       "      <th>Nevada</th>\n",
       "      <td>100.0</td>\n",
       "      <td>100.0</td>\n",
       "    </tr>\n",
       "    <tr>\n",
       "      <th>North Carolina</th>\n",
       "      <td>100.0</td>\n",
       "      <td>100.0</td>\n",
       "    </tr>\n",
       "    <tr>\n",
       "      <th>Ohio</th>\n",
       "      <td>75.0</td>\n",
       "      <td>100.0</td>\n",
       "    </tr>\n",
       "    <tr>\n",
       "      <th>Oklahoma</th>\n",
       "      <td>100.0</td>\n",
       "      <td>100.0</td>\n",
       "    </tr>\n",
       "    <tr>\n",
       "      <th>South Carolina</th>\n",
       "      <td>100.0</td>\n",
       "      <td>100.0</td>\n",
       "    </tr>\n",
       "    <tr>\n",
       "      <th>Tennessee</th>\n",
       "      <td>100.0</td>\n",
       "      <td>100.0</td>\n",
       "    </tr>\n",
       "    <tr>\n",
       "      <th>Utah</th>\n",
       "      <td>100.0</td>\n",
       "      <td>100.0</td>\n",
       "    </tr>\n",
       "    <tr>\n",
       "      <th>Wisconsin</th>\n",
       "      <td>100.0</td>\n",
       "      <td>100.0</td>\n",
       "    </tr>\n",
       "    <tr>\n",
       "      <th>Wyoming</th>\n",
       "      <td>100.0</td>\n",
       "      <td>100.0</td>\n",
       "    </tr>\n",
       "  </tbody>\n",
       "</table>\n",
       "</div>"
      ],
      "text/plain": [
       "                act17_participation  act18_participation\n",
       "state                                                   \n",
       "Alabama                       100.0                100.0\n",
       "Arkansas                      100.0                100.0\n",
       "Colorado                      100.0                 30.0\n",
       "Kentucky                      100.0                100.0\n",
       "Louisiana                     100.0                100.0\n",
       "Minnesota                     100.0                 99.0\n",
       "Mississippi                   100.0                100.0\n",
       "Missouri                      100.0                100.0\n",
       "Montana                       100.0                100.0\n",
       "Nebraska                       84.0                100.0\n",
       "Nevada                        100.0                100.0\n",
       "North Carolina                100.0                100.0\n",
       "Ohio                           75.0                100.0\n",
       "Oklahoma                      100.0                100.0\n",
       "South Carolina                100.0                100.0\n",
       "Tennessee                     100.0                100.0\n",
       "Utah                          100.0                100.0\n",
       "Wisconsin                     100.0                100.0\n",
       "Wyoming                       100.0                100.0"
      ]
     },
     "execution_count": 73,
     "metadata": {},
     "output_type": "execute_result"
    }
   ],
   "source": [
    "#Create Mask of ACT17/ ACT18 with 100% Participation\n",
    "act_fullpart = final[(final.act17_participation == 100.0) | (final.act18_participation == 100.0)]\n",
    "act_fullpart = act_fullpart[['act17_participation', 'act18_participation']]\n",
    "act_fullpart"
   ]
  },
  {
   "cell_type": "code",
   "execution_count": 74,
   "metadata": {
    "scrolled": true
   },
   "outputs": [
    {
     "data": {
      "text/plain": [
       "state\n",
       "Colorado    -0.700\n",
       "Minnesota   -0.010\n",
       "Nebraska     0.190\n",
       "Ohio         0.333\n",
       "dtype: float64"
      ]
     },
     "execution_count": 74,
     "metadata": {},
     "output_type": "execute_result"
    }
   ],
   "source": [
    "act_roc = rate_of_change(act_fullpart['act17_participation'],act_fullpart['act18_participation'])\n",
    "act_roc[act_roc!=0]"
   ]
  },
  {
   "cell_type": "markdown",
   "metadata": {},
   "source": [
    "`ACT 2017-2018 Rate of Change`\n",
    "- Nebraska, Ohio, Minnesota & Colorado\n",
    "- Nebraska & Ohio experienced notable positive rate of change (>0.10) from 2017 - 2018\n",
    "- Colorado experienced a drastic drop, this could be related to colorado's increase in SAT takers from 2017-2018"
   ]
  },
  {
   "cell_type": "markdown",
   "metadata": {},
   "source": [
    "Do any states show have >50% participation on both tests either year?"
   ]
  },
  {
   "cell_type": "markdown",
   "metadata": {},
   "source": [
    "`2017`\n",
    " - Florida, Georgia, Hawaii & South Carolina\n",
    "\n",
    "`2018`\n",
    " - Florida, Georgia, Hawaii, South Carolina & North Carolina"
   ]
  },
  {
   "cell_type": "code",
   "execution_count": 75,
   "metadata": {
    "scrolled": true
   },
   "outputs": [
    {
     "data": {
      "text/html": [
       "<div>\n",
       "<style scoped>\n",
       "    .dataframe tbody tr th:only-of-type {\n",
       "        vertical-align: middle;\n",
       "    }\n",
       "\n",
       "    .dataframe tbody tr th {\n",
       "        vertical-align: top;\n",
       "    }\n",
       "\n",
       "    .dataframe thead th {\n",
       "        text-align: right;\n",
       "    }\n",
       "</style>\n",
       "<table border=\"1\" class=\"dataframe\">\n",
       "  <thead>\n",
       "    <tr style=\"text-align: right;\">\n",
       "      <th></th>\n",
       "      <th>sat17_participation</th>\n",
       "      <th>act17_participation</th>\n",
       "    </tr>\n",
       "    <tr>\n",
       "      <th>state</th>\n",
       "      <th></th>\n",
       "      <th></th>\n",
       "    </tr>\n",
       "  </thead>\n",
       "  <tbody>\n",
       "    <tr>\n",
       "      <th>Florida</th>\n",
       "      <td>83.0</td>\n",
       "      <td>73.0</td>\n",
       "    </tr>\n",
       "    <tr>\n",
       "      <th>Georgia</th>\n",
       "      <td>61.0</td>\n",
       "      <td>55.0</td>\n",
       "    </tr>\n",
       "    <tr>\n",
       "      <th>Hawaii</th>\n",
       "      <td>55.0</td>\n",
       "      <td>90.0</td>\n",
       "    </tr>\n",
       "    <tr>\n",
       "      <th>South Carolina</th>\n",
       "      <td>50.0</td>\n",
       "      <td>100.0</td>\n",
       "    </tr>\n",
       "  </tbody>\n",
       "</table>\n",
       "</div>"
      ],
      "text/plain": [
       "                sat17_participation  act17_participation\n",
       "state                                                   \n",
       "Florida                        83.0                 73.0\n",
       "Georgia                        61.0                 55.0\n",
       "Hawaii                         55.0                 90.0\n",
       "South Carolina                 50.0                100.0"
      ]
     },
     "execution_count": 75,
     "metadata": {},
     "output_type": "execute_result"
    }
   ],
   "source": [
    "#Filter sat17 & act17 for over 50% participation\n",
    "half_part17 = final[(final.sat17_participation >= 50) & (final.act17_participation >= 50)]\n",
    "half_part17[['sat17_participation', 'act17_participation']]"
   ]
  },
  {
   "cell_type": "markdown",
   "metadata": {},
   "source": [
    "`2017`\n",
    " - Florida, Georgia, Hawaii & South Carolina"
   ]
  },
  {
   "cell_type": "code",
   "execution_count": 76,
   "metadata": {
    "scrolled": true
   },
   "outputs": [
    {
     "data": {
      "text/html": [
       "<div>\n",
       "<style scoped>\n",
       "    .dataframe tbody tr th:only-of-type {\n",
       "        vertical-align: middle;\n",
       "    }\n",
       "\n",
       "    .dataframe tbody tr th {\n",
       "        vertical-align: top;\n",
       "    }\n",
       "\n",
       "    .dataframe thead th {\n",
       "        text-align: right;\n",
       "    }\n",
       "</style>\n",
       "<table border=\"1\" class=\"dataframe\">\n",
       "  <thead>\n",
       "    <tr style=\"text-align: right;\">\n",
       "      <th></th>\n",
       "      <th>sat18_participation</th>\n",
       "      <th>act18_participation</th>\n",
       "    </tr>\n",
       "    <tr>\n",
       "      <th>state</th>\n",
       "      <th></th>\n",
       "      <th></th>\n",
       "    </tr>\n",
       "  </thead>\n",
       "  <tbody>\n",
       "    <tr>\n",
       "      <th>Florida</th>\n",
       "      <td>56.0</td>\n",
       "      <td>66.0</td>\n",
       "    </tr>\n",
       "    <tr>\n",
       "      <th>Georgia</th>\n",
       "      <td>70.0</td>\n",
       "      <td>53.0</td>\n",
       "    </tr>\n",
       "    <tr>\n",
       "      <th>Hawaii</th>\n",
       "      <td>56.0</td>\n",
       "      <td>89.0</td>\n",
       "    </tr>\n",
       "    <tr>\n",
       "      <th>North Carolina</th>\n",
       "      <td>52.0</td>\n",
       "      <td>100.0</td>\n",
       "    </tr>\n",
       "    <tr>\n",
       "      <th>South Carolina</th>\n",
       "      <td>55.0</td>\n",
       "      <td>100.0</td>\n",
       "    </tr>\n",
       "  </tbody>\n",
       "</table>\n",
       "</div>"
      ],
      "text/plain": [
       "                sat18_participation  act18_participation\n",
       "state                                                   \n",
       "Florida                        56.0                 66.0\n",
       "Georgia                        70.0                 53.0\n",
       "Hawaii                         56.0                 89.0\n",
       "North Carolina                 52.0                100.0\n",
       "South Carolina                 55.0                100.0"
      ]
     },
     "execution_count": 76,
     "metadata": {},
     "output_type": "execute_result"
    }
   ],
   "source": [
    "#Filter sat18 & act18 for over 50% participation\n",
    "half_part18 = final[(final.sat18_participation >= 50) & (final.act18_participation >= 50)]\n",
    "half_part18[['sat18_participation', 'act18_participation']]"
   ]
  },
  {
   "cell_type": "markdown",
   "metadata": {},
   "source": [
    "`2018`\n",
    " - Florida, Georgia, Hawaii, South Carolina & North Carolina"
   ]
  },
  {
   "cell_type": "markdown",
   "metadata": {},
   "source": [
    "## Visualize the data\n",
    "\n",
    "There's not a magic bullet recommendation for the right number of plots to understand a given dataset, but visualizing your data is *always* a good idea. Not only does it allow you to quickly convey your findings (even if you have a non-technical audience), it will often reveal trends in your data that escaped you when you were looking only at numbers.\n",
    "\n",
    "Some recommendations on plotting:\n",
    "- Plots have titles\n",
    "- Plots have axis labels\n",
    "- Plots have appropriate tick labels\n",
    "- All text is legible in a plot\n",
    "- Plots demonstrate meaningful and valid relationships\n",
    "- Plots are interpreted to aid understanding\n",
    "\n",
    "There is such a thing as too many plots, and there are a *lot* of bad plots. You might make some! (But hopefully not with the guided prompts below)."
   ]
  },
  {
   "cell_type": "markdown",
   "metadata": {},
   "source": [
    "#### Use Seaborn's heatmap with pandas `.corr()` to visualize correlations between all numeric features\n",
    "\n",
    "Heatmaps are generally not appropriate for presentations, and should often be excluded from reports as they can be visually overwhelming. **However**, they can be extremely useful in identify relationships of potential interest (as well as identifying potential collinearity before modeling).\n",
    "\n",
    "*example*:\n",
    "```python\n",
    "sns.heatmap(df.corr())\n",
    "```\n",
    "\n",
    "Please take time to format your output, adding a title. Look through some of the additional arguments and options. (Axis labels aren't really necessary, as long as the title is informative)."
   ]
  },
  {
   "cell_type": "code",
   "execution_count": 77,
   "metadata": {},
   "outputs": [
    {
     "data": {
      "image/png": "[encoded data removed]",
      "text/plain": [
       "<Figure size 1008x864 with 2 Axes>"
      ]
     },
     "metadata": {
      "needs_background": "light"
     },
     "output_type": "display_data"
    }
   ],
   "source": [
    "plt.figure(figsize=(14,12))\n",
    "corr = final.corr()\n",
    "\n",
    "# Set up mask to be \"True\" in the upper triangle.\n",
    "mask = np.zeros_like(corr)\n",
    "mask[np.triu_indices_from(mask)] = True\n",
    "\n",
    "# Plot our correlation heatmap, while masking the upper triangle to be white\n",
    "sns.heatmap(corr, mask = mask, vmin=-2,vmax=2, square=True, annot=True, cmap='Blues')\n",
    "plt.title('Correlations between ACT & SAT variables for 2017-2018');"
   ]
  },
  {
   "cell_type": "markdown",
   "metadata": {},
   "source": [
    "`Observations`\n",
    "- It is very notable that there seems to be a strong negative correlation between participation & scores for both the tests. "
   ]
  },
  {
   "cell_type": "markdown",
   "metadata": {},
   "source": [
    "#### Define a custom function to subplot histograms\n",
    "\n",
    "We have data for two tests for two years. We only have composite (and not subtest scores) for the 2018 ACT. We should write a function that will take the names of 2+ columns and subplot histograms. While you can use pandas plotting or Seaborn here, matplotlib gives you greater control over all aspects of your plots.\n",
    "\n",
    "[Helpful Link for Plotting Multiple Figures](https://matplotlib.org/users/pyplot_tutorial.html#working-with-multiple-figures-and-axes)\n",
    "\n",
    "Here's some starter code:"
   ]
  },
  {
   "cell_type": "code",
   "execution_count": 78,
   "metadata": {},
   "outputs": [],
   "source": [
    "# create histogram function\n",
    "def subplot_histograms(dataframe, list_of_columns, list_of_titles, xlabel):\n",
    "    nrows = int(np.ceil(len(list_of_columns)/2))\n",
    "    fig, ax = plt.subplots(nrows=2, ncols=2, figsize=(14,10))\n",
    "    # Ravel turns a matrix into a vector, which is easier to iterate\n",
    "    ax = ax.ravel() \n",
    "    # Gives us an index value to get into all our lists\n",
    "    for i, column in enumerate(list_of_columns): \n",
    "        ax[i].hist(dataframe[column],bins =10)\n",
    "        ax[i].axvline(dataframe[column].median(), color='red', linestyle='dashed')\n",
    "        \n",
    "    #Titles, labels    \n",
    "    for i, ax in enumerate(ax):\n",
    "        ax.set_title(f'{(list_of_titles[i])}')\n",
    "        ax.set_xlabel(f'{xlabel}')\n",
    "        ax.set_ylabel('States')\n"
   ]
  },
  {
   "cell_type": "markdown",
   "metadata": {},
   "source": [
    "#### Plot and interpret histograms \n",
    "For each of the following:\n",
    "- Participation rates for SAT & ACT\n",
    "- Math scores for SAT & ACT\n",
    "- Reading/verbal scores for SAT & ACT"
   ]
  },
  {
   "cell_type": "code",
   "execution_count": 79,
   "metadata": {},
   "outputs": [],
   "source": [
    "#List_of_Columns\n",
    "participation = ['sat17_participation','sat18_participation','act17_participation','act18_participation']\n",
    "math = ['sat17_math','sat18_math','act17_math','act18_math']\n",
    "read_verbal = ['sat17_ebrw','sat18_ebrw','act17_reading','act18_reading']\n",
    "\n",
    "#List_of_Titles\n",
    "participation_titles = ['SAT 2017 Participation Rate','SAT 2018 Participation Rate','ACT 2017 Participation Rate','ACT 2018 Participation Rate']\n",
    "math_titles = ['SAT 17 Math','SAT 18 Math','ACT 17 Math','ACT 18 Math']\n",
    "read_verbal_titles = ['SAT 2017 Evidence-Based Reading & Writing','SAT 2018 Evidence-Based Reading & Writing','ACT 2017 Reading','ACT 2018 Reading']\n",
    "\n",
    "#xlabels\n",
    "participation_xlabels = 'Percentage of Participation'\n",
    "math_xlabels = 'Math'\n",
    "read_verbal_xlabels = 'Reading/Verbal Scores'"
   ]
  },
  {
   "cell_type": "code",
   "execution_count": 80,
   "metadata": {
    "scrolled": false
   },
   "outputs": [
    {
     "data": {
      "image/png": "[encoded data removed]",
      "text/plain": [
       "<Figure size 1008x720 with 4 Axes>"
      ]
     },
     "metadata": {
      "needs_background": "light"
     },
     "output_type": "display_data"
    }
   ],
   "source": [
    "#Plot Histogram for SAT Participation Rate\n",
    "subplot_histograms(final, participation, participation_titles, participation_xlabels);"
   ]
  },
  {
   "cell_type": "code",
   "execution_count": 81,
   "metadata": {
    "scrolled": true
   },
   "outputs": [
    {
     "data": {
      "image/png": "[encoded data removed]",
      "text/plain": [
       "<Figure size 1008x720 with 4 Axes>"
      ]
     },
     "metadata": {
      "needs_background": "light"
     },
     "output_type": "display_data"
    }
   ],
   "source": [
    "#Plot Histogram for Math Scores\n",
    "subplot_histograms(final, math, math_titles, math_xlabels);"
   ]
  },
  {
   "cell_type": "code",
   "execution_count": 82,
   "metadata": {
    "scrolled": true
   },
   "outputs": [
    {
     "data": {
      "image/png": "[encoded data removed]",
      "text/plain": [
       "<Figure size 1008x720 with 4 Axes>"
      ]
     },
     "metadata": {
      "needs_background": "light"
     },
     "output_type": "display_data"
    }
   ],
   "source": [
    "#Plot Histogram for SAT Evidence-Based Reading & Writing, ACT Reading\n",
    "subplot_histograms(final, read_verbal, read_verbal_titles, read_verbal_xlabels);"
   ]
  },
  {
   "cell_type": "markdown",
   "metadata": {},
   "source": [
    "#### Plot and interpret scatter plots\n",
    "\n",
    "For each of the following:\n",
    "- SAT vs. ACT math scores for 2017\n",
    "- SAT vs. ACT verbal/reading scores for 2017\n",
    "- SAT vs. ACT total/composite scores for 2017\n",
    "- Total scores for SAT 2017 vs. 2018\n",
    "- Composite scores for ACT 2017 vs. 2018\n",
    "\n",
    "Plot the two variables against each other using matplotlib or Seaborn\n",
    "\n",
    "Your plots should show:\n",
    "- Two clearly labeled axes\n",
    "- A proper title\n",
    "- Using colors and symbols that are clear and unmistakable\n",
    "\n",
    "**Feel free to write a custom function, and subplot if you'd like.** Functions save both time and space.\n"
   ]
  },
  {
   "cell_type": "code",
   "execution_count": 83,
   "metadata": {
    "scrolled": true
   },
   "outputs": [
    {
     "data": {
      "image/png": "[encoded data removed]",
      "text/plain": [
       "<Figure size 1440x360 with 3 Axes>"
      ]
     },
     "metadata": {
      "needs_background": "light"
     },
     "output_type": "display_data"
    }
   ],
   "source": [
    "fig = plt.figure(figsize=(20,5))\n",
    "\n",
    "ax1=fig.add_subplot(1,3,1)\n",
    "plt.title(\"2017 SAT vs ACT Math\")\n",
    "sns.regplot(data=final, x='sat17_math', y='act17_math')\n",
    "plt.xlabel('SAT Math')\n",
    "plt.ylabel('ACT Math')\n",
    "\n",
    "ax2=fig.add_subplot(1,3,2)\n",
    "plt.title(\"2017 SAT vs ACT Verbal/Reading\")\n",
    "sns.regplot(data=final, x='sat17_ebrw', y='act17_reading')\n",
    "plt.xlabel('SAT Evidence-Based Reading & Writing')\n",
    "plt.ylabel('ACT Reading')\n",
    "\n",
    "ax3 = fig.add_subplot(1,3,3)\n",
    "plt.title(\"2017 SAT vs ACT Total/Composite\")\n",
    "sns.regplot(data=final, x='sat17_total', y='act17_composite')\n",
    "plt.xlabel('SAT Total Scores')\n",
    "plt.ylabel('ACT Composite Scores');"
   ]
  },
  {
   "cell_type": "markdown",
   "metadata": {},
   "source": [
    "There is a negative correlation between ACT scores and SAT scores.\n",
    "This could be due to numerous outside factors however, it could also be related to the different scoring systems for both. "
   ]
  },
  {
   "cell_type": "code",
   "execution_count": 84,
   "metadata": {
    "scrolled": true
   },
   "outputs": [
    {
     "data": {
      "image/png": "[encoded data removed]",
      "text/plain": [
       "<Figure size 1440x360 with 2 Axes>"
      ]
     },
     "metadata": {
      "needs_background": "light"
     },
     "output_type": "display_data"
    }
   ],
   "source": [
    "fig = plt.figure(figsize=(20,5))\n",
    "\n",
    "ax1=fig.add_subplot(1,2,1)\n",
    "plt.title(\"2017 SAT vs 2018 SAT Total\")\n",
    "sns.regplot(data=final, x='sat17_total', y='sat18_total')\n",
    "plt.xlabel('2017 SAT Total Scores')\n",
    "plt.ylabel('2018 SAT Total Scores')\n",
    "\n",
    "ax1=fig.add_subplot(1,2,2)\n",
    "plt.title(\"2017 ACT vs 2018 ACT Composite\")\n",
    "sns.regplot(data=final, x='act17_composite', y='act18_composite')\n",
    "plt.xlabel('2017 ACT Composite Scores')\n",
    "plt.ylabel('2018 ACT Composite Scores');"
   ]
  },
  {
   "cell_type": "markdown",
   "metadata": {},
   "source": [
    "There seems to be a positive correlation between the SAT scores from both years as well as the ACT scores. \n",
    "As they are measured along the same scoring, it makes sense that the scores would match and appear to be correlated since the variables are similar in nature."
   ]
  },
  {
   "cell_type": "markdown",
   "metadata": {},
   "source": [
    "#### Plot and interpret boxplots\n",
    "\n",
    "For each numeric variable in the dataframe create a boxplot using Seaborn. Boxplots demonstrate central tendency and spread in variables. In a certain sense, these are somewhat redundant with histograms, but you may be better able to identify clear outliers or differences in IQR, etc.\n",
    "\n",
    "Multiple values can be plotted to a single boxplot as long as they are of the same relative scale (meaning they have similar min/max values).\n",
    "\n",
    "Each boxplot should:\n",
    "- Only include variables of a similar scale\n",
    "- Have clear labels for each variable\n",
    "- Have appropriate titles and labels"
   ]
  },
  {
   "cell_type": "code",
   "execution_count": 85,
   "metadata": {},
   "outputs": [],
   "source": [
    "overall_participation = final.loc[:,['sat17_participation', 'sat18_participation','act17_participation', 'act18_participation']]\n",
    "overall_participation = overall_participation.rename(columns={\n",
    "    'sat17_participation' : 'SAT 2017',\n",
    "    'sat18_participation' : 'SAT 2018',\n",
    "    'act17_participation' : 'ACT 2017',\n",
    "    'act18_participation' : 'ACT 2018'\n",
    "})"
   ]
  },
  {
   "cell_type": "code",
   "execution_count": 86,
   "metadata": {
    "scrolled": false
   },
   "outputs": [
    {
     "data": {
      "image/png": "[encoded data removed]",
      "text/plain": [
       "<Figure size 576x360 with 1 Axes>"
      ]
     },
     "metadata": {
      "needs_background": "light"
     },
     "output_type": "display_data"
    }
   ],
   "source": [
    "plt.figure(figsize = (8,5))\n",
    "sns.boxplot(data=overall_participation,orient='h',palette='Blues')\n",
    "plt.title('Distribution of SAT & ACT Participation Rates 2017-2018');\n",
    "plt.xlabel('Participation Rates');"
   ]
  },
  {
   "cell_type": "markdown",
   "metadata": {},
   "source": [
    "- From this boxplot it was easy to see that there was a significant increase in Median participation rate for the SATs from 2017-2018\n",
    "- Additionally, there was a rather substantial increase in the interquartile range for the SATs, although their 25 percentile did not rise, their 75% percentile increased."
   ]
  },
  {
   "cell_type": "markdown",
   "metadata": {},
   "source": [
    "#### Feel free to do additional plots below\n",
    "*(do research and choose your own chart types & variables)*\n",
    "\n",
    "Are there any additional trends or relationships you haven't explored? Was there something interesting you saw that you'd like to dive further into? It's likely that there are a few more plots you might want to generate to support your narrative and recommendations that you are building toward. **As always, make sure you're interpreting your plots as you go**."
   ]
  },
  {
   "cell_type": "code",
   "execution_count": 87,
   "metadata": {},
   "outputs": [
    {
     "data": {
      "image/png": "[encoded data removed]",
      "text/plain": [
       "<Figure size 1008x216 with 2 Axes>"
      ]
     },
     "metadata": {
      "needs_background": "light"
     },
     "output_type": "display_data"
    }
   ],
   "source": [
    "fig = plt.figure(figsize=(14,3))\n",
    "\n",
    "ax1=fig.add_subplot(1,2,1)\n",
    "plt.title(\"2017 SAT Participation vs 2017 SAT Total Scores\")\n",
    "sns.regplot(data=final, x='sat17_participation', y='sat17_total')\n",
    "plt.xlabel('Participation Rate')\n",
    "plt.ylabel('SAT Total Scores')\n",
    "\n",
    "ax1=fig.add_subplot(1,2,2)\n",
    "plt.title(\"2017 ACT Participation vs 2017 ACT Composite Scores\")\n",
    "sns.regplot(data=final, x='act17_participation', y='act17_composite')\n",
    "plt.xlabel('Participation Rate')\n",
    "plt.ylabel('ACT Composite Scores');"
   ]
  },
  {
   "cell_type": "markdown",
   "metadata": {},
   "source": [
    "- As we can see, there is a negative correlation between scores overall and participation rates of both tests. \n",
    "<br>`SAT`\n",
    "- For the SAT in particular, there is a large concentration of states that have a low participation rate have a very high score aggregate. \n",
    "- This could be due to the SAT being non-mandatory in some places could encourage some more enterprising students to go out of their way to take it as a means of having an edge. These enterprising students would generally already be the type to score higher, and therefore skew the data. \n",
    "<br>`ACT`\n",
    "- For the ACT however, the opposite seems true, where there is a concentration where participation is high, but the scores are low. \n",
    "- This could be the fact that in states where it is mandatory to take the ACT (Therefore a 100% participation rate.) the entire population would be taking the test, regardless of readiness or willingless of the participant. "
   ]
  },
  {
   "cell_type": "markdown",
   "metadata": {},
   "source": [
    "#### (Optional): Using Tableau, create a choropleth map for each variable using a map of the US. \n",
    "\n",
    "Save this plot as an image file in an images directory, provide a relative path, and insert the image into notebook in markdown."
   ]
  },
  {
   "cell_type": "code",
   "execution_count": null,
   "metadata": {},
   "outputs": [],
   "source": []
  },
  {
   "cell_type": "markdown",
   "metadata": {},
   "source": [
    "## Descriptive and Inferential Statistics"
   ]
  },
  {
   "cell_type": "markdown",
   "metadata": {},
   "source": [
    "#### Summarizing Distributions\n",
    "\n",
    "Above, we used pandas `describe` to provide quick summary statistics of our numeric columns. We also demonstrated many visual relationships.\n",
    "\n",
    "As data scientists, having a complete understanding of data is imperative prior to modeling.\n",
    "\n",
    "While we will continue to build our analytic tools, we know that measures of *central tendency*, *spread*, and *shape/skewness* provide a quick summary of distributions.\n",
    "\n",
    "For each variable in your data, summarize the underlying distributions (in words & statistics)\n",
    " - Be thorough in your verbal description of these distributions.\n",
    " - Be sure to back up these summaries with statistics."
   ]
  },
  {
   "cell_type": "code",
   "execution_count": 88,
   "metadata": {
    "scrolled": true
   },
   "outputs": [
    {
     "data": {
      "text/html": [
       "<div>\n",
       "<style scoped>\n",
       "    .dataframe tbody tr th:only-of-type {\n",
       "        vertical-align: middle;\n",
       "    }\n",
       "\n",
       "    .dataframe tbody tr th {\n",
       "        vertical-align: top;\n",
       "    }\n",
       "\n",
       "    .dataframe thead th {\n",
       "        text-align: right;\n",
       "    }\n",
       "</style>\n",
       "<table border=\"1\" class=\"dataframe\">\n",
       "  <thead>\n",
       "    <tr style=\"text-align: right;\">\n",
       "      <th></th>\n",
       "      <th>count</th>\n",
       "      <th>mean</th>\n",
       "      <th>std</th>\n",
       "      <th>min</th>\n",
       "      <th>25%</th>\n",
       "      <th>50%</th>\n",
       "      <th>75%</th>\n",
       "      <th>max</th>\n",
       "    </tr>\n",
       "  </thead>\n",
       "  <tbody>\n",
       "    <tr>\n",
       "      <th>sat17_participation</th>\n",
       "      <td>51.0</td>\n",
       "      <td>39.80</td>\n",
       "      <td>35.28</td>\n",
       "      <td>2.0</td>\n",
       "      <td>4.00</td>\n",
       "      <td>38.0</td>\n",
       "      <td>66.00</td>\n",
       "      <td>100.0</td>\n",
       "    </tr>\n",
       "    <tr>\n",
       "      <th>sat17_ebrw</th>\n",
       "      <td>51.0</td>\n",
       "      <td>569.12</td>\n",
       "      <td>45.67</td>\n",
       "      <td>482.0</td>\n",
       "      <td>533.50</td>\n",
       "      <td>559.0</td>\n",
       "      <td>613.00</td>\n",
       "      <td>644.0</td>\n",
       "    </tr>\n",
       "    <tr>\n",
       "      <th>sat17_math</th>\n",
       "      <td>51.0</td>\n",
       "      <td>556.80</td>\n",
       "      <td>47.18</td>\n",
       "      <td>468.0</td>\n",
       "      <td>522.00</td>\n",
       "      <td>548.0</td>\n",
       "      <td>599.00</td>\n",
       "      <td>651.0</td>\n",
       "    </tr>\n",
       "    <tr>\n",
       "      <th>sat17_total</th>\n",
       "      <td>51.0</td>\n",
       "      <td>1126.10</td>\n",
       "      <td>92.49</td>\n",
       "      <td>950.0</td>\n",
       "      <td>1055.50</td>\n",
       "      <td>1107.0</td>\n",
       "      <td>1212.00</td>\n",
       "      <td>1295.0</td>\n",
       "    </tr>\n",
       "    <tr>\n",
       "      <th>act17_participation</th>\n",
       "      <td>51.0</td>\n",
       "      <td>65.25</td>\n",
       "      <td>32.14</td>\n",
       "      <td>8.0</td>\n",
       "      <td>31.00</td>\n",
       "      <td>69.0</td>\n",
       "      <td>100.00</td>\n",
       "      <td>100.0</td>\n",
       "    </tr>\n",
       "    <tr>\n",
       "      <th>act17_eng</th>\n",
       "      <td>51.0</td>\n",
       "      <td>20.93</td>\n",
       "      <td>2.35</td>\n",
       "      <td>16.3</td>\n",
       "      <td>19.00</td>\n",
       "      <td>20.7</td>\n",
       "      <td>23.30</td>\n",
       "      <td>25.5</td>\n",
       "    </tr>\n",
       "    <tr>\n",
       "      <th>act17_math</th>\n",
       "      <td>51.0</td>\n",
       "      <td>21.18</td>\n",
       "      <td>1.98</td>\n",
       "      <td>18.0</td>\n",
       "      <td>19.40</td>\n",
       "      <td>20.9</td>\n",
       "      <td>23.10</td>\n",
       "      <td>25.3</td>\n",
       "    </tr>\n",
       "    <tr>\n",
       "      <th>act17_reading</th>\n",
       "      <td>51.0</td>\n",
       "      <td>22.01</td>\n",
       "      <td>2.07</td>\n",
       "      <td>18.1</td>\n",
       "      <td>20.45</td>\n",
       "      <td>21.8</td>\n",
       "      <td>24.15</td>\n",
       "      <td>26.0</td>\n",
       "    </tr>\n",
       "    <tr>\n",
       "      <th>act17_science</th>\n",
       "      <td>51.0</td>\n",
       "      <td>21.45</td>\n",
       "      <td>1.74</td>\n",
       "      <td>18.2</td>\n",
       "      <td>19.95</td>\n",
       "      <td>21.3</td>\n",
       "      <td>23.20</td>\n",
       "      <td>24.9</td>\n",
       "    </tr>\n",
       "    <tr>\n",
       "      <th>act17_composite</th>\n",
       "      <td>51.0</td>\n",
       "      <td>21.52</td>\n",
       "      <td>2.02</td>\n",
       "      <td>17.8</td>\n",
       "      <td>19.80</td>\n",
       "      <td>21.4</td>\n",
       "      <td>23.60</td>\n",
       "      <td>25.5</td>\n",
       "    </tr>\n",
       "    <tr>\n",
       "      <th>sat18_participation</th>\n",
       "      <td>51.0</td>\n",
       "      <td>45.75</td>\n",
       "      <td>37.31</td>\n",
       "      <td>2.0</td>\n",
       "      <td>4.50</td>\n",
       "      <td>52.0</td>\n",
       "      <td>77.50</td>\n",
       "      <td>100.0</td>\n",
       "    </tr>\n",
       "    <tr>\n",
       "      <th>sat18_ebrw</th>\n",
       "      <td>51.0</td>\n",
       "      <td>563.69</td>\n",
       "      <td>47.50</td>\n",
       "      <td>480.0</td>\n",
       "      <td>534.50</td>\n",
       "      <td>552.0</td>\n",
       "      <td>610.50</td>\n",
       "      <td>643.0</td>\n",
       "    </tr>\n",
       "    <tr>\n",
       "      <th>sat18_math</th>\n",
       "      <td>51.0</td>\n",
       "      <td>556.24</td>\n",
       "      <td>47.77</td>\n",
       "      <td>480.0</td>\n",
       "      <td>522.50</td>\n",
       "      <td>544.0</td>\n",
       "      <td>593.50</td>\n",
       "      <td>655.0</td>\n",
       "    </tr>\n",
       "    <tr>\n",
       "      <th>sat18_total</th>\n",
       "      <td>51.0</td>\n",
       "      <td>1120.02</td>\n",
       "      <td>94.16</td>\n",
       "      <td>977.0</td>\n",
       "      <td>1057.50</td>\n",
       "      <td>1098.0</td>\n",
       "      <td>1204.00</td>\n",
       "      <td>1298.0</td>\n",
       "    </tr>\n",
       "    <tr>\n",
       "      <th>act18_participation</th>\n",
       "      <td>51.0</td>\n",
       "      <td>61.65</td>\n",
       "      <td>34.08</td>\n",
       "      <td>7.0</td>\n",
       "      <td>28.50</td>\n",
       "      <td>66.0</td>\n",
       "      <td>100.00</td>\n",
       "      <td>100.0</td>\n",
       "    </tr>\n",
       "    <tr>\n",
       "      <th>act18_composite</th>\n",
       "      <td>51.0</td>\n",
       "      <td>21.49</td>\n",
       "      <td>2.11</td>\n",
       "      <td>17.7</td>\n",
       "      <td>19.95</td>\n",
       "      <td>21.3</td>\n",
       "      <td>23.55</td>\n",
       "      <td>25.6</td>\n",
       "    </tr>\n",
       "    <tr>\n",
       "      <th>act18_eng</th>\n",
       "      <td>51.0</td>\n",
       "      <td>20.99</td>\n",
       "      <td>2.45</td>\n",
       "      <td>16.6</td>\n",
       "      <td>19.10</td>\n",
       "      <td>20.2</td>\n",
       "      <td>23.70</td>\n",
       "      <td>26.0</td>\n",
       "    </tr>\n",
       "    <tr>\n",
       "      <th>act18_math</th>\n",
       "      <td>51.0</td>\n",
       "      <td>21.13</td>\n",
       "      <td>2.04</td>\n",
       "      <td>17.8</td>\n",
       "      <td>19.40</td>\n",
       "      <td>20.7</td>\n",
       "      <td>23.15</td>\n",
       "      <td>25.2</td>\n",
       "    </tr>\n",
       "    <tr>\n",
       "      <th>act18_reading</th>\n",
       "      <td>51.0</td>\n",
       "      <td>22.02</td>\n",
       "      <td>2.17</td>\n",
       "      <td>18.0</td>\n",
       "      <td>20.45</td>\n",
       "      <td>21.6</td>\n",
       "      <td>24.10</td>\n",
       "      <td>26.1</td>\n",
       "    </tr>\n",
       "    <tr>\n",
       "      <th>act18_science</th>\n",
       "      <td>51.0</td>\n",
       "      <td>21.35</td>\n",
       "      <td>1.87</td>\n",
       "      <td>17.9</td>\n",
       "      <td>19.85</td>\n",
       "      <td>21.1</td>\n",
       "      <td>23.05</td>\n",
       "      <td>24.9</td>\n",
       "    </tr>\n",
       "  </tbody>\n",
       "</table>\n",
       "</div>"
      ],
      "text/plain": [
       "                     count     mean    std    min      25%     50%      75%  \\\n",
       "sat17_participation   51.0    39.80  35.28    2.0     4.00    38.0    66.00   \n",
       "sat17_ebrw            51.0   569.12  45.67  482.0   533.50   559.0   613.00   \n",
       "sat17_math            51.0   556.80  47.18  468.0   522.00   548.0   599.00   \n",
       "sat17_total           51.0  1126.10  92.49  950.0  1055.50  1107.0  1212.00   \n",
       "act17_participation   51.0    65.25  32.14    8.0    31.00    69.0   100.00   \n",
       "act17_eng             51.0    20.93   2.35   16.3    19.00    20.7    23.30   \n",
       "act17_math            51.0    21.18   1.98   18.0    19.40    20.9    23.10   \n",
       "act17_reading         51.0    22.01   2.07   18.1    20.45    21.8    24.15   \n",
       "act17_science         51.0    21.45   1.74   18.2    19.95    21.3    23.20   \n",
       "act17_composite       51.0    21.52   2.02   17.8    19.80    21.4    23.60   \n",
       "sat18_participation   51.0    45.75  37.31    2.0     4.50    52.0    77.50   \n",
       "sat18_ebrw            51.0   563.69  47.50  480.0   534.50   552.0   610.50   \n",
       "sat18_math            51.0   556.24  47.77  480.0   522.50   544.0   593.50   \n",
       "sat18_total           51.0  1120.02  94.16  977.0  1057.50  1098.0  1204.00   \n",
       "act18_participation   51.0    61.65  34.08    7.0    28.50    66.0   100.00   \n",
       "act18_composite       51.0    21.49   2.11   17.7    19.95    21.3    23.55   \n",
       "act18_eng             51.0    20.99   2.45   16.6    19.10    20.2    23.70   \n",
       "act18_math            51.0    21.13   2.04   17.8    19.40    20.7    23.15   \n",
       "act18_reading         51.0    22.02   2.17   18.0    20.45    21.6    24.10   \n",
       "act18_science         51.0    21.35   1.87   17.9    19.85    21.1    23.05   \n",
       "\n",
       "                        max  \n",
       "sat17_participation   100.0  \n",
       "sat17_ebrw            644.0  \n",
       "sat17_math            651.0  \n",
       "sat17_total          1295.0  \n",
       "act17_participation   100.0  \n",
       "act17_eng              25.5  \n",
       "act17_math             25.3  \n",
       "act17_reading          26.0  \n",
       "act17_science          24.9  \n",
       "act17_composite        25.5  \n",
       "sat18_participation   100.0  \n",
       "sat18_ebrw            643.0  \n",
       "sat18_math            655.0  \n",
       "sat18_total          1298.0  \n",
       "act18_participation   100.0  \n",
       "act18_composite        25.6  \n",
       "act18_eng              26.0  \n",
       "act18_math             25.2  \n",
       "act18_reading          26.1  \n",
       "act18_science          24.9  "
      ]
     },
     "execution_count": 88,
     "metadata": {},
     "output_type": "execute_result"
    }
   ],
   "source": [
    "final_description = round(final.describe().transpose(),2)\n",
    "final_description"
   ]
  },
  {
   "cell_type": "code",
   "execution_count": 89,
   "metadata": {},
   "outputs": [
    {
     "data": {
      "text/html": [
       "<div>\n",
       "<style scoped>\n",
       "    .dataframe tbody tr th:only-of-type {\n",
       "        vertical-align: middle;\n",
       "    }\n",
       "\n",
       "    .dataframe tbody tr th {\n",
       "        vertical-align: top;\n",
       "    }\n",
       "\n",
       "    .dataframe thead th {\n",
       "        text-align: right;\n",
       "    }\n",
       "</style>\n",
       "<table border=\"1\" class=\"dataframe\">\n",
       "  <thead>\n",
       "    <tr style=\"text-align: right;\">\n",
       "      <th></th>\n",
       "      <th>count</th>\n",
       "      <th>mean</th>\n",
       "      <th>std</th>\n",
       "      <th>min</th>\n",
       "      <th>25%</th>\n",
       "      <th>50%</th>\n",
       "      <th>75%</th>\n",
       "      <th>max</th>\n",
       "    </tr>\n",
       "  </thead>\n",
       "  <tbody>\n",
       "    <tr>\n",
       "      <th>sat17_participation</th>\n",
       "      <td>51.0</td>\n",
       "      <td>39.80</td>\n",
       "      <td>35.28</td>\n",
       "      <td>2.0</td>\n",
       "      <td>4.0</td>\n",
       "      <td>38.0</td>\n",
       "      <td>66.0</td>\n",
       "      <td>100.0</td>\n",
       "    </tr>\n",
       "    <tr>\n",
       "      <th>sat17_ebrw</th>\n",
       "      <td>51.0</td>\n",
       "      <td>569.12</td>\n",
       "      <td>45.67</td>\n",
       "      <td>482.0</td>\n",
       "      <td>533.5</td>\n",
       "      <td>559.0</td>\n",
       "      <td>613.0</td>\n",
       "      <td>644.0</td>\n",
       "    </tr>\n",
       "    <tr>\n",
       "      <th>sat17_math</th>\n",
       "      <td>51.0</td>\n",
       "      <td>556.80</td>\n",
       "      <td>47.18</td>\n",
       "      <td>468.0</td>\n",
       "      <td>522.0</td>\n",
       "      <td>548.0</td>\n",
       "      <td>599.0</td>\n",
       "      <td>651.0</td>\n",
       "    </tr>\n",
       "    <tr>\n",
       "      <th>sat17_total</th>\n",
       "      <td>51.0</td>\n",
       "      <td>1126.10</td>\n",
       "      <td>92.49</td>\n",
       "      <td>950.0</td>\n",
       "      <td>1055.5</td>\n",
       "      <td>1107.0</td>\n",
       "      <td>1212.0</td>\n",
       "      <td>1295.0</td>\n",
       "    </tr>\n",
       "  </tbody>\n",
       "</table>\n",
       "</div>"
      ],
      "text/plain": [
       "                     count     mean    std    min     25%     50%     75%  \\\n",
       "sat17_participation   51.0    39.80  35.28    2.0     4.0    38.0    66.0   \n",
       "sat17_ebrw            51.0   569.12  45.67  482.0   533.5   559.0   613.0   \n",
       "sat17_math            51.0   556.80  47.18  468.0   522.0   548.0   599.0   \n",
       "sat17_total           51.0  1126.10  92.49  950.0  1055.5  1107.0  1212.0   \n",
       "\n",
       "                        max  \n",
       "sat17_participation   100.0  \n",
       "sat17_ebrw            644.0  \n",
       "sat17_math            651.0  \n",
       "sat17_total          1295.0  "
      ]
     },
     "execution_count": 89,
     "metadata": {},
     "output_type": "execute_result"
    }
   ],
   "source": [
    "final_description[:4]"
   ]
  },
  {
   "cell_type": "markdown",
   "metadata": {},
   "source": [
    "Answer:\n",
    "- Sat17 Participation: Assumed to be rather evenly distributed as the mean is close to the median \n",
    "- Sat17 EBRW: Negatively skewed as the mean is lower than the median \n",
    "- Sat17 Math: Assumed to be rather evenly distributed as the mean is close to the median \n",
    "- Sat17 Total: Assumed to be rather evenly distributed as the mean is close to the median "
   ]
  },
  {
   "cell_type": "code",
   "execution_count": 90,
   "metadata": {
    "scrolled": false
   },
   "outputs": [
    {
     "data": {
      "text/html": [
       "<div>\n",
       "<style scoped>\n",
       "    .dataframe tbody tr th:only-of-type {\n",
       "        vertical-align: middle;\n",
       "    }\n",
       "\n",
       "    .dataframe tbody tr th {\n",
       "        vertical-align: top;\n",
       "    }\n",
       "\n",
       "    .dataframe thead th {\n",
       "        text-align: right;\n",
       "    }\n",
       "</style>\n",
       "<table border=\"1\" class=\"dataframe\">\n",
       "  <thead>\n",
       "    <tr style=\"text-align: right;\">\n",
       "      <th></th>\n",
       "      <th>count</th>\n",
       "      <th>mean</th>\n",
       "      <th>std</th>\n",
       "      <th>min</th>\n",
       "      <th>25%</th>\n",
       "      <th>50%</th>\n",
       "      <th>75%</th>\n",
       "      <th>max</th>\n",
       "    </tr>\n",
       "  </thead>\n",
       "  <tbody>\n",
       "    <tr>\n",
       "      <th>sat18_participation</th>\n",
       "      <td>51.0</td>\n",
       "      <td>45.75</td>\n",
       "      <td>37.31</td>\n",
       "      <td>2.0</td>\n",
       "      <td>4.5</td>\n",
       "      <td>52.0</td>\n",
       "      <td>77.5</td>\n",
       "      <td>100.0</td>\n",
       "    </tr>\n",
       "    <tr>\n",
       "      <th>sat18_ebrw</th>\n",
       "      <td>51.0</td>\n",
       "      <td>563.69</td>\n",
       "      <td>47.50</td>\n",
       "      <td>480.0</td>\n",
       "      <td>534.5</td>\n",
       "      <td>552.0</td>\n",
       "      <td>610.5</td>\n",
       "      <td>643.0</td>\n",
       "    </tr>\n",
       "    <tr>\n",
       "      <th>sat18_math</th>\n",
       "      <td>51.0</td>\n",
       "      <td>556.24</td>\n",
       "      <td>47.77</td>\n",
       "      <td>480.0</td>\n",
       "      <td>522.5</td>\n",
       "      <td>544.0</td>\n",
       "      <td>593.5</td>\n",
       "      <td>655.0</td>\n",
       "    </tr>\n",
       "    <tr>\n",
       "      <th>sat18_total</th>\n",
       "      <td>51.0</td>\n",
       "      <td>1120.02</td>\n",
       "      <td>94.16</td>\n",
       "      <td>977.0</td>\n",
       "      <td>1057.5</td>\n",
       "      <td>1098.0</td>\n",
       "      <td>1204.0</td>\n",
       "      <td>1298.0</td>\n",
       "    </tr>\n",
       "  </tbody>\n",
       "</table>\n",
       "</div>"
      ],
      "text/plain": [
       "                     count     mean    std    min     25%     50%     75%  \\\n",
       "sat18_participation   51.0    45.75  37.31    2.0     4.5    52.0    77.5   \n",
       "sat18_ebrw            51.0   563.69  47.50  480.0   534.5   552.0   610.5   \n",
       "sat18_math            51.0   556.24  47.77  480.0   522.5   544.0   593.5   \n",
       "sat18_total           51.0  1120.02  94.16  977.0  1057.5  1098.0  1204.0   \n",
       "\n",
       "                        max  \n",
       "sat18_participation   100.0  \n",
       "sat18_ebrw            643.0  \n",
       "sat18_math            655.0  \n",
       "sat18_total          1298.0  "
      ]
     },
     "execution_count": 90,
     "metadata": {},
     "output_type": "execute_result"
    }
   ],
   "source": [
    "final_description[10:14]"
   ]
  },
  {
   "cell_type": "markdown",
   "metadata": {},
   "source": [
    "- Sat18 Participation: Mean participation has increased with the median being significantly higher \n",
    "- Sat18 EBRW: Saw a decrease compared to 2017 \n",
    "- Sat18 Math: Very simliar to Math scores in SAT2017\n",
    "- Sat18 Total: The median has seen a slight decrease compared to SAT2017 whereas the mean has increased. The graph would become more negatively skewed"
   ]
  },
  {
   "cell_type": "code",
   "execution_count": 91,
   "metadata": {
    "scrolled": false
   },
   "outputs": [
    {
     "data": {
      "text/html": [
       "<div>\n",
       "<style scoped>\n",
       "    .dataframe tbody tr th:only-of-type {\n",
       "        vertical-align: middle;\n",
       "    }\n",
       "\n",
       "    .dataframe tbody tr th {\n",
       "        vertical-align: top;\n",
       "    }\n",
       "\n",
       "    .dataframe thead th {\n",
       "        text-align: right;\n",
       "    }\n",
       "</style>\n",
       "<table border=\"1\" class=\"dataframe\">\n",
       "  <thead>\n",
       "    <tr style=\"text-align: right;\">\n",
       "      <th></th>\n",
       "      <th>count</th>\n",
       "      <th>mean</th>\n",
       "      <th>std</th>\n",
       "      <th>min</th>\n",
       "      <th>25%</th>\n",
       "      <th>50%</th>\n",
       "      <th>75%</th>\n",
       "      <th>max</th>\n",
       "    </tr>\n",
       "  </thead>\n",
       "  <tbody>\n",
       "    <tr>\n",
       "      <th>act17_participation</th>\n",
       "      <td>51.0</td>\n",
       "      <td>65.25</td>\n",
       "      <td>32.14</td>\n",
       "      <td>8.0</td>\n",
       "      <td>31.00</td>\n",
       "      <td>69.0</td>\n",
       "      <td>100.00</td>\n",
       "      <td>100.0</td>\n",
       "    </tr>\n",
       "    <tr>\n",
       "      <th>act17_eng</th>\n",
       "      <td>51.0</td>\n",
       "      <td>20.93</td>\n",
       "      <td>2.35</td>\n",
       "      <td>16.3</td>\n",
       "      <td>19.00</td>\n",
       "      <td>20.7</td>\n",
       "      <td>23.30</td>\n",
       "      <td>25.5</td>\n",
       "    </tr>\n",
       "    <tr>\n",
       "      <th>act17_math</th>\n",
       "      <td>51.0</td>\n",
       "      <td>21.18</td>\n",
       "      <td>1.98</td>\n",
       "      <td>18.0</td>\n",
       "      <td>19.40</td>\n",
       "      <td>20.9</td>\n",
       "      <td>23.10</td>\n",
       "      <td>25.3</td>\n",
       "    </tr>\n",
       "    <tr>\n",
       "      <th>act17_reading</th>\n",
       "      <td>51.0</td>\n",
       "      <td>22.01</td>\n",
       "      <td>2.07</td>\n",
       "      <td>18.1</td>\n",
       "      <td>20.45</td>\n",
       "      <td>21.8</td>\n",
       "      <td>24.15</td>\n",
       "      <td>26.0</td>\n",
       "    </tr>\n",
       "    <tr>\n",
       "      <th>act17_science</th>\n",
       "      <td>51.0</td>\n",
       "      <td>21.45</td>\n",
       "      <td>1.74</td>\n",
       "      <td>18.2</td>\n",
       "      <td>19.95</td>\n",
       "      <td>21.3</td>\n",
       "      <td>23.20</td>\n",
       "      <td>24.9</td>\n",
       "    </tr>\n",
       "    <tr>\n",
       "      <th>act17_composite</th>\n",
       "      <td>51.0</td>\n",
       "      <td>21.52</td>\n",
       "      <td>2.02</td>\n",
       "      <td>17.8</td>\n",
       "      <td>19.80</td>\n",
       "      <td>21.4</td>\n",
       "      <td>23.60</td>\n",
       "      <td>25.5</td>\n",
       "    </tr>\n",
       "  </tbody>\n",
       "</table>\n",
       "</div>"
      ],
      "text/plain": [
       "                     count   mean    std   min    25%   50%     75%    max\n",
       "act17_participation   51.0  65.25  32.14   8.0  31.00  69.0  100.00  100.0\n",
       "act17_eng             51.0  20.93   2.35  16.3  19.00  20.7   23.30   25.5\n",
       "act17_math            51.0  21.18   1.98  18.0  19.40  20.9   23.10   25.3\n",
       "act17_reading         51.0  22.01   2.07  18.1  20.45  21.8   24.15   26.0\n",
       "act17_science         51.0  21.45   1.74  18.2  19.95  21.3   23.20   24.9\n",
       "act17_composite       51.0  21.52   2.02  17.8  19.80  21.4   23.60   25.5"
      ]
     },
     "execution_count": 91,
     "metadata": {},
     "output_type": "execute_result"
    }
   ],
   "source": [
    "final_description[4:10]"
   ]
  },
  {
   "cell_type": "markdown",
   "metadata": {},
   "source": [
    "- Act17 Participation: Very positively skewed as the 75% percentile has 100% participation rate\n",
    "- Act17 English: Mean and median are almost equal which indicates an even distribution\n",
    "- Act17 Math: Positively skewed (When compared to the other results)\n",
    "- Act17 Reading: Mean and median are almost equal which indicates an even distribution\n",
    "- Act17 Science: Mean and median are almost equal which indicates an even distribution\n",
    "- Act17 Composite: Mean and median are almost equal which indicates an even distribution"
   ]
  },
  {
   "cell_type": "code",
   "execution_count": 92,
   "metadata": {},
   "outputs": [
    {
     "data": {
      "text/html": [
       "<div>\n",
       "<style scoped>\n",
       "    .dataframe tbody tr th:only-of-type {\n",
       "        vertical-align: middle;\n",
       "    }\n",
       "\n",
       "    .dataframe tbody tr th {\n",
       "        vertical-align: top;\n",
       "    }\n",
       "\n",
       "    .dataframe thead th {\n",
       "        text-align: right;\n",
       "    }\n",
       "</style>\n",
       "<table border=\"1\" class=\"dataframe\">\n",
       "  <thead>\n",
       "    <tr style=\"text-align: right;\">\n",
       "      <th></th>\n",
       "      <th>count</th>\n",
       "      <th>mean</th>\n",
       "      <th>std</th>\n",
       "      <th>min</th>\n",
       "      <th>25%</th>\n",
       "      <th>50%</th>\n",
       "      <th>75%</th>\n",
       "      <th>max</th>\n",
       "    </tr>\n",
       "  </thead>\n",
       "  <tbody>\n",
       "    <tr>\n",
       "      <th>act18_participation</th>\n",
       "      <td>51.0</td>\n",
       "      <td>61.65</td>\n",
       "      <td>34.08</td>\n",
       "      <td>7.0</td>\n",
       "      <td>28.50</td>\n",
       "      <td>66.0</td>\n",
       "      <td>100.00</td>\n",
       "      <td>100.0</td>\n",
       "    </tr>\n",
       "    <tr>\n",
       "      <th>act18_composite</th>\n",
       "      <td>51.0</td>\n",
       "      <td>21.49</td>\n",
       "      <td>2.11</td>\n",
       "      <td>17.7</td>\n",
       "      <td>19.95</td>\n",
       "      <td>21.3</td>\n",
       "      <td>23.55</td>\n",
       "      <td>25.6</td>\n",
       "    </tr>\n",
       "    <tr>\n",
       "      <th>act18_eng</th>\n",
       "      <td>51.0</td>\n",
       "      <td>20.99</td>\n",
       "      <td>2.45</td>\n",
       "      <td>16.6</td>\n",
       "      <td>19.10</td>\n",
       "      <td>20.2</td>\n",
       "      <td>23.70</td>\n",
       "      <td>26.0</td>\n",
       "    </tr>\n",
       "    <tr>\n",
       "      <th>act18_math</th>\n",
       "      <td>51.0</td>\n",
       "      <td>21.13</td>\n",
       "      <td>2.04</td>\n",
       "      <td>17.8</td>\n",
       "      <td>19.40</td>\n",
       "      <td>20.7</td>\n",
       "      <td>23.15</td>\n",
       "      <td>25.2</td>\n",
       "    </tr>\n",
       "    <tr>\n",
       "      <th>act18_reading</th>\n",
       "      <td>51.0</td>\n",
       "      <td>22.02</td>\n",
       "      <td>2.17</td>\n",
       "      <td>18.0</td>\n",
       "      <td>20.45</td>\n",
       "      <td>21.6</td>\n",
       "      <td>24.10</td>\n",
       "      <td>26.1</td>\n",
       "    </tr>\n",
       "    <tr>\n",
       "      <th>act18_science</th>\n",
       "      <td>51.0</td>\n",
       "      <td>21.35</td>\n",
       "      <td>1.87</td>\n",
       "      <td>17.9</td>\n",
       "      <td>19.85</td>\n",
       "      <td>21.1</td>\n",
       "      <td>23.05</td>\n",
       "      <td>24.9</td>\n",
       "    </tr>\n",
       "  </tbody>\n",
       "</table>\n",
       "</div>"
      ],
      "text/plain": [
       "                     count   mean    std   min    25%   50%     75%    max\n",
       "act18_participation   51.0  61.65  34.08   7.0  28.50  66.0  100.00  100.0\n",
       "act18_composite       51.0  21.49   2.11  17.7  19.95  21.3   23.55   25.6\n",
       "act18_eng             51.0  20.99   2.45  16.6  19.10  20.2   23.70   26.0\n",
       "act18_math            51.0  21.13   2.04  17.8  19.40  20.7   23.15   25.2\n",
       "act18_reading         51.0  22.02   2.17  18.0  20.45  21.6   24.10   26.1\n",
       "act18_science         51.0  21.35   1.87  17.9  19.85  21.1   23.05   24.9"
      ]
     },
     "execution_count": 92,
     "metadata": {},
     "output_type": "execute_result"
    }
   ],
   "source": [
    "final_description[14:]"
   ]
  },
  {
   "cell_type": "markdown",
   "metadata": {},
   "source": [
    "Overall, the data from the ACT has not seen much significant change compared to the data of the SAT which has changed quite a bit. \n",
    "- Since the data is a large distribution of test results on a population, it would be unlikely to see a significant change in data unless there were external factors at play. \n"
   ]
  },
  {
   "cell_type": "markdown",
   "metadata": {},
   "source": [
    "\n",
    "#### Distributions in the data\n",
    "\n",
    "In this dataset, each data represents a sample from a population.                        \n",
    "For example, for ACT math test:\n",
    "- Population: the test results of all the students who take this test, nation-wide.\n",
    "- Population mean: is the national average of ACT math test (total scores/total no. of test takers) \n",
    "- Sample: the state means of ACT math test. We have 51 samples (51 states)\n",
    "\n",
    "***According to CLT, we generally assuming that data we sample from a population will be normally distributed. Do we observe this trend?***"
   ]
  },
  {
   "cell_type": "code",
   "execution_count": 93,
   "metadata": {},
   "outputs": [
    {
     "data": {
      "image/png": "[encoded data removed]",
      "text/plain": [
       "<Figure size 1008x720 with 4 Axes>"
      ]
     },
     "metadata": {
      "needs_background": "light"
     },
     "output_type": "display_data"
    }
   ],
   "source": [
    "subplot_histograms(final, math, math_titles, math_xlabels);"
   ]
  },
  {
   "cell_type": "markdown",
   "metadata": {},
   "source": [
    "Answer:\n",
    "\n",
    "We can see that the distributions of the data tend to be more bi-modal and not normally distributed"
   ]
  },
  {
   "cell_type": "markdown",
   "metadata": {},
   "source": [
    "Does This Assumption Hold for:\n",
    "    - Math\n",
    "    - Reading\n",
    "    - Rates\n",
    "Explain your answers for each distribution and how you think this will affect estimates made from these data."
   ]
  },
  {
   "cell_type": "code",
   "execution_count": 94,
   "metadata": {},
   "outputs": [
    {
     "data": {
      "image/png": "[encoded data removed]",
      "text/plain": [
       "<Figure size 1008x720 with 4 Axes>"
      ]
     },
     "metadata": {
      "needs_background": "light"
     },
     "output_type": "display_data"
    }
   ],
   "source": [
    "subplot_histograms(final, participation, participation_titles, participation_xlabels);"
   ]
  },
  {
   "cell_type": "code",
   "execution_count": 95,
   "metadata": {},
   "outputs": [
    {
     "data": {
      "image/png": "[encoded data removed]",
      "text/plain": [
       "<Figure size 1008x720 with 4 Axes>"
      ]
     },
     "metadata": {
      "needs_background": "light"
     },
     "output_type": "display_data"
    }
   ],
   "source": [
    "subplot_histograms(final, read_verbal, read_verbal_titles, read_verbal_xlabels);"
   ]
  },
  {
   "cell_type": "markdown",
   "metadata": {},
   "source": [
    "Answer:\n",
    "- For all the distributions, we see almost no semblance of a normal distribution. Because there are only 51 samples, we do not have a large enough sample size. Estimates created from this data may not be accurate."
   ]
  },
  {
   "cell_type": "markdown",
   "metadata": {},
   "source": [
    "#### Estimate Limits of Data\n",
    "\n",
    "Suppose we only seek to understand the relationship between SAT and ACT participation rates in 2017. \n",
    "\n",
    "##### Does it make sense to conduct statistical inference given these data specifically? \n",
    "\n",
    "Why or why not?\n",
    "\n",
    "*(think about granularity, aggregation, the relationships between populations size & rates...consider the actually populations these data describe in answering this question)*"
   ]
  },
  {
   "cell_type": "markdown",
   "metadata": {},
   "source": [
    "Answer: \n",
    "\n",
    "It does not make sense to conduct statistical inference. \n",
    "As there are only 51 states, it does not give enough granularity to create meaningful statistical inference. If it was possible to gain insight as to how this data was culmulated into these aggregates, it may be able to then create proper statistical inferences with a larger sampleset."
   ]
  },
  {
   "cell_type": "markdown",
   "metadata": {},
   "source": [
    "##### Is it appropriate to compare *these* specific SAT and ACT math scores  - can we say students with higher SAT math score is better than those with lower ACT math score, or vice versa?\n",
    "\n",
    "Why or why not?"
   ]
  },
  {
   "cell_type": "markdown",
   "metadata": {},
   "source": [
    "Answer:\n",
    "We cannot do this as the scores provided are aggregated and non-comparable. "
   ]
  },
  {
   "cell_type": "markdown",
   "metadata": {},
   "source": [
    "#### Statistical Evaluation of Distributions \n",
    "\n",
    "**If you feel it's appropriate**, using methods we discussed in class, run hypothesis tests to compare variables of interest in our dataset. "
   ]
  },
  {
   "cell_type": "markdown",
   "metadata": {},
   "source": [
    "It is not appropriate as the data would be inaccurate. "
   ]
  },
  {
   "cell_type": "markdown",
   "metadata": {},
   "source": [
    "## Outside Research"
   ]
  },
  {
   "cell_type": "markdown",
   "metadata": {},
   "source": [
    "Based upon your observations, choose **three** states that demonstrate interesting trends in their SAT and/or ACT participation rates. Spend some time doing outside research on state policies that might influence these rates, and summarize your findings below. **Feel free to go back and create new plots that highlight these states of interest**. If you bring in any outside tables or charts, make sure you are explicit about having borrowed them. If you quote any text, make sure that it renders as being quoted. (Make sure that you cite your sources -- check with you local instructor for citation preferences)."
   ]
  },
  {
   "cell_type": "code",
   "execution_count": 96,
   "metadata": {},
   "outputs": [],
   "source": [
    "sat_roc = rate_of_change(final['sat17_participation'],final['sat18_participation'])\n",
    "sat_roc = sat_roc[sat_roc!=0]"
   ]
  },
  {
   "cell_type": "code",
   "execution_count": 97,
   "metadata": {},
   "outputs": [
    {
     "data": {
      "text/plain": [
       "state\n",
       "Alaska          -0.492\n",
       "Arizona          0.065\n",
       "California      -0.129\n",
       "Colorado        -0.700\n",
       "Connecticut     -0.161\n",
       "Delaware        -0.056\n",
       "Florida         -0.096\n",
       "Georgia         -0.036\n",
       "Hawaii          -0.011\n",
       "Idaho           -0.053\n",
       "Illinois        -0.538\n",
       "Indiana         -0.086\n",
       "Iowa             0.015\n",
       "Kansas          -0.027\n",
       "Maine           -0.125\n",
       "Maryland         0.107\n",
       "Massachusetts   -0.138\n",
       "Michigan        -0.241\n",
       "Minnesota       -0.010\n",
       "Nebraska         0.190\n",
       "New Hampshire   -0.111\n",
       "New Jersey      -0.088\n",
       "New Mexico       0.015\n",
       "New York        -0.129\n",
       "Ohio             0.333\n",
       "Oregon           0.050\n",
       "Pennsylvania    -0.130\n",
       "Rhode Island    -0.286\n",
       "South Dakota    -0.038\n",
       "Texas           -0.089\n",
       "Vermont         -0.172\n",
       "Virginia        -0.172\n",
       "Washington      -0.172\n",
       "West Virginia   -0.058\n",
       "dtype: float64"
      ]
     },
     "execution_count": 97,
     "metadata": {},
     "output_type": "execute_result"
    }
   ],
   "source": [
    "act_roc = rate_of_change(final['act17_participation'],final['act18_participation'])\n",
    "act_roc = act_roc[act_roc!=0]\n",
    "act_roc"
   ]
  },
  {
   "cell_type": "markdown",
   "metadata": {},
   "source": [
    "`Colorado: Experienced the highest rate of change for both the ACTs & the SATs.`\n",
    "- During 2018, SAT was able to secure a contract that partnered it with the Colorado, this created a wide adoption of the SAT within Colorado pushing participation rates to 100%. This also caused the ACT participation rate to fall 70% from the previous year to 30%.\n",
    "\n",
    "- Source: https://www.washingtonpost.com/education/2018/10/23/sat-reclaims-title-most-widely-used-college-admission-test/"
   ]
  },
  {
   "cell_type": "markdown",
   "metadata": {},
   "source": [
    "`Illinois: Saw a ten-fold increase on SAT participation rates and a 50% decrease on the ACTs.`\n",
    "- Like Colorado, the SAT was able to secure another crucial partnership here to create a ten-fold increase in participation rates.(9% in 2017 -> 99% in 2018) Similarly with Colorado, the ACT participation rates in Illinois plummeted by 53%.\n",
    "\n",
    "- Source: https://chalkbeat.org/posts/chicago/2018/07/27/act-protests-state-boards-embrace-of-rival-test-provider/"
   ]
  },
  {
   "cell_type": "markdown",
   "metadata": {},
   "source": [
    "`West Virginia: Saw participation for SAT double while ACT saw a slight decrease.`\n",
    "- Unlike the drastic changes in Colorado & Illinois, West Virginia experienced a notable yet not as drastic increase in SAT participants. This seems due to West Virginia offering the SAT as an optional but free test. While it may not be as heavy handed as the actions taken in Illinois & Colorado, it gives the SAT a foot-in-the-door in a state that was more ACT based (69% participation rates during ACT2017)\n",
    "\n",
    "- Source: https://www.wsaz.com/content/news/All-WVa-high-school-juniors-to-begin-taking-SAT-exam-beginning-Spring-2018-444248263.html"
   ]
  },
  {
   "cell_type": "markdown",
   "metadata": {},
   "source": [
    "## Conclusions and Recommendations"
   ]
  },
  {
   "cell_type": "markdown",
   "metadata": {},
   "source": [
    "Based on your exploration of the data, what are you key takeaways and recommendations? Choose one state with a lower participation rate and provide a suggestion for how the College Board might increase participation amongst graduating seniors in this state. Are there additional data you desire that would better inform your investigations?"
   ]
  },
  {
   "cell_type": "markdown",
   "metadata": {},
   "source": [
    "Through the outside research on variables identified through the dataset, it was easy to note that most of the drastic changes toward participation rate tended to be legislative in nature. While actions like giving the test out for free create some foothold, it seems the most effective course of action is through politicians and legislature. To that end, the college board might see best results hiring lobbyists to push for SAT adoption although the action can be seen as heavy handed. \n",
    "\n",
    "Additionally, perhaps a reflection of the SAT strategy compared to the ACT, the ACT boasts impressive 100% participation rates over several states, versus the SAT which has a more scattered participation rate. The reason for the ACT's high participation rates have been key contracts which partner states, which mandate taking the ACTs for students within that state. "
   ]
  }
 ],
 "metadata": {
  "anaconda-cloud": {},
  "kernelspec": {
   "display_name": "Python 3",
   "language": "python",
   "name": "python3"
  },
  "language_info": {
   "codemirror_mode": {
    "name": "ipython",
    "version": 3
   },
   "file_extension": ".py",
   "mimetype": "text/x-python",
   "name": "python",
   "nbconvert_exporter": "python",
   "pygments_lexer": "ipython3",
   "version": "3.8.3"
  },
  "varInspector": {
   "cols": {
    "lenName": 16,
    "lenType": 16,
    "lenVar": 40
   },
   "kernels_config": {
    "python": {
     "delete_cmd_postfix": "",
     "delete_cmd_prefix": "del ",
     "library": "var_list.py",
     "varRefreshCmd": "print(var_dic_list())"
    },
    "r": {
     "delete_cmd_postfix": ") ",
     "delete_cmd_prefix": "rm(",
     "library": "var_list.r",
     "varRefreshCmd": "cat(var_dic_list()) "
    }
   },
   "types_to_exclude": [
    "module",
    "function",
    "builtin_function_or_method",
    "instance",
    "_Feature"
   ],
   "window_display": false
  }
 },
 "nbformat": 4,
 "nbformat_minor": 2
}
