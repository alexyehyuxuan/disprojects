{
 "cells": [
  {
   "cell_type": "markdown",
   "metadata": {},
   "source": [
    "# Problem Statement "
   ]
  },
  {
   "cell_type": "markdown",
   "metadata": {},
   "source": [
    "</br> Reddit is a social media website focused on social news aggregation, web content rating, and discussions. Members contribute content through different subreddits(community-managed pages) that are then voted up or down by other members of the community. Scored through an algorithm that measures votes and among other things time that the post has been there, which assures that new content will always float to the top. Submissions with a high enough score will make it to the front page of reddit. Reddit's subreddits have created interesting niche communities that have flourished and may not have survived on other parts of the internet. \n",
    "\n",
    "r/AmiTheAsshole and r/relationships are subreddits that have communities built around helping people through the collective opinion of others. r/AmiTheAsshole focuses on helping people gain perspective on conflict and r/relationships focuses on helping people in their interpersonal relationships. While the subreddits seem far apart, conflict and interpersonal relationships are often intertwined. By building models to effectively classify between the two subreddits, then finding the features that drive the coefficients, this project aims to understand how people use language when describing general conflict in comparison to interpersonal conflict."
   ]
  },
  {
   "cell_type": "markdown",
   "metadata": {},
   "source": [
    "This notebook aims to retrieve data from Reddit through looping requests of .json files. "
   ]
  },
  {
   "cell_type": "markdown",
   "metadata": {},
   "source": [
    "## Relationships & AmITheAsshole\n",
    "Try to import some Data from reddits "
   ]
  },
  {
   "cell_type": "code",
   "execution_count": 11,
   "metadata": {},
   "outputs": [],
   "source": [
    "import requests\n",
    "import pandas as pd\n",
    "import time\n",
    "import random"
   ]
  },
  {
   "cell_type": "markdown",
   "metadata": {},
   "source": [
    "# Get r/amitheasshole"
   ]
  },
  {
   "cell_type": "code",
   "execution_count": 9,
   "metadata": {},
   "outputs": [],
   "source": [
    "url = 'https://www.reddit.com/r/AmItheAsshole.json'"
   ]
  },
  {
   "cell_type": "code",
   "execution_count": 10,
   "metadata": {},
   "outputs": [],
   "source": [
    "headers = {'User-agent': 'Alex_bot_0.1'}"
   ]
  },
  {
   "cell_type": "code",
   "execution_count": 11,
   "metadata": {},
   "outputs": [],
   "source": [
    "res = requests.get(url, headers=headers)"
   ]
  },
  {
   "cell_type": "code",
   "execution_count": 12,
   "metadata": {},
   "outputs": [
    {
     "data": {
      "text/plain": [
       "200"
      ]
     },
     "execution_count": 12,
     "metadata": {},
     "output_type": "execute_result"
    }
   ],
   "source": [
    "res.status_code"
   ]
  },
  {
   "cell_type": "code",
   "execution_count": 13,
   "metadata": {},
   "outputs": [
    {
     "name": "stdout",
     "output_type": "stream",
     "text": [
      "https://www.reddit.com/r/AmItheAsshole.json\n",
      "4\n",
      "https://www.reddit.com/r/AmItheAsshole.json?after=t3_k0nuyg\n",
      "2\n",
      "https://www.reddit.com/r/AmItheAsshole.json?after=t3_k0ykuq\n",
      "2\n",
      "https://www.reddit.com/r/AmItheAsshole.json?after=t3_k0ldcf\n",
      "5\n",
      "https://www.reddit.com/r/AmItheAsshole.json?after=t3_k10bwi\n",
      "3\n",
      "https://www.reddit.com/r/AmItheAsshole.json?after=t3_k0eysc\n",
      "3\n",
      "https://www.reddit.com/r/AmItheAsshole.json?after=t3_k1acx4\n",
      "3\n",
      "https://www.reddit.com/r/AmItheAsshole.json?after=t3_k11dhw\n",
      "4\n",
      "https://www.reddit.com/r/AmItheAsshole.json?after=t3_k19kok\n",
      "3\n",
      "https://www.reddit.com/r/AmItheAsshole.json?after=t3_k1bnlu\n",
      "4\n",
      "https://www.reddit.com/r/AmItheAsshole.json?after=t3_k18kgj\n",
      "5\n",
      "https://www.reddit.com/r/AmItheAsshole.json?after=t3_k16a3s\n",
      "3\n",
      "https://www.reddit.com/r/AmItheAsshole.json?after=t3_k10ex2\n",
      "4\n",
      "https://www.reddit.com/r/AmItheAsshole.json?after=t3_k17fe1\n",
      "3\n",
      "https://www.reddit.com/r/AmItheAsshole.json?after=t3_k0wbnc\n",
      "3\n",
      "https://www.reddit.com/r/AmItheAsshole.json?after=t3_k0y3fv\n",
      "2\n",
      "https://www.reddit.com/r/AmItheAsshole.json?after=t3_k0z3xp\n",
      "5\n",
      "https://www.reddit.com/r/AmItheAsshole.json?after=t3_k0yrky\n",
      "2\n",
      "https://www.reddit.com/r/AmItheAsshole.json?after=t3_k15ol3\n",
      "4\n",
      "https://www.reddit.com/r/AmItheAsshole.json?after=t3_k14h4f\n",
      "2\n",
      "https://www.reddit.com/r/AmItheAsshole.json?after=t3_k0pr4c\n",
      "3\n",
      "https://www.reddit.com/r/AmItheAsshole.json?after=t3_k0b1s2\n",
      "2\n",
      "https://www.reddit.com/r/AmItheAsshole.json?after=t3_k0i0ij\n",
      "3\n",
      "https://www.reddit.com/r/AmItheAsshole.json?after=t3_jzs01w\n",
      "4\n",
      "https://www.reddit.com/r/AmItheAsshole.json?after=t3_k0hwuq\n",
      "3\n",
      "https://www.reddit.com/r/AmItheAsshole.json?after=t3_k0jqqi\n",
      "3\n",
      "https://www.reddit.com/r/AmItheAsshole.json?after=t3_jzzasy\n",
      "4\n",
      "https://www.reddit.com/r/AmItheAsshole.json?after=t3_k0lri7\n",
      "3\n",
      "https://www.reddit.com/r/AmItheAsshole.json?after=t3_jzpuc4\n",
      "2\n",
      "https://www.reddit.com/r/AmItheAsshole.json?after=t3_k0f25z\n",
      "5\n",
      "https://www.reddit.com/r/AmItheAsshole.json?after=t3_k0gq26\n",
      "3\n",
      "https://www.reddit.com/r/AmItheAsshole.json\n",
      "4\n",
      "https://www.reddit.com/r/AmItheAsshole.json?after=t3_k0nuyg\n",
      "2\n",
      "https://www.reddit.com/r/AmItheAsshole.json?after=t3_k0ykuq\n",
      "2\n",
      "https://www.reddit.com/r/AmItheAsshole.json?after=t3_k0ldcf\n",
      "4\n",
      "https://www.reddit.com/r/AmItheAsshole.json?after=t3_k10bwi\n",
      "5\n",
      "https://www.reddit.com/r/AmItheAsshole.json?after=t3_k18cqm\n",
      "5\n",
      "https://www.reddit.com/r/AmItheAsshole.json?after=t3_k1acx4\n",
      "3\n",
      "https://www.reddit.com/r/AmItheAsshole.json?after=t3_k17247\n",
      "3\n",
      "https://www.reddit.com/r/AmItheAsshole.json?after=t3_k0twz2\n",
      "5\n"
     ]
    }
   ],
   "source": [
    "posts = []\n",
    "after = None\n",
    "\n",
    "for a in range(40):\n",
    "    if after == None:\n",
    "        current_url = url\n",
    "    else:\n",
    "        current_url = url + '?after=' + after\n",
    "    print(current_url)\n",
    "    res = requests.get(current_url, headers=headers)\n",
    "    \n",
    "    if res.status_code != 200:\n",
    "        print('Status error', res.status_code)\n",
    "        break\n",
    "    \n",
    "    current_dict = res.json()\n",
    "    current_posts = [p['data'] for p in current_dict['data']['children']]\n",
    "    posts.extend(current_posts)\n",
    "    after = current_dict['data']['after']\n",
    "    \n",
    "    # generate a random sleep duration to look more 'natural'\n",
    "    sleep_duration = random.randint(2,5)\n",
    "    print(sleep_duration)\n",
    "    time.sleep(sleep_duration)"
   ]
  },
  {
   "cell_type": "code",
   "execution_count": 14,
   "metadata": {},
   "outputs": [
    {
     "data": {
      "text/plain": [
       "981"
      ]
     },
     "execution_count": 14,
     "metadata": {},
     "output_type": "execute_result"
    }
   ],
   "source": [
    "len(posts)"
   ]
  },
  {
   "cell_type": "code",
   "execution_count": 15,
   "metadata": {
    "scrolled": true
   },
   "outputs": [
    {
     "data": {
      "text/html": [
       "<div>\n",
       "<style scoped>\n",
       "    .dataframe tbody tr th:only-of-type {\n",
       "        vertical-align: middle;\n",
       "    }\n",
       "\n",
       "    .dataframe tbody tr th {\n",
       "        vertical-align: top;\n",
       "    }\n",
       "\n",
       "    .dataframe thead th {\n",
       "        text-align: right;\n",
       "    }\n",
       "</style>\n",
       "<table border=\"1\" class=\"dataframe\">\n",
       "  <thead>\n",
       "    <tr style=\"text-align: right;\">\n",
       "      <th></th>\n",
       "      <th>approved_at_utc</th>\n",
       "      <th>subreddit</th>\n",
       "      <th>selftext</th>\n",
       "      <th>author_fullname</th>\n",
       "      <th>saved</th>\n",
       "      <th>mod_reason_title</th>\n",
       "      <th>gilded</th>\n",
       "      <th>clicked</th>\n",
       "      <th>title</th>\n",
       "      <th>link_flair_richtext</th>\n",
       "      <th>...</th>\n",
       "      <th>permalink</th>\n",
       "      <th>parent_whitelist_status</th>\n",
       "      <th>stickied</th>\n",
       "      <th>url</th>\n",
       "      <th>subreddit_subscribers</th>\n",
       "      <th>created_utc</th>\n",
       "      <th>num_crossposts</th>\n",
       "      <th>media</th>\n",
       "      <th>is_video</th>\n",
       "      <th>author_cakeday</th>\n",
       "    </tr>\n",
       "  </thead>\n",
       "  <tbody>\n",
       "    <tr>\n",
       "      <th>971</th>\n",
       "      <td>None</td>\n",
       "      <td>AmItheAsshole</td>\n",
       "      <td>So. I'm in XXclass, and waa waiting in line to...</td>\n",
       "      <td>t2_3ydo629l</td>\n",
       "      <td>False</td>\n",
       "      <td>None</td>\n",
       "      <td>0</td>\n",
       "      <td>False</td>\n",
       "      <td>AITA for reporting one sixthgrade touching my ...</td>\n",
       "      <td>[]</td>\n",
       "      <td>...</td>\n",
       "      <td>/r/AmItheAsshole/comments/k1124j/aita_for_repo...</td>\n",
       "      <td>all_ads</td>\n",
       "      <td>False</td>\n",
       "      <td>https://www.reddit.com/r/AmItheAsshole/comment...</td>\n",
       "      <td>2429506</td>\n",
       "      <td>1.606339e+09</td>\n",
       "      <td>0</td>\n",
       "      <td>None</td>\n",
       "      <td>False</td>\n",
       "      <td>NaN</td>\n",
       "    </tr>\n",
       "    <tr>\n",
       "      <th>972</th>\n",
       "      <td>None</td>\n",
       "      <td>AmItheAsshole</td>\n",
       "      <td>My mom works as a house cleaner. She makes gre...</td>\n",
       "      <td>t2_6hjpialj</td>\n",
       "      <td>False</td>\n",
       "      <td>None</td>\n",
       "      <td>0</td>\n",
       "      <td>False</td>\n",
       "      <td>AITA for not going to work with my mom?</td>\n",
       "      <td>[]</td>\n",
       "      <td>...</td>\n",
       "      <td>/r/AmItheAsshole/comments/k0tym2/aita_for_not_...</td>\n",
       "      <td>all_ads</td>\n",
       "      <td>False</td>\n",
       "      <td>https://www.reddit.com/r/AmItheAsshole/comment...</td>\n",
       "      <td>2429506</td>\n",
       "      <td>1.606317e+09</td>\n",
       "      <td>0</td>\n",
       "      <td>None</td>\n",
       "      <td>False</td>\n",
       "      <td>NaN</td>\n",
       "    </tr>\n",
       "    <tr>\n",
       "      <th>973</th>\n",
       "      <td>None</td>\n",
       "      <td>AmItheAsshole</td>\n",
       "      <td>So, this happened a while ago.  I've already a...</td>\n",
       "      <td>t2_5nnpsji8</td>\n",
       "      <td>False</td>\n",
       "      <td>None</td>\n",
       "      <td>0</td>\n",
       "      <td>False</td>\n",
       "      <td>AITA for being rude to my mom's boyfriend?</td>\n",
       "      <td>[]</td>\n",
       "      <td>...</td>\n",
       "      <td>/r/AmItheAsshole/comments/k1a3cy/aita_for_bein...</td>\n",
       "      <td>all_ads</td>\n",
       "      <td>False</td>\n",
       "      <td>https://www.reddit.com/r/AmItheAsshole/comment...</td>\n",
       "      <td>2429506</td>\n",
       "      <td>1.606372e+09</td>\n",
       "      <td>0</td>\n",
       "      <td>None</td>\n",
       "      <td>False</td>\n",
       "      <td>NaN</td>\n",
       "    </tr>\n",
       "    <tr>\n",
       "      <th>974</th>\n",
       "      <td>None</td>\n",
       "      <td>AmItheAsshole</td>\n",
       "      <td>So I often go to my cousins house, as I only h...</td>\n",
       "      <td>t2_87g1iu7h</td>\n",
       "      <td>False</td>\n",
       "      <td>None</td>\n",
       "      <td>0</td>\n",
       "      <td>False</td>\n",
       "      <td>AITA for yelling at my parents?</td>\n",
       "      <td>[]</td>\n",
       "      <td>...</td>\n",
       "      <td>/r/AmItheAsshole/comments/k14rv7/aita_for_yell...</td>\n",
       "      <td>all_ads</td>\n",
       "      <td>False</td>\n",
       "      <td>https://www.reddit.com/r/AmItheAsshole/comment...</td>\n",
       "      <td>2429506</td>\n",
       "      <td>1.606351e+09</td>\n",
       "      <td>0</td>\n",
       "      <td>None</td>\n",
       "      <td>False</td>\n",
       "      <td>NaN</td>\n",
       "    </tr>\n",
       "    <tr>\n",
       "      <th>975</th>\n",
       "      <td>None</td>\n",
       "      <td>AmItheAsshole</td>\n",
       "      <td>I (24F) and my partner (25M) are unemployed an...</td>\n",
       "      <td>t2_91p94biw</td>\n",
       "      <td>False</td>\n",
       "      <td>None</td>\n",
       "      <td>0</td>\n",
       "      <td>False</td>\n",
       "      <td>WIBTA for asking grandpa to leave his dog at h...</td>\n",
       "      <td>[]</td>\n",
       "      <td>...</td>\n",
       "      <td>/r/AmItheAsshole/comments/k1bq6u/wibta_for_ask...</td>\n",
       "      <td>all_ads</td>\n",
       "      <td>False</td>\n",
       "      <td>https://www.reddit.com/r/AmItheAsshole/comment...</td>\n",
       "      <td>2429506</td>\n",
       "      <td>1.606380e+09</td>\n",
       "      <td>0</td>\n",
       "      <td>None</td>\n",
       "      <td>False</td>\n",
       "      <td>NaN</td>\n",
       "    </tr>\n",
       "    <tr>\n",
       "      <th>976</th>\n",
       "      <td>None</td>\n",
       "      <td>AmItheAsshole</td>\n",
       "      <td>My boyfriend has been talking about getting a ...</td>\n",
       "      <td>t2_91l87fhb</td>\n",
       "      <td>False</td>\n",
       "      <td>None</td>\n",
       "      <td>0</td>\n",
       "      <td>False</td>\n",
       "      <td>AITA for trying to prevent my bf from getting ...</td>\n",
       "      <td>[]</td>\n",
       "      <td>...</td>\n",
       "      <td>/r/AmItheAsshole/comments/k16sbr/aita_for_tryi...</td>\n",
       "      <td>all_ads</td>\n",
       "      <td>False</td>\n",
       "      <td>https://www.reddit.com/r/AmItheAsshole/comment...</td>\n",
       "      <td>2429506</td>\n",
       "      <td>1.606359e+09</td>\n",
       "      <td>0</td>\n",
       "      <td>None</td>\n",
       "      <td>False</td>\n",
       "      <td>NaN</td>\n",
       "    </tr>\n",
       "    <tr>\n",
       "      <th>977</th>\n",
       "      <td>None</td>\n",
       "      <td>AmItheAsshole</td>\n",
       "      <td>So I (23f) am a caregiver for my great grandmo...</td>\n",
       "      <td>t2_m7w2o</td>\n",
       "      <td>False</td>\n",
       "      <td>None</td>\n",
       "      <td>0</td>\n",
       "      <td>False</td>\n",
       "      <td>WIBTA if I told these people to stop getting m...</td>\n",
       "      <td>[]</td>\n",
       "      <td>...</td>\n",
       "      <td>/r/AmItheAsshole/comments/k0wqe5/wibta_if_i_to...</td>\n",
       "      <td>all_ads</td>\n",
       "      <td>False</td>\n",
       "      <td>https://www.reddit.com/r/AmItheAsshole/comment...</td>\n",
       "      <td>2429506</td>\n",
       "      <td>1.606326e+09</td>\n",
       "      <td>0</td>\n",
       "      <td>None</td>\n",
       "      <td>False</td>\n",
       "      <td>NaN</td>\n",
       "    </tr>\n",
       "    <tr>\n",
       "      <th>978</th>\n",
       "      <td>None</td>\n",
       "      <td>AmItheAsshole</td>\n",
       "      <td>Firstly, apologies if the format goes wrong I’...</td>\n",
       "      <td>t2_91glek3d</td>\n",
       "      <td>False</td>\n",
       "      <td>None</td>\n",
       "      <td>0</td>\n",
       "      <td>False</td>\n",
       "      <td>WIBTA if I told my crush to stop venting about...</td>\n",
       "      <td>[]</td>\n",
       "      <td>...</td>\n",
       "      <td>/r/AmItheAsshole/comments/k10tu1/wibta_if_i_to...</td>\n",
       "      <td>all_ads</td>\n",
       "      <td>False</td>\n",
       "      <td>https://www.reddit.com/r/AmItheAsshole/comment...</td>\n",
       "      <td>2429506</td>\n",
       "      <td>1.606338e+09</td>\n",
       "      <td>0</td>\n",
       "      <td>None</td>\n",
       "      <td>False</td>\n",
       "      <td>NaN</td>\n",
       "    </tr>\n",
       "    <tr>\n",
       "      <th>979</th>\n",
       "      <td>None</td>\n",
       "      <td>AmItheAsshole</td>\n",
       "      <td>I (25f) deal with parents, mainly my dad, who ...</td>\n",
       "      <td>t2_90i5z</td>\n",
       "      <td>False</td>\n",
       "      <td>None</td>\n",
       "      <td>1</td>\n",
       "      <td>False</td>\n",
       "      <td>AITA for removing my stalker app after turning...</td>\n",
       "      <td>[]</td>\n",
       "      <td>...</td>\n",
       "      <td>/r/AmItheAsshole/comments/k05ly2/aita_for_remo...</td>\n",
       "      <td>all_ads</td>\n",
       "      <td>False</td>\n",
       "      <td>https://www.reddit.com/r/AmItheAsshole/comment...</td>\n",
       "      <td>2429506</td>\n",
       "      <td>1.606227e+09</td>\n",
       "      <td>0</td>\n",
       "      <td>None</td>\n",
       "      <td>False</td>\n",
       "      <td>NaN</td>\n",
       "    </tr>\n",
       "    <tr>\n",
       "      <th>980</th>\n",
       "      <td>None</td>\n",
       "      <td>AmItheAsshole</td>\n",
       "      <td>This happened in April and it's a long story \\...</td>\n",
       "      <td>t2_3h29slkv</td>\n",
       "      <td>False</td>\n",
       "      <td>None</td>\n",
       "      <td>0</td>\n",
       "      <td>False</td>\n",
       "      <td>AITA for telling a friend I'm here for them?</td>\n",
       "      <td>[]</td>\n",
       "      <td>...</td>\n",
       "      <td>/r/AmItheAsshole/comments/k1bnlu/aita_for_tell...</td>\n",
       "      <td>all_ads</td>\n",
       "      <td>False</td>\n",
       "      <td>https://www.reddit.com/r/AmItheAsshole/comment...</td>\n",
       "      <td>2429506</td>\n",
       "      <td>1.606380e+09</td>\n",
       "      <td>0</td>\n",
       "      <td>None</td>\n",
       "      <td>False</td>\n",
       "      <td>NaN</td>\n",
       "    </tr>\n",
       "  </tbody>\n",
       "</table>\n",
       "<p>10 rows × 104 columns</p>\n",
       "</div>"
      ],
      "text/plain": [
       "    approved_at_utc      subreddit  \\\n",
       "971            None  AmItheAsshole   \n",
       "972            None  AmItheAsshole   \n",
       "973            None  AmItheAsshole   \n",
       "974            None  AmItheAsshole   \n",
       "975            None  AmItheAsshole   \n",
       "976            None  AmItheAsshole   \n",
       "977            None  AmItheAsshole   \n",
       "978            None  AmItheAsshole   \n",
       "979            None  AmItheAsshole   \n",
       "980            None  AmItheAsshole   \n",
       "\n",
       "                                              selftext author_fullname  saved  \\\n",
       "971  So. I'm in XXclass, and waa waiting in line to...     t2_3ydo629l  False   \n",
       "972  My mom works as a house cleaner. She makes gre...     t2_6hjpialj  False   \n",
       "973  So, this happened a while ago.  I've already a...     t2_5nnpsji8  False   \n",
       "974  So I often go to my cousins house, as I only h...     t2_87g1iu7h  False   \n",
       "975  I (24F) and my partner (25M) are unemployed an...     t2_91p94biw  False   \n",
       "976  My boyfriend has been talking about getting a ...     t2_91l87fhb  False   \n",
       "977  So I (23f) am a caregiver for my great grandmo...        t2_m7w2o  False   \n",
       "978  Firstly, apologies if the format goes wrong I’...     t2_91glek3d  False   \n",
       "979  I (25f) deal with parents, mainly my dad, who ...        t2_90i5z  False   \n",
       "980  This happened in April and it's a long story \\...     t2_3h29slkv  False   \n",
       "\n",
       "    mod_reason_title  gilded  clicked  \\\n",
       "971             None       0    False   \n",
       "972             None       0    False   \n",
       "973             None       0    False   \n",
       "974             None       0    False   \n",
       "975             None       0    False   \n",
       "976             None       0    False   \n",
       "977             None       0    False   \n",
       "978             None       0    False   \n",
       "979             None       1    False   \n",
       "980             None       0    False   \n",
       "\n",
       "                                                 title link_flair_richtext  \\\n",
       "971  AITA for reporting one sixthgrade touching my ...                  []   \n",
       "972            AITA for not going to work with my mom?                  []   \n",
       "973         AITA for being rude to my mom's boyfriend?                  []   \n",
       "974                    AITA for yelling at my parents?                  []   \n",
       "975  WIBTA for asking grandpa to leave his dog at h...                  []   \n",
       "976  AITA for trying to prevent my bf from getting ...                  []   \n",
       "977  WIBTA if I told these people to stop getting m...                  []   \n",
       "978  WIBTA if I told my crush to stop venting about...                  []   \n",
       "979  AITA for removing my stalker app after turning...                  []   \n",
       "980       AITA for telling a friend I'm here for them?                  []   \n",
       "\n",
       "     ...                                          permalink  \\\n",
       "971  ...  /r/AmItheAsshole/comments/k1124j/aita_for_repo...   \n",
       "972  ...  /r/AmItheAsshole/comments/k0tym2/aita_for_not_...   \n",
       "973  ...  /r/AmItheAsshole/comments/k1a3cy/aita_for_bein...   \n",
       "974  ...  /r/AmItheAsshole/comments/k14rv7/aita_for_yell...   \n",
       "975  ...  /r/AmItheAsshole/comments/k1bq6u/wibta_for_ask...   \n",
       "976  ...  /r/AmItheAsshole/comments/k16sbr/aita_for_tryi...   \n",
       "977  ...  /r/AmItheAsshole/comments/k0wqe5/wibta_if_i_to...   \n",
       "978  ...  /r/AmItheAsshole/comments/k10tu1/wibta_if_i_to...   \n",
       "979  ...  /r/AmItheAsshole/comments/k05ly2/aita_for_remo...   \n",
       "980  ...  /r/AmItheAsshole/comments/k1bnlu/aita_for_tell...   \n",
       "\n",
       "     parent_whitelist_status  stickied  \\\n",
       "971                  all_ads     False   \n",
       "972                  all_ads     False   \n",
       "973                  all_ads     False   \n",
       "974                  all_ads     False   \n",
       "975                  all_ads     False   \n",
       "976                  all_ads     False   \n",
       "977                  all_ads     False   \n",
       "978                  all_ads     False   \n",
       "979                  all_ads     False   \n",
       "980                  all_ads     False   \n",
       "\n",
       "                                                   url  subreddit_subscribers  \\\n",
       "971  https://www.reddit.com/r/AmItheAsshole/comment...                2429506   \n",
       "972  https://www.reddit.com/r/AmItheAsshole/comment...                2429506   \n",
       "973  https://www.reddit.com/r/AmItheAsshole/comment...                2429506   \n",
       "974  https://www.reddit.com/r/AmItheAsshole/comment...                2429506   \n",
       "975  https://www.reddit.com/r/AmItheAsshole/comment...                2429506   \n",
       "976  https://www.reddit.com/r/AmItheAsshole/comment...                2429506   \n",
       "977  https://www.reddit.com/r/AmItheAsshole/comment...                2429506   \n",
       "978  https://www.reddit.com/r/AmItheAsshole/comment...                2429506   \n",
       "979  https://www.reddit.com/r/AmItheAsshole/comment...                2429506   \n",
       "980  https://www.reddit.com/r/AmItheAsshole/comment...                2429506   \n",
       "\n",
       "      created_utc  num_crossposts media  is_video author_cakeday  \n",
       "971  1.606339e+09               0  None     False            NaN  \n",
       "972  1.606317e+09               0  None     False            NaN  \n",
       "973  1.606372e+09               0  None     False            NaN  \n",
       "974  1.606351e+09               0  None     False            NaN  \n",
       "975  1.606380e+09               0  None     False            NaN  \n",
       "976  1.606359e+09               0  None     False            NaN  \n",
       "977  1.606326e+09               0  None     False            NaN  \n",
       "978  1.606338e+09               0  None     False            NaN  \n",
       "979  1.606227e+09               0  None     False            NaN  \n",
       "980  1.606380e+09               0  None     False            NaN  \n",
       "\n",
       "[10 rows x 104 columns]"
      ]
     },
     "execution_count": 15,
     "metadata": {},
     "output_type": "execute_result"
    }
   ],
   "source": [
    "aita = pd.DataFrame(posts)\n",
    "aita.tail()"
   ]
  },
  {
   "cell_type": "code",
   "execution_count": 16,
   "metadata": {},
   "outputs": [
    {
     "data": {
      "text/plain": [
       "(981, 104)"
      ]
     },
     "execution_count": 16,
     "metadata": {},
     "output_type": "execute_result"
    }
   ],
   "source": [
    "aita.shape"
   ]
  },
  {
   "cell_type": "code",
   "execution_count": 17,
   "metadata": {},
   "outputs": [],
   "source": [
    "aita.to_csv('aita.csv', index=False)"
   ]
  },
  {
   "cell_type": "markdown",
   "metadata": {},
   "source": [
    "# Get r/Relationships data"
   ]
  },
  {
   "cell_type": "code",
   "execution_count": 18,
   "metadata": {},
   "outputs": [],
   "source": [
    "url = 'https://www.reddit.com/r/relationships/.json'"
   ]
  },
  {
   "cell_type": "code",
   "execution_count": 19,
   "metadata": {},
   "outputs": [],
   "source": [
    "headers = {'User-agent': 'Alex_bot_0.1'}"
   ]
  },
  {
   "cell_type": "code",
   "execution_count": 20,
   "metadata": {},
   "outputs": [],
   "source": [
    "res = requests.get(url, headers=headers)"
   ]
  },
  {
   "cell_type": "code",
   "execution_count": 21,
   "metadata": {},
   "outputs": [
    {
     "data": {
      "text/plain": [
       "200"
      ]
     },
     "execution_count": 21,
     "metadata": {},
     "output_type": "execute_result"
    }
   ],
   "source": [
    "res.status_code"
   ]
  },
  {
   "cell_type": "code",
   "execution_count": 22,
   "metadata": {
    "scrolled": true
   },
   "outputs": [
    {
     "name": "stdout",
     "output_type": "stream",
     "text": [
      "https://www.reddit.com/r/relationships/.json\n",
      "5\n",
      "https://www.reddit.com/r/relationships/.json?after=t3_k140cv\n",
      "4\n",
      "https://www.reddit.com/r/relationships/.json?after=t3_k1b8vl\n",
      "3\n",
      "https://www.reddit.com/r/relationships/.json?after=t3_k15srz\n",
      "4\n",
      "https://www.reddit.com/r/relationships/.json?after=t3_k0v4hr\n",
      "2\n",
      "https://www.reddit.com/r/relationships/.json?after=t3_k0ywwg\n",
      "3\n",
      "https://www.reddit.com/r/relationships/.json?after=t3_k0z7r2\n",
      "3\n",
      "https://www.reddit.com/r/relationships/.json?after=t3_k0vgaf\n",
      "5\n",
      "https://www.reddit.com/r/relationships/.json?after=t3_k0l3x4\n",
      "3\n",
      "https://www.reddit.com/r/relationships/.json?after=t3_k0cv6w\n",
      "4\n",
      "https://www.reddit.com/r/relationships/.json?after=t3_k0l6g3\n",
      "4\n",
      "https://www.reddit.com/r/relationships/.json?after=t3_k0f7s9\n",
      "4\n",
      "https://www.reddit.com/r/relationships/.json?after=t3_jzsl7u\n",
      "3\n",
      "https://www.reddit.com/r/relationships/.json?after=t3_k0ag4u\n",
      "2\n",
      "https://www.reddit.com/r/relationships/.json?after=t3_k02sxc\n",
      "3\n",
      "https://www.reddit.com/r/relationships/.json?after=t3_jzmfq6\n",
      "4\n",
      "https://www.reddit.com/r/relationships/.json?after=t3_jzuds2\n",
      "5\n",
      "https://www.reddit.com/r/relationships/.json?after=t3_jzznei\n",
      "4\n",
      "https://www.reddit.com/r/relationships/.json?after=t3_jzls1b\n",
      "3\n",
      "https://www.reddit.com/r/relationships/.json\n",
      "3\n",
      "https://www.reddit.com/r/relationships/.json?after=t3_k140cv\n",
      "3\n",
      "https://www.reddit.com/r/relationships/.json?after=t3_k1b8vl\n",
      "4\n",
      "https://www.reddit.com/r/relationships/.json?after=t3_k15srz\n",
      "5\n",
      "https://www.reddit.com/r/relationships/.json?after=t3_k0v4hr\n",
      "3\n",
      "https://www.reddit.com/r/relationships/.json?after=t3_k0ywwg\n",
      "2\n",
      "https://www.reddit.com/r/relationships/.json?after=t3_k0z7r2\n",
      "5\n",
      "https://www.reddit.com/r/relationships/.json?after=t3_k0vgaf\n",
      "2\n",
      "https://www.reddit.com/r/relationships/.json?after=t3_k0l3x4\n",
      "3\n",
      "https://www.reddit.com/r/relationships/.json?after=t3_k0cv6w\n",
      "2\n",
      "https://www.reddit.com/r/relationships/.json?after=t3_k0l6g3\n",
      "5\n",
      "https://www.reddit.com/r/relationships/.json?after=t3_k0f7s9\n",
      "4\n",
      "https://www.reddit.com/r/relationships/.json?after=t3_jzsl7u\n",
      "5\n",
      "https://www.reddit.com/r/relationships/.json?after=t3_k0ag4u\n",
      "4\n",
      "https://www.reddit.com/r/relationships/.json?after=t3_k02sxc\n",
      "5\n",
      "https://www.reddit.com/r/relationships/.json?after=t3_jzmfq6\n",
      "3\n",
      "https://www.reddit.com/r/relationships/.json?after=t3_jzuds2\n",
      "2\n",
      "https://www.reddit.com/r/relationships/.json?after=t3_jzznei\n",
      "4\n",
      "https://www.reddit.com/r/relationships/.json?after=t3_jzls1b\n",
      "2\n",
      "https://www.reddit.com/r/relationships/.json\n",
      "4\n",
      "https://www.reddit.com/r/relationships/.json?after=t3_k140cv\n",
      "3\n"
     ]
    }
   ],
   "source": [
    "posts = []\n",
    "after = None\n",
    "\n",
    "for a in range(40):\n",
    "    if after == None:\n",
    "        current_url = url\n",
    "    else:\n",
    "        current_url = url + '?after=' + after\n",
    "    print(current_url)\n",
    "    res = requests.get(current_url, headers=headers)\n",
    "    \n",
    "    if res.status_code != 200:\n",
    "        print('Status error', res.status_code)\n",
    "        break\n",
    "    \n",
    "    current_dict = res.json()\n",
    "    current_posts = [p['data'] for p in current_dict['data']['children']]\n",
    "    posts.extend(current_posts)\n",
    "    after = current_dict['data']['after']\n",
    "    \n",
    "    # generate a random sleep duration to look more 'natural'\n",
    "    sleep_duration = random.randint(2,5)\n",
    "    print(sleep_duration)\n",
    "    time.sleep(sleep_duration)"
   ]
  },
  {
   "cell_type": "code",
   "execution_count": 26,
   "metadata": {},
   "outputs": [
    {
     "data": {
      "text/html": [
       "<div>\n",
       "<style scoped>\n",
       "    .dataframe tbody tr th:only-of-type {\n",
       "        vertical-align: middle;\n",
       "    }\n",
       "\n",
       "    .dataframe tbody tr th {\n",
       "        vertical-align: top;\n",
       "    }\n",
       "\n",
       "    .dataframe thead th {\n",
       "        text-align: right;\n",
       "    }\n",
       "</style>\n",
       "<table border=\"1\" class=\"dataframe\">\n",
       "  <thead>\n",
       "    <tr style=\"text-align: right;\">\n",
       "      <th></th>\n",
       "      <th>approved_at_utc</th>\n",
       "      <th>subreddit</th>\n",
       "      <th>selftext</th>\n",
       "      <th>author_fullname</th>\n",
       "      <th>saved</th>\n",
       "      <th>mod_reason_title</th>\n",
       "      <th>gilded</th>\n",
       "      <th>clicked</th>\n",
       "      <th>title</th>\n",
       "      <th>link_flair_richtext</th>\n",
       "      <th>...</th>\n",
       "      <th>permalink</th>\n",
       "      <th>parent_whitelist_status</th>\n",
       "      <th>stickied</th>\n",
       "      <th>url</th>\n",
       "      <th>subreddit_subscribers</th>\n",
       "      <th>created_utc</th>\n",
       "      <th>num_crossposts</th>\n",
       "      <th>media</th>\n",
       "      <th>is_video</th>\n",
       "      <th>author_cakeday</th>\n",
       "    </tr>\n",
       "  </thead>\n",
       "  <tbody>\n",
       "    <tr>\n",
       "      <th>812</th>\n",
       "      <td>None</td>\n",
       "      <td>relationships</td>\n",
       "      <td>I have been teaching my MIL’s middle school cl...</td>\n",
       "      <td>t2_72h7mkf</td>\n",
       "      <td>False</td>\n",
       "      <td>None</td>\n",
       "      <td>0</td>\n",
       "      <td>False</td>\n",
       "      <td>Am I (M29) in the right for wanting to ask my ...</td>\n",
       "      <td>[]</td>\n",
       "      <td>...</td>\n",
       "      <td>/r/relationships/comments/k69w8g/am_i_m29_in_t...</td>\n",
       "      <td>all_ads</td>\n",
       "      <td>False</td>\n",
       "      <td>https://www.reddit.com/r/relationships/comment...</td>\n",
       "      <td>3005560</td>\n",
       "      <td>1.607041e+09</td>\n",
       "      <td>0</td>\n",
       "      <td>None</td>\n",
       "      <td>False</td>\n",
       "      <td>NaN</td>\n",
       "    </tr>\n",
       "    <tr>\n",
       "      <th>813</th>\n",
       "      <td>None</td>\n",
       "      <td>relationships</td>\n",
       "      <td>\\nMy husband lies to me about almost everythin...</td>\n",
       "      <td>t2_5buyht28</td>\n",
       "      <td>False</td>\n",
       "      <td>None</td>\n",
       "      <td>0</td>\n",
       "      <td>False</td>\n",
       "      <td>Is my husband falling out of love with me?</td>\n",
       "      <td>[]</td>\n",
       "      <td>...</td>\n",
       "      <td>/r/relationships/comments/k69ug5/is_my_husband...</td>\n",
       "      <td>all_ads</td>\n",
       "      <td>False</td>\n",
       "      <td>https://www.reddit.com/r/relationships/comment...</td>\n",
       "      <td>3005560</td>\n",
       "      <td>1.607041e+09</td>\n",
       "      <td>0</td>\n",
       "      <td>None</td>\n",
       "      <td>False</td>\n",
       "      <td>NaN</td>\n",
       "    </tr>\n",
       "    <tr>\n",
       "      <th>814</th>\n",
       "      <td>None</td>\n",
       "      <td>relationships</td>\n",
       "      <td>Sorry if it comes out as dumb but I'm just con...</td>\n",
       "      <td>t2_441rqhjd</td>\n",
       "      <td>False</td>\n",
       "      <td>None</td>\n",
       "      <td>0</td>\n",
       "      <td>False</td>\n",
       "      <td>A guy (25M) asked me (23F) to go skate next we...</td>\n",
       "      <td>[]</td>\n",
       "      <td>...</td>\n",
       "      <td>/r/relationships/comments/k63jrw/a_guy_25m_ask...</td>\n",
       "      <td>all_ads</td>\n",
       "      <td>False</td>\n",
       "      <td>https://www.reddit.com/r/relationships/comment...</td>\n",
       "      <td>3005560</td>\n",
       "      <td>1.607022e+09</td>\n",
       "      <td>0</td>\n",
       "      <td>None</td>\n",
       "      <td>False</td>\n",
       "      <td>NaN</td>\n",
       "    </tr>\n",
       "    <tr>\n",
       "      <th>815</th>\n",
       "      <td>None</td>\n",
       "      <td>relationships</td>\n",
       "      <td>Clarification: As with all Asian family outsid...</td>\n",
       "      <td>t2_6f2sotlp</td>\n",
       "      <td>False</td>\n",
       "      <td>None</td>\n",
       "      <td>0</td>\n",
       "      <td>False</td>\n",
       "      <td>Son stuck in grandma-mom feud. (Part I)</td>\n",
       "      <td>[]</td>\n",
       "      <td>...</td>\n",
       "      <td>/r/relationships/comments/k6bruf/son_stuck_in_...</td>\n",
       "      <td>all_ads</td>\n",
       "      <td>False</td>\n",
       "      <td>https://www.reddit.com/r/relationships/comment...</td>\n",
       "      <td>3005560</td>\n",
       "      <td>1.607049e+09</td>\n",
       "      <td>0</td>\n",
       "      <td>None</td>\n",
       "      <td>False</td>\n",
       "      <td>NaN</td>\n",
       "    </tr>\n",
       "    <tr>\n",
       "      <th>816</th>\n",
       "      <td>None</td>\n",
       "      <td>relationships</td>\n",
       "      <td>TLDR: I want to have copious amounts of sex bu...</td>\n",
       "      <td>t2_12i65vwy</td>\n",
       "      <td>False</td>\n",
       "      <td>None</td>\n",
       "      <td>0</td>\n",
       "      <td>False</td>\n",
       "      <td>I'm (24F) am addicted to secret sex and affair...</td>\n",
       "      <td>[]</td>\n",
       "      <td>...</td>\n",
       "      <td>/r/relationships/comments/k6q203/im_24f_am_add...</td>\n",
       "      <td>all_ads</td>\n",
       "      <td>False</td>\n",
       "      <td>https://www.reddit.com/r/relationships/comment...</td>\n",
       "      <td>3005560</td>\n",
       "      <td>1.607105e+09</td>\n",
       "      <td>0</td>\n",
       "      <td>None</td>\n",
       "      <td>False</td>\n",
       "      <td>NaN</td>\n",
       "    </tr>\n",
       "  </tbody>\n",
       "</table>\n",
       "<p>5 rows × 104 columns</p>\n",
       "</div>"
      ],
      "text/plain": [
       "    approved_at_utc      subreddit  \\\n",
       "812            None  relationships   \n",
       "813            None  relationships   \n",
       "814            None  relationships   \n",
       "815            None  relationships   \n",
       "816            None  relationships   \n",
       "\n",
       "                                              selftext author_fullname  saved  \\\n",
       "812  I have been teaching my MIL’s middle school cl...      t2_72h7mkf  False   \n",
       "813  \\nMy husband lies to me about almost everythin...     t2_5buyht28  False   \n",
       "814  Sorry if it comes out as dumb but I'm just con...     t2_441rqhjd  False   \n",
       "815  Clarification: As with all Asian family outsid...     t2_6f2sotlp  False   \n",
       "816  TLDR: I want to have copious amounts of sex bu...     t2_12i65vwy  False   \n",
       "\n",
       "    mod_reason_title  gilded  clicked  \\\n",
       "812             None       0    False   \n",
       "813             None       0    False   \n",
       "814             None       0    False   \n",
       "815             None       0    False   \n",
       "816             None       0    False   \n",
       "\n",
       "                                                 title link_flair_richtext  \\\n",
       "812  Am I (M29) in the right for wanting to ask my ...                  []   \n",
       "813         Is my husband falling out of love with me?                  []   \n",
       "814  A guy (25M) asked me (23F) to go skate next we...                  []   \n",
       "815            Son stuck in grandma-mom feud. (Part I)                  []   \n",
       "816  I'm (24F) am addicted to secret sex and affair...                  []   \n",
       "\n",
       "     ...                                          permalink  \\\n",
       "812  ...  /r/relationships/comments/k69w8g/am_i_m29_in_t...   \n",
       "813  ...  /r/relationships/comments/k69ug5/is_my_husband...   \n",
       "814  ...  /r/relationships/comments/k63jrw/a_guy_25m_ask...   \n",
       "815  ...  /r/relationships/comments/k6bruf/son_stuck_in_...   \n",
       "816  ...  /r/relationships/comments/k6q203/im_24f_am_add...   \n",
       "\n",
       "     parent_whitelist_status  stickied  \\\n",
       "812                  all_ads     False   \n",
       "813                  all_ads     False   \n",
       "814                  all_ads     False   \n",
       "815                  all_ads     False   \n",
       "816                  all_ads     False   \n",
       "\n",
       "                                                   url  subreddit_subscribers  \\\n",
       "812  https://www.reddit.com/r/relationships/comment...                3005560   \n",
       "813  https://www.reddit.com/r/relationships/comment...                3005560   \n",
       "814  https://www.reddit.com/r/relationships/comment...                3005560   \n",
       "815  https://www.reddit.com/r/relationships/comment...                3005560   \n",
       "816  https://www.reddit.com/r/relationships/comment...                3005560   \n",
       "\n",
       "      created_utc  num_crossposts media  is_video author_cakeday  \n",
       "812  1.607041e+09               0  None     False            NaN  \n",
       "813  1.607041e+09               0  None     False            NaN  \n",
       "814  1.607022e+09               0  None     False            NaN  \n",
       "815  1.607049e+09               0  None     False            NaN  \n",
       "816  1.607105e+09               0  None     False            NaN  \n",
       "\n",
       "[5 rows x 104 columns]"
      ]
     },
     "execution_count": 26,
     "metadata": {},
     "output_type": "execute_result"
    }
   ],
   "source": [
    "rs = pd.DataFrame(posts)\n",
    "rs.tail()"
   ]
  },
  {
   "cell_type": "code",
   "execution_count": 24,
   "metadata": {},
   "outputs": [
    {
     "data": {
      "text/plain": [
       "(994, 103)"
      ]
     },
     "execution_count": 24,
     "metadata": {},
     "output_type": "execute_result"
    }
   ],
   "source": [
    "rs.shape"
   ]
  },
  {
   "cell_type": "markdown",
   "metadata": {},
   "source": [
    "# Dropping duplicate posts"
   ]
  },
  {
   "cell_type": "code",
   "execution_count": 66,
   "metadata": {},
   "outputs": [
    {
     "data": {
      "text/plain": [
       "(754, 104)"
      ]
     },
     "execution_count": 66,
     "metadata": {},
     "output_type": "execute_result"
    }
   ],
   "source": [
    "aita = pd.read_csv('datasets/aita.csv')\n",
    "aita.drop_duplicates(subset =['selftext','title'], keep= 'first',inplace=True)\n",
    "aita.shape"
   ]
  },
  {
   "cell_type": "code",
   "execution_count": 67,
   "metadata": {},
   "outputs": [
    {
     "data": {
      "text/plain": [
       "(470, 103)"
      ]
     },
     "execution_count": 67,
     "metadata": {},
     "output_type": "execute_result"
    }
   ],
   "source": [
    "rs = pd.read_csv('datasets/rs.csv')\n",
    "rs.drop_duplicates(subset =['selftext','title'],keep= 'first',inplace=True)\n",
    "rs.shape"
   ]
  },
  {
   "cell_type": "markdown",
   "metadata": {},
   "source": [
    "#### After dropping duplicate posts, the dataset shrank considerably. Making a second pull for more datasets. "
   ]
  },
  {
   "cell_type": "code",
   "execution_count": 68,
   "metadata": {},
   "outputs": [
    {
     "data": {
      "text/plain": [
       "0.23139653414882771"
      ]
     },
     "execution_count": 68,
     "metadata": {},
     "output_type": "execute_result"
    }
   ],
   "source": [
    "#Ratio of r/AmiTheAsshole posts that were dropped\n",
    "(981 - 754) / 981"
   ]
  },
  {
   "cell_type": "code",
   "execution_count": 69,
   "metadata": {},
   "outputs": [
    {
     "data": {
      "text/plain": [
       "302.92354740061165"
      ]
     },
     "execution_count": 69,
     "metadata": {},
     "output_type": "execute_result"
    }
   ],
   "source": [
    "(1000 - 754)*1.23139653414882771"
   ]
  },
  {
   "cell_type": "code",
   "execution_count": 70,
   "metadata": {},
   "outputs": [
    {
     "data": {
      "text/plain": [
       "0.5291750503018109"
      ]
     },
     "execution_count": 70,
     "metadata": {},
     "output_type": "execute_result"
    }
   ],
   "source": [
    "#Ratio of r/relationship posts that were dropped\n",
    "(994 - 468) / 994"
   ]
  },
  {
   "cell_type": "code",
   "execution_count": 71,
   "metadata": {},
   "outputs": [
    {
     "data": {
      "text/plain": [
       "813.5211267605634"
      ]
     },
     "execution_count": 71,
     "metadata": {},
     "output_type": "execute_result"
    }
   ],
   "source": [
    "(1000-468)* 1.5291750503018109"
   ]
  },
  {
   "cell_type": "code",
   "execution_count": 72,
   "metadata": {},
   "outputs": [
    {
     "data": {
      "text/plain": [
       "532"
      ]
     },
     "execution_count": 72,
     "metadata": {},
     "output_type": "execute_result"
    }
   ],
   "source": [
    "1000-468"
   ]
  },
  {
   "cell_type": "markdown",
   "metadata": {},
   "source": [
    "# Second Pull for r/AmiTheAsshole"
   ]
  },
  {
   "cell_type": "code",
   "execution_count": 73,
   "metadata": {},
   "outputs": [],
   "source": [
    "url = 'https://www.reddit.com/r/AmItheAsshole.json'"
   ]
  },
  {
   "cell_type": "code",
   "execution_count": 74,
   "metadata": {},
   "outputs": [],
   "source": [
    "headers = {'User-agent': 'Alex_bot_0.1'}"
   ]
  },
  {
   "cell_type": "code",
   "execution_count": 75,
   "metadata": {},
   "outputs": [],
   "source": [
    "res = requests.get(url, headers=headers)"
   ]
  },
  {
   "cell_type": "code",
   "execution_count": 76,
   "metadata": {},
   "outputs": [
    {
     "data": {
      "text/plain": [
       "200"
      ]
     },
     "execution_count": 76,
     "metadata": {},
     "output_type": "execute_result"
    }
   ],
   "source": [
    "res.status_code"
   ]
  },
  {
   "cell_type": "code",
   "execution_count": 77,
   "metadata": {},
   "outputs": [
    {
     "name": "stdout",
     "output_type": "stream",
     "text": [
      "https://www.reddit.com/r/AmItheAsshole.json\n",
      "5\n",
      "https://www.reddit.com/r/AmItheAsshole.json?after=t3_k7glbb\n",
      "2\n",
      "https://www.reddit.com/r/AmItheAsshole.json?after=t3_k7jey5\n",
      "4\n",
      "https://www.reddit.com/r/AmItheAsshole.json?after=t3_k7kxou\n",
      "2\n",
      "https://www.reddit.com/r/AmItheAsshole.json?after=t3_k7lqwx\n",
      "3\n",
      "https://www.reddit.com/r/AmItheAsshole.json?after=t3_k7n4rb\n",
      "3\n",
      "https://www.reddit.com/r/AmItheAsshole.json?after=t3_k6pwvi\n",
      "4\n",
      "https://www.reddit.com/r/AmItheAsshole.json?after=t3_k7g6x7\n",
      "5\n",
      "https://www.reddit.com/r/AmItheAsshole.json?after=t3_k7k9l0\n",
      "5\n",
      "https://www.reddit.com/r/AmItheAsshole.json?after=t3_k7k47n\n",
      "4\n",
      "https://www.reddit.com/r/AmItheAsshole.json?after=t3_k7ent6\n",
      "4\n",
      "https://www.reddit.com/r/AmItheAsshole.json?after=t3_k6xpiw\n",
      "3\n"
     ]
    }
   ],
   "source": [
    "posts = []\n",
    "after = None\n",
    "\n",
    "for a in range(12):\n",
    "    if after == None:\n",
    "        current_url = url\n",
    "    else:\n",
    "        current_url = url + '?after=' + after\n",
    "    print(current_url)\n",
    "    res = requests.get(current_url, headers=headers)\n",
    "    \n",
    "    if res.status_code != 200:\n",
    "        print('Status error', res.status_code)\n",
    "        break\n",
    "    \n",
    "    current_dict = res.json()\n",
    "    current_posts = [p['data'] for p in current_dict['data']['children']]\n",
    "    posts.extend(current_posts)\n",
    "    after = current_dict['data']['after']\n",
    "    \n",
    "    # generate a random sleep duration to look more 'natural'\n",
    "    sleep_duration = random.randint(2,5)\n",
    "    print(sleep_duration)\n",
    "    time.sleep(sleep_duration)"
   ]
  },
  {
   "cell_type": "code",
   "execution_count": 78,
   "metadata": {},
   "outputs": [
    {
     "data": {
      "text/html": [
       "<div>\n",
       "<style scoped>\n",
       "    .dataframe tbody tr th:only-of-type {\n",
       "        vertical-align: middle;\n",
       "    }\n",
       "\n",
       "    .dataframe tbody tr th {\n",
       "        vertical-align: top;\n",
       "    }\n",
       "\n",
       "    .dataframe thead th {\n",
       "        text-align: right;\n",
       "    }\n",
       "</style>\n",
       "<table border=\"1\" class=\"dataframe\">\n",
       "  <thead>\n",
       "    <tr style=\"text-align: right;\">\n",
       "      <th></th>\n",
       "      <th>approved_at_utc</th>\n",
       "      <th>subreddit</th>\n",
       "      <th>selftext</th>\n",
       "      <th>author_fullname</th>\n",
       "      <th>saved</th>\n",
       "      <th>mod_reason_title</th>\n",
       "      <th>gilded</th>\n",
       "      <th>clicked</th>\n",
       "      <th>title</th>\n",
       "      <th>link_flair_richtext</th>\n",
       "      <th>...</th>\n",
       "      <th>permalink</th>\n",
       "      <th>parent_whitelist_status</th>\n",
       "      <th>stickied</th>\n",
       "      <th>url</th>\n",
       "      <th>subreddit_subscribers</th>\n",
       "      <th>created_utc</th>\n",
       "      <th>num_crossposts</th>\n",
       "      <th>media</th>\n",
       "      <th>is_video</th>\n",
       "      <th>author_cakeday</th>\n",
       "    </tr>\n",
       "  </thead>\n",
       "  <tbody>\n",
       "    <tr>\n",
       "      <th>0</th>\n",
       "      <td>None</td>\n",
       "      <td>AmItheAsshole</td>\n",
       "      <td>[This recent vice article](https://www.vice.co...</td>\n",
       "      <td>t2_7ojjg</td>\n",
       "      <td>False</td>\n",
       "      <td>None</td>\n",
       "      <td>1</td>\n",
       "      <td>False</td>\n",
       "      <td>New Resources for Anyone Looking to Help Those...</td>\n",
       "      <td>[]</td>\n",
       "      <td>...</td>\n",
       "      <td>/r/AmItheAsshole/comments/jbswil/new_resources...</td>\n",
       "      <td>all_ads</td>\n",
       "      <td>True</td>\n",
       "      <td>https://www.reddit.com/r/AmItheAsshole/comment...</td>\n",
       "      <td>2446895</td>\n",
       "      <td>1.602785e+09</td>\n",
       "      <td>2</td>\n",
       "      <td>None</td>\n",
       "      <td>False</td>\n",
       "      <td>NaN</td>\n",
       "    </tr>\n",
       "    <tr>\n",
       "      <th>1</th>\n",
       "      <td>None</td>\n",
       "      <td>AmItheAsshole</td>\n",
       "      <td>Welcome to the monthly open forum! This is the...</td>\n",
       "      <td>t2_2yspbtwq</td>\n",
       "      <td>False</td>\n",
       "      <td>None</td>\n",
       "      <td>0</td>\n",
       "      <td>False</td>\n",
       "      <td>Monthly Open Forum December 2020</td>\n",
       "      <td>[]</td>\n",
       "      <td>...</td>\n",
       "      <td>/r/AmItheAsshole/comments/k4owfz/monthly_open_...</td>\n",
       "      <td>all_ads</td>\n",
       "      <td>True</td>\n",
       "      <td>https://www.reddit.com/r/AmItheAsshole/comment...</td>\n",
       "      <td>2446895</td>\n",
       "      <td>1.606842e+09</td>\n",
       "      <td>1</td>\n",
       "      <td>None</td>\n",
       "      <td>False</td>\n",
       "      <td>NaN</td>\n",
       "    </tr>\n",
       "    <tr>\n",
       "      <th>2</th>\n",
       "      <td>None</td>\n",
       "      <td>AmItheAsshole</td>\n",
       "      <td>Husband (28m) and I (28f) live in Colorado. We...</td>\n",
       "      <td>t2_96l4cm06</td>\n",
       "      <td>False</td>\n",
       "      <td>None</td>\n",
       "      <td>1</td>\n",
       "      <td>False</td>\n",
       "      <td>AITA for \"dramatically\" running away from an i...</td>\n",
       "      <td>[]</td>\n",
       "      <td>...</td>\n",
       "      <td>/r/AmItheAsshole/comments/k7evv4/aita_for_dram...</td>\n",
       "      <td>all_ads</td>\n",
       "      <td>False</td>\n",
       "      <td>https://www.reddit.com/r/AmItheAsshole/comment...</td>\n",
       "      <td>2446895</td>\n",
       "      <td>1.607199e+09</td>\n",
       "      <td>1</td>\n",
       "      <td>None</td>\n",
       "      <td>False</td>\n",
       "      <td>NaN</td>\n",
       "    </tr>\n",
       "    <tr>\n",
       "      <th>3</th>\n",
       "      <td>None</td>\n",
       "      <td>AmItheAsshole</td>\n",
       "      <td>I'm a freshman in college and before college I...</td>\n",
       "      <td>t2_96hrapyj</td>\n",
       "      <td>False</td>\n",
       "      <td>None</td>\n",
       "      <td>0</td>\n",
       "      <td>False</td>\n",
       "      <td>AITA for giving my family the silent treatment...</td>\n",
       "      <td>[]</td>\n",
       "      <td>...</td>\n",
       "      <td>/r/AmItheAsshole/comments/k7bpjd/aita_for_givi...</td>\n",
       "      <td>all_ads</td>\n",
       "      <td>False</td>\n",
       "      <td>https://www.reddit.com/r/AmItheAsshole/comment...</td>\n",
       "      <td>2446895</td>\n",
       "      <td>1.607190e+09</td>\n",
       "      <td>1</td>\n",
       "      <td>None</td>\n",
       "      <td>False</td>\n",
       "      <td>NaN</td>\n",
       "    </tr>\n",
       "    <tr>\n",
       "      <th>4</th>\n",
       "      <td>None</td>\n",
       "      <td>AmItheAsshole</td>\n",
       "      <td>I’m getting married next Saturday in a cocktai...</td>\n",
       "      <td>t2_54tn8n83</td>\n",
       "      <td>False</td>\n",
       "      <td>None</td>\n",
       "      <td>0</td>\n",
       "      <td>False</td>\n",
       "      <td>AITA for demanding my mother leave with the we...</td>\n",
       "      <td>[]</td>\n",
       "      <td>...</td>\n",
       "      <td>/r/AmItheAsshole/comments/k7dsd9/aita_for_dema...</td>\n",
       "      <td>all_ads</td>\n",
       "      <td>False</td>\n",
       "      <td>https://www.reddit.com/r/AmItheAsshole/comment...</td>\n",
       "      <td>2446895</td>\n",
       "      <td>1.607196e+09</td>\n",
       "      <td>0</td>\n",
       "      <td>None</td>\n",
       "      <td>False</td>\n",
       "      <td>NaN</td>\n",
       "    </tr>\n",
       "  </tbody>\n",
       "</table>\n",
       "<p>5 rows × 104 columns</p>\n",
       "</div>"
      ],
      "text/plain": [
       "  approved_at_utc      subreddit  \\\n",
       "0            None  AmItheAsshole   \n",
       "1            None  AmItheAsshole   \n",
       "2            None  AmItheAsshole   \n",
       "3            None  AmItheAsshole   \n",
       "4            None  AmItheAsshole   \n",
       "\n",
       "                                            selftext author_fullname  saved  \\\n",
       "0  [This recent vice article](https://www.vice.co...        t2_7ojjg  False   \n",
       "1  Welcome to the monthly open forum! This is the...     t2_2yspbtwq  False   \n",
       "2  Husband (28m) and I (28f) live in Colorado. We...     t2_96l4cm06  False   \n",
       "3  I'm a freshman in college and before college I...     t2_96hrapyj  False   \n",
       "4  I’m getting married next Saturday in a cocktai...     t2_54tn8n83  False   \n",
       "\n",
       "  mod_reason_title  gilded  clicked  \\\n",
       "0             None       1    False   \n",
       "1             None       0    False   \n",
       "2             None       1    False   \n",
       "3             None       0    False   \n",
       "4             None       0    False   \n",
       "\n",
       "                                               title link_flair_richtext  ...  \\\n",
       "0  New Resources for Anyone Looking to Help Those...                  []  ...   \n",
       "1                   Monthly Open Forum December 2020                  []  ...   \n",
       "2  AITA for \"dramatically\" running away from an i...                  []  ...   \n",
       "3  AITA for giving my family the silent treatment...                  []  ...   \n",
       "4  AITA for demanding my mother leave with the we...                  []  ...   \n",
       "\n",
       "                                           permalink  parent_whitelist_status  \\\n",
       "0  /r/AmItheAsshole/comments/jbswil/new_resources...                  all_ads   \n",
       "1  /r/AmItheAsshole/comments/k4owfz/monthly_open_...                  all_ads   \n",
       "2  /r/AmItheAsshole/comments/k7evv4/aita_for_dram...                  all_ads   \n",
       "3  /r/AmItheAsshole/comments/k7bpjd/aita_for_givi...                  all_ads   \n",
       "4  /r/AmItheAsshole/comments/k7dsd9/aita_for_dema...                  all_ads   \n",
       "\n",
       "   stickied                                                url  \\\n",
       "0      True  https://www.reddit.com/r/AmItheAsshole/comment...   \n",
       "1      True  https://www.reddit.com/r/AmItheAsshole/comment...   \n",
       "2     False  https://www.reddit.com/r/AmItheAsshole/comment...   \n",
       "3     False  https://www.reddit.com/r/AmItheAsshole/comment...   \n",
       "4     False  https://www.reddit.com/r/AmItheAsshole/comment...   \n",
       "\n",
       "   subreddit_subscribers   created_utc  num_crossposts media  is_video  \\\n",
       "0                2446895  1.602785e+09               2  None     False   \n",
       "1                2446895  1.606842e+09               1  None     False   \n",
       "2                2446895  1.607199e+09               1  None     False   \n",
       "3                2446895  1.607190e+09               1  None     False   \n",
       "4                2446895  1.607196e+09               0  None     False   \n",
       "\n",
       "  author_cakeday  \n",
       "0            NaN  \n",
       "1            NaN  \n",
       "2            NaN  \n",
       "3            NaN  \n",
       "4            NaN  \n",
       "\n",
       "[5 rows x 104 columns]"
      ]
     },
     "execution_count": 78,
     "metadata": {},
     "output_type": "execute_result"
    }
   ],
   "source": [
    "aita2 = pd.DataFrame(posts)\n",
    "aita2.head()"
   ]
  },
  {
   "cell_type": "markdown",
   "metadata": {},
   "source": [
    "# Second pull for r/relationships"
   ]
  },
  {
   "cell_type": "code",
   "execution_count": 79,
   "metadata": {},
   "outputs": [],
   "source": [
    "url = 'https://www.reddit.com/r/relationships/.json'"
   ]
  },
  {
   "cell_type": "code",
   "execution_count": 80,
   "metadata": {},
   "outputs": [],
   "source": [
    "headers = {'User-agent': 'Alex_bot_0.1'}"
   ]
  },
  {
   "cell_type": "code",
   "execution_count": 81,
   "metadata": {},
   "outputs": [],
   "source": [
    "res = requests.get(url, headers=headers)"
   ]
  },
  {
   "cell_type": "code",
   "execution_count": 82,
   "metadata": {},
   "outputs": [
    {
     "data": {
      "text/plain": [
       "200"
      ]
     },
     "execution_count": 82,
     "metadata": {},
     "output_type": "execute_result"
    }
   ],
   "source": [
    "res.status_code"
   ]
  },
  {
   "cell_type": "code",
   "execution_count": 83,
   "metadata": {},
   "outputs": [
    {
     "name": "stdout",
     "output_type": "stream",
     "text": [
      "https://www.reddit.com/r/relationships/.json\n",
      "3\n",
      "https://www.reddit.com/r/relationships/.json?after=t3_k7k700\n",
      "2\n",
      "https://www.reddit.com/r/relationships/.json?after=t3_k7n35q\n",
      "3\n",
      "https://www.reddit.com/r/relationships/.json?after=t3_k79avi\n",
      "4\n",
      "https://www.reddit.com/r/relationships/.json?after=t3_k7jikv\n",
      "4\n",
      "https://www.reddit.com/r/relationships/.json?after=t3_k7gwbm\n",
      "3\n",
      "https://www.reddit.com/r/relationships/.json?after=t3_k6kazl\n",
      "2\n",
      "https://www.reddit.com/r/relationships/.json?after=t3_k76bhk\n",
      "3\n",
      "https://www.reddit.com/r/relationships/.json?after=t3_k72vvm\n",
      "4\n",
      "https://www.reddit.com/r/relationships/.json?after=t3_k70e65\n",
      "5\n",
      "https://www.reddit.com/r/relationships/.json?after=t3_k6wfal\n",
      "2\n",
      "https://www.reddit.com/r/relationships/.json?after=t3_k6sk6t\n",
      "5\n",
      "https://www.reddit.com/r/relationships/.json?after=t3_k6pirw\n",
      "4\n",
      "https://www.reddit.com/r/relationships/.json?after=t3_k6989i\n",
      "2\n",
      "https://www.reddit.com/r/relationships/.json?after=t3_k69w8g\n",
      "2\n",
      "https://www.reddit.com/r/relationships/.json?after=t3_k5w5cc\n",
      "2\n",
      "https://www.reddit.com/r/relationships/.json?after=t3_k61vte\n",
      "4\n",
      "https://www.reddit.com/r/relationships/.json?after=t3_k5zn2v\n",
      "2\n",
      "https://www.reddit.com/r/relationships/.json?after=t3_k5olxv\n",
      "5\n",
      "https://www.reddit.com/r/relationships/.json\n",
      "3\n",
      "https://www.reddit.com/r/relationships/.json?after=t3_k7k700\n",
      "2\n",
      "https://www.reddit.com/r/relationships/.json?after=t3_k7n35q\n",
      "3\n",
      "https://www.reddit.com/r/relationships/.json?after=t3_k79avi\n",
      "2\n",
      "https://www.reddit.com/r/relationships/.json?after=t3_k7jikv\n",
      "5\n",
      "https://www.reddit.com/r/relationships/.json?after=t3_k7gmxt\n",
      "4\n",
      "https://www.reddit.com/r/relationships/.json?after=t3_k6wlrb\n",
      "2\n",
      "https://www.reddit.com/r/relationships/.json?after=t3_k76aat\n",
      "3\n",
      "https://www.reddit.com/r/relationships/.json?after=t3_k6vzyc\n",
      "4\n",
      "https://www.reddit.com/r/relationships/.json?after=t3_k6ovf9\n",
      "2\n",
      "https://www.reddit.com/r/relationships/.json?after=t3_k6wdpl\n",
      "4\n",
      "https://www.reddit.com/r/relationships/.json?after=t3_k68uzb\n",
      "3\n",
      "https://www.reddit.com/r/relationships/.json?after=t3_k6l865\n",
      "4\n",
      "https://www.reddit.com/r/relationships/.json?after=t3_k6hlv6\n",
      "3\n"
     ]
    }
   ],
   "source": [
    "posts = []\n",
    "after = None\n",
    "\n",
    "for a in range(33):\n",
    "    if after == None:\n",
    "        current_url = url\n",
    "    else:\n",
    "        current_url = url + '?after=' + after\n",
    "    print(current_url)\n",
    "    res = requests.get(current_url, headers=headers)\n",
    "    \n",
    "    if res.status_code != 200:\n",
    "        print('Status error', res.status_code)\n",
    "        break\n",
    "    \n",
    "    current_dict = res.json()\n",
    "    current_posts = [p['data'] for p in current_dict['data']['children']]\n",
    "    posts.extend(current_posts)\n",
    "    after = current_dict['data']['after']\n",
    "    \n",
    "    # generate a random sleep duration to look more 'natural'\n",
    "    sleep_duration = random.randint(2,5)\n",
    "    print(sleep_duration)\n",
    "    time.sleep(sleep_duration)"
   ]
  },
  {
   "cell_type": "markdown",
   "metadata": {},
   "source": [
    "Ensuring the ratio for the posts isn't too skewed this time. "
   ]
  },
  {
   "cell_type": "code",
   "execution_count": 84,
   "metadata": {},
   "outputs": [
    {
     "data": {
      "text/plain": [
       "(818, 104)"
      ]
     },
     "execution_count": 84,
     "metadata": {},
     "output_type": "execute_result"
    }
   ],
   "source": [
    "rs2 = pd.DataFrame(posts)\n",
    "rs2.shape"
   ]
  },
  {
   "cell_type": "code",
   "execution_count": 85,
   "metadata": {},
   "outputs": [
    {
     "data": {
      "text/plain": [
       "(302, 104)"
      ]
     },
     "execution_count": 85,
     "metadata": {},
     "output_type": "execute_result"
    }
   ],
   "source": [
    "aita2.drop_duplicates(subset =['selftext','title'],keep= 'first',inplace=True)\n",
    "aita2.shape"
   ]
  },
  {
   "cell_type": "code",
   "execution_count": 86,
   "metadata": {},
   "outputs": [
    {
     "data": {
      "text/plain": [
       "(466, 104)"
      ]
     },
     "execution_count": 86,
     "metadata": {},
     "output_type": "execute_result"
    }
   ],
   "source": [
    "rs2.drop_duplicates(subset =['selftext','title'],keep= 'first',inplace=True)\n",
    "rs2.shape"
   ]
  },
  {
   "cell_type": "code",
   "execution_count": 87,
   "metadata": {},
   "outputs": [
    {
     "data": {
      "text/plain": [
       "(1056, 104)"
      ]
     },
     "execution_count": 87,
     "metadata": {},
     "output_type": "execute_result"
    }
   ],
   "source": [
    "aita3 = pd.concat([aita, aita2], axis=0, ignore_index=True)\n",
    "aita3.shape"
   ]
  },
  {
   "cell_type": "code",
   "execution_count": 88,
   "metadata": {},
   "outputs": [
    {
     "data": {
      "text/plain": [
       "(936, 104)"
      ]
     },
     "execution_count": 88,
     "metadata": {},
     "output_type": "execute_result"
    }
   ],
   "source": [
    "rs3 = pd.concat([rs,rs2], axis=0, ignore_index=True)\n",
    "rs3.shape"
   ]
  },
  {
   "cell_type": "markdown",
   "metadata": {},
   "source": [
    "Managed to put the ratio down to 1056:936"
   ]
  },
  {
   "cell_type": "markdown",
   "metadata": {},
   "source": [
    "# Exporting to CSV "
   ]
  },
  {
   "cell_type": "code",
   "execution_count": 89,
   "metadata": {},
   "outputs": [],
   "source": [
    "aita3.to_csv('datasets/aita3.csv', index=False)"
   ]
  },
  {
   "cell_type": "code",
   "execution_count": 90,
   "metadata": {},
   "outputs": [],
   "source": [
    "rs3.to_csv('datasets/rs3.csv', index=False)"
   ]
  }
 ],
 "metadata": {
  "kernelspec": {
   "display_name": "Python 3",
   "language": "python",
   "name": "python3"
  },
  "language_info": {
   "codemirror_mode": {
    "name": "ipython",
    "version": 3
   },
   "file_extension": ".py",
   "mimetype": "text/x-python",
   "name": "python",
   "nbconvert_exporter": "python",
   "pygments_lexer": "ipython3",
   "version": "3.8.5"
  },
  "toc": {
   "base_numbering": 1,
   "nav_menu": {},
   "number_sections": true,
   "sideBar": true,
   "skip_h1_title": false,
   "title_cell": "Table of Contents",
   "title_sidebar": "Contents",
   "toc_cell": false,
   "toc_position": {},
   "toc_section_display": true,
   "toc_window_display": false
  }
 },
 "nbformat": 4,
 "nbformat_minor": 4
}
