{
 "cells": [
  {
   "cell_type": "code",
   "execution_count": 1,
   "metadata": {
    "ExecuteTime": {
     "end_time": "2021-01-27T16:12:37.027621Z",
     "start_time": "2021-01-27T16:12:34.577656Z"
    },
    "run_control": {
     "marked": false
    }
   },
   "outputs": [],
   "source": [
    "import numpy as np\n",
    "import pandas as pd\n",
    "import matplotlib.pyplot as plt\n",
    "import seaborn as sns\n",
    "import regex as re\n",
    "import string\n",
    "\n",
    "from bs4 import BeautifulSoup  \n",
    "from matplotlib_venn import venn2\n",
    "from wordcloud import WordCloud\n",
    "\n",
    "from sklearn.pipeline import Pipeline\n",
    "from sklearn.model_selection import train_test_split, GridSearchCV\n",
    "from sklearn.feature_extraction.text import CountVectorizer, TfidfVectorizer\n",
    "from sklearn.linear_model import LogisticRegression\n",
    "from sklearn.naive_bayes import MultinomialNB\n",
    "from sklearn.metrics import accuracy_score, roc_curve, confusion_matrix, roc_auc_score\n",
    "\n",
    "import nltk\n",
    "from nltk.corpus import stopwords\n",
    "from nltk.tokenize import RegexpTokenizer\n",
    "from nltk.stem import WordNetLemmatizer\n",
    "\n",
    "import spacy\n",
    "from spacy.lang.en import English\n",
    "from spacy.lang.en.stop_words import STOP_WORDS\n",
    "from spacy.tokens import Doc\n",
    "from nltk.corpus import stopwords\n",
    "import en_core_web_sm"
   ]
  },
  {
   "cell_type": "markdown",
   "metadata": {},
   "source": [
    "# Data Cleaning & Preprocessing"
   ]
  },
  {
   "cell_type": "code",
   "execution_count": 2,
   "metadata": {
    "ExecuteTime": {
     "end_time": "2021-01-27T08:21:43.118873Z",
     "start_time": "2021-01-27T08:21:43.115067Z"
    },
    "run_control": {
     "marked": false
    }
   },
   "outputs": [],
   "source": [
    "import pandas as pd"
   ]
  },
  {
   "cell_type": "markdown",
   "metadata": {},
   "source": [
    "## Importing CSV"
   ]
  },
  {
   "cell_type": "code",
   "execution_count": 8,
   "metadata": {
    "ExecuteTime": {
     "end_time": "2021-01-27T16:21:04.755186Z",
     "start_time": "2021-01-27T16:21:04.182222Z"
    },
    "run_control": {
     "marked": false
    }
   },
   "outputs": [
    {
     "data": {
      "text/html": [
       "<div>\n",
       "<style scoped>\n",
       "    .dataframe tbody tr th:only-of-type {\n",
       "        vertical-align: middle;\n",
       "    }\n",
       "\n",
       "    .dataframe tbody tr th {\n",
       "        vertical-align: top;\n",
       "    }\n",
       "\n",
       "    .dataframe thead th {\n",
       "        text-align: right;\n",
       "    }\n",
       "</style>\n",
       "<table border=\"1\" class=\"dataframe\">\n",
       "  <thead>\n",
       "    <tr style=\"text-align: right;\">\n",
       "      <th></th>\n",
       "      <th>post_id</th>\n",
       "      <th>comment_text</th>\n",
       "      <th>comment_distinguished</th>\n",
       "      <th>comment_score</th>\n",
       "    </tr>\n",
       "  </thead>\n",
       "  <tbody>\n",
       "    <tr>\n",
       "      <th>0</th>\n",
       "      <td>jbswil</td>\n",
       "      <td>This is such a great post with wealth of infor...</td>\n",
       "      <td>NaN</td>\n",
       "      <td>739</td>\n",
       "    </tr>\n",
       "    <tr>\n",
       "      <th>1</th>\n",
       "      <td>jbswil</td>\n",
       "      <td>Thank you so much! So glad to see this up and ...</td>\n",
       "      <td>NaN</td>\n",
       "      <td>218</td>\n",
       "    </tr>\n",
       "    <tr>\n",
       "      <th>2</th>\n",
       "      <td>jbswil</td>\n",
       "      <td>Since joining this subreddit purely for entert...</td>\n",
       "      <td>NaN</td>\n",
       "      <td>66</td>\n",
       "    </tr>\n",
       "    <tr>\n",
       "      <th>3</th>\n",
       "      <td>jbswil</td>\n",
       "      <td>Thank you for putting in the effort to help pr...</td>\n",
       "      <td>NaN</td>\n",
       "      <td>159</td>\n",
       "    </tr>\n",
       "    <tr>\n",
       "      <th>4</th>\n",
       "      <td>jbswil</td>\n",
       "      <td>NTA \\n\\nThis is great. Almost like breaking th...</td>\n",
       "      <td>NaN</td>\n",
       "      <td>97</td>\n",
       "    </tr>\n",
       "  </tbody>\n",
       "</table>\n",
       "</div>"
      ],
      "text/plain": [
       "  post_id                                       comment_text  \\\n",
       "0  jbswil  This is such a great post with wealth of infor...   \n",
       "1  jbswil  Thank you so much! So glad to see this up and ...   \n",
       "2  jbswil  Since joining this subreddit purely for entert...   \n",
       "3  jbswil  Thank you for putting in the effort to help pr...   \n",
       "4  jbswil  NTA \\n\\nThis is great. Almost like breaking th...   \n",
       "\n",
       "  comment_distinguished  comment_score  \n",
       "0                   NaN            739  \n",
       "1                   NaN            218  \n",
       "2                   NaN             66  \n",
       "3                   NaN            159  \n",
       "4                   NaN             97  "
      ]
     },
     "execution_count": 8,
     "metadata": {},
     "output_type": "execute_result"
    }
   ],
   "source": [
    "c1 = pd.read_csv('datasets/comments.csv')\n",
    "c1.head()"
   ]
  },
  {
   "cell_type": "code",
   "execution_count": 9,
   "metadata": {
    "ExecuteTime": {
     "end_time": "2021-01-27T16:21:05.306358Z",
     "start_time": "2021-01-27T16:21:04.757157Z"
    },
    "run_control": {
     "marked": false
    }
   },
   "outputs": [
    {
     "data": {
      "text/html": [
       "<div>\n",
       "<style scoped>\n",
       "    .dataframe tbody tr th:only-of-type {\n",
       "        vertical-align: middle;\n",
       "    }\n",
       "\n",
       "    .dataframe tbody tr th {\n",
       "        vertical-align: top;\n",
       "    }\n",
       "\n",
       "    .dataframe thead th {\n",
       "        text-align: right;\n",
       "    }\n",
       "</style>\n",
       "<table border=\"1\" class=\"dataframe\">\n",
       "  <thead>\n",
       "    <tr style=\"text-align: right;\">\n",
       "      <th></th>\n",
       "      <th>post_id</th>\n",
       "      <th>comment_text</th>\n",
       "      <th>comment_distinguished</th>\n",
       "      <th>comment_score</th>\n",
       "    </tr>\n",
       "  </thead>\n",
       "  <tbody>\n",
       "    <tr>\n",
       "      <th>0</th>\n",
       "      <td>kgiekd</td>\n",
       "      <td>[The guy who couldn’t handle his teacher GF’s ...</td>\n",
       "      <td>NaN</td>\n",
       "      <td>1732</td>\n",
       "    </tr>\n",
       "    <tr>\n",
       "      <th>1</th>\n",
       "      <td>kgiekd</td>\n",
       "      <td>This was my absolute FAVORITE comment this yea...</td>\n",
       "      <td>NaN</td>\n",
       "      <td>1451</td>\n",
       "    </tr>\n",
       "    <tr>\n",
       "      <th>2</th>\n",
       "      <td>kgiekd</td>\n",
       "      <td>The recent thread of the couple who celebrated...</td>\n",
       "      <td>NaN</td>\n",
       "      <td>1366</td>\n",
       "    </tr>\n",
       "    <tr>\n",
       "      <th>3</th>\n",
       "      <td>kgiekd</td>\n",
       "      <td>[This guy for Asshole of the year](https://www...</td>\n",
       "      <td>NaN</td>\n",
       "      <td>1248</td>\n",
       "    </tr>\n",
       "    <tr>\n",
       "      <th>4</th>\n",
       "      <td>kgiekd</td>\n",
       "      <td>[The woman who mixed all her boyfriend's rice ...</td>\n",
       "      <td>NaN</td>\n",
       "      <td>1024</td>\n",
       "    </tr>\n",
       "  </tbody>\n",
       "</table>\n",
       "</div>"
      ],
      "text/plain": [
       "  post_id                                       comment_text  \\\n",
       "0  kgiekd  [The guy who couldn’t handle his teacher GF’s ...   \n",
       "1  kgiekd  This was my absolute FAVORITE comment this yea...   \n",
       "2  kgiekd  The recent thread of the couple who celebrated...   \n",
       "3  kgiekd  [This guy for Asshole of the year](https://www...   \n",
       "4  kgiekd  [The woman who mixed all her boyfriend's rice ...   \n",
       "\n",
       "  comment_distinguished  comment_score  \n",
       "0                   NaN           1732  \n",
       "1                   NaN           1451  \n",
       "2                   NaN           1366  \n",
       "3                   NaN           1248  \n",
       "4                   NaN           1024  "
      ]
     },
     "execution_count": 9,
     "metadata": {},
     "output_type": "execute_result"
    }
   ],
   "source": [
    "c2 = pd.read_csv('datasets/comments2.csv')\n",
    "c2.head()"
   ]
  },
  {
   "cell_type": "code",
   "execution_count": 13,
   "metadata": {
    "ExecuteTime": {
     "end_time": "2021-01-27T16:22:27.658342Z",
     "start_time": "2021-01-27T16:22:27.137963Z"
    },
    "run_control": {
     "marked": false
    },
    "scrolled": true
   },
   "outputs": [
    {
     "data": {
      "text/html": [
       "<div>\n",
       "<style scoped>\n",
       "    .dataframe tbody tr th:only-of-type {\n",
       "        vertical-align: middle;\n",
       "    }\n",
       "\n",
       "    .dataframe tbody tr th {\n",
       "        vertical-align: top;\n",
       "    }\n",
       "\n",
       "    .dataframe thead th {\n",
       "        text-align: right;\n",
       "    }\n",
       "</style>\n",
       "<table border=\"1\" class=\"dataframe\">\n",
       "  <thead>\n",
       "    <tr style=\"text-align: right;\">\n",
       "      <th></th>\n",
       "      <th>post_id</th>\n",
       "      <th>comment_text</th>\n",
       "      <th>comment_distinguished</th>\n",
       "      <th>comment_score</th>\n",
       "    </tr>\n",
       "  </thead>\n",
       "  <tbody>\n",
       "    <tr>\n",
       "      <th>0</th>\n",
       "      <td>koga1e</td>\n",
       "      <td>How many accounts of our “my stepmom sucks” tr...</td>\n",
       "      <td>NaN</td>\n",
       "      <td>49</td>\n",
       "    </tr>\n",
       "    <tr>\n",
       "      <th>1</th>\n",
       "      <td>koga1e</td>\n",
       "      <td>I feel like this subreddit has deteriorated ov...</td>\n",
       "      <td>NaN</td>\n",
       "      <td>45</td>\n",
       "    </tr>\n",
       "    <tr>\n",
       "      <th>2</th>\n",
       "      <td>koga1e</td>\n",
       "      <td>Can there be ban on \"aita for reporting my [th...</td>\n",
       "      <td>NaN</td>\n",
       "      <td>91</td>\n",
       "    </tr>\n",
       "    <tr>\n",
       "      <th>3</th>\n",
       "      <td>koga1e</td>\n",
       "      <td>Something has to be done against the \"sick bur...</td>\n",
       "      <td>NaN</td>\n",
       "      <td>77</td>\n",
       "    </tr>\n",
       "    <tr>\n",
       "      <th>4</th>\n",
       "      <td>koga1e</td>\n",
       "      <td>People really need to be encouraged to use ESH...</td>\n",
       "      <td>NaN</td>\n",
       "      <td>37</td>\n",
       "    </tr>\n",
       "  </tbody>\n",
       "</table>\n",
       "</div>"
      ],
      "text/plain": [
       "  post_id                                       comment_text  \\\n",
       "0  koga1e  How many accounts of our “my stepmom sucks” tr...   \n",
       "1  koga1e  I feel like this subreddit has deteriorated ov...   \n",
       "2  koga1e  Can there be ban on \"aita for reporting my [th...   \n",
       "3  koga1e  Something has to be done against the \"sick bur...   \n",
       "4  koga1e  People really need to be encouraged to use ESH...   \n",
       "\n",
       "  comment_distinguished  comment_score  \n",
       "0                   NaN             49  \n",
       "1                   NaN             45  \n",
       "2                   NaN             91  \n",
       "3                   NaN             77  \n",
       "4                   NaN             37  "
      ]
     },
     "execution_count": 13,
     "metadata": {},
     "output_type": "execute_result"
    }
   ],
   "source": [
    "c3 = pd.read_csv('datasets/comments3.csv')\n",
    "c3.head()"
   ]
  },
  {
   "cell_type": "code",
   "execution_count": 18,
   "metadata": {
    "ExecuteTime": {
     "end_time": "2021-01-27T16:24:03.056994Z",
     "start_time": "2021-01-27T16:24:02.561594Z"
    },
    "run_control": {
     "marked": false
    }
   },
   "outputs": [
    {
     "data": {
      "text/html": [
       "<div>\n",
       "<style scoped>\n",
       "    .dataframe tbody tr th:only-of-type {\n",
       "        vertical-align: middle;\n",
       "    }\n",
       "\n",
       "    .dataframe tbody tr th {\n",
       "        vertical-align: top;\n",
       "    }\n",
       "\n",
       "    .dataframe thead th {\n",
       "        text-align: right;\n",
       "    }\n",
       "</style>\n",
       "<table border=\"1\" class=\"dataframe\">\n",
       "  <thead>\n",
       "    <tr style=\"text-align: right;\">\n",
       "      <th></th>\n",
       "      <th>post_id</th>\n",
       "      <th>comment_text</th>\n",
       "      <th>comment_distinguished</th>\n",
       "      <th>comment_score</th>\n",
       "    </tr>\n",
       "  </thead>\n",
       "  <tbody>\n",
       "    <tr>\n",
       "      <th>0</th>\n",
       "      <td>koga1e</td>\n",
       "      <td>I feel like this subreddit has deteriorated ov...</td>\n",
       "      <td>NaN</td>\n",
       "      <td>69</td>\n",
       "    </tr>\n",
       "    <tr>\n",
       "      <th>1</th>\n",
       "      <td>koga1e</td>\n",
       "      <td>How many accounts of our “my stepmom sucks” tr...</td>\n",
       "      <td>NaN</td>\n",
       "      <td>62</td>\n",
       "    </tr>\n",
       "    <tr>\n",
       "      <th>2</th>\n",
       "      <td>koga1e</td>\n",
       "      <td>Can there be ban on \"aita for reporting my [th...</td>\n",
       "      <td>NaN</td>\n",
       "      <td>119</td>\n",
       "    </tr>\n",
       "    <tr>\n",
       "      <th>3</th>\n",
       "      <td>koga1e</td>\n",
       "      <td>Something has to be done against the \"sick bur...</td>\n",
       "      <td>NaN</td>\n",
       "      <td>114</td>\n",
       "    </tr>\n",
       "    <tr>\n",
       "      <th>4</th>\n",
       "      <td>koga1e</td>\n",
       "      <td>People really need to be encouraged to use ESH...</td>\n",
       "      <td>NaN</td>\n",
       "      <td>47</td>\n",
       "    </tr>\n",
       "  </tbody>\n",
       "</table>\n",
       "</div>"
      ],
      "text/plain": [
       "  post_id                                       comment_text  \\\n",
       "0  koga1e  I feel like this subreddit has deteriorated ov...   \n",
       "1  koga1e  How many accounts of our “my stepmom sucks” tr...   \n",
       "2  koga1e  Can there be ban on \"aita for reporting my [th...   \n",
       "3  koga1e  Something has to be done against the \"sick bur...   \n",
       "4  koga1e  People really need to be encouraged to use ESH...   \n",
       "\n",
       "  comment_distinguished  comment_score  \n",
       "0                   NaN             69  \n",
       "1                   NaN             62  \n",
       "2                   NaN            119  \n",
       "3                   NaN            114  \n",
       "4                   NaN             47  "
      ]
     },
     "execution_count": 18,
     "metadata": {},
     "output_type": "execute_result"
    }
   ],
   "source": [
    "c4 = pd.read_csv('datasets/comments4_1.csv')\n",
    "c4.head()"
   ]
  },
  {
   "cell_type": "code",
   "execution_count": 19,
   "metadata": {
    "ExecuteTime": {
     "end_time": "2021-01-27T16:24:04.099990Z",
     "start_time": "2021-01-27T16:24:03.538254Z"
    },
    "run_control": {
     "marked": false
    }
   },
   "outputs": [
    {
     "data": {
      "text/html": [
       "<div>\n",
       "<style scoped>\n",
       "    .dataframe tbody tr th:only-of-type {\n",
       "        vertical-align: middle;\n",
       "    }\n",
       "\n",
       "    .dataframe tbody tr th {\n",
       "        vertical-align: top;\n",
       "    }\n",
       "\n",
       "    .dataframe thead th {\n",
       "        text-align: right;\n",
       "    }\n",
       "</style>\n",
       "<table border=\"1\" class=\"dataframe\">\n",
       "  <thead>\n",
       "    <tr style=\"text-align: right;\">\n",
       "      <th></th>\n",
       "      <th>post_id</th>\n",
       "      <th>comment_text</th>\n",
       "      <th>comment_distinguished</th>\n",
       "      <th>comment_score</th>\n",
       "    </tr>\n",
       "  </thead>\n",
       "  <tbody>\n",
       "    <tr>\n",
       "      <th>0</th>\n",
       "      <td>koga1e</td>\n",
       "      <td>I feel like this subreddit has deteriorated ov...</td>\n",
       "      <td>NaN</td>\n",
       "      <td>73</td>\n",
       "    </tr>\n",
       "    <tr>\n",
       "      <th>1</th>\n",
       "      <td>koga1e</td>\n",
       "      <td>How many accounts of our “my stepmom sucks” tr...</td>\n",
       "      <td>NaN</td>\n",
       "      <td>71</td>\n",
       "    </tr>\n",
       "    <tr>\n",
       "      <th>2</th>\n",
       "      <td>koga1e</td>\n",
       "      <td>Can there be ban on \"aita for reporting my [th...</td>\n",
       "      <td>NaN</td>\n",
       "      <td>122</td>\n",
       "    </tr>\n",
       "    <tr>\n",
       "      <th>3</th>\n",
       "      <td>koga1e</td>\n",
       "      <td>Something has to be done against the \"sick bur...</td>\n",
       "      <td>NaN</td>\n",
       "      <td>122</td>\n",
       "    </tr>\n",
       "    <tr>\n",
       "      <th>4</th>\n",
       "      <td>koga1e</td>\n",
       "      <td>People really need to be encouraged to use ESH...</td>\n",
       "      <td>NaN</td>\n",
       "      <td>50</td>\n",
       "    </tr>\n",
       "  </tbody>\n",
       "</table>\n",
       "</div>"
      ],
      "text/plain": [
       "  post_id                                       comment_text  \\\n",
       "0  koga1e  I feel like this subreddit has deteriorated ov...   \n",
       "1  koga1e  How many accounts of our “my stepmom sucks” tr...   \n",
       "2  koga1e  Can there be ban on \"aita for reporting my [th...   \n",
       "3  koga1e  Something has to be done against the \"sick bur...   \n",
       "4  koga1e  People really need to be encouraged to use ESH...   \n",
       "\n",
       "  comment_distinguished  comment_score  \n",
       "0                   NaN             73  \n",
       "1                   NaN             71  \n",
       "2                   NaN            122  \n",
       "3                   NaN            122  \n",
       "4                   NaN             50  "
      ]
     },
     "execution_count": 19,
     "metadata": {},
     "output_type": "execute_result"
    }
   ],
   "source": [
    "c5 = pd.read_csv('datasets/comments5.csv')\n",
    "c5.head()"
   ]
  },
  {
   "cell_type": "markdown",
   "metadata": {},
   "source": [
    "## Duplicate entries in dataset c3, c4 & c5"
   ]
  },
  {
   "cell_type": "markdown",
   "metadata": {},
   "source": [
    "The first entries appear to be duplicates of each other in dataset c3, c4 & c5. I'm not sure why this was the case since they were pulled 1 week apart similarly to c1 & 2 with no duplicates. The comment scores are changing in those cases showing that time has passed between them. Either way I'm checking for what else could have been duplicated. "
   ]
  },
  {
   "cell_type": "code",
   "execution_count": 15,
   "metadata": {
    "ExecuteTime": {
     "end_time": "2021-01-27T16:23:54.628842Z",
     "start_time": "2021-01-27T16:23:54.577978Z"
    }
   },
   "outputs": [
    {
     "data": {
      "text/html": [
       "<div>\n",
       "<style scoped>\n",
       "    .dataframe tbody tr th:only-of-type {\n",
       "        vertical-align: middle;\n",
       "    }\n",
       "\n",
       "    .dataframe tbody tr th {\n",
       "        vertical-align: top;\n",
       "    }\n",
       "\n",
       "    .dataframe thead th {\n",
       "        text-align: right;\n",
       "    }\n",
       "</style>\n",
       "<table border=\"1\" class=\"dataframe\">\n",
       "  <thead>\n",
       "    <tr style=\"text-align: right;\">\n",
       "      <th></th>\n",
       "      <th>post_id</th>\n",
       "      <th>comment_text</th>\n",
       "      <th>comment_distinguished</th>\n",
       "      <th>comment_score</th>\n",
       "    </tr>\n",
       "  </thead>\n",
       "  <tbody>\n",
       "    <tr>\n",
       "      <th>16594</th>\n",
       "      <td>keq3jb</td>\n",
       "      <td>NTA</td>\n",
       "      <td>NaN</td>\n",
       "      <td>1</td>\n",
       "    </tr>\n",
       "    <tr>\n",
       "      <th>23349</th>\n",
       "      <td>kei6y5</td>\n",
       "      <td>NTA</td>\n",
       "      <td>NaN</td>\n",
       "      <td>0</td>\n",
       "    </tr>\n",
       "    <tr>\n",
       "      <th>23470</th>\n",
       "      <td>kei6y5</td>\n",
       "      <td>[deleted]</td>\n",
       "      <td>NaN</td>\n",
       "      <td>-13</td>\n",
       "    </tr>\n",
       "    <tr>\n",
       "      <th>28848</th>\n",
       "      <td>kehjtm</td>\n",
       "      <td>YTA</td>\n",
       "      <td>NaN</td>\n",
       "      <td>2</td>\n",
       "    </tr>\n",
       "    <tr>\n",
       "      <th>42446</th>\n",
       "      <td>kegaah</td>\n",
       "      <td>NTA</td>\n",
       "      <td>NaN</td>\n",
       "      <td>3</td>\n",
       "    </tr>\n",
       "    <tr>\n",
       "      <th>73119</th>\n",
       "      <td>kdvpp1</td>\n",
       "      <td>NTA</td>\n",
       "      <td>NaN</td>\n",
       "      <td>1</td>\n",
       "    </tr>\n",
       "    <tr>\n",
       "      <th>76384</th>\n",
       "      <td>kdnydq</td>\n",
       "      <td>YTA</td>\n",
       "      <td>NaN</td>\n",
       "      <td>1</td>\n",
       "    </tr>\n",
       "    <tr>\n",
       "      <th>77379</th>\n",
       "      <td>kdnydq</td>\n",
       "      <td>Your comment has been removed because it viola...</td>\n",
       "      <td>moderator</td>\n",
       "      <td>1</td>\n",
       "    </tr>\n",
       "  </tbody>\n",
       "</table>\n",
       "</div>"
      ],
      "text/plain": [
       "      post_id                                       comment_text  \\\n",
       "16594  keq3jb                                                NTA   \n",
       "23349  kei6y5                                                NTA   \n",
       "23470  kei6y5                                          [deleted]   \n",
       "28848  kehjtm                                                YTA   \n",
       "42446  kegaah                                                NTA   \n",
       "73119  kdvpp1                                                NTA   \n",
       "76384  kdnydq                                                YTA   \n",
       "77379  kdnydq  Your comment has been removed because it viola...   \n",
       "\n",
       "      comment_distinguished  comment_score  \n",
       "16594                   NaN              1  \n",
       "23349                   NaN              0  \n",
       "23470                   NaN            -13  \n",
       "28848                   NaN              2  \n",
       "42446                   NaN              3  \n",
       "73119                   NaN              1  \n",
       "76384                   NaN              1  \n",
       "77379             moderator              1  "
      ]
     },
     "execution_count": 15,
     "metadata": {},
     "output_type": "execute_result"
    }
   ],
   "source": [
    "c1[c1['comment_text'].eq(c2['comment_text'])]"
   ]
  },
  {
   "cell_type": "code",
   "execution_count": 16,
   "metadata": {
    "ExecuteTime": {
     "end_time": "2021-01-27T16:23:55.145418Z",
     "start_time": "2021-01-27T16:23:55.105042Z"
    },
    "scrolled": true
   },
   "outputs": [
    {
     "data": {
      "text/html": [
       "<div>\n",
       "<style scoped>\n",
       "    .dataframe tbody tr th:only-of-type {\n",
       "        vertical-align: middle;\n",
       "    }\n",
       "\n",
       "    .dataframe tbody tr th {\n",
       "        vertical-align: top;\n",
       "    }\n",
       "\n",
       "    .dataframe thead th {\n",
       "        text-align: right;\n",
       "    }\n",
       "</style>\n",
       "<table border=\"1\" class=\"dataframe\">\n",
       "  <thead>\n",
       "    <tr style=\"text-align: right;\">\n",
       "      <th></th>\n",
       "      <th>post_id</th>\n",
       "      <th>comment_text</th>\n",
       "      <th>comment_distinguished</th>\n",
       "      <th>comment_score</th>\n",
       "    </tr>\n",
       "  </thead>\n",
       "  <tbody>\n",
       "    <tr>\n",
       "      <th>2382</th>\n",
       "      <td>krxs5l</td>\n",
       "      <td>NTA</td>\n",
       "      <td>NaN</td>\n",
       "      <td>1</td>\n",
       "    </tr>\n",
       "    <tr>\n",
       "      <th>5700</th>\n",
       "      <td>krq6il</td>\n",
       "      <td>NTA</td>\n",
       "      <td>NaN</td>\n",
       "      <td>1</td>\n",
       "    </tr>\n",
       "    <tr>\n",
       "      <th>8635</th>\n",
       "      <td>krj7cr</td>\n",
       "      <td>[removed]</td>\n",
       "      <td>NaN</td>\n",
       "      <td>1</td>\n",
       "    </tr>\n",
       "    <tr>\n",
       "      <th>15653</th>\n",
       "      <td>kra9ca</td>\n",
       "      <td>[removed]</td>\n",
       "      <td>NaN</td>\n",
       "      <td>1</td>\n",
       "    </tr>\n",
       "    <tr>\n",
       "      <th>81040</th>\n",
       "      <td>kqe7js</td>\n",
       "      <td>NTA</td>\n",
       "      <td>NaN</td>\n",
       "      <td>1</td>\n",
       "    </tr>\n",
       "  </tbody>\n",
       "</table>\n",
       "</div>"
      ],
      "text/plain": [
       "      post_id comment_text comment_distinguished  comment_score\n",
       "2382   krxs5l          NTA                   NaN              1\n",
       "5700   krq6il          NTA                   NaN              1\n",
       "8635   krj7cr    [removed]                   NaN              1\n",
       "15653  kra9ca    [removed]                   NaN              1\n",
       "81040  kqe7js          NTA                   NaN              1"
      ]
     },
     "execution_count": 16,
     "metadata": {},
     "output_type": "execute_result"
    }
   ],
   "source": [
    "c2[c2['comment_text'].eq(c3['comment_text'])]"
   ]
  },
  {
   "cell_type": "code",
   "execution_count": 20,
   "metadata": {
    "ExecuteTime": {
     "end_time": "2021-01-27T16:24:09.172870Z",
     "start_time": "2021-01-27T16:24:09.122006Z"
    },
    "run_control": {
     "marked": false
    },
    "scrolled": true
   },
   "outputs": [
    {
     "data": {
      "text/html": [
       "<div>\n",
       "<style scoped>\n",
       "    .dataframe tbody tr th:only-of-type {\n",
       "        vertical-align: middle;\n",
       "    }\n",
       "\n",
       "    .dataframe tbody tr th {\n",
       "        vertical-align: top;\n",
       "    }\n",
       "\n",
       "    .dataframe thead th {\n",
       "        text-align: right;\n",
       "    }\n",
       "</style>\n",
       "<table border=\"1\" class=\"dataframe\">\n",
       "  <thead>\n",
       "    <tr style=\"text-align: right;\">\n",
       "      <th></th>\n",
       "      <th>post_id</th>\n",
       "      <th>comment_text</th>\n",
       "      <th>comment_distinguished</th>\n",
       "      <th>comment_score</th>\n",
       "    </tr>\n",
       "  </thead>\n",
       "  <tbody>\n",
       "    <tr>\n",
       "      <th>2</th>\n",
       "      <td>koga1e</td>\n",
       "      <td>Can there be ban on \"aita for reporting my [th...</td>\n",
       "      <td>NaN</td>\n",
       "      <td>91</td>\n",
       "    </tr>\n",
       "    <tr>\n",
       "      <th>3</th>\n",
       "      <td>koga1e</td>\n",
       "      <td>Something has to be done against the \"sick bur...</td>\n",
       "      <td>NaN</td>\n",
       "      <td>77</td>\n",
       "    </tr>\n",
       "    <tr>\n",
       "      <th>4</th>\n",
       "      <td>koga1e</td>\n",
       "      <td>People really need to be encouraged to use ESH...</td>\n",
       "      <td>NaN</td>\n",
       "      <td>37</td>\n",
       "    </tr>\n",
       "    <tr>\n",
       "      <th>34</th>\n",
       "      <td>koga1e</td>\n",
       "      <td>Besides reporting for No Interpersonal Conflic...</td>\n",
       "      <td>NaN</td>\n",
       "      <td>12</td>\n",
       "    </tr>\n",
       "    <tr>\n",
       "      <th>4518</th>\n",
       "      <td>kulttx</td>\n",
       "      <td>[deleted]</td>\n",
       "      <td>NaN</td>\n",
       "      <td>-15</td>\n",
       "    </tr>\n",
       "    <tr>\n",
       "      <th>23057</th>\n",
       "      <td>ktuqop</td>\n",
       "      <td>NTA</td>\n",
       "      <td>NaN</td>\n",
       "      <td>1</td>\n",
       "    </tr>\n",
       "    <tr>\n",
       "      <th>33118</th>\n",
       "      <td>ktrljn</td>\n",
       "      <td>[removed]</td>\n",
       "      <td>NaN</td>\n",
       "      <td>32</td>\n",
       "    </tr>\n",
       "    <tr>\n",
       "      <th>51545</th>\n",
       "      <td>ktac7r</td>\n",
       "      <td>NTA</td>\n",
       "      <td>NaN</td>\n",
       "      <td>1</td>\n",
       "    </tr>\n",
       "    <tr>\n",
       "      <th>51855</th>\n",
       "      <td>ktac7r</td>\n",
       "      <td>[deleted]</td>\n",
       "      <td>NaN</td>\n",
       "      <td>0</td>\n",
       "    </tr>\n",
       "    <tr>\n",
       "      <th>51876</th>\n",
       "      <td>ktac7r</td>\n",
       "      <td>[deleted]</td>\n",
       "      <td>NaN</td>\n",
       "      <td>1</td>\n",
       "    </tr>\n",
       "    <tr>\n",
       "      <th>51878</th>\n",
       "      <td>ktac7r</td>\n",
       "      <td>[deleted]</td>\n",
       "      <td>NaN</td>\n",
       "      <td>0</td>\n",
       "    </tr>\n",
       "    <tr>\n",
       "      <th>51889</th>\n",
       "      <td>ktac7r</td>\n",
       "      <td>[deleted]</td>\n",
       "      <td>NaN</td>\n",
       "      <td>1</td>\n",
       "    </tr>\n",
       "    <tr>\n",
       "      <th>51891</th>\n",
       "      <td>ktac7r</td>\n",
       "      <td>[deleted]</td>\n",
       "      <td>NaN</td>\n",
       "      <td>1</td>\n",
       "    </tr>\n",
       "    <tr>\n",
       "      <th>68412</th>\n",
       "      <td>ktkfuc</td>\n",
       "      <td>[deleted]</td>\n",
       "      <td>NaN</td>\n",
       "      <td>1</td>\n",
       "    </tr>\n",
       "  </tbody>\n",
       "</table>\n",
       "</div>"
      ],
      "text/plain": [
       "      post_id                                       comment_text  \\\n",
       "2      koga1e  Can there be ban on \"aita for reporting my [th...   \n",
       "3      koga1e  Something has to be done against the \"sick bur...   \n",
       "4      koga1e  People really need to be encouraged to use ESH...   \n",
       "34     koga1e  Besides reporting for No Interpersonal Conflic...   \n",
       "4518   kulttx                                          [deleted]   \n",
       "23057  ktuqop                                                NTA   \n",
       "33118  ktrljn                                          [removed]   \n",
       "51545  ktac7r                                                NTA   \n",
       "51855  ktac7r                                          [deleted]   \n",
       "51876  ktac7r                                          [deleted]   \n",
       "51878  ktac7r                                          [deleted]   \n",
       "51889  ktac7r                                          [deleted]   \n",
       "51891  ktac7r                                          [deleted]   \n",
       "68412  ktkfuc                                          [deleted]   \n",
       "\n",
       "      comment_distinguished  comment_score  \n",
       "2                       NaN             91  \n",
       "3                       NaN             77  \n",
       "4                       NaN             37  \n",
       "34                      NaN             12  \n",
       "4518                    NaN            -15  \n",
       "23057                   NaN              1  \n",
       "33118                   NaN             32  \n",
       "51545                   NaN              1  \n",
       "51855                   NaN              0  \n",
       "51876                   NaN              1  \n",
       "51878                   NaN              0  \n",
       "51889                   NaN              1  \n",
       "51891                   NaN              1  \n",
       "68412                   NaN              1  "
      ]
     },
     "execution_count": 20,
     "metadata": {},
     "output_type": "execute_result"
    }
   ],
   "source": [
    "c3[c3['comment_text'].eq(c4['comment_text'])]"
   ]
  },
  {
   "cell_type": "code",
   "execution_count": 9,
   "metadata": {
    "ExecuteTime": {
     "end_time": "2021-01-27T08:21:44.575791Z",
     "start_time": "2021-01-27T08:21:44.550918Z"
    },
    "run_control": {
     "marked": false
    }
   },
   "outputs": [
    {
     "name": "stderr",
     "output_type": "stream",
     "text": [
      "<ipython-input-9-3daa0ec3307e>:1: UserWarning: Boolean Series key will be reindexed to match DataFrame index.\n",
      "  c3[c3['comment_text'].eq(c5['comment_text'])]\n"
     ]
    },
    {
     "data": {
      "text/html": [
       "<div>\n",
       "<style scoped>\n",
       "    .dataframe tbody tr th:only-of-type {\n",
       "        vertical-align: middle;\n",
       "    }\n",
       "\n",
       "    .dataframe tbody tr th {\n",
       "        vertical-align: top;\n",
       "    }\n",
       "\n",
       "    .dataframe thead th {\n",
       "        text-align: right;\n",
       "    }\n",
       "</style>\n",
       "<table border=\"1\" class=\"dataframe\">\n",
       "  <thead>\n",
       "    <tr style=\"text-align: right;\">\n",
       "      <th></th>\n",
       "      <th>post_id</th>\n",
       "      <th>comment_text</th>\n",
       "      <th>comment_distinguished</th>\n",
       "      <th>comment_score</th>\n",
       "    </tr>\n",
       "  </thead>\n",
       "  <tbody>\n",
       "    <tr>\n",
       "      <th>2</th>\n",
       "      <td>koga1e</td>\n",
       "      <td>Can there be ban on \"aita for reporting my [th...</td>\n",
       "      <td>NaN</td>\n",
       "      <td>91</td>\n",
       "    </tr>\n",
       "    <tr>\n",
       "      <th>3</th>\n",
       "      <td>koga1e</td>\n",
       "      <td>Something has to be done against the \"sick bur...</td>\n",
       "      <td>NaN</td>\n",
       "      <td>77</td>\n",
       "    </tr>\n",
       "    <tr>\n",
       "      <th>4</th>\n",
       "      <td>koga1e</td>\n",
       "      <td>People really need to be encouraged to use ESH...</td>\n",
       "      <td>NaN</td>\n",
       "      <td>37</td>\n",
       "    </tr>\n",
       "    <tr>\n",
       "      <th>66</th>\n",
       "      <td>koga1e</td>\n",
       "      <td>Can we ban the whole parent or spouse finding ...</td>\n",
       "      <td>NaN</td>\n",
       "      <td>9</td>\n",
       "    </tr>\n",
       "    <tr>\n",
       "      <th>10055</th>\n",
       "      <td>kupp8t</td>\n",
       "      <td>NTA</td>\n",
       "      <td>NaN</td>\n",
       "      <td>1</td>\n",
       "    </tr>\n",
       "    <tr>\n",
       "      <th>15916</th>\n",
       "      <td>ku4lab</td>\n",
       "      <td>[removed]</td>\n",
       "      <td>NaN</td>\n",
       "      <td>1</td>\n",
       "    </tr>\n",
       "    <tr>\n",
       "      <th>17430</th>\n",
       "      <td>ku3xev</td>\n",
       "      <td>NTA</td>\n",
       "      <td>NaN</td>\n",
       "      <td>1</td>\n",
       "    </tr>\n",
       "    <tr>\n",
       "      <th>18133</th>\n",
       "      <td>ku1f24</td>\n",
       "      <td>[removed]</td>\n",
       "      <td>NaN</td>\n",
       "      <td>1</td>\n",
       "    </tr>\n",
       "    <tr>\n",
       "      <th>39682</th>\n",
       "      <td>kun16f</td>\n",
       "      <td>YTA</td>\n",
       "      <td>NaN</td>\n",
       "      <td>1</td>\n",
       "    </tr>\n",
       "    <tr>\n",
       "      <th>51622</th>\n",
       "      <td>ktac7r</td>\n",
       "      <td>Your comment has been removed because it viola...</td>\n",
       "      <td>moderator</td>\n",
       "      <td>1</td>\n",
       "    </tr>\n",
       "    <tr>\n",
       "      <th>51769</th>\n",
       "      <td>ktac7r</td>\n",
       "      <td>[removed]</td>\n",
       "      <td>NaN</td>\n",
       "      <td>0</td>\n",
       "    </tr>\n",
       "    <tr>\n",
       "      <th>69594</th>\n",
       "      <td>kt0zvr</td>\n",
       "      <td>YTA</td>\n",
       "      <td>NaN</td>\n",
       "      <td>-2</td>\n",
       "    </tr>\n",
       "    <tr>\n",
       "      <th>75120</th>\n",
       "      <td>kssrvn</td>\n",
       "      <td>[deleted]</td>\n",
       "      <td>NaN</td>\n",
       "      <td>-8</td>\n",
       "    </tr>\n",
       "    <tr>\n",
       "      <th>81570</th>\n",
       "      <td>kslfg7</td>\n",
       "      <td>[removed]</td>\n",
       "      <td>NaN</td>\n",
       "      <td>1</td>\n",
       "    </tr>\n",
       "  </tbody>\n",
       "</table>\n",
       "</div>"
      ],
      "text/plain": [
       "      post_id                                       comment_text  \\\n",
       "2      koga1e  Can there be ban on \"aita for reporting my [th...   \n",
       "3      koga1e  Something has to be done against the \"sick bur...   \n",
       "4      koga1e  People really need to be encouraged to use ESH...   \n",
       "66     koga1e  Can we ban the whole parent or spouse finding ...   \n",
       "10055  kupp8t                                                NTA   \n",
       "15916  ku4lab                                          [removed]   \n",
       "17430  ku3xev                                                NTA   \n",
       "18133  ku1f24                                          [removed]   \n",
       "39682  kun16f                                                YTA   \n",
       "51622  ktac7r  Your comment has been removed because it viola...   \n",
       "51769  ktac7r                                          [removed]   \n",
       "69594  kt0zvr                                                YTA   \n",
       "75120  kssrvn                                          [deleted]   \n",
       "81570  kslfg7                                          [removed]   \n",
       "\n",
       "      comment_distinguished  comment_score  \n",
       "2                       NaN             91  \n",
       "3                       NaN             77  \n",
       "4                       NaN             37  \n",
       "66                      NaN              9  \n",
       "10055                   NaN              1  \n",
       "15916                   NaN              1  \n",
       "17430                   NaN              1  \n",
       "18133                   NaN              1  \n",
       "39682                   NaN              1  \n",
       "51622             moderator              1  \n",
       "51769                   NaN              0  \n",
       "69594                   NaN             -2  \n",
       "75120                   NaN             -8  \n",
       "81570                   NaN              1  "
      ]
     },
     "execution_count": 9,
     "metadata": {},
     "output_type": "execute_result"
    }
   ],
   "source": [
    "c3[c3['comment_text'].eq(c5['comment_text'])]"
   ]
  },
  {
   "cell_type": "code",
   "execution_count": 10,
   "metadata": {
    "ExecuteTime": {
     "end_time": "2021-01-27T08:21:44.607409Z",
     "start_time": "2021-01-27T08:21:44.576880Z"
    },
    "run_control": {
     "marked": false
    },
    "scrolled": true
   },
   "outputs": [
    {
     "name": "stderr",
     "output_type": "stream",
     "text": [
      "<ipython-input-10-305f539ca53a>:1: UserWarning: Boolean Series key will be reindexed to match DataFrame index.\n",
      "  c4[c4['comment_text'].eq(c5['comment_text'])]\n"
     ]
    },
    {
     "data": {
      "text/html": [
       "<div>\n",
       "<style scoped>\n",
       "    .dataframe tbody tr th:only-of-type {\n",
       "        vertical-align: middle;\n",
       "    }\n",
       "\n",
       "    .dataframe tbody tr th {\n",
       "        vertical-align: top;\n",
       "    }\n",
       "\n",
       "    .dataframe thead th {\n",
       "        text-align: right;\n",
       "    }\n",
       "</style>\n",
       "<table border=\"1\" class=\"dataframe\">\n",
       "  <thead>\n",
       "    <tr style=\"text-align: right;\">\n",
       "      <th></th>\n",
       "      <th>post_id</th>\n",
       "      <th>comment_text</th>\n",
       "      <th>comment_distinguished</th>\n",
       "      <th>comment_score</th>\n",
       "    </tr>\n",
       "  </thead>\n",
       "  <tbody>\n",
       "    <tr>\n",
       "      <th>0</th>\n",
       "      <td>koga1e</td>\n",
       "      <td>I feel like this subreddit has deteriorated ov...</td>\n",
       "      <td>NaN</td>\n",
       "      <td>69</td>\n",
       "    </tr>\n",
       "    <tr>\n",
       "      <th>1</th>\n",
       "      <td>koga1e</td>\n",
       "      <td>How many accounts of our “my stepmom sucks” tr...</td>\n",
       "      <td>NaN</td>\n",
       "      <td>62</td>\n",
       "    </tr>\n",
       "    <tr>\n",
       "      <th>2</th>\n",
       "      <td>koga1e</td>\n",
       "      <td>Can there be ban on \"aita for reporting my [th...</td>\n",
       "      <td>NaN</td>\n",
       "      <td>119</td>\n",
       "    </tr>\n",
       "    <tr>\n",
       "      <th>3</th>\n",
       "      <td>koga1e</td>\n",
       "      <td>Something has to be done against the \"sick bur...</td>\n",
       "      <td>NaN</td>\n",
       "      <td>114</td>\n",
       "    </tr>\n",
       "    <tr>\n",
       "      <th>4</th>\n",
       "      <td>koga1e</td>\n",
       "      <td>People really need to be encouraged to use ESH...</td>\n",
       "      <td>NaN</td>\n",
       "      <td>47</td>\n",
       "    </tr>\n",
       "    <tr>\n",
       "      <th>5</th>\n",
       "      <td>koga1e</td>\n",
       "      <td>can I just share, after reading through multip...</td>\n",
       "      <td>NaN</td>\n",
       "      <td>45</td>\n",
       "    </tr>\n",
       "    <tr>\n",
       "      <th>6</th>\n",
       "      <td>koga1e</td>\n",
       "      <td>Why does everyone have twins? If you have twin...</td>\n",
       "      <td>NaN</td>\n",
       "      <td>36</td>\n",
       "    </tr>\n",
       "    <tr>\n",
       "      <th>40</th>\n",
       "      <td>koga1e</td>\n",
       "      <td>How about a stickied thread titled \"This is no...</td>\n",
       "      <td>NaN</td>\n",
       "      <td>15</td>\n",
       "    </tr>\n",
       "    <tr>\n",
       "      <th>133</th>\n",
       "      <td>koga1e</td>\n",
       "      <td>I had been away from Reddit for a while but am...</td>\n",
       "      <td>NaN</td>\n",
       "      <td>3</td>\n",
       "    </tr>\n",
       "    <tr>\n",
       "      <th>1048</th>\n",
       "      <td>l1meub</td>\n",
       "      <td>[removed]</td>\n",
       "      <td>NaN</td>\n",
       "      <td>1</td>\n",
       "    </tr>\n",
       "    <tr>\n",
       "      <th>2708</th>\n",
       "      <td>l1hzq6</td>\n",
       "      <td>[removed]</td>\n",
       "      <td>NaN</td>\n",
       "      <td>1</td>\n",
       "    </tr>\n",
       "    <tr>\n",
       "      <th>6207</th>\n",
       "      <td>l1bnj3</td>\n",
       "      <td>[removed]</td>\n",
       "      <td>NaN</td>\n",
       "      <td>1</td>\n",
       "    </tr>\n",
       "    <tr>\n",
       "      <th>10378</th>\n",
       "      <td>l18wha</td>\n",
       "      <td>[removed]</td>\n",
       "      <td>NaN</td>\n",
       "      <td>1</td>\n",
       "    </tr>\n",
       "    <tr>\n",
       "      <th>16915</th>\n",
       "      <td>l0z1uz</td>\n",
       "      <td>[removed]</td>\n",
       "      <td>NaN</td>\n",
       "      <td>1</td>\n",
       "    </tr>\n",
       "    <tr>\n",
       "      <th>42216</th>\n",
       "      <td>l07294</td>\n",
       "      <td>[deleted]</td>\n",
       "      <td>NaN</td>\n",
       "      <td>-5</td>\n",
       "    </tr>\n",
       "    <tr>\n",
       "      <th>52425</th>\n",
       "      <td>l0yy4x</td>\n",
       "      <td>Your comment has been removed because it viola...</td>\n",
       "      <td>moderator</td>\n",
       "      <td>1</td>\n",
       "    </tr>\n",
       "    <tr>\n",
       "      <th>55862</th>\n",
       "      <td>l0weef</td>\n",
       "      <td>Your comment has been removed because it viola...</td>\n",
       "      <td>moderator</td>\n",
       "      <td>1</td>\n",
       "    </tr>\n",
       "    <tr>\n",
       "      <th>70638</th>\n",
       "      <td>kzpisy</td>\n",
       "      <td>Your comment has been removed because it viola...</td>\n",
       "      <td>moderator</td>\n",
       "      <td>1</td>\n",
       "    </tr>\n",
       "    <tr>\n",
       "      <th>72215</th>\n",
       "      <td>kzus7s</td>\n",
       "      <td>YTA</td>\n",
       "      <td>NaN</td>\n",
       "      <td>2</td>\n",
       "    </tr>\n",
       "  </tbody>\n",
       "</table>\n",
       "</div>"
      ],
      "text/plain": [
       "      post_id                                       comment_text  \\\n",
       "0      koga1e  I feel like this subreddit has deteriorated ov...   \n",
       "1      koga1e  How many accounts of our “my stepmom sucks” tr...   \n",
       "2      koga1e  Can there be ban on \"aita for reporting my [th...   \n",
       "3      koga1e  Something has to be done against the \"sick bur...   \n",
       "4      koga1e  People really need to be encouraged to use ESH...   \n",
       "5      koga1e  can I just share, after reading through multip...   \n",
       "6      koga1e  Why does everyone have twins? If you have twin...   \n",
       "40     koga1e  How about a stickied thread titled \"This is no...   \n",
       "133    koga1e  I had been away from Reddit for a while but am...   \n",
       "1048   l1meub                                          [removed]   \n",
       "2708   l1hzq6                                          [removed]   \n",
       "6207   l1bnj3                                          [removed]   \n",
       "10378  l18wha                                          [removed]   \n",
       "16915  l0z1uz                                          [removed]   \n",
       "42216  l07294                                          [deleted]   \n",
       "52425  l0yy4x  Your comment has been removed because it viola...   \n",
       "55862  l0weef  Your comment has been removed because it viola...   \n",
       "70638  kzpisy  Your comment has been removed because it viola...   \n",
       "72215  kzus7s                                                YTA   \n",
       "\n",
       "      comment_distinguished  comment_score  \n",
       "0                       NaN             69  \n",
       "1                       NaN             62  \n",
       "2                       NaN            119  \n",
       "3                       NaN            114  \n",
       "4                       NaN             47  \n",
       "5                       NaN             45  \n",
       "6                       NaN             36  \n",
       "40                      NaN             15  \n",
       "133                     NaN              3  \n",
       "1048                    NaN              1  \n",
       "2708                    NaN              1  \n",
       "6207                    NaN              1  \n",
       "10378                   NaN              1  \n",
       "16915                   NaN              1  \n",
       "42216                   NaN             -5  \n",
       "52425             moderator              1  \n",
       "55862             moderator              1  \n",
       "70638             moderator              1  \n",
       "72215                   NaN              2  "
      ]
     },
     "execution_count": 10,
     "metadata": {},
     "output_type": "execute_result"
    }
   ],
   "source": [
    "c4[c4['comment_text'].eq(c5['comment_text'])]"
   ]
  },
  {
   "cell_type": "markdown",
   "metadata": {},
   "source": [
    "It seems that the main culprit is the parent post with the post_id 'koga1e', likely a stickied post that has held for the past 3 weeks. "
   ]
  },
  {
   "cell_type": "code",
   "execution_count": 26,
   "metadata": {
    "ExecuteTime": {
     "end_time": "2021-01-27T16:28:28.843771Z",
     "start_time": "2021-01-27T16:28:28.802881Z"
    },
    "scrolled": true
   },
   "outputs": [
    {
     "data": {
      "text/html": [
       "<div>\n",
       "<style scoped>\n",
       "    .dataframe tbody tr th:only-of-type {\n",
       "        vertical-align: middle;\n",
       "    }\n",
       "\n",
       "    .dataframe tbody tr th {\n",
       "        vertical-align: top;\n",
       "    }\n",
       "\n",
       "    .dataframe thead th {\n",
       "        text-align: right;\n",
       "    }\n",
       "</style>\n",
       "<table border=\"1\" class=\"dataframe\">\n",
       "  <thead>\n",
       "    <tr style=\"text-align: right;\">\n",
       "      <th></th>\n",
       "      <th>title</th>\n",
       "      <th>id</th>\n",
       "      <th>date_created</th>\n",
       "      <th>text</th>\n",
       "      <th>distinguished</th>\n",
       "      <th>score</th>\n",
       "      <th>upvote_ratio</th>\n",
       "    </tr>\n",
       "  </thead>\n",
       "  <tbody>\n",
       "    <tr>\n",
       "      <th>0</th>\n",
       "      <td>Monthly Open Forum January 2021</td>\n",
       "      <td>koga1e</td>\n",
       "      <td>2021-01-01 18:33:45</td>\n",
       "      <td>Welcome to the monthly open forum! This is the...</td>\n",
       "      <td>NaN</td>\n",
       "      <td>187</td>\n",
       "      <td>0.91</td>\n",
       "    </tr>\n",
       "    <tr>\n",
       "      <th>1</th>\n",
       "      <td>META: r/AmITheAsshole Best of 2020 Awards - Vo...</td>\n",
       "      <td>ksm2ot</td>\n",
       "      <td>2021-01-07 20:34:01</td>\n",
       "      <td># Hey assholes!\\n\\nAs you know, we are hosting...</td>\n",
       "      <td>NaN</td>\n",
       "      <td>204</td>\n",
       "      <td>0.94</td>\n",
       "    </tr>\n",
       "    <tr>\n",
       "      <th>2</th>\n",
       "      <td>AITA for walking out on husband and babies?</td>\n",
       "      <td>kusiba</td>\n",
       "      <td>2021-01-11 01:52:35</td>\n",
       "      <td>Throw away and title sounds awful and I’m (35F...</td>\n",
       "      <td>NaN</td>\n",
       "      <td>6207</td>\n",
       "      <td>0.97</td>\n",
       "    </tr>\n",
       "    <tr>\n",
       "      <th>3</th>\n",
       "      <td>AITA for \"lying to my cat\"</td>\n",
       "      <td>kulkxn</td>\n",
       "      <td>2021-01-10 19:57:39</td>\n",
       "      <td>Oh god this is stupid but I was told to ask ot...</td>\n",
       "      <td>NaN</td>\n",
       "      <td>7654</td>\n",
       "      <td>0.96</td>\n",
       "    </tr>\n",
       "    <tr>\n",
       "      <th>4</th>\n",
       "      <td>AITA: For firing my son?</td>\n",
       "      <td>kuhtd9</td>\n",
       "      <td>2021-01-10 16:44:23</td>\n",
       "      <td>\\nThrowaway because I don't want this seen on ...</td>\n",
       "      <td>NaN</td>\n",
       "      <td>23104</td>\n",
       "      <td>0.97</td>\n",
       "    </tr>\n",
       "  </tbody>\n",
       "</table>\n",
       "</div>"
      ],
      "text/plain": [
       "                                               title      id  \\\n",
       "0                    Monthly Open Forum January 2021  koga1e   \n",
       "1  META: r/AmITheAsshole Best of 2020 Awards - Vo...  ksm2ot   \n",
       "2        AITA for walking out on husband and babies?  kusiba   \n",
       "3                         AITA for \"lying to my cat\"  kulkxn   \n",
       "4                           AITA: For firing my son?  kuhtd9   \n",
       "\n",
       "          date_created                                               text  \\\n",
       "0  2021-01-01 18:33:45  Welcome to the monthly open forum! This is the...   \n",
       "1  2021-01-07 20:34:01  # Hey assholes!\\n\\nAs you know, we are hosting...   \n",
       "2  2021-01-11 01:52:35  Throw away and title sounds awful and I’m (35F...   \n",
       "3  2021-01-10 19:57:39  Oh god this is stupid but I was told to ask ot...   \n",
       "4  2021-01-10 16:44:23  \\nThrowaway because I don't want this seen on ...   \n",
       "\n",
       "   distinguished  score  upvote_ratio  \n",
       "0            NaN    187          0.91  \n",
       "1            NaN    204          0.94  \n",
       "2            NaN   6207          0.97  \n",
       "3            NaN   7654          0.96  \n",
       "4            NaN  23104          0.97  "
      ]
     },
     "execution_count": 26,
     "metadata": {},
     "output_type": "execute_result"
    }
   ],
   "source": [
    "post3 = pd.read_csv('datasets/posts3.csv')\n",
    "post3.head()"
   ]
  },
  {
   "cell_type": "code",
   "execution_count": 27,
   "metadata": {
    "ExecuteTime": {
     "end_time": "2021-01-27T16:29:06.095669Z",
     "start_time": "2021-01-27T16:29:06.081707Z"
    },
    "scrolled": false
   },
   "outputs": [
    {
     "data": {
      "text/plain": [
       "\"Welcome to the monthly open forum! This is the place to share all your meta thoughts about the sub, and to have a dialog with the mod team.\\n\\n#Keep things civil. Rules still apply.\\n\\nIt's 2021! Everything is fixed now!\\n\\nA couple notes.\\n\\n* Our bot is live, but definitely still in testing. **Please help us by reporting the ~~judgement bot comment~~ post when it doesn't actually explain why they think they may be an asshole.** Some people are using it like a TL;DR or just copying and pasting their post as a reply. [ETA - sounds like the report option doesn't work on all platforms for the bot comment, so you can just report the post. The option is bundled with the META report]\\n\\n* Please stop PMing mods. We spam the hell out of the [modmail link](https://www.reddit.com/message/compose/?to=/r/AmItheAsshole). When you PM us, it's super easy for things to get buried in our inbox and delay your response time.\\n\\n#As always, do not directly link to posts/comments or post uncensored screenshots here. Any comments with links will be removed.  \\nThis is to discourage brigading. If something needs to be discussed in that context, use modmail.\""
      ]
     },
     "execution_count": 27,
     "metadata": {},
     "output_type": "execute_result"
    }
   ],
   "source": [
    "post3['text'][0]"
   ]
  },
  {
   "cell_type": "markdown",
   "metadata": {},
   "source": [
    "Since this is the case, dropping duplicates will remove the repeated posts."
   ]
  },
  {
   "cell_type": "markdown",
   "metadata": {},
   "source": [
    "## Join Datasets/Drop Duplicates"
   ]
  },
  {
   "cell_type": "code",
   "execution_count": 29,
   "metadata": {
    "ExecuteTime": {
     "end_time": "2021-01-27T16:30:52.522802Z",
     "start_time": "2021-01-27T16:30:52.481876Z"
    },
    "run_control": {
     "marked": false
    }
   },
   "outputs": [
    {
     "data": {
      "text/html": [
       "<div>\n",
       "<style scoped>\n",
       "    .dataframe tbody tr th:only-of-type {\n",
       "        vertical-align: middle;\n",
       "    }\n",
       "\n",
       "    .dataframe tbody tr th {\n",
       "        vertical-align: top;\n",
       "    }\n",
       "\n",
       "    .dataframe thead th {\n",
       "        text-align: right;\n",
       "    }\n",
       "</style>\n",
       "<table border=\"1\" class=\"dataframe\">\n",
       "  <thead>\n",
       "    <tr style=\"text-align: right;\">\n",
       "      <th></th>\n",
       "      <th>post_id</th>\n",
       "      <th>comment_text</th>\n",
       "      <th>comment_distinguished</th>\n",
       "      <th>comment_score</th>\n",
       "    </tr>\n",
       "  </thead>\n",
       "  <tbody>\n",
       "    <tr>\n",
       "      <th>0</th>\n",
       "      <td>jbswil</td>\n",
       "      <td>This is such a great post with wealth of infor...</td>\n",
       "      <td>NaN</td>\n",
       "      <td>739</td>\n",
       "    </tr>\n",
       "    <tr>\n",
       "      <th>1</th>\n",
       "      <td>jbswil</td>\n",
       "      <td>Thank you so much! So glad to see this up and ...</td>\n",
       "      <td>NaN</td>\n",
       "      <td>218</td>\n",
       "    </tr>\n",
       "    <tr>\n",
       "      <th>2</th>\n",
       "      <td>jbswil</td>\n",
       "      <td>Since joining this subreddit purely for entert...</td>\n",
       "      <td>NaN</td>\n",
       "      <td>66</td>\n",
       "    </tr>\n",
       "    <tr>\n",
       "      <th>3</th>\n",
       "      <td>jbswil</td>\n",
       "      <td>Thank you for putting in the effort to help pr...</td>\n",
       "      <td>NaN</td>\n",
       "      <td>159</td>\n",
       "    </tr>\n",
       "    <tr>\n",
       "      <th>4</th>\n",
       "      <td>jbswil</td>\n",
       "      <td>NTA \\n\\nThis is great. Almost like breaking th...</td>\n",
       "      <td>NaN</td>\n",
       "      <td>97</td>\n",
       "    </tr>\n",
       "  </tbody>\n",
       "</table>\n",
       "</div>"
      ],
      "text/plain": [
       "  post_id                                       comment_text  \\\n",
       "0  jbswil  This is such a great post with wealth of infor...   \n",
       "1  jbswil  Thank you so much! So glad to see this up and ...   \n",
       "2  jbswil  Since joining this subreddit purely for entert...   \n",
       "3  jbswil  Thank you for putting in the effort to help pr...   \n",
       "4  jbswil  NTA \\n\\nThis is great. Almost like breaking th...   \n",
       "\n",
       "  comment_distinguished  comment_score  \n",
       "0                   NaN            739  \n",
       "1                   NaN            218  \n",
       "2                   NaN             66  \n",
       "3                   NaN            159  \n",
       "4                   NaN             97  "
      ]
     },
     "execution_count": 29,
     "metadata": {},
     "output_type": "execute_result"
    }
   ],
   "source": [
    "full = pd.concat([c1, c2, c3, c4, c5], axis=0, ignore_index=True)\n",
    "full.head()"
   ]
  },
  {
   "cell_type": "code",
   "execution_count": 30,
   "metadata": {
    "ExecuteTime": {
     "end_time": "2021-01-27T16:30:53.569864Z",
     "start_time": "2021-01-27T16:30:53.553936Z"
    },
    "run_control": {
     "marked": false
    }
   },
   "outputs": [
    {
     "data": {
      "text/plain": [
       "(438598, 4)"
      ]
     },
     "execution_count": 30,
     "metadata": {},
     "output_type": "execute_result"
    }
   ],
   "source": [
    "full.shape"
   ]
  },
  {
   "cell_type": "code",
   "execution_count": 31,
   "metadata": {
    "ExecuteTime": {
     "end_time": "2021-01-27T16:30:54.761620Z",
     "start_time": "2021-01-27T16:30:54.032985Z"
    },
    "run_control": {
     "marked": false
    }
   },
   "outputs": [],
   "source": [
    "full.drop_duplicates(subset='comment_text', keep='first',inplace=True)"
   ]
  },
  {
   "cell_type": "code",
   "execution_count": 32,
   "metadata": {
    "ExecuteTime": {
     "end_time": "2021-01-27T16:30:54.777212Z",
     "start_time": "2021-01-27T16:30:54.763224Z"
    },
    "run_control": {
     "marked": false
    },
    "scrolled": true
   },
   "outputs": [
    {
     "data": {
      "text/plain": [
       "(417459, 4)"
      ]
     },
     "execution_count": 32,
     "metadata": {},
     "output_type": "execute_result"
    }
   ],
   "source": [
    "full.shape"
   ]
  },
  {
   "cell_type": "markdown",
   "metadata": {},
   "source": [
    "# Creating Target Variable"
   ]
  },
  {
   "cell_type": "markdown",
   "metadata": {},
   "source": [
    "I will be mapping the coded language from the subreddit to the data based off if they contain 'YTA' or 'NTA' for the target variable. Additionally, for personal curiousity I will be creating 'ESH' and 'NAH' to see what the distribution is like"
   ]
  },
  {
   "cell_type": "code",
   "execution_count": 16,
   "metadata": {
    "ExecuteTime": {
     "end_time": "2021-01-27T08:21:45.383003Z",
     "start_time": "2021-01-27T08:21:45.379643Z"
    },
    "run_control": {
     "marked": false
    }
   },
   "outputs": [],
   "source": [
    "def ah_ratings(df):\n",
    "    yta_list = []\n",
    "    nta_list = []\n",
    "    esh_list = []\n",
    "    nah_list = []\n",
    "    for i in df['comment_text']:\n",
    "        if 'YTA' in i:\n",
    "            yta_list.append(1)\n",
    "        else: \n",
    "            yta_list.append(0)\n",
    "        if 'NTA' in i: \n",
    "            nta_list.append(1)\n",
    "        else: \n",
    "            nta_list.append(0)\n",
    "        if 'ESH' in i: \n",
    "            esh_list.append(1)\n",
    "        else: \n",
    "            esh_list.append(0)\n",
    "        if 'NAH' in i: \n",
    "            nah_list.append(1)\n",
    "        else: \n",
    "            nah_list.append(0)\n",
    "            \n",
    "    df['yta'] = yta_list\n",
    "    df['esh'] = esh_list\n",
    "    df['nta'] = nta_list\n",
    "    df['nah'] = nah_list\n",
    "        \n",
    "    return df"
   ]
  },
  {
   "cell_type": "code",
   "execution_count": 17,
   "metadata": {
    "ExecuteTime": {
     "end_time": "2021-01-27T08:21:46.246998Z",
     "start_time": "2021-01-27T08:21:45.384054Z"
    },
    "run_control": {
     "marked": false
    }
   },
   "outputs": [
    {
     "data": {
      "text/html": [
       "<div>\n",
       "<style scoped>\n",
       "    .dataframe tbody tr th:only-of-type {\n",
       "        vertical-align: middle;\n",
       "    }\n",
       "\n",
       "    .dataframe tbody tr th {\n",
       "        vertical-align: top;\n",
       "    }\n",
       "\n",
       "    .dataframe thead th {\n",
       "        text-align: right;\n",
       "    }\n",
       "</style>\n",
       "<table border=\"1\" class=\"dataframe\">\n",
       "  <thead>\n",
       "    <tr style=\"text-align: right;\">\n",
       "      <th></th>\n",
       "      <th>post_id</th>\n",
       "      <th>comment_text</th>\n",
       "      <th>comment_score</th>\n",
       "      <th>yta</th>\n",
       "      <th>esh</th>\n",
       "      <th>nta</th>\n",
       "      <th>nah</th>\n",
       "    </tr>\n",
       "  </thead>\n",
       "  <tbody>\n",
       "    <tr>\n",
       "      <th>0</th>\n",
       "      <td>jbswil</td>\n",
       "      <td>This is such a great post with wealth of infor...</td>\n",
       "      <td>739</td>\n",
       "      <td>0</td>\n",
       "      <td>0</td>\n",
       "      <td>0</td>\n",
       "      <td>0</td>\n",
       "    </tr>\n",
       "    <tr>\n",
       "      <th>1</th>\n",
       "      <td>jbswil</td>\n",
       "      <td>Thank you so much! So glad to see this up and ...</td>\n",
       "      <td>218</td>\n",
       "      <td>0</td>\n",
       "      <td>0</td>\n",
       "      <td>0</td>\n",
       "      <td>0</td>\n",
       "    </tr>\n",
       "    <tr>\n",
       "      <th>2</th>\n",
       "      <td>jbswil</td>\n",
       "      <td>Since joining this subreddit purely for entert...</td>\n",
       "      <td>66</td>\n",
       "      <td>0</td>\n",
       "      <td>0</td>\n",
       "      <td>0</td>\n",
       "      <td>1</td>\n",
       "    </tr>\n",
       "    <tr>\n",
       "      <th>3</th>\n",
       "      <td>jbswil</td>\n",
       "      <td>Thank you for putting in the effort to help pr...</td>\n",
       "      <td>159</td>\n",
       "      <td>0</td>\n",
       "      <td>0</td>\n",
       "      <td>0</td>\n",
       "      <td>0</td>\n",
       "    </tr>\n",
       "    <tr>\n",
       "      <th>4</th>\n",
       "      <td>jbswil</td>\n",
       "      <td>NTA \\n\\nThis is great. Almost like breaking th...</td>\n",
       "      <td>97</td>\n",
       "      <td>0</td>\n",
       "      <td>0</td>\n",
       "      <td>1</td>\n",
       "      <td>0</td>\n",
       "    </tr>\n",
       "    <tr>\n",
       "      <th>...</th>\n",
       "      <td>...</td>\n",
       "      <td>...</td>\n",
       "      <td>...</td>\n",
       "      <td>...</td>\n",
       "      <td>...</td>\n",
       "      <td>...</td>\n",
       "      <td>...</td>\n",
       "    </tr>\n",
       "    <tr>\n",
       "      <th>438364</th>\n",
       "      <td>l2buhx</td>\n",
       "      <td>um no don’t listen to this person. screaming a...</td>\n",
       "      <td>7</td>\n",
       "      <td>0</td>\n",
       "      <td>0</td>\n",
       "      <td>0</td>\n",
       "      <td>0</td>\n",
       "    </tr>\n",
       "    <tr>\n",
       "      <th>438365</th>\n",
       "      <td>l2buhx</td>\n",
       "      <td>No, no she is not. Your. Mental. Health. Is. I...</td>\n",
       "      <td>1</td>\n",
       "      <td>0</td>\n",
       "      <td>0</td>\n",
       "      <td>0</td>\n",
       "      <td>0</td>\n",
       "    </tr>\n",
       "    <tr>\n",
       "      <th>438541</th>\n",
       "      <td>l0pixt</td>\n",
       "      <td>For Americans, this is like LA to Portland in ...</td>\n",
       "      <td>1</td>\n",
       "      <td>0</td>\n",
       "      <td>0</td>\n",
       "      <td>0</td>\n",
       "      <td>0</td>\n",
       "    </tr>\n",
       "    <tr>\n",
       "      <th>438549</th>\n",
       "      <td>l0pixt</td>\n",
       "      <td>I had to go watch it and laugh again lol</td>\n",
       "      <td>2</td>\n",
       "      <td>0</td>\n",
       "      <td>0</td>\n",
       "      <td>0</td>\n",
       "      <td>0</td>\n",
       "    </tr>\n",
       "    <tr>\n",
       "      <th>438567</th>\n",
       "      <td>l0pixt</td>\n",
       "      <td>“Well, we’re out of cake! We only had 3 bits a...</td>\n",
       "      <td>2</td>\n",
       "      <td>0</td>\n",
       "      <td>0</td>\n",
       "      <td>0</td>\n",
       "      <td>0</td>\n",
       "    </tr>\n",
       "  </tbody>\n",
       "</table>\n",
       "<p>417459 rows × 7 columns</p>\n",
       "</div>"
      ],
      "text/plain": [
       "       post_id                                       comment_text  \\\n",
       "0       jbswil  This is such a great post with wealth of infor...   \n",
       "1       jbswil  Thank you so much! So glad to see this up and ...   \n",
       "2       jbswil  Since joining this subreddit purely for entert...   \n",
       "3       jbswil  Thank you for putting in the effort to help pr...   \n",
       "4       jbswil  NTA \\n\\nThis is great. Almost like breaking th...   \n",
       "...        ...                                                ...   \n",
       "438364  l2buhx  um no don’t listen to this person. screaming a...   \n",
       "438365  l2buhx  No, no she is not. Your. Mental. Health. Is. I...   \n",
       "438541  l0pixt  For Americans, this is like LA to Portland in ...   \n",
       "438549  l0pixt           I had to go watch it and laugh again lol   \n",
       "438567  l0pixt  “Well, we’re out of cake! We only had 3 bits a...   \n",
       "\n",
       "        comment_score  yta  esh  nta  nah  \n",
       "0                 739    0    0    0    0  \n",
       "1                 218    0    0    0    0  \n",
       "2                  66    0    0    0    1  \n",
       "3                 159    0    0    0    0  \n",
       "4                  97    0    0    1    0  \n",
       "...               ...  ...  ...  ...  ...  \n",
       "438364              7    0    0    0    0  \n",
       "438365              1    0    0    0    0  \n",
       "438541              1    0    0    0    0  \n",
       "438549              2    0    0    0    0  \n",
       "438567              2    0    0    0    0  \n",
       "\n",
       "[417459 rows x 7 columns]"
      ]
     },
     "execution_count": 17,
     "metadata": {},
     "output_type": "execute_result"
    }
   ],
   "source": [
    "ah_ratings(full)"
   ]
  },
  {
   "cell_type": "code",
   "execution_count": 18,
   "metadata": {
    "ExecuteTime": {
     "end_time": "2021-01-27T08:21:46.275635Z",
     "start_time": "2021-01-27T08:21:46.247954Z"
    },
    "run_control": {
     "marked": false
    }
   },
   "outputs": [
    {
     "data": {
      "text/plain": [
       "yta  nta  esh  nah\n",
       "0    0    0    0      224793\n",
       "     1    0    0      137384\n",
       "1    0    0    0       40631\n",
       "0    0    1    0        7030\n",
       "          0    1        5615\n",
       "1    1    0    0         880\n",
       "0    1    1    0         316\n",
       "1    0    1    0         252\n",
       "0    1    0    1         252\n",
       "1    0    0    1         123\n",
       "0    0    1    1          85\n",
       "1    1    1    0          45\n",
       "          0    1          21\n",
       "0    1    1    1          13\n",
       "1    0    1    1          12\n",
       "     1    1    1           7\n",
       "dtype: int64"
      ]
     },
     "execution_count": 18,
     "metadata": {},
     "output_type": "execute_result"
    }
   ],
   "source": [
    "full[['yta','nta','esh','nah']].value_counts()"
   ]
  },
  {
   "cell_type": "code",
   "execution_count": 19,
   "metadata": {
    "ExecuteTime": {
     "end_time": "2021-01-27T08:21:46.279877Z",
     "start_time": "2021-01-27T08:21:46.277190Z"
    },
    "run_control": {
     "marked": false
    }
   },
   "outputs": [],
   "source": [
    "#Defining a function for easier access to specific combinations of values\n",
    "def seek(yta_val,nta_val,esh_val,nah_val):\n",
    "    return full[(full.yta ==yta_val) & (full.nta == nta_val) & (full.esh == esh_val) & (full.nah == nah_val)]"
   ]
  },
  {
   "cell_type": "code",
   "execution_count": 20,
   "metadata": {
    "ExecuteTime": {
     "end_time": "2021-01-27T08:21:46.436975Z",
     "start_time": "2021-01-27T08:21:46.281910Z"
    },
    "run_control": {
     "marked": false
    },
    "scrolled": false
   },
   "outputs": [
    {
     "data": {
      "text/html": [
       "<div>\n",
       "<style scoped>\n",
       "    .dataframe tbody tr th:only-of-type {\n",
       "        vertical-align: middle;\n",
       "    }\n",
       "\n",
       "    .dataframe tbody tr th {\n",
       "        vertical-align: top;\n",
       "    }\n",
       "\n",
       "    .dataframe thead th {\n",
       "        text-align: right;\n",
       "    }\n",
       "</style>\n",
       "<table border=\"1\" class=\"dataframe\">\n",
       "  <thead>\n",
       "    <tr style=\"text-align: right;\">\n",
       "      <th></th>\n",
       "      <th>post_id</th>\n",
       "      <th>comment_text</th>\n",
       "      <th>comment_score</th>\n",
       "      <th>yta</th>\n",
       "      <th>esh</th>\n",
       "      <th>nta</th>\n",
       "      <th>nah</th>\n",
       "    </tr>\n",
       "  </thead>\n",
       "  <tbody>\n",
       "    <tr>\n",
       "      <th>0</th>\n",
       "      <td>jbswil</td>\n",
       "      <td>This is such a great post with wealth of infor...</td>\n",
       "      <td>739</td>\n",
       "      <td>0</td>\n",
       "      <td>0</td>\n",
       "      <td>0</td>\n",
       "      <td>0</td>\n",
       "    </tr>\n",
       "    <tr>\n",
       "      <th>1</th>\n",
       "      <td>jbswil</td>\n",
       "      <td>Thank you so much! So glad to see this up and ...</td>\n",
       "      <td>218</td>\n",
       "      <td>0</td>\n",
       "      <td>0</td>\n",
       "      <td>0</td>\n",
       "      <td>0</td>\n",
       "    </tr>\n",
       "    <tr>\n",
       "      <th>3</th>\n",
       "      <td>jbswil</td>\n",
       "      <td>Thank you for putting in the effort to help pr...</td>\n",
       "      <td>159</td>\n",
       "      <td>0</td>\n",
       "      <td>0</td>\n",
       "      <td>0</td>\n",
       "      <td>0</td>\n",
       "    </tr>\n",
       "    <tr>\n",
       "      <th>5</th>\n",
       "      <td>jbswil</td>\n",
       "      <td>Thank you so much for doing this. We often rea...</td>\n",
       "      <td>28</td>\n",
       "      <td>0</td>\n",
       "      <td>0</td>\n",
       "      <td>0</td>\n",
       "      <td>0</td>\n",
       "    </tr>\n",
       "    <tr>\n",
       "      <th>6</th>\n",
       "      <td>jbswil</td>\n",
       "      <td>Thank you. It breaks my heart seeing so many p...</td>\n",
       "      <td>24</td>\n",
       "      <td>0</td>\n",
       "      <td>0</td>\n",
       "      <td>0</td>\n",
       "      <td>0</td>\n",
       "    </tr>\n",
       "    <tr>\n",
       "      <th>...</th>\n",
       "      <td>...</td>\n",
       "      <td>...</td>\n",
       "      <td>...</td>\n",
       "      <td>...</td>\n",
       "      <td>...</td>\n",
       "      <td>...</td>\n",
       "      <td>...</td>\n",
       "    </tr>\n",
       "    <tr>\n",
       "      <th>438364</th>\n",
       "      <td>l2buhx</td>\n",
       "      <td>um no don’t listen to this person. screaming a...</td>\n",
       "      <td>7</td>\n",
       "      <td>0</td>\n",
       "      <td>0</td>\n",
       "      <td>0</td>\n",
       "      <td>0</td>\n",
       "    </tr>\n",
       "    <tr>\n",
       "      <th>438365</th>\n",
       "      <td>l2buhx</td>\n",
       "      <td>No, no she is not. Your. Mental. Health. Is. I...</td>\n",
       "      <td>1</td>\n",
       "      <td>0</td>\n",
       "      <td>0</td>\n",
       "      <td>0</td>\n",
       "      <td>0</td>\n",
       "    </tr>\n",
       "    <tr>\n",
       "      <th>438541</th>\n",
       "      <td>l0pixt</td>\n",
       "      <td>For Americans, this is like LA to Portland in ...</td>\n",
       "      <td>1</td>\n",
       "      <td>0</td>\n",
       "      <td>0</td>\n",
       "      <td>0</td>\n",
       "      <td>0</td>\n",
       "    </tr>\n",
       "    <tr>\n",
       "      <th>438549</th>\n",
       "      <td>l0pixt</td>\n",
       "      <td>I had to go watch it and laugh again lol</td>\n",
       "      <td>2</td>\n",
       "      <td>0</td>\n",
       "      <td>0</td>\n",
       "      <td>0</td>\n",
       "      <td>0</td>\n",
       "    </tr>\n",
       "    <tr>\n",
       "      <th>438567</th>\n",
       "      <td>l0pixt</td>\n",
       "      <td>“Well, we’re out of cake! We only had 3 bits a...</td>\n",
       "      <td>2</td>\n",
       "      <td>0</td>\n",
       "      <td>0</td>\n",
       "      <td>0</td>\n",
       "      <td>0</td>\n",
       "    </tr>\n",
       "  </tbody>\n",
       "</table>\n",
       "<p>224793 rows × 7 columns</p>\n",
       "</div>"
      ],
      "text/plain": [
       "       post_id                                       comment_text  \\\n",
       "0       jbswil  This is such a great post with wealth of infor...   \n",
       "1       jbswil  Thank you so much! So glad to see this up and ...   \n",
       "3       jbswil  Thank you for putting in the effort to help pr...   \n",
       "5       jbswil  Thank you so much for doing this. We often rea...   \n",
       "6       jbswil  Thank you. It breaks my heart seeing so many p...   \n",
       "...        ...                                                ...   \n",
       "438364  l2buhx  um no don’t listen to this person. screaming a...   \n",
       "438365  l2buhx  No, no she is not. Your. Mental. Health. Is. I...   \n",
       "438541  l0pixt  For Americans, this is like LA to Portland in ...   \n",
       "438549  l0pixt           I had to go watch it and laugh again lol   \n",
       "438567  l0pixt  “Well, we’re out of cake! We only had 3 bits a...   \n",
       "\n",
       "        comment_score  yta  esh  nta  nah  \n",
       "0                 739    0    0    0    0  \n",
       "1                 218    0    0    0    0  \n",
       "3                 159    0    0    0    0  \n",
       "5                  28    0    0    0    0  \n",
       "6                  24    0    0    0    0  \n",
       "...               ...  ...  ...  ...  ...  \n",
       "438364              7    0    0    0    0  \n",
       "438365              1    0    0    0    0  \n",
       "438541              1    0    0    0    0  \n",
       "438549              2    0    0    0    0  \n",
       "438567              2    0    0    0    0  \n",
       "\n",
       "[224793 rows x 7 columns]"
      ]
     },
     "execution_count": 20,
     "metadata": {},
     "output_type": "execute_result"
    }
   ],
   "source": [
    "seek(0,0,0,0)"
   ]
  },
  {
   "cell_type": "code",
   "execution_count": 21,
   "metadata": {
    "ExecuteTime": {
     "end_time": "2021-01-27T08:21:46.446793Z",
     "start_time": "2021-01-27T08:21:46.438085Z"
    },
    "run_control": {
     "marked": false
    }
   },
   "outputs": [
    {
     "data": {
      "text/html": [
       "<div>\n",
       "<style scoped>\n",
       "    .dataframe tbody tr th:only-of-type {\n",
       "        vertical-align: middle;\n",
       "    }\n",
       "\n",
       "    .dataframe tbody tr th {\n",
       "        vertical-align: top;\n",
       "    }\n",
       "\n",
       "    .dataframe thead th {\n",
       "        text-align: right;\n",
       "    }\n",
       "</style>\n",
       "<table border=\"1\" class=\"dataframe\">\n",
       "  <thead>\n",
       "    <tr style=\"text-align: right;\">\n",
       "      <th></th>\n",
       "      <th>post_id</th>\n",
       "      <th>comment_text</th>\n",
       "      <th>comment_score</th>\n",
       "      <th>yta</th>\n",
       "      <th>esh</th>\n",
       "      <th>nta</th>\n",
       "      <th>nah</th>\n",
       "    </tr>\n",
       "  </thead>\n",
       "  <tbody>\n",
       "    <tr>\n",
       "      <th>198</th>\n",
       "      <td>k4owfz</td>\n",
       "      <td>Is it possible for mods to pin some ‘YTA’ thre...</td>\n",
       "      <td>23</td>\n",
       "      <td>1</td>\n",
       "      <td>0</td>\n",
       "      <td>1</td>\n",
       "      <td>0</td>\n",
       "    </tr>\n",
       "    <tr>\n",
       "      <th>235</th>\n",
       "      <td>k4owfz</td>\n",
       "      <td>Is there anything which could be done about th...</td>\n",
       "      <td>7</td>\n",
       "      <td>1</td>\n",
       "      <td>0</td>\n",
       "      <td>1</td>\n",
       "      <td>0</td>\n",
       "    </tr>\n",
       "    <tr>\n",
       "      <th>265</th>\n",
       "      <td>k4owfz</td>\n",
       "      <td>This sub has a really huge double standards pr...</td>\n",
       "      <td>-3</td>\n",
       "      <td>1</td>\n",
       "      <td>0</td>\n",
       "      <td>1</td>\n",
       "      <td>0</td>\n",
       "    </tr>\n",
       "    <tr>\n",
       "      <th>420</th>\n",
       "      <td>k4owfz</td>\n",
       "      <td>Or... You can pass your judgement, upvote the ...</td>\n",
       "      <td>13</td>\n",
       "      <td>1</td>\n",
       "      <td>0</td>\n",
       "      <td>1</td>\n",
       "      <td>0</td>\n",
       "    </tr>\n",
       "    <tr>\n",
       "      <th>438</th>\n",
       "      <td>k4owfz</td>\n",
       "      <td>I do upvote any YTA post and don’t upvote any ...</td>\n",
       "      <td>3</td>\n",
       "      <td>1</td>\n",
       "      <td>0</td>\n",
       "      <td>1</td>\n",
       "      <td>0</td>\n",
       "    </tr>\n",
       "    <tr>\n",
       "      <th>...</th>\n",
       "      <td>...</td>\n",
       "      <td>...</td>\n",
       "      <td>...</td>\n",
       "      <td>...</td>\n",
       "      <td>...</td>\n",
       "      <td>...</td>\n",
       "      <td>...</td>\n",
       "    </tr>\n",
       "    <tr>\n",
       "      <th>436455</th>\n",
       "      <td>l1h6oh</td>\n",
       "      <td>NTA for giving Alice 6p days to move out and e...</td>\n",
       "      <td>0</td>\n",
       "      <td>1</td>\n",
       "      <td>0</td>\n",
       "      <td>1</td>\n",
       "      <td>0</td>\n",
       "    </tr>\n",
       "    <tr>\n",
       "      <th>436481</th>\n",
       "      <td>l1h6oh</td>\n",
       "      <td>You're both. \\nNTA when it comes to Alice but ...</td>\n",
       "      <td>-1</td>\n",
       "      <td>1</td>\n",
       "      <td>0</td>\n",
       "      <td>1</td>\n",
       "      <td>0</td>\n",
       "    </tr>\n",
       "    <tr>\n",
       "      <th>437773</th>\n",
       "      <td>l2hnwv</td>\n",
       "      <td>It depends on the tone you used when you told ...</td>\n",
       "      <td>2</td>\n",
       "      <td>1</td>\n",
       "      <td>0</td>\n",
       "      <td>1</td>\n",
       "      <td>0</td>\n",
       "    </tr>\n",
       "    <tr>\n",
       "      <th>437972</th>\n",
       "      <td>l2744i</td>\n",
       "      <td>A lot of people responding seem to be on the s...</td>\n",
       "      <td>7</td>\n",
       "      <td>1</td>\n",
       "      <td>0</td>\n",
       "      <td>1</td>\n",
       "      <td>0</td>\n",
       "    </tr>\n",
       "    <tr>\n",
       "      <th>437976</th>\n",
       "      <td>l2744i</td>\n",
       "      <td>NTA b/c it wasnt on purpose. I'd probably expl...</td>\n",
       "      <td>6</td>\n",
       "      <td>1</td>\n",
       "      <td>0</td>\n",
       "      <td>1</td>\n",
       "      <td>0</td>\n",
       "    </tr>\n",
       "  </tbody>\n",
       "</table>\n",
       "<p>880 rows × 7 columns</p>\n",
       "</div>"
      ],
      "text/plain": [
       "       post_id                                       comment_text  \\\n",
       "198     k4owfz  Is it possible for mods to pin some ‘YTA’ thre...   \n",
       "235     k4owfz  Is there anything which could be done about th...   \n",
       "265     k4owfz  This sub has a really huge double standards pr...   \n",
       "420     k4owfz  Or... You can pass your judgement, upvote the ...   \n",
       "438     k4owfz  I do upvote any YTA post and don’t upvote any ...   \n",
       "...        ...                                                ...   \n",
       "436455  l1h6oh  NTA for giving Alice 6p days to move out and e...   \n",
       "436481  l1h6oh  You're both. \\nNTA when it comes to Alice but ...   \n",
       "437773  l2hnwv  It depends on the tone you used when you told ...   \n",
       "437972  l2744i  A lot of people responding seem to be on the s...   \n",
       "437976  l2744i  NTA b/c it wasnt on purpose. I'd probably expl...   \n",
       "\n",
       "        comment_score  yta  esh  nta  nah  \n",
       "198                23    1    0    1    0  \n",
       "235                 7    1    0    1    0  \n",
       "265                -3    1    0    1    0  \n",
       "420                13    1    0    1    0  \n",
       "438                 3    1    0    1    0  \n",
       "...               ...  ...  ...  ...  ...  \n",
       "436455              0    1    0    1    0  \n",
       "436481             -1    1    0    1    0  \n",
       "437773              2    1    0    1    0  \n",
       "437972              7    1    0    1    0  \n",
       "437976              6    1    0    1    0  \n",
       "\n",
       "[880 rows x 7 columns]"
      ]
     },
     "execution_count": 21,
     "metadata": {},
     "output_type": "execute_result"
    }
   ],
   "source": [
    "seek(1,1,0,0)"
   ]
  },
  {
   "cell_type": "code",
   "execution_count": 22,
   "metadata": {
    "ExecuteTime": {
     "end_time": "2021-01-27T08:21:46.526537Z",
     "start_time": "2021-01-27T08:21:46.450766Z"
    },
    "run_control": {
     "marked": false
    }
   },
   "outputs": [],
   "source": [
    "#Dropping posts with no voting data \n",
    "full.drop(seek(0,0,0,0).index, inplace=True)"
   ]
  },
  {
   "cell_type": "code",
   "execution_count": 23,
   "metadata": {
    "ExecuteTime": {
     "end_time": "2021-01-27T08:21:46.531233Z",
     "start_time": "2021-01-27T08:21:46.529107Z"
    },
    "run_control": {
     "marked": false
    },
    "scrolled": true
   },
   "outputs": [
    {
     "data": {
      "text/plain": [
       "(192666, 7)"
      ]
     },
     "execution_count": 23,
     "metadata": {},
     "output_type": "execute_result"
    }
   ],
   "source": [
    "full.shape"
   ]
  },
  {
   "cell_type": "markdown",
   "metadata": {},
   "source": [
    "Creating a dataframe consisting of only 'YTA' and 'NTA' comments. "
   ]
  },
  {
   "cell_type": "code",
   "execution_count": 24,
   "metadata": {
    "ExecuteTime": {
     "end_time": "2021-01-27T08:21:46.542459Z",
     "start_time": "2021-01-27T08:21:46.532347Z"
    },
    "run_control": {
     "marked": false
    },
    "scrolled": true
   },
   "outputs": [
    {
     "data": {
      "text/html": [
       "<div>\n",
       "<style scoped>\n",
       "    .dataframe tbody tr th:only-of-type {\n",
       "        vertical-align: middle;\n",
       "    }\n",
       "\n",
       "    .dataframe tbody tr th {\n",
       "        vertical-align: top;\n",
       "    }\n",
       "\n",
       "    .dataframe thead th {\n",
       "        text-align: right;\n",
       "    }\n",
       "</style>\n",
       "<table border=\"1\" class=\"dataframe\">\n",
       "  <thead>\n",
       "    <tr style=\"text-align: right;\">\n",
       "      <th></th>\n",
       "      <th>post_id</th>\n",
       "      <th>comment_text</th>\n",
       "      <th>comment_score</th>\n",
       "      <th>yta</th>\n",
       "      <th>esh</th>\n",
       "      <th>nta</th>\n",
       "      <th>nah</th>\n",
       "    </tr>\n",
       "  </thead>\n",
       "  <tbody>\n",
       "    <tr>\n",
       "      <th>47</th>\n",
       "      <td>jbswil</td>\n",
       "      <td>Thanks for this. When I was getting gaslit I c...</td>\n",
       "      <td>2</td>\n",
       "      <td>1</td>\n",
       "      <td>0</td>\n",
       "      <td>0</td>\n",
       "      <td>0</td>\n",
       "    </tr>\n",
       "    <tr>\n",
       "      <th>127</th>\n",
       "      <td>k4owfz</td>\n",
       "      <td>does the 'no covid posts' rule extend to the c...</td>\n",
       "      <td>38</td>\n",
       "      <td>1</td>\n",
       "      <td>0</td>\n",
       "      <td>0</td>\n",
       "      <td>0</td>\n",
       "    </tr>\n",
       "    <tr>\n",
       "      <th>137</th>\n",
       "      <td>k4owfz</td>\n",
       "      <td>Where do mods draw the line as far as the \"acc...</td>\n",
       "      <td>15</td>\n",
       "      <td>1</td>\n",
       "      <td>0</td>\n",
       "      <td>0</td>\n",
       "      <td>0</td>\n",
       "    </tr>\n",
       "    <tr>\n",
       "      <th>138</th>\n",
       "      <td>k4owfz</td>\n",
       "      <td>Does anyone ever ask AITA for cutting off fami...</td>\n",
       "      <td>28</td>\n",
       "      <td>1</td>\n",
       "      <td>0</td>\n",
       "      <td>0</td>\n",
       "      <td>0</td>\n",
       "    </tr>\n",
       "    <tr>\n",
       "      <th>164</th>\n",
       "      <td>k4owfz</td>\n",
       "      <td>AITA has reduced to recycling the same comment...</td>\n",
       "      <td>32</td>\n",
       "      <td>1</td>\n",
       "      <td>0</td>\n",
       "      <td>0</td>\n",
       "      <td>0</td>\n",
       "    </tr>\n",
       "  </tbody>\n",
       "</table>\n",
       "</div>"
      ],
      "text/plain": [
       "    post_id                                       comment_text  comment_score  \\\n",
       "47   jbswil  Thanks for this. When I was getting gaslit I c...              2   \n",
       "127  k4owfz  does the 'no covid posts' rule extend to the c...             38   \n",
       "137  k4owfz  Where do mods draw the line as far as the \"acc...             15   \n",
       "138  k4owfz  Does anyone ever ask AITA for cutting off fami...             28   \n",
       "164  k4owfz  AITA has reduced to recycling the same comment...             32   \n",
       "\n",
       "     yta  esh  nta  nah  \n",
       "47     1    0    0    0  \n",
       "127    1    0    0    0  \n",
       "137    1    0    0    0  \n",
       "138    1    0    0    0  \n",
       "164    1    0    0    0  "
      ]
     },
     "execution_count": 24,
     "metadata": {},
     "output_type": "execute_result"
    }
   ],
   "source": [
    "c_yta = seek(1,0,0,0)\n",
    "c_yta.head()"
   ]
  },
  {
   "cell_type": "code",
   "execution_count": 25,
   "metadata": {
    "ExecuteTime": {
     "end_time": "2021-01-27T08:21:46.555380Z",
     "start_time": "2021-01-27T08:21:46.543568Z"
    },
    "run_control": {
     "marked": false
    },
    "scrolled": false
   },
   "outputs": [
    {
     "data": {
      "text/html": [
       "<div>\n",
       "<style scoped>\n",
       "    .dataframe tbody tr th:only-of-type {\n",
       "        vertical-align: middle;\n",
       "    }\n",
       "\n",
       "    .dataframe tbody tr th {\n",
       "        vertical-align: top;\n",
       "    }\n",
       "\n",
       "    .dataframe thead th {\n",
       "        text-align: right;\n",
       "    }\n",
       "</style>\n",
       "<table border=\"1\" class=\"dataframe\">\n",
       "  <thead>\n",
       "    <tr style=\"text-align: right;\">\n",
       "      <th></th>\n",
       "      <th>post_id</th>\n",
       "      <th>comment_text</th>\n",
       "      <th>comment_score</th>\n",
       "      <th>yta</th>\n",
       "      <th>esh</th>\n",
       "      <th>nta</th>\n",
       "      <th>nah</th>\n",
       "    </tr>\n",
       "  </thead>\n",
       "  <tbody>\n",
       "    <tr>\n",
       "      <th>4</th>\n",
       "      <td>jbswil</td>\n",
       "      <td>NTA \\n\\nThis is great. Almost like breaking th...</td>\n",
       "      <td>97</td>\n",
       "      <td>0</td>\n",
       "      <td>0</td>\n",
       "      <td>1</td>\n",
       "      <td>0</td>\n",
       "    </tr>\n",
       "    <tr>\n",
       "      <th>10</th>\n",
       "      <td>jbswil</td>\n",
       "      <td>NTA</td>\n",
       "      <td>32</td>\n",
       "      <td>0</td>\n",
       "      <td>0</td>\n",
       "      <td>1</td>\n",
       "      <td>0</td>\n",
       "    </tr>\n",
       "    <tr>\n",
       "      <th>74</th>\n",
       "      <td>jbswil</td>\n",
       "      <td>Lmaoo NTA</td>\n",
       "      <td>9</td>\n",
       "      <td>0</td>\n",
       "      <td>0</td>\n",
       "      <td>1</td>\n",
       "      <td>0</td>\n",
       "    </tr>\n",
       "    <tr>\n",
       "      <th>77</th>\n",
       "      <td>jbswil</td>\n",
       "      <td>It is indeed heartbreaking, but when they make...</td>\n",
       "      <td>4</td>\n",
       "      <td>0</td>\n",
       "      <td>0</td>\n",
       "      <td>1</td>\n",
       "      <td>0</td>\n",
       "    </tr>\n",
       "    <tr>\n",
       "      <th>121</th>\n",
       "      <td>k4owfz</td>\n",
       "      <td>i feel like people on here are not contextuali...</td>\n",
       "      <td>41</td>\n",
       "      <td>0</td>\n",
       "      <td>0</td>\n",
       "      <td>1</td>\n",
       "      <td>0</td>\n",
       "    </tr>\n",
       "  </tbody>\n",
       "</table>\n",
       "</div>"
      ],
      "text/plain": [
       "    post_id                                       comment_text  comment_score  \\\n",
       "4    jbswil  NTA \\n\\nThis is great. Almost like breaking th...             97   \n",
       "10   jbswil                                                NTA             32   \n",
       "74   jbswil                                          Lmaoo NTA              9   \n",
       "77   jbswil  It is indeed heartbreaking, but when they make...              4   \n",
       "121  k4owfz  i feel like people on here are not contextuali...             41   \n",
       "\n",
       "     yta  esh  nta  nah  \n",
       "4      0    0    1    0  \n",
       "10     0    0    1    0  \n",
       "74     0    0    1    0  \n",
       "77     0    0    1    0  \n",
       "121    0    0    1    0  "
      ]
     },
     "execution_count": 25,
     "metadata": {},
     "output_type": "execute_result"
    }
   ],
   "source": [
    "c_nta = seek(0,1,0,0)\n",
    "c_nta.head()"
   ]
  },
  {
   "cell_type": "code",
   "execution_count": 26,
   "metadata": {
    "ExecuteTime": {
     "end_time": "2021-01-27T08:21:46.560350Z",
     "start_time": "2021-01-27T08:21:46.556498Z"
    },
    "run_control": {
     "marked": false
    }
   },
   "outputs": [],
   "source": [
    "test = (seek(1,1,0,0)).copy(deep=True)"
   ]
  },
  {
   "cell_type": "code",
   "execution_count": 27,
   "metadata": {
    "ExecuteTime": {
     "end_time": "2021-01-27T08:21:46.569956Z",
     "start_time": "2021-01-27T08:21:46.561312Z"
    },
    "run_control": {
     "marked": false
    }
   },
   "outputs": [
    {
     "data": {
      "text/html": [
       "<div>\n",
       "<style scoped>\n",
       "    .dataframe tbody tr th:only-of-type {\n",
       "        vertical-align: middle;\n",
       "    }\n",
       "\n",
       "    .dataframe tbody tr th {\n",
       "        vertical-align: top;\n",
       "    }\n",
       "\n",
       "    .dataframe thead th {\n",
       "        text-align: right;\n",
       "    }\n",
       "</style>\n",
       "<table border=\"1\" class=\"dataframe\">\n",
       "  <thead>\n",
       "    <tr style=\"text-align: right;\">\n",
       "      <th></th>\n",
       "      <th>post_id</th>\n",
       "      <th>comment_text</th>\n",
       "      <th>comment_score</th>\n",
       "      <th>yta</th>\n",
       "      <th>esh</th>\n",
       "      <th>nta</th>\n",
       "      <th>nah</th>\n",
       "    </tr>\n",
       "  </thead>\n",
       "  <tbody>\n",
       "    <tr>\n",
       "      <th>198</th>\n",
       "      <td>k4owfz</td>\n",
       "      <td>Is it possible for mods to pin some ‘YTA’ thre...</td>\n",
       "      <td>23</td>\n",
       "      <td>1</td>\n",
       "      <td>0</td>\n",
       "      <td>1</td>\n",
       "      <td>0</td>\n",
       "    </tr>\n",
       "    <tr>\n",
       "      <th>235</th>\n",
       "      <td>k4owfz</td>\n",
       "      <td>Is there anything which could be done about th...</td>\n",
       "      <td>7</td>\n",
       "      <td>1</td>\n",
       "      <td>0</td>\n",
       "      <td>1</td>\n",
       "      <td>0</td>\n",
       "    </tr>\n",
       "    <tr>\n",
       "      <th>265</th>\n",
       "      <td>k4owfz</td>\n",
       "      <td>This sub has a really huge double standards pr...</td>\n",
       "      <td>-3</td>\n",
       "      <td>1</td>\n",
       "      <td>0</td>\n",
       "      <td>1</td>\n",
       "      <td>0</td>\n",
       "    </tr>\n",
       "    <tr>\n",
       "      <th>420</th>\n",
       "      <td>k4owfz</td>\n",
       "      <td>Or... You can pass your judgement, upvote the ...</td>\n",
       "      <td>13</td>\n",
       "      <td>1</td>\n",
       "      <td>0</td>\n",
       "      <td>1</td>\n",
       "      <td>0</td>\n",
       "    </tr>\n",
       "    <tr>\n",
       "      <th>438</th>\n",
       "      <td>k4owfz</td>\n",
       "      <td>I do upvote any YTA post and don’t upvote any ...</td>\n",
       "      <td>3</td>\n",
       "      <td>1</td>\n",
       "      <td>0</td>\n",
       "      <td>1</td>\n",
       "      <td>0</td>\n",
       "    </tr>\n",
       "    <tr>\n",
       "      <th>...</th>\n",
       "      <td>...</td>\n",
       "      <td>...</td>\n",
       "      <td>...</td>\n",
       "      <td>...</td>\n",
       "      <td>...</td>\n",
       "      <td>...</td>\n",
       "      <td>...</td>\n",
       "    </tr>\n",
       "    <tr>\n",
       "      <th>436455</th>\n",
       "      <td>l1h6oh</td>\n",
       "      <td>NTA for giving Alice 6p days to move out and e...</td>\n",
       "      <td>0</td>\n",
       "      <td>1</td>\n",
       "      <td>0</td>\n",
       "      <td>1</td>\n",
       "      <td>0</td>\n",
       "    </tr>\n",
       "    <tr>\n",
       "      <th>436481</th>\n",
       "      <td>l1h6oh</td>\n",
       "      <td>You're both. \\nNTA when it comes to Alice but ...</td>\n",
       "      <td>-1</td>\n",
       "      <td>1</td>\n",
       "      <td>0</td>\n",
       "      <td>1</td>\n",
       "      <td>0</td>\n",
       "    </tr>\n",
       "    <tr>\n",
       "      <th>437773</th>\n",
       "      <td>l2hnwv</td>\n",
       "      <td>It depends on the tone you used when you told ...</td>\n",
       "      <td>2</td>\n",
       "      <td>1</td>\n",
       "      <td>0</td>\n",
       "      <td>1</td>\n",
       "      <td>0</td>\n",
       "    </tr>\n",
       "    <tr>\n",
       "      <th>437972</th>\n",
       "      <td>l2744i</td>\n",
       "      <td>A lot of people responding seem to be on the s...</td>\n",
       "      <td>7</td>\n",
       "      <td>1</td>\n",
       "      <td>0</td>\n",
       "      <td>1</td>\n",
       "      <td>0</td>\n",
       "    </tr>\n",
       "    <tr>\n",
       "      <th>437976</th>\n",
       "      <td>l2744i</td>\n",
       "      <td>NTA b/c it wasnt on purpose. I'd probably expl...</td>\n",
       "      <td>6</td>\n",
       "      <td>1</td>\n",
       "      <td>0</td>\n",
       "      <td>1</td>\n",
       "      <td>0</td>\n",
       "    </tr>\n",
       "  </tbody>\n",
       "</table>\n",
       "<p>880 rows × 7 columns</p>\n",
       "</div>"
      ],
      "text/plain": [
       "       post_id                                       comment_text  \\\n",
       "198     k4owfz  Is it possible for mods to pin some ‘YTA’ thre...   \n",
       "235     k4owfz  Is there anything which could be done about th...   \n",
       "265     k4owfz  This sub has a really huge double standards pr...   \n",
       "420     k4owfz  Or... You can pass your judgement, upvote the ...   \n",
       "438     k4owfz  I do upvote any YTA post and don’t upvote any ...   \n",
       "...        ...                                                ...   \n",
       "436455  l1h6oh  NTA for giving Alice 6p days to move out and e...   \n",
       "436481  l1h6oh  You're both. \\nNTA when it comes to Alice but ...   \n",
       "437773  l2hnwv  It depends on the tone you used when you told ...   \n",
       "437972  l2744i  A lot of people responding seem to be on the s...   \n",
       "437976  l2744i  NTA b/c it wasnt on purpose. I'd probably expl...   \n",
       "\n",
       "        comment_score  yta  esh  nta  nah  \n",
       "198                23    1    0    1    0  \n",
       "235                 7    1    0    1    0  \n",
       "265                -3    1    0    1    0  \n",
       "420                13    1    0    1    0  \n",
       "438                 3    1    0    1    0  \n",
       "...               ...  ...  ...  ...  ...  \n",
       "436455              0    1    0    1    0  \n",
       "436481             -1    1    0    1    0  \n",
       "437773              2    1    0    1    0  \n",
       "437972              7    1    0    1    0  \n",
       "437976              6    1    0    1    0  \n",
       "\n",
       "[880 rows x 7 columns]"
      ]
     },
     "execution_count": 27,
     "metadata": {},
     "output_type": "execute_result"
    }
   ],
   "source": [
    "test"
   ]
  },
  {
   "cell_type": "code",
   "execution_count": 28,
   "metadata": {
    "ExecuteTime": {
     "end_time": "2021-01-27T08:21:46.581982Z",
     "start_time": "2021-01-27T08:21:46.571186Z"
    },
    "run_control": {
     "marked": false
    },
    "scrolled": false
   },
   "outputs": [
    {
     "data": {
      "text/html": [
       "<div>\n",
       "<style scoped>\n",
       "    .dataframe tbody tr th:only-of-type {\n",
       "        vertical-align: middle;\n",
       "    }\n",
       "\n",
       "    .dataframe tbody tr th {\n",
       "        vertical-align: top;\n",
       "    }\n",
       "\n",
       "    .dataframe thead th {\n",
       "        text-align: right;\n",
       "    }\n",
       "</style>\n",
       "<table border=\"1\" class=\"dataframe\">\n",
       "  <thead>\n",
       "    <tr style=\"text-align: right;\">\n",
       "      <th></th>\n",
       "      <th>post_id</th>\n",
       "      <th>comment_text</th>\n",
       "      <th>comment_score</th>\n",
       "      <th>yta</th>\n",
       "      <th>esh</th>\n",
       "      <th>nta</th>\n",
       "      <th>nah</th>\n",
       "    </tr>\n",
       "  </thead>\n",
       "  <tbody>\n",
       "    <tr>\n",
       "      <th>0</th>\n",
       "      <td>jbswil</td>\n",
       "      <td>Thanks for this. When I was getting gaslit I c...</td>\n",
       "      <td>2</td>\n",
       "      <td>1</td>\n",
       "      <td>0</td>\n",
       "      <td>0</td>\n",
       "      <td>0</td>\n",
       "    </tr>\n",
       "    <tr>\n",
       "      <th>1</th>\n",
       "      <td>k4owfz</td>\n",
       "      <td>does the 'no covid posts' rule extend to the c...</td>\n",
       "      <td>38</td>\n",
       "      <td>1</td>\n",
       "      <td>0</td>\n",
       "      <td>0</td>\n",
       "      <td>0</td>\n",
       "    </tr>\n",
       "    <tr>\n",
       "      <th>2</th>\n",
       "      <td>k4owfz</td>\n",
       "      <td>Where do mods draw the line as far as the \"acc...</td>\n",
       "      <td>15</td>\n",
       "      <td>1</td>\n",
       "      <td>0</td>\n",
       "      <td>0</td>\n",
       "      <td>0</td>\n",
       "    </tr>\n",
       "    <tr>\n",
       "      <th>3</th>\n",
       "      <td>k4owfz</td>\n",
       "      <td>Does anyone ever ask AITA for cutting off fami...</td>\n",
       "      <td>28</td>\n",
       "      <td>1</td>\n",
       "      <td>0</td>\n",
       "      <td>0</td>\n",
       "      <td>0</td>\n",
       "    </tr>\n",
       "    <tr>\n",
       "      <th>4</th>\n",
       "      <td>k4owfz</td>\n",
       "      <td>AITA has reduced to recycling the same comment...</td>\n",
       "      <td>32</td>\n",
       "      <td>1</td>\n",
       "      <td>0</td>\n",
       "      <td>0</td>\n",
       "      <td>0</td>\n",
       "    </tr>\n",
       "  </tbody>\n",
       "</table>\n",
       "</div>"
      ],
      "text/plain": [
       "  post_id                                       comment_text  comment_score  \\\n",
       "0  jbswil  Thanks for this. When I was getting gaslit I c...              2   \n",
       "1  k4owfz  does the 'no covid posts' rule extend to the c...             38   \n",
       "2  k4owfz  Where do mods draw the line as far as the \"acc...             15   \n",
       "3  k4owfz  Does anyone ever ask AITA for cutting off fami...             28   \n",
       "4  k4owfz  AITA has reduced to recycling the same comment...             32   \n",
       "\n",
       "   yta  esh  nta  nah  \n",
       "0    1    0    0    0  \n",
       "1    1    0    0    0  \n",
       "2    1    0    0    0  \n",
       "3    1    0    0    0  \n",
       "4    1    0    0    0  "
      ]
     },
     "execution_count": 28,
     "metadata": {},
     "output_type": "execute_result"
    }
   ],
   "source": [
    "final = pd.concat([c_yta, c_nta], axis=0, ignore_index=True)\n",
    "final.head()"
   ]
  },
  {
   "cell_type": "code",
   "execution_count": 29,
   "metadata": {
    "ExecuteTime": {
     "end_time": "2021-01-27T08:21:46.585414Z",
     "start_time": "2021-01-27T08:21:46.583038Z"
    },
    "run_control": {
     "marked": false
    }
   },
   "outputs": [
    {
     "data": {
      "text/plain": [
       "(178015, 7)"
      ]
     },
     "execution_count": 29,
     "metadata": {},
     "output_type": "execute_result"
    }
   ],
   "source": [
    "final.shape"
   ]
  },
  {
   "cell_type": "markdown",
   "metadata": {},
   "source": [
    "Because the project is aiming solely for "
   ]
  },
  {
   "cell_type": "code",
   "execution_count": 32,
   "metadata": {
    "ExecuteTime": {
     "end_time": "2021-01-27T08:21:46.606137Z",
     "start_time": "2021-01-27T08:21:46.599253Z"
    },
    "run_control": {
     "marked": false
    }
   },
   "outputs": [],
   "source": [
    "final.drop(columns= ['esh','nah'], inplace=True)"
   ]
  },
  {
   "cell_type": "code",
   "execution_count": 33,
   "metadata": {
    "ExecuteTime": {
     "end_time": "2021-01-27T08:21:46.609621Z",
     "start_time": "2021-01-27T08:21:46.607265Z"
    }
   },
   "outputs": [],
   "source": [
    "test.drop(columns= ['esh','nah'], inplace=True)"
   ]
  },
  {
   "cell_type": "code",
   "execution_count": 34,
   "metadata": {
    "ExecuteTime": {
     "end_time": "2021-01-27T08:21:46.615609Z",
     "start_time": "2021-01-27T08:21:46.610672Z"
    },
    "run_control": {
     "marked": false
    },
    "scrolled": false
   },
   "outputs": [
    {
     "data": {
      "text/html": [
       "<div>\n",
       "<style scoped>\n",
       "    .dataframe tbody tr th:only-of-type {\n",
       "        vertical-align: middle;\n",
       "    }\n",
       "\n",
       "    .dataframe tbody tr th {\n",
       "        vertical-align: top;\n",
       "    }\n",
       "\n",
       "    .dataframe thead th {\n",
       "        text-align: right;\n",
       "    }\n",
       "</style>\n",
       "<table border=\"1\" class=\"dataframe\">\n",
       "  <thead>\n",
       "    <tr style=\"text-align: right;\">\n",
       "      <th></th>\n",
       "      <th>post_id</th>\n",
       "      <th>comment_text</th>\n",
       "      <th>comment_score</th>\n",
       "      <th>yta</th>\n",
       "      <th>nta</th>\n",
       "    </tr>\n",
       "  </thead>\n",
       "  <tbody>\n",
       "    <tr>\n",
       "      <th>0</th>\n",
       "      <td>jbswil</td>\n",
       "      <td>Thanks for this. When I was getting gaslit I c...</td>\n",
       "      <td>2</td>\n",
       "      <td>1</td>\n",
       "      <td>0</td>\n",
       "    </tr>\n",
       "    <tr>\n",
       "      <th>1</th>\n",
       "      <td>k4owfz</td>\n",
       "      <td>does the 'no covid posts' rule extend to the c...</td>\n",
       "      <td>38</td>\n",
       "      <td>1</td>\n",
       "      <td>0</td>\n",
       "    </tr>\n",
       "    <tr>\n",
       "      <th>2</th>\n",
       "      <td>k4owfz</td>\n",
       "      <td>Where do mods draw the line as far as the \"acc...</td>\n",
       "      <td>15</td>\n",
       "      <td>1</td>\n",
       "      <td>0</td>\n",
       "    </tr>\n",
       "    <tr>\n",
       "      <th>3</th>\n",
       "      <td>k4owfz</td>\n",
       "      <td>Does anyone ever ask AITA for cutting off fami...</td>\n",
       "      <td>28</td>\n",
       "      <td>1</td>\n",
       "      <td>0</td>\n",
       "    </tr>\n",
       "    <tr>\n",
       "      <th>4</th>\n",
       "      <td>k4owfz</td>\n",
       "      <td>AITA has reduced to recycling the same comment...</td>\n",
       "      <td>32</td>\n",
       "      <td>1</td>\n",
       "      <td>0</td>\n",
       "    </tr>\n",
       "  </tbody>\n",
       "</table>\n",
       "</div>"
      ],
      "text/plain": [
       "  post_id                                       comment_text  comment_score  \\\n",
       "0  jbswil  Thanks for this. When I was getting gaslit I c...              2   \n",
       "1  k4owfz  does the 'no covid posts' rule extend to the c...             38   \n",
       "2  k4owfz  Where do mods draw the line as far as the \"acc...             15   \n",
       "3  k4owfz  Does anyone ever ask AITA for cutting off fami...             28   \n",
       "4  k4owfz  AITA has reduced to recycling the same comment...             32   \n",
       "\n",
       "   yta  nta  \n",
       "0    1    0  \n",
       "1    1    0  \n",
       "2    1    0  \n",
       "3    1    0  \n",
       "4    1    0  "
      ]
     },
     "execution_count": 34,
     "metadata": {},
     "output_type": "execute_result"
    }
   ],
   "source": [
    "final.head()"
   ]
  },
  {
   "cell_type": "code",
   "execution_count": 35,
   "metadata": {
    "ExecuteTime": {
     "end_time": "2021-01-27T08:21:46.621600Z",
     "start_time": "2021-01-27T08:21:46.616570Z"
    },
    "scrolled": true
   },
   "outputs": [
    {
     "data": {
      "text/html": [
       "<div>\n",
       "<style scoped>\n",
       "    .dataframe tbody tr th:only-of-type {\n",
       "        vertical-align: middle;\n",
       "    }\n",
       "\n",
       "    .dataframe tbody tr th {\n",
       "        vertical-align: top;\n",
       "    }\n",
       "\n",
       "    .dataframe thead th {\n",
       "        text-align: right;\n",
       "    }\n",
       "</style>\n",
       "<table border=\"1\" class=\"dataframe\">\n",
       "  <thead>\n",
       "    <tr style=\"text-align: right;\">\n",
       "      <th></th>\n",
       "      <th>post_id</th>\n",
       "      <th>comment_text</th>\n",
       "      <th>comment_score</th>\n",
       "      <th>yta</th>\n",
       "      <th>nta</th>\n",
       "    </tr>\n",
       "  </thead>\n",
       "  <tbody>\n",
       "    <tr>\n",
       "      <th>198</th>\n",
       "      <td>k4owfz</td>\n",
       "      <td>Is it possible for mods to pin some ‘YTA’ thre...</td>\n",
       "      <td>23</td>\n",
       "      <td>1</td>\n",
       "      <td>1</td>\n",
       "    </tr>\n",
       "    <tr>\n",
       "      <th>235</th>\n",
       "      <td>k4owfz</td>\n",
       "      <td>Is there anything which could be done about th...</td>\n",
       "      <td>7</td>\n",
       "      <td>1</td>\n",
       "      <td>1</td>\n",
       "    </tr>\n",
       "    <tr>\n",
       "      <th>265</th>\n",
       "      <td>k4owfz</td>\n",
       "      <td>This sub has a really huge double standards pr...</td>\n",
       "      <td>-3</td>\n",
       "      <td>1</td>\n",
       "      <td>1</td>\n",
       "    </tr>\n",
       "    <tr>\n",
       "      <th>420</th>\n",
       "      <td>k4owfz</td>\n",
       "      <td>Or... You can pass your judgement, upvote the ...</td>\n",
       "      <td>13</td>\n",
       "      <td>1</td>\n",
       "      <td>1</td>\n",
       "    </tr>\n",
       "    <tr>\n",
       "      <th>438</th>\n",
       "      <td>k4owfz</td>\n",
       "      <td>I do upvote any YTA post and don’t upvote any ...</td>\n",
       "      <td>3</td>\n",
       "      <td>1</td>\n",
       "      <td>1</td>\n",
       "    </tr>\n",
       "  </tbody>\n",
       "</table>\n",
       "</div>"
      ],
      "text/plain": [
       "    post_id                                       comment_text  comment_score  \\\n",
       "198  k4owfz  Is it possible for mods to pin some ‘YTA’ thre...             23   \n",
       "235  k4owfz  Is there anything which could be done about th...              7   \n",
       "265  k4owfz  This sub has a really huge double standards pr...             -3   \n",
       "420  k4owfz  Or... You can pass your judgement, upvote the ...             13   \n",
       "438  k4owfz  I do upvote any YTA post and don’t upvote any ...              3   \n",
       "\n",
       "     yta  nta  \n",
       "198    1    1  \n",
       "235    1    1  \n",
       "265    1    1  \n",
       "420    1    1  \n",
       "438    1    1  "
      ]
     },
     "execution_count": 35,
     "metadata": {},
     "output_type": "execute_result"
    }
   ],
   "source": [
    "test.head()"
   ]
  },
  {
   "cell_type": "markdown",
   "metadata": {},
   "source": [
    "# Text Cleaning"
   ]
  },
  {
   "cell_type": "markdown",
   "metadata": {},
   "source": [
    "In this section, I create 4 different sets of data.\n",
    "1. cleaned_text: Stripped and cleaned text with only stopwords filtered\n",
    "2. nltk_lem: Using the default wordnet lemmatizer\n",
    "3. nltk_pos: Using nltk with parts of speech tagger to help filter the lemmatization\n",
    "4. Spacy_lem: Using spacy lemmatizer "
   ]
  },
  {
   "cell_type": "code",
   "execution_count": 46,
   "metadata": {
    "ExecuteTime": {
     "end_time": "2021-01-27T16:46:36.376406Z",
     "start_time": "2021-01-27T16:46:36.369423Z"
    },
    "run_control": {
     "marked": false
    }
   },
   "outputs": [],
   "source": [
    "# Creating stopwords\n",
    "stop_words = set(stopwords.words('english'))  \n",
    "special_stops = {'yta', 'nta', 'esh', 'nah', 'wibta', 'aita', 'YTA', 'NTA', 'ESH', 'NAH'}\n",
    "stop_words = stop_words.union(special_stops)"
   ]
  },
  {
   "cell_type": "code",
   "execution_count": 37,
   "metadata": {
    "ExecuteTime": {
     "end_time": "2021-01-27T08:21:46.631703Z",
     "start_time": "2021-01-27T08:21:46.629485Z"
    },
    "run_control": {
     "marked": false
    }
   },
   "outputs": [],
   "source": [
    "def clean_coded_words(text):\n",
    "    # 1. Remove non-letters.\n",
    "    letters_only = re.sub(\"[^a-zA-Z]\", \" \", text)\n",
    "    # 2. Convert to lower case, split into individual words.\n",
    "    words = letters_only.lower().split()  \n",
    "    # 3. Remove stopwords.\n",
    "    meaningful_words = [w for w in words if not w in stop_words]\n",
    "    # 4. Join the words back into one string separated by space\n",
    "    return(\" \".join(meaningful_words))"
   ]
  },
  {
   "cell_type": "code",
   "execution_count": 38,
   "metadata": {
    "ExecuteTime": {
     "end_time": "2021-01-27T08:21:52.871693Z",
     "start_time": "2021-01-27T08:21:46.632704Z"
    },
    "run_control": {
     "marked": false
    },
    "scrolled": true
   },
   "outputs": [
    {
     "data": {
      "text/html": [
       "<div>\n",
       "<style scoped>\n",
       "    .dataframe tbody tr th:only-of-type {\n",
       "        vertical-align: middle;\n",
       "    }\n",
       "\n",
       "    .dataframe tbody tr th {\n",
       "        vertical-align: top;\n",
       "    }\n",
       "\n",
       "    .dataframe thead th {\n",
       "        text-align: right;\n",
       "    }\n",
       "</style>\n",
       "<table border=\"1\" class=\"dataframe\">\n",
       "  <thead>\n",
       "    <tr style=\"text-align: right;\">\n",
       "      <th></th>\n",
       "      <th>post_id</th>\n",
       "      <th>comment_text</th>\n",
       "      <th>comment_score</th>\n",
       "      <th>yta</th>\n",
       "      <th>nta</th>\n",
       "      <th>cleaned_text</th>\n",
       "    </tr>\n",
       "  </thead>\n",
       "  <tbody>\n",
       "    <tr>\n",
       "      <th>0</th>\n",
       "      <td>jbswil</td>\n",
       "      <td>Thanks for this. When I was getting gaslit I c...</td>\n",
       "      <td>2</td>\n",
       "      <td>1</td>\n",
       "      <td>0</td>\n",
       "      <td>thanks getting gaslit came couple times got lo...</td>\n",
       "    </tr>\n",
       "    <tr>\n",
       "      <th>1</th>\n",
       "      <td>k4owfz</td>\n",
       "      <td>does the 'no covid posts' rule extend to the c...</td>\n",
       "      <td>38</td>\n",
       "      <td>1</td>\n",
       "      <td>0</td>\n",
       "      <td>covid posts rule extend comments seen posts to...</td>\n",
       "    </tr>\n",
       "    <tr>\n",
       "      <th>2</th>\n",
       "      <td>k4owfz</td>\n",
       "      <td>Where do mods draw the line as far as the \"acc...</td>\n",
       "      <td>15</td>\n",
       "      <td>1</td>\n",
       "      <td>0</td>\n",
       "      <td>mods draw line far accept judgment rule get tr...</td>\n",
       "    </tr>\n",
       "    <tr>\n",
       "      <th>3</th>\n",
       "      <td>k4owfz</td>\n",
       "      <td>Does anyone ever ask AITA for cutting off fami...</td>\n",
       "      <td>28</td>\n",
       "      <td>1</td>\n",
       "      <td>0</td>\n",
       "      <td>anyone ever ask cutting family results verdict...</td>\n",
       "    </tr>\n",
       "    <tr>\n",
       "      <th>4</th>\n",
       "      <td>k4owfz</td>\n",
       "      <td>AITA has reduced to recycling the same comment...</td>\n",
       "      <td>32</td>\n",
       "      <td>1</td>\n",
       "      <td>0</td>\n",
       "      <td>reduced recycling comments get upvotes well wr...</td>\n",
       "    </tr>\n",
       "  </tbody>\n",
       "</table>\n",
       "</div>"
      ],
      "text/plain": [
       "  post_id                                       comment_text  comment_score  \\\n",
       "0  jbswil  Thanks for this. When I was getting gaslit I c...              2   \n",
       "1  k4owfz  does the 'no covid posts' rule extend to the c...             38   \n",
       "2  k4owfz  Where do mods draw the line as far as the \"acc...             15   \n",
       "3  k4owfz  Does anyone ever ask AITA for cutting off fami...             28   \n",
       "4  k4owfz  AITA has reduced to recycling the same comment...             32   \n",
       "\n",
       "   yta  nta                                       cleaned_text  \n",
       "0    1    0  thanks getting gaslit came couple times got lo...  \n",
       "1    1    0  covid posts rule extend comments seen posts to...  \n",
       "2    1    0  mods draw line far accept judgment rule get tr...  \n",
       "3    1    0  anyone ever ask cutting family results verdict...  \n",
       "4    1    0  reduced recycling comments get upvotes well wr...  "
      ]
     },
     "execution_count": 38,
     "metadata": {},
     "output_type": "execute_result"
    }
   ],
   "source": [
    "#Simple stripping\n",
    "final['cleaned_text'] = final['comment_text'].apply(clean_coded_words)\n",
    "final.head()"
   ]
  },
  {
   "cell_type": "code",
   "execution_count": 39,
   "metadata": {
    "ExecuteTime": {
     "end_time": "2021-01-27T08:21:52.928438Z",
     "start_time": "2021-01-27T08:21:52.872687Z"
    },
    "code_folding": [],
    "run_control": {
     "marked": false
    }
   },
   "outputs": [
    {
     "data": {
      "text/html": [
       "<div>\n",
       "<style scoped>\n",
       "    .dataframe tbody tr th:only-of-type {\n",
       "        vertical-align: middle;\n",
       "    }\n",
       "\n",
       "    .dataframe tbody tr th {\n",
       "        vertical-align: top;\n",
       "    }\n",
       "\n",
       "    .dataframe thead th {\n",
       "        text-align: right;\n",
       "    }\n",
       "</style>\n",
       "<table border=\"1\" class=\"dataframe\">\n",
       "  <thead>\n",
       "    <tr style=\"text-align: right;\">\n",
       "      <th></th>\n",
       "      <th>post_id</th>\n",
       "      <th>comment_text</th>\n",
       "      <th>comment_score</th>\n",
       "      <th>yta</th>\n",
       "      <th>nta</th>\n",
       "      <th>cleaned_text</th>\n",
       "    </tr>\n",
       "  </thead>\n",
       "  <tbody>\n",
       "    <tr>\n",
       "      <th>198</th>\n",
       "      <td>k4owfz</td>\n",
       "      <td>Is it possible for mods to pin some ‘YTA’ thre...</td>\n",
       "      <td>23</td>\n",
       "      <td>1</td>\n",
       "      <td>1</td>\n",
       "      <td>possible mods pin threads front page pretty pl...</td>\n",
       "    </tr>\n",
       "    <tr>\n",
       "      <th>235</th>\n",
       "      <td>k4owfz</td>\n",
       "      <td>Is there anything which could be done about th...</td>\n",
       "      <td>7</td>\n",
       "      <td>1</td>\n",
       "      <td>1</td>\n",
       "      <td>anything could done section posts op get massi...</td>\n",
       "    </tr>\n",
       "    <tr>\n",
       "      <th>265</th>\n",
       "      <td>k4owfz</td>\n",
       "      <td>This sub has a really huge double standards pr...</td>\n",
       "      <td>-3</td>\n",
       "      <td>1</td>\n",
       "      <td>1</td>\n",
       "      <td>sub really huge double standards problem read ...</td>\n",
       "    </tr>\n",
       "    <tr>\n",
       "      <th>420</th>\n",
       "      <td>k4owfz</td>\n",
       "      <td>Or... You can pass your judgement, upvote the ...</td>\n",
       "      <td>13</td>\n",
       "      <td>1</td>\n",
       "      <td>1</td>\n",
       "      <td>pass judgement upvote judgements agree let chi...</td>\n",
       "    </tr>\n",
       "    <tr>\n",
       "      <th>438</th>\n",
       "      <td>k4owfz</td>\n",
       "      <td>I do upvote any YTA post and don’t upvote any ...</td>\n",
       "      <td>3</td>\n",
       "      <td>1</td>\n",
       "      <td>1</td>\n",
       "      <td>upvote post upvote posts regardless want ratio...</td>\n",
       "    </tr>\n",
       "  </tbody>\n",
       "</table>\n",
       "</div>"
      ],
      "text/plain": [
       "    post_id                                       comment_text  comment_score  \\\n",
       "198  k4owfz  Is it possible for mods to pin some ‘YTA’ thre...             23   \n",
       "235  k4owfz  Is there anything which could be done about th...              7   \n",
       "265  k4owfz  This sub has a really huge double standards pr...             -3   \n",
       "420  k4owfz  Or... You can pass your judgement, upvote the ...             13   \n",
       "438  k4owfz  I do upvote any YTA post and don’t upvote any ...              3   \n",
       "\n",
       "     yta  nta                                       cleaned_text  \n",
       "198    1    1  possible mods pin threads front page pretty pl...  \n",
       "235    1    1  anything could done section posts op get massi...  \n",
       "265    1    1  sub really huge double standards problem read ...  \n",
       "420    1    1  pass judgement upvote judgements agree let chi...  \n",
       "438    1    1  upvote post upvote posts regardless want ratio...  "
      ]
     },
     "execution_count": 39,
     "metadata": {},
     "output_type": "execute_result"
    }
   ],
   "source": [
    "#Simple stripping\n",
    "test['cleaned_text'] = test['comment_text'].apply(clean_coded_words)\n",
    "test.head()"
   ]
  },
  {
   "cell_type": "markdown",
   "metadata": {},
   "source": [
    "# NLTK Lemmatizer"
   ]
  },
  {
   "cell_type": "code",
   "execution_count": 40,
   "metadata": {
    "ExecuteTime": {
     "end_time": "2021-01-27T08:21:52.932334Z",
     "start_time": "2021-01-27T08:21:52.929488Z"
    },
    "code_folding": [],
    "run_control": {
     "marked": false
    }
   },
   "outputs": [],
   "source": [
    "#Assigning stopwords\n",
    "exclude = set(string.punctuation)\n",
    "lemma = WordNetLemmatizer()\n",
    "\n",
    "def nltk_clean(document):\n",
    "    letters_only = re.sub(\"[^a-zA-Z]\", \" \", document)\n",
    "    stop = \" \".join([i for i in letters_only.lower().split() if i not in stop_words])\n",
    "    remove_punctuation = ''.join(ch for ch in stop if ch not in exclude)\n",
    "    normalized = \" \".join(lemma.lemmatize(word) for word in remove_punctuation.split())\n",
    "    return normalized"
   ]
  },
  {
   "cell_type": "code",
   "execution_count": 41,
   "metadata": {
    "ExecuteTime": {
     "end_time": "2021-01-27T08:22:14.418059Z",
     "start_time": "2021-01-27T08:21:52.933385Z"
    },
    "run_control": {
     "marked": false
    },
    "scrolled": true
   },
   "outputs": [
    {
     "data": {
      "text/html": [
       "<div>\n",
       "<style scoped>\n",
       "    .dataframe tbody tr th:only-of-type {\n",
       "        vertical-align: middle;\n",
       "    }\n",
       "\n",
       "    .dataframe tbody tr th {\n",
       "        vertical-align: top;\n",
       "    }\n",
       "\n",
       "    .dataframe thead th {\n",
       "        text-align: right;\n",
       "    }\n",
       "</style>\n",
       "<table border=\"1\" class=\"dataframe\">\n",
       "  <thead>\n",
       "    <tr style=\"text-align: right;\">\n",
       "      <th></th>\n",
       "      <th>post_id</th>\n",
       "      <th>comment_text</th>\n",
       "      <th>comment_score</th>\n",
       "      <th>yta</th>\n",
       "      <th>nta</th>\n",
       "      <th>cleaned_text</th>\n",
       "      <th>nltk_lem</th>\n",
       "    </tr>\n",
       "  </thead>\n",
       "  <tbody>\n",
       "    <tr>\n",
       "      <th>0</th>\n",
       "      <td>jbswil</td>\n",
       "      <td>Thanks for this. When I was getting gaslit I c...</td>\n",
       "      <td>2</td>\n",
       "      <td>1</td>\n",
       "      <td>0</td>\n",
       "      <td>thanks getting gaslit came couple times got lo...</td>\n",
       "      <td>thanks getting gaslit came couple time got lot...</td>\n",
       "    </tr>\n",
       "    <tr>\n",
       "      <th>1</th>\n",
       "      <td>k4owfz</td>\n",
       "      <td>does the 'no covid posts' rule extend to the c...</td>\n",
       "      <td>38</td>\n",
       "      <td>1</td>\n",
       "      <td>0</td>\n",
       "      <td>covid posts rule extend comments seen posts to...</td>\n",
       "      <td>covid post rule extend comment seen post top c...</td>\n",
       "    </tr>\n",
       "    <tr>\n",
       "      <th>2</th>\n",
       "      <td>k4owfz</td>\n",
       "      <td>Where do mods draw the line as far as the \"acc...</td>\n",
       "      <td>15</td>\n",
       "      <td>1</td>\n",
       "      <td>0</td>\n",
       "      <td>mods draw line far accept judgment rule get tr...</td>\n",
       "      <td>mod draw line far accept judgment rule get tri...</td>\n",
       "    </tr>\n",
       "    <tr>\n",
       "      <th>3</th>\n",
       "      <td>k4owfz</td>\n",
       "      <td>Does anyone ever ask AITA for cutting off fami...</td>\n",
       "      <td>28</td>\n",
       "      <td>1</td>\n",
       "      <td>0</td>\n",
       "      <td>anyone ever ask cutting family results verdict...</td>\n",
       "      <td>anyone ever ask cutting family result verdict ...</td>\n",
       "    </tr>\n",
       "    <tr>\n",
       "      <th>4</th>\n",
       "      <td>k4owfz</td>\n",
       "      <td>AITA has reduced to recycling the same comment...</td>\n",
       "      <td>32</td>\n",
       "      <td>1</td>\n",
       "      <td>0</td>\n",
       "      <td>reduced recycling comments get upvotes well wr...</td>\n",
       "      <td>reduced recycling comment get upvotes well wri...</td>\n",
       "    </tr>\n",
       "  </tbody>\n",
       "</table>\n",
       "</div>"
      ],
      "text/plain": [
       "  post_id                                       comment_text  comment_score  \\\n",
       "0  jbswil  Thanks for this. When I was getting gaslit I c...              2   \n",
       "1  k4owfz  does the 'no covid posts' rule extend to the c...             38   \n",
       "2  k4owfz  Where do mods draw the line as far as the \"acc...             15   \n",
       "3  k4owfz  Does anyone ever ask AITA for cutting off fami...             28   \n",
       "4  k4owfz  AITA has reduced to recycling the same comment...             32   \n",
       "\n",
       "   yta  nta                                       cleaned_text  \\\n",
       "0    1    0  thanks getting gaslit came couple times got lo...   \n",
       "1    1    0  covid posts rule extend comments seen posts to...   \n",
       "2    1    0  mods draw line far accept judgment rule get tr...   \n",
       "3    1    0  anyone ever ask cutting family results verdict...   \n",
       "4    1    0  reduced recycling comments get upvotes well wr...   \n",
       "\n",
       "                                            nltk_lem  \n",
       "0  thanks getting gaslit came couple time got lot...  \n",
       "1  covid post rule extend comment seen post top c...  \n",
       "2  mod draw line far accept judgment rule get tri...  \n",
       "3  anyone ever ask cutting family result verdict ...  \n",
       "4  reduced recycling comment get upvotes well wri...  "
      ]
     },
     "execution_count": 41,
     "metadata": {},
     "output_type": "execute_result"
    }
   ],
   "source": [
    "final['nltk_lem']=final['comment_text'].apply(lambda x:nltk_clean(x))\n",
    "final.head()"
   ]
  },
  {
   "cell_type": "code",
   "execution_count": 42,
   "metadata": {
    "ExecuteTime": {
     "end_time": "2021-01-27T08:22:14.593633Z",
     "start_time": "2021-01-27T08:22:14.419093Z"
    }
   },
   "outputs": [
    {
     "data": {
      "text/html": [
       "<div>\n",
       "<style scoped>\n",
       "    .dataframe tbody tr th:only-of-type {\n",
       "        vertical-align: middle;\n",
       "    }\n",
       "\n",
       "    .dataframe tbody tr th {\n",
       "        vertical-align: top;\n",
       "    }\n",
       "\n",
       "    .dataframe thead th {\n",
       "        text-align: right;\n",
       "    }\n",
       "</style>\n",
       "<table border=\"1\" class=\"dataframe\">\n",
       "  <thead>\n",
       "    <tr style=\"text-align: right;\">\n",
       "      <th></th>\n",
       "      <th>post_id</th>\n",
       "      <th>comment_text</th>\n",
       "      <th>comment_score</th>\n",
       "      <th>yta</th>\n",
       "      <th>nta</th>\n",
       "      <th>cleaned_text</th>\n",
       "      <th>nltk_lem</th>\n",
       "    </tr>\n",
       "  </thead>\n",
       "  <tbody>\n",
       "    <tr>\n",
       "      <th>198</th>\n",
       "      <td>k4owfz</td>\n",
       "      <td>Is it possible for mods to pin some ‘YTA’ thre...</td>\n",
       "      <td>23</td>\n",
       "      <td>1</td>\n",
       "      <td>1</td>\n",
       "      <td>possible mods pin threads front page pretty pl...</td>\n",
       "      <td>possible mod pin thread front page pretty plea...</td>\n",
       "    </tr>\n",
       "    <tr>\n",
       "      <th>235</th>\n",
       "      <td>k4owfz</td>\n",
       "      <td>Is there anything which could be done about th...</td>\n",
       "      <td>7</td>\n",
       "      <td>1</td>\n",
       "      <td>1</td>\n",
       "      <td>anything could done section posts op get massi...</td>\n",
       "      <td>anything could done section post op get massiv...</td>\n",
       "    </tr>\n",
       "    <tr>\n",
       "      <th>265</th>\n",
       "      <td>k4owfz</td>\n",
       "      <td>This sub has a really huge double standards pr...</td>\n",
       "      <td>-3</td>\n",
       "      <td>1</td>\n",
       "      <td>1</td>\n",
       "      <td>sub really huge double standards problem read ...</td>\n",
       "      <td>sub really huge double standard problem read p...</td>\n",
       "    </tr>\n",
       "    <tr>\n",
       "      <th>420</th>\n",
       "      <td>k4owfz</td>\n",
       "      <td>Or... You can pass your judgement, upvote the ...</td>\n",
       "      <td>13</td>\n",
       "      <td>1</td>\n",
       "      <td>1</td>\n",
       "      <td>pass judgement upvote judgements agree let chi...</td>\n",
       "      <td>pas judgement upvote judgement agree let chip ...</td>\n",
       "    </tr>\n",
       "    <tr>\n",
       "      <th>438</th>\n",
       "      <td>k4owfz</td>\n",
       "      <td>I do upvote any YTA post and don’t upvote any ...</td>\n",
       "      <td>3</td>\n",
       "      <td>1</td>\n",
       "      <td>1</td>\n",
       "      <td>upvote post upvote posts regardless want ratio...</td>\n",
       "      <td>upvote post upvote post regardless want ratio ...</td>\n",
       "    </tr>\n",
       "  </tbody>\n",
       "</table>\n",
       "</div>"
      ],
      "text/plain": [
       "    post_id                                       comment_text  comment_score  \\\n",
       "198  k4owfz  Is it possible for mods to pin some ‘YTA’ thre...             23   \n",
       "235  k4owfz  Is there anything which could be done about th...              7   \n",
       "265  k4owfz  This sub has a really huge double standards pr...             -3   \n",
       "420  k4owfz  Or... You can pass your judgement, upvote the ...             13   \n",
       "438  k4owfz  I do upvote any YTA post and don’t upvote any ...              3   \n",
       "\n",
       "     yta  nta                                       cleaned_text  \\\n",
       "198    1    1  possible mods pin threads front page pretty pl...   \n",
       "235    1    1  anything could done section posts op get massi...   \n",
       "265    1    1  sub really huge double standards problem read ...   \n",
       "420    1    1  pass judgement upvote judgements agree let chi...   \n",
       "438    1    1  upvote post upvote posts regardless want ratio...   \n",
       "\n",
       "                                              nltk_lem  \n",
       "198  possible mod pin thread front page pretty plea...  \n",
       "235  anything could done section post op get massiv...  \n",
       "265  sub really huge double standard problem read p...  \n",
       "420  pas judgement upvote judgement agree let chip ...  \n",
       "438  upvote post upvote post regardless want ratio ...  "
      ]
     },
     "execution_count": 42,
     "metadata": {},
     "output_type": "execute_result"
    }
   ],
   "source": [
    "test['nltk_lem']=test['comment_text'].apply(lambda x:nltk_clean(x))\n",
    "test.head()"
   ]
  },
  {
   "cell_type": "markdown",
   "metadata": {},
   "source": [
    "## NLTK POS"
   ]
  },
  {
   "cell_type": "code",
   "execution_count": 43,
   "metadata": {
    "ExecuteTime": {
     "end_time": "2021-01-27T08:22:14.596911Z",
     "start_time": "2021-01-27T08:22:14.594591Z"
    },
    "run_control": {
     "marked": false
    }
   },
   "outputs": [],
   "source": [
    "from nltk.corpus import wordnet\n",
    "\n",
    "def get_wordnet_pos(word):\n",
    "    \"\"\"Map POS tag to first character lemmatize() accepts\"\"\"\n",
    "    tag = nltk.pos_tag([word])[0][1][0].upper()\n",
    "    tag_dict = {\"J\": wordnet.ADJ,\n",
    "                \"N\": wordnet.NOUN,\n",
    "                \"V\": wordnet.VERB,\n",
    "                \"R\": wordnet.ADV}\n",
    "\n",
    "    return tag_dict.get(tag, wordnet.NOUN)"
   ]
  },
  {
   "cell_type": "code",
   "execution_count": 44,
   "metadata": {
    "ExecuteTime": {
     "end_time": "2021-01-27T08:22:14.600428Z",
     "start_time": "2021-01-27T08:22:14.597837Z"
    },
    "run_control": {
     "marked": false
    }
   },
   "outputs": [],
   "source": [
    "lemmatizer = WordNetLemmatizer()\n",
    "\n",
    "def nltk_clean_pos(document):\n",
    "    #Return only letters in document\n",
    "    letters_only = re.sub(\"[^a-zA-Z]\", \" \", document)\n",
    "    #Iterating & removing stop_words\n",
    "    stop = \" \".join([i for i in letters_only.lower().split() if i not in stop_words])\n",
    "    #removing punctuation\n",
    "    remove_punctuation = ''.join(ch for ch in stop if ch not in exclude)\n",
    "    #Iterating through, finding the correct POS Tags(through the earlier function) and lemmatizing accordingly\n",
    "    pos_tag = [lemmatizer.lemmatize(w, get_wordnet_pos(w)) for w in nltk.word_tokenize(remove_punctuation)]\n",
    "    normalized = ' '.join(pos_tag)\n",
    "    return normalized"
   ]
  },
  {
   "cell_type": "code",
   "execution_count": 45,
   "metadata": {
    "ExecuteTime": {
     "end_time": "2021-01-27T08:29:01.905805Z",
     "start_time": "2021-01-27T08:22:14.601394Z"
    },
    "run_control": {
     "marked": false
    },
    "scrolled": true
   },
   "outputs": [
    {
     "data": {
      "text/html": [
       "<div>\n",
       "<style scoped>\n",
       "    .dataframe tbody tr th:only-of-type {\n",
       "        vertical-align: middle;\n",
       "    }\n",
       "\n",
       "    .dataframe tbody tr th {\n",
       "        vertical-align: top;\n",
       "    }\n",
       "\n",
       "    .dataframe thead th {\n",
       "        text-align: right;\n",
       "    }\n",
       "</style>\n",
       "<table border=\"1\" class=\"dataframe\">\n",
       "  <thead>\n",
       "    <tr style=\"text-align: right;\">\n",
       "      <th></th>\n",
       "      <th>post_id</th>\n",
       "      <th>comment_text</th>\n",
       "      <th>comment_score</th>\n",
       "      <th>yta</th>\n",
       "      <th>nta</th>\n",
       "      <th>cleaned_text</th>\n",
       "      <th>nltk_lem</th>\n",
       "      <th>nltk_pos</th>\n",
       "    </tr>\n",
       "  </thead>\n",
       "  <tbody>\n",
       "    <tr>\n",
       "      <th>0</th>\n",
       "      <td>jbswil</td>\n",
       "      <td>Thanks for this. When I was getting gaslit I c...</td>\n",
       "      <td>2</td>\n",
       "      <td>1</td>\n",
       "      <td>0</td>\n",
       "      <td>thanks getting gaslit came couple times got lo...</td>\n",
       "      <td>thanks getting gaslit came couple time got lot...</td>\n",
       "      <td>thanks get gaslit come couple time get lot sta...</td>\n",
       "    </tr>\n",
       "    <tr>\n",
       "      <th>1</th>\n",
       "      <td>k4owfz</td>\n",
       "      <td>does the 'no covid posts' rule extend to the c...</td>\n",
       "      <td>38</td>\n",
       "      <td>1</td>\n",
       "      <td>0</td>\n",
       "      <td>covid posts rule extend comments seen posts to...</td>\n",
       "      <td>covid post rule extend comment seen post top c...</td>\n",
       "      <td>covid post rule extend comment see post top co...</td>\n",
       "    </tr>\n",
       "    <tr>\n",
       "      <th>2</th>\n",
       "      <td>k4owfz</td>\n",
       "      <td>Where do mods draw the line as far as the \"acc...</td>\n",
       "      <td>15</td>\n",
       "      <td>1</td>\n",
       "      <td>0</td>\n",
       "      <td>mods draw line far accept judgment rule get tr...</td>\n",
       "      <td>mod draw line far accept judgment rule get tri...</td>\n",
       "      <td>mod draw line far accept judgment rule get tri...</td>\n",
       "    </tr>\n",
       "    <tr>\n",
       "      <th>3</th>\n",
       "      <td>k4owfz</td>\n",
       "      <td>Does anyone ever ask AITA for cutting off fami...</td>\n",
       "      <td>28</td>\n",
       "      <td>1</td>\n",
       "      <td>0</td>\n",
       "      <td>anyone ever ask cutting family results verdict...</td>\n",
       "      <td>anyone ever ask cutting family result verdict ...</td>\n",
       "      <td>anyone ever ask cut family result verdict seem...</td>\n",
       "    </tr>\n",
       "    <tr>\n",
       "      <th>4</th>\n",
       "      <td>k4owfz</td>\n",
       "      <td>AITA has reduced to recycling the same comment...</td>\n",
       "      <td>32</td>\n",
       "      <td>1</td>\n",
       "      <td>0</td>\n",
       "      <td>reduced recycling comments get upvotes well wr...</td>\n",
       "      <td>reduced recycling comment get upvotes well wri...</td>\n",
       "      <td>reduce recycle comment get upvotes well write ...</td>\n",
       "    </tr>\n",
       "  </tbody>\n",
       "</table>\n",
       "</div>"
      ],
      "text/plain": [
       "  post_id                                       comment_text  comment_score  \\\n",
       "0  jbswil  Thanks for this. When I was getting gaslit I c...              2   \n",
       "1  k4owfz  does the 'no covid posts' rule extend to the c...             38   \n",
       "2  k4owfz  Where do mods draw the line as far as the \"acc...             15   \n",
       "3  k4owfz  Does anyone ever ask AITA for cutting off fami...             28   \n",
       "4  k4owfz  AITA has reduced to recycling the same comment...             32   \n",
       "\n",
       "   yta  nta                                       cleaned_text  \\\n",
       "0    1    0  thanks getting gaslit came couple times got lo...   \n",
       "1    1    0  covid posts rule extend comments seen posts to...   \n",
       "2    1    0  mods draw line far accept judgment rule get tr...   \n",
       "3    1    0  anyone ever ask cutting family results verdict...   \n",
       "4    1    0  reduced recycling comments get upvotes well wr...   \n",
       "\n",
       "                                            nltk_lem  \\\n",
       "0  thanks getting gaslit came couple time got lot...   \n",
       "1  covid post rule extend comment seen post top c...   \n",
       "2  mod draw line far accept judgment rule get tri...   \n",
       "3  anyone ever ask cutting family result verdict ...   \n",
       "4  reduced recycling comment get upvotes well wri...   \n",
       "\n",
       "                                            nltk_pos  \n",
       "0  thanks get gaslit come couple time get lot sta...  \n",
       "1  covid post rule extend comment see post top co...  \n",
       "2  mod draw line far accept judgment rule get tri...  \n",
       "3  anyone ever ask cut family result verdict seem...  \n",
       "4  reduce recycle comment get upvotes well write ...  "
      ]
     },
     "execution_count": 45,
     "metadata": {},
     "output_type": "execute_result"
    }
   ],
   "source": [
    "final['nltk_pos']=final['comment_text'].apply(lambda x:nltk_clean_pos(x))\n",
    "final.head()"
   ]
  },
  {
   "cell_type": "code",
   "execution_count": 46,
   "metadata": {
    "ExecuteTime": {
     "end_time": "2021-01-27T08:29:05.077840Z",
     "start_time": "2021-01-27T08:29:01.906775Z"
    }
   },
   "outputs": [
    {
     "data": {
      "text/html": [
       "<div>\n",
       "<style scoped>\n",
       "    .dataframe tbody tr th:only-of-type {\n",
       "        vertical-align: middle;\n",
       "    }\n",
       "\n",
       "    .dataframe tbody tr th {\n",
       "        vertical-align: top;\n",
       "    }\n",
       "\n",
       "    .dataframe thead th {\n",
       "        text-align: right;\n",
       "    }\n",
       "</style>\n",
       "<table border=\"1\" class=\"dataframe\">\n",
       "  <thead>\n",
       "    <tr style=\"text-align: right;\">\n",
       "      <th></th>\n",
       "      <th>post_id</th>\n",
       "      <th>comment_text</th>\n",
       "      <th>comment_score</th>\n",
       "      <th>yta</th>\n",
       "      <th>nta</th>\n",
       "      <th>cleaned_text</th>\n",
       "      <th>nltk_lem</th>\n",
       "      <th>nltk_pos</th>\n",
       "    </tr>\n",
       "  </thead>\n",
       "  <tbody>\n",
       "    <tr>\n",
       "      <th>198</th>\n",
       "      <td>k4owfz</td>\n",
       "      <td>Is it possible for mods to pin some ‘YTA’ thre...</td>\n",
       "      <td>23</td>\n",
       "      <td>1</td>\n",
       "      <td>1</td>\n",
       "      <td>possible mods pin threads front page pretty pl...</td>\n",
       "      <td>possible mod pin thread front page pretty plea...</td>\n",
       "      <td>possible mod pin thread front page pretty plea...</td>\n",
       "    </tr>\n",
       "    <tr>\n",
       "      <th>235</th>\n",
       "      <td>k4owfz</td>\n",
       "      <td>Is there anything which could be done about th...</td>\n",
       "      <td>7</td>\n",
       "      <td>1</td>\n",
       "      <td>1</td>\n",
       "      <td>anything could done section posts op get massi...</td>\n",
       "      <td>anything could done section post op get massiv...</td>\n",
       "      <td>anything could do section post op get massive ...</td>\n",
       "    </tr>\n",
       "    <tr>\n",
       "      <th>265</th>\n",
       "      <td>k4owfz</td>\n",
       "      <td>This sub has a really huge double standards pr...</td>\n",
       "      <td>-3</td>\n",
       "      <td>1</td>\n",
       "      <td>1</td>\n",
       "      <td>sub really huge double standards problem read ...</td>\n",
       "      <td>sub really huge double standard problem read p...</td>\n",
       "      <td>sub really huge double standard problem read p...</td>\n",
       "    </tr>\n",
       "    <tr>\n",
       "      <th>420</th>\n",
       "      <td>k4owfz</td>\n",
       "      <td>Or... You can pass your judgement, upvote the ...</td>\n",
       "      <td>13</td>\n",
       "      <td>1</td>\n",
       "      <td>1</td>\n",
       "      <td>pass judgement upvote judgements agree let chi...</td>\n",
       "      <td>pas judgement upvote judgement agree let chip ...</td>\n",
       "      <td>pas judgement upvote judgement agree let chip ...</td>\n",
       "    </tr>\n",
       "    <tr>\n",
       "      <th>438</th>\n",
       "      <td>k4owfz</td>\n",
       "      <td>I do upvote any YTA post and don’t upvote any ...</td>\n",
       "      <td>3</td>\n",
       "      <td>1</td>\n",
       "      <td>1</td>\n",
       "      <td>upvote post upvote posts regardless want ratio...</td>\n",
       "      <td>upvote post upvote post regardless want ratio ...</td>\n",
       "      <td>upvote post upvote post regardless want ratio ...</td>\n",
       "    </tr>\n",
       "  </tbody>\n",
       "</table>\n",
       "</div>"
      ],
      "text/plain": [
       "    post_id                                       comment_text  comment_score  \\\n",
       "198  k4owfz  Is it possible for mods to pin some ‘YTA’ thre...             23   \n",
       "235  k4owfz  Is there anything which could be done about th...              7   \n",
       "265  k4owfz  This sub has a really huge double standards pr...             -3   \n",
       "420  k4owfz  Or... You can pass your judgement, upvote the ...             13   \n",
       "438  k4owfz  I do upvote any YTA post and don’t upvote any ...              3   \n",
       "\n",
       "     yta  nta                                       cleaned_text  \\\n",
       "198    1    1  possible mods pin threads front page pretty pl...   \n",
       "235    1    1  anything could done section posts op get massi...   \n",
       "265    1    1  sub really huge double standards problem read ...   \n",
       "420    1    1  pass judgement upvote judgements agree let chi...   \n",
       "438    1    1  upvote post upvote posts regardless want ratio...   \n",
       "\n",
       "                                              nltk_lem  \\\n",
       "198  possible mod pin thread front page pretty plea...   \n",
       "235  anything could done section post op get massiv...   \n",
       "265  sub really huge double standard problem read p...   \n",
       "420  pas judgement upvote judgement agree let chip ...   \n",
       "438  upvote post upvote post regardless want ratio ...   \n",
       "\n",
       "                                              nltk_pos  \n",
       "198  possible mod pin thread front page pretty plea...  \n",
       "235  anything could do section post op get massive ...  \n",
       "265  sub really huge double standard problem read p...  \n",
       "420  pas judgement upvote judgement agree let chip ...  \n",
       "438  upvote post upvote post regardless want ratio ...  "
      ]
     },
     "execution_count": 46,
     "metadata": {},
     "output_type": "execute_result"
    }
   ],
   "source": [
    "test['nltk_pos']=test['comment_text'].apply(lambda x:nltk_clean_pos(x))\n",
    "test.head()"
   ]
  },
  {
   "cell_type": "markdown",
   "metadata": {},
   "source": [
    "## Spacy"
   ]
  },
  {
   "cell_type": "code",
   "execution_count": 50,
   "metadata": {
    "ExecuteTime": {
     "end_time": "2021-01-27T08:29:05.626835Z",
     "start_time": "2021-01-27T08:29:05.090514Z"
    },
    "code_folding": [],
    "run_control": {
     "marked": false
    }
   },
   "outputs": [],
   "source": [
    "nlp = en_core_web_sm.load()\n",
    "#with full text\n",
    "def spacy_lemma(doc):\n",
    "    text=nlp(doc)\n",
    "    newtext=[]\n",
    "    for token in text:\n",
    "        if not token.is_stop:\n",
    "                newtext.append(token.lemma_)\n",
    "\n",
    "    return \" \".join(token for token in newtext)"
   ]
  },
  {
   "cell_type": "code",
   "execution_count": 51,
   "metadata": {
    "ExecuteTime": {
     "end_time": "2021-01-27T08:46:51.197484Z",
     "start_time": "2021-01-27T08:29:05.627822Z"
    },
    "run_control": {
     "marked": false
    },
    "scrolled": false
   },
   "outputs": [
    {
     "data": {
      "text/html": [
       "<div>\n",
       "<style scoped>\n",
       "    .dataframe tbody tr th:only-of-type {\n",
       "        vertical-align: middle;\n",
       "    }\n",
       "\n",
       "    .dataframe tbody tr th {\n",
       "        vertical-align: top;\n",
       "    }\n",
       "\n",
       "    .dataframe thead th {\n",
       "        text-align: right;\n",
       "    }\n",
       "</style>\n",
       "<table border=\"1\" class=\"dataframe\">\n",
       "  <thead>\n",
       "    <tr style=\"text-align: right;\">\n",
       "      <th></th>\n",
       "      <th>post_id</th>\n",
       "      <th>comment_text</th>\n",
       "      <th>comment_score</th>\n",
       "      <th>yta</th>\n",
       "      <th>nta</th>\n",
       "      <th>cleaned_text</th>\n",
       "      <th>nltk_lem</th>\n",
       "      <th>nltk_pos</th>\n",
       "      <th>spacy_lem</th>\n",
       "    </tr>\n",
       "  </thead>\n",
       "  <tbody>\n",
       "    <tr>\n",
       "      <th>0</th>\n",
       "      <td>jbswil</td>\n",
       "      <td>Thanks for this. When I was getting gaslit I c...</td>\n",
       "      <td>2</td>\n",
       "      <td>1</td>\n",
       "      <td>0</td>\n",
       "      <td>thanks getting gaslit came couple times got lo...</td>\n",
       "      <td>thanks getting gaslit came couple time got lot...</td>\n",
       "      <td>thanks get gaslit come couple time get lot sta...</td>\n",
       "      <td>thank get gaslit come couple time get lot stay...</td>\n",
       "    </tr>\n",
       "    <tr>\n",
       "      <th>1</th>\n",
       "      <td>k4owfz</td>\n",
       "      <td>does the 'no covid posts' rule extend to the c...</td>\n",
       "      <td>38</td>\n",
       "      <td>1</td>\n",
       "      <td>0</td>\n",
       "      <td>covid posts rule extend comments seen posts to...</td>\n",
       "      <td>covid post rule extend comment seen post top c...</td>\n",
       "      <td>covid post rule extend comment see post top co...</td>\n",
       "      <td>covid post rule extend comment see post commen...</td>\n",
       "    </tr>\n",
       "    <tr>\n",
       "      <th>2</th>\n",
       "      <td>k4owfz</td>\n",
       "      <td>Where do mods draw the line as far as the \"acc...</td>\n",
       "      <td>15</td>\n",
       "      <td>1</td>\n",
       "      <td>0</td>\n",
       "      <td>mods draw line far accept judgment rule get tr...</td>\n",
       "      <td>mod draw line far accept judgment rule get tri...</td>\n",
       "      <td>mod draw line far accept judgment rule get tri...</td>\n",
       "      <td>mod draw line far accept judgment rule tricky ...</td>\n",
       "    </tr>\n",
       "    <tr>\n",
       "      <th>3</th>\n",
       "      <td>k4owfz</td>\n",
       "      <td>Does anyone ever ask AITA for cutting off fami...</td>\n",
       "      <td>28</td>\n",
       "      <td>1</td>\n",
       "      <td>0</td>\n",
       "      <td>anyone ever ask cutting family results verdict...</td>\n",
       "      <td>anyone ever ask cutting family result verdict ...</td>\n",
       "      <td>anyone ever ask cut family result verdict seem...</td>\n",
       "      <td>ask cut family result verdict like general rig...</td>\n",
       "    </tr>\n",
       "    <tr>\n",
       "      <th>4</th>\n",
       "      <td>k4owfz</td>\n",
       "      <td>AITA has reduced to recycling the same comment...</td>\n",
       "      <td>32</td>\n",
       "      <td>1</td>\n",
       "      <td>0</td>\n",
       "      <td>reduced recycling comments get upvotes well wr...</td>\n",
       "      <td>reduced recycling comment get upvotes well wri...</td>\n",
       "      <td>reduce recycle comment get upvotes well write ...</td>\n",
       "      <td>reduce recycling comment upvote write comment ...</td>\n",
       "    </tr>\n",
       "  </tbody>\n",
       "</table>\n",
       "</div>"
      ],
      "text/plain": [
       "  post_id                                       comment_text  comment_score  \\\n",
       "0  jbswil  Thanks for this. When I was getting gaslit I c...              2   \n",
       "1  k4owfz  does the 'no covid posts' rule extend to the c...             38   \n",
       "2  k4owfz  Where do mods draw the line as far as the \"acc...             15   \n",
       "3  k4owfz  Does anyone ever ask AITA for cutting off fami...             28   \n",
       "4  k4owfz  AITA has reduced to recycling the same comment...             32   \n",
       "\n",
       "   yta  nta                                       cleaned_text  \\\n",
       "0    1    0  thanks getting gaslit came couple times got lo...   \n",
       "1    1    0  covid posts rule extend comments seen posts to...   \n",
       "2    1    0  mods draw line far accept judgment rule get tr...   \n",
       "3    1    0  anyone ever ask cutting family results verdict...   \n",
       "4    1    0  reduced recycling comments get upvotes well wr...   \n",
       "\n",
       "                                            nltk_lem  \\\n",
       "0  thanks getting gaslit came couple time got lot...   \n",
       "1  covid post rule extend comment seen post top c...   \n",
       "2  mod draw line far accept judgment rule get tri...   \n",
       "3  anyone ever ask cutting family result verdict ...   \n",
       "4  reduced recycling comment get upvotes well wri...   \n",
       "\n",
       "                                            nltk_pos  \\\n",
       "0  thanks get gaslit come couple time get lot sta...   \n",
       "1  covid post rule extend comment see post top co...   \n",
       "2  mod draw line far accept judgment rule get tri...   \n",
       "3  anyone ever ask cut family result verdict seem...   \n",
       "4  reduce recycle comment get upvotes well write ...   \n",
       "\n",
       "                                           spacy_lem  \n",
       "0  thank get gaslit come couple time get lot stay...  \n",
       "1  covid post rule extend comment see post commen...  \n",
       "2  mod draw line far accept judgment rule tricky ...  \n",
       "3  ask cut family result verdict like general rig...  \n",
       "4  reduce recycling comment upvote write comment ...  "
      ]
     },
     "execution_count": 51,
     "metadata": {},
     "output_type": "execute_result"
    }
   ],
   "source": [
    "final['spacy_lem']=final['cleaned_text'].apply(lambda x:spacy_lemma(x))\n",
    "final.head()"
   ]
  },
  {
   "cell_type": "code",
   "execution_count": 52,
   "metadata": {
    "ExecuteTime": {
     "end_time": "2021-01-27T08:46:58.045694Z",
     "start_time": "2021-01-27T08:46:51.198391Z"
    }
   },
   "outputs": [
    {
     "data": {
      "text/html": [
       "<div>\n",
       "<style scoped>\n",
       "    .dataframe tbody tr th:only-of-type {\n",
       "        vertical-align: middle;\n",
       "    }\n",
       "\n",
       "    .dataframe tbody tr th {\n",
       "        vertical-align: top;\n",
       "    }\n",
       "\n",
       "    .dataframe thead th {\n",
       "        text-align: right;\n",
       "    }\n",
       "</style>\n",
       "<table border=\"1\" class=\"dataframe\">\n",
       "  <thead>\n",
       "    <tr style=\"text-align: right;\">\n",
       "      <th></th>\n",
       "      <th>post_id</th>\n",
       "      <th>comment_text</th>\n",
       "      <th>comment_score</th>\n",
       "      <th>yta</th>\n",
       "      <th>nta</th>\n",
       "      <th>cleaned_text</th>\n",
       "      <th>nltk_lem</th>\n",
       "      <th>nltk_pos</th>\n",
       "      <th>spacy_lem</th>\n",
       "    </tr>\n",
       "  </thead>\n",
       "  <tbody>\n",
       "    <tr>\n",
       "      <th>198</th>\n",
       "      <td>k4owfz</td>\n",
       "      <td>Is it possible for mods to pin some ‘YTA’ thre...</td>\n",
       "      <td>23</td>\n",
       "      <td>1</td>\n",
       "      <td>1</td>\n",
       "      <td>possible mods pin threads front page pretty pl...</td>\n",
       "      <td>possible mod pin thread front page pretty plea...</td>\n",
       "      <td>possible mod pin thread front page pretty plea...</td>\n",
       "      <td>possible mod pin thread page pretty single pos...</td>\n",
       "    </tr>\n",
       "    <tr>\n",
       "      <th>235</th>\n",
       "      <td>k4owfz</td>\n",
       "      <td>Is there anything which could be done about th...</td>\n",
       "      <td>7</td>\n",
       "      <td>1</td>\n",
       "      <td>1</td>\n",
       "      <td>anything could done section posts op get massi...</td>\n",
       "      <td>anything could done section post op get massiv...</td>\n",
       "      <td>anything could do section post op get massive ...</td>\n",
       "      <td>section post op massive majority respond small...</td>\n",
       "    </tr>\n",
       "    <tr>\n",
       "      <th>265</th>\n",
       "      <td>k4owfz</td>\n",
       "      <td>This sub has a really huge double standards pr...</td>\n",
       "      <td>-3</td>\n",
       "      <td>1</td>\n",
       "      <td>1</td>\n",
       "      <td>sub really huge double standards problem read ...</td>\n",
       "      <td>sub really huge double standard problem read p...</td>\n",
       "      <td>sub really huge double standard problem read p...</td>\n",
       "      <td>sub huge double standard problem read post hus...</td>\n",
       "    </tr>\n",
       "    <tr>\n",
       "      <th>420</th>\n",
       "      <td>k4owfz</td>\n",
       "      <td>Or... You can pass your judgement, upvote the ...</td>\n",
       "      <td>13</td>\n",
       "      <td>1</td>\n",
       "      <td>1</td>\n",
       "      <td>pass judgement upvote judgements agree let chi...</td>\n",
       "      <td>pas judgement upvote judgement agree let chip ...</td>\n",
       "      <td>pas judgement upvote judgement agree let chip ...</td>\n",
       "      <td>pass judgement upvote judgement agree let chip...</td>\n",
       "    </tr>\n",
       "    <tr>\n",
       "      <th>438</th>\n",
       "      <td>k4owfz</td>\n",
       "      <td>I do upvote any YTA post and don’t upvote any ...</td>\n",
       "      <td>3</td>\n",
       "      <td>1</td>\n",
       "      <td>1</td>\n",
       "      <td>upvote post upvote posts regardless want ratio...</td>\n",
       "      <td>upvote post upvote post regardless want ratio ...</td>\n",
       "      <td>upvote post upvote post regardless want ratio ...</td>\n",
       "      <td>upvote post upvote post regardless want ratio ...</td>\n",
       "    </tr>\n",
       "  </tbody>\n",
       "</table>\n",
       "</div>"
      ],
      "text/plain": [
       "    post_id                                       comment_text  comment_score  \\\n",
       "198  k4owfz  Is it possible for mods to pin some ‘YTA’ thre...             23   \n",
       "235  k4owfz  Is there anything which could be done about th...              7   \n",
       "265  k4owfz  This sub has a really huge double standards pr...             -3   \n",
       "420  k4owfz  Or... You can pass your judgement, upvote the ...             13   \n",
       "438  k4owfz  I do upvote any YTA post and don’t upvote any ...              3   \n",
       "\n",
       "     yta  nta                                       cleaned_text  \\\n",
       "198    1    1  possible mods pin threads front page pretty pl...   \n",
       "235    1    1  anything could done section posts op get massi...   \n",
       "265    1    1  sub really huge double standards problem read ...   \n",
       "420    1    1  pass judgement upvote judgements agree let chi...   \n",
       "438    1    1  upvote post upvote posts regardless want ratio...   \n",
       "\n",
       "                                              nltk_lem  \\\n",
       "198  possible mod pin thread front page pretty plea...   \n",
       "235  anything could done section post op get massiv...   \n",
       "265  sub really huge double standard problem read p...   \n",
       "420  pas judgement upvote judgement agree let chip ...   \n",
       "438  upvote post upvote post regardless want ratio ...   \n",
       "\n",
       "                                              nltk_pos  \\\n",
       "198  possible mod pin thread front page pretty plea...   \n",
       "235  anything could do section post op get massive ...   \n",
       "265  sub really huge double standard problem read p...   \n",
       "420  pas judgement upvote judgement agree let chip ...   \n",
       "438  upvote post upvote post regardless want ratio ...   \n",
       "\n",
       "                                             spacy_lem  \n",
       "198  possible mod pin thread page pretty single pos...  \n",
       "235  section post op massive majority respond small...  \n",
       "265  sub huge double standard problem read post hus...  \n",
       "420  pass judgement upvote judgement agree let chip...  \n",
       "438  upvote post upvote post regardless want ratio ...  "
      ]
     },
     "execution_count": 52,
     "metadata": {},
     "output_type": "execute_result"
    }
   ],
   "source": [
    "test['spacy_lem']=test['cleaned_text'].apply(lambda x:spacy_lemma(x))\n",
    "test.head()"
   ]
  },
  {
   "cell_type": "code",
   "execution_count": 53,
   "metadata": {
    "ExecuteTime": {
     "end_time": "2021-01-27T08:46:58.049293Z",
     "start_time": "2021-01-27T08:46:58.046767Z"
    },
    "run_control": {
     "marked": false
    }
   },
   "outputs": [
    {
     "data": {
      "text/plain": [
       "(178015, 9)"
      ]
     },
     "execution_count": 53,
     "metadata": {},
     "output_type": "execute_result"
    }
   ],
   "source": [
    "final.shape"
   ]
  },
  {
   "cell_type": "code",
   "execution_count": 54,
   "metadata": {
    "ExecuteTime": {
     "end_time": "2021-01-27T08:46:58.052724Z",
     "start_time": "2021-01-27T08:46:58.050398Z"
    },
    "scrolled": true
   },
   "outputs": [
    {
     "data": {
      "text/plain": [
       "(880, 9)"
      ]
     },
     "execution_count": 54,
     "metadata": {},
     "output_type": "execute_result"
    }
   ],
   "source": [
    "test.shape"
   ]
  },
  {
   "cell_type": "code",
   "execution_count": 55,
   "metadata": {
    "ExecuteTime": {
     "end_time": "2021-01-27T08:47:00.744487Z",
     "start_time": "2021-01-27T08:46:58.053696Z"
    },
    "run_control": {
     "marked": false
    }
   },
   "outputs": [],
   "source": [
    "final.to_csv('datasets/final.csv',index = False)"
   ]
  },
  {
   "cell_type": "code",
   "execution_count": 56,
   "metadata": {
    "ExecuteTime": {
     "end_time": "2021-01-27T08:47:00.769130Z",
     "start_time": "2021-01-27T08:47:00.745567Z"
    }
   },
   "outputs": [],
   "source": [
    "test.to_csv('datasets/test.csv',index = False)"
   ]
  },
  {
   "cell_type": "markdown",
   "metadata": {},
   "source": [
    "Just a quick comparison to understand what the lemmatizers have done & the differences between them."
   ]
  },
  {
   "cell_type": "code",
   "execution_count": 55,
   "metadata": {
    "ExecuteTime": {
     "end_time": "2021-01-27T17:00:31.693547Z",
     "start_time": "2021-01-27T17:00:31.684541Z"
    },
    "scrolled": true
   },
   "outputs": [
    {
     "data": {
      "text/plain": [
       "'Thanks for this. When I was getting gaslit I came here a couple of times and got a lot of \"YTA for staying with him/dating him in the first place\". I think this happens more on the low traffic posts especially. Not particularly helpful, especially since I just took that quiz and the threshold for abuse is 5 and that relationship scored 33!'"
      ]
     },
     "execution_count": 55,
     "metadata": {},
     "output_type": "execute_result"
    }
   ],
   "source": [
    "final['comment_text'][0]"
   ]
  },
  {
   "cell_type": "code",
   "execution_count": 56,
   "metadata": {
    "ExecuteTime": {
     "end_time": "2021-01-27T17:00:31.709476Z",
     "start_time": "2021-01-27T17:00:31.695515Z"
    }
   },
   "outputs": [
    {
     "data": {
      "text/plain": [
       "'thanks getting gaslit came couple times got lot staying dating first place think happens low traffic posts especially particularly helpful especially since took quiz threshold abuse relationship scored'"
      ]
     },
     "execution_count": 56,
     "metadata": {},
     "output_type": "execute_result"
    }
   ],
   "source": [
    "final['cleaned_text'][0]"
   ]
  },
  {
   "cell_type": "code",
   "execution_count": 57,
   "metadata": {
    "ExecuteTime": {
     "end_time": "2021-01-27T17:00:31.725468Z",
     "start_time": "2021-01-27T17:00:31.711475Z"
    }
   },
   "outputs": [
    {
     "data": {
      "text/plain": [
       "'thanks getting gaslit came couple time got lot staying dating first place think happens low traffic post especially particularly helpful especially since took quiz threshold abuse relationship scored'"
      ]
     },
     "execution_count": 57,
     "metadata": {},
     "output_type": "execute_result"
    }
   ],
   "source": [
    "final['nltk_lem'][0]"
   ]
  },
  {
   "cell_type": "code",
   "execution_count": 58,
   "metadata": {
    "ExecuteTime": {
     "end_time": "2021-01-27T17:00:31.741390Z",
     "start_time": "2021-01-27T17:00:31.727427Z"
    }
   },
   "outputs": [
    {
     "data": {
      "text/plain": [
       "'thanks get gaslit come couple time get lot stay date first place think happens low traffic post especially particularly helpful especially since take quiz threshold abuse relationship score'"
      ]
     },
     "execution_count": 58,
     "metadata": {},
     "output_type": "execute_result"
    }
   ],
   "source": [
    "final['nltk_pos'][0]"
   ]
  },
  {
   "cell_type": "code",
   "execution_count": 59,
   "metadata": {
    "ExecuteTime": {
     "end_time": "2021-01-27T17:00:31.757378Z",
     "start_time": "2021-01-27T17:00:31.743395Z"
    }
   },
   "outputs": [
    {
     "data": {
      "text/plain": [
       "'thank get gaslit come couple time get lot stay date place think happen low traffic post especially particularly helpful especially take quiz threshold abuse relationship score'"
      ]
     },
     "execution_count": 59,
     "metadata": {},
     "output_type": "execute_result"
    }
   ],
   "source": [
    "final['spacy_lem'][0]"
   ]
  }
 ],
 "metadata": {
  "kernelspec": {
   "display_name": "Python 3",
   "language": "python",
   "name": "python3"
  },
  "language_info": {
   "codemirror_mode": {
    "name": "ipython",
    "version": 3
   },
   "file_extension": ".py",
   "mimetype": "text/x-python",
   "name": "python",
   "nbconvert_exporter": "python",
   "pygments_lexer": "ipython3",
   "version": "3.8.5"
  },
  "toc": {
   "base_numbering": 1,
   "nav_menu": {},
   "number_sections": true,
   "sideBar": true,
   "skip_h1_title": false,
   "title_cell": "Table of Contents",
   "title_sidebar": "Contents",
   "toc_cell": false,
   "toc_position": {
    "height": "calc(100% - 180px)",
    "left": "10px",
    "top": "150px",
    "width": "165px"
   },
   "toc_section_display": true,
   "toc_window_display": true
  }
 },
 "nbformat": 4,
 "nbformat_minor": 4
}
