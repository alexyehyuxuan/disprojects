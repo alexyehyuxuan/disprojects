{
 "cells": [
  {
   "cell_type": "code",
   "execution_count": 16,
   "metadata": {
    "ExecuteTime": {
     "end_time": "2021-01-25T17:50:51.172973Z",
     "start_time": "2021-01-25T17:50:51.158197Z"
    }
   },
   "outputs": [],
   "source": [
    "import numpy as np\n",
    "import pandas as pd\n",
    "import matplotlib.pyplot as plt\n",
    "import seaborn as sns\n",
    "import regex as re\n",
    "\n",
    "from bs4 import BeautifulSoup  \n",
    "from matplotlib_venn import venn2\n",
    "from wordcloud import WordCloud\n",
    "\n",
    "from imblearn.over_sampling import SMOTE\n",
    "# using imblearn pipeline instead of sklearn pipeline\n",
    "from imblearn.pipeline import Pipeline, make_pipeline\n",
    "\n",
    "from sklearn.model_selection import train_test_split, GridSearchCV\n",
    "from sklearn.feature_extraction.text import CountVectorizer, TfidfVectorizer\n",
    "from sklearn.linear_model import LogisticRegression\n",
    "from sklearn.naive_bayes import MultinomialNB\n",
    "from sklearn.metrics import accuracy_score, roc_curve, confusion_matrix, roc_auc_score\n",
    "\n",
    "import nltk\n",
    "from nltk.corpus import stopwords\n",
    "from nltk.tokenize import RegexpTokenizer\n",
    "from nltk.stem import WordNetLemmatizer\n",
    "\n",
    "from spacy.lemmatizer import Lemmatizer\n",
    "import en_core_web_sm\n",
    "from spacy import vocab\n",
    "\n",
    "# Gensim\n",
    "import gensim\n",
    "import gensim.corpora as corpora\n",
    "from gensim.utils import simple_preprocess\n",
    "from gensim.models import CoherenceModel"
   ]
  },
  {
   "cell_type": "code",
   "execution_count": 2,
   "metadata": {
    "ExecuteTime": {
     "end_time": "2021-01-25T17:48:32.673332Z",
     "start_time": "2021-01-25T17:48:32.656698Z"
    }
   },
   "outputs": [],
   "source": [
    "import warnings\n",
    "warnings.filterwarnings(\"ignore\", category=DeprecationWarning)"
   ]
  },
  {
   "cell_type": "code",
   "execution_count": 3,
   "metadata": {
    "ExecuteTime": {
     "end_time": "2021-01-25T17:48:34.666395Z",
     "start_time": "2021-01-25T17:48:33.068286Z"
    }
   },
   "outputs": [],
   "source": [
    "final = pd.read_csv('datasets/final.csv')"
   ]
  },
  {
   "cell_type": "code",
   "execution_count": 4,
   "metadata": {
    "ExecuteTime": {
     "end_time": "2021-01-25T17:48:34.679106Z",
     "start_time": "2021-01-25T17:48:34.667596Z"
    },
    "scrolled": true
   },
   "outputs": [
    {
     "data": {
      "text/html": [
       "<div>\n",
       "<style scoped>\n",
       "    .dataframe tbody tr th:only-of-type {\n",
       "        vertical-align: middle;\n",
       "    }\n",
       "\n",
       "    .dataframe tbody tr th {\n",
       "        vertical-align: top;\n",
       "    }\n",
       "\n",
       "    .dataframe thead th {\n",
       "        text-align: right;\n",
       "    }\n",
       "</style>\n",
       "<table border=\"1\" class=\"dataframe\">\n",
       "  <thead>\n",
       "    <tr style=\"text-align: right;\">\n",
       "      <th></th>\n",
       "      <th>post_id</th>\n",
       "      <th>comment_text</th>\n",
       "      <th>comment_score</th>\n",
       "      <th>yta</th>\n",
       "      <th>nta</th>\n",
       "      <th>cleaned_text</th>\n",
       "      <th>nltk_lem</th>\n",
       "      <th>spacy_lem</th>\n",
       "    </tr>\n",
       "  </thead>\n",
       "  <tbody>\n",
       "    <tr>\n",
       "      <th>0</th>\n",
       "      <td>jbswil</td>\n",
       "      <td>Thanks for this. When I was getting gaslit I c...</td>\n",
       "      <td>2</td>\n",
       "      <td>1</td>\n",
       "      <td>0</td>\n",
       "      <td>thanks getting gaslit came couple times got lo...</td>\n",
       "      <td>thanks this getting gaslit came couple time go...</td>\n",
       "      <td>thank get gaslit come couple time get lot stay...</td>\n",
       "    </tr>\n",
       "    <tr>\n",
       "      <th>1</th>\n",
       "      <td>k4owfz</td>\n",
       "      <td>does the 'no covid posts' rule extend to the c...</td>\n",
       "      <td>38</td>\n",
       "      <td>1</td>\n",
       "      <td>0</td>\n",
       "      <td>covid posts rule extend comments seen posts to...</td>\n",
       "      <td>no covid post rule extend comment ive seen pos...</td>\n",
       "      <td>covid post rule extend comment see post commen...</td>\n",
       "    </tr>\n",
       "    <tr>\n",
       "      <th>2</th>\n",
       "      <td>k4owfz</td>\n",
       "      <td>Where do mods draw the line as far as the \"acc...</td>\n",
       "      <td>15</td>\n",
       "      <td>1</td>\n",
       "      <td>0</td>\n",
       "      <td>mods draw line far accept judgment rule get tr...</td>\n",
       "      <td>mod draw line far accept judgment rule get tha...</td>\n",
       "      <td>mod draw line far accept judgment rule tricky ...</td>\n",
       "    </tr>\n",
       "    <tr>\n",
       "      <th>3</th>\n",
       "      <td>k4owfz</td>\n",
       "      <td>Does anyone ever ask AITA for cutting off fami...</td>\n",
       "      <td>28</td>\n",
       "      <td>1</td>\n",
       "      <td>0</td>\n",
       "      <td>anyone ever ask cutting family results verdict...</td>\n",
       "      <td>anyone ever ask cutting family result verdict ...</td>\n",
       "      <td>ask cut family result verdict like general rig...</td>\n",
       "    </tr>\n",
       "    <tr>\n",
       "      <th>4</th>\n",
       "      <td>k4owfz</td>\n",
       "      <td>AITA has reduced to recycling the same comment...</td>\n",
       "      <td>32</td>\n",
       "      <td>1</td>\n",
       "      <td>0</td>\n",
       "      <td>reduced recycling comments get upvotes well wr...</td>\n",
       "      <td>reduced recycling comment get upvotes well wri...</td>\n",
       "      <td>reduce recycling comment upvote write comment ...</td>\n",
       "    </tr>\n",
       "  </tbody>\n",
       "</table>\n",
       "</div>"
      ],
      "text/plain": [
       "  post_id                                       comment_text  comment_score  \\\n",
       "0  jbswil  Thanks for this. When I was getting gaslit I c...              2   \n",
       "1  k4owfz  does the 'no covid posts' rule extend to the c...             38   \n",
       "2  k4owfz  Where do mods draw the line as far as the \"acc...             15   \n",
       "3  k4owfz  Does anyone ever ask AITA for cutting off fami...             28   \n",
       "4  k4owfz  AITA has reduced to recycling the same comment...             32   \n",
       "\n",
       "   yta  nta                                       cleaned_text  \\\n",
       "0    1    0  thanks getting gaslit came couple times got lo...   \n",
       "1    1    0  covid posts rule extend comments seen posts to...   \n",
       "2    1    0  mods draw line far accept judgment rule get tr...   \n",
       "3    1    0  anyone ever ask cutting family results verdict...   \n",
       "4    1    0  reduced recycling comments get upvotes well wr...   \n",
       "\n",
       "                                            nltk_lem  \\\n",
       "0  thanks this getting gaslit came couple time go...   \n",
       "1  no covid post rule extend comment ive seen pos...   \n",
       "2  mod draw line far accept judgment rule get tha...   \n",
       "3  anyone ever ask cutting family result verdict ...   \n",
       "4  reduced recycling comment get upvotes well wri...   \n",
       "\n",
       "                                           spacy_lem  \n",
       "0  thank get gaslit come couple time get lot stay...  \n",
       "1  covid post rule extend comment see post commen...  \n",
       "2  mod draw line far accept judgment rule tricky ...  \n",
       "3  ask cut family result verdict like general rig...  \n",
       "4  reduce recycling comment upvote write comment ...  "
      ]
     },
     "execution_count": 4,
     "metadata": {},
     "output_type": "execute_result"
    }
   ],
   "source": [
    "final.head()"
   ]
  },
  {
   "cell_type": "markdown",
   "metadata": {},
   "source": [
    "The missing null fields are likely due to posts that have voted by only inputting YTA & NTA, I will be dropping these as they will be redundant in a language study. "
   ]
  },
  {
   "cell_type": "code",
   "execution_count": 5,
   "metadata": {
    "ExecuteTime": {
     "end_time": "2021-01-25T17:48:38.237433Z",
     "start_time": "2021-01-25T17:48:38.169311Z"
    },
    "scrolled": false
   },
   "outputs": [
    {
     "data": {
      "text/plain": [
       "post_id          False\n",
       "comment_text     False\n",
       "comment_score    False\n",
       "yta              False\n",
       "nta              False\n",
       "cleaned_text      True\n",
       "nltk_lem          True\n",
       "spacy_lem         True\n",
       "dtype: bool"
      ]
     },
     "execution_count": 5,
     "metadata": {},
     "output_type": "execute_result"
    }
   ],
   "source": [
    "final.isnull().any()"
   ]
  },
  {
   "cell_type": "code",
   "execution_count": 6,
   "metadata": {
    "ExecuteTime": {
     "end_time": "2021-01-25T17:48:38.777754Z",
     "start_time": "2021-01-25T17:48:38.772322Z"
    }
   },
   "outputs": [
    {
     "data": {
      "text/plain": [
       "(178015, 8)"
      ]
     },
     "execution_count": 6,
     "metadata": {},
     "output_type": "execute_result"
    }
   ],
   "source": [
    "final.shape"
   ]
  },
  {
   "cell_type": "code",
   "execution_count": 7,
   "metadata": {
    "ExecuteTime": {
     "end_time": "2021-01-25T17:48:39.600749Z",
     "start_time": "2021-01-25T17:48:39.190932Z"
    }
   },
   "outputs": [],
   "source": [
    "final.dropna(inplace=True)"
   ]
  },
  {
   "cell_type": "code",
   "execution_count": 8,
   "metadata": {
    "ExecuteTime": {
     "end_time": "2021-01-25T17:48:39.891167Z",
     "start_time": "2021-01-25T17:48:39.884253Z"
    },
    "scrolled": false
   },
   "outputs": [
    {
     "data": {
      "text/plain": [
       "(177599, 8)"
      ]
     },
     "execution_count": 8,
     "metadata": {},
     "output_type": "execute_result"
    }
   ],
   "source": [
    "final.shape"
   ]
  },
  {
   "cell_type": "markdown",
   "metadata": {},
   "source": [
    "# Modeling on Clean text "
   ]
  },
  {
   "cell_type": "code",
   "execution_count": 9,
   "metadata": {
    "ExecuteTime": {
     "end_time": "2021-01-25T17:48:44.244402Z",
     "start_time": "2021-01-25T17:48:44.236891Z"
    }
   },
   "outputs": [],
   "source": [
    "#Assigning stopwords\n",
    "stop_words = set(stopwords.words('english'))  \n",
    "special_stops = {'YTA', 'yta', 'NTA', 'nta', 'ESH', 'esh', 'NAH', 'nah', 'wibta', 'aita'}\n",
    "stop_words = stop_words.union(special_stops)"
   ]
  },
  {
   "cell_type": "code",
   "execution_count": 9,
   "metadata": {
    "ExecuteTime": {
     "end_time": "2021-01-25T13:25:52.130345Z",
     "start_time": "2021-01-25T13:25:52.128647Z"
    }
   },
   "outputs": [],
   "source": [
    "X = final['cleaned_text']\n",
    "y = final['yta']"
   ]
  },
  {
   "cell_type": "code",
   "execution_count": 10,
   "metadata": {
    "ExecuteTime": {
     "end_time": "2021-01-25T13:25:52.186331Z",
     "start_time": "2021-01-25T13:25:52.131554Z"
    }
   },
   "outputs": [],
   "source": [
    "X_train, X_test, y_train, y_test = train_test_split(X, \n",
    "                                                    y,\n",
    "                                                   test_size = 0.33,\n",
    "                                                   random_state = 42,\n",
    "                                                   stratify = y)"
   ]
  },
  {
   "cell_type": "code",
   "execution_count": 11,
   "metadata": {
    "ExecuteTime": {
     "end_time": "2021-01-25T13:25:52.191533Z",
     "start_time": "2021-01-25T13:25:52.187426Z"
    }
   },
   "outputs": [
    {
     "data": {
      "text/plain": [
       "0    0.771874\n",
       "1    0.228126\n",
       "Name: yta, dtype: float64"
      ]
     },
     "execution_count": 11,
     "metadata": {},
     "output_type": "execute_result"
    }
   ],
   "source": [
    "y_train.value_counts(normalize=True)"
   ]
  },
  {
   "cell_type": "code",
   "execution_count": 16,
   "metadata": {
    "ExecuteTime": {
     "end_time": "2021-01-25T14:51:02.262514Z",
     "start_time": "2021-01-25T14:51:02.258941Z"
    }
   },
   "outputs": [],
   "source": [
    "pl = Pipeline([\n",
    "    ('vectorizer', None),\n",
    "    ('sampler', None),\n",
    "    ('classifier', None),\n",
    "])"
   ]
  },
  {
   "cell_type": "code",
   "execution_count": 17,
   "metadata": {
    "ExecuteTime": {
     "end_time": "2021-01-25T14:51:02.780779Z",
     "start_time": "2021-01-25T14:51:02.771854Z"
    }
   },
   "outputs": [],
   "source": [
    "param_grid = [{\n",
    "\n",
    "    \n",
    "        # vectorisers to try: count vectoriser, tf-idf vectoriser\n",
    "        'vectorizer': [CountVectorizer(stop_words = stop_words),\n",
    "                       TfidfVectorizer(stop_words = stop_words)],\n",
    "        # feature selection by max df\n",
    "        'vectorizer__max_df': [.95, .90],\n",
    "        'vectorizer__min_df' : [2,3,4],\n",
    "        'vectorizer__ngram_range': [(1,2),(1,3),(2,3)],\n",
    "    \n",
    "        #Sampler\n",
    "        'sampler': [SMOTE(random_state=42)],\n",
    "\n",
    "        # models to test: multinomial Naive Bayes and logistic regression\n",
    "        'classifier': [MultinomialNB(), LogisticRegression(max_iter = 500)],\n",
    "\n",
    "    }]"
   ]
  },
  {
   "cell_type": "markdown",
   "metadata": {},
   "source": [
    "Short Explaination as to why I chose these numbers. \n",
    "\n",
    "### EXPLAIN MAX DF\n",
    "### EXPLAIN PARAMETERS"
   ]
  },
  {
   "cell_type": "code",
   "execution_count": 18,
   "metadata": {
    "ExecuteTime": {
     "end_time": "2021-01-25T16:53:12.664241Z",
     "start_time": "2021-01-25T14:51:07.294926Z"
    }
   },
   "outputs": [
    {
     "name": "stdout",
     "output_type": "stream",
     "text": [
      "Fitting 5 folds for each of 72 candidates, totalling 360 fits\n"
     ]
    },
    {
     "name": "stderr",
     "output_type": "stream",
     "text": [
      "[Parallel(n_jobs=1)]: Using backend SequentialBackend with 1 concurrent workers.\n",
      "[Parallel(n_jobs=1)]: Done 360 out of 360 | elapsed: 121.4min finished\n"
     ]
    },
    {
     "name": "stdout",
     "output_type": "stream",
     "text": [
      "Train Score: 0.9519711574824987\n",
      "Test Score: 0.8457377832377833\n"
     ]
    }
   ],
   "source": [
    "gs_cleaned_text = GridSearchCV(pl, cv=5, param_grid = param_grid, scoring = 'accuracy', verbose = True)\n",
    "gs_cleaned_text.fit(X_train, y_train)\n",
    "y_pred = gs_cleaned_text.predict(X_test)\n",
    "\n",
    "print('Train Score:', gs_cleaned_text.score(X_train, y_train))\n",
    "print('Test Score:', gs_cleaned_text.score(X_test, y_test))"
   ]
  },
  {
   "cell_type": "code",
   "execution_count": 19,
   "metadata": {
    "ExecuteTime": {
     "end_time": "2021-01-25T16:53:12.673480Z",
     "start_time": "2021-01-25T16:53:12.665577Z"
    }
   },
   "outputs": [
    {
     "name": "stdout",
     "output_type": "stream",
     "text": [
      "{'classifier': MultinomialNB(), 'sampler': SMOTE(random_state=42), 'vectorizer': TfidfVectorizer(max_df=0.95, min_df=2, ngram_range=(1, 3),\n",
      "                stop_words={'a', 'about', 'above', 'after', 'again', 'against',\n",
      "                            'ain', 'aita', 'all', 'am', 'an', 'and', 'any',\n",
      "                            'are', 'aren', \"aren't\", 'as', 'at', 'be',\n",
      "                            'because', 'been', 'before', 'being', 'below',\n",
      "                            'between', 'both', 'but', 'by', 'can', 'couldn', ...}), 'vectorizer__max_df': 0.95, 'vectorizer__min_df': 2, 'vectorizer__ngram_range': (1, 3)}\n"
     ]
    }
   ],
   "source": [
    "print(gs_cleaned_text.best_params_)"
   ]
  },
  {
   "cell_type": "code",
   "execution_count": 22,
   "metadata": {
    "ExecuteTime": {
     "end_time": "2021-01-25T16:58:51.779782Z",
     "start_time": "2021-01-25T16:58:39.522296Z"
    }
   },
   "outputs": [
    {
     "data": {
      "text/plain": [
       "['gs_cleaned_text.pkl']"
      ]
     },
     "execution_count": 22,
     "metadata": {},
     "output_type": "execute_result"
    }
   ],
   "source": [
    "import joblib\n",
    "joblib.dump(gs_cleaned_text.best_estimator_, 'gs_cleaned_text.pkl')"
   ]
  },
  {
   "cell_type": "markdown",
   "metadata": {},
   "source": [
    "# Modeling on nltk lemmatization"
   ]
  },
  {
   "cell_type": "code",
   "execution_count": null,
   "metadata": {
    "ExecuteTime": {
     "end_time": "2021-01-25T18:42:03.104963Z",
     "start_time": "2021-01-25T18:40:42.257Z"
    }
   },
   "outputs": [],
   "source": [
    "X = final['nltk_lem']\n",
    "y = final['yta']"
   ]
  },
  {
   "cell_type": "code",
   "execution_count": null,
   "metadata": {
    "ExecuteTime": {
     "end_time": "2021-01-25T18:42:03.105602Z",
     "start_time": "2021-01-25T18:40:42.525Z"
    }
   },
   "outputs": [],
   "source": [
    "X_train, X_test, y_train, y_test = train_test_split(X, \n",
    "                                                    y,\n",
    "                                                   test_size = 0.33,\n",
    "                                                   random_state = 42,\n",
    "                                                   stratify = y)"
   ]
  },
  {
   "cell_type": "code",
   "execution_count": null,
   "metadata": {
    "ExecuteTime": {
     "end_time": "2021-01-25T18:42:03.106311Z",
     "start_time": "2021-01-25T18:40:42.877Z"
    },
    "scrolled": true
   },
   "outputs": [],
   "source": [
    "gs_nltk_lem = GridSearchCV(pl, cv=5, param_grid = param_grid, scoring = 'accuracy', verbose = True)\n",
    "gs_nltk_lem.fit(X_train, y_train)\n",
    "y_pred = gs.predict(X_test)\n",
    "\n",
    "print('Train Score:', gs.score(X_train, y_train))\n",
    "print('Test Score:', gs.score(X_test, y_test))"
   ]
  },
  {
   "cell_type": "code",
   "execution_count": null,
   "metadata": {
    "ExecuteTime": {
     "end_time": "2021-01-25T18:42:03.107082Z",
     "start_time": "2021-01-25T18:40:43.193Z"
    },
    "scrolled": true
   },
   "outputs": [],
   "source": [
    "print(gs_nltk_lem.best_params_)"
   ]
  },
  {
   "cell_type": "code",
   "execution_count": null,
   "metadata": {
    "ExecuteTime": {
     "end_time": "2021-01-25T18:42:03.107756Z",
     "start_time": "2021-01-25T18:40:43.513Z"
    }
   },
   "outputs": [],
   "source": [
    "joblib.dump(gs_nltk_lem.best_estimator_, 'gs_nltk_lem.pkl')"
   ]
  },
  {
   "cell_type": "code",
   "execution_count": null,
   "metadata": {
    "ExecuteTime": {
     "end_time": "2021-01-25T18:42:03.108424Z",
     "start_time": "2021-01-25T18:40:43.797Z"
    }
   },
   "outputs": [],
   "source": [
    "#Extracting the features with the highest & lowest coefs for analysing\n",
    "gs_nltk_lem_cvec = gs_nltk_lem.best_estimator_.named_steps['vectorizer']"
   ]
  },
  {
   "cell_type": "code",
   "execution_count": null,
   "metadata": {
    "ExecuteTime": {
     "end_time": "2021-01-25T18:42:03.109017Z",
     "start_time": "2021-01-25T18:40:44.492Z"
    }
   },
   "outputs": [],
   "source": [
    "op_log = gs_nltk_lem.best_estimator_.named_steps['classifier']"
   ]
  },
  {
   "cell_type": "code",
   "execution_count": null,
   "metadata": {},
   "outputs": [],
   "source": []
  },
  {
   "cell_type": "markdown",
   "metadata": {},
   "source": [
    "# Modeling on Spacy Lemmatization"
   ]
  },
  {
   "cell_type": "code",
   "execution_count": null,
   "metadata": {
    "ExecuteTime": {
     "end_time": "2021-01-25T18:42:03.109828Z",
     "start_time": "2021-01-25T18:40:50.481Z"
    }
   },
   "outputs": [],
   "source": [
    "X = final['spacy_lem']\n",
    "y = final['yta']"
   ]
  },
  {
   "cell_type": "code",
   "execution_count": null,
   "metadata": {
    "ExecuteTime": {
     "end_time": "2021-01-25T18:42:03.110528Z",
     "start_time": "2021-01-25T18:40:51.225Z"
    }
   },
   "outputs": [],
   "source": [
    "X_train, X_test, y_train, y_test = train_test_split(X, \n",
    "                                                    y,\n",
    "                                                   test_size = 0.33,\n",
    "                                                   random_state = 42,\n",
    "                                                   stratify = y)"
   ]
  },
  {
   "cell_type": "code",
   "execution_count": null,
   "metadata": {
    "ExecuteTime": {
     "end_time": "2021-01-25T18:42:03.111236Z",
     "start_time": "2021-01-25T18:40:51.537Z"
    },
    "scrolled": true
   },
   "outputs": [],
   "source": [
    "gs_spacy_lem = GridSearchCV(pl, cv=5, param_grid = param_grid, scoring = 'accuracy', verbose = True)\n",
    "gs_spacy_lem.fit(X_train, y_train)\n",
    "y_pred = gs.predict(X_test)\n",
    "\n",
    "print('Train Score:', gs.score(X_train, y_train))\n",
    "print('Test Score:', gs.score(X_test, y_test))"
   ]
  },
  {
   "cell_type": "code",
   "execution_count": null,
   "metadata": {
    "ExecuteTime": {
     "end_time": "2021-01-25T18:42:03.111835Z",
     "start_time": "2021-01-25T18:40:51.877Z"
    },
    "scrolled": true
   },
   "outputs": [],
   "source": [
    "print(gs_spacy_lem.best_params_)"
   ]
  },
  {
   "cell_type": "code",
   "execution_count": null,
   "metadata": {
    "ExecuteTime": {
     "end_time": "2021-01-25T18:42:03.112508Z",
     "start_time": "2021-01-25T18:40:52.239Z"
    }
   },
   "outputs": [],
   "source": [
    "joblib.dump(gs_spacy_lem.best_estimator_, 'gs_spacy_lem.pkl')"
   ]
  },
  {
   "cell_type": "code",
   "execution_count": null,
   "metadata": {},
   "outputs": [],
   "source": []
  },
  {
   "cell_type": "markdown",
   "metadata": {},
   "source": [
    "# LDA Attempt"
   ]
  },
  {
   "cell_type": "code",
   "execution_count": null,
   "metadata": {
    "ExecuteTime": {
     "end_time": "2021-01-25T13:25:41.502241Z",
     "start_time": "2021-01-25T13:25:24.355Z"
    }
   },
   "outputs": [],
   "source": [
    "doc_clean = [i.split() for i in final['cleaned_text']]"
   ]
  },
  {
   "cell_type": "code",
   "execution_count": null,
   "metadata": {
    "ExecuteTime": {
     "end_time": "2021-01-25T13:25:41.502870Z",
     "start_time": "2021-01-25T13:25:24.355Z"
    }
   },
   "outputs": [],
   "source": [
    "from nltk.corpus import stopwords\n",
    "from nltk.stem.wordnet import WordNetLemmatizer\n",
    "import string\n",
    "\n",
    "exclude = set(string.punctuation)\n",
    "lemma = WordNetLemmatizer()\n",
    "def clean(doc):\n",
    "    stop_free = \" \".join([i for i in doc.lower().split() if i not in stop_words])\n",
    "    punc_free = ''.join(ch for ch in stop_free if ch not in exclude)\n",
    "    normalized = \" \".join(lemma.lemmatize(word) for word in punc_free.split())\n",
    "    return normalized\n",
    "\n",
    "doc_clean = [clean(doc).split() for doc in final['comment_text']]    "
   ]
  },
  {
   "cell_type": "code",
   "execution_count": null,
   "metadata": {
    "ExecuteTime": {
     "end_time": "2021-01-25T13:25:41.503553Z",
     "start_time": "2021-01-25T13:25:24.356Z"
    }
   },
   "outputs": [],
   "source": [
    "# Importing Gensim\n",
    "import gensim\n",
    "from gensim import corpora\n",
    "\n",
    "# Creating the term dictionary of our courpus, where every unique term is assigned an index. \n",
    "dictionary = corpora.Dictionary(doc_clean)\n",
    "\n",
    "# Converting list of documents (corpus) into Document Term Matrix using dictionary prepared above.\n",
    "doc_term_matrix = [dictionary.doc2bow(doc) for doc in doc_clean]"
   ]
  },
  {
   "cell_type": "code",
   "execution_count": null,
   "metadata": {
    "ExecuteTime": {
     "end_time": "2021-01-25T13:25:41.504245Z",
     "start_time": "2021-01-25T13:25:24.357Z"
    }
   },
   "outputs": [],
   "source": [
    "# Creating the object for LDA model using gensim library\n",
    "Lda = gensim.models.ldamodel.LdaModel\n",
    "\n",
    "# Running and Trainign LDA model on the document term matrix.\n",
    "ldamodel = Lda(doc_term_matrix, num_topics=10, id2word = dictionary)"
   ]
  },
  {
   "cell_type": "code",
   "execution_count": null,
   "metadata": {
    "ExecuteTime": {
     "end_time": "2021-01-25T13:25:41.505118Z",
     "start_time": "2021-01-25T13:25:24.358Z"
    }
   },
   "outputs": [],
   "source": [
    "print(ldamodel.print_topics(num_topics=3, num_words=3))"
   ]
  },
  {
   "cell_type": "code",
   "execution_count": null,
   "metadata": {
    "ExecuteTime": {
     "end_time": "2021-01-25T13:25:41.505813Z",
     "start_time": "2021-01-25T13:25:24.359Z"
    }
   },
   "outputs": [],
   "source": [
    "print(ldamodel.print_topics(num_topics=5000, num_words=20))"
   ]
  },
  {
   "cell_type": "markdown",
   "metadata": {},
   "source": [
    "NLTK LEM LDA"
   ]
  },
  {
   "cell_type": "code",
   "execution_count": null,
   "metadata": {
    "ExecuteTime": {
     "end_time": "2021-01-25T13:25:41.506582Z",
     "start_time": "2021-01-25T13:25:24.359Z"
    }
   },
   "outputs": [],
   "source": [
    "doc_nltk = [i.split() for i in final['nltk_lem']]"
   ]
  },
  {
   "cell_type": "code",
   "execution_count": null,
   "metadata": {
    "ExecuteTime": {
     "end_time": "2021-01-25T13:25:41.507190Z",
     "start_time": "2021-01-25T13:25:24.360Z"
    }
   },
   "outputs": [],
   "source": [
    "# Creating the term dictionary of our courpus, where every unique term is assigned an index. \n",
    "dictionary_nltk = corpora.Dictionary(doc_nltk)\n",
    "\n",
    "# Converting list of documents (corpus) into Document Term Matrix using dictionary prepared above.\n",
    "doc_term_matrix_nltk = [dictionary_nltk.doc2bow(doc) for doc in doc_nltk]"
   ]
  },
  {
   "cell_type": "code",
   "execution_count": null,
   "metadata": {
    "ExecuteTime": {
     "end_time": "2021-01-25T13:25:41.507911Z",
     "start_time": "2021-01-25T13:25:24.360Z"
    }
   },
   "outputs": [],
   "source": [
    "# Creating the object for LDA model using gensim library\n",
    "Lda = gensim.models.ldamodel.LdaModel\n",
    "\n",
    "# Running and Trainign LDA model on the document term matrix.\n",
    "ldamodel_nltk = Lda(doc_term_matrix_nltk, num_topics=3, id2word = dictionary_nltk, passes= 50)"
   ]
  },
  {
   "cell_type": "markdown",
   "metadata": {},
   "source": [
    "# LDA 2"
   ]
  },
  {
   "cell_type": "code",
   "execution_count": 10,
   "metadata": {
    "ExecuteTime": {
     "end_time": "2021-01-25T17:48:51.019228Z",
     "start_time": "2021-01-25T17:48:50.902162Z"
    }
   },
   "outputs": [],
   "source": [
    "# Importing Gensim\n",
    "import gensim\n",
    "from gensim import corpora"
   ]
  },
  {
   "cell_type": "code",
   "execution_count": 11,
   "metadata": {
    "ExecuteTime": {
     "end_time": "2021-01-25T17:48:57.302399Z",
     "start_time": "2021-01-25T17:48:51.400709Z"
    }
   },
   "outputs": [],
   "source": [
    "# Convert to list\n",
    "data = final.comment_text.values.tolist()\n",
    "\n",
    "# Remove Emails\n",
    "data = [re.sub('\\S*@\\S*\\s?', '', sent) for sent in data]\n",
    "\n",
    "# Remove new line characters\n",
    "data = [re.sub('\\s+', ' ', sent) for sent in data]\n",
    "\n",
    "# Remove distracting single quotes\n",
    "data = [re.sub(\"\\'\", \"\", sent) for sent in data]"
   ]
  },
  {
   "cell_type": "code",
   "execution_count": 12,
   "metadata": {
    "ExecuteTime": {
     "end_time": "2021-01-25T17:49:16.923392Z",
     "start_time": "2021-01-25T17:48:57.303652Z"
    }
   },
   "outputs": [],
   "source": [
    "def sent_to_words(sentences):\n",
    "    for sentence in sentences:\n",
    "        yield(gensim.utils.simple_preprocess(str(sentence), deacc=True)) #Deacc true to remove punctuations\n",
    "data_words = list(sent_to_words(data))"
   ]
  },
  {
   "cell_type": "code",
   "execution_count": 13,
   "metadata": {
    "ExecuteTime": {
     "end_time": "2021-01-25T17:50:21.217443Z",
     "start_time": "2021-01-25T17:49:16.924840Z"
    }
   },
   "outputs": [],
   "source": [
    "# Build the bigram and trigram models\n",
    "bigram = gensim.models.Phrases(data_words, min_count=5, threshold=100) # higher threshold fewer phrases.\n",
    "trigram = gensim.models.Phrases(bigram[data_words], threshold=100)  \n",
    "\n",
    "# Faster way to get a sentence clubbed as a trigram/bigram\n",
    "bigram_mod = gensim.models.phrases.Phraser(bigram)\n",
    "trigram_mod = gensim.models.phrases.Phraser(trigram)"
   ]
  },
  {
   "cell_type": "code",
   "execution_count": 14,
   "metadata": {
    "ExecuteTime": {
     "end_time": "2021-01-25T17:50:21.221925Z",
     "start_time": "2021-01-25T17:50:21.218748Z"
    }
   },
   "outputs": [],
   "source": [
    "# Define functions for stopwords, bigrams, trigrams and lemmatization\n",
    "def remove_stopwords(texts):\n",
    "    return [[word for word in simple_preprocess(str(doc)) if word not in stop_words] for doc in texts]\n",
    "\n",
    "def make_bigrams(texts):\n",
    "    return [bigram_mod[doc] for doc in texts]\n",
    "\n",
    "def make_trigrams(texts):\n",
    "    return [trigram_mod[bigram_mod[doc]] for doc in texts]\n",
    "\n",
    "def lemmatization(texts, allowed_postags=['NOUN', 'ADJ', 'VERB', 'ADV']):\n",
    "    \"\"\"https://spacy.io/api/annotation\"\"\"\n",
    "    texts_out = []\n",
    "    for sent in texts:\n",
    "        doc = nlp(\" \".join(sent)) \n",
    "        texts_out.append([token.lemma_ for token in doc if token.pos_ in allowed_postags])\n",
    "    return texts_out"
   ]
  },
  {
   "cell_type": "code",
   "execution_count": 20,
   "metadata": {
    "ExecuteTime": {
     "end_time": "2021-01-25T17:58:14.110739Z",
     "start_time": "2021-01-25T17:52:37.793170Z"
    }
   },
   "outputs": [],
   "source": [
    "# Remove Stop Words\n",
    "data_words_nostops = remove_stopwords(data_words)\n",
    "\n",
    "# Form Bigrams\n",
    "data_words_bigrams = make_bigrams(data_words_nostops)\n",
    "\n",
    "# Initialize spacy 'en' model, keeping only tagger component (for efficiency)\n",
    "# python3 -m spacy download en\n",
    "nlp = en_core_web_sm.load(disable=['parser', 'ner'])\n",
    "\n",
    "# Do lemmatization keeping only noun, adj, vb, adv\n",
    "data_lemmatized = lemmatization(data_words_bigrams, allowed_postags=['NOUN', 'ADJ', 'VERB', 'ADV'])"
   ]
  },
  {
   "cell_type": "code",
   "execution_count": 21,
   "metadata": {
    "ExecuteTime": {
     "end_time": "2021-01-25T17:58:20.250452Z",
     "start_time": "2021-01-25T17:58:14.112036Z"
    }
   },
   "outputs": [],
   "source": [
    "# Instantiating dictionary, defining corpus, term frequency\n",
    "# Create Dictionary\n",
    "id2word = corpora.Dictionary(data_lemmatized)\n",
    "\n",
    "# Create Corpus\n",
    "texts = data_lemmatized\n",
    "\n",
    "# Term Document Frequency\n",
    "corpus = [id2word.doc2bow(text) for text in texts]"
   ]
  },
  {
   "cell_type": "code",
   "execution_count": 22,
   "metadata": {
    "ExecuteTime": {
     "end_time": "2021-01-25T18:21:51.811936Z",
     "start_time": "2021-01-25T17:58:20.252000Z"
    }
   },
   "outputs": [],
   "source": [
    "# Build LDA model\n",
    "lda_model = gensim.models.ldamodel.LdaModel(corpus=corpus,\n",
    "                                           id2word=id2word,\n",
    "                                           num_topics=50, # number of topics\n",
    "                                           random_state=42,\n",
    "                                           update_every=1, # update model for each 'chunk'\n",
    "                                           chunksize=100, # number of documents to consider at once\n",
    "                                           passes=10, # epochs\n",
    "                                           alpha='auto',\n",
    "                                           per_word_topics=True)"
   ]
  },
  {
   "cell_type": "code",
   "execution_count": 24,
   "metadata": {
    "ExecuteTime": {
     "end_time": "2021-01-25T18:40:30.278123Z",
     "start_time": "2021-01-25T18:40:30.260981Z"
    }
   },
   "outputs": [
    {
     "name": "stdout",
     "output_type": "stream",
     "text": [
      "[(35, '0.000*\"severu\" + 0.000*\"ashole\" + 0.000*\"dolar\" + 0.000*\"eke\" + 0.000*\"ballist\" + 0.000*\"ebony\" + 0.000*\"callum\" + 0.000*\"bummer\" + 0.000*\"hermione\" + 0.000*\"lastname\"'), (2, '0.000*\"severu\" + 0.000*\"ashole\" + 0.000*\"dolar\" + 0.000*\"eke\" + 0.000*\"ballist\" + 0.000*\"ebony\" + 0.000*\"callum\" + 0.000*\"bummer\" + 0.000*\"hermione\" + 0.000*\"lastname\"'), (15, '0.336*\"send\" + 0.326*\"hear\" + 0.176*\"ignore\" + 0.078*\"history\" + 0.023*\"award\" + 0.000*\"lastname\" + 0.000*\"callum\" + 0.000*\"severu\" + 0.000*\"ashole\" + 0.000*\"rowling\"'), (17, '0.394*\"great\" + 0.237*\"likely\" + 0.108*\"regardless\" + 0.052*\"specific\" + 0.040*\"topic\" + 0.036*\"conflict\" + 0.031*\"slightly\" + 0.025*\"hot\" + 0.015*\"stance\" + 0.000*\"callum\"'), (21, '0.374*\"place\" + 0.292*\"definitely\" + 0.174*\"experience\" + 0.091*\"sort\" + 0.033*\"ton\" + 0.000*\"ebony\" + 0.000*\"callum\" + 0.000*\"severu\" + 0.000*\"ashole\" + 0.000*\"rowling\"'), (11, '0.487*\"person\" + 0.213*\"selfish\" + 0.100*\"course\" + 0.071*\"incredibly\" + 0.057*\"financially\" + 0.042*\"contribute\" + 0.000*\"lastname\" + 0.000*\"ebony\" + 0.000*\"callum\" + 0.000*\"severu\"'), (20, '0.322*\"else\" + 0.158*\"last\" + 0.117*\"conversation\" + 0.090*\"enjoy\" + 0.069*\"attention\" + 0.049*\"affect\" + 0.039*\"aware\" + 0.032*\"detail\" + 0.025*\"respectful\" + 0.024*\"heal\"'), (26, '0.289*\"responsibility\" + 0.105*\"pass\" + 0.100*\"literally\" + 0.072*\"report\" + 0.045*\"level\" + 0.043*\"list\" + 0.035*\"tough\" + 0.034*\"focus\" + 0.029*\"short\" + 0.027*\"obvious\"'), (23, '0.232*\"show\" + 0.184*\"fact\" + 0.140*\"cause\" + 0.115*\"upset\" + 0.064*\"boss\" + 0.053*\"interest\" + 0.038*\"non\" + 0.034*\"standard\" + 0.031*\"disrespectful\" + 0.028*\"potentially\"'), (28, '0.420*\"talk\" + 0.179*\"decide\" + 0.085*\"chance\" + 0.084*\"assume\" + 0.077*\"refuse\" + 0.065*\"worry\" + 0.030*\"yet\" + 0.028*\"shut\" + 0.007*\"deserved\" + 0.000*\"callum\"'), (43, '0.335*\"life\" + 0.142*\"understand\" + 0.119*\"love\" + 0.118*\"wrong\" + 0.115*\"support\" + 0.047*\"cut\" + 0.024*\"basically\" + 0.021*\"entire\" + 0.020*\"actual\" + 0.018*\"damn\"'), (36, '0.372*\"tell\" + 0.184*\"home\" + 0.099*\"house\" + 0.076*\"end\" + 0.056*\"business\" + 0.043*\"share\" + 0.043*\"weird\" + 0.035*\"personal\" + 0.017*\"perfect\" + 0.015*\"truth\"'), (19, '0.320*\"good\" + 0.164*\"wife\" + 0.111*\"first\" + 0.110*\"mean\" + 0.081*\"spend\" + 0.061*\"normal\" + 0.047*\"close\" + 0.044*\"luck\" + 0.020*\"form\" + 0.018*\"due\"'), (32, '0.163*\"sister\" + 0.151*\"day\" + 0.115*\"move\" + 0.082*\"young\" + 0.062*\"abuse\" + 0.062*\"play\" + 0.043*\"run\" + 0.040*\"possible\" + 0.033*\"watch\" + 0.031*\"excuse\"'), (12, '0.310*\"parent\" + 0.251*\"child\" + 0.198*\"mother\" + 0.092*\"son\" + 0.024*\"rest\" + 0.022*\"healthy\" + 0.016*\"guess\" + 0.015*\"teach\" + 0.014*\"depend\" + 0.012*\"birth\"'), (6, '0.352*\"say\" + 0.206*\"way\" + 0.198*\"give\" + 0.058*\"absolutely\" + 0.047*\"other\" + 0.035*\"speak\" + 0.027*\"handle\" + 0.022*\"follow\" + 0.020*\"awful\" + 0.014*\"legal\"'), (47, '0.333*\"be\" + 0.261*\"s\" + 0.106*\"can\" + 0.070*\"have\" + 0.045*\"kind\" + 0.037*\"should\" + 0.035*\"one\" + 0.015*\"owe\" + 0.014*\"there\" + 0.014*\"space\"'), (30, '0.115*\"year\" + 0.109*\"live\" + 0.103*\"old\" + 0.097*\"money\" + 0.066*\"baby\" + 0.062*\"lot\" + 0.053*\"happen\" + 0.041*\"plan\" + 0.036*\"stuff\" + 0.031*\"next\"'), (13, '0.417*\"would\" + 0.232*\"know\" + 0.117*\"never\" + 0.101*\"still\" + 0.041*\"set\" + 0.027*\"obviously\" + 0.026*\"idea\" + 0.015*\"stick\" + 0.005*\"shed\" + 0.005*\"hole\"'), (41, '0.109*\"go\" + 0.088*\"make\" + 0.083*\"want\" + 0.076*\"get\" + 0.071*\"take\" + 0.069*\"time\" + 0.050*\"work\" + 0.050*\"thing\" + 0.047*\"even\" + 0.041*\"also\"')]\n"
     ]
    }
   ],
   "source": [
    "# Print the Keyword in the 10 topics\n",
    "print(lda_model.print_topics())\n",
    "doc_lda = lda_model[corpus]"
   ]
  },
  {
   "cell_type": "code",
   "execution_count": 25,
   "metadata": {
    "ExecuteTime": {
     "end_time": "2021-01-25T18:41:46.678859Z",
     "start_time": "2021-01-25T18:40:31.176732Z"
    }
   },
   "outputs": [
    {
     "name": "stdout",
     "output_type": "stream",
     "text": [
      "\n",
      "Perplexity:  -22.561451161911467\n",
      "\n",
      "Coherence Score:  0.38916712818692806\n"
     ]
    }
   ],
   "source": [
    "# Compute Perplexity\n",
    "print('\\nPerplexity: ', lda_model.log_perplexity(corpus))  # a measure of how good the model is. lower the better.\n",
    "\n",
    "# Compute Coherence Score\n",
    "coherence_model_lda = CoherenceModel(model=lda_model, texts=data_lemmatized, dictionary=id2word, coherence='c_v')\n",
    "coherence_lda = coherence_model_lda.get_coherence()\n",
    "print('\\nCoherence Score: ', coherence_lda)"
   ]
  },
  {
   "cell_type": "code",
   "execution_count": 26,
   "metadata": {
    "ExecuteTime": {
     "end_time": "2021-01-25T18:42:03.079269Z",
     "start_time": "2021-01-25T18:41:46.680221Z"
    }
   },
   "outputs": [
    {
     "data": {
      "text/html": [
       "\n",
       "<link rel=\"stylesheet\" type=\"text/css\" href=\"https://cdn.rawgit.com/bmabey/pyLDAvis/files/ldavis.v1.0.0.css\">\n",
       "\n",
       "\n",
       "<div id=\"ldavis_el6191404154455074247506969645\"></div>\n",
       "<script type=\"text/javascript\">\n",
       "\n",
       "var ldavis_el6191404154455074247506969645_data = {\"mdsDat\": {\"x\": [-0.10578583168030588, -0.07757728906926224, -0.07215528908153704, -0.07534362952228278, -0.06809568324116648, -0.07323167556731458, -0.05647219391793314, -0.061161607286062764, -0.049811511543762836, -0.05523956202871872, -0.056372904450366114, -0.040240251953819736, -0.03651609062894624, -0.047592620398548, -0.03918982842330516, -0.04080431415569637, -0.033088958051705766, -0.027976329978714416, -0.026149927155034586, -0.03607273629868392, -0.03314660566336458, -0.03201434821126371, -0.031304733855459364, -0.032237384498991016, -0.021781239544461116, -0.032419461157520923, -0.03143696085651765, -0.030632184842838805, -0.020589933155406543, -0.002905368319957631, 0.00872663405303304, 0.0005618104267521239, -0.008846129748757217, -0.011165690883039292, -0.007822662745489392, -0.0078371429006159, 0.006982636758519167, 0.021705437423663425, 0.007583238890399806, 0.01579962801627617, 0.029859869927529314, 0.0237904141615429, 0.009392839274034597, 0.056141353619130654, 0.048179896097871086, 0.07031934465953825, 0.15186374218031815, 0.1503539854982658, 0.3908786249149912, 0.39087862491499165], \"y\": [-0.47169143410082875, -0.0028556637738971036, -0.03556076086391715, -0.011166109669014688, 0.012991289413895862, 0.0022797252623061332, 0.006376433674989032, 0.019979487217328052, 0.022108285083406877, 0.02061344212851476, 0.027708045236142464, 0.01953120848116191, 0.009281614825339101, 0.023951275017789795, 0.023908761184705994, 0.020979996817846146, 0.024293145225132116, 0.018264183473858817, 0.012708689325903971, 0.026947914334390737, 0.024803752710940163, 0.02848832562358016, 0.01931775710966967, 0.020377115075066104, 0.018330295880969974, 0.0176628854241008, 0.02603706683633415, 0.016324257690873544, 0.021336920363942306, 0.01317816856536082, 0.012222767249805519, 0.016111120875343197, 0.017628824966006335, 0.018099512365343427, 0.016747544987211847, 0.01994171623505355, 0.013117709182862657, 0.006923968078963075, 0.013465981029425348, 0.008189960133730573, 0.00357263836646819, 0.007094028032660209, 0.00849928577422341, -0.0052301622782731025, -0.0012956571519608545, -0.008622009968931832, -0.029655997303614068, -0.02907071870719056, -0.032123292721511154, -0.032123292721511036], \"topics\": [1, 2, 3, 4, 5, 6, 7, 8, 9, 10, 11, 12, 13, 14, 15, 16, 17, 18, 19, 20, 21, 22, 23, 24, 25, 26, 27, 28, 29, 30, 31, 32, 33, 34, 35, 36, 37, 38, 39, 40, 41, 42, 43, 44, 45, 46, 47, 48, 49, 50], \"cluster\": [1, 1, 1, 1, 1, 1, 1, 1, 1, 1, 1, 1, 1, 1, 1, 1, 1, 1, 1, 1, 1, 1, 1, 1, 1, 1, 1, 1, 1, 1, 1, 1, 1, 1, 1, 1, 1, 1, 1, 1, 1, 1, 1, 1, 1, 1, 1, 1, 1, 1], \"Freq\": [16.656460798624508, 4.1005126390241795, 4.087164870665323, 3.9249695766414088, 3.4086205825728126, 3.2540512043767844, 2.800530117538701, 2.568290927707904, 2.3201667313185665, 2.2654804159701527, 2.200416454189793, 2.1619476844483376, 2.135522203414382, 2.0297694004392066, 1.983313649258174, 1.9096634158864645, 1.8733051871799289, 1.8557496231639825, 1.8118506125583098, 1.803041736447594, 1.7892369274425155, 1.7714450368080468, 1.713670496167247, 1.6811442857248227, 1.6606653971571201, 1.6518542821491387, 1.6388885238866564, 1.5900094411569672, 1.5880264278378102, 1.4449766963862403, 1.4027788566666146, 1.3802813504127502, 1.3721702328951926, 1.3217817658325266, 1.314827987900499, 1.3051052711162132, 1.2516960551843095, 1.1543930220994874, 1.0884844444072819, 1.0286949439182471, 0.9588459916463544, 0.9513276150983524, 0.9126266221591378, 0.7953018714733531, 0.6840804115387332, 0.655182201766523, 0.4174958664177399, 0.3149668407223616, 0.004611944254900865, 0.004601358346344462]}, \"tinfo\": {\"Term\": [\"would\", \"need\", \"be\", \"people\", \"say\", \"family\", \"kid\", \"think\", \"parent\", \"s\", \"tell\", \"go\", \"mom\", \"know\", \"good\", \"friend\", \"help\", \"life\", \"could\", \"child\", \"make\", \"let\", \"want\", \"well\", \"sound\", \"ask\", \"way\", \"give\", \"get\", \"really\", \"go\", \"make\", \"want\", \"get\", \"take\", \"time\", \"work\", \"thing\", \"even\", \"also\", \"feel\", \"try\", \"may\", \"job\", \"see\", \"bad\", \"relationship\", \"seem\", \"actually\", \"do\", \"different\", \"whole\", \"mind\", \"totally\", \"provide\", \"stress\", \"blame\", \"angry\", \"therapist\", \"anger\", \"would\", \"know\", \"never\", \"still\", \"set\", \"obviously\", \"idea\", \"stick\", \"shed\", \"hole\", \"test\", \"inform\", \"reveal\", \"snakediscovery\", \"impeccable\", \"defang\", \"snark\", \"socialized\", \"untrained\", \"backfired\", \"terrarium\", \"furball\", \"straws\", \"whooole\", \"hamster\", \"lizards\", \"gradually\", \"hiss\", \"housecat\", \"bandaid\", \"pictures\", \"regime\", \"tufts\", \"haircut\", \"autumn\", \"buuuut\", \"bald\", \"climbing\", \"stardancer\", \"aimlessly\", \"mush\", \"amie\", \"blacksmith\", \"salon\", \"disproving\", \"withstand\", \"torn\", \"year\", \"live\", \"old\", \"money\", \"baby\", \"lot\", \"happen\", \"plan\", \"stuff\", \"next\", \"line\", \"figure\", \"option\", \"dress\", \"wear\", \"edit\", \"consequence\", \"amount\", \"private\", \"low\", \"earn\", \"lawyer\", \"store\", \"coworker\", \"police\", \"shirt\", \"meeting\", \"victim\", \"innocent\", \"generally\", \"be\", \"s\", \"can\", \"have\", \"kind\", \"should\", \"one\", \"owe\", \"there\", \"space\", \"number\", \"unfortunately\", \"suffer\", \"environment\", \"annoying\", \"offend\", \"badly\", \"everyday\", \"reminder\", \"transition\", \"limited\", \"backfired\", \"terrarium\", \"defang\", \"untrained\", \"socialized\", \"litter_box\", \"furball\", \"toxoplasmosis\", \"hamster\", \"climbing\", \"buuuut\", \"autumn\", \"paraphrase\", \"tufts\", \"regime\", \"haircut\", \"bald\", \"shaving\", \"say\", \"way\", \"give\", \"absolutely\", \"other\", \"speak\", \"handle\", \"follow\", \"awful\", \"legal\", \"differently\", \"female\", \"fuss\", \"hamster\", \"impeccable\", \"furball\", \"terrarium\", \"bandaid\", \"backfired\", \"effortlessly\", \"toxoplasmosis\", \"barn\", \"mindfully\", \"simeone\", \"thinknit\", \"iron\", \"petting_zoo\", \"hiss\", \"snakediscovery\", \"socialized\", \"stardancer\", \"autumn\", \"buuuut\", \"tufts\", \"regime\", \"pictures\", \"haircut\", \"bald\", \"climbing\", \"amie\", \"aimlessly\", \"blacksmith\", \"mush\", \"disproving\", \"withstand\", \"torn\", \"dragonsblood\", \"parent\", \"child\", \"mother\", \"son\", \"rest\", \"healthy\", \"guess\", \"teach\", \"depend\", \"birth\", \"parenting\", \"married\", \"harsh\", \"bond\", \"overreact\", \"furball\", \"effortlessly\", \"bandaid\", \"impeccable\", \"hamster\", \"snark\", \"housecat\", \"barn\", \"terrarium\", \"backfired\", \"bandage\", \"untrained\", \"socialized\", \"toxoplasmosis\", \"iron\", \"unclean\", \"wanker\", \"aimlessly\", \"amie\", \"eyelash\", \"blacksmith\", \"blinder\", \"mush\", \"bulldozer\", \"disproving\", \"withstand\", \"torn\", \"dragonsblood\", \"fabulously\", \"fictional\", \"sister\", \"day\", \"move\", \"young\", \"abuse\", \"play\", \"run\", \"possible\", \"watch\", \"excuse\", \"side\", \"seriously\", \"advice\", \"moment\", \"write\", \"stupid\", \"bother\", \"teen\", \"certain\", \"secret\", \"vacation\", \"lean\", \"road\", \"internet\", \"reduce\", \"majority\", \"pre\", \"naive\", \"heavily\", \"undermine\", \"good\", \"wife\", \"first\", \"mean\", \"spend\", \"normal\", \"close\", \"luck\", \"form\", \"due\", \"several\", \"prefer\", \"toxoplasmosis\", \"handleable\", \"bacitracin\", \"grizzly\", \"untrained\", \"backfired\", \"terrarium\", \"furball\", \"hamster\", \"impeccable\", \"bandaid\", \"bandage\", \"effortlessly\", \"lizards\", \"gradually\", \"mindfully\", \"iron\", \"petting_zoo\", \"pictures\", \"regime\", \"tufts\", \"autumn\", \"mush\", \"haircut\", \"bald\", \"climbing\", \"stardancer\", \"aimlessly\", \"shaving\", \"amie\", \"blacksmith\", \"buuuut\", \"biz\", \"disproving\", \"salon\", \"torn\", \"tell\", \"home\", \"house\", \"end\", \"business\", \"share\", \"weird\", \"personal\", \"perfect\", \"truth\", \"regret\", \"comfort\", \"disabled\", \"busy\", \"danger\", \"roll\", \"toxoplasmosis\", \"effortlessly\", \"iron\", \"bandaid\", \"impeccable\", \"hamster\", \"barn\", \"mindfully\", \"thinknit\", \"petting_zoo\", \"hiss\", \"snakediscovery\", \"terrarium\", \"ypu\", \"disproving\", \"blacksmith\", \"mush\", \"simeone\", \"amie\", \"torn\", \"aimlessly\", \"stardancer\", \"withstand\", \"paraphrase\", \"dragonsblood\", \"fabulously\", \"fictional\", \"flamboyant\", \"life\", \"understand\", \"love\", \"wrong\", \"support\", \"cut\", \"basically\", \"entire\", \"actual\", \"damn\", \"role\", \"replace\", \"hurtful\", \"invalidate\", \"annoyed\", \"massively\", \"effortlessly\", \"terrarium\", \"backfired\", \"untrained\", \"socialized\", \"defang\", \"hamster\", \"impeccable\", \"bandaid\", \"furball\", \"simeone\", \"toxoplasmosis\", \"barn\", \"mindfully\", \"autumn\", \"stardancer\", \"climbing\", \"buuuut\", \"regime\", \"tufts\", \"amie\", \"intellect\", \"pictures\", \"haircut\", \"bald\", \"acid\", \"aimlessly\", \"mush\", \"need\", \"help\", \"raise\", \"therapy\", \"appreciate\", \"split\", \"insecurity\", \"competition\", \"snark\", \"bandage\", \"untrained\", \"backfired\", \"terrarium\", \"furball\", \"hamster\", \"impeccable\", \"bandaid\", \"effortlessly\", \"toxoplasmosis\", \"barn\", \"mindfully\", \"iron\", \"petting_zoo\", \"handleable\", \"bacitracin\", \"hiss\", \"snakediscovery\", \"defang\", \"grizzly\", \"thinknit\", \"shaving\", \"bald\", \"aimlessly\", \"pictures\", \"salon\", \"regime\", \"tufts\", \"matts\", \"autumn\", \"buuuut\", \"climbing\", \"stardancer\", \"haircut\", \"simeone\", \"amie\", \"flamboyant\", \"intellect\", \"sanctity\", \"shayalise\", \"psh\", \"paraphrase\", \"heroic\", \"think\", \"choice\", \"grow\", \"bit\", \"alone\", \"suppose\", \"financial\", \"straight\", \"bear\", \"fight\", \"disability\", \"early\", \"sign\", \"react\", \"admit\", \"thinking\", \"own\", \"impossible\", \"win\", \"smile\", \"quality\", \"ignorant\", \"effortlessly\", \"backfired\", \"straws\", \"terrarium\", \"furball\", \"whooole\", \"hamster\", \"impeccable\", \"unclean\", \"fabulously\", \"dragonsblood\", \"reconise\", \"fictional\", \"withstand\", \"disproving\", \"torn\", \"right\", \"free\", \"apologize\", \"story\", \"rather\", \"lie\", \"usually\", \"party\", \"none\", \"struggle\", \"body\", \"complain\", \"anyway\", \"perhaps\", \"top\", \"mistake\", \"cool\", \"reality\", \"workplace\", \"burn\", \"realise\", \"recently\", \"defend\", \"reddit\", \"secure\", \"discipline\", \"learning\", \"unfortunate\", \"accidentally\", \"disagree\", \"care\", \"use\", \"leave\", \"long\", \"fine\", \"partner\", \"abusive\", \"process\", \"certainly\", \"properly\", \"precious\", \"pathetic\", \"mark\", \"outright\", \"appearance\", \"gradually\", \"snark\", \"straws\", \"impeccable\", \"hamster\", \"bandage\", \"grizzly\", \"furball\", \"terrarium\", \"bandaid\", \"toxoplasmosis\", \"effortlessly\", \"housecat\", \"barn\", \"backfired\", \"autumn\", \"haircut\", \"tufts\", \"aimlessly\", \"stardancer\", \"pictures\", \"blacksmith\", \"climbing\", \"regime\", \"buuuut\", \"amie\", \"simeone\", \"shaving\", \"mush\", \"disproving\", \"well\", \"back\", \"problem\", \"die\", \"comment\", \"treat\", \"bathroom\", \"fix\", \"class\", \"teacher\", \"sub\", \"normally\", \"bedroom\", \"resolve\", \"bone\", \"grizzly\", \"effortlessly\", \"bandaid\", \"impeccable\", \"hamster\", \"backfired\", \"furball\", \"terrarium\", \"toxoplasmosis\", \"handleable\", \"bacitracin\", \"barn\", \"bandage\", \"mindfully\", \"iron\", \"fabulously\", \"stardancer\", \"aimlessly\", \"amie\", \"blacksmith\", \"mush\", \"disproving\", \"withstand\", \"eccentric\", \"torn\", \"dragonsblood\", \"flamboyant\", \"fictional\", \"offence\", \"heroic\", \"family\", \"already\", \"big\", \"turn\", \"member\", \"picture\", \"couple\", \"benefit\", \"damage\", \"apart\", \"relative\", \"tear\", \"mature\", \"repair\", \"immature\", \"wise\", \"technically\", \"spite\", \"absence\", \"highlight\", \"inheritance\", \"snakediscovery\", \"bandaid\", \"litter_box\", \"defang\", \"housecat\", \"socialized\", \"untrained\", \"backfired\", \"terrarium\", \"torn\", \"climbing\", \"bald\", \"haircut\", \"pictures\", \"regime\", \"arena\", \"tufts\", \"acid\", \"call\", \"situation\", \"point\", \"respect\", \"behavior\", \"clearly\", \"reasonable\", \"fire\", \"marry\", \"sense\", \"human\", \"emergency\", \"disappointed\", \"barn\", \"toxoplasmosis\", \"effortlessly\", \"simeone\", \"bandaid\", \"mindfully\", \"hamster\", \"furball\", \"terrarium\", \"backfired\", \"impeccable\", \"petting_zoo\", \"iron\", \"socialized\", \"hiss\", \"snakediscovery\", \"thinknit\", \"climbing\", \"stardancer\", \"amie\", \"buuuut\", \"autumn\", \"tufts\", \"regime\", \"aimlessly\", \"mush\", \"blacksmith\", \"haircut\", \"disproving\", \"withstand\", \"torn\", \"dragonsblood\", \"fabulously\", \"find\", \"force\", \"hope\", \"new\", \"happy\", \"responsible\", \"stand\", \"soon\", \"extra\", \"half\", \"cruel\", \"truly\", \"forever\", \"quit\", \"circumstance\", \"seek\", \"energy\", \"insist\", \"screw\", \"interested\", \"power\", \"team\", \"breaking\", \"furball\", \"terrarium\", \"hamster\", \"effortlessly\", \"backfired\", \"untrained\", \"impeccable\", \"heroic\", \"acid\", \"aimlessly\", \"amie\", \"blacksmith\", \"likr\", \"offence\", \"ever\", \"fuck\", \"girl\", \"matter\", \"fault\", \"wish\", \"believe\", \"include\", \"concern\", \"marriage\", \"thought\", \"discuss\", \"notice\", \"quite\", \"spouse\", \"divorce\", \"area\", \"feed\", \"remove\", \"result\", \"general\", \"emotionally\", \"separate\", \"catch\", \"carry\", \"exclude\", \"going\", \"fake\", \"occur\", \"relevant\", \"people\", \"d\", \"always\", \"pretty\", \"mention\", \"boy\", \"judgement\", \"cute\", \"shock\", \"instance\", \"hamster\", \"petting_zoo\", \"furball\", \"impeccable\", \"bandaid\", \"terrarium\", \"backfired\", \"untrained\", \"effortlessly\", \"toxoplasmosis\", \"barn\", \"mindfully\", \"iron\", \"poo\", \"hiss\", \"snakediscovery\", \"thinknit\", \"ypu\", \"defang\", \"housecat\", \"pictures\", \"haircut\", \"climbing\", \"regime\", \"tufts\", \"bald\", \"shaving\", \"autumn\", \"salon\", \"buuuut\", \"amie\", \"stardancer\", \"aimlessly\", \"blacksmith\", \"mush\", \"disproving\", \"withstand\", \"torn\", \"dragonsblood\", \"fabulously\", \"could\", \"op\", \"stop\", \"break\", \"state\", \"judge\", \"shame\", \"country\", \"plenty\", \"welcome\", \"equal\", \"unsafe\", \"commenter\", \"impeccable\", \"backfired\", \"hamster\", \"furball\", \"terrarium\", \"untrained\", \"bandaid\", \"simeone\", \"socialized\", \"poo\", \"bandage\", \"snark\", \"straws\", \"whooole\", \"lizards\", \"gradually\", \"housecat\", \"amie\", \"blacksmith\", \"aimlessly\", \"mush\", \"stardancer\", \"disproving\", \"climbing\", \"soundly\", \"buuuut\", \"autumn\", \"withstand\", \"aaaand\", \"torn\", \"regime\", \"dragonsblood\", \"separation_anxiety\", \"fabulously\", \"sound\", \"keep\", \"sure\", \"choose\", \"control\", \"backfired\", \"terrarium\", \"furball\", \"hamster\", \"impeccable\", \"bandaid\", \"effortlessly\", \"toxoplasmosis\", \"barn\", \"mindfully\", \"iron\", \"petting_zoo\", \"simeone\", \"hiss\", \"socialized\", \"snakediscovery\", \"thinknit\", \"ypu\", \"poo\", \"housecat\", \"gradually\", \"lizards\", \"whooole\", \"straws\", \"snark\", \"matts\", \"salon\", \"shaving\", \"bald\", \"haircut\", \"aimlessly\", \"pictures\", \"regime\", \"tufts\", \"coon\", \"autumn\", \"buuuut\", \"climbing\", \"stardancer\", \"amie\", \"barber\", \"blacksmith\", \"mush\", \"disproving\", \"withstand\", \"torn\", \"dragonsblood\", \"fabulously\", \"fictional\", \"ask\", \"stay\", \"question\", \"agree\", \"small\", \"hand\", \"guest\", \"safe\", \"answer\", \"fiance\", \"pressure\", \"pandemic\", \"encourage\", \"manipulate\", \"past\", \"btw\", \"proper\", \"engage\", \"interesting\", \"nonsense\", \"manipulation\", \"gather\", \"terrarium\", \"whooole\", \"lizards\", \"socialized\", \"gradually\", \"untrained\", \"housecat\", \"backfired\", \"heroic\", \"mush\", \"tufts\", \"intellect\", \"autumn\", \"buuuut\", \"climbing\", \"stardancer\", \"mom\", \"rule\", \"least\", \"completely\", \"like\", \"huge\", \"ago\", \"effort\", \"comfortable\", \"foot\", \"cook\", \"quick\", \"subject\", \"pregnancy\", \"remark\", \"commitment\", \"butt\", \"recover\", \"made\", \"hungry\", \"scold\", \"hiss\", \"furball\", \"straws\", \"whooole\", \"lizards\", \"gradually\", \"housecat\", \"poo\", \"ypu\", \"blacksmith\", \"mush\", \"disproving\", \"disbelief\", \"amie\", \"withstand\", \"aimlessly\", \"torn\", \"likr\", \"really\", \"able\", \"feeling\", \"steal\", \"rude\", \"terrible\", \"medical\", \"opportunity\", \"though\", \"lead\", \"eye\", \"card\", \"physical\", \"discussion\", \"covid\", \"anywhere\", \"basic\", \"purchase\", \"jump\", \"intend\", \"description\", \"poo\", \"socialized\", \"untrained\", \"backfired\", \"terrarium\", \"furball\", \"hamster\", \"lizards\", \"impeccable\", \"climbing\", \"paraphrase\", \"psh\", \"shayalise\", \"withstand\", \"buuuut\", \"tufts\", \"regime\", \"pictures\", \"friend\", \"buy\", \"far\", \"week\", \"toxic\", \"fair\", \"info\", \"position\", \"unreasonable\", \"otherwise\", \"stranger\", \"ground\", \"request\", \"effect\", \"draw\", \"character\", \"random\", \"argue\", \"bitch\", \"valuable\", \"nature\", \"assumption\", \"separately\", \"reject\", \"dozen\", \"zone\", \"liquid\", \"outdoors\", \"litter_box\", \"defang\", \"buuuut\", \"mush\", \"stardancer\", \"aimlessly\", \"much\", \"put\", \"away\", \"lose\", \"easy\", \"loss\", \"worth\", \"walk\", \"possibly\", \"mindfully\", \"barn\", \"effortlessly\", \"toxoplasmosis\", \"petting_zoo\", \"bandaid\", \"impeccable\", \"hamster\", \"furball\", \"terrarium\", \"iron\", \"snakediscovery\", \"hiss\", \"untrained\", \"thinknit\", \"ypu\", \"poo\", \"housecat\", \"gradually\", \"lizards\", \"whooole\", \"haircut\", \"bald\", \"shaving\", \"pictures\", \"regime\", \"tufts\", \"salon\", \"autumn\", \"buuuut\", \"climbing\", \"stardancer\", \"fabulously\", \"shayalise\", \"psh\", \"paraphrase\", \"heroic\", \"flamboyant\", \"fictional\", \"dragonsblood\", \"aimlessly\", \"torn\", \"dad\", \"future\", \"woman\", \"bring\", \"account\", \"hate\", \"horrible\", \"shift\", \"world\", \"simply\", \"memory\", \"immediately\", \"period\", \"priority\", \"access\", \"best\", \"yell\", \"condition\", \"disrespect\", \"disgust\", \"therefore\", \"appear\", \"inconsiderate\", \"idiot\", \"sexist\", \"professionally\", \"violent\", \"barn\", \"mindedness\", \"toxoplasmosis\", \"psh\", \"paraphrase\", \"heroic\", \"come\", \"look\", \"part\", \"month\", \"however\", \"suggest\", \"extremely\", \"create\", \"host\", \"tend\", \"belong\", \"highly\", \"equally\", \"existence\", \"furball\", \"hamster\", \"effortlessly\", \"backfired\", \"untrained\", \"impeccable\", \"socialized\", \"defang\", \"bandaid\", \"litter_box\", \"terrarium\", \"barn\", \"toxoplasmosis\", \"gecko\", \"mindfully\", \"iron\", \"torn\", \"buuuut\", \"shaving\", \"bald\", \"shayalise\", \"haircut\", \"pictures\", \"psh\", \"paraphrase\", \"regime\", \"heroic\", \"tufts\", \"autumn\", \"climbing\", \"dragonsblood\", \"stardancer\", \"probably\", \"husband\", \"sleep\", \"man\", \"nice\", \"serious\", \"cousin\", \"mad\", \"hopefully\", \"begin\", \"ban\", \"scream\", \"travel\", \"knowledge\", \"sexual\", \"purpose\", \"original\", \"dismiss\", \"drunk\", \"influence\", \"fragile\", \"being\", \"toxoplasmosis\", \"simeone\", \"effortlessly\", \"bandaid\", \"impeccable\", \"hamster\", \"furball\", \"barn\", \"disproving\", \"withstand\", \"fabulously\", \"likr\", \"offence\", \"mush\", \"arena\", \"torn\", \"daughter\", \"step\", \"hold\", \"father\", \"nee\", \"room\", \"less\", \"protect\", \"unfair\", \"rethink\", \"addition\", \"barn\", \"terrarium\", \"hiss\", \"petting_zoo\", \"iron\", \"mindfully\", \"hamster\", \"toxoplasmosis\", \"impeccable\", \"snakediscovery\", \"bandaid\", \"furball\", \"effortlessly\", \"ypu\", \"thinknit\", \"untrained\", \"poo\", \"housecat\", \"gradually\", \"climbing\", \"blacksmith\", \"amie\", \"aimlessly\", \"stardancer\", \"autumn\", \"buuuut\", \"disproving\", \"tufts\", \"regime\", \"pictures\", \"haircut\", \"mush\", \"torn\", \"withstand\", \"acid\", \"dragonsblood\", \"fabulously\", \"shaving\", \"let\", \"change\", \"eat\", \"important\", \"food\", \"prepare\", \"kinda\", \"advance\", \"beforehand\", \"simeone\", \"mindfully\", \"snakediscovery\", \"hiss\", \"petting_zoo\", \"iron\", \"effortlessly\", \"barn\", \"toxoplasmosis\", \"ypu\", \"bandaid\", \"impeccable\", \"thinknit\", \"lizards\", \"poo\", \"housecat\", \"gradually\", \"furball\", \"whooole\", \"straws\", \"snark\", \"tufts\", \"regime\", \"autumn\", \"climbing\", \"stardancer\", \"aimlessly\", \"pictures\", \"haircut\", \"bald\", \"amie\", \"blacksmith\", \"shaving\", \"buuuut\", \"mush\", \"matts\", \"disproving\", \"withstand\", \"torn\", \"dragonsblood\", \"fabulously\", \"enough\", \"issue\", \"instead\", \"act\", \"action\", \"high\", \"almost\", \"often\", \"base\", \"fall\", \"express\", \"thus\", \"preference\", \"quote\", \"untrained\", \"terrarium\", \"backfired\", \"defang\", \"socialized\", \"hamster\", \"litter_box\", \"whooole\", \"liquid\", \"straws\", \"furball\", \"gradually\", \"impeccable\", \"housecat\", \"effortlessly\", \"toxoplasmosis\", \"withstand\", \"pictures\", \"salon\", \"shaving\", \"psh\", \"paraphrase\", \"heroic\", \"flamboyant\", \"bald\", \"fictional\", \"fabulously\", \"haircut\", \"regime\", \"torn\", \"tufts\", \"autumn\", \"maybe\", \"reason\", \"post\", \"read\", \"explain\", \"difficult\", \"miss\", \"message\", \"curious\", \"anymore\", \"piss\", \"meaning\", \"importantly\", \"pride\", \"identify\", \"effortlessly\", \"terrarium\", \"furball\", \"backfired\", \"hamster\", \"impeccable\", \"untrained\", \"bandaid\", \"barn\", \"toxoplasmosis\", \"mindfully\", \"grizzly\", \"bandage\", \"snark\", \"straws\", \"buuuut\", \"bald\", \"sanctity\", \"haircut\", \"pictures\", \"shayalise\", \"psh\", \"paraphrase\", \"regime\", \"tufts\", \"autumn\", \"flamboyant\", \"fictional\", \"stardancer\", \"aimlessly\", \"hard\", \"start\", \"consider\", \"accept\", \"become\", \"add\", \"around\", \"inappropriate\", \"emotional\", \"strong\", \"lack\", \"major\", \"regard\", \"impact\", \"explanation\", \"untrained\", \"socialized\", \"backfired\", \"impeccable\", \"terrarium\", \"furball\", \"hamster\", \"simeone\", \"effortlessly\", \"toxoplasmosis\", \"barn\", \"mindfully\", \"iron\", \"petting_zoo\", \"hiss\", \"uninvited\", \"intermediary\", \"haircut\", \"bald\", \"shaving\", \"salon\", \"matts\", \"regime\", \"coon\", \"groomer\", \"barber\", \"landscape\", \"lc_nc\", \"pictures\", \"tufts\", \"kid\", \"shit\", \"realize\", \"throw\", \"petty\", \"fit\", \"flat\", \"hamster\", \"furball\", \"impeccable\", \"bandaid\", \"effortlessly\", \"toxoplasmosis\", \"snakediscovery\", \"barn\", \"mindfully\", \"iron\", \"petting_zoo\", \"hiss\", \"simeone\", \"thinknit\", \"ypu\", \"terrarium\", \"housecat\", \"gradually\", \"lizards\", \"whooole\", \"straws\", \"snark\", \"bandage\", \"bald\", \"buuuut\", \"amie\", \"aimlessly\", \"stardancer\", \"climbing\", \"autumn\", \"haircut\", \"shaving\", \"tufts\", \"regime\", \"pictures\", \"blacksmith\", \"mush\", \"matts\", \"disproving\", \"withstand\", \"torn\", \"dragonsblood\", \"fabulously\", \"fictional\", \"flamboyant\", \"adult\", \"expect\", \"little\", \"continue\", \"real\", \"exactly\", \"night\", \"value\", \"wonder\", \"shove\", \"toxoplasmosis\", \"barn\", \"thinknit\", \"effortlessly\", \"bandaid\", \"mindfully\", \"impeccable\", \"iron\", \"petting_zoo\", \"hiss\", \"hamster\", \"furball\", \"snakediscovery\", \"simeone\", \"ypu\", \"poo\", \"backfired\", \"housecat\", \"gradually\", \"lizards\", \"climbing\", \"mush\", \"blacksmith\", \"amie\", \"aimlessly\", \"stardancer\", \"intellect\", \"disproving\", \"autumn\", \"tufts\", \"regime\", \"pictures\", \"haircut\", \"buuuut\", \"withstand\", \"sanctity\", \"torn\", \"dragonsblood\", \"shaving\", \"fabulously\", \"especially\", \"learn\", \"allow\", \"offer\", \"trust\", \"date\", \"thank\", \"lesson\", \"manipulative\", \"helpful\", \"remain\", \"letting\", \"soft\", \"misguided\", \"gradually\", \"effortlessly\", \"toxoplasmosis\", \"barn\", \"mindfully\", \"iron\", \"petting_zoo\", \"hiss\", \"snakediscovery\", \"thinknit\", \"ypu\", \"poo\", \"housecat\", \"lizards\", \"impeccable\", \"whooole\", \"blacksmith\", \"regime\", \"tufts\", \"autumn\", \"buuuut\", \"climbing\", \"stardancer\", \"aimlessly\", \"pictures\", \"amie\", \"simeone\", \"mush\", \"psh\", \"offence\", \"arena\", \"acid\", \"intellect\", \"will\", \"asshole\", \"deserve\", \"sometimes\", \"case\", \"remember\", \"name\", \"cheat\", \"bandage\", \"bacitracin\", \"backfired\", \"handleable\", \"terrarium\", \"furball\", \"hamster\", \"impeccable\", \"bandaid\", \"effortlessly\", \"toxoplasmosis\", \"barn\", \"mindfully\", \"iron\", \"snark\", \"petting_zoo\", \"hiss\", \"socialized\", \"snakediscovery\", \"thinknit\", \"ypu\", \"poo\", \"regime\", \"climbing\", \"buuuut\", \"autumn\", \"tufts\", \"haircut\", \"pictures\", \"bald\", \"shaving\", \"salon\", \"matts\", \"stardancer\", \"amie\", \"aimlessly\", \"groomer\", \"blacksmith\", \"mush\", \"disproving\", \"withstand\", \"torn\", \"dragonsblood\", \"fabulously\", \"many\", \"deal\", \"decision\", \"face\", \"ruin\", \"opinion\", \"response\", \"true\", \"actively\", \"thread\", \"factor\", \"copy\", \"community\", \"basis\", \"reverse\", \"downvote\", \"irrelevant\", \"furball\", \"terrarium\", \"backfired\", \"untrained\", \"socialized\", \"hamster\", \"litter_box\", \"hiss\", \"gradually\", \"housecat\", \"poo\", \"ypu\", \"thinknit\", \"buuuut\", \"aimlessly\", \"amie\", \"bald\", \"stardancer\", \"autumn\", \"haircut\", \"pictures\", \"regime\", \"tufts\", \"climbing\", \"simeone\", \"blacksmith\", \"show\", \"fact\", \"cause\", \"upset\", \"boss\", \"interest\", \"non\", \"standard\", \"disrespectful\", \"potentially\", \"pretend\", \"biological\", \"client\", \"tiny\", \"alarm\", \"snakediscovery\", \"hiss\", \"straws\", \"whooole\", \"terrarium\", \"lizards\", \"furball\", \"hamster\", \"impeccable\", \"bandaid\", \"effortlessly\", \"toxoplasmosis\", \"gradually\", \"barn\", \"mindfully\", \"stardancer\", \"climbing\", \"buuuut\", \"paraphrase\", \"autumn\", \"regime\", \"pictures\", \"haircut\", \"tufts\", \"blacksmith\", \"aimlessly\", \"amie\", \"mush\", \"bald\", \"disproving\", \"talk\", \"decide\", \"chance\", \"assume\", \"refuse\", \"worry\", \"yet\", \"shut\", \"deserved\", \"petting_zoo\", \"iron\", \"mindfully\", \"simeone\", \"hiss\", \"toxoplasmosis\", \"effortlessly\", \"bandaid\", \"impeccable\", \"barn\", \"snakediscovery\", \"furball\", \"thinknit\", \"ypu\", \"poo\", \"housecat\", \"gradually\", \"lizards\", \"whooole\", \"straws\", \"snark\", \"psh\", \"stardancer\", \"shaving\", \"bald\", \"acid\", \"haircut\", \"pictures\", \"regime\", \"tufts\", \"intellect\", \"sanctity\", \"autumn\", \"buuuut\", \"climbing\", \"aimlessly\", \"paraphrase\", \"amie\", \"blacksmith\", \"mush\", \"shayalise\", \"disproving\", \"responsibility\", \"pass\", \"literally\", \"report\", \"level\", \"list\", \"tough\", \"focus\", \"short\", \"obvious\", \"system\", \"limit\", \"exist\", \"punish\", \"vote\", \"particularly\", \"essentially\", \"beat\", \"silly\", \"violate\", \"content\", \"somewhat\", \"title\", \"lame\", \"impeccable\", \"bandaid\", \"effortlessly\", \"toxoplasmosis\", \"barn\", \"mindfully\", \"amie\", \"withstand\", \"buuuut\", \"blacksmith\", \"aimlessly\", \"stardancer\", \"else\", \"last\", \"conversation\", \"enjoy\", \"attention\", \"affect\", \"aware\", \"detail\", \"respectful\", \"heal\", \"gender\", \"cope\", \"injury\", \"barn\", \"untrained\", \"backfired\", \"terrarium\", \"furball\", \"hamster\", \"impeccable\", \"bandaid\", \"effortlessly\", \"denying\", \"toxoplasmosis\", \"misguided\", \"socialized\", \"iron\", \"petting_zoo\", \"hiss\", \"snakediscovery\", \"salon\", \"tufts\", \"buuuut\", \"autumn\", \"regime\", \"matts\", \"pictures\", \"haircut\", \"stardancer\", \"bald\", \"shaving\", \"climbing\", \"mush\", \"aimlessly\", \"amie\", \"blacksmith\", \"disproving\", \"person\", \"selfish\", \"course\", \"incredibly\", \"financially\", \"contribute\", \"hamster\", \"impeccable\", \"bandaid\", \"snakediscovery\", \"toxoplasmosis\", \"barn\", \"furball\", \"terrarium\", \"mindfully\", \"iron\", \"petting_zoo\", \"hiss\", \"effortlessly\", \"thinknit\", \"untrained\", \"ypu\", \"poo\", \"housecat\", \"gradually\", \"lizards\", \"whooole\", \"straws\", \"snark\", \"bandage\", \"pictures\", \"regime\", \"climbing\", \"haircut\", \"tufts\", \"bald\", \"shaving\", \"autumn\", \"buuuut\", \"salon\", \"simeone\", \"stardancer\", \"coon\", \"fabulously\", \"shayalise\", \"psh\", \"paraphrase\", \"heroic\", \"flamboyant\", \"fictional\", \"dragonsblood\", \"aimlessly\", \"torn\", \"withstand\", \"place\", \"definitely\", \"experience\", \"sort\", \"ton\", \"simeone\", \"hiss\", \"petting_zoo\", \"iron\", \"mindfully\", \"barn\", \"effortlessly\", \"toxoplasmosis\", \"thinknit\", \"bandaid\", \"impeccable\", \"hamster\", \"furball\", \"terrarium\", \"snakediscovery\", \"housecat\", \"ypu\", \"poo\", \"untrained\", \"gradually\", \"lizards\", \"whooole\", \"straws\", \"snark\", \"bandage\", \"buuuut\", \"autumn\", \"tufts\", \"regime\", \"pictures\", \"haircut\", \"stardancer\", \"bald\", \"shaving\", \"salon\", \"matts\", \"coon\", \"climbing\", \"amie\", \"aimlessly\", \"barber\", \"blacksmith\", \"mush\", \"disproving\", \"withstand\", \"torn\", \"dragonsblood\", \"fabulously\", \"fictional\", \"great\", \"likely\", \"regardless\", \"specific\", \"topic\", \"conflict\", \"slightly\", \"hot\", \"stance\", \"bandaid\", \"impeccable\", \"hamster\", \"defang\", \"effortlessly\", \"terrarium\", \"backfired\", \"untrained\", \"litter_box\", \"socialized\", \"furball\", \"toxoplasmosis\", \"barn\", \"housecat\", \"bandage\", \"snark\", \"straws\", \"whooole\", \"lizards\", \"gradually\", \"poo\", \"buuuut\", \"autumn\", \"tufts\", \"simeone\", \"regime\", \"climbing\", \"haircut\", \"bald\", \"shaving\", \"salon\", \"matts\", \"pictures\", \"stardancer\", \"paraphrase\", \"aimlessly\", \"amie\", \"blacksmith\", \"mush\", \"disproving\", \"withstand\", \"torn\", \"send\", \"hear\", \"ignore\", \"history\", \"award\", \"bandaid\", \"mindfully\", \"barn\", \"toxoplasmosis\", \"effortlessly\", \"simeone\", \"iron\", \"hamster\", \"furball\", \"terrarium\", \"backfired\", \"untrained\", \"socialized\", \"impeccable\", \"hiss\", \"petting_zoo\", \"litter_box\", \"snakediscovery\", \"thinknit\", \"ypu\", \"poo\", \"housecat\", \"gradually\", \"lizards\", \"whooole\", \"autumn\", \"tufts\", \"regime\", \"pictures\", \"haircut\", \"shaving\", \"bald\", \"climbing\", \"salon\", \"matts\", \"coon\", \"groomer\", \"buuuut\", \"aimlessly\", \"stardancer\", \"landscape\", \"amie\", \"blacksmith\", \"mush\", \"disproving\", \"withstand\", \"torn\", \"dragonsblood\", \"fabulously\", \"simeone\", \"neuron\", \"terrarium\", \"furball\", \"hamster\", \"impeccable\", \"bandaid\", \"effortlessly\", \"toxoplasmosis\", \"barn\", \"mindfully\", \"iron\", \"petting_zoo\", \"hiss\", \"snakediscovery\", \"thinknit\", \"ypu\", \"poo\", \"housecat\", \"gradually\", \"lizards\", \"whooole\", \"straws\", \"snark\", \"bandage\", \"grizzly\", \"bacitracin\", \"handleable\", \"familiarize\", \"dirtier\", \"stardancer\", \"barber\", \"groomer\", \"coon\", \"matts\", \"salon\", \"shaving\", \"bald\", \"haircut\", \"pictures\", \"regime\", \"tufts\", \"autumn\", \"buuuut\", \"climbing\", \"aimlessly\", \"espcecially\", \"amie\", \"blacksmith\", \"mush\", \"disproving\", \"withstand\", \"torn\", \"dragonsblood\", \"fabulously\", \"fictional\", \"flamboyant\", \"heroic\", \"paraphrase\", \"simeone\", \"neuron\", \"terrarium\", \"furball\", \"hamster\", \"impeccable\", \"bandaid\", \"effortlessly\", \"toxoplasmosis\", \"barn\", \"mindfully\", \"iron\", \"petting_zoo\", \"hiss\", \"snakediscovery\", \"thinknit\", \"ypu\", \"poo\", \"housecat\", \"gradually\", \"lizards\", \"whooole\", \"straws\", \"snark\", \"bandage\", \"grizzly\", \"bacitracin\", \"handleable\", \"familiarize\", \"dirtier\", \"stardancer\", \"barber\", \"groomer\", \"coon\", \"matts\", \"salon\", \"shaving\", \"bald\", \"haircut\", \"pictures\", \"regime\", \"tufts\", \"autumn\", \"buuuut\", \"climbing\", \"aimlessly\", \"espcecially\", \"amie\", \"blacksmith\", \"mush\", \"disproving\", \"withstand\", \"torn\", \"dragonsblood\", \"fabulously\", \"fictional\", \"flamboyant\", \"heroic\", \"paraphrase\"], \"Freq\": [68206.0, 46251.0, 52155.0, 40656.0, 47849.0, 39934.0, 36083.0, 38951.0, 40259.0, 40927.0, 34437.0, 72171.0, 31246.0, 37984.0, 32849.0, 28918.0, 30481.0, 30311.0, 27792.0, 32584.0, 58697.0, 23152.0, 55338.0, 24998.0, 23545.0, 23316.0, 28013.0, 26992.0, 50526.0, 21936.0, 72170.64096839633, 58696.49961116777, 55336.97263674669, 50525.32448448325, 47311.57576178811, 45787.0508572629, 33415.681953673986, 33126.84962929418, 31449.062410174105, 27153.019630882023, 26172.119519347652, 24727.8811251293, 22132.659737274887, 21926.31307867103, 19934.366099380157, 15233.10539790678, 13772.358478511664, 12861.940309151123, 8788.392379044215, 8059.7035764500915, 6199.353639420191, 4766.881531832572, 4643.65019584929, 3924.1750002690446, 3262.1830787675867, 2866.6152513833113, 2319.408008129787, 1636.663104717791, 1220.5880906710713, 956.5139105693555, 68205.31898084618, 37982.70929998097, 19121.271517473084, 16546.19570819768, 6737.536838812537, 4349.462377991629, 4231.360707388213, 2483.9723771921194, 769.574552572928, 764.892172277681, 671.1337579394558, 502.6254529709857, 310.15135677862185, 0.028876104368014844, 0.028876104368014844, 0.028876104368014844, 0.028876104368014844, 0.028876104368014844, 0.028876104368014844, 0.028876104368014844, 0.028876104368014844, 0.028876104368014844, 0.028876104368014844, 0.028876104368014844, 0.028876104368014844, 0.028876104368014844, 0.028876104368014844, 0.028876104368014844, 0.028876104368014844, 0.028876104368014844, 0.028876104368014844, 0.028876104368014844, 0.028876104368014844, 0.028876104368014844, 0.028876104368014844, 0.028876104368014844, 0.028876104368014844, 0.028876104368014844, 0.028876104368014844, 0.028876104368014844, 0.028876104368014844, 0.028876104368014844, 0.028876104368014844, 0.028876104368014844, 0.028876104368014844, 0.028876104368014844, 0.028876104368014844, 18824.263584487693, 17779.189183130715, 16760.930945062242, 15881.286894042993, 10688.793370274812, 10047.907243001802, 8653.216383542418, 6736.104999967077, 5806.908655916842, 5002.4103880722205, 4196.128548815984, 4042.7717919385536, 3620.188728542968, 3368.6428712361394, 3172.128243875841, 3147.1919709320823, 2955.6215129090588, 2561.9280525486333, 2138.370101780958, 2006.4907958431766, 1539.2550954298943, 1495.7578298419537, 1358.3231699170735, 1282.7109843375335, 1248.6369463613953, 1023.761026833389, 1010.0058020310834, 941.7945262741025, 793.8538863140312, 777.1155091915824, 52154.19718614065, 40926.66142286066, 16546.16535505027, 10952.138641969965, 6974.249409082926, 5781.025673401927, 5467.438249594486, 2356.8500161052343, 2268.888077284818, 2258.844025393696, 1636.5901723359714, 1606.3008891459117, 1462.0715428295748, 1304.0030117607062, 990.3534372363555, 984.4073935312996, 628.4311382799194, 514.7731606258112, 367.65274824385665, 299.968939752103, 227.25088671727383, 0.027757035862728773, 0.027757035862728773, 0.027757035862728773, 0.027757035862728773, 0.027757035862728773, 0.027757035862728773, 0.027757035862728773, 0.027757035862728773, 0.027757035862728773, 0.027757035862728773, 0.027757035862728773, 0.027757035862728773, 0.027757035862728773, 0.027757035862728773, 0.027757035862728773, 0.027757035862728773, 0.027757035862728773, 0.027757035862728773, 47847.95047257747, 28012.133511112304, 26990.782180444847, 7885.202502246041, 6441.974937691188, 4760.98343017545, 3729.3427381123374, 3042.4140244007062, 2772.684009248249, 1846.7912438312471, 884.3244295621827, 627.2042985730343, 196.00999062478806, 0.029575817625413357, 0.029575817625413357, 0.029575817625413357, 0.029575817625413357, 0.029575817625413357, 0.029575817625413357, 0.029575817625413357, 0.029575817625413357, 0.029575817625413357, 0.029575817625413357, 0.029575817625413357, 0.029575817625413357, 0.029575817625413357, 0.029575817625413357, 0.029575817625413357, 0.029575817625413357, 0.029575817625413357, 0.029575817625413357, 0.029575817625413357, 0.029575817625413357, 0.029575817625413357, 0.029575817625413357, 0.029575817625413357, 0.029575817625413357, 0.029575817625413357, 0.029575817625413357, 0.029575817625413357, 0.029575817625413357, 0.029575817625413357, 0.029575817625413357, 0.029575817625413357, 0.029575817625413357, 0.029575817625413357, 0.029575817625413357, 40257.81566953891, 32583.05379867706, 25765.905109238975, 11996.387530701151, 3097.17657115552, 2919.8356499060787, 2073.3941349114743, 1938.7806466550453, 1784.704374207611, 1535.194913588188, 1330.9719356428343, 1181.916998378052, 1172.8434212700442, 913.1558204340721, 473.53465335404576, 0.02499123816366759, 0.02499123816366759, 0.02499123816366759, 0.02499123816366759, 0.02499123816366759, 0.02499123816366759, 0.02499123816366759, 0.02499123816366759, 0.02499123816366759, 0.02499123816366759, 0.02499123816366759, 0.02499123816366759, 0.02499123816366759, 0.02499123816366759, 0.02499123816366759, 0.02499123816366759, 0.02499123816366759, 0.02499123816366759, 0.02499123816366759, 0.02499123816366759, 0.02499123816366759, 0.02499123816366759, 0.02499123816366759, 0.02499123816366759, 0.02499123816366759, 0.02499123816366759, 0.02499123816366759, 0.02499123816366759, 0.02499123816366759, 0.02499123816366759, 18168.84943206853, 16910.579908159503, 12826.864780067861, 9197.847737821807, 6914.343957340743, 6887.5763140728095, 4818.095008531493, 4461.158260313272, 3743.7816732209526, 3451.2775591619193, 3393.052886323128, 3249.872123324011, 2871.9461866788115, 2354.453129285421, 1756.5076580105563, 1639.8118093413798, 1459.7785368063269, 1326.6515149086222, 1320.1800826964513, 670.5020862068445, 621.284557730662, 549.9038807397886, 479.58369751025964, 442.2887733990388, 384.4023915640196, 287.5774634218231, 286.38346455628994, 168.20957385205395, 147.18251994230758, 31.469085368034182, 32848.64553556653, 16805.526222681645, 11405.697642323681, 11246.377143205587, 8253.00744787835, 6225.5700682515835, 4837.051338148139, 4494.641830228598, 2069.0255890181747, 1896.2859477652967, 1103.1409103844571, 450.9144309905501, 0.025546000039949716, 0.025546000039949716, 0.025546000039949716, 0.025546000039949716, 0.025546000039949716, 0.025546000039949716, 0.025546000039949716, 0.025546000039949716, 0.025546000039949716, 0.025546000039949716, 0.025546000039949716, 0.025546000039949716, 0.025546000039949716, 0.025546000039949716, 0.025546000039949716, 0.025546000039949716, 0.025546000039949716, 0.025546000039949716, 0.025546000039949716, 0.025546000039949716, 0.025546000039949716, 0.025546000039949716, 0.025546000039949716, 0.025546000039949716, 0.025546000039949716, 0.025546000039949716, 0.025546000039949716, 0.025546000039949716, 0.025546000039949716, 0.025546000039949716, 0.025546000039949716, 0.025546000039949716, 0.025546000039949716, 0.025546000039949716, 0.025546000039949716, 0.025546000039949716, 34436.22621505952, 17021.069862370125, 9159.659390335273, 7030.2689054731945, 5208.9818582742, 4021.894553215047, 3940.7131170544963, 3230.972173663487, 1557.643666751421, 1420.2023534858872, 1398.933752076447, 898.4715689449783, 772.4488853808522, 739.6846400532752, 508.5208628030279, 317.2834805519096, 0.027602748744251174, 0.027602748744251174, 0.027602748744251174, 0.027602748744251174, 0.027602748744251174, 0.027602748744251174, 0.027602748744251174, 0.027602748744251174, 0.027602748744251174, 0.027602748744251174, 0.027602748744251174, 0.027602748744251174, 0.027602748744251174, 0.027602748744251174, 0.027602748744251174, 0.027602748744251174, 0.027602748744251174, 0.027602748744251174, 0.027602748744251174, 0.027602748744251174, 0.027602748744251174, 0.027602748744251174, 0.027602748744251174, 0.027602748744251174, 0.027602748744251174, 0.027602748744251174, 0.027602748744251174, 0.027602748744251174, 30309.982982160745, 12858.245516031684, 10800.477727477853, 10711.210376542625, 10357.09234377137, 4265.99385528104, 2189.576885099669, 1941.8281214183326, 1813.9585089144484, 1587.4668919065969, 1028.6652866805546, 835.8564182292806, 392.16767016767955, 244.86646547012202, 127.13855914415731, 114.92905962784418, 0.024688957749947612, 0.024688957749947612, 0.024688957749947612, 0.024688957749947612, 0.024688957749947612, 0.024688957749947612, 0.024688957749947612, 0.024688957749947612, 0.024688957749947612, 0.024688957749947612, 0.024688957749947612, 0.024688957749947612, 0.024688957749947612, 0.024688957749947612, 0.024688957749947612, 0.024688957749947612, 0.024688957749947612, 0.024688957749947612, 0.024688957749947612, 0.024688957749947612, 0.024688957749947612, 0.024688957749947612, 0.024688957749947612, 0.024688957749947612, 0.024688957749947612, 0.024688957749947612, 0.024688957749947612, 0.024688957749947612, 46250.48453564049, 30480.303846850118, 4504.405330690016, 3343.0896503420463, 1134.2297150379181, 850.6322700672062, 256.98447659383805, 170.7364957350307, 0.024441481895443772, 0.024441481895443772, 0.024441481895443772, 0.024441481895443772, 0.024441481895443772, 0.024441481895443772, 0.024441481895443772, 0.024441481895443772, 0.024441481895443772, 0.024441481895443772, 0.024441481895443772, 0.024441481895443772, 0.024441481895443772, 0.024441481895443772, 0.024441481895443772, 0.024441481895443772, 0.024441481895443772, 0.024441481895443772, 0.024441481895443772, 0.024441481895443772, 0.024441481895443772, 0.024441481895443772, 0.024441481895443772, 0.024441481895443772, 0.024441481895443772, 0.024441481895443772, 0.024441481895443772, 0.024441481895443772, 0.024441481895443772, 0.024441481895443772, 0.024441481895443772, 0.024441481895443772, 0.024441481895443772, 0.024441481895443772, 0.024441481895443772, 0.024441481895443772, 0.024441481895443772, 0.024441481895443772, 0.024441481895443772, 0.024441481895443772, 0.024441481895443772, 0.024441481895443772, 0.024441481895443772, 0.024441481895443772, 38950.584224382976, 8483.389932132055, 5601.5126802833465, 5218.429136298654, 4180.568839950093, 3141.033498543976, 2370.159344310853, 2091.483888528544, 1799.708943936876, 1773.0372828107431, 1727.3600802241233, 1640.6291658559833, 1515.9506537710276, 1346.1634933012472, 1151.6194336793512, 1023.5115955156106, 872.7171187434496, 701.7013186706664, 604.6788901813827, 398.8086683326029, 376.62826395657964, 327.77298401370666, 0.029099791884169366, 0.029099791884169366, 0.029099791884169366, 0.029099791884169366, 0.029099791884169366, 0.029099791884169366, 0.029099791884169366, 0.029099791884169366, 0.029099791884169366, 0.029099791884169366, 0.029099791884169366, 0.029099791884169366, 0.029099791884169366, 0.029099791884169366, 0.029099791884169366, 0.029099791884169366, 21051.86075429562, 10203.905966624965, 5608.829264953134, 3432.1203182706686, 3398.664073743068, 3168.094478963168, 3064.0657492650985, 2989.7961187171522, 2730.9680009683343, 2544.079905760373, 2450.431695971772, 2115.4306036381404, 1905.1716535622738, 1849.364571302215, 1699.923567431328, 1571.2023264213688, 1440.860329779382, 1290.4173277527948, 1078.9134011203253, 1044.3329151383014, 958.952241902869, 896.0637006023147, 850.9060735089151, 849.2022876882743, 731.538429320388, 730.5744535933164, 551.1524869230005, 533.7717124500449, 513.2834180690363, 480.7222088107534, 22052.396667651945, 17760.911291105167, 13979.470376439154, 11863.870015262457, 3985.418138646559, 3559.9797044420493, 2272.144267453598, 1487.5079076328568, 1229.0023997010433, 754.1535365132031, 308.1628211885629, 291.61312470871, 231.5203155718573, 214.82768311339888, 163.68108560450352, 0.025193252482187695, 0.025193252482187695, 0.025193252482187695, 0.025193252482187695, 0.025193252482187695, 0.025193252482187695, 0.025193252482187695, 0.025193252482187695, 0.025193252482187695, 0.025193252482187695, 0.025193252482187695, 0.025193252482187695, 0.025193252482187695, 0.025193252482187695, 0.025193252482187695, 0.025193252482187695, 0.025193252482187695, 0.025193252482187695, 0.025193252482187695, 0.025193252482187695, 0.025193252482187695, 0.025193252482187695, 0.025193252482187695, 0.025193252482187695, 0.025193252482187695, 0.025193252482187695, 0.025193252482187695, 0.025193252482187695, 0.025193252482187695, 0.025193252482187695, 24997.591595840342, 13034.020226362616, 9362.867064786758, 7475.190032193219, 6320.283954663548, 5047.792765223218, 2670.7207466138057, 2600.2631577883535, 2333.522474095663, 1254.6551129665584, 1224.9184647934762, 730.2286101301045, 635.9672976684639, 379.86685020597855, 143.724982638593, 0.027807486257726992, 0.027807486257726992, 0.027807486257726992, 0.027807486257726992, 0.027807486257726992, 0.027807486257726992, 0.027807486257726992, 0.027807486257726992, 0.027807486257726992, 0.027807486257726992, 0.027807486257726992, 0.027807486257726992, 0.027807486257726992, 0.027807486257726992, 0.027807486257726992, 0.027807486257726992, 0.027807486257726992, 0.027807486257726992, 0.027807486257726992, 0.027807486257726992, 0.027807486257726992, 0.027807486257726992, 0.027807486257726992, 0.027807486257726992, 0.027807486257726992, 0.027807486257726992, 0.027807486257726992, 0.027807486257726992, 0.027807486257726992, 0.027807486257726992, 39933.192235185226, 7299.70302281779, 6971.5709718167855, 3555.7166729742194, 2847.515687382298, 2840.504794420921, 2349.9566571304363, 1576.2023175005916, 1397.5920679172457, 1051.7545450807354, 1005.6977881627668, 862.7464274261379, 789.2536459741023, 613.4162937121887, 586.4079799299725, 533.4805223558138, 505.54846550344445, 307.588838466452, 179.3768353047981, 91.33591680747662, 45.09698531267565, 0.025708346249762374, 0.025708346249762374, 0.025708346249762374, 0.025708346249762374, 0.025708346249762374, 0.025708346249762374, 0.025708346249762374, 0.025708346249762374, 0.025708346249762374, 0.025708346249762374, 0.025708346249762374, 0.025708346249762374, 0.025708346249762374, 0.025708346249762374, 0.025708346249762374, 0.025708346249762374, 0.025708346249762374, 0.025708346249762374, 19985.110948622034, 15469.198103880868, 8367.821752025606, 7307.8357485302595, 6276.596614292367, 4450.042099736702, 2653.496186031711, 2232.054855340622, 2116.4101916233426, 2090.955522681973, 1898.4439699349427, 760.9043667601574, 180.43278800549305, 0.028737344754317218, 0.028737344754317218, 0.028737344754317218, 0.028737344754317218, 0.028737344754317218, 0.028737344754317218, 0.028737344754317218, 0.028737344754317218, 0.028737344754317218, 0.028737344754317218, 0.028737344754317218, 0.028737344754317218, 0.028737344754317218, 0.028737344754317218, 0.028737344754317218, 0.028737344754317218, 0.028737344754317218, 0.028737344754317218, 0.028737344754317218, 0.028737344754317218, 0.028737344754317218, 0.028737344754317218, 0.028737344754317218, 0.028737344754317218, 0.028737344754317218, 0.028737344754317218, 0.028737344754317218, 0.028737344754317218, 0.028737344754317218, 0.028737344754317218, 0.028737344754317218, 0.028737344754317218, 0.028737344754317218, 14959.132909647751, 7695.085800023648, 7225.056070387692, 6666.606846083527, 6366.320605232003, 4907.196419586813, 3668.7738660976656, 3538.715625578608, 2302.410326852475, 2131.1979899894736, 1664.7989239097994, 1635.1703253612884, 1597.6064706250002, 1365.335745670912, 1183.0930453934297, 1044.347741829812, 1012.7314318963066, 1000.2525693364374, 910.6922238007788, 871.1591441679461, 847.2036212522814, 404.6865460110784, 68.27775846260528, 0.029415857568965212, 0.029415857568965212, 0.029415857568965212, 0.029415857568965212, 0.029415857568965212, 0.029415857568965212, 0.029415857568965212, 0.029415857568965212, 0.029415857568965212, 0.029415857568965212, 0.029415857568965212, 0.029415857568965212, 0.029415857568965212, 0.029415857568965212, 8301.770642631318, 5635.916199339487, 5382.754656104145, 4888.937764308628, 4218.915098019726, 4081.0719086701756, 3830.7707560746085, 3461.1257440997324, 3279.1760207250804, 2479.234831827095, 2288.078680677502, 1877.0180785559116, 1733.9050679881195, 1727.6813342387568, 1589.3191636716956, 1503.5486612582276, 1447.8658693152104, 1435.2222853740516, 1421.1128118429194, 1289.72408939238, 1269.406776164225, 1261.3435078995387, 1226.8108505882237, 1054.2491243321947, 961.7917381780818, 759.4442210983838, 707.2641819613264, 571.5928205772937, 474.7028122076481, 460.15443384982024, 40655.61890975641, 10823.922271299212, 8462.323369642223, 5362.728061699437, 2645.2923931401347, 1174.2699361774341, 535.7569781316032, 535.6472659861412, 489.060084394369, 361.10053715557456, 0.026949064940843603, 0.026949064940843603, 0.026949064940843603, 0.026949064940843603, 0.026949064940843603, 0.026949064940843603, 0.026949064940843603, 0.026949064940843603, 0.026949064940843603, 0.026949064940843603, 0.026949064940843603, 0.026949064940843603, 0.026949064940843603, 0.026949064940843603, 0.026949064940843603, 0.026949064940843603, 0.026949064940843603, 0.026949064940843603, 0.026949064940843603, 0.026949064940843603, 0.026949064940843603, 0.026949064940843603, 0.026949064940843603, 0.026949064940843603, 0.026949064940843603, 0.026949064940843603, 0.026949064940843603, 0.026949064940843603, 0.026949064940843603, 0.026949064940843603, 0.026949064940843603, 0.026949064940843603, 0.026949064940843603, 0.026949064940843603, 0.026949064940843603, 0.026949064940843603, 0.026949064940843603, 0.026949064940843603, 0.026949064940843603, 0.026949064940843603, 27791.015880075855, 15162.026851686667, 10100.166159939205, 6683.329666196214, 4120.18779685621, 1600.3866184002813, 1301.566032421215, 1077.4828821406904, 935.541005501192, 654.30383631083, 564.681709489479, 358.63246193333686, 126.37350901306712, 0.027511623197618216, 0.027511623197618216, 0.027511623197618216, 0.027511623197618216, 0.027511623197618216, 0.027511623197618216, 0.027511623197618216, 0.027511623197618216, 0.027511623197618216, 0.027511623197618216, 0.027511623197618216, 0.027511623197618216, 0.027511623197618216, 0.027511623197618216, 0.027511623197618216, 0.027511623197618216, 0.027511623197618216, 0.027511623197618216, 0.027511623197618216, 0.027511623197618216, 0.027511623197618216, 0.027511623197618216, 0.027511623197618216, 0.027511623197618216, 0.027511623197618216, 0.027511623197618216, 0.027511623197618216, 0.027511623197618216, 0.027511623197618216, 0.027511623197618216, 0.027511623197618216, 0.027511623197618216, 0.027511623197618216, 0.027511623197618216, 23543.94475919198, 19516.536763329277, 12783.681689881512, 9272.669994767553, 4619.158204463533, 0.028375372573412536, 0.028375372573412536, 0.028375372573412536, 0.028375372573412536, 0.028375372573412536, 0.028375372573412536, 0.028375372573412536, 0.028375372573412536, 0.028375372573412536, 0.028375372573412536, 0.028375372573412536, 0.028375372573412536, 0.028375372573412536, 0.028375372573412536, 0.028375372573412536, 0.028375372573412536, 0.028375372573412536, 0.028375372573412536, 0.028375372573412536, 0.028375372573412536, 0.028375372573412536, 0.028375372573412536, 0.028375372573412536, 0.028375372573412536, 0.028375372573412536, 0.028375372573412536, 0.028375372573412536, 0.028375372573412536, 0.028375372573412536, 0.028375372573412536, 0.028375372573412536, 0.028375372573412536, 0.028375372573412536, 0.028375372573412536, 0.028375372573412536, 0.028375372573412536, 0.028375372573412536, 0.028375372573412536, 0.028375372573412536, 0.028375372573412536, 0.028375372573412536, 0.028375372573412536, 0.028375372573412536, 0.028375372573412536, 0.028375372573412536, 0.028375372573412536, 0.028375372573412536, 0.028375372573412536, 0.028375372573412536, 23315.48119862422, 10215.486637419895, 4759.734755259534, 4147.708625080193, 2691.687685676313, 2569.833169316076, 2515.935014113879, 2370.354934292106, 2281.3911418181924, 1786.2490253840162, 1683.1778518976312, 1407.9198354369776, 1356.4781399288502, 1347.6094312055513, 1281.6926883289163, 962.4710246737017, 882.3272754525376, 580.7585653513178, 411.5006957629198, 387.9340913089179, 383.7401023309313, 167.97138768270162, 0.026114954968521592, 0.026114954968521592, 0.026114954968521592, 0.026114954968521592, 0.026114954968521592, 0.026114954968521592, 0.026114954968521592, 0.026114954968521592, 0.026114954968521592, 0.026114954968521592, 0.026114954968521592, 0.026114954968521592, 0.026114954968521592, 0.026114954968521592, 0.026114954968521592, 0.026114954968521592, 31245.401484440743, 5040.7884669618925, 4784.683068782137, 4722.2593182667, 3403.1279751083266, 2623.4074944080944, 2445.030961174942, 1940.031298045035, 1833.6617400784057, 1361.6270253238044, 1342.0326495113304, 1177.7996807303864, 1009.5079733716846, 745.384768372998, 607.298984498759, 544.664895204046, 421.73990686295326, 407.2544325382538, 284.1589735525193, 220.56834585047812, 71.27611674670305, 0.025454286387579073, 0.025454286387579073, 0.025454286387579073, 0.025454286387579073, 0.025454286387579073, 0.025454286387579073, 0.025454286387579073, 0.025454286387579073, 0.025454286387579073, 0.025454286387579073, 0.025454286387579073, 0.025454286387579073, 0.025454286387579073, 0.025454286387579073, 0.025454286387579073, 0.025454286387579073, 0.025454286387579073, 0.025454286387579073, 21935.42422092888, 9452.6564902446, 4266.015939435649, 4162.178042628901, 3734.744552431605, 3112.0443301261334, 2736.7976879627768, 2528.249800805359, 2114.437216709523, 1577.3732717948428, 1545.0848231411362, 1432.249819709208, 1055.206521636357, 1048.3244640760754, 1010.9493792110725, 865.3164857311868, 767.8184275089412, 586.2064901882102, 527.2556085786995, 478.39654926216633, 368.1090614416186, 0.02867506778170049, 0.02867506778170049, 0.02867506778170049, 0.02867506778170049, 0.02867506778170049, 0.02867506778170049, 0.02867506778170049, 0.02867506778170049, 0.02867506778170049, 0.02867506778170049, 0.02867506778170049, 0.02867506778170049, 0.02867506778170049, 0.02867506778170049, 0.02867506778170049, 0.02867506778170049, 0.02867506778170049, 0.02867506778170049, 28917.675644889394, 4489.4894060375545, 4242.261478385072, 3882.16443064765, 3138.1963030963193, 2488.8075571542845, 2090.78832610123, 2013.2766900069423, 1823.2209881304782, 1803.487355249131, 1610.2986309221903, 1489.3921840084295, 1209.4973427368682, 751.8593211650822, 707.8875297481268, 682.1418658779029, 656.3161971424539, 574.6372469977545, 484.46519403454505, 450.8476470111326, 432.8766078854122, 327.2372751147577, 316.50191775233407, 195.38195056319344, 163.3549070145103, 152.2222115982975, 0.024528924955472084, 0.024528924955472084, 0.024528924955472084, 0.024528924955472084, 0.024528924955472084, 0.024528924955472084, 0.024528924955472084, 0.024528924955472084, 17597.77875704573, 16368.851492788184, 8452.71208032821, 5908.713827746369, 4248.988505346611, 3808.1751914823253, 3779.380691636433, 2703.1789496684364, 1657.1864802944974, 0.02604071208774716, 0.02604071208774716, 0.02604071208774716, 0.02604071208774716, 0.02604071208774716, 0.02604071208774716, 0.02604071208774716, 0.02604071208774716, 0.02604071208774716, 0.02604071208774716, 0.02604071208774716, 0.02604071208774716, 0.02604071208774716, 0.02604071208774716, 0.02604071208774716, 0.02604071208774716, 0.02604071208774716, 0.02604071208774716, 0.02604071208774716, 0.02604071208774716, 0.02604071208774716, 0.02604071208774716, 0.02604071208774716, 0.02604071208774716, 0.02604071208774716, 0.02604071208774716, 0.02604071208774716, 0.02604071208774716, 0.02604071208774716, 0.02604071208774716, 0.02604071208774716, 0.02604071208774716, 0.02604071208774716, 0.02604071208774716, 0.02604071208774716, 0.02604071208774716, 0.02604071208774716, 0.02604071208774716, 0.02604071208774716, 0.02604071208774716, 0.02604071208774716, 0.02604071208774716, 10230.96901688719, 10160.687169947994, 6049.870519284183, 5204.477007058076, 3380.32322058696, 3116.679296866846, 2697.5432998007846, 2503.5807497773108, 2475.5119353829186, 2265.1479551933203, 1447.6045810823298, 1405.7175534987405, 1264.059887206996, 1227.8812561396849, 1163.0730537758795, 1139.9893493286334, 1104.7447614823193, 1085.6755989124124, 1038.521546286502, 733.4791296110425, 698.0901563187088, 600.3877815006323, 489.8270050542922, 440.1287130206934, 343.1009249733373, 256.05139465107817, 120.67971098596364, 0.024005037701104796, 0.024005037701104796, 0.024005037701104796, 0.024005037701104796, 0.024005037701104796, 0.024005037701104796, 17826.467243149942, 16656.71387098108, 6280.407836626117, 4946.470715314129, 4730.501476895512, 3919.846989816741, 2497.912361870605, 2238.78658145617, 749.9508133863602, 709.6495141590067, 627.1826938128016, 591.4775497801662, 454.04767506594095, 182.93568632929467, 0.028474025230591726, 0.028474025230591726, 0.028474025230591726, 0.028474025230591726, 0.028474025230591726, 0.028474025230591726, 0.028474025230591726, 0.028474025230591726, 0.028474025230591726, 0.028474025230591726, 0.028474025230591726, 0.028474025230591726, 0.028474025230591726, 0.028474025230591726, 0.028474025230591726, 0.028474025230591726, 0.028474025230591726, 0.028474025230591726, 0.028474025230591726, 0.028474025230591726, 0.028474025230591726, 0.028474025230591726, 0.028474025230591726, 0.028474025230591726, 0.028474025230591726, 0.028474025230591726, 0.028474025230591726, 0.028474025230591726, 0.028474025230591726, 0.028474025230591726, 0.028474025230591726, 0.028474025230591726, 11125.443040209928, 8006.783808558963, 6716.039662247938, 6538.1303735475385, 4229.410972132728, 2815.35213552101, 2788.087062761888, 2368.0820091421615, 2046.9524022302508, 1730.3976608445346, 1537.8373728160002, 1458.7415486357436, 902.5927809246599, 739.5522348702684, 675.9144675155237, 654.1020548173777, 599.0109543874728, 579.8139321975981, 555.5756741734147, 450.90252964586074, 85.1402019761079, 15.962707781217603, 0.030925673217639935, 0.030925673217639935, 0.030925673217639935, 0.030925673217639935, 0.030925673217639935, 0.030925673217639935, 0.030925673217639935, 0.030925673217639935, 0.030925673217639935, 0.030925673217639935, 0.030925673217639935, 0.030925673217639935, 0.030925673217639935, 0.030925673217639935, 0.030925673217639935, 0.030925673217639935, 11785.126270687007, 8073.027013787098, 6382.639870510665, 6266.752341947846, 5986.091248660174, 5525.83735655126, 5303.436635062849, 3436.336403109418, 1198.4938776898252, 537.2901012756482, 311.850635893084, 0.0347011042715779, 0.0347011042715779, 0.0347011042715779, 0.0347011042715779, 0.0347011042715779, 0.0347011042715779, 0.0347011042715779, 0.0347011042715779, 0.0347011042715779, 0.0347011042715779, 0.0347011042715779, 0.0347011042715779, 0.0347011042715779, 0.0347011042715779, 0.0347011042715779, 0.0347011042715779, 0.0347011042715779, 0.0347011042715779, 0.0347011042715779, 0.0347011042715779, 0.0347011042715779, 0.0347011042715779, 0.0347011042715779, 0.0347011042715779, 0.0347011042715779, 0.0347011042715779, 0.0347011042715779, 0.0347011042715779, 0.0347011042715779, 0.0347011042715779, 0.0347011042715779, 0.0347011042715779, 0.0347011042715779, 0.0347011042715779, 0.0347011042715779, 0.0347011042715779, 0.0347011042715779, 0.0347011042715779, 23150.808265555603, 9393.532146129784, 6626.055916085506, 6505.623164690657, 5996.982385181408, 1299.9515733320866, 465.2512727785031, 299.51848309194327, 273.0930887868588, 0.03170528011551306, 0.03170528011551306, 0.03170528011551306, 0.03170528011551306, 0.03170528011551306, 0.03170528011551306, 0.03170528011551306, 0.03170528011551306, 0.03170528011551306, 0.03170528011551306, 0.03170528011551306, 0.03170528011551306, 0.03170528011551306, 0.03170528011551306, 0.03170528011551306, 0.03170528011551306, 0.03170528011551306, 0.03170528011551306, 0.03170528011551306, 0.03170528011551306, 0.03170528011551306, 0.03170528011551306, 0.03170528011551306, 0.03170528011551306, 0.03170528011551306, 0.03170528011551306, 0.03170528011551306, 0.03170528011551306, 0.03170528011551306, 0.03170528011551306, 0.03170528011551306, 0.03170528011551306, 0.03170528011551306, 0.03170528011551306, 0.03170528011551306, 0.03170528011551306, 0.03170528011551306, 0.03170528011551306, 0.03170528011551306, 0.03170528011551306, 0.03170528011551306, 11621.032359101582, 9994.954349895517, 7196.227257265148, 5180.938622832408, 4817.465669440945, 3761.178592822267, 3008.4854253636927, 2650.058446237812, 2207.9331311860324, 1978.7365867476215, 480.65281687994934, 405.3434922275104, 341.59726354821026, 164.84350282364795, 0.028112354106214585, 0.028112354106214585, 0.028112354106214585, 0.028112354106214585, 0.028112354106214585, 0.028112354106214585, 0.028112354106214585, 0.028112354106214585, 0.028112354106214585, 0.028112354106214585, 0.028112354106214585, 0.028112354106214585, 0.028112354106214585, 0.028112354106214585, 0.028112354106214585, 0.028112354106214585, 0.028112354106214585, 0.028112354106214585, 0.028112354106214585, 0.028112354106214585, 0.028112354106214585, 0.028112354106214585, 0.028112354106214585, 0.028112354106214585, 0.028112354106214585, 0.028112354106214585, 0.028112354106214585, 0.028112354106214585, 0.028112354106214585, 0.028112354106214585, 0.028112354106214585, 0.028112354106214585, 14372.052683165704, 10378.429925437316, 5274.213240232906, 4397.808724662305, 3822.8707567877964, 3187.030759767377, 2368.347107115037, 2139.944009983239, 2095.4762703672554, 2071.6058303633818, 557.9387152499424, 497.45995395865623, 361.1951692770591, 193.02582693926965, 141.42645387347815, 0.026335442487378413, 0.026335442487378413, 0.026335442487378413, 0.026335442487378413, 0.026335442487378413, 0.026335442487378413, 0.026335442487378413, 0.026335442487378413, 0.026335442487378413, 0.026335442487378413, 0.026335442487378413, 0.026335442487378413, 0.026335442487378413, 0.026335442487378413, 0.026335442487378413, 0.026335442487378413, 0.026335442487378413, 0.026335442487378413, 0.026335442487378413, 0.026335442487378413, 0.026335442487378413, 0.026335442487378413, 0.026335442487378413, 0.026335442487378413, 0.026335442487378413, 0.026335442487378413, 0.026335442487378413, 0.026335442487378413, 0.026335442487378413, 0.026335442487378413, 10775.564425901186, 10443.165322751061, 6269.209109251968, 3644.7266858345897, 3536.617607524007, 2839.4148285909237, 2719.1868049038926, 2118.318420467854, 2082.902683239048, 1773.101683227005, 1673.549488999409, 1511.631702831297, 1104.7521676980082, 647.6366403193224, 414.6542065083856, 0.02712493854048419, 0.02712493854048419, 0.02712493854048419, 0.02712493854048419, 0.02712493854048419, 0.02712493854048419, 0.02712493854048419, 0.02712493854048419, 0.02712493854048419, 0.02712493854048419, 0.02712493854048419, 0.02712493854048419, 0.02712493854048419, 0.02712493854048419, 0.02712493854048419, 0.02712493854048419, 0.02712493854048419, 0.02712493854048419, 0.02712493854048419, 0.02712493854048419, 0.02712493854048419, 0.02712493854048419, 0.02712493854048419, 0.02712493854048419, 0.02712493854048419, 0.02712493854048419, 0.02712493854048419, 0.02712493854048419, 0.02712493854048419, 0.02712493854048419, 36082.25803030144, 5148.905152918908, 4005.7524625535043, 2842.1909329625432, 1427.5243236047547, 1212.3138659013841, 430.3866662018605, 0.027619877412709413, 0.027619877412709413, 0.027619877412709413, 0.027619877412709413, 0.027619877412709413, 0.027619877412709413, 0.027619877412709413, 0.027619877412709413, 0.027619877412709413, 0.027619877412709413, 0.027619877412709413, 0.027619877412709413, 0.027619877412709413, 0.027619877412709413, 0.027619877412709413, 0.027619877412709413, 0.027619877412709413, 0.027619877412709413, 0.027619877412709413, 0.027619877412709413, 0.027619877412709413, 0.027619877412709413, 0.027619877412709413, 0.027619877412709413, 0.027619877412709413, 0.027619877412709413, 0.027619877412709413, 0.027619877412709413, 0.027619877412709413, 0.027619877412709413, 0.027619877412709413, 0.027619877412709413, 0.027619877412709413, 0.027619877412709413, 0.027619877412709413, 0.027619877412709413, 0.027619877412709413, 0.027619877412709413, 0.027619877412709413, 0.027619877412709413, 0.027619877412709413, 0.027619877412709413, 0.027619877412709413, 0.027619877412709413, 0.027619877412709413, 10713.274174876982, 8753.039468850044, 8675.208675051654, 5132.475289575621, 4243.260405925838, 3744.557316731777, 2646.217584481984, 2463.2563725081186, 1971.2869512047087, 576.9922607497523, 0.03050654926998746, 0.03050654926998746, 0.03050654926998746, 0.03050654926998746, 0.03050654926998746, 0.03050654926998746, 0.03050654926998746, 0.03050654926998746, 0.03050654926998746, 0.03050654926998746, 0.03050654926998746, 0.03050654926998746, 0.03050654926998746, 0.03050654926998746, 0.03050654926998746, 0.03050654926998746, 0.03050654926998746, 0.03050654926998746, 0.03050654926998746, 0.03050654926998746, 0.03050654926998746, 0.03050654926998746, 0.03050654926998746, 0.03050654926998746, 0.03050654926998746, 0.03050654926998746, 0.03050654926998746, 0.03050654926998746, 0.03050654926998746, 0.03050654926998746, 0.03050654926998746, 0.03050654926998746, 0.03050654926998746, 0.03050654926998746, 0.03050654926998746, 0.03050654926998746, 0.03050654926998746, 0.03050654926998746, 0.03050654926998746, 0.03050654926998746, 9128.269705057, 8214.329283267378, 7710.6370966513405, 6019.87594559109, 4477.937808859772, 1932.0518387913514, 1910.183931569354, 1845.154511296258, 1185.467837563269, 1158.0875981433414, 864.2608625502525, 303.0566652265984, 232.13503452549818, 0.03211408046764658, 0.03211408046764658, 0.03211408046764658, 0.03211408046764658, 0.03211408046764658, 0.03211408046764658, 0.03211408046764658, 0.03211408046764658, 0.03211408046764658, 0.03211408046764658, 0.03211408046764658, 0.03211408046764658, 0.03211408046764658, 0.03211408046764658, 0.03211408046764658, 0.03211408046764658, 0.03211408046764658, 0.03211408046764658, 0.03211408046764658, 0.03211408046764658, 0.03211408046764658, 0.03211408046764658, 0.03211408046764658, 0.03211408046764658, 0.03211408046764658, 0.03211408046764658, 0.03211408046764658, 0.03211408046764658, 0.03211408046764658, 0.03211408046764658, 0.03211408046764658, 0.03211408046764658, 0.03211408046764658, 0.03211408046764658, 10245.938262891683, 8124.205945571607, 7557.899207402987, 5095.098236063071, 4665.515124381842, 3285.5275858181694, 2493.216295266288, 1063.2232588714162, 0.026826918252366296, 0.026826918252366296, 0.026826918252366296, 0.026826918252366296, 0.026826918252366296, 0.026826918252366296, 0.026826918252366296, 0.026826918252366296, 0.026826918252366296, 0.026826918252366296, 0.026826918252366296, 0.026826918252366296, 0.026826918252366296, 0.026826918252366296, 0.026826918252366296, 0.026826918252366296, 0.026826918252366296, 0.026826918252366296, 0.026826918252366296, 0.026826918252366296, 0.026826918252366296, 0.026826918252366296, 0.026826918252366296, 0.026826918252366296, 0.026826918252366296, 0.026826918252366296, 0.026826918252366296, 0.026826918252366296, 0.026826918252366296, 0.026826918252366296, 0.026826918252366296, 0.026826918252366296, 0.026826918252366296, 0.026826918252366296, 0.026826918252366296, 0.026826918252366296, 0.026826918252366296, 0.026826918252366296, 0.026826918252366296, 0.026826918252366296, 0.026826918252366296, 0.026826918252366296, 0.026826918252366296, 0.026826918252366296, 9641.304410403018, 8259.295753919552, 6277.398813751348, 3050.904192562385, 2749.875947700147, 2651.781754698112, 1550.4987303567507, 1517.8096900179662, 998.0114287893759, 746.9192969071319, 551.5830666557691, 482.98200490308545, 466.1064837941861, 392.3799839386463, 324.3108790571677, 299.74538452375833, 182.28416827288336, 0.026867361220941233, 0.026867361220941233, 0.026867361220941233, 0.026867361220941233, 0.026867361220941233, 0.026867361220941233, 0.026867361220941233, 0.026867361220941233, 0.026867361220941233, 0.026867361220941233, 0.026867361220941233, 0.026867361220941233, 0.026867361220941233, 0.026867361220941233, 0.026867361220941233, 0.026867361220941233, 0.026867361220941233, 0.026867361220941233, 0.026867361220941233, 0.026867361220941233, 0.026867361220941233, 0.026867361220941233, 0.026867361220941233, 0.026867361220941233, 0.026867361220941233, 0.026867361220941233, 8878.048338211913, 7046.60660195875, 5366.999816803863, 4397.708055122631, 2465.581243798152, 2041.2863031251827, 1441.271709108228, 1286.9397540058594, 1172.8190438584575, 1065.9380058398483, 970.7017171251645, 398.1007413895621, 353.4360901497068, 352.8744959148727, 59.17178651759813, 0.02856867954593807, 0.02856867954593807, 0.02856867954593807, 0.02856867954593807, 0.02856867954593807, 0.02856867954593807, 0.02856867954593807, 0.02856867954593807, 0.02856867954593807, 0.02856867954593807, 0.02856867954593807, 0.02856867954593807, 0.02856867954593807, 0.02856867954593807, 0.02856867954593807, 0.02856867954593807, 0.02856867954593807, 0.02856867954593807, 0.02856867954593807, 0.02856867954593807, 0.02856867954593807, 0.02856867954593807, 0.02856867954593807, 0.02856867954593807, 0.02856867954593807, 0.02856867954593807, 0.02856867954593807, 0.02856867954593807, 0.02856867954593807, 0.02856867954593807, 15954.485749814234, 6815.186215212341, 3238.5562122382275, 3188.8365661851412, 2925.2705314608384, 2472.605198714677, 1122.234477876265, 1045.461536601909, 280.4675283135993, 0.027220605667151395, 0.027220605667151395, 0.027220605667151395, 0.027220605667151395, 0.027220605667151395, 0.027220605667151395, 0.027220605667151395, 0.027220605667151395, 0.027220605667151395, 0.027220605667151395, 0.027220605667151395, 0.027220605667151395, 0.027220605667151395, 0.027220605667151395, 0.027220605667151395, 0.027220605667151395, 0.027220605667151395, 0.027220605667151395, 0.027220605667151395, 0.027220605667151395, 0.027220605667151395, 0.027220605667151395, 0.027220605667151395, 0.027220605667151395, 0.027220605667151395, 0.027220605667151395, 0.027220605667151395, 0.027220605667151395, 0.027220605667151395, 0.027220605667151395, 0.027220605667151395, 0.027220605667151395, 0.027220605667151395, 0.027220605667151395, 0.027220605667151395, 0.027220605667151395, 0.027220605667151395, 0.027220605667151395, 0.027220605667151395, 0.027220605667151395, 0.027220605667151395, 0.027220605667151395, 10527.40390689334, 3817.227860558943, 3638.975879178608, 2630.6511904635095, 1656.2810499450786, 1562.2301279836636, 1276.9320278421517, 1221.2054704890108, 1042.3329029902284, 999.0024634573053, 922.4006157328143, 873.7091317145431, 699.7361211338541, 630.2760004425163, 618.7928165689289, 577.5640383666222, 549.5752448415628, 544.6281618957038, 518.7706104979856, 421.9824471515524, 358.4627746245331, 289.94523652241475, 262.188849004652, 35.22667934940107, 0.02202662728016796, 0.02202662728016796, 0.02202662728016796, 0.02202662728016796, 0.02202662728016796, 0.02202662728016796, 0.02202662728016796, 0.02202662728016796, 0.02202662728016796, 0.02202662728016796, 0.02202662728016796, 0.02202662728016796, 10210.523939292136, 5001.625537669638, 3707.487179458853, 2867.1953133073443, 2204.2986962372343, 1556.8157688655842, 1244.6113072431483, 1020.6900124097017, 806.0603755545262, 770.4704568115695, 511.16262906482126, 507.68620947241396, 329.3042139363569, 0.029514526972806068, 0.029514526972806068, 0.029514526972806068, 0.029514526972806068, 0.029514526972806068, 0.029514526972806068, 0.029514526972806068, 0.029514526972806068, 0.029514526972806068, 0.029514526972806068, 0.029514526972806068, 0.029514526972806068, 0.029514526972806068, 0.029514526972806068, 0.029514526972806068, 0.029514526972806068, 0.029514526972806068, 0.029514526972806068, 0.029514526972806068, 0.029514526972806068, 0.029514526972806068, 0.029514526972806068, 0.029514526972806068, 0.029514526972806068, 0.029514526972806068, 0.029514526972806068, 0.029514526972806068, 0.029514526972806068, 0.029514526972806068, 0.029514526972806068, 0.029514526972806068, 0.029514526972806068, 0.029514526972806068, 0.029514526972806068, 13285.333041243566, 5821.482607394408, 2724.137241626786, 1938.4219450772314, 1554.3169245255358, 1156.349932105904, 0.024183997178486502, 0.024183997178486502, 0.024183997178486502, 0.024183997178486502, 0.024183997178486502, 0.024183997178486502, 0.024183997178486502, 0.024183997178486502, 0.024183997178486502, 0.024183997178486502, 0.024183997178486502, 0.024183997178486502, 0.024183997178486502, 0.024183997178486502, 0.024183997178486502, 0.024183997178486502, 0.024183997178486502, 0.024183997178486502, 0.024183997178486502, 0.024183997178486502, 0.024183997178486502, 0.024183997178486502, 0.024183997178486502, 0.024183997178486502, 0.024183997178486502, 0.024183997178486502, 0.024183997178486502, 0.024183997178486502, 0.024183997178486502, 0.024183997178486502, 0.024183997178486502, 0.024183997178486502, 0.024183997178486502, 0.024183997178486502, 0.024183997178486502, 0.024183997178486502, 0.024183997178486502, 0.024183997178486502, 0.024183997178486502, 0.024183997178486502, 0.024183997178486502, 0.024183997178486502, 0.024183997178486502, 0.024183997178486502, 0.024183997178486502, 0.024183997178486502, 0.024183997178486502, 0.024183997178486502, 9774.069200593709, 7647.103870256701, 4544.511416517838, 2378.18041777281, 870.9283717725668, 0.027471414840199892, 0.027471414840199892, 0.027471414840199892, 0.027471414840199892, 0.027471414840199892, 0.027471414840199892, 0.027471414840199892, 0.027471414840199892, 0.027471414840199892, 0.027471414840199892, 0.027471414840199892, 0.027471414840199892, 0.027471414840199892, 0.027471414840199892, 0.027471414840199892, 0.027471414840199892, 0.027471414840199892, 0.027471414840199892, 0.027471414840199892, 0.027471414840199892, 0.027471414840199892, 0.027471414840199892, 0.027471414840199892, 0.027471414840199892, 0.027471414840199892, 0.027471414840199892, 0.027471414840199892, 0.027471414840199892, 0.027471414840199892, 0.027471414840199892, 0.027471414840199892, 0.027471414840199892, 0.027471414840199892, 0.027471414840199892, 0.027471414840199892, 0.027471414840199892, 0.027471414840199892, 0.027471414840199892, 0.027471414840199892, 0.027471414840199892, 0.027471414840199892, 0.027471414840199892, 0.027471414840199892, 0.027471414840199892, 0.027471414840199892, 0.027471414840199892, 0.027471414840199892, 0.027471414840199892, 0.027471414840199892, 6572.191972323373, 3954.323504349918, 1807.6368571859643, 868.7282137178913, 658.6271560001866, 603.0666714430746, 511.58982403137685, 420.09593720121256, 252.6645163384076, 0.029808944103515592, 0.029808944103515592, 0.029808944103515592, 0.029808944103515592, 0.029808944103515592, 0.029808944103515592, 0.029808944103515592, 0.029808944103515592, 0.029808944103515592, 0.029808944103515592, 0.029808944103515592, 0.029808944103515592, 0.029808944103515592, 0.029808944103515592, 0.029808944103515592, 0.029808944103515592, 0.029808944103515592, 0.029808944103515592, 0.029808944103515592, 0.029808944103515592, 0.029808944103515592, 0.029808944103515592, 0.029808944103515592, 0.029808944103515592, 0.029808944103515592, 0.029808944103515592, 0.029808944103515592, 0.029808944103515592, 0.029808944103515592, 0.029808944103515592, 0.029808944103515592, 0.029808944103515592, 0.029808944103515592, 0.029808944103515592, 0.029808944103515592, 0.029808944103515592, 0.029808944103515592, 0.029808944103515592, 0.029808944103515592, 0.029808944103515592, 0.029808944103515592, 0.029808944103515592, 4221.2651085342495, 4100.906509570136, 2215.9352764574, 983.6727821375317, 287.01333997134566, 0.02239924300396407, 0.02239924300396407, 0.02239924300396407, 0.02239924300396407, 0.02239924300396407, 0.02239924300396407, 0.02239924300396407, 0.02239924300396407, 0.02239924300396407, 0.02239924300396407, 0.02239924300396407, 0.02239924300396407, 0.02239924300396407, 0.02239924300396407, 0.02239924300396407, 0.02239924300396407, 0.02239924300396407, 0.02239924300396407, 0.02239924300396407, 0.02239924300396407, 0.02239924300396407, 0.02239924300396407, 0.02239924300396407, 0.02239924300396407, 0.02239924300396407, 0.02239924300396407, 0.02239924300396407, 0.02239924300396407, 0.02239924300396407, 0.02239924300396407, 0.02239924300396407, 0.02239924300396407, 0.02239924300396407, 0.02239924300396407, 0.02239924300396407, 0.02239924300396407, 0.02239924300396407, 0.02239924300396407, 0.02239924300396407, 0.02239924300396407, 0.02239924300396407, 0.02239924300396407, 0.02239924300396407, 0.02239924300396407, 0.02239924300396407, 0.02239924300396407, 0.02239924300396407, 0.02239924300396407, 0.02239924300396407, 0.005409542284567057, 0.005409542284567057, 0.005409542284567057, 0.005409542284567057, 0.005409542284567057, 0.005409542284567057, 0.005409542284567057, 0.005409542284567057, 0.005409542284567057, 0.005409542284567057, 0.005409542284567057, 0.005409542284567057, 0.005409542284567057, 0.005409542284567057, 0.005409542284567057, 0.005409542284567057, 0.005409542284567057, 0.005409542284567057, 0.005409542284567057, 0.005409542284567057, 0.005409542284567057, 0.005409542284567057, 0.005409542284567057, 0.005409542284567057, 0.005409542284567057, 0.005409542284567057, 0.005409542284567057, 0.005409542284567057, 0.005409542284567057, 0.005409542284567057, 0.005409542284567057, 0.005409542284567057, 0.005409542284567057, 0.005409542284567057, 0.005409542284567057, 0.005409542284567057, 0.005409542284567057, 0.005409542284567057, 0.005409542284567057, 0.005409542284567057, 0.005409542284567057, 0.005409542284567057, 0.005409542284567057, 0.005409542284567057, 0.005409542284567057, 0.005409542284567057, 0.005409542284567057, 0.005409542284567057, 0.005409542284567057, 0.005409542284567057, 0.005409542284567057, 0.005409542284567057, 0.005409542284567057, 0.005409542284567057, 0.005409542284567057, 0.005409542284567057, 0.005409542284567057, 0.005409542284567057, 0.005409542284567057, 0.005397125629726625, 0.005397125629726625, 0.005397125629726625, 0.005397125629726625, 0.005397125629726625, 0.005397125629726625, 0.005397125629726625, 0.005397125629726625, 0.005397125629726625, 0.005397125629726625, 0.005397125629726625, 0.005397125629726625, 0.005397125629726625, 0.005397125629726625, 0.005397125629726625, 0.005397125629726625, 0.005397125629726625, 0.005397125629726625, 0.005397125629726625, 0.005397125629726625, 0.005397125629726625, 0.005397125629726625, 0.005397125629726625, 0.005397125629726625, 0.005397125629726625, 0.005397125629726625, 0.005397125629726625, 0.005397125629726625, 0.005397125629726625, 0.005397125629726625, 0.005397125629726625, 0.005397125629726625, 0.005397125629726625, 0.005397125629726625, 0.005397125629726625, 0.005397125629726625, 0.005397125629726625, 0.005397125629726625, 0.005397125629726625, 0.005397125629726625, 0.005397125629726625, 0.005397125629726625, 0.005397125629726625, 0.005397125629726625, 0.005397125629726625, 0.005397125629726625, 0.005397125629726625, 0.005397125629726625, 0.005397125629726625, 0.005397125629726625, 0.005397125629726625, 0.005397125629726625, 0.005397125629726625, 0.005397125629726625, 0.005397125629726625, 0.005397125629726625, 0.005397125629726625, 0.005397125629726625, 0.005397125629726625], \"Total\": [68206.0, 46251.0, 52155.0, 40656.0, 47849.0, 39934.0, 36083.0, 38951.0, 40259.0, 40927.0, 34437.0, 72171.0, 31246.0, 37984.0, 32849.0, 28918.0, 30481.0, 30311.0, 27792.0, 32584.0, 58697.0, 23152.0, 55338.0, 24998.0, 23545.0, 23316.0, 28013.0, 26992.0, 50526.0, 21936.0, 72171.94421252309, 58697.802855294576, 55338.275880873494, 50526.62772861006, 47312.87900591492, 45788.354101389705, 33416.985197800794, 33128.152873420986, 31450.365654300895, 27154.322875008813, 26173.422763474442, 24729.18436925609, 22133.962981401677, 21927.61632279782, 19935.669343506946, 15234.408642033568, 13773.661722638451, 12863.24355327791, 8789.695623171003, 8061.006820576882, 6200.656883546982, 4768.184775959363, 4644.9534399760805, 3925.4782443958325, 3263.4863228943746, 2867.918495510099, 2320.711252256575, 1637.9663488445794, 1221.8913347978598, 957.8171546961443, 68206.61987238878, 37984.010191523616, 19122.572409015716, 16547.496599740312, 6738.837730355171, 4350.763269534263, 4232.661598930847, 2485.2732687347507, 770.8754441155602, 766.1930638203131, 672.4346494820879, 503.92634451361755, 311.4522483212537, 1.3297676469999402, 1.3297676469999402, 1.3297676469999402, 1.3297676469999402, 1.3297676469999402, 1.3297676469999402, 1.3297676469999402, 1.3297676469999402, 1.3297676469999402, 1.3297676469999402, 1.3297676469999402, 1.3297676469999402, 1.3297676469999402, 1.3297676469999402, 1.3297676469999402, 1.3297676469999402, 1.3297676469999402, 1.3297676469999402, 1.3297676469999402, 1.3297676469999402, 1.3297676469999402, 1.3297676469999402, 1.3297676469999402, 1.3297676469999402, 1.3297676469999402, 1.3297676469999402, 1.3297676469999402, 1.3297676469999402, 1.3297676469999402, 1.3297676469999402, 1.3297676469999402, 1.3297676469999402, 1.3297676469999402, 1.3297676469999402, 18825.56551393495, 17780.491112577973, 16762.2328745095, 15882.588823490247, 10690.095299722067, 10049.209172449056, 8654.518312989672, 6737.406929414333, 5808.210585364098, 5003.7123175194765, 4197.43047826324, 4044.0737213858074, 3621.4906579902217, 3369.944800683393, 3173.4301733230946, 3148.493900379336, 2956.9234423563125, 2563.229981995887, 2139.672031228212, 2007.792725290431, 1540.5570248771487, 1497.0597592892082, 1359.625099364328, 1284.012913784788, 1249.9388758086498, 1025.0629562806434, 1011.3077314783382, 943.0964557213573, 795.155815761286, 778.4174386388372, 52155.4991967518, 40927.963433471814, 16547.46736566141, 10953.440652581101, 6975.551419694065, 5782.327684013066, 5468.7402602056245, 2358.152026716371, 2270.1900878959545, 2260.1460360048327, 1637.8921829471083, 1607.6028997570486, 1463.3735534407117, 1305.305022371843, 991.655447847493, 985.709404142437, 629.7331488910569, 516.0751712369487, 368.9547588549938, 301.27095036324016, 228.552897328411, 1.3297676469999402, 1.3297676469999402, 1.3297676469999402, 1.3297676469999402, 1.3297676469999402, 1.3297676469999402, 1.3297676469999402, 1.3297676469999402, 1.3297676469999402, 1.3297676469999402, 1.3297676469999402, 1.3297676469999402, 1.3297676469999402, 1.3297676469999402, 1.3297676469999402, 1.3297676469999402, 1.3297676469999402, 1.3297676469999402, 47849.250664406856, 28013.433702941682, 26992.082372274224, 7886.502694075418, 6443.275129520564, 4762.283622004827, 3730.6429299417114, 3043.71421623008, 2773.984201077623, 1848.0914356606215, 885.6246213915574, 628.504490402409, 197.31018245416257, 1.3297676469999402, 1.3297676469999402, 1.3297676469999402, 1.3297676469999402, 1.3297676469999402, 1.3297676469999402, 1.3297676469999402, 1.3297676469999402, 1.3297676469999402, 1.3297676469999402, 1.3297676469999402, 1.3297676469999402, 1.3297676469999402, 1.3297676469999402, 1.3297676469999402, 1.3297676469999402, 1.3297676469999402, 1.3297676469999402, 1.3297676469999402, 1.3297676469999402, 1.3297676469999402, 1.3297676469999402, 1.3297676469999402, 1.3297676469999402, 1.3297676469999402, 1.3297676469999402, 1.3297676469999402, 1.3297676469999402, 1.3297676469999402, 1.3297676469999402, 1.3297676469999402, 1.3297676469999402, 1.3297676469999402, 1.3297676469999402, 40259.12044594776, 32584.358575085902, 25767.209885647815, 11997.692307109986, 3098.4813475643555, 2921.1404263149143, 2074.69891132031, 1940.0854230638815, 1786.0091506164472, 1536.4996899970242, 1332.2767120516705, 1183.2217747868883, 1174.1481976788805, 914.4605968429086, 474.83942976288193, 1.3297676469999402, 1.3297676469999402, 1.3297676469999402, 1.3297676469999402, 1.3297676469999402, 1.3297676469999402, 1.3297676469999402, 1.3297676469999402, 1.3297676469999402, 1.3297676469999402, 1.3297676469999402, 1.3297676469999402, 1.3297676469999402, 1.3297676469999402, 1.3297676469999402, 1.3297676469999402, 1.3297676469999402, 1.3297676469999402, 1.3297676469999402, 1.3297676469999402, 1.3297676469999402, 1.3297676469999402, 1.3297676469999402, 1.3297676469999402, 1.3297676469999402, 1.3297676469999402, 1.3297676469999402, 1.3297676469999402, 1.3297676469999402, 1.3297676469999402, 18170.15118379921, 16911.881659890183, 12828.166531798537, 9199.149489552483, 6915.645709071423, 6888.878065803489, 4819.396760262172, 4462.460012043952, 3745.0834249516292, 3452.579310892596, 3394.3546380538046, 3251.173875054688, 2873.247938409488, 2355.7548810160974, 1757.8094097412336, 1641.113561072057, 1461.0802885370042, 1327.9532666392995, 1321.4818344271287, 671.8038379375222, 622.5863094613396, 551.2056324704663, 480.885449240937, 443.5905251297162, 385.70414329469696, 288.8792151525005, 287.6852162869673, 169.5113255827314, 148.48427167298502, 32.77083709871163, 32849.94975721351, 16806.830444328607, 11407.001863970638, 11247.681364852544, 8254.311669525307, 6226.874289898546, 4838.355559795101, 4495.94605187556, 2070.329810665134, 1897.5901694122567, 1104.4451320314172, 452.21865263751005, 1.3297676469999402, 1.3297676469999402, 1.3297676469999402, 1.3297676469999402, 1.3297676469999402, 1.3297676469999402, 1.3297676469999402, 1.3297676469999402, 1.3297676469999402, 1.3297676469999402, 1.3297676469999402, 1.3297676469999402, 1.3297676469999402, 1.3297676469999402, 1.3297676469999402, 1.3297676469999402, 1.3297676469999402, 1.3297676469999402, 1.3297676469999402, 1.3297676469999402, 1.3297676469999402, 1.3297676469999402, 1.3297676469999402, 1.3297676469999402, 1.3297676469999402, 1.3297676469999402, 1.3297676469999402, 1.3297676469999402, 1.3297676469999402, 1.3297676469999402, 1.3297676469999402, 1.3297676469999402, 1.3297676469999402, 1.3297676469999402, 1.3297676469999402, 1.3297676469999402, 34437.52837995779, 17022.372027268382, 9160.961555233527, 7031.571070371453, 5210.284023172459, 4023.196718113302, 3942.015281952751, 3232.274338561742, 1558.9458316496766, 1421.5045183841428, 1400.2359169747026, 899.7737338432343, 773.7510502791081, 740.9868049515311, 509.82302770128354, 318.5856454501652, 1.3297676469999402, 1.3297676469999402, 1.3297676469999402, 1.3297676469999402, 1.3297676469999402, 1.3297676469999402, 1.3297676469999402, 1.3297676469999402, 1.3297676469999402, 1.3297676469999402, 1.3297676469999402, 1.3297676469999402, 1.3297676469999402, 1.3297676469999402, 1.3297676469999402, 1.3297676469999402, 1.3297676469999402, 1.3297676469999402, 1.3297676469999402, 1.3297676469999402, 1.3297676469999402, 1.3297676469999402, 1.3297676469999402, 1.3297676469999402, 1.3297676469999402, 1.3297676469999402, 1.3297676469999402, 1.3297676469999402, 30311.288060849998, 12859.550594720931, 10801.7828061671, 10712.515455231873, 10358.397422460617, 4267.298933970292, 2190.8819637889187, 1943.1332001075825, 1815.2635876036984, 1588.7719705958468, 1029.9703653698045, 837.1614969185308, 393.47274885692946, 246.171544159372, 128.44363783340725, 116.23413831709416, 1.3297676469999402, 1.3297676469999402, 1.3297676469999402, 1.3297676469999402, 1.3297676469999402, 1.3297676469999402, 1.3297676469999402, 1.3297676469999402, 1.3297676469999402, 1.3297676469999402, 1.3297676469999402, 1.3297676469999402, 1.3297676469999402, 1.3297676469999402, 1.3297676469999402, 1.3297676469999402, 1.3297676469999402, 1.3297676469999402, 1.3297676469999402, 1.3297676469999402, 1.3297676469999402, 1.3297676469999402, 1.3297676469999402, 1.3297676469999402, 1.3297676469999402, 1.3297676469999402, 1.3297676469999402, 1.3297676469999402, 46251.78986180561, 30481.609173015226, 4505.710656855123, 3344.39497650715, 1135.5350412030227, 851.9375962323109, 258.28980275894247, 172.04182190013515, 1.3297676469999402, 1.3297676469999402, 1.3297676469999402, 1.3297676469999402, 1.3297676469999402, 1.3297676469999402, 1.3297676469999402, 1.3297676469999402, 1.3297676469999402, 1.3297676469999402, 1.3297676469999402, 1.3297676469999402, 1.3297676469999402, 1.3297676469999402, 1.3297676469999402, 1.3297676469999402, 1.3297676469999402, 1.3297676469999402, 1.3297676469999402, 1.3297676469999402, 1.3297676469999402, 1.3297676469999402, 1.3297676469999402, 1.3297676469999402, 1.3297676469999402, 1.3297676469999402, 1.3297676469999402, 1.3297676469999402, 1.3297676469999402, 1.3297676469999402, 1.3297676469999402, 1.3297676469999402, 1.3297676469999402, 1.3297676469999402, 1.3297676469999402, 1.3297676469999402, 1.3297676469999402, 1.3297676469999402, 1.3297676469999402, 1.3297676469999402, 1.3297676469999402, 1.3297676469999402, 1.3297676469999402, 1.3297676469999402, 38951.88489223811, 8484.690599987169, 5602.813348138464, 5219.7298041537715, 4181.869507805211, 3142.3341663990914, 2371.4600121659687, 2092.7845563836595, 1801.0096117919918, 1774.337950665859, 1728.660748079239, 1641.929833711099, 1517.2513216261434, 1347.464161156363, 1152.920101534467, 1024.8122633707264, 874.0177865985656, 703.0019865257824, 605.9795580364987, 400.1093361877186, 377.92893181169535, 329.07365186882237, 1.3297676469999402, 1.3297676469999402, 1.3297676469999402, 1.3297676469999402, 1.3297676469999402, 1.3297676469999402, 1.3297676469999402, 1.3297676469999402, 1.3297676469999402, 1.3297676469999402, 1.3297676469999402, 1.3297676469999402, 1.3297676469999402, 1.3297676469999402, 1.3297676469999402, 1.3297676469999402, 21053.161962522405, 10205.207174851748, 5610.130473179922, 3433.4215264974546, 3399.965281969854, 3169.395687189954, 3065.3669574918845, 2991.0973269439382, 2732.2692091951203, 2545.381113987159, 2451.732904198558, 2116.7318118649264, 1906.4728617890598, 1850.665779529001, 1701.224775658114, 1572.5035346481548, 1442.161538006168, 1291.7185359795808, 1080.2146093471113, 1045.6341233650874, 960.2534501296552, 897.364908829101, 852.2072817357014, 850.5034959150605, 732.8396375471742, 731.8756618201027, 552.4536951497868, 535.0729206768311, 514.5846262958225, 482.02341703753933, 22053.701242046463, 17762.215865499686, 13980.77495083367, 11865.174589656972, 3986.7227130410765, 3561.284278836567, 2273.4488418481155, 1488.8124820273745, 1230.306974095561, 755.458110907721, 309.46739558308053, 292.9176991032277, 232.82488996637505, 216.13225750791662, 164.98565999902127, 1.3297676469999402, 1.3297676469999402, 1.3297676469999402, 1.3297676469999402, 1.3297676469999402, 1.3297676469999402, 1.3297676469999402, 1.3297676469999402, 1.3297676469999402, 1.3297676469999402, 1.3297676469999402, 1.3297676469999402, 1.3297676469999402, 1.3297676469999402, 1.3297676469999402, 1.3297676469999402, 1.3297676469999402, 1.3297676469999402, 1.3297676469999402, 1.3297676469999402, 1.3297676469999402, 1.3297676469999402, 1.3297676469999402, 1.3297676469999402, 1.3297676469999402, 1.3297676469999402, 1.3297676469999402, 1.3297676469999402, 1.3297676469999402, 1.3297676469999402, 24998.893556001087, 13035.322186523355, 9364.169024947498, 7476.491992353962, 6321.585914824291, 5049.094725383961, 2672.0227067745477, 2601.5651179490956, 2334.824434256405, 1255.9570731273006, 1226.2204249542185, 731.5305702908469, 637.2692578292063, 381.16881036672066, 145.0269427993352, 1.3297676469999402, 1.3297676469999402, 1.3297676469999402, 1.3297676469999402, 1.3297676469999402, 1.3297676469999402, 1.3297676469999402, 1.3297676469999402, 1.3297676469999402, 1.3297676469999402, 1.3297676469999402, 1.3297676469999402, 1.3297676469999402, 1.3297676469999402, 1.3297676469999402, 1.3297676469999402, 1.3297676469999402, 1.3297676469999402, 1.3297676469999402, 1.3297676469999402, 1.3297676469999402, 1.3297676469999402, 1.3297676469999402, 1.3297676469999402, 1.3297676469999402, 1.3297676469999402, 1.3297676469999402, 1.3297676469999402, 1.3297676469999402, 1.3297676469999402, 39934.496294485994, 7301.007082118541, 6972.875031117536, 3557.0207322749698, 2848.8197466830484, 2841.8088537216713, 2351.2607164311867, 1577.5063768013417, 1398.8961272179959, 1053.0586043814856, 1007.001847463517, 864.0504867268882, 790.5577052748525, 614.720353012939, 587.7120392307228, 534.7845816565641, 506.85252480419456, 308.8928977672021, 180.68089460554827, 92.6399761082268, 46.401044613425825, 1.3297676469999402, 1.3297676469999402, 1.3297676469999402, 1.3297676469999402, 1.3297676469999402, 1.3297676469999402, 1.3297676469999402, 1.3297676469999402, 1.3297676469999402, 1.3297676469999402, 1.3297676469999402, 1.3297676469999402, 1.3297676469999402, 1.3297676469999402, 1.3297676469999402, 1.3297676469999402, 1.3297676469999402, 1.3297676469999402, 19986.411978924283, 15470.499134183112, 8369.12278232785, 7309.136778832505, 6277.897644594613, 4451.3431300389475, 2654.797216333957, 2233.3558856428676, 2117.7112219255882, 2092.2565529842186, 1899.7450002371884, 762.2053970624032, 181.73381830773866, 1.3297676469999402, 1.3297676469999402, 1.3297676469999402, 1.3297676469999402, 1.3297676469999402, 1.3297676469999402, 1.3297676469999402, 1.3297676469999402, 1.3297676469999402, 1.3297676469999402, 1.3297676469999402, 1.3297676469999402, 1.3297676469999402, 1.3297676469999402, 1.3297676469999402, 1.3297676469999402, 1.3297676469999402, 1.3297676469999402, 1.3297676469999402, 1.3297676469999402, 1.3297676469999402, 1.3297676469999402, 1.3297676469999402, 1.3297676469999402, 1.3297676469999402, 1.3297676469999402, 1.3297676469999402, 1.3297676469999402, 1.3297676469999402, 1.3297676469999402, 1.3297676469999402, 1.3297676469999402, 1.3297676469999402, 14960.433261437181, 7696.386151813079, 7226.356422177123, 6667.907197872958, 6367.620957021434, 4908.496771376244, 3670.0742178870964, 3540.015977368039, 2303.710678641906, 2132.4983417789044, 1666.0992756992305, 1636.4706771507194, 1598.9068224144312, 1366.636097460343, 1184.3933971828608, 1045.6480936192431, 1014.0317836857378, 1001.5529211258686, 911.99257559021, 872.4594959573773, 848.5039730417126, 405.9868978005093, 69.57811025203625, 1.3297676469999402, 1.3297676469999402, 1.3297676469999402, 1.3297676469999402, 1.3297676469999402, 1.3297676469999402, 1.3297676469999402, 1.3297676469999402, 1.3297676469999402, 1.3297676469999402, 1.3297676469999402, 1.3297676469999402, 1.3297676469999402, 1.3297676469999402, 8303.071990507151, 5637.217547215321, 5384.056003979979, 4890.239112184462, 4220.21644589556, 4082.3732565460086, 3832.0721039504415, 3462.4270919755654, 3280.4773686009135, 2480.536179702928, 2289.380028553335, 1878.3194264317451, 1735.206415863953, 1728.9826821145903, 1590.620511547529, 1504.850009134061, 1449.1672171910438, 1436.523633249885, 1422.414159718753, 1291.0254372682134, 1270.7081240400585, 1262.6448557753722, 1228.1121984640572, 1055.5504722080282, 963.0930860539152, 760.7455689742171, 708.5655298371597, 572.894168453127, 476.00416008348134, 461.4557817256535, 40656.92172833848, 10825.22508988127, 8463.626188224282, 5364.030880281497, 2646.5952117221937, 1175.5727547594934, 537.0597967136624, 536.9500845682004, 490.36290297642813, 362.40335573763366, 1.3297676469999402, 1.3297676469999402, 1.3297676469999402, 1.3297676469999402, 1.3297676469999402, 1.3297676469999402, 1.3297676469999402, 1.3297676469999402, 1.3297676469999402, 1.3297676469999402, 1.3297676469999402, 1.3297676469999402, 1.3297676469999402, 1.3297676469999402, 1.3297676469999402, 1.3297676469999402, 1.3297676469999402, 1.3297676469999402, 1.3297676469999402, 1.3297676469999402, 1.3297676469999402, 1.3297676469999402, 1.3297676469999402, 1.3297676469999402, 1.3297676469999402, 1.3297676469999402, 1.3297676469999402, 1.3297676469999402, 1.3297676469999402, 1.3297676469999402, 1.3297676469999402, 1.3297676469999402, 1.3297676469999402, 1.3297676469999402, 1.3297676469999402, 1.3297676469999402, 1.3297676469999402, 1.3297676469999402, 1.3297676469999402, 1.3297676469999402, 27792.318136099657, 15163.32910771047, 10101.468415963007, 6684.631922220017, 4121.4900528800135, 1601.6888744240837, 1302.8682884450172, 1078.7851381644928, 936.8432615249945, 655.6060923346325, 565.9839655132815, 359.9347179571392, 127.67576503686945, 1.3297676469999402, 1.3297676469999402, 1.3297676469999402, 1.3297676469999402, 1.3297676469999402, 1.3297676469999402, 1.3297676469999402, 1.3297676469999402, 1.3297676469999402, 1.3297676469999402, 1.3297676469999402, 1.3297676469999402, 1.3297676469999402, 1.3297676469999402, 1.3297676469999402, 1.3297676469999402, 1.3297676469999402, 1.3297676469999402, 1.3297676469999402, 1.3297676469999402, 1.3297676469999402, 1.3297676469999402, 1.3297676469999402, 1.3297676469999402, 1.3297676469999402, 1.3297676469999402, 1.3297676469999402, 1.3297676469999402, 1.3297676469999402, 1.3297676469999402, 1.3297676469999402, 1.3297676469999402, 1.3297676469999402, 1.3297676469999402, 23545.24615146641, 19517.838155603706, 12784.983082155939, 9273.97138704198, 4620.459596737961, 1.3297676469999402, 1.3297676469999402, 1.3297676469999402, 1.3297676469999402, 1.3297676469999402, 1.3297676469999402, 1.3297676469999402, 1.3297676469999402, 1.3297676469999402, 1.3297676469999402, 1.3297676469999402, 1.3297676469999402, 1.3297676469999402, 1.3297676469999402, 1.3297676469999402, 1.3297676469999402, 1.3297676469999402, 1.3297676469999402, 1.3297676469999402, 1.3297676469999402, 1.3297676469999402, 1.3297676469999402, 1.3297676469999402, 1.3297676469999402, 1.3297676469999402, 1.3297676469999402, 1.3297676469999402, 1.3297676469999402, 1.3297676469999402, 1.3297676469999402, 1.3297676469999402, 1.3297676469999402, 1.3297676469999402, 1.3297676469999402, 1.3297676469999402, 1.3297676469999402, 1.3297676469999402, 1.3297676469999402, 1.3297676469999402, 1.3297676469999402, 1.3297676469999402, 1.3297676469999402, 1.3297676469999402, 1.3297676469999402, 1.3297676469999402, 1.3297676469999402, 1.3297676469999402, 1.3297676469999402, 1.3297676469999402, 23316.78485131625, 10216.790290111929, 4761.038407951566, 4149.012277772225, 2692.9913383683443, 2571.136822008107, 2517.2386668059103, 2371.6585869841374, 2282.694794510224, 1787.5526780760476, 1684.4815045896626, 1409.223488129009, 1357.7817926208816, 1348.9130838975827, 1282.9963410209477, 963.7746773657332, 883.6309281445691, 582.0622180433493, 412.80434845495125, 389.23774400094936, 385.0437550229627, 169.27504037473298, 1.3297676469999402, 1.3297676469999402, 1.3297676469999402, 1.3297676469999402, 1.3297676469999402, 1.3297676469999402, 1.3297676469999402, 1.3297676469999402, 1.3297676469999402, 1.3297676469999402, 1.3297676469999402, 1.3297676469999402, 1.3297676469999402, 1.3297676469999402, 1.3297676469999402, 1.3297676469999402, 31246.705797801354, 5042.092780322505, 4785.987382142749, 4723.563631627312, 3404.432288468939, 2624.711807768707, 2446.3352745355546, 1941.3356114056473, 1834.966053439018, 1362.9313386844167, 1343.3369628719427, 1179.1039940909986, 1010.812286732297, 746.6890817336105, 608.6032978593714, 545.9692085646585, 423.0442202235656, 408.55874589886616, 285.46328691313164, 221.87265921109045, 72.58043010731542, 1.3297676469999402, 1.3297676469999402, 1.3297676469999402, 1.3297676469999402, 1.3297676469999402, 1.3297676469999402, 1.3297676469999402, 1.3297676469999402, 1.3297676469999402, 1.3297676469999402, 1.3297676469999402, 1.3297676469999402, 1.3297676469999402, 1.3297676469999402, 1.3297676469999402, 1.3297676469999402, 1.3297676469999402, 1.3297676469999402, 21936.725313508097, 9453.95758282382, 4267.317032014867, 4163.479135208119, 3736.045645010823, 3113.3454227053517, 2738.098780541995, 2529.550893384577, 2115.738309288741, 1578.674364374061, 1546.3859157203544, 1433.5509122884262, 1056.5076142155751, 1049.6255566552936, 1012.2504717902908, 866.6175783104052, 769.1195200881596, 587.5075827674285, 528.5567011579178, 479.69764184138455, 369.41015402083684, 1.3297676469999402, 1.3297676469999402, 1.3297676469999402, 1.3297676469999402, 1.3297676469999402, 1.3297676469999402, 1.3297676469999402, 1.3297676469999402, 1.3297676469999402, 1.3297676469999402, 1.3297676469999402, 1.3297676469999402, 1.3297676469999402, 1.3297676469999402, 1.3297676469999402, 1.3297676469999402, 1.3297676469999402, 1.3297676469999402, 28918.98088361144, 4490.7946447596, 4243.566717107117, 3883.4696693696947, 3139.501541818364, 2490.112795876329, 2092.0935648232744, 2014.5819287289867, 1824.5262268525225, 1804.7925939711754, 1611.6038696442347, 1490.6974227304738, 1210.8025814589125, 753.1645598871268, 709.1927684701714, 683.4471045999475, 657.6214358644985, 575.942485719799, 485.7704327565895, 452.1528857331771, 434.1818466074567, 328.5425138368022, 317.80715647437853, 196.68718928523788, 164.66014573655474, 153.52745032034193, 1.3297676469999402, 1.3297676469999402, 1.3297676469999402, 1.3297676469999402, 1.3297676469999402, 1.3297676469999402, 1.3297676469999402, 1.3297676469999402, 17599.082483980645, 16370.155219723096, 8454.015807263122, 5910.0175546812825, 4250.292232281525, 3809.4789184172378, 3780.6844185713453, 2704.482676603349, 1658.4902072294094, 1.3297676469999402, 1.3297676469999402, 1.3297676469999402, 1.3297676469999402, 1.3297676469999402, 1.3297676469999402, 1.3297676469999402, 1.3297676469999402, 1.3297676469999402, 1.3297676469999402, 1.3297676469999402, 1.3297676469999402, 1.3297676469999402, 1.3297676469999402, 1.3297676469999402, 1.3297676469999402, 1.3297676469999402, 1.3297676469999402, 1.3297676469999402, 1.3297676469999402, 1.3297676469999402, 1.3297676469999402, 1.3297676469999402, 1.3297676469999402, 1.3297676469999402, 1.3297676469999402, 1.3297676469999402, 1.3297676469999402, 1.3297676469999402, 1.3297676469999402, 1.3297676469999402, 1.3297676469999402, 1.3297676469999402, 1.3297676469999402, 1.3297676469999402, 1.3297676469999402, 1.3297676469999402, 1.3297676469999402, 1.3297676469999402, 1.3297676469999402, 1.3297676469999402, 1.3297676469999402, 10232.274779496487, 10161.992932557292, 6051.176281893482, 5205.782769667376, 3381.628983196259, 3117.985059476145, 2698.8490624100837, 2504.88651238661, 2476.8176979922177, 2266.4537178026194, 1448.9103436916284, 1407.0233161080391, 1265.3656498162948, 1229.1870187489835, 1164.3788163851782, 1141.295111937932, 1106.050524091618, 1086.981361521711, 1039.8273088958006, 734.7848922203415, 699.3959189280077, 601.6935441099313, 491.13276766359104, 441.4344756299922, 344.40668758263615, 257.357157260377, 121.98547359526248, 1.3297676469999402, 1.3297676469999402, 1.3297676469999402, 1.3297676469999402, 1.3297676469999402, 1.3297676469999402, 17827.768536771713, 16658.01516460285, 6281.709130247887, 4947.772008935898, 4731.802770517281, 3921.1482834385106, 2499.2136554923745, 2240.0878750779398, 751.2521070081297, 710.9508077807761, 628.4839874345711, 592.7788434019357, 455.3489686877103, 184.236979951064, 1.3297676469999402, 1.3297676469999402, 1.3297676469999402, 1.3297676469999402, 1.3297676469999402, 1.3297676469999402, 1.3297676469999402, 1.3297676469999402, 1.3297676469999402, 1.3297676469999402, 1.3297676469999402, 1.3297676469999402, 1.3297676469999402, 1.3297676469999402, 1.3297676469999402, 1.3297676469999402, 1.3297676469999402, 1.3297676469999402, 1.3297676469999402, 1.3297676469999402, 1.3297676469999402, 1.3297676469999402, 1.3297676469999402, 1.3297676469999402, 1.3297676469999402, 1.3297676469999402, 1.3297676469999402, 1.3297676469999402, 1.3297676469999402, 1.3297676469999402, 1.3297676469999402, 1.3297676469999402, 11126.741882183711, 8008.082650532745, 6717.3385042217205, 6539.429215521321, 4230.70981410651, 2816.6509774947926, 2789.3859047356705, 2369.380851115944, 2048.2512442040334, 1731.696502818317, 1539.1362147897826, 1460.040390609526, 903.8916228984423, 740.8510768440508, 677.2133094893061, 655.4008967911601, 600.3097963612552, 581.1127741713805, 556.874516147197, 452.201371619643, 86.4390439498902, 17.2615497549999, 1.3297676469999402, 1.3297676469999402, 1.3297676469999402, 1.3297676469999402, 1.3297676469999402, 1.3297676469999402, 1.3297676469999402, 1.3297676469999402, 1.3297676469999402, 1.3297676469999402, 1.3297676469999402, 1.3297676469999402, 1.3297676469999402, 1.3297676469999402, 1.3297676469999402, 1.3297676469999402, 11786.421337229734, 8074.322080329827, 6383.934937053394, 6268.0474084905745, 5987.386315202903, 5527.132423093989, 5304.731701605578, 3437.6314696521463, 1199.7889442325536, 538.5851678183767, 313.1457024358124, 1.3297676469999402, 1.3297676469999402, 1.3297676469999402, 1.3297676469999402, 1.3297676469999402, 1.3297676469999402, 1.3297676469999402, 1.3297676469999402, 1.3297676469999402, 1.3297676469999402, 1.3297676469999402, 1.3297676469999402, 1.3297676469999402, 1.3297676469999402, 1.3297676469999402, 1.3297676469999402, 1.3297676469999402, 1.3297676469999402, 1.3297676469999402, 1.3297676469999402, 1.3297676469999402, 1.3297676469999402, 1.3297676469999402, 1.3297676469999402, 1.3297676469999402, 1.3297676469999402, 1.3297676469999402, 1.3297676469999402, 1.3297676469999402, 1.3297676469999402, 1.3297676469999402, 1.3297676469999402, 1.3297676469999402, 1.3297676469999402, 1.3297676469999402, 1.3297676469999402, 1.3297676469999402, 1.3297676469999402, 23152.106327922487, 9394.830208496669, 6627.353978452391, 6506.921227057542, 5998.280447548293, 1301.2496356989711, 466.54933514538754, 300.8165454588277, 274.39115115374324, 1.3297676469999402, 1.3297676469999402, 1.3297676469999402, 1.3297676469999402, 1.3297676469999402, 1.3297676469999402, 1.3297676469999402, 1.3297676469999402, 1.3297676469999402, 1.3297676469999402, 1.3297676469999402, 1.3297676469999402, 1.3297676469999402, 1.3297676469999402, 1.3297676469999402, 1.3297676469999402, 1.3297676469999402, 1.3297676469999402, 1.3297676469999402, 1.3297676469999402, 1.3297676469999402, 1.3297676469999402, 1.3297676469999402, 1.3297676469999402, 1.3297676469999402, 1.3297676469999402, 1.3297676469999402, 1.3297676469999402, 1.3297676469999402, 1.3297676469999402, 1.3297676469999402, 1.3297676469999402, 1.3297676469999402, 1.3297676469999402, 1.3297676469999402, 1.3297676469999402, 1.3297676469999402, 1.3297676469999402, 1.3297676469999402, 1.3297676469999402, 1.3297676469999402, 11622.334014394475, 9996.25600518841, 7197.528912558042, 5182.240278125302, 4818.767324733839, 3762.480248115161, 3009.7870806565866, 2651.360101530706, 2209.2347864789263, 1980.0382420405151, 481.9544721728431, 406.6451475204042, 342.89891884110403, 166.14515811654164, 1.3297676469999402, 1.3297676469999402, 1.3297676469999402, 1.3297676469999402, 1.3297676469999402, 1.3297676469999402, 1.3297676469999402, 1.3297676469999402, 1.3297676469999402, 1.3297676469999402, 1.3297676469999402, 1.3297676469999402, 1.3297676469999402, 1.3297676469999402, 1.3297676469999402, 1.3297676469999402, 1.3297676469999402, 1.3297676469999402, 1.3297676469999402, 1.3297676469999402, 1.3297676469999402, 1.3297676469999402, 1.3297676469999402, 1.3297676469999402, 1.3297676469999402, 1.3297676469999402, 1.3297676469999402, 1.3297676469999402, 1.3297676469999402, 1.3297676469999402, 1.3297676469999402, 1.3297676469999402, 14373.356115370216, 10379.733357641828, 5275.516672437419, 4399.112156866819, 3824.1741889923087, 3188.334191971889, 2369.6505393195494, 2141.2474421877514, 2096.7797025717678, 2072.909262567894, 559.2421474544551, 498.76338616316883, 362.4986014815717, 194.32925914378217, 142.72988607799067, 1.3297676469999402, 1.3297676469999402, 1.3297676469999402, 1.3297676469999402, 1.3297676469999402, 1.3297676469999402, 1.3297676469999402, 1.3297676469999402, 1.3297676469999402, 1.3297676469999402, 1.3297676469999402, 1.3297676469999402, 1.3297676469999402, 1.3297676469999402, 1.3297676469999402, 1.3297676469999402, 1.3297676469999402, 1.3297676469999402, 1.3297676469999402, 1.3297676469999402, 1.3297676469999402, 1.3297676469999402, 1.3297676469999402, 1.3297676469999402, 1.3297676469999402, 1.3297676469999402, 1.3297676469999402, 1.3297676469999402, 1.3297676469999402, 1.3297676469999402, 10776.867068609645, 10444.46796545952, 6270.511751960427, 3646.029328543049, 3537.920250232466, 2840.717471299383, 2720.489447612352, 2119.6210631763133, 2084.2053259475074, 1774.4043259354644, 1674.8521317078685, 1512.9343455397564, 1106.0548104064676, 648.9392830277819, 415.95684921684506, 1.3297676469999402, 1.3297676469999402, 1.3297676469999402, 1.3297676469999402, 1.3297676469999402, 1.3297676469999402, 1.3297676469999402, 1.3297676469999402, 1.3297676469999402, 1.3297676469999402, 1.3297676469999402, 1.3297676469999402, 1.3297676469999402, 1.3297676469999402, 1.3297676469999402, 1.3297676469999402, 1.3297676469999402, 1.3297676469999402, 1.3297676469999402, 1.3297676469999402, 1.3297676469999402, 1.3297676469999402, 1.3297676469999402, 1.3297676469999402, 1.3297676469999402, 1.3297676469999402, 1.3297676469999402, 1.3297676469999402, 1.3297676469999402, 1.3297676469999402, 36083.56017807103, 5150.207300688496, 4007.0546103230913, 2843.4930807321302, 1428.826471374342, 1213.6160136709714, 431.68881397144776, 1.3297676469999402, 1.3297676469999402, 1.3297676469999402, 1.3297676469999402, 1.3297676469999402, 1.3297676469999402, 1.3297676469999402, 1.3297676469999402, 1.3297676469999402, 1.3297676469999402, 1.3297676469999402, 1.3297676469999402, 1.3297676469999402, 1.3297676469999402, 1.3297676469999402, 1.3297676469999402, 1.3297676469999402, 1.3297676469999402, 1.3297676469999402, 1.3297676469999402, 1.3297676469999402, 1.3297676469999402, 1.3297676469999402, 1.3297676469999402, 1.3297676469999402, 1.3297676469999402, 1.3297676469999402, 1.3297676469999402, 1.3297676469999402, 1.3297676469999402, 1.3297676469999402, 1.3297676469999402, 1.3297676469999402, 1.3297676469999402, 1.3297676469999402, 1.3297676469999402, 1.3297676469999402, 1.3297676469999402, 1.3297676469999402, 1.3297676469999402, 1.3297676469999402, 1.3297676469999402, 1.3297676469999402, 1.3297676469999402, 1.3297676469999402, 10714.573435974711, 8754.338729947773, 8676.507936149383, 5133.774550673351, 4244.559667023568, 3745.856577829507, 2647.516845579714, 2464.5556336058485, 1972.5862123024385, 578.2915218474824, 1.3297676469999402, 1.3297676469999402, 1.3297676469999402, 1.3297676469999402, 1.3297676469999402, 1.3297676469999402, 1.3297676469999402, 1.3297676469999402, 1.3297676469999402, 1.3297676469999402, 1.3297676469999402, 1.3297676469999402, 1.3297676469999402, 1.3297676469999402, 1.3297676469999402, 1.3297676469999402, 1.3297676469999402, 1.3297676469999402, 1.3297676469999402, 1.3297676469999402, 1.3297676469999402, 1.3297676469999402, 1.3297676469999402, 1.3297676469999402, 1.3297676469999402, 1.3297676469999402, 1.3297676469999402, 1.3297676469999402, 1.3297676469999402, 1.3297676469999402, 1.3297676469999402, 1.3297676469999402, 1.3297676469999402, 1.3297676469999402, 1.3297676469999402, 1.3297676469999402, 1.3297676469999402, 1.3297676469999402, 1.3297676469999402, 1.3297676469999402, 9129.56735862353, 8215.626936833907, 7711.9347502178725, 6021.173599157622, 4479.235462426304, 1933.3494923578837, 1911.4815851358862, 1846.4521648627904, 1186.7654911298014, 1159.3852517098737, 865.5585161167849, 304.3543187931307, 233.43268809203042, 1.3297676469999402, 1.3297676469999402, 1.3297676469999402, 1.3297676469999402, 1.3297676469999402, 1.3297676469999402, 1.3297676469999402, 1.3297676469999402, 1.3297676469999402, 1.3297676469999402, 1.3297676469999402, 1.3297676469999402, 1.3297676469999402, 1.3297676469999402, 1.3297676469999402, 1.3297676469999402, 1.3297676469999402, 1.3297676469999402, 1.3297676469999402, 1.3297676469999402, 1.3297676469999402, 1.3297676469999402, 1.3297676469999402, 1.3297676469999402, 1.3297676469999402, 1.3297676469999402, 1.3297676469999402, 1.3297676469999402, 1.3297676469999402, 1.3297676469999402, 1.3297676469999402, 1.3297676469999402, 1.3297676469999402, 1.3297676469999402, 10247.241203620428, 8125.508886300354, 7559.202148131733, 5096.401176791818, 4666.818065110589, 3286.830526546917, 2494.5192359950356, 1064.5261996001639, 1.3297676469999402, 1.3297676469999402, 1.3297676469999402, 1.3297676469999402, 1.3297676469999402, 1.3297676469999402, 1.3297676469999402, 1.3297676469999402, 1.3297676469999402, 1.3297676469999402, 1.3297676469999402, 1.3297676469999402, 1.3297676469999402, 1.3297676469999402, 1.3297676469999402, 1.3297676469999402, 1.3297676469999402, 1.3297676469999402, 1.3297676469999402, 1.3297676469999402, 1.3297676469999402, 1.3297676469999402, 1.3297676469999402, 1.3297676469999402, 1.3297676469999402, 1.3297676469999402, 1.3297676469999402, 1.3297676469999402, 1.3297676469999402, 1.3297676469999402, 1.3297676469999402, 1.3297676469999402, 1.3297676469999402, 1.3297676469999402, 1.3297676469999402, 1.3297676469999402, 1.3297676469999402, 1.3297676469999402, 1.3297676469999402, 1.3297676469999402, 1.3297676469999402, 1.3297676469999402, 1.3297676469999402, 1.3297676469999402, 9642.607310688794, 8260.598654205329, 6278.701714037126, 3052.2070928481644, 2751.1788479859265, 2653.084654983891, 1551.8016306425297, 1519.1125903037453, 999.314329075155, 748.2221971929109, 552.8859669415482, 484.28490518886446, 467.4093840799651, 393.6828842244253, 325.6137793429467, 301.04828480953734, 183.5870685586623, 1.3297676469999402, 1.3297676469999402, 1.3297676469999402, 1.3297676469999402, 1.3297676469999402, 1.3297676469999402, 1.3297676469999402, 1.3297676469999402, 1.3297676469999402, 1.3297676469999402, 1.3297676469999402, 1.3297676469999402, 1.3297676469999402, 1.3297676469999402, 1.3297676469999402, 1.3297676469999402, 1.3297676469999402, 1.3297676469999402, 1.3297676469999402, 1.3297676469999402, 1.3297676469999402, 1.3297676469999402, 1.3297676469999402, 1.3297676469999402, 1.3297676469999402, 1.3297676469999402, 8879.349537179365, 7047.907800926203, 5368.301015771316, 4399.009254090084, 2466.8824427656064, 2042.5875020926367, 1442.5729080756819, 1288.2409529733134, 1174.1202428259114, 1067.2392048073023, 972.0029160926185, 399.40194035701614, 354.73728911716086, 354.17569488232675, 60.47298548505214, 1.3297676469999402, 1.3297676469999402, 1.3297676469999402, 1.3297676469999402, 1.3297676469999402, 1.3297676469999402, 1.3297676469999402, 1.3297676469999402, 1.3297676469999402, 1.3297676469999402, 1.3297676469999402, 1.3297676469999402, 1.3297676469999402, 1.3297676469999402, 1.3297676469999402, 1.3297676469999402, 1.3297676469999402, 1.3297676469999402, 1.3297676469999402, 1.3297676469999402, 1.3297676469999402, 1.3297676469999402, 1.3297676469999402, 1.3297676469999402, 1.3297676469999402, 1.3297676469999402, 1.3297676469999402, 1.3297676469999402, 1.3297676469999402, 1.3297676469999402, 15955.788296855566, 6816.4887622536735, 3239.8587592795607, 3190.1391132264744, 2926.5730785021715, 2473.90774575601, 1123.5370249175976, 1046.7640836432417, 281.77007535493215, 1.3297676469999402, 1.3297676469999402, 1.3297676469999402, 1.3297676469999402, 1.3297676469999402, 1.3297676469999402, 1.3297676469999402, 1.3297676469999402, 1.3297676469999402, 1.3297676469999402, 1.3297676469999402, 1.3297676469999402, 1.3297676469999402, 1.3297676469999402, 1.3297676469999402, 1.3297676469999402, 1.3297676469999402, 1.3297676469999402, 1.3297676469999402, 1.3297676469999402, 1.3297676469999402, 1.3297676469999402, 1.3297676469999402, 1.3297676469999402, 1.3297676469999402, 1.3297676469999402, 1.3297676469999402, 1.3297676469999402, 1.3297676469999402, 1.3297676469999402, 1.3297676469999402, 1.3297676469999402, 1.3297676469999402, 1.3297676469999402, 1.3297676469999402, 1.3297676469999402, 1.3297676469999402, 1.3297676469999402, 1.3297676469999402, 1.3297676469999402, 1.3297676469999402, 1.3297676469999402, 10528.711647913058, 3818.5356015786633, 3640.283620198328, 2631.9589314832297, 1657.5887909647984, 1563.5378690033833, 1278.2397688618714, 1222.5132115087306, 1043.6406440099481, 1000.3102044770252, 923.7083567525342, 875.016872734263, 701.043862153574, 631.5837414622362, 620.1005575886487, 578.871779386342, 550.8829858612827, 545.9359029154236, 520.0783515177054, 423.2901881712722, 359.7705156442529, 291.25297754213454, 263.4965900243718, 36.534420369120845, 1.3297676469999402, 1.3297676469999402, 1.3297676469999402, 1.3297676469999402, 1.3297676469999402, 1.3297676469999402, 1.3297676469999402, 1.3297676469999402, 1.3297676469999402, 1.3297676469999402, 1.3297676469999402, 1.3297676469999402, 10211.824192412161, 5002.925790789665, 3708.7874325788803, 2868.4955664273716, 2205.5989493572615, 1558.1160219856113, 1245.9115603631753, 1021.990265529729, 807.3606286745535, 771.7707099315968, 512.4628821848485, 508.9864625924411, 330.60446705638407, 1.3297676469999402, 1.3297676469999402, 1.3297676469999402, 1.3297676469999402, 1.3297676469999402, 1.3297676469999402, 1.3297676469999402, 1.3297676469999402, 1.3297676469999402, 1.3297676469999402, 1.3297676469999402, 1.3297676469999402, 1.3297676469999402, 1.3297676469999402, 1.3297676469999402, 1.3297676469999402, 1.3297676469999402, 1.3297676469999402, 1.3297676469999402, 1.3297676469999402, 1.3297676469999402, 1.3297676469999402, 1.3297676469999402, 1.3297676469999402, 1.3297676469999402, 1.3297676469999402, 1.3297676469999402, 1.3297676469999402, 1.3297676469999402, 1.3297676469999402, 1.3297676469999402, 1.3297676469999402, 1.3297676469999402, 1.3297676469999402, 13286.638624893387, 5822.788191044229, 2725.4428252766074, 1939.7275287270527, 1555.622508175357, 1157.6555157557252, 1.3297676469999402, 1.3297676469999402, 1.3297676469999402, 1.3297676469999402, 1.3297676469999402, 1.3297676469999402, 1.3297676469999402, 1.3297676469999402, 1.3297676469999402, 1.3297676469999402, 1.3297676469999402, 1.3297676469999402, 1.3297676469999402, 1.3297676469999402, 1.3297676469999402, 1.3297676469999402, 1.3297676469999402, 1.3297676469999402, 1.3297676469999402, 1.3297676469999402, 1.3297676469999402, 1.3297676469999402, 1.3297676469999402, 1.3297676469999402, 1.3297676469999402, 1.3297676469999402, 1.3297676469999402, 1.3297676469999402, 1.3297676469999402, 1.3297676469999402, 1.3297676469999402, 1.3297676469999402, 1.3297676469999402, 1.3297676469999402, 1.3297676469999402, 1.3297676469999402, 1.3297676469999402, 1.3297676469999402, 1.3297676469999402, 1.3297676469999402, 1.3297676469999402, 1.3297676469999402, 1.3297676469999402, 1.3297676469999402, 1.3297676469999402, 1.3297676469999402, 1.3297676469999402, 1.3297676469999402, 9775.371496825868, 7648.40616648886, 4545.813712749998, 2379.4827140049697, 872.2306680047267, 1.3297676469999402, 1.3297676469999402, 1.3297676469999402, 1.3297676469999402, 1.3297676469999402, 1.3297676469999402, 1.3297676469999402, 1.3297676469999402, 1.3297676469999402, 1.3297676469999402, 1.3297676469999402, 1.3297676469999402, 1.3297676469999402, 1.3297676469999402, 1.3297676469999402, 1.3297676469999402, 1.3297676469999402, 1.3297676469999402, 1.3297676469999402, 1.3297676469999402, 1.3297676469999402, 1.3297676469999402, 1.3297676469999402, 1.3297676469999402, 1.3297676469999402, 1.3297676469999402, 1.3297676469999402, 1.3297676469999402, 1.3297676469999402, 1.3297676469999402, 1.3297676469999402, 1.3297676469999402, 1.3297676469999402, 1.3297676469999402, 1.3297676469999402, 1.3297676469999402, 1.3297676469999402, 1.3297676469999402, 1.3297676469999402, 1.3297676469999402, 1.3297676469999402, 1.3297676469999402, 1.3297676469999402, 1.3297676469999402, 1.3297676469999402, 1.3297676469999402, 1.3297676469999402, 1.3297676469999402, 1.3297676469999402, 6573.491931026269, 3955.6234630528143, 1808.9368158888608, 870.0281724207879, 659.9271147030831, 604.3666301459712, 512.8897827342734, 421.39589590410895, 253.964475041304, 1.3297676469999402, 1.3297676469999402, 1.3297676469999402, 1.3297676469999402, 1.3297676469999402, 1.3297676469999402, 1.3297676469999402, 1.3297676469999402, 1.3297676469999402, 1.3297676469999402, 1.3297676469999402, 1.3297676469999402, 1.3297676469999402, 1.3297676469999402, 1.3297676469999402, 1.3297676469999402, 1.3297676469999402, 1.3297676469999402, 1.3297676469999402, 1.3297676469999402, 1.3297676469999402, 1.3297676469999402, 1.3297676469999402, 1.3297676469999402, 1.3297676469999402, 1.3297676469999402, 1.3297676469999402, 1.3297676469999402, 1.3297676469999402, 1.3297676469999402, 1.3297676469999402, 1.3297676469999402, 1.3297676469999402, 1.3297676469999402, 1.3297676469999402, 1.3297676469999402, 1.3297676469999402, 1.3297676469999402, 1.3297676469999402, 1.3297676469999402, 1.3297676469999402, 1.3297676469999402, 4222.572476938245, 4102.213877974132, 2217.242644861396, 984.9801505415278, 288.3207083753416, 1.3297676469999402, 1.3297676469999402, 1.3297676469999402, 1.3297676469999402, 1.3297676469999402, 1.3297676469999402, 1.3297676469999402, 1.3297676469999402, 1.3297676469999402, 1.3297676469999402, 1.3297676469999402, 1.3297676469999402, 1.3297676469999402, 1.3297676469999402, 1.3297676469999402, 1.3297676469999402, 1.3297676469999402, 1.3297676469999402, 1.3297676469999402, 1.3297676469999402, 1.3297676469999402, 1.3297676469999402, 1.3297676469999402, 1.3297676469999402, 1.3297676469999402, 1.3297676469999402, 1.3297676469999402, 1.3297676469999402, 1.3297676469999402, 1.3297676469999402, 1.3297676469999402, 1.3297676469999402, 1.3297676469999402, 1.3297676469999402, 1.3297676469999402, 1.3297676469999402, 1.3297676469999402, 1.3297676469999402, 1.3297676469999402, 1.3297676469999402, 1.3297676469999402, 1.3297676469999402, 1.3297676469999402, 1.3297676469999402, 1.3297676469999402, 1.3297676469999402, 1.3297676469999402, 1.3297676469999402, 1.3297676469999402, 1.3297676469999402, 1.3297676469999402, 1.3297676469999402, 1.3297676469999402, 1.3297676469999402, 1.3297676469999402, 1.3297676469999402, 1.3297676469999402, 1.3297676469999402, 1.3297676469999402, 1.3297676469999402, 1.3297676469999402, 1.3297676469999402, 1.3297676469999402, 1.3297676469999402, 1.3297676469999402, 1.3297676469999402, 1.3297676469999402, 1.3297676469999402, 1.3297676469999402, 1.3297676469999402, 1.3297676469999402, 1.3297676469999402, 1.3297676469999402, 1.3297676469999402, 1.3297676469999402, 1.3297676469999402, 1.3297676469999402, 1.3297676469999402, 1.3297676469999402, 1.3297676469999402, 1.3297676469999402, 1.3297676469999402, 1.3297676469999402, 1.3297676469999402, 1.3297676469999402, 1.3297676469999402, 1.3297676469999402, 1.3297676469999402, 1.3297676469999402, 1.3297676469999402, 1.3297676469999402, 1.3297676469999402, 1.3297676469999402, 1.3297676469999402, 1.3297676469999402, 1.3297676469999402, 1.3297676469999402, 1.3297676469999402, 1.3297676469999402, 1.3297676469999402, 1.3297676469999402, 1.3297676469999402, 1.3297676469999402, 1.3297676469999402, 1.3297676469999402, 1.3297676469999402, 1.3297676469999402, 1.3297676469999402, 1.3297676469999402, 1.3297676469999402, 1.3297676469999402, 1.3297676469999402, 1.3297676469999402, 1.3297676469999402, 1.3297676469999402, 1.3297676469999402, 1.3297676469999402, 1.3297676469999402, 1.3297676469999402, 1.3297676469999402, 1.3297676469999402, 1.3297676469999402, 1.3297676469999402, 1.3297676469999402, 1.3297676469999402, 1.3297676469999402, 1.3297676469999402, 1.3297676469999402, 1.3297676469999402, 1.3297676469999402, 1.3297676469999402, 1.3297676469999402, 1.3297676469999402, 1.3297676469999402, 1.3297676469999402, 1.3297676469999402, 1.3297676469999402, 1.3297676469999402, 1.3297676469999402, 1.3297676469999402, 1.3297676469999402, 1.3297676469999402, 1.3297676469999402, 1.3297676469999402, 1.3297676469999402, 1.3297676469999402, 1.3297676469999402, 1.3297676469999402, 1.3297676469999402, 1.3297676469999402, 1.3297676469999402, 1.3297676469999402, 1.3297676469999402, 1.3297676469999402, 1.3297676469999402, 1.3297676469999402, 1.3297676469999402, 1.3297676469999402, 1.3297676469999402, 1.3297676469999402, 1.3297676469999402, 1.3297676469999402, 1.3297676469999402, 1.3297676469999402, 1.3297676469999402, 1.3297676469999402, 1.3297676469999402], \"Category\": [\"Default\", \"Default\", \"Default\", \"Default\", \"Default\", \"Default\", \"Default\", \"Default\", \"Default\", \"Default\", \"Default\", \"Default\", \"Default\", \"Default\", \"Default\", \"Default\", \"Default\", \"Default\", \"Default\", \"Default\", \"Default\", \"Default\", \"Default\", \"Default\", \"Default\", \"Default\", \"Default\", \"Default\", \"Default\", \"Default\", \"Topic1\", \"Topic1\", \"Topic1\", \"Topic1\", \"Topic1\", \"Topic1\", \"Topic1\", \"Topic1\", \"Topic1\", \"Topic1\", \"Topic1\", \"Topic1\", \"Topic1\", \"Topic1\", \"Topic1\", \"Topic1\", \"Topic1\", \"Topic1\", \"Topic1\", \"Topic1\", \"Topic1\", \"Topic1\", \"Topic1\", \"Topic1\", \"Topic1\", \"Topic1\", \"Topic1\", \"Topic1\", \"Topic1\", \"Topic1\", \"Topic2\", \"Topic2\", \"Topic2\", \"Topic2\", \"Topic2\", \"Topic2\", \"Topic2\", \"Topic2\", \"Topic2\", \"Topic2\", \"Topic2\", \"Topic2\", \"Topic2\", \"Topic2\", \"Topic2\", \"Topic2\", \"Topic2\", \"Topic2\", \"Topic2\", \"Topic2\", \"Topic2\", \"Topic2\", \"Topic2\", \"Topic2\", \"Topic2\", \"Topic2\", \"Topic2\", \"Topic2\", \"Topic2\", \"Topic2\", \"Topic2\", \"Topic2\", \"Topic2\", \"Topic2\", \"Topic2\", \"Topic2\", \"Topic2\", \"Topic2\", \"Topic2\", \"Topic2\", \"Topic2\", \"Topic2\", \"Topic2\", \"Topic2\", \"Topic2\", \"Topic2\", \"Topic2\", \"Topic3\", \"Topic3\", \"Topic3\", \"Topic3\", \"Topic3\", \"Topic3\", \"Topic3\", \"Topic3\", \"Topic3\", \"Topic3\", \"Topic3\", \"Topic3\", \"Topic3\", \"Topic3\", \"Topic3\", \"Topic3\", \"Topic3\", \"Topic3\", \"Topic3\", \"Topic3\", \"Topic3\", \"Topic3\", \"Topic3\", \"Topic3\", \"Topic3\", \"Topic3\", \"Topic3\", \"Topic3\", \"Topic3\", \"Topic3\", \"Topic4\", \"Topic4\", \"Topic4\", \"Topic4\", \"Topic4\", \"Topic4\", \"Topic4\", \"Topic4\", \"Topic4\", \"Topic4\", \"Topic4\", \"Topic4\", \"Topic4\", \"Topic4\", \"Topic4\", \"Topic4\", \"Topic4\", \"Topic4\", \"Topic4\", \"Topic4\", \"Topic4\", \"Topic4\", \"Topic4\", \"Topic4\", \"Topic4\", \"Topic4\", \"Topic4\", \"Topic4\", \"Topic4\", \"Topic4\", \"Topic4\", \"Topic4\", \"Topic4\", \"Topic4\", \"Topic4\", \"Topic4\", \"Topic4\", \"Topic4\", \"Topic4\", \"Topic5\", \"Topic5\", \"Topic5\", \"Topic5\", \"Topic5\", \"Topic5\", \"Topic5\", \"Topic5\", \"Topic5\", \"Topic5\", \"Topic5\", \"Topic5\", \"Topic5\", \"Topic5\", \"Topic5\", \"Topic5\", \"Topic5\", \"Topic5\", \"Topic5\", \"Topic5\", \"Topic5\", \"Topic5\", \"Topic5\", \"Topic5\", \"Topic5\", \"Topic5\", \"Topic5\", \"Topic5\", \"Topic5\", \"Topic5\", \"Topic5\", \"Topic5\", \"Topic5\", \"Topic5\", \"Topic5\", \"Topic5\", \"Topic5\", \"Topic5\", \"Topic5\", \"Topic5\", \"Topic5\", \"Topic5\", \"Topic5\", \"Topic5\", \"Topic5\", \"Topic5\", \"Topic5\", \"Topic6\", \"Topic6\", \"Topic6\", \"Topic6\", \"Topic6\", \"Topic6\", \"Topic6\", \"Topic6\", \"Topic6\", \"Topic6\", \"Topic6\", \"Topic6\", \"Topic6\", \"Topic6\", \"Topic6\", \"Topic6\", \"Topic6\", \"Topic6\", \"Topic6\", \"Topic6\", \"Topic6\", \"Topic6\", \"Topic6\", \"Topic6\", \"Topic6\", \"Topic6\", \"Topic6\", \"Topic6\", \"Topic6\", \"Topic6\", \"Topic6\", \"Topic6\", \"Topic6\", \"Topic6\", \"Topic6\", \"Topic6\", \"Topic6\", \"Topic6\", \"Topic6\", \"Topic6\", \"Topic6\", \"Topic6\", \"Topic6\", \"Topic6\", \"Topic6\", \"Topic7\", \"Topic7\", \"Topic7\", \"Topic7\", \"Topic7\", \"Topic7\", \"Topic7\", \"Topic7\", \"Topic7\", \"Topic7\", \"Topic7\", \"Topic7\", \"Topic7\", \"Topic7\", \"Topic7\", \"Topic7\", \"Topic7\", \"Topic7\", \"Topic7\", \"Topic7\", \"Topic7\", \"Topic7\", \"Topic7\", \"Topic7\", \"Topic7\", \"Topic7\", \"Topic7\", \"Topic7\", \"Topic7\", \"Topic7\", \"Topic8\", \"Topic8\", \"Topic8\", \"Topic8\", \"Topic8\", \"Topic8\", \"Topic8\", \"Topic8\", \"Topic8\", \"Topic8\", \"Topic8\", \"Topic8\", \"Topic8\", \"Topic8\", \"Topic8\", \"Topic8\", \"Topic8\", \"Topic8\", \"Topic8\", \"Topic8\", \"Topic8\", \"Topic8\", \"Topic8\", \"Topic8\", \"Topic8\", \"Topic8\", \"Topic8\", \"Topic8\", \"Topic8\", \"Topic8\", \"Topic8\", \"Topic8\", \"Topic8\", \"Topic8\", \"Topic8\", \"Topic8\", \"Topic8\", \"Topic8\", \"Topic8\", \"Topic8\", \"Topic8\", \"Topic8\", \"Topic8\", \"Topic8\", \"Topic8\", \"Topic8\", \"Topic8\", \"Topic8\", \"Topic9\", \"Topic9\", \"Topic9\", \"Topic9\", \"Topic9\", \"Topic9\", \"Topic9\", \"Topic9\", \"Topic9\", \"Topic9\", \"Topic9\", \"Topic9\", \"Topic9\", \"Topic9\", \"Topic9\", \"Topic9\", \"Topic9\", \"Topic9\", \"Topic9\", \"Topic9\", \"Topic9\", \"Topic9\", \"Topic9\", \"Topic9\", \"Topic9\", \"Topic9\", \"Topic9\", \"Topic9\", \"Topic9\", \"Topic9\", \"Topic9\", \"Topic9\", \"Topic9\", \"Topic9\", \"Topic9\", \"Topic9\", \"Topic9\", \"Topic9\", \"Topic9\", \"Topic9\", \"Topic9\", \"Topic9\", \"Topic9\", \"Topic9\", \"Topic10\", \"Topic10\", \"Topic10\", \"Topic10\", \"Topic10\", \"Topic10\", \"Topic10\", \"Topic10\", \"Topic10\", \"Topic10\", \"Topic10\", \"Topic10\", \"Topic10\", \"Topic10\", \"Topic10\", \"Topic10\", \"Topic10\", \"Topic10\", \"Topic10\", \"Topic10\", \"Topic10\", \"Topic10\", \"Topic10\", \"Topic10\", \"Topic10\", \"Topic10\", \"Topic10\", \"Topic10\", \"Topic10\", \"Topic10\", \"Topic10\", \"Topic10\", \"Topic10\", \"Topic10\", \"Topic10\", \"Topic10\", \"Topic10\", \"Topic10\", \"Topic10\", \"Topic10\", \"Topic10\", \"Topic10\", \"Topic10\", \"Topic10\", \"Topic11\", \"Topic11\", \"Topic11\", \"Topic11\", \"Topic11\", \"Topic11\", \"Topic11\", \"Topic11\", \"Topic11\", \"Topic11\", \"Topic11\", \"Topic11\", \"Topic11\", \"Topic11\", \"Topic11\", \"Topic11\", \"Topic11\", \"Topic11\", \"Topic11\", \"Topic11\", \"Topic11\", \"Topic11\", \"Topic11\", \"Topic11\", \"Topic11\", \"Topic11\", \"Topic11\", \"Topic11\", \"Topic11\", \"Topic11\", \"Topic11\", \"Topic11\", \"Topic11\", \"Topic11\", \"Topic11\", \"Topic11\", \"Topic11\", \"Topic11\", \"Topic11\", \"Topic11\", \"Topic11\", \"Topic11\", \"Topic11\", \"Topic11\", \"Topic11\", \"Topic11\", \"Topic11\", \"Topic11\", \"Topic11\", \"Topic11\", \"Topic11\", \"Topic11\", \"Topic12\", \"Topic12\", \"Topic12\", \"Topic12\", \"Topic12\", \"Topic12\", \"Topic12\", \"Topic12\", \"Topic12\", \"Topic12\", \"Topic12\", \"Topic12\", \"Topic12\", \"Topic12\", \"Topic12\", \"Topic12\", \"Topic12\", \"Topic12\", \"Topic12\", \"Topic12\", \"Topic12\", \"Topic12\", \"Topic12\", \"Topic12\", \"Topic12\", \"Topic12\", \"Topic12\", \"Topic12\", \"Topic12\", \"Topic12\", \"Topic12\", \"Topic12\", \"Topic12\", \"Topic12\", \"Topic12\", \"Topic12\", \"Topic12\", \"Topic12\", \"Topic13\", \"Topic13\", \"Topic13\", \"Topic13\", \"Topic13\", \"Topic13\", \"Topic13\", \"Topic13\", \"Topic13\", \"Topic13\", \"Topic13\", \"Topic13\", \"Topic13\", \"Topic13\", \"Topic13\", \"Topic13\", \"Topic13\", \"Topic13\", \"Topic13\", \"Topic13\", \"Topic13\", \"Topic13\", \"Topic13\", \"Topic13\", \"Topic13\", \"Topic13\", \"Topic13\", \"Topic13\", \"Topic13\", \"Topic13\", \"Topic14\", \"Topic14\", \"Topic14\", \"Topic14\", \"Topic14\", \"Topic14\", \"Topic14\", \"Topic14\", \"Topic14\", \"Topic14\", \"Topic14\", \"Topic14\", \"Topic14\", \"Topic14\", \"Topic14\", \"Topic14\", \"Topic14\", \"Topic14\", \"Topic14\", \"Topic14\", \"Topic14\", \"Topic14\", \"Topic14\", \"Topic14\", \"Topic14\", \"Topic14\", \"Topic14\", \"Topic14\", \"Topic14\", \"Topic14\", \"Topic14\", \"Topic14\", \"Topic14\", \"Topic14\", \"Topic14\", \"Topic14\", \"Topic14\", \"Topic14\", \"Topic14\", \"Topic14\", \"Topic14\", \"Topic14\", \"Topic14\", \"Topic14\", \"Topic14\", \"Topic15\", \"Topic15\", \"Topic15\", \"Topic15\", \"Topic15\", \"Topic15\", \"Topic15\", \"Topic15\", \"Topic15\", \"Topic15\", \"Topic15\", \"Topic15\", \"Topic15\", \"Topic15\", \"Topic15\", \"Topic15\", \"Topic15\", \"Topic15\", \"Topic15\", \"Topic15\", \"Topic15\", \"Topic15\", \"Topic15\", \"Topic15\", \"Topic15\", \"Topic15\", \"Topic15\", \"Topic15\", \"Topic15\", \"Topic15\", \"Topic15\", \"Topic15\", \"Topic15\", \"Topic15\", \"Topic15\", \"Topic15\", \"Topic15\", \"Topic15\", \"Topic15\", \"Topic15\", \"Topic15\", \"Topic15\", \"Topic15\", \"Topic15\", \"Topic15\", \"Topic16\", \"Topic16\", \"Topic16\", \"Topic16\", \"Topic16\", \"Topic16\", \"Topic16\", \"Topic16\", \"Topic16\", \"Topic16\", \"Topic16\", \"Topic16\", \"Topic16\", \"Topic16\", \"Topic16\", \"Topic16\", \"Topic16\", \"Topic16\", \"Topic16\", \"Topic16\", \"Topic16\", \"Topic16\", \"Topic16\", \"Topic16\", \"Topic16\", \"Topic16\", \"Topic16\", \"Topic16\", \"Topic16\", \"Topic16\", \"Topic16\", \"Topic16\", \"Topic16\", \"Topic16\", \"Topic16\", \"Topic16\", \"Topic16\", \"Topic16\", \"Topic16\", \"Topic17\", \"Topic17\", \"Topic17\", \"Topic17\", \"Topic17\", \"Topic17\", \"Topic17\", \"Topic17\", \"Topic17\", \"Topic17\", \"Topic17\", \"Topic17\", \"Topic17\", \"Topic17\", \"Topic17\", \"Topic17\", \"Topic17\", \"Topic17\", \"Topic17\", \"Topic17\", \"Topic17\", \"Topic17\", \"Topic17\", \"Topic17\", \"Topic17\", \"Topic17\", \"Topic17\", \"Topic17\", \"Topic17\", \"Topic17\", \"Topic17\", \"Topic17\", \"Topic17\", \"Topic17\", \"Topic17\", \"Topic17\", \"Topic17\", \"Topic17\", \"Topic17\", \"Topic17\", \"Topic17\", \"Topic17\", \"Topic17\", \"Topic17\", \"Topic17\", \"Topic17\", \"Topic18\", \"Topic18\", \"Topic18\", \"Topic18\", \"Topic18\", \"Topic18\", \"Topic18\", \"Topic18\", \"Topic18\", \"Topic18\", \"Topic18\", \"Topic18\", \"Topic18\", \"Topic18\", \"Topic18\", \"Topic18\", \"Topic18\", \"Topic18\", \"Topic18\", \"Topic18\", \"Topic18\", \"Topic18\", \"Topic18\", \"Topic18\", \"Topic18\", \"Topic18\", \"Topic18\", \"Topic18\", \"Topic18\", \"Topic18\", \"Topic18\", \"Topic18\", \"Topic18\", \"Topic18\", \"Topic18\", \"Topic18\", \"Topic18\", \"Topic19\", \"Topic19\", \"Topic19\", \"Topic19\", \"Topic19\", \"Topic19\", \"Topic19\", \"Topic19\", \"Topic19\", \"Topic19\", \"Topic19\", \"Topic19\", \"Topic19\", \"Topic19\", \"Topic19\", \"Topic19\", \"Topic19\", \"Topic19\", \"Topic19\", \"Topic19\", \"Topic19\", \"Topic19\", \"Topic19\", \"Topic19\", \"Topic19\", \"Topic19\", \"Topic19\", \"Topic19\", \"Topic19\", \"Topic19\", \"Topic20\", \"Topic20\", \"Topic20\", \"Topic20\", \"Topic20\", \"Topic20\", \"Topic20\", \"Topic20\", \"Topic20\", \"Topic20\", \"Topic20\", \"Topic20\", \"Topic20\", \"Topic20\", \"Topic20\", \"Topic20\", \"Topic20\", \"Topic20\", \"Topic20\", \"Topic20\", \"Topic20\", \"Topic20\", \"Topic20\", \"Topic20\", \"Topic20\", \"Topic20\", \"Topic20\", \"Topic20\", \"Topic20\", \"Topic20\", \"Topic20\", \"Topic20\", \"Topic20\", \"Topic20\", \"Topic20\", \"Topic20\", \"Topic20\", \"Topic20\", \"Topic20\", \"Topic20\", \"Topic20\", \"Topic20\", \"Topic20\", \"Topic20\", \"Topic20\", \"Topic20\", \"Topic20\", \"Topic20\", \"Topic20\", \"Topic20\", \"Topic21\", \"Topic21\", \"Topic21\", \"Topic21\", \"Topic21\", \"Topic21\", \"Topic21\", \"Topic21\", \"Topic21\", \"Topic21\", \"Topic21\", \"Topic21\", \"Topic21\", \"Topic21\", \"Topic21\", \"Topic21\", \"Topic21\", \"Topic21\", \"Topic21\", \"Topic21\", \"Topic21\", \"Topic21\", \"Topic21\", \"Topic21\", \"Topic21\", \"Topic21\", \"Topic21\", \"Topic21\", \"Topic21\", \"Topic21\", \"Topic21\", \"Topic21\", \"Topic21\", \"Topic21\", \"Topic21\", \"Topic21\", \"Topic21\", \"Topic21\", \"Topic21\", \"Topic21\", \"Topic21\", \"Topic21\", \"Topic21\", \"Topic21\", \"Topic21\", \"Topic21\", \"Topic21\", \"Topic22\", \"Topic22\", \"Topic22\", \"Topic22\", \"Topic22\", \"Topic22\", \"Topic22\", \"Topic22\", \"Topic22\", \"Topic22\", \"Topic22\", \"Topic22\", \"Topic22\", \"Topic22\", \"Topic22\", \"Topic22\", \"Topic22\", \"Topic22\", \"Topic22\", \"Topic22\", \"Topic22\", \"Topic22\", \"Topic22\", \"Topic22\", \"Topic22\", \"Topic22\", \"Topic22\", \"Topic22\", \"Topic22\", \"Topic22\", \"Topic22\", \"Topic22\", \"Topic22\", \"Topic22\", \"Topic22\", \"Topic22\", \"Topic22\", \"Topic22\", \"Topic22\", \"Topic22\", \"Topic22\", \"Topic22\", \"Topic22\", \"Topic22\", \"Topic22\", \"Topic22\", \"Topic22\", \"Topic22\", \"Topic22\", \"Topic22\", \"Topic22\", \"Topic22\", \"Topic22\", \"Topic22\", \"Topic23\", \"Topic23\", \"Topic23\", \"Topic23\", \"Topic23\", \"Topic23\", \"Topic23\", \"Topic23\", \"Topic23\", \"Topic23\", \"Topic23\", \"Topic23\", \"Topic23\", \"Topic23\", \"Topic23\", \"Topic23\", \"Topic23\", \"Topic23\", \"Topic23\", \"Topic23\", \"Topic23\", \"Topic23\", \"Topic23\", \"Topic23\", \"Topic23\", \"Topic23\", \"Topic23\", \"Topic23\", \"Topic23\", \"Topic23\", \"Topic23\", \"Topic23\", \"Topic23\", \"Topic23\", \"Topic23\", \"Topic23\", \"Topic23\", \"Topic23\", \"Topic24\", \"Topic24\", \"Topic24\", \"Topic24\", \"Topic24\", \"Topic24\", \"Topic24\", \"Topic24\", \"Topic24\", \"Topic24\", \"Topic24\", \"Topic24\", \"Topic24\", \"Topic24\", \"Topic24\", \"Topic24\", \"Topic24\", \"Topic24\", \"Topic24\", \"Topic24\", \"Topic24\", \"Topic24\", \"Topic24\", \"Topic24\", \"Topic24\", \"Topic24\", \"Topic24\", \"Topic24\", \"Topic24\", \"Topic24\", \"Topic24\", \"Topic24\", \"Topic24\", \"Topic24\", \"Topic24\", \"Topic24\", \"Topic24\", \"Topic24\", \"Topic24\", \"Topic25\", \"Topic25\", \"Topic25\", \"Topic25\", \"Topic25\", \"Topic25\", \"Topic25\", \"Topic25\", \"Topic25\", \"Topic25\", \"Topic25\", \"Topic25\", \"Topic25\", \"Topic25\", \"Topic25\", \"Topic25\", \"Topic25\", \"Topic25\", \"Topic25\", \"Topic25\", \"Topic25\", \"Topic25\", \"Topic25\", \"Topic25\", \"Topic25\", \"Topic25\", \"Topic25\", \"Topic25\", \"Topic25\", \"Topic25\", \"Topic25\", \"Topic25\", \"Topic25\", \"Topic25\", \"Topic25\", \"Topic25\", \"Topic25\", \"Topic25\", \"Topic25\", \"Topic26\", \"Topic26\", \"Topic26\", \"Topic26\", \"Topic26\", \"Topic26\", \"Topic26\", \"Topic26\", \"Topic26\", \"Topic26\", \"Topic26\", \"Topic26\", \"Topic26\", \"Topic26\", \"Topic26\", \"Topic26\", \"Topic26\", \"Topic26\", \"Topic26\", \"Topic26\", \"Topic26\", \"Topic26\", \"Topic26\", \"Topic26\", \"Topic26\", \"Topic26\", \"Topic26\", \"Topic26\", \"Topic26\", \"Topic26\", \"Topic26\", \"Topic26\", \"Topic26\", \"Topic26\", \"Topic27\", \"Topic27\", \"Topic27\", \"Topic27\", \"Topic27\", \"Topic27\", \"Topic27\", \"Topic27\", \"Topic27\", \"Topic27\", \"Topic27\", \"Topic27\", \"Topic27\", \"Topic27\", \"Topic27\", \"Topic27\", \"Topic27\", \"Topic27\", \"Topic27\", \"Topic27\", \"Topic27\", \"Topic27\", \"Topic27\", \"Topic27\", \"Topic27\", \"Topic27\", \"Topic27\", \"Topic27\", \"Topic27\", \"Topic27\", \"Topic27\", \"Topic27\", \"Topic27\", \"Topic27\", \"Topic27\", \"Topic27\", \"Topic27\", \"Topic27\", \"Topic27\", \"Topic27\", \"Topic27\", \"Topic27\", \"Topic27\", \"Topic27\", \"Topic27\", \"Topic27\", \"Topic27\", \"Topic27\", \"Topic27\", \"Topic27\", \"Topic27\", \"Topic28\", \"Topic28\", \"Topic28\", \"Topic28\", \"Topic28\", \"Topic28\", \"Topic28\", \"Topic28\", \"Topic28\", \"Topic28\", \"Topic28\", \"Topic28\", \"Topic28\", \"Topic28\", \"Topic28\", \"Topic28\", \"Topic28\", \"Topic28\", \"Topic28\", \"Topic28\", \"Topic28\", \"Topic28\", \"Topic28\", \"Topic28\", \"Topic28\", \"Topic28\", \"Topic28\", \"Topic28\", \"Topic28\", \"Topic28\", \"Topic28\", \"Topic28\", \"Topic28\", \"Topic29\", \"Topic29\", \"Topic29\", \"Topic29\", \"Topic29\", \"Topic29\", \"Topic29\", \"Topic29\", \"Topic29\", \"Topic29\", \"Topic29\", \"Topic29\", \"Topic29\", \"Topic29\", \"Topic29\", \"Topic29\", \"Topic29\", \"Topic29\", \"Topic29\", \"Topic29\", \"Topic29\", \"Topic29\", \"Topic29\", \"Topic29\", \"Topic29\", \"Topic29\", \"Topic29\", \"Topic29\", \"Topic29\", \"Topic29\", \"Topic29\", \"Topic29\", \"Topic29\", \"Topic29\", \"Topic29\", \"Topic29\", \"Topic29\", \"Topic29\", \"Topic29\", \"Topic29\", \"Topic29\", \"Topic29\", \"Topic29\", \"Topic29\", \"Topic29\", \"Topic29\", \"Topic30\", \"Topic30\", \"Topic30\", \"Topic30\", \"Topic30\", \"Topic30\", \"Topic30\", \"Topic30\", \"Topic30\", \"Topic30\", \"Topic30\", \"Topic30\", \"Topic30\", \"Topic30\", \"Topic30\", \"Topic30\", \"Topic30\", \"Topic30\", \"Topic30\", \"Topic30\", \"Topic30\", \"Topic30\", \"Topic30\", \"Topic30\", \"Topic30\", \"Topic30\", \"Topic30\", \"Topic30\", \"Topic30\", \"Topic30\", \"Topic30\", \"Topic30\", \"Topic30\", \"Topic30\", \"Topic30\", \"Topic30\", \"Topic30\", \"Topic30\", \"Topic31\", \"Topic31\", \"Topic31\", \"Topic31\", \"Topic31\", \"Topic31\", \"Topic31\", \"Topic31\", \"Topic31\", \"Topic31\", \"Topic31\", \"Topic31\", \"Topic31\", \"Topic31\", \"Topic31\", \"Topic31\", \"Topic31\", \"Topic31\", \"Topic31\", \"Topic31\", \"Topic31\", \"Topic31\", \"Topic31\", \"Topic31\", \"Topic31\", \"Topic31\", \"Topic31\", \"Topic31\", \"Topic31\", \"Topic31\", \"Topic31\", \"Topic31\", \"Topic31\", \"Topic31\", \"Topic31\", \"Topic31\", \"Topic31\", \"Topic31\", \"Topic31\", \"Topic31\", \"Topic31\", \"Topic31\", \"Topic31\", \"Topic31\", \"Topic31\", \"Topic31\", \"Topic31\", \"Topic31\", \"Topic31\", \"Topic32\", \"Topic32\", \"Topic32\", \"Topic32\", \"Topic32\", \"Topic32\", \"Topic32\", \"Topic32\", \"Topic32\", \"Topic32\", \"Topic32\", \"Topic32\", \"Topic32\", \"Topic32\", \"Topic32\", \"Topic32\", \"Topic32\", \"Topic32\", \"Topic32\", \"Topic32\", \"Topic32\", \"Topic32\", \"Topic32\", \"Topic32\", \"Topic32\", \"Topic32\", \"Topic32\", \"Topic32\", \"Topic32\", \"Topic32\", \"Topic32\", \"Topic32\", \"Topic32\", \"Topic32\", \"Topic32\", \"Topic32\", \"Topic32\", \"Topic32\", \"Topic32\", \"Topic32\", \"Topic32\", \"Topic32\", \"Topic32\", \"Topic32\", \"Topic32\", \"Topic32\", \"Topic32\", \"Topic32\", \"Topic32\", \"Topic32\", \"Topic33\", \"Topic33\", \"Topic33\", \"Topic33\", \"Topic33\", \"Topic33\", \"Topic33\", \"Topic33\", \"Topic33\", \"Topic33\", \"Topic33\", \"Topic33\", \"Topic33\", \"Topic33\", \"Topic33\", \"Topic33\", \"Topic33\", \"Topic33\", \"Topic33\", \"Topic33\", \"Topic33\", \"Topic33\", \"Topic33\", \"Topic33\", \"Topic33\", \"Topic33\", \"Topic33\", \"Topic33\", \"Topic33\", \"Topic33\", \"Topic33\", \"Topic33\", \"Topic33\", \"Topic33\", \"Topic33\", \"Topic33\", \"Topic33\", \"Topic33\", \"Topic33\", \"Topic33\", \"Topic33\", \"Topic33\", \"Topic33\", \"Topic33\", \"Topic33\", \"Topic33\", \"Topic34\", \"Topic34\", \"Topic34\", \"Topic34\", \"Topic34\", \"Topic34\", \"Topic34\", \"Topic34\", \"Topic34\", \"Topic34\", \"Topic34\", \"Topic34\", \"Topic34\", \"Topic34\", \"Topic34\", \"Topic34\", \"Topic34\", \"Topic34\", \"Topic34\", \"Topic34\", \"Topic34\", \"Topic34\", \"Topic34\", \"Topic34\", \"Topic34\", \"Topic34\", \"Topic34\", \"Topic34\", \"Topic34\", \"Topic34\", \"Topic34\", \"Topic34\", \"Topic34\", \"Topic34\", \"Topic34\", \"Topic34\", \"Topic34\", \"Topic34\", \"Topic34\", \"Topic34\", \"Topic34\", \"Topic34\", \"Topic34\", \"Topic34\", \"Topic34\", \"Topic35\", \"Topic35\", \"Topic35\", \"Topic35\", \"Topic35\", \"Topic35\", \"Topic35\", \"Topic35\", \"Topic35\", \"Topic35\", \"Topic35\", \"Topic35\", \"Topic35\", \"Topic35\", \"Topic35\", \"Topic35\", \"Topic35\", \"Topic35\", \"Topic35\", \"Topic35\", \"Topic35\", \"Topic35\", \"Topic35\", \"Topic35\", \"Topic35\", \"Topic35\", \"Topic35\", \"Topic35\", \"Topic35\", \"Topic35\", \"Topic35\", \"Topic35\", \"Topic35\", \"Topic35\", \"Topic35\", \"Topic35\", \"Topic35\", \"Topic35\", \"Topic35\", \"Topic35\", \"Topic35\", \"Topic35\", \"Topic35\", \"Topic35\", \"Topic35\", \"Topic36\", \"Topic36\", \"Topic36\", \"Topic36\", \"Topic36\", \"Topic36\", \"Topic36\", \"Topic36\", \"Topic36\", \"Topic36\", \"Topic36\", \"Topic36\", \"Topic36\", \"Topic36\", \"Topic36\", \"Topic36\", \"Topic36\", \"Topic36\", \"Topic36\", \"Topic36\", \"Topic36\", \"Topic36\", \"Topic36\", \"Topic36\", \"Topic36\", \"Topic36\", \"Topic36\", \"Topic36\", \"Topic36\", \"Topic36\", \"Topic36\", \"Topic36\", \"Topic36\", \"Topic36\", \"Topic36\", \"Topic36\", \"Topic36\", \"Topic36\", \"Topic36\", \"Topic36\", \"Topic36\", \"Topic36\", \"Topic36\", \"Topic36\", \"Topic36\", \"Topic36\", \"Topic36\", \"Topic36\", \"Topic36\", \"Topic36\", \"Topic36\", \"Topic36\", \"Topic37\", \"Topic37\", \"Topic37\", \"Topic37\", \"Topic37\", \"Topic37\", \"Topic37\", \"Topic37\", \"Topic37\", \"Topic37\", \"Topic37\", \"Topic37\", \"Topic37\", \"Topic37\", \"Topic37\", \"Topic37\", \"Topic37\", \"Topic37\", \"Topic37\", \"Topic37\", \"Topic37\", \"Topic37\", \"Topic37\", \"Topic37\", \"Topic37\", \"Topic37\", \"Topic37\", \"Topic37\", \"Topic37\", \"Topic37\", \"Topic37\", \"Topic37\", \"Topic37\", \"Topic37\", \"Topic37\", \"Topic37\", \"Topic37\", \"Topic37\", \"Topic37\", \"Topic37\", \"Topic37\", \"Topic37\", \"Topic37\", \"Topic37\", \"Topic37\", \"Topic37\", \"Topic37\", \"Topic37\", \"Topic37\", \"Topic37\", \"Topic38\", \"Topic38\", \"Topic38\", \"Topic38\", \"Topic38\", \"Topic38\", \"Topic38\", \"Topic38\", \"Topic38\", \"Topic38\", \"Topic38\", \"Topic38\", \"Topic38\", \"Topic38\", \"Topic38\", \"Topic38\", \"Topic38\", \"Topic38\", \"Topic38\", \"Topic38\", \"Topic38\", \"Topic38\", \"Topic38\", \"Topic38\", \"Topic38\", \"Topic38\", \"Topic38\", \"Topic38\", \"Topic38\", \"Topic38\", \"Topic38\", \"Topic38\", \"Topic38\", \"Topic38\", \"Topic38\", \"Topic38\", \"Topic38\", \"Topic38\", \"Topic38\", \"Topic38\", \"Topic38\", \"Topic38\", \"Topic38\", \"Topic38\", \"Topic38\", \"Topic38\", \"Topic38\", \"Topic39\", \"Topic39\", \"Topic39\", \"Topic39\", \"Topic39\", \"Topic39\", \"Topic39\", \"Topic39\", \"Topic39\", \"Topic39\", \"Topic39\", \"Topic39\", \"Topic39\", \"Topic39\", \"Topic39\", \"Topic39\", \"Topic39\", \"Topic39\", \"Topic39\", \"Topic39\", \"Topic39\", \"Topic39\", \"Topic39\", \"Topic39\", \"Topic39\", \"Topic39\", \"Topic39\", \"Topic39\", \"Topic39\", \"Topic39\", \"Topic39\", \"Topic39\", \"Topic39\", \"Topic39\", \"Topic39\", \"Topic39\", \"Topic39\", \"Topic39\", \"Topic39\", \"Topic39\", \"Topic39\", \"Topic39\", \"Topic39\", \"Topic39\", \"Topic39\", \"Topic39\", \"Topic39\", \"Topic39\", \"Topic39\", \"Topic39\", \"Topic39\", \"Topic39\", \"Topic40\", \"Topic40\", \"Topic40\", \"Topic40\", \"Topic40\", \"Topic40\", \"Topic40\", \"Topic40\", \"Topic40\", \"Topic40\", \"Topic40\", \"Topic40\", \"Topic40\", \"Topic40\", \"Topic40\", \"Topic40\", \"Topic40\", \"Topic40\", \"Topic40\", \"Topic40\", \"Topic40\", \"Topic40\", \"Topic40\", \"Topic40\", \"Topic40\", \"Topic40\", \"Topic40\", \"Topic40\", \"Topic40\", \"Topic40\", \"Topic40\", \"Topic40\", \"Topic40\", \"Topic40\", \"Topic40\", \"Topic40\", \"Topic40\", \"Topic40\", \"Topic40\", \"Topic40\", \"Topic40\", \"Topic40\", \"Topic40\", \"Topic41\", \"Topic41\", \"Topic41\", \"Topic41\", \"Topic41\", \"Topic41\", \"Topic41\", \"Topic41\", \"Topic41\", \"Topic41\", \"Topic41\", \"Topic41\", \"Topic41\", \"Topic41\", \"Topic41\", \"Topic41\", \"Topic41\", \"Topic41\", \"Topic41\", \"Topic41\", \"Topic41\", \"Topic41\", \"Topic41\", \"Topic41\", \"Topic41\", \"Topic41\", \"Topic41\", \"Topic41\", \"Topic41\", \"Topic41\", \"Topic41\", \"Topic41\", \"Topic41\", \"Topic41\", \"Topic41\", \"Topic41\", \"Topic41\", \"Topic41\", \"Topic41\", \"Topic41\", \"Topic41\", \"Topic41\", \"Topic41\", \"Topic41\", \"Topic41\", \"Topic42\", \"Topic42\", \"Topic42\", \"Topic42\", \"Topic42\", \"Topic42\", \"Topic42\", \"Topic42\", \"Topic42\", \"Topic42\", \"Topic42\", \"Topic42\", \"Topic42\", \"Topic42\", \"Topic42\", \"Topic42\", \"Topic42\", \"Topic42\", \"Topic42\", \"Topic42\", \"Topic42\", \"Topic42\", \"Topic42\", \"Topic42\", \"Topic42\", \"Topic42\", \"Topic42\", \"Topic42\", \"Topic42\", \"Topic42\", \"Topic42\", \"Topic42\", \"Topic42\", \"Topic42\", \"Topic42\", \"Topic42\", \"Topic42\", \"Topic42\", \"Topic42\", \"Topic42\", \"Topic42\", \"Topic42\", \"Topic42\", \"Topic42\", \"Topic42\", \"Topic42\", \"Topic42\", \"Topic42\", \"Topic42\", \"Topic42\", \"Topic42\", \"Topic43\", \"Topic43\", \"Topic43\", \"Topic43\", \"Topic43\", \"Topic43\", \"Topic43\", \"Topic43\", \"Topic43\", \"Topic43\", \"Topic43\", \"Topic43\", \"Topic43\", \"Topic43\", \"Topic43\", \"Topic43\", \"Topic43\", \"Topic43\", \"Topic43\", \"Topic43\", \"Topic43\", \"Topic43\", \"Topic43\", \"Topic43\", \"Topic43\", \"Topic43\", \"Topic43\", \"Topic43\", \"Topic43\", \"Topic43\", \"Topic43\", \"Topic43\", \"Topic43\", \"Topic43\", \"Topic43\", \"Topic43\", \"Topic44\", \"Topic44\", \"Topic44\", \"Topic44\", \"Topic44\", \"Topic44\", \"Topic44\", \"Topic44\", \"Topic44\", \"Topic44\", \"Topic44\", \"Topic44\", \"Topic44\", \"Topic44\", \"Topic44\", \"Topic44\", \"Topic44\", \"Topic44\", \"Topic44\", \"Topic44\", \"Topic44\", \"Topic44\", \"Topic44\", \"Topic44\", \"Topic44\", \"Topic44\", \"Topic44\", \"Topic44\", \"Topic44\", \"Topic44\", \"Topic44\", \"Topic44\", \"Topic44\", \"Topic44\", \"Topic44\", \"Topic44\", \"Topic44\", \"Topic44\", \"Topic44\", \"Topic44\", \"Topic44\", \"Topic44\", \"Topic44\", \"Topic44\", \"Topic44\", \"Topic44\", \"Topic44\", \"Topic45\", \"Topic45\", \"Topic45\", \"Topic45\", \"Topic45\", \"Topic45\", \"Topic45\", \"Topic45\", \"Topic45\", \"Topic45\", \"Topic45\", \"Topic45\", \"Topic45\", \"Topic45\", \"Topic45\", \"Topic45\", \"Topic45\", \"Topic45\", \"Topic45\", \"Topic45\", \"Topic45\", \"Topic45\", \"Topic45\", \"Topic45\", \"Topic45\", \"Topic45\", \"Topic45\", \"Topic45\", \"Topic45\", \"Topic45\", \"Topic45\", \"Topic45\", \"Topic45\", \"Topic45\", \"Topic45\", \"Topic45\", \"Topic45\", \"Topic45\", \"Topic45\", \"Topic45\", \"Topic45\", \"Topic45\", \"Topic45\", \"Topic45\", \"Topic45\", \"Topic45\", \"Topic45\", \"Topic45\", \"Topic45\", \"Topic45\", \"Topic45\", \"Topic45\", \"Topic45\", \"Topic45\", \"Topic46\", \"Topic46\", \"Topic46\", \"Topic46\", \"Topic46\", \"Topic46\", \"Topic46\", \"Topic46\", \"Topic46\", \"Topic46\", \"Topic46\", \"Topic46\", \"Topic46\", \"Topic46\", \"Topic46\", \"Topic46\", \"Topic46\", \"Topic46\", \"Topic46\", \"Topic46\", \"Topic46\", \"Topic46\", \"Topic46\", \"Topic46\", \"Topic46\", \"Topic46\", \"Topic46\", \"Topic46\", \"Topic46\", \"Topic46\", \"Topic46\", \"Topic46\", \"Topic46\", \"Topic46\", \"Topic46\", \"Topic46\", \"Topic46\", \"Topic46\", \"Topic46\", \"Topic46\", \"Topic46\", \"Topic46\", \"Topic46\", \"Topic46\", \"Topic46\", \"Topic46\", \"Topic46\", \"Topic46\", \"Topic46\", \"Topic46\", \"Topic46\", \"Topic46\", \"Topic46\", \"Topic46\", \"Topic47\", \"Topic47\", \"Topic47\", \"Topic47\", \"Topic47\", \"Topic47\", \"Topic47\", \"Topic47\", \"Topic47\", \"Topic47\", \"Topic47\", \"Topic47\", \"Topic47\", \"Topic47\", \"Topic47\", \"Topic47\", \"Topic47\", \"Topic47\", \"Topic47\", \"Topic47\", \"Topic47\", \"Topic47\", \"Topic47\", \"Topic47\", \"Topic47\", \"Topic47\", \"Topic47\", \"Topic47\", \"Topic47\", \"Topic47\", \"Topic47\", \"Topic47\", \"Topic47\", \"Topic47\", \"Topic47\", \"Topic47\", \"Topic47\", \"Topic47\", \"Topic47\", \"Topic47\", \"Topic47\", \"Topic47\", \"Topic47\", \"Topic47\", \"Topic47\", \"Topic47\", \"Topic47\", \"Topic47\", \"Topic47\", \"Topic47\", \"Topic47\", \"Topic48\", \"Topic48\", \"Topic48\", \"Topic48\", \"Topic48\", \"Topic48\", \"Topic48\", \"Topic48\", \"Topic48\", \"Topic48\", \"Topic48\", \"Topic48\", \"Topic48\", \"Topic48\", \"Topic48\", \"Topic48\", \"Topic48\", \"Topic48\", \"Topic48\", \"Topic48\", \"Topic48\", \"Topic48\", \"Topic48\", \"Topic48\", \"Topic48\", \"Topic48\", \"Topic48\", \"Topic48\", \"Topic48\", \"Topic48\", \"Topic48\", \"Topic48\", \"Topic48\", \"Topic48\", \"Topic48\", \"Topic48\", \"Topic48\", \"Topic48\", \"Topic48\", \"Topic48\", \"Topic48\", \"Topic48\", \"Topic48\", \"Topic48\", \"Topic48\", \"Topic48\", \"Topic48\", \"Topic48\", \"Topic48\", \"Topic48\", \"Topic48\", \"Topic48\", \"Topic48\", \"Topic48\", \"Topic49\", \"Topic49\", \"Topic49\", \"Topic49\", \"Topic49\", \"Topic49\", \"Topic49\", \"Topic49\", \"Topic49\", \"Topic49\", \"Topic49\", \"Topic49\", \"Topic49\", \"Topic49\", \"Topic49\", \"Topic49\", \"Topic49\", \"Topic49\", \"Topic49\", \"Topic49\", \"Topic49\", \"Topic49\", \"Topic49\", \"Topic49\", \"Topic49\", \"Topic49\", \"Topic49\", \"Topic49\", \"Topic49\", \"Topic49\", \"Topic49\", \"Topic49\", \"Topic49\", \"Topic49\", \"Topic49\", \"Topic49\", \"Topic49\", \"Topic49\", \"Topic49\", \"Topic49\", \"Topic49\", \"Topic49\", \"Topic49\", \"Topic49\", \"Topic49\", \"Topic49\", \"Topic49\", \"Topic49\", \"Topic49\", \"Topic49\", \"Topic49\", \"Topic49\", \"Topic49\", \"Topic49\", \"Topic49\", \"Topic49\", \"Topic49\", \"Topic49\", \"Topic49\", \"Topic50\", \"Topic50\", \"Topic50\", \"Topic50\", \"Topic50\", \"Topic50\", \"Topic50\", \"Topic50\", \"Topic50\", \"Topic50\", \"Topic50\", \"Topic50\", \"Topic50\", \"Topic50\", \"Topic50\", \"Topic50\", \"Topic50\", \"Topic50\", \"Topic50\", \"Topic50\", \"Topic50\", \"Topic50\", \"Topic50\", \"Topic50\", \"Topic50\", \"Topic50\", \"Topic50\", \"Topic50\", \"Topic50\", \"Topic50\", \"Topic50\", \"Topic50\", \"Topic50\", \"Topic50\", \"Topic50\", \"Topic50\", \"Topic50\", \"Topic50\", \"Topic50\", \"Topic50\", \"Topic50\", \"Topic50\", \"Topic50\", \"Topic50\", \"Topic50\", \"Topic50\", \"Topic50\", \"Topic50\", \"Topic50\", \"Topic50\", \"Topic50\", \"Topic50\", \"Topic50\", \"Topic50\", \"Topic50\", \"Topic50\", \"Topic50\", \"Topic50\", \"Topic50\"], \"logprob\": [30.0, 29.0, 28.0, 27.0, 26.0, 25.0, 24.0, 23.0, 22.0, 21.0, 20.0, 19.0, 18.0, 17.0, 16.0, 15.0, 14.0, 13.0, 12.0, 11.0, 10.0, 9.0, 8.0, 7.0, 6.0, 5.0, 4.0, 3.0, 2.0, 1.0, -2.220400094985962, -2.4270999431610107, -2.4860000610351562, -2.5769999027252197, -2.642699956893921, -2.67549991607666, -2.9904000759124756, -2.9990999698638916, -3.051100015640259, -3.197999954223633, -3.234800100326538, -3.2915000915527344, -3.402400016784668, -3.411799907684326, -3.506999969482422, -3.7760000228881836, -3.876800060272217, -3.945199966430664, -4.326000213623047, -4.412600040435791, -4.675000190734863, -4.93779993057251, -4.964000225067139, -5.132299900054932, -5.3171000480651855, -5.446300029754639, -5.658199787139893, -6.006800174713135, -6.300099849700928, -6.543900012969971, -0.8752999901771545, -1.4607000350952148, -2.1470000743865967, -2.291599988937378, -3.1900999546051025, -3.627700090408325, -3.6552999019622803, -4.187900066375732, -5.3597002029418945, -5.365799903869629, -5.496600151062012, -5.785699844360352, -6.268499851226807, -15.550299644470215, -15.550299644470215, -15.550299644470215, -15.550299644470215, -15.550299644470215, -15.550299644470215, -15.550299644470215, -15.550299644470215, -15.550299644470215, -15.550299644470215, -15.550299644470215, -15.550299644470215, -15.550299644470215, -15.550299644470215, -15.550299644470215, -15.550299644470215, -15.550299644470215, -15.550299644470215, -15.550299644470215, -15.550299644470215, -15.550299644470215, -15.550299644470215, -15.550299644470215, -15.550299644470215, -15.550299644470215, -15.550299644470215, -15.550299644470215, -15.550299644470215, -15.550299644470215, -15.550299644470215, -15.550299644470215, -15.550299644470215, -15.550299644470215, -15.550299644470215, -2.15939998626709, -2.2165000438690186, -2.2755000591278076, -2.329400062561035, -2.7253000736236572, -2.7871999740600586, -2.9365999698638916, -3.187000036239624, -3.3355000019073486, -3.484600067138672, -3.660399913787842, -3.6975998878479004, -3.808000087738037, -3.880000114440918, -3.9400999546051025, -3.947999954223633, -4.010799884796143, -4.153800010681152, -4.334499835968018, -4.398099899291992, -4.6631999015808105, -4.69189977645874, -4.788300037384033, -4.8454999923706055, -4.872499942779541, -5.071000099182129, -5.08459997177124, -5.1545000076293945, -5.325399875640869, -5.346700191497803, -1.0997999906539917, -1.3422000408172607, -2.2479000091552734, -2.6605000495910645, -3.111799955368042, -3.2994000911712646, -3.3552000522613525, -4.196700096130371, -4.2347002029418945, -4.239200115203857, -4.561399936676025, -4.580100059509277, -4.674200057983398, -4.788599967956543, -5.063700199127197, -5.069699764251709, -5.518599987030029, -5.718100070953369, -6.054599761962891, -6.2581000328063965, -6.535699844360352, -15.545999526977539, -15.545999526977539, -15.545999526977539, -15.545999526977539, -15.545999526977539, -15.545999526977539, -15.545999526977539, -15.545999526977539, -15.545999526977539, -15.545999526977539, -15.545999526977539, -15.545999526977539, -15.545999526977539, -15.545999526977539, -15.545999526977539, -15.545999526977539, -15.545999526977539, -15.545999526977539, -1.0448999404907227, -1.580299973487854, -1.6174999475479126, -2.8480000495910645, -3.050100088119507, -3.3524999618530273, -3.5966999530792236, -3.800299882888794, -3.893199920654297, -4.299499988555908, -5.035900115966797, -5.379499912261963, -6.542600154876709, -15.341500282287598, -15.341500282287598, -15.341500282287598, -15.341500282287598, -15.341500282287598, -15.341500282287598, -15.341500282287598, -15.341500282287598, -15.341500282287598, -15.341500282287598, -15.341500282287598, -15.341500282287598, -15.341500282287598, -15.341500282287598, -15.341500282287598, -15.341500282287598, -15.341500282287598, -15.341500282287598, -15.341500282287598, -15.341500282287598, -15.341500282287598, -15.341500282287598, -15.341500282287598, -15.341500282287598, -15.341500282287598, -15.341500282287598, -15.341500282287598, -15.341500282287598, -15.341500282287598, -15.341500282287598, -15.341500282287598, -15.341500282287598, -15.341500282287598, -15.341500282287598, -1.1713000535964966, -1.3827999830245972, -1.6174999475479126, -2.381999969482422, -3.7360999584198, -3.7950000762939453, -4.137400150299072, -4.204500198364258, -4.287300109863281, -4.437900066375732, -4.580699920654297, -4.699399948120117, -4.707099914550781, -4.957399845123291, -5.614099979400635, -15.463600158691406, -15.463600158691406, -15.463600158691406, -15.463600158691406, -15.463600158691406, -15.463600158691406, -15.463600158691406, -15.463600158691406, -15.463600158691406, -15.463600158691406, -15.463600158691406, -15.463600158691406, -15.463600158691406, -15.463600158691406, -15.463600158691406, -15.463600158691406, -15.463600158691406, -15.463600158691406, -15.463600158691406, -15.463600158691406, -15.463600158691406, -15.463600158691406, -15.463600158691406, -15.463600158691406, -15.463600158691406, -15.463600158691406, -15.463600158691406, -15.463600158691406, -15.463600158691406, -15.463600158691406, -1.8167999982833862, -1.8884999752044678, -2.164900064468384, -2.497499942779541, -2.782900094985962, -2.786799907684326, -3.1440999507904053, -3.221100091934204, -3.396399974822998, -3.4776999950408936, -3.4946999549865723, -3.537899971008301, -3.6614999771118164, -3.8601999282836914, -4.153200149536133, -4.22189998626709, -4.338200092315674, -4.433800220489502, -4.438700199127197, -5.116199970245361, -5.192399978637695, -5.314499855041504, -5.451300144195557, -5.532299995422363, -5.672500133514404, -5.962699890136719, -5.966899871826172, -6.499000072479248, -6.632599830627441, -8.175200462341309, -1.1380000114440918, -1.8082000017166138, -2.1958000659942627, -2.20989990234375, -2.5192999839782715, -2.8011999130249023, -3.0536000728607178, -3.127000093460083, -3.9028000831604004, -3.990000009536743, -4.531700134277344, -5.426400184631348, -15.204899787902832, -15.204899787902832, -15.204899787902832, -15.204899787902832, -15.204899787902832, -15.204899787902832, -15.204899787902832, -15.204899787902832, -15.204899787902832, -15.204899787902832, -15.204899787902832, -15.204899787902832, -15.204899787902832, -15.204899787902832, -15.204899787902832, -15.204899787902832, -15.204899787902832, -15.204899787902832, -15.204899787902832, -15.204899787902832, -15.204899787902832, -15.204899787902832, -15.204899787902832, -15.204899787902832, -15.204899787902832, -15.204899787902832, -15.204899787902832, -15.204899787902832, -15.204899787902832, -15.204899787902832, -15.204899787902832, -15.204899787902832, -15.204899787902832, -15.204899787902832, -15.204899787902832, -15.204899787902832, -0.9891999959945679, -1.6938999891281128, -2.313499927520752, -2.5780999660491943, -2.8778998851776123, -3.1366000175476074, -3.156899929046631, -3.3554999828338623, -4.085100173950195, -4.177499771118164, -4.192599773406982, -4.63539981842041, -4.786499977111816, -4.829800128936768, -5.204599857330322, -5.676300048828125, -15.025899887084961, -15.025899887084961, -15.025899887084961, -15.025899887084961, -15.025899887084961, -15.025899887084961, -15.025899887084961, -15.025899887084961, -15.025899887084961, -15.025899887084961, -15.025899887084961, -15.025899887084961, -15.025899887084961, -15.025899887084961, -15.025899887084961, -15.025899887084961, -15.025899887084961, -15.025899887084961, -15.025899887084961, -15.025899887084961, -15.025899887084961, -15.025899887084961, -15.025899887084961, -15.025899887084961, -15.025899887084961, -15.025899887084961, -15.025899887084961, -15.025899887084961, -1.093000054359436, -1.9505000114440918, -2.1249001026153564, -2.13319993019104, -2.166800022125244, -3.053800106048584, -3.7207000255584717, -3.8408000469207764, -3.908900022506714, -4.042300224304199, -4.476200103759766, -4.683800220489502, -5.440499782562256, -5.911499977111816, -6.56689977645874, -6.667900085449219, -15.11359977722168, -15.11359977722168, -15.11359977722168, -15.11359977722168, -15.11359977722168, -15.11359977722168, -15.11359977722168, -15.11359977722168, -15.11359977722168, -15.11359977722168, -15.11359977722168, -15.11359977722168, -15.11359977722168, -15.11359977722168, -15.11359977722168, -15.11359977722168, -15.11359977722168, -15.11359977722168, -15.11359977722168, -15.11359977722168, -15.11359977722168, -15.11359977722168, -15.11359977722168, -15.11359977722168, -15.11359977722168, -15.11359977722168, -15.11359977722168, -15.11359977722168, -0.6412000060081482, -1.0582000017166138, -2.9702999591827393, -3.268399953842163, -4.349400043487549, -4.6371002197265625, -5.834099769592285, -6.243000030517578, -15.094499588012695, -15.094499588012695, -15.094499588012695, -15.094499588012695, -15.094499588012695, -15.094499588012695, -15.094499588012695, -15.094499588012695, -15.094499588012695, -15.094499588012695, -15.094499588012695, -15.094499588012695, -15.094499588012695, -15.094499588012695, -15.094499588012695, -15.094499588012695, -15.094499588012695, -15.094499588012695, -15.094499588012695, -15.094499588012695, -15.094499588012695, -15.094499588012695, -15.094499588012695, -15.094499588012695, -15.094499588012695, -15.094499588012695, -15.094499588012695, -15.094499588012695, -15.094499588012695, -15.094499588012695, -15.094499588012695, -15.094499588012695, -15.094499588012695, -15.094499588012695, -15.094499588012695, -15.094499588012695, -15.094499588012695, -15.094499588012695, -15.094499588012695, -15.094499588012695, -15.094499588012695, -15.094499588012695, -15.094499588012695, -15.094499588012695, -0.7954000234603882, -2.3196001052856445, -2.734600067138672, -2.805500030517578, -3.0271999835968018, -3.3131000995635986, -3.5947000980377197, -3.7197999954223633, -3.8701000213623047, -3.884999990463257, -3.911099910736084, -3.962599992752075, -4.041600227355957, -4.160399913787842, -4.316500186920166, -4.4344000816345215, -4.593800067901611, -4.8119001388549805, -4.960700035095215, -5.376999855041504, -5.434199810028076, -5.5731000900268555, -14.90250015258789, -14.90250015258789, -14.90250015258789, -14.90250015258789, -14.90250015258789, -14.90250015258789, -14.90250015258789, -14.90250015258789, -14.90250015258789, -14.90250015258789, -14.90250015258789, -14.90250015258789, -14.90250015258789, -14.90250015258789, -14.90250015258789, -14.90250015258789, -1.3983999490737915, -2.1226000785827637, -2.7209999561309814, -3.2121999263763428, -3.2219998836517334, -3.2922000885009766, -3.3255999088287354, -3.3501999378204346, -3.440700054168701, -3.5116000175476074, -3.549099922180176, -3.6960999965667725, -3.800800085067749, -3.8304998874664307, -3.914799928665161, -3.993499994277954, -4.080100059509277, -4.190400123596191, -4.3694000244140625, -4.4019999504089355, -4.487299919128418, -4.555099964141846, -4.606800079345703, -4.608799934387207, -4.757999897003174, -4.759300231933594, -5.041100025177002, -5.073200225830078, -5.112299919128418, -5.177800178527832, -1.301200032234192, -1.5176000595092773, -1.7569999694824219, -1.9211000204086304, -3.011899948120117, -3.124799966812134, -3.573899984359741, -3.997499942779541, -4.188399791717529, -4.676799774169922, -5.571700096130371, -5.6269001960754395, -5.857699871063232, -5.932499885559082, -6.204400062561035, -14.983499526977539, -14.983499526977539, -14.983499526977539, -14.983499526977539, -14.983499526977539, -14.983499526977539, -14.983499526977539, -14.983499526977539, -14.983499526977539, -14.983499526977539, -14.983499526977539, -14.983499526977539, -14.983499526977539, -14.983499526977539, -14.983499526977539, -14.983499526977539, -14.983499526977539, -14.983499526977539, -14.983499526977539, -14.983499526977539, -14.983499526977539, -14.983499526977539, -14.983499526977539, -14.983499526977539, -14.983499526977539, -14.983499526977539, -14.983499526977539, -14.983499526977539, -14.983499526977539, -14.983499526977539, -1.1526999473571777, -1.8039000034332275, -2.134700059890747, -2.359800100326538, -2.5276999473571777, -2.752500057220459, -3.3891000747680664, -3.415800094604492, -3.5241000652313232, -4.144599914550781, -4.168600082397461, -4.685800075531006, -4.823999881744385, -5.339399814605713, -6.311299800872803, -14.861599922180176, -14.861599922180176, -14.861599922180176, -14.861599922180176, -14.861599922180176, -14.861599922180176, -14.861599922180176, -14.861599922180176, -14.861599922180176, -14.861599922180176, -14.861599922180176, -14.861599922180176, -14.861599922180176, -14.861599922180176, -14.861599922180176, -14.861599922180176, -14.861599922180176, -14.861599922180176, -14.861599922180176, -14.861599922180176, -14.861599922180176, -14.861599922180176, -14.861599922180176, -14.861599922180176, -14.861599922180176, -14.861599922180176, -14.861599922180176, -14.861599922180176, -14.861599922180176, -14.861599922180176, -0.646399974822998, -2.3457999229431152, -2.3917999267578125, -3.065000057220459, -3.287100076675415, -3.289599895477295, -3.4791998863220215, -3.8785998821258545, -3.998800039291382, -4.283100128173828, -4.327899932861328, -4.481200218200684, -4.570300102233887, -4.822299957275391, -4.867300033569336, -4.961900234222412, -5.015699863433838, -5.512599945068359, -6.0518999099731445, -6.726799964904785, -7.432499885559082, -14.902299880981445, -14.902299880981445, -14.902299880981445, -14.902299880981445, -14.902299880981445, -14.902299880981445, -14.902299880981445, -14.902299880981445, -14.902299880981445, -14.902299880981445, -14.902299880981445, -14.902299880981445, -14.902299880981445, -14.902299880981445, -14.902299880981445, -14.902299880981445, -14.902299880981445, -14.902299880981445, -1.3193999528884888, -1.5755000114440918, -2.190000057220459, -2.3254001140594482, -2.4774999618530273, -2.821500062942505, -3.3385000228881836, -3.5114998817443848, -3.56469988822937, -3.5768001079559326, -3.67330002784729, -4.587600231170654, -6.026800155639648, -14.771699905395508, -14.771699905395508, -14.771699905395508, -14.771699905395508, -14.771699905395508, -14.771699905395508, -14.771699905395508, -14.771699905395508, -14.771699905395508, -14.771699905395508, -14.771699905395508, -14.771699905395508, -14.771699905395508, -14.771699905395508, -14.771699905395508, -14.771699905395508, -14.771699905395508, -14.771699905395508, -14.771699905395508, -14.771699905395508, -14.771699905395508, -14.771699905395508, -14.771699905395508, -14.771699905395508, -14.771699905395508, -14.771699905395508, -14.771699905395508, -14.771699905395508, -14.771699905395508, -14.771699905395508, -14.771699905395508, -14.771699905395508, -14.771699905395508, -1.5995999574661255, -2.264400005340576, -2.327399969100952, -2.4077999591827393, -2.453900098800659, -2.7142999172210693, -3.0051000118255615, -3.0411999225616455, -3.4709999561309814, -3.54830002784729, -3.795300006866455, -3.813199996948242, -3.8364999294281006, -3.9935998916625977, -4.1367998123168945, -4.261600017547607, -4.292300224304199, -4.304699897766113, -4.398499965667725, -4.44290018081665, -4.470799922943115, -5.20959997177124, -6.989099979400635, -14.738900184631348, -14.738900184631348, -14.738900184631348, -14.738900184631348, -14.738900184631348, -14.738900184631348, -14.738900184631348, -14.738900184631348, -14.738900184631348, -14.738900184631348, -14.738900184631348, -14.738900184631348, -14.738900184631348, -14.738900184631348, -2.1644999980926514, -2.5518999099731445, -2.5978000164031982, -2.694000005722046, -2.841399908065796, -2.8747000694274902, -2.937999963760376, -3.039400100708008, -3.093400001525879, -3.3731000423431396, -3.4532999992370605, -3.6512999534606934, -3.730600118637085, -3.7342000007629395, -3.817699909210205, -3.873199939727783, -3.910900115966797, -3.9196999073028564, -3.9296000003814697, -4.026599884033203, -4.042500019073486, -4.048799991607666, -4.076600074768066, -4.2281999588012695, -4.320000171661377, -4.55620002746582, -4.627399921417236, -4.8403000831604, -5.026100158691406, -5.057199954986572, -0.5709999799728394, -1.8944000005722046, -2.140500068664551, -2.5966999530792236, -3.3034000396728516, -4.115499973297119, -4.900199890136719, -4.900400161743164, -4.991399765014648, -5.2947001457214355, -14.797699928283691, -14.797699928283691, -14.797699928283691, -14.797699928283691, -14.797699928283691, -14.797699928283691, -14.797699928283691, -14.797699928283691, -14.797699928283691, -14.797699928283691, -14.797699928283691, -14.797699928283691, -14.797699928283691, -14.797699928283691, -14.797699928283691, -14.797699928283691, -14.797699928283691, -14.797699928283691, -14.797699928283691, -14.797699928283691, -14.797699928283691, -14.797699928283691, -14.797699928283691, -14.797699928283691, -14.797699928283691, -14.797699928283691, -14.797699928283691, -14.797699928283691, -14.797699928283691, -14.797699928283691, -14.797699928283691, -14.797699928283691, -14.797699928283691, -14.797699928283691, -14.797699928283691, -14.797699928283691, -14.797699928283691, -14.797699928283691, -14.797699928283691, -14.797699928283691, -0.9437000155448914, -1.5497000217437744, -1.955899953842163, -2.368799924850464, -2.85260009765625, -3.7981998920440674, -4.004899978637695, -4.19379997253418, -4.335100173950195, -4.692599773406982, -4.840000152587891, -5.293900012969971, -6.336999893188477, -14.769399642944336, -14.769399642944336, -14.769399642944336, -14.769399642944336, -14.769399642944336, -14.769399642944336, -14.769399642944336, -14.769399642944336, -14.769399642944336, -14.769399642944336, -14.769399642944336, -14.769399642944336, -14.769399642944336, -14.769399642944336, -14.769399642944336, -14.769399642944336, -14.769399642944336, -14.769399642944336, -14.769399642944336, -14.769399642944336, -14.769399642944336, -14.769399642944336, -14.769399642944336, -14.769399642944336, -14.769399642944336, -14.769399642944336, -14.769399642944336, -14.769399642944336, -14.769399642944336, -14.769399642944336, -14.769399642944336, -14.769399642944336, -14.769399642944336, -14.769399642944336, -1.0995999574661255, -1.2871999740600586, -1.7102999687194824, -2.031399965286255, -2.728300094604492, -14.728500366210938, -14.728500366210938, -14.728500366210938, -14.728500366210938, -14.728500366210938, -14.728500366210938, -14.728500366210938, -14.728500366210938, -14.728500366210938, -14.728500366210938, -14.728500366210938, -14.728500366210938, -14.728500366210938, -14.728500366210938, -14.728500366210938, -14.728500366210938, -14.728500366210938, -14.728500366210938, -14.728500366210938, -14.728500366210938, -14.728500366210938, -14.728500366210938, -14.728500366210938, -14.728500366210938, -14.728500366210938, -14.728500366210938, -14.728500366210938, -14.728500366210938, -14.728500366210938, -14.728500366210938, -14.728500366210938, -14.728500366210938, -14.728500366210938, -14.728500366210938, -14.728500366210938, -14.728500366210938, -14.728500366210938, -14.728500366210938, -14.728500366210938, -14.728500366210938, -14.728500366210938, -14.728500366210938, -14.728500366210938, -14.728500366210938, -14.728500366210938, -14.728500366210938, -14.728500366210938, -14.728500366210938, -14.728500366210938, -1.076200008392334, -1.9013999700546265, -2.66510009765625, -2.802799940109253, -3.235100030899048, -3.2815001010894775, -3.3027000427246094, -3.362299919128418, -3.4005000591278076, -3.64520001411438, -3.7046000957489014, -3.88319993019104, -3.9203999042510986, -3.927000045776367, -3.977099895477295, -4.263599872589111, -4.350500106811523, -4.768700122833252, -5.11329984664917, -5.1722002029418945, -5.18310022354126, -6.009300231933594, -14.778300285339355, -14.778300285339355, -14.778300285339355, -14.778300285339355, -14.778300285339355, -14.778300285339355, -14.778300285339355, -14.778300285339355, -14.778300285339355, -14.778300285339355, -14.778300285339355, -14.778300285339355, -14.778300285339355, -14.778300285339355, -14.778300285339355, -14.778300285339355, -0.7642999887466431, -2.588599920272827, -2.640700101852417, -2.653899908065796, -2.9814000129699707, -3.2416999340057373, -3.3120999336242676, -3.5434000492095947, -3.5998001098632812, -3.8975000381469727, -3.9119999408721924, -4.042500019073486, -4.196700096130371, -4.5, -4.704899787902832, -4.813700199127197, -5.069499969482422, -5.104499816894531, -5.464399814605713, -5.717700004577637, -6.847300052642822, -14.784799575805664, -14.784799575805664, -14.784799575805664, -14.784799575805664, -14.784799575805664, -14.784799575805664, -14.784799575805664, -14.784799575805664, -14.784799575805664, -14.784799575805664, -14.784799575805664, -14.784799575805664, -14.784799575805664, -14.784799575805664, -14.784799575805664, -14.784799575805664, -14.784799575805664, -14.784799575805664, -1.1058000326156616, -1.94760000705719, -2.7432000637054443, -2.7678000926971436, -2.876199960708618, -3.0585999488830566, -3.1870999336242676, -3.266400098800659, -3.4451000690460205, -3.738100051879883, -3.7588000297546387, -3.8345999717712402, -4.140200138092041, -4.146699905395508, -4.183000087738037, -4.338500022888184, -4.458099842071533, -4.728000164031982, -4.834000110626221, -4.93120002746582, -5.193299770355225, -14.653400421142578, -14.653400421142578, -14.653400421142578, -14.653400421142578, -14.653400421142578, -14.653400421142578, -14.653400421142578, -14.653400421142578, -14.653400421142578, -14.653400421142578, -14.653400421142578, -14.653400421142578, -14.653400421142578, -14.653400421142578, -14.653400421142578, -14.653400421142578, -14.653400421142578, -14.653400421142578, -0.8241000175476074, -2.686800003051758, -2.743499994277954, -2.832200050354004, -3.0448999404907227, -3.2767999172210693, -3.4509999752044678, -3.488800048828125, -3.5880000591278076, -3.59879994392395, -3.712100028991699, -3.7901999950408936, -3.9983999729156494, -4.473800182342529, -4.533999919891357, -4.571100234985352, -4.6097002029418945, -4.742599964141846, -4.913300037384033, -4.985199928283691, -5.025899887084961, -5.305600166320801, -5.339000225067139, -5.821400165557861, -6.000400066375732, -6.071000099182129, -14.804200172424316, -14.804200172424316, -14.804200172424316, -14.804200172424316, -14.804200172424316, -14.804200172424316, -14.804200172424316, -14.804200172424316, -1.3128999471664429, -1.3853000402450562, -2.0462000370025635, -2.4042999744415283, -2.7339999675750732, -2.8434998989105225, -2.851099967956543, -3.186300039291382, -3.675600051879883, -14.736499786376953, -14.736499786376953, -14.736499786376953, -14.736499786376953, -14.736499786376953, -14.736499786376953, -14.736499786376953, -14.736499786376953, -14.736499786376953, -14.736499786376953, -14.736499786376953, -14.736499786376953, -14.736499786376953, -14.736499786376953, -14.736499786376953, -14.736499786376953, -14.736499786376953, -14.736499786376953, -14.736499786376953, -14.736499786376953, -14.736499786376953, -14.736499786376953, -14.736499786376953, -14.736499786376953, -14.736499786376953, -14.736499786376953, -14.736499786376953, -14.736499786376953, -14.736499786376953, -14.736499786376953, -14.736499786376953, -14.736499786376953, -14.736499786376953, -14.736499786376953, -14.736499786376953, -14.736499786376953, -14.736499786376953, -14.736499786376953, -14.736499786376953, -14.736499786376953, -14.736499786376953, -14.736499786376953, -1.8250000476837158, -1.8319000005722046, -2.350399971008301, -2.5009000301361084, -2.9323999881744385, -3.0136001110076904, -3.158099889755249, -3.2327001094818115, -3.24399995803833, -3.3327999114990234, -3.7804999351501465, -3.8099000453948975, -3.916100025177002, -3.9451000690460205, -3.999300003051758, -4.019400119781494, -4.05079984664917, -4.06820011138916, -4.112599849700928, -4.460400104522705, -4.509799957275391, -4.660600185394287, -4.864099979400635, -4.971099853515625, -5.220099925994873, -5.512800216674805, -6.264999866485596, -14.787699699401855, -14.787699699401855, -14.787699699401855, -14.787699699401855, -14.787699699401855, -14.787699699401855, -1.2684999704360962, -1.336300015449524, -2.3117001056671143, -2.55049991607666, -2.595099925994873, -2.783099889755249, -3.2337000370025635, -3.3431999683380127, -4.4369001388549805, -4.492099761962891, -4.615699768066406, -4.674300193786621, -4.938700199127197, -5.847799777984619, -14.615699768066406, -14.615699768066406, -14.615699768066406, -14.615699768066406, -14.615699768066406, -14.615699768066406, -14.615699768066406, -14.615699768066406, -14.615699768066406, -14.615699768066406, -14.615699768066406, -14.615699768066406, -14.615699768066406, -14.615699768066406, -14.615699768066406, -14.615699768066406, -14.615699768066406, -14.615699768066406, -14.615699768066406, -14.615699768066406, -14.615699768066406, -14.615699768066406, -14.615699768066406, -14.615699768066406, -14.615699768066406, -14.615699768066406, -14.615699768066406, -14.615699768066406, -14.615699768066406, -14.615699768066406, -14.615699768066406, -14.615699768066406, -1.6454999446868896, -1.9744999408721924, -2.1503000259399414, -2.1770999431610107, -2.6126999855041504, -3.019700050354004, -3.029400110244751, -3.192699909210205, -3.338399887084961, -3.5064001083374023, -3.6243999004364014, -3.6772000789642334, -4.157199859619141, -4.356500148773193, -4.446499824523926, -4.479300022125244, -4.567200183868408, -4.599800109863281, -4.642499923706055, -4.85129976272583, -6.518199920654297, -8.192299842834473, -14.438699722290039, -14.438699722290039, -14.438699722290039, -14.438699722290039, -14.438699722290039, -14.438699722290039, -14.438699722290039, -14.438699722290039, -14.438699722290039, -14.438699722290039, -14.438699722290039, -14.438699722290039, -14.438699722290039, -14.438699722290039, -14.438699722290039, -14.438699722290039, -1.5583000183105469, -1.9365999698638916, -2.1714999675750732, -2.1898999214172363, -2.2356998920440674, -2.315700054168701, -2.356800079345703, -2.7906999588012695, -3.844099998474121, -4.646299839019775, -5.190400123596191, -14.293899536132812, -14.293899536132812, -14.293899536132812, -14.293899536132812, -14.293899536132812, -14.293899536132812, -14.293899536132812, -14.293899536132812, -14.293899536132812, -14.293899536132812, -14.293899536132812, -14.293899536132812, -14.293899536132812, -14.293899536132812, -14.293899536132812, -14.293899536132812, -14.293899536132812, -14.293899536132812, -14.293899536132812, -14.293899536132812, -14.293899536132812, -14.293899536132812, -14.293899536132812, -14.293899536132812, -14.293899536132812, -14.293899536132812, -14.293899536132812, -14.293899536132812, -14.293899536132812, -14.293899536132812, -14.293899536132812, -14.293899536132812, -14.293899536132812, -14.293899536132812, -14.293899536132812, -14.293899536132812, -14.293899536132812, -14.293899536132812, -0.8669000267982483, -1.7689000368118286, -2.1178998947143555, -2.1363000869750977, -2.2177000045776367, -3.7465999126434326, -4.774099826812744, -5.2144999504089355, -5.3069000244140625, -14.368000030517578, -14.368000030517578, -14.368000030517578, -14.368000030517578, -14.368000030517578, -14.368000030517578, -14.368000030517578, -14.368000030517578, -14.368000030517578, -14.368000030517578, -14.368000030517578, -14.368000030517578, -14.368000030517578, -14.368000030517578, -14.368000030517578, -14.368000030517578, -14.368000030517578, -14.368000030517578, -14.368000030517578, -14.368000030517578, -14.368000030517578, -14.368000030517578, -14.368000030517578, -14.368000030517578, -14.368000030517578, -14.368000030517578, -14.368000030517578, -14.368000030517578, -14.368000030517578, -14.368000030517578, -14.368000030517578, -14.368000030517578, -14.368000030517578, -14.368000030517578, -14.368000030517578, -14.368000030517578, -14.368000030517578, -14.368000030517578, -14.368000030517578, -14.368000030517578, -14.368000030517578, -1.5501999855041504, -1.7009999752044678, -2.0295000076293945, -2.358099937438965, -2.430799961090088, -2.678299903869629, -2.901599884033203, -3.0285000801086426, -3.2109999656677246, -3.3206000328063965, -4.7357001304626465, -4.906099796295166, -5.077199935913086, -5.805799961090088, -14.482399940490723, -14.482399940490723, -14.482399940490723, -14.482399940490723, -14.482399940490723, -14.482399940490723, -14.482399940490723, -14.482399940490723, -14.482399940490723, -14.482399940490723, -14.482399940490723, -14.482399940490723, -14.482399940490723, -14.482399940490723, -14.482399940490723, -14.482399940490723, -14.482399940490723, -14.482399940490723, -14.482399940490723, -14.482399940490723, -14.482399940490723, -14.482399940490723, -14.482399940490723, -14.482399940490723, -14.482399940490723, -14.482399940490723, -14.482399940490723, -14.482399940490723, -14.482399940490723, -14.482399940490723, -14.482399940490723, -14.482399940490723, -1.3004000186920166, -1.6259000301361084, -2.302799940109253, -2.484499931335449, -2.6245999336242676, -2.8066000938415527, -3.1034998893737793, -3.204900026321411, -3.2258999347686768, -3.237299919128418, -4.549200057983398, -4.663899898529053, -4.984000205993652, -5.610599994659424, -5.921599864959717, -14.510199546813965, -14.510199546813965, -14.510199546813965, -14.510199546813965, -14.510199546813965, -14.510199546813965, -14.510199546813965, -14.510199546813965, -14.510199546813965, -14.510199546813965, -14.510199546813965, -14.510199546813965, -14.510199546813965, -14.510199546813965, -14.510199546813965, -14.510199546813965, -14.510199546813965, -14.510199546813965, -14.510199546813965, -14.510199546813965, -14.510199546813965, -14.510199546813965, -14.510199546813965, -14.510199546813965, -14.510199546813965, -14.510199546813965, -14.510199546813965, -14.510199546813965, -14.510199546813965, -14.510199546813965, -1.5830999612808228, -1.614400029182434, -2.1247000694274902, -2.667099952697754, -2.697200059890747, -2.916800022125244, -2.9600000381469727, -3.2098000049591064, -3.226599931716919, -3.3875999450683594, -3.4453999996185303, -3.5471999645233154, -3.86080002784729, -4.394800186157227, -4.840700149536133, -14.4753999710083, -14.4753999710083, -14.4753999710083, -14.4753999710083, -14.4753999710083, -14.4753999710083, -14.4753999710083, -14.4753999710083, -14.4753999710083, -14.4753999710083, -14.4753999710083, -14.4753999710083, -14.4753999710083, -14.4753999710083, -14.4753999710083, -14.4753999710083, -14.4753999710083, -14.4753999710083, -14.4753999710083, -14.4753999710083, -14.4753999710083, -14.4753999710083, -14.4753999710083, -14.4753999710083, -14.4753999710083, -14.4753999710083, -14.4753999710083, -14.4753999710083, -14.4753999710083, -14.4753999710083, -0.36719998717308044, -2.314199924468994, -2.565200090408325, -2.908400058746338, -3.5969998836517334, -3.7604000568389893, -4.796000003814697, -14.449899673461914, -14.449899673461914, -14.449899673461914, -14.449899673461914, -14.449899673461914, -14.449899673461914, -14.449899673461914, -14.449899673461914, -14.449899673461914, -14.449899673461914, -14.449899673461914, -14.449899673461914, -14.449899673461914, -14.449899673461914, -14.449899673461914, -14.449899673461914, -14.449899673461914, -14.449899673461914, -14.449899673461914, -14.449899673461914, -14.449899673461914, -14.449899673461914, -14.449899673461914, -14.449899673461914, -14.449899673461914, -14.449899673461914, -14.449899673461914, -14.449899673461914, -14.449899673461914, -14.449899673461914, -14.449899673461914, -14.449899673461914, -14.449899673461914, -14.449899673461914, -14.449899673461914, -14.449899673461914, -14.449899673461914, -14.449899673461914, -14.449899673461914, -14.449899673461914, -14.449899673461914, -14.449899673461914, -14.449899673461914, -14.449899673461914, -14.449899673461914, -1.5397000312805176, -1.7417999505996704, -1.7506999969482422, -2.275599956512451, -2.4658000469207764, -2.59089994430542, -2.937999963760376, -3.009700059890747, -3.2325000762939453, -4.461100101470947, -14.308699607849121, -14.308699607849121, -14.308699607849121, -14.308699607849121, -14.308699607849121, -14.308699607849121, -14.308699607849121, -14.308699607849121, -14.308699607849121, -14.308699607849121, -14.308699607849121, -14.308699607849121, -14.308699607849121, -14.308699607849121, -14.308699607849121, -14.308699607849121, -14.308699607849121, -14.308699607849121, -14.308699607849121, -14.308699607849121, -14.308699607849121, -14.308699607849121, -14.308699607849121, -14.308699607849121, -14.308699607849121, -14.308699607849121, -14.308699607849121, -14.308699607849121, -14.308699607849121, -14.308699607849121, -14.308699607849121, -14.308699607849121, -14.308699607849121, -14.308699607849121, -14.308699607849121, -14.308699607849121, -14.308699607849121, -14.308699607849121, -14.308699607849121, -14.308699607849121, -1.618899941444397, -1.7244000434875488, -1.787600040435791, -2.0352001190185547, -2.3310999870300293, -3.1717000007629395, -3.183000087738037, -3.2177000045776367, -3.660099983215332, -3.683500051498413, -3.976099967956543, -5.024099826812744, -5.2906999588012695, -14.17650032043457, -14.17650032043457, -14.17650032043457, -14.17650032043457, -14.17650032043457, -14.17650032043457, -14.17650032043457, -14.17650032043457, -14.17650032043457, -14.17650032043457, -14.17650032043457, -14.17650032043457, -14.17650032043457, -14.17650032043457, -14.17650032043457, -14.17650032043457, -14.17650032043457, -14.17650032043457, -14.17650032043457, -14.17650032043457, -14.17650032043457, -14.17650032043457, -14.17650032043457, -14.17650032043457, -14.17650032043457, -14.17650032043457, -14.17650032043457, -14.17650032043457, -14.17650032043457, -14.17650032043457, -14.17650032043457, -14.17650032043457, -14.17650032043457, -14.17650032043457, -1.444599986076355, -1.6765999794006348, -1.748900055885315, -2.143199920654297, -2.231300115585327, -2.581899881362915, -2.8578999042510986, -3.710200071334839, -14.297599792480469, -14.297599792480469, -14.297599792480469, -14.297599792480469, -14.297599792480469, -14.297599792480469, -14.297599792480469, -14.297599792480469, -14.297599792480469, -14.297599792480469, -14.297599792480469, -14.297599792480469, -14.297599792480469, -14.297599792480469, -14.297599792480469, -14.297599792480469, -14.297599792480469, -14.297599792480469, -14.297599792480469, -14.297599792480469, -14.297599792480469, -14.297599792480469, -14.297599792480469, -14.297599792480469, -14.297599792480469, -14.297599792480469, -14.297599792480469, -14.297599792480469, -14.297599792480469, -14.297599792480469, -14.297599792480469, -14.297599792480469, -14.297599792480469, -14.297599792480469, -14.297599792480469, -14.297599792480469, -14.297599792480469, -14.297599792480469, -14.297599792480469, -14.297599792480469, -14.297599792480469, -14.297599792480469, -14.297599792480469, -14.297599792480469, -1.4488999843597412, -1.603600025177002, -1.878000020980835, -2.5994999408721924, -2.703399896621704, -2.7397000789642334, -3.276400089263916, -3.2976999282836914, -3.7170000076293945, -4.006800174713135, -4.309899806976318, -4.442699909210205, -4.478300094604492, -4.6504998207092285, -4.841000080108643, -4.9197998046875, -5.417099952697754, -14.23960018157959, -14.23960018157959, -14.23960018157959, -14.23960018157959, -14.23960018157959, -14.23960018157959, -14.23960018157959, -14.23960018157959, -14.23960018157959, -14.23960018157959, -14.23960018157959, -14.23960018157959, -14.23960018157959, -14.23960018157959, -14.23960018157959, -14.23960018157959, -14.23960018157959, -14.23960018157959, -14.23960018157959, -14.23960018157959, -14.23960018157959, -14.23960018157959, -14.23960018157959, -14.23960018157959, -14.23960018157959, -14.23960018157959, -1.4610999822616577, -1.6921000480651855, -1.964400053024292, -2.163599967956543, -2.7421998977661133, -2.9310998916625977, -3.279099941253662, -3.392400026321411, -3.4851999282836914, -3.5808000564575195, -3.6744000911712646, -4.565700054168701, -4.684700012207031, -4.686299800872803, -6.4720001220703125, -14.107799530029297, -14.107799530029297, -14.107799530029297, -14.107799530029297, -14.107799530029297, -14.107799530029297, -14.107799530029297, -14.107799530029297, -14.107799530029297, -14.107799530029297, -14.107799530029297, -14.107799530029297, -14.107799530029297, -14.107799530029297, -14.107799530029297, -14.107799530029297, -14.107799530029297, -14.107799530029297, -14.107799530029297, -14.107799530029297, -14.107799530029297, -14.107799530029297, -14.107799530029297, -14.107799530029297, -14.107799530029297, -14.107799530029297, -14.107799530029297, -14.107799530029297, -14.107799530029297, -14.107799530029297, -0.8669999837875366, -1.7175999879837036, -2.4616000652313232, -2.477099895477295, -2.5634000301361084, -2.7314999103546143, -3.5215001106262207, -3.5922999382019043, -4.908100128173828, -14.148300170898438, -14.148300170898438, -14.148300170898438, -14.148300170898438, -14.148300170898438, -14.148300170898438, -14.148300170898438, -14.148300170898438, -14.148300170898438, -14.148300170898438, -14.148300170898438, -14.148300170898438, -14.148300170898438, -14.148300170898438, -14.148300170898438, -14.148300170898438, -14.148300170898438, -14.148300170898438, -14.148300170898438, -14.148300170898438, -14.148300170898438, -14.148300170898438, -14.148300170898438, -14.148300170898438, -14.148300170898438, -14.148300170898438, -14.148300170898438, -14.148300170898438, -14.148300170898438, -14.148300170898438, -14.148300170898438, -14.148300170898438, -14.148300170898438, -14.148300170898438, -14.148300170898438, -14.148300170898438, -14.148300170898438, -14.148300170898438, -14.148300170898438, -14.148300170898438, -14.148300170898438, -14.148300170898438, -1.2412999868392944, -2.25570011138916, -2.303499937057495, -2.628000020980835, -3.0906999111175537, -3.1491000652313232, -3.350800037384033, -3.395400047302246, -3.553800106048584, -3.5961999893188477, -3.6760001182556152, -3.7302000522613525, -3.9523000717163086, -4.05679988861084, -4.075200080871582, -4.144199848175049, -4.193900108337402, -4.202899932861328, -4.251500129699707, -4.458000183105469, -4.621200084686279, -4.8333001136779785, -4.933899879455566, -6.941199779510498, -14.318499565124512, -14.318499565124512, -14.318499565124512, -14.318499565124512, -14.318499565124512, -14.318499565124512, -14.318499565124512, -14.318499565124512, -14.318499565124512, -14.318499565124512, -14.318499565124512, -14.318499565124512, -1.1341999769210815, -1.8479000329971313, -2.1473000049591064, -2.4042999744415283, -2.6672000885009766, -3.015000104904175, -3.238800048828125, -3.4372000694274902, -3.6731998920440674, -3.718400001525879, -4.128699779510498, -4.135499954223633, -4.568399906158447, -13.888299942016602, -13.888299942016602, -13.888299942016602, -13.888299942016602, -13.888299942016602, -13.888299942016602, -13.888299942016602, -13.888299942016602, -13.888299942016602, -13.888299942016602, -13.888299942016602, -13.888299942016602, -13.888299942016602, -13.888299942016602, -13.888299942016602, -13.888299942016602, -13.888299942016602, -13.888299942016602, -13.888299942016602, -13.888299942016602, -13.888299942016602, -13.888299942016602, -13.888299942016602, -13.888299942016602, -13.888299942016602, -13.888299942016602, -13.888299942016602, -13.888299942016602, -13.888299942016602, -13.888299942016602, -13.888299942016602, -13.888299942016602, -13.888299942016602, -13.888299942016602, -0.720300018787384, -1.5454000234603882, -2.304800033569336, -2.6451001167297363, -2.865999937057495, -3.1617000102996826, -13.936800003051758, -13.936800003051758, -13.936800003051758, -13.936800003051758, -13.936800003051758, -13.936800003051758, -13.936800003051758, -13.936800003051758, -13.936800003051758, -13.936800003051758, -13.936800003051758, -13.936800003051758, -13.936800003051758, -13.936800003051758, -13.936800003051758, -13.936800003051758, -13.936800003051758, -13.936800003051758, -13.936800003051758, -13.936800003051758, -13.936800003051758, -13.936800003051758, -13.936800003051758, -13.936800003051758, -13.936800003051758, -13.936800003051758, -13.936800003051758, -13.936800003051758, -13.936800003051758, -13.936800003051758, -13.936800003051758, -13.936800003051758, -13.936800003051758, -13.936800003051758, -13.936800003051758, -13.936800003051758, -13.936800003051758, -13.936800003051758, -13.936800003051758, -13.936800003051758, -13.936800003051758, -13.936800003051758, -13.936800003051758, -13.936800003051758, -13.936800003051758, -13.936800003051758, -13.936800003051758, -13.936800003051758, -0.9840999841690063, -1.2295000553131104, -1.749899983406067, -2.3975000381469727, -3.4019999504089355, -13.766200065612793, -13.766200065612793, -13.766200065612793, -13.766200065612793, -13.766200065612793, -13.766200065612793, -13.766200065612793, -13.766200065612793, -13.766200065612793, -13.766200065612793, -13.766200065612793, -13.766200065612793, -13.766200065612793, -13.766200065612793, -13.766200065612793, -13.766200065612793, -13.766200065612793, -13.766200065612793, -13.766200065612793, -13.766200065612793, -13.766200065612793, -13.766200065612793, -13.766200065612793, -13.766200065612793, -13.766200065612793, -13.766200065612793, -13.766200065612793, -13.766200065612793, -13.766200065612793, -13.766200065612793, -13.766200065612793, -13.766200065612793, -13.766200065612793, -13.766200065612793, -13.766200065612793, -13.766200065612793, -13.766200065612793, -13.766200065612793, -13.766200065612793, -13.766200065612793, -13.766200065612793, -13.766200065612793, -13.766200065612793, -13.766200065612793, -13.766200065612793, -13.766200065612793, -13.766200065612793, -13.766200065612793, -13.766200065612793, -0.9302999973297119, -1.4384000301361084, -2.2211999893188477, -2.953900098800659, -3.230799913406372, -3.3189001083374023, -3.4834001064300537, -3.680500030517578, -4.188899993896484, -13.23390007019043, -13.23390007019043, -13.23390007019043, -13.23390007019043, -13.23390007019043, -13.23390007019043, -13.23390007019043, -13.23390007019043, -13.23390007019043, -13.23390007019043, -13.23390007019043, -13.23390007019043, -13.23390007019043, -13.23390007019043, -13.23390007019043, -13.23390007019043, -13.23390007019043, -13.23390007019043, -13.23390007019043, -13.23390007019043, -13.23390007019043, -13.23390007019043, -13.23390007019043, -13.23390007019043, -13.23390007019043, -13.23390007019043, -13.23390007019043, -13.23390007019043, -13.23390007019043, -13.23390007019043, -13.23390007019043, -13.23390007019043, -13.23390007019043, -13.23390007019043, -13.23390007019043, -13.23390007019043, -13.23390007019043, -13.23390007019043, -13.23390007019043, -13.23390007019043, -13.23390007019043, -13.23390007019043, -1.0911999940872192, -1.1202000379562378, -1.735700011253357, -2.547800064086914, -3.779599905014038, -13.237899780273438, -13.237899780273438, -13.237899780273438, -13.237899780273438, -13.237899780273438, -13.237899780273438, -13.237899780273438, -13.237899780273438, -13.237899780273438, -13.237899780273438, -13.237899780273438, -13.237899780273438, -13.237899780273438, -13.237899780273438, -13.237899780273438, -13.237899780273438, -13.237899780273438, -13.237899780273438, -13.237899780273438, -13.237899780273438, -13.237899780273438, -13.237899780273438, -13.237899780273438, -13.237899780273438, -13.237899780273438, -13.237899780273438, -13.237899780273438, -13.237899780273438, -13.237899780273438, -13.237899780273438, -13.237899780273438, -13.237899780273438, -13.237899780273438, -13.237899780273438, -13.237899780273438, -13.237899780273438, -13.237899780273438, -13.237899780273438, -13.237899780273438, -13.237899780273438, -13.237899780273438, -13.237899780273438, -13.237899780273438, -13.237899780273438, -13.237899780273438, -13.237899780273438, -13.237899780273438, -13.237899780273438, -13.237899780273438, -10.434900283813477, -10.434900283813477, -10.434900283813477, -10.434900283813477, -10.434900283813477, -10.434900283813477, -10.434900283813477, -10.434900283813477, -10.434900283813477, -10.434900283813477, -10.434900283813477, -10.434900283813477, -10.434900283813477, -10.434900283813477, -10.434900283813477, -10.434900283813477, -10.434900283813477, -10.434900283813477, -10.434900283813477, -10.434900283813477, -10.434900283813477, -10.434900283813477, -10.434900283813477, -10.434900283813477, -10.434900283813477, -10.434900283813477, -10.434900283813477, -10.434900283813477, -10.434900283813477, -10.434900283813477, -10.434900283813477, -10.434900283813477, -10.434900283813477, -10.434900283813477, -10.434900283813477, -10.434900283813477, -10.434900283813477, -10.434900283813477, -10.434900283813477, -10.434900283813477, -10.434900283813477, -10.434900283813477, -10.434900283813477, -10.434900283813477, -10.434900283813477, -10.434900283813477, -10.434900283813477, -10.434900283813477, -10.434900283813477, -10.434900283813477, -10.434900283813477, -10.434900283813477, -10.434900283813477, -10.434900283813477, -10.434900283813477, -10.434900283813477, -10.434900283813477, -10.434900283813477, -10.434900283813477, -10.434900283813477, -10.434900283813477, -10.434900283813477, -10.434900283813477, -10.434900283813477, -10.434900283813477, -10.434900283813477, -10.434900283813477, -10.434900283813477, -10.434900283813477, -10.434900283813477, -10.434900283813477, -10.434900283813477, -10.434900283813477, -10.434900283813477, -10.434900283813477, -10.434900283813477, -10.434900283813477, -10.434900283813477, -10.434900283813477, -10.434900283813477, -10.434900283813477, -10.434900283813477, -10.434900283813477, -10.434900283813477, -10.434900283813477, -10.434900283813477, -10.434900283813477, -10.434900283813477, -10.434900283813477, -10.434900283813477, -10.434900283813477, -10.434900283813477, -10.434900283813477, -10.434900283813477, -10.434900283813477, -10.434900283813477, -10.434900283813477, -10.434900283813477, -10.434900283813477, -10.434900283813477, -10.434900283813477, -10.434900283813477, -10.434900283813477, -10.434900283813477, -10.434900283813477, -10.434900283813477, -10.434900283813477, -10.434900283813477, -10.434900283813477, -10.434900283813477, -10.434900283813477, -10.434900283813477, -10.434900283813477, -10.434900283813477, -10.434900283813477, -10.434900283813477, -10.434900283813477, -10.434900283813477], \"loglift\": [30.0, 29.0, 28.0, 27.0, 26.0, 25.0, 24.0, 23.0, 22.0, 21.0, 20.0, 19.0, 18.0, 17.0, 16.0, 15.0, 14.0, 13.0, 12.0, 11.0, 10.0, 9.0, 8.0, 7.0, 6.0, 5.0, 4.0, 3.0, 2.0, 1.0, 1.7924, 1.7923, 1.7923, 1.7923, 1.7923, 1.7923, 1.7923, 1.7923, 1.7923, 1.7923, 1.7923, 1.7923, 1.7923, 1.7923, 1.7923, 1.7923, 1.7923, 1.7923, 1.7922, 1.7922, 1.7922, 1.7921, 1.7921, 1.792, 1.792, 1.7919, 1.7918, 1.7916, 1.7913, 1.791, 3.194, 3.194, 3.194, 3.194, 3.1939, 3.1938, 3.1938, 3.1935, 3.1924, 3.1924, 3.1921, 3.1915, 3.1899, -0.6357, -0.6357, -0.6357, -0.6357, -0.6357, -0.6357, -0.6357, -0.6357, -0.6357, -0.6357, -0.6357, -0.6357, -0.6357, -0.6357, -0.6357, -0.6357, -0.6357, -0.6357, -0.6357, -0.6357, -0.6357, -0.6357, -0.6357, -0.6357, -0.6357, -0.6357, -0.6357, -0.6357, -0.6357, -0.6357, -0.6357, -0.6357, -0.6357, -0.6357, 3.1972, 3.1972, 3.1972, 3.1972, 3.1972, 3.1972, 3.1972, 3.1971, 3.1971, 3.1971, 3.197, 3.197, 3.197, 3.1969, 3.1969, 3.1969, 3.1969, 3.1968, 3.1967, 3.1967, 3.1965, 3.1964, 3.1964, 3.1963, 3.1963, 3.196, 3.196, 3.1959, 3.1957, 3.1956, 3.2378, 3.2378, 3.2377, 3.2377, 3.2376, 3.2376, 3.2376, 3.2373, 3.2372, 3.2372, 3.237, 3.237, 3.2369, 3.2368, 3.2365, 3.2365, 3.2357, 3.2353, 3.2343, 3.2335, 3.2321, -0.6315, -0.6315, -0.6315, -0.6315, -0.6315, -0.6315, -0.6315, -0.6315, -0.6315, -0.6315, -0.6315, -0.6315, -0.6315, -0.6315, -0.6315, -0.6315, -0.6315, -0.6315, 3.3788, 3.3788, 3.3788, 3.3787, 3.3787, 3.3786, 3.3785, 3.3784, 3.3784, 3.3782, 3.3774, 3.3768, 3.3723, -0.4269, -0.4269, -0.4269, -0.4269, -0.4269, -0.4269, -0.4269, -0.4269, -0.4269, -0.4269, -0.4269, -0.4269, -0.4269, -0.4269, -0.4269, -0.4269, -0.4269, -0.4269, -0.4269, -0.4269, -0.4269, -0.4269, -0.4269, -0.4269, -0.4269, -0.4269, -0.4269, -0.4269, -0.4269, -0.4269, -0.4269, -0.4269, -0.4269, -0.4269, 3.4252, 3.4252, 3.4252, 3.4252, 3.4248, 3.4248, 3.4246, 3.4246, 3.4245, 3.4244, 3.4243, 3.4242, 3.4242, 3.4238, 3.4225, -0.549, -0.549, -0.549, -0.549, -0.549, -0.549, -0.549, -0.549, -0.549, -0.549, -0.549, -0.549, -0.549, -0.549, -0.549, -0.549, -0.549, -0.549, -0.549, -0.549, -0.549, -0.549, -0.549, -0.549, -0.549, -0.549, -0.549, -0.549, -0.549, -0.549, 3.5753, 3.5753, 3.5753, 3.5752, 3.5752, 3.5752, 3.5751, 3.5751, 3.575, 3.575, 3.575, 3.575, 3.5749, 3.5748, 3.5746, 3.5746, 3.5745, 3.5744, 3.5744, 3.5734, 3.5733, 3.573, 3.5727, 3.5724, 3.572, 3.5708, 3.5708, 3.5677, 3.5666, 3.5348, 3.6619, 3.6619, 3.6618, 3.6618, 3.6618, 3.6617, 3.6617, 3.6616, 3.6613, 3.6612, 3.6607, 3.659, -0.2903, -0.2903, -0.2903, -0.2903, -0.2903, -0.2903, -0.2903, -0.2903, -0.2903, -0.2903, -0.2903, -0.2903, -0.2903, -0.2903, -0.2903, -0.2903, -0.2903, -0.2903, -0.2903, -0.2903, -0.2903, -0.2903, -0.2903, -0.2903, -0.2903, -0.2903, -0.2903, -0.2903, -0.2903, -0.2903, -0.2903, -0.2903, -0.2903, -0.2903, -0.2903, -0.2903, 3.7635, 3.7635, 3.7634, 3.7633, 3.7633, 3.7632, 3.7632, 3.7631, 3.7627, 3.7626, 3.7626, 3.7621, 3.7618, 3.7618, 3.761, 3.7594, -0.1113, -0.1113, -0.1113, -0.1113, -0.1113, -0.1113, -0.1113, -0.1113, -0.1113, -0.1113, -0.1113, -0.1113, -0.1113, -0.1113, -0.1113, -0.1113, -0.1113, -0.1113, -0.1113, -0.1113, -0.1113, -0.1113, -0.1113, -0.1113, -0.1113, -0.1113, -0.1113, -0.1113, 3.7873, 3.7873, 3.7873, 3.7873, 3.7873, 3.7871, 3.7868, 3.7867, 3.7867, 3.7866, 3.7861, 3.7858, 3.7841, 3.7821, 3.7772, 3.7761, -0.199, -0.199, -0.199, -0.199, -0.199, -0.199, -0.199, -0.199, -0.199, -0.199, -0.199, -0.199, -0.199, -0.199, -0.199, -0.199, -0.199, -0.199, -0.199, -0.199, -0.199, -0.199, -0.199, -0.199, -0.199, -0.199, -0.199, -0.199, 3.8165, 3.8165, 3.8162, 3.8161, 3.8154, 3.815, 3.8115, 3.8089, -0.18, -0.18, -0.18, -0.18, -0.18, -0.18, -0.18, -0.18, -0.18, -0.18, -0.18, -0.18, -0.18, -0.18, -0.18, -0.18, -0.18, -0.18, -0.18, -0.18, -0.18, -0.18, -0.18, -0.18, -0.18, -0.18, -0.18, -0.18, -0.18, -0.18, -0.18, -0.18, -0.18, -0.18, -0.18, -0.18, -0.18, -0.18, -0.18, -0.18, -0.18, -0.18, -0.18, -0.18, 3.8341, 3.834, 3.8339, 3.8339, 3.8338, 3.8337, 3.8336, 3.8335, 3.8334, 3.8334, 3.8334, 3.8334, 3.8333, 3.8332, 3.833, 3.8329, 3.8327, 3.8323, 3.832, 3.8309, 3.8307, 3.8302, 0.0121, 0.0121, 0.0121, 0.0121, 0.0121, 0.0121, 0.0121, 0.0121, 0.0121, 0.0121, 0.0121, 0.0121, 0.0121, 0.0121, 0.0121, 0.0121, 3.8464, 3.8463, 3.8462, 3.8461, 3.8461, 3.846, 3.846, 3.846, 3.846, 3.8459, 3.8459, 3.8458, 3.8458, 3.8458, 3.8457, 3.8456, 3.8456, 3.8455, 3.8453, 3.8452, 3.8451, 3.845, 3.8449, 3.8449, 3.8447, 3.8447, 3.8441, 3.844, 3.8439, 3.8438, 3.8972, 3.8972, 3.8972, 3.8971, 3.8969, 3.8969, 3.8967, 3.8964, 3.8962, 3.8955, 3.893, 3.8928, 3.8916, 3.8912, 3.8893, -0.0689, -0.0689, -0.0689, -0.0689, -0.0689, -0.0689, -0.0689, -0.0689, -0.0689, -0.0689, -0.0689, -0.0689, -0.0689, -0.0689, -0.0689, -0.0689, -0.0689, -0.0689, -0.0689, -0.0689, -0.0689, -0.0689, -0.0689, -0.0689, -0.0689, -0.0689, -0.0689, -0.0689, -0.0689, -0.0689, 3.9203, 3.9203, 3.9203, 3.9202, 3.9202, 3.9201, 3.9199, 3.9199, 3.9198, 3.9194, 3.9193, 3.9186, 3.9184, 3.917, 3.9114, 0.0529, 0.0529, 0.0529, 0.0529, 0.0529, 0.0529, 0.0529, 0.0529, 0.0529, 0.0529, 0.0529, 0.0529, 0.0529, 0.0529, 0.0529, 0.0529, 0.0529, 0.0529, 0.0529, 0.0529, 0.0529, 0.0529, 0.0529, 0.0529, 0.0529, 0.0529, 0.0529, 0.0529, 0.0529, 0.0529, 3.9582, 3.9581, 3.9581, 3.9579, 3.9578, 3.9578, 3.9577, 3.9574, 3.9573, 3.957, 3.9569, 3.9567, 3.9566, 3.9561, 3.956, 3.9558, 3.9557, 3.954, 3.951, 3.9441, 3.9297, 0.0123, 0.0123, 0.0123, 0.0123, 0.0123, 0.0123, 0.0123, 0.0123, 0.0123, 0.0123, 0.0123, 0.0123, 0.0123, 0.0123, 0.0123, 0.0123, 0.0123, 0.0123, 3.9774, 3.9774, 3.9773, 3.9773, 3.9773, 3.9772, 3.977, 3.9769, 3.9769, 3.9768, 3.9768, 3.9758, 3.9703, 0.1429, 0.1429, 0.1429, 0.1429, 0.1429, 0.1429, 0.1429, 0.1429, 0.1429, 0.1429, 0.1429, 0.1429, 0.1429, 0.1429, 0.1429, 0.1429, 0.1429, 0.1429, 0.1429, 0.1429, 0.1429, 0.1429, 0.1429, 0.1429, 0.1429, 0.1429, 0.1429, 0.1429, 0.1429, 0.1429, 0.1429, 0.1429, 0.1429, 3.9868, 3.9867, 3.9867, 3.9867, 3.9867, 3.9866, 3.9865, 3.9865, 3.9863, 3.9863, 3.9861, 3.9861, 3.9861, 3.9859, 3.9858, 3.9856, 3.9856, 3.9856, 3.9855, 3.9854, 3.9853, 3.9837, 3.968, 0.1757, 0.1757, 0.1757, 0.1757, 0.1757, 0.1757, 0.1757, 0.1757, 0.1757, 0.1757, 0.1757, 0.1757, 0.1757, 0.1757, 4.0107, 4.0106, 4.0106, 4.0106, 4.0105, 4.0105, 4.0105, 4.0104, 4.0104, 4.0103, 4.0103, 4.0101, 4.0101, 4.0101, 4.01, 4.01, 4.0099, 4.0099, 4.0099, 4.0098, 4.0098, 4.0098, 4.0098, 4.0096, 4.0095, 4.0091, 4.009, 4.0085, 4.0081, 4.008, 4.0157, 4.0156, 4.0155, 4.0155, 4.0152, 4.0146, 4.0133, 4.0133, 4.013, 4.0121, 0.1169, 0.1169, 0.1169, 0.1169, 0.1169, 0.1169, 0.1169, 0.1169, 0.1169, 0.1169, 0.1169, 0.1169, 0.1169, 0.1169, 0.1169, 0.1169, 0.1169, 0.1169, 0.1169, 0.1169, 0.1169, 0.1169, 0.1169, 0.1169, 0.1169, 0.1169, 0.1169, 0.1169, 0.1169, 0.1169, 0.1169, 0.1169, 0.1169, 0.1169, 0.1169, 0.1169, 0.1169, 0.1169, 0.1169, 0.1169, 4.0233, 4.0233, 4.0233, 4.0232, 4.0231, 4.0226, 4.0224, 4.0222, 4.022, 4.0214, 4.0211, 4.0198, 4.0131, 0.1452, 0.1452, 0.1452, 0.1452, 0.1452, 0.1452, 0.1452, 0.1452, 0.1452, 0.1452, 0.1452, 0.1452, 0.1452, 0.1452, 0.1452, 0.1452, 0.1452, 0.1452, 0.1452, 0.1452, 0.1452, 0.1452, 0.1452, 0.1452, 0.1452, 0.1452, 0.1452, 0.1452, 0.1452, 0.1452, 0.1452, 0.1452, 0.1452, 0.1452, 4.0333, 4.0333, 4.0333, 4.0332, 4.0331, 0.1861, 0.1861, 0.1861, 0.1861, 0.1861, 0.1861, 0.1861, 0.1861, 0.1861, 0.1861, 0.1861, 0.1861, 0.1861, 0.1861, 0.1861, 0.1861, 0.1861, 0.1861, 0.1861, 0.1861, 0.1861, 0.1861, 0.1861, 0.1861, 0.1861, 0.1861, 0.1861, 0.1861, 0.1861, 0.1861, 0.1861, 0.1861, 0.1861, 0.1861, 0.1861, 0.1861, 0.1861, 0.1861, 0.1861, 0.1861, 0.1861, 0.1861, 0.1861, 0.1861, 0.1861, 0.1861, 0.1861, 0.1861, 0.1861, 4.0665, 4.0664, 4.0663, 4.0662, 4.066, 4.066, 4.066, 4.066, 4.066, 4.0658, 4.0658, 4.0656, 4.0656, 4.0656, 4.0655, 4.0652, 4.0651, 4.0643, 4.0634, 4.0632, 4.0631, 4.0588, 0.1363, 0.1363, 0.1363, 0.1363, 0.1363, 0.1363, 0.1363, 0.1363, 0.1363, 0.1363, 0.1363, 0.1363, 0.1363, 0.1363, 0.1363, 0.1363, 4.0857, 4.0854, 4.0854, 4.0854, 4.0853, 4.0852, 4.0852, 4.085, 4.085, 4.0847, 4.0847, 4.0846, 4.0844, 4.0839, 4.0836, 4.0833, 4.0826, 4.0825, 4.0811, 4.0798, 4.0676, 0.1298, 0.1298, 0.1298, 0.1298, 0.1298, 0.1298, 0.1298, 0.1298, 0.1298, 0.1298, 0.1298, 0.1298, 0.1298, 0.1298, 0.1298, 0.1298, 0.1298, 0.1298, 4.0979, 4.0978, 4.0976, 4.0976, 4.0976, 4.0975, 4.0975, 4.0974, 4.0973, 4.0971, 4.0971, 4.097, 4.0967, 4.0967, 4.0967, 4.0964, 4.0963, 4.0957, 4.0955, 4.0952, 4.0944, 0.2612, 0.2612, 0.2612, 0.2612, 0.2612, 0.2612, 0.2612, 0.2612, 0.2612, 0.2612, 0.2612, 0.2612, 0.2612, 0.2612, 0.2612, 0.2612, 0.2612, 0.2612, 4.1032, 4.103, 4.103, 4.1029, 4.1029, 4.1027, 4.1026, 4.1026, 4.1026, 4.1025, 4.1025, 4.1024, 4.1022, 4.1015, 4.1014, 4.1014, 4.1013, 4.101, 4.1006, 4.1004, 4.1003, 4.0993, 4.0992, 4.0966, 4.0953, 4.0947, 0.1104, 0.1104, 0.1104, 0.1104, 0.1104, 0.1104, 0.1104, 0.1104, 4.1111, 4.1111, 4.111, 4.1109, 4.1108, 4.1108, 4.1108, 4.1107, 4.1104, 0.1781, 0.1781, 0.1781, 0.1781, 0.1781, 0.1781, 0.1781, 0.1781, 0.1781, 0.1781, 0.1781, 0.1781, 0.1781, 0.1781, 0.1781, 0.1781, 0.1781, 0.1781, 0.1781, 0.1781, 0.1781, 0.1781, 0.1781, 0.1781, 0.1781, 0.1781, 0.1781, 0.1781, 0.1781, 0.1781, 0.1781, 0.1781, 0.1781, 0.1781, 0.1781, 0.1781, 0.1781, 0.1781, 0.1781, 0.1781, 0.1781, 0.1781, 4.1413, 4.1413, 4.1412, 4.1412, 4.141, 4.141, 4.1409, 4.1409, 4.1409, 4.1409, 4.1405, 4.1405, 4.1404, 4.1404, 4.1403, 4.1403, 4.1402, 4.1402, 4.1402, 4.1397, 4.1396, 4.1393, 4.1388, 4.1385, 4.1376, 4.1363, 4.1307, 0.1269, 0.1269, 0.1269, 0.1269, 0.1269, 0.1269, 4.1426, 4.1426, 4.1425, 4.1424, 4.1424, 4.1423, 4.1422, 4.1421, 4.1409, 4.1408, 4.1406, 4.1405, 4.1398, 4.1356, 0.2989, 0.2989, 0.2989, 0.2989, 0.2989, 0.2989, 0.2989, 0.2989, 0.2989, 0.2989, 0.2989, 0.2989, 0.2989, 0.2989, 0.2989, 0.2989, 0.2989, 0.2989, 0.2989, 0.2989, 0.2989, 0.2989, 0.2989, 0.2989, 0.2989, 0.2989, 0.2989, 0.2989, 0.2989, 0.2989, 0.2989, 0.2989, 4.237, 4.2369, 4.2369, 4.2369, 4.2368, 4.2366, 4.2366, 4.2365, 4.2364, 4.2363, 4.2362, 4.2362, 4.2356, 4.2353, 4.2352, 4.2351, 4.2349, 4.2348, 4.2347, 4.2342, 4.2219, 4.1589, 0.4759, 0.4759, 0.4759, 0.4759, 0.4759, 0.4759, 0.4759, 0.4759, 0.4759, 0.4759, 0.4759, 0.4759, 0.4759, 0.4759, 0.4759, 0.4759, 4.2666, 4.2666, 4.2665, 4.2665, 4.2665, 4.2665, 4.2665, 4.2663, 4.2656, 4.2643, 4.2626, 0.6207, 0.6207, 0.6207, 0.6207, 0.6207, 0.6207, 0.6207, 0.6207, 0.6207, 0.6207, 0.6207, 0.6207, 0.6207, 0.6207, 0.6207, 0.6207, 0.6207, 0.6207, 0.6207, 0.6207, 0.6207, 0.6207, 0.6207, 0.6207, 0.6207, 0.6207, 0.6207, 0.6207, 0.6207, 0.6207, 0.6207, 0.6207, 0.6207, 0.6207, 0.6207, 0.6207, 0.6207, 0.6207, 4.2828, 4.2827, 4.2827, 4.2827, 4.2827, 4.2819, 4.2801, 4.2786, 4.2781, 0.5466, 0.5466, 0.5466, 0.5466, 0.5466, 0.5466, 0.5466, 0.5466, 0.5466, 0.5466, 0.5466, 0.5466, 0.5466, 0.5466, 0.5466, 0.5466, 0.5466, 0.5466, 0.5466, 0.5466, 0.5466, 0.5466, 0.5466, 0.5466, 0.5466, 0.5466, 0.5466, 0.5466, 0.5466, 0.5466, 0.5466, 0.5466, 0.5466, 0.5466, 0.5466, 0.5466, 0.5466, 0.5466, 0.5466, 0.5466, 0.5466, 4.2887, 4.2886, 4.2886, 4.2885, 4.2885, 4.2884, 4.2883, 4.2883, 4.2882, 4.2881, 4.2861, 4.2856, 4.285, 4.2809, 0.4322, 0.4322, 0.4322, 0.4322, 0.4322, 0.4322, 0.4322, 0.4322, 0.4322, 0.4322, 0.4322, 0.4322, 0.4322, 0.4322, 0.4322, 0.4322, 0.4322, 0.4322, 0.4322, 0.4322, 0.4322, 0.4322, 0.4322, 0.4322, 0.4322, 0.4322, 0.4322, 0.4322, 0.4322, 0.4322, 0.4322, 0.4322, 4.3261, 4.3261, 4.3259, 4.3259, 4.3258, 4.3258, 4.3256, 4.3256, 4.3256, 4.3256, 4.3239, 4.3236, 4.3226, 4.3195, 4.317, 0.4043, 0.4043, 0.4043, 0.4043, 0.4043, 0.4043, 0.4043, 0.4043, 0.4043, 0.4043, 0.4043, 0.4043, 0.4043, 0.4043, 0.4043, 0.4043, 0.4043, 0.4043, 0.4043, 0.4043, 0.4043, 0.4043, 0.4043, 0.4043, 0.4043, 0.4043, 0.4043, 0.4043, 0.4043, 0.4043, 4.3313, 4.3313, 4.3313, 4.3311, 4.3311, 4.331, 4.331, 4.3308, 4.3308, 4.3307, 4.3307, 4.3306, 4.3303, 4.3295, 4.3283, 0.4392, 0.4392, 0.4392, 0.4392, 0.4392, 0.4392, 0.4392, 0.4392, 0.4392, 0.4392, 0.4392, 0.4392, 0.4392, 0.4392, 0.4392, 0.4392, 0.4392, 0.4392, 0.4392, 0.4392, 0.4392, 0.4392, 0.4392, 0.4392, 0.4392, 0.4392, 0.4392, 0.4392, 0.4392, 0.4392, 4.3389, 4.3386, 4.3386, 4.3384, 4.338, 4.3378, 4.3359, 0.4647, 0.4647, 0.4647, 0.4647, 0.4647, 0.4647, 0.4647, 0.4647, 0.4647, 0.4647, 0.4647, 0.4647, 0.4647, 0.4647, 0.4647, 0.4647, 0.4647, 0.4647, 0.4647, 0.4647, 0.4647, 0.4647, 0.4647, 0.4647, 0.4647, 0.4647, 0.4647, 0.4647, 0.4647, 0.4647, 0.4647, 0.4647, 0.4647, 0.4647, 0.4647, 0.4647, 0.4647, 0.4647, 0.4647, 0.4647, 0.4647, 0.4647, 0.4647, 0.4647, 0.4647, 4.3805, 4.3805, 4.3805, 4.3804, 4.3804, 4.3803, 4.3802, 4.3801, 4.38, 4.3784, 0.6059, 0.6059, 0.6059, 0.6059, 0.6059, 0.6059, 0.6059, 0.6059, 0.6059, 0.6059, 0.6059, 0.6059, 0.6059, 0.6059, 0.6059, 0.6059, 0.6059, 0.6059, 0.6059, 0.6059, 0.6059, 0.6059, 0.6059, 0.6059, 0.6059, 0.6059, 0.6059, 0.6059, 0.6059, 0.6059, 0.6059, 0.6059, 0.6059, 0.6059, 0.6059, 0.6059, 0.6059, 0.6059, 0.6059, 0.6059, 4.4615, 4.4614, 4.4614, 4.4614, 4.4613, 4.4609, 4.4609, 4.4609, 4.4605, 4.4605, 4.4601, 4.4573, 4.456, 0.7381, 0.7381, 0.7381, 0.7381, 0.7381, 0.7381, 0.7381, 0.7381, 0.7381, 0.7381, 0.7381, 0.7381, 0.7381, 0.7381, 0.7381, 0.7381, 0.7381, 0.7381, 0.7381, 0.7381, 0.7381, 0.7381, 0.7381, 0.7381, 0.7381, 0.7381, 0.7381, 0.7381, 0.7381, 0.7381, 0.7381, 0.7381, 0.7381, 0.7381, 4.5203, 4.5202, 4.5202, 4.5201, 4.5201, 4.52, 4.5199, 4.5192, 0.617, 0.617, 0.617, 0.617, 0.617, 0.617, 0.617, 0.617, 0.617, 0.617, 0.617, 0.617, 0.617, 0.617, 0.617, 0.617, 0.617, 0.617, 0.617, 0.617, 0.617, 0.617, 0.617, 0.617, 0.617, 0.617, 0.617, 0.617, 0.617, 0.617, 0.617, 0.617, 0.617, 0.617, 0.617, 0.617, 0.617, 0.617, 0.617, 0.617, 0.617, 0.617, 0.617, 0.617, 4.5767, 4.5767, 4.5767, 4.5765, 4.5764, 4.5764, 4.576, 4.576, 4.5756, 4.5751, 4.5745, 4.5742, 4.5741, 4.5736, 4.5729, 4.5725, 4.5698, 0.675, 0.675, 0.675, 0.675, 0.675, 0.675, 0.675, 0.675, 0.675, 0.675, 0.675, 0.675, 0.675, 0.675, 0.675, 0.675, 0.675, 0.675, 0.675, 0.675, 0.675, 0.675, 0.675, 0.675, 0.675, 0.675, 4.647, 4.647, 4.647, 4.6469, 4.6467, 4.6466, 4.6463, 4.6462, 4.6461, 4.646, 4.6459, 4.6439, 4.6435, 4.6435, 4.6254, 0.8067, 0.8067, 0.8067, 0.8067, 0.8067, 0.8067, 0.8067, 0.8067, 0.8067, 0.8067, 0.8067, 0.8067, 0.8067, 0.8067, 0.8067, 0.8067, 0.8067, 0.8067, 0.8067, 0.8067, 0.8067, 0.8067, 0.8067, 0.8067, 0.8067, 0.8067, 0.8067, 0.8067, 0.8067, 0.8067, 4.655, 4.6549, 4.6547, 4.6547, 4.6546, 4.6545, 4.6539, 4.6538, 4.6504, 0.7663, 0.7663, 0.7663, 0.7663, 0.7663, 0.7663, 0.7663, 0.7663, 0.7663, 0.7663, 0.7663, 0.7663, 0.7663, 0.7663, 0.7663, 0.7663, 0.7663, 0.7663, 0.7663, 0.7663, 0.7663, 0.7663, 0.7663, 0.7663, 0.7663, 0.7663, 0.7663, 0.7663, 0.7663, 0.7663, 0.7663, 0.7663, 0.7663, 0.7663, 0.7663, 0.7663, 0.7663, 0.7663, 0.7663, 0.7663, 0.7663, 0.7663, 4.6965, 4.6963, 4.6962, 4.6961, 4.6958, 4.6958, 4.6956, 4.6955, 4.6953, 4.6953, 4.6952, 4.6951, 4.6947, 4.6945, 4.6945, 4.6943, 4.6942, 4.6942, 4.6941, 4.6935, 4.693, 4.6921, 4.6916, 4.6601, 0.5961, 0.5961, 0.5961, 0.5961, 0.5961, 0.5961, 0.5961, 0.5961, 0.5961, 0.5961, 0.5961, 0.5961, 4.8341, 4.8339, 4.8339, 4.8338, 4.8336, 4.8334, 4.8332, 4.8329, 4.8326, 4.8325, 4.8317, 4.8316, 4.8303, 1.0263, 1.0263, 1.0263, 1.0263, 1.0263, 1.0263, 1.0263, 1.0263, 1.0263, 1.0263, 1.0263, 1.0263, 1.0263, 1.0263, 1.0263, 1.0263, 1.0263, 1.0263, 1.0263, 1.0263, 1.0263, 1.0263, 1.0263, 1.0263, 1.0263, 1.0263, 1.0263, 1.0263, 1.0263, 1.0263, 1.0263, 1.0263, 1.0263, 1.0263, 4.9848, 4.9846, 4.9844, 4.9842, 4.984, 4.9837, 0.9778, 0.9778, 0.9778, 0.9778, 0.9778, 0.9778, 0.9778, 0.9778, 0.9778, 0.9778, 0.9778, 0.9778, 0.9778, 0.9778, 0.9778, 0.9778, 0.9778, 0.9778, 0.9778, 0.9778, 0.9778, 0.9778, 0.9778, 0.9778, 0.9778, 0.9778, 0.9778, 0.9778, 0.9778, 0.9778, 0.9778, 0.9778, 0.9778, 0.9778, 0.9778, 0.9778, 0.9778, 0.9778, 0.9778, 0.9778, 0.9778, 0.9778, 0.9778, 0.9778, 0.9778, 0.9778, 0.9778, 0.9778, 5.0279, 5.0278, 5.0277, 5.0275, 5.0265, 1.1484, 1.1484, 1.1484, 1.1484, 1.1484, 1.1484, 1.1484, 1.1484, 1.1484, 1.1484, 1.1484, 1.1484, 1.1484, 1.1484, 1.1484, 1.1484, 1.1484, 1.1484, 1.1484, 1.1484, 1.1484, 1.1484, 1.1484, 1.1484, 1.1484, 1.1484, 1.1484, 1.1484, 1.1484, 1.1484, 1.1484, 1.1484, 1.1484, 1.1484, 1.1484, 1.1484, 1.1484, 1.1484, 1.1484, 1.1484, 1.1484, 1.1484, 1.1484, 1.1484, 1.1484, 1.1484, 1.1484, 1.1484, 1.1484, 5.4785, 5.4783, 5.4779, 5.4772, 5.4767, 5.4765, 5.4761, 5.4756, 5.4735, 1.6807, 1.6807, 1.6807, 1.6807, 1.6807, 1.6807, 1.6807, 1.6807, 1.6807, 1.6807, 1.6807, 1.6807, 1.6807, 1.6807, 1.6807, 1.6807, 1.6807, 1.6807, 1.6807, 1.6807, 1.6807, 1.6807, 1.6807, 1.6807, 1.6807, 1.6807, 1.6807, 1.6807, 1.6807, 1.6807, 1.6807, 1.6807, 1.6807, 1.6807, 1.6807, 1.6807, 1.6807, 1.6807, 1.6807, 1.6807, 1.6807, 1.6807, 5.7601, 5.7601, 5.7599, 5.7591, 5.7559, 1.6767, 1.6767, 1.6767, 1.6767, 1.6767, 1.6767, 1.6767, 1.6767, 1.6767, 1.6767, 1.6767, 1.6767, 1.6767, 1.6767, 1.6767, 1.6767, 1.6767, 1.6767, 1.6767, 1.6767, 1.6767, 1.6767, 1.6767, 1.6767, 1.6767, 1.6767, 1.6767, 1.6767, 1.6767, 1.6767, 1.6767, 1.6767, 1.6767, 1.6767, 1.6767, 1.6767, 1.6767, 1.6767, 1.6767, 1.6767, 1.6767, 1.6767, 1.6767, 1.6767, 1.6767, 1.6767, 1.6767, 1.6767, 1.6767, 4.4797, 4.4797, 4.4797, 4.4797, 4.4797, 4.4797, 4.4797, 4.4797, 4.4797, 4.4797, 4.4797, 4.4797, 4.4797, 4.4797, 4.4797, 4.4797, 4.4797, 4.4797, 4.4797, 4.4797, 4.4797, 4.4797, 4.4797, 4.4797, 4.4797, 4.4797, 4.4797, 4.4797, 4.4797, 4.4797, 4.4797, 4.4797, 4.4797, 4.4797, 4.4797, 4.4797, 4.4797, 4.4797, 4.4797, 4.4797, 4.4797, 4.4797, 4.4797, 4.4797, 4.4797, 4.4797, 4.4797, 4.4797, 4.4797, 4.4797, 4.4797, 4.4797, 4.4797, 4.4797, 4.4797, 4.4797, 4.4797, 4.4797, 4.4797, 4.4797, 4.4797, 4.4797, 4.4797, 4.4797, 4.4797, 4.4797, 4.4797, 4.4797, 4.4797, 4.4797, 4.4797, 4.4797, 4.4797, 4.4797, 4.4797, 4.4797, 4.4797, 4.4797, 4.4797, 4.4797, 4.4797, 4.4797, 4.4797, 4.4797, 4.4797, 4.4797, 4.4797, 4.4797, 4.4797, 4.4797, 4.4797, 4.4797, 4.4797, 4.4797, 4.4797, 4.4797, 4.4797, 4.4797, 4.4797, 4.4797, 4.4797, 4.4797, 4.4797, 4.4797, 4.4797, 4.4797, 4.4797, 4.4797, 4.4797, 4.4797, 4.4797, 4.4797, 4.4797, 4.4797, 4.4797, 4.4797, 4.4797, 4.4797]}, \"token.table\": {\"Topic\": [25, 16, 5, 7, 14, 35, 28, 13, 28, 33, 33, 40, 10, 1, 35, 31, 12, 37, 32, 7, 44, 24, 23, 41, 38, 33, 12, 16, 1, 20, 3, 1, 1, 10, 4, 23, 34, 13, 25, 16, 13, 28, 14, 11, 19, 26, 35, 23, 39, 42, 26, 44, 48, 44, 27, 5, 3, 15, 1, 4, 30, 33, 25, 10, 40, 15, 4, 12, 43, 35, 15, 32, 30, 17, 30, 19, 29, 16, 28, 16, 41, 6, 12, 26, 1, 13, 6, 15, 41, 7, 20, 21, 18, 28, 23, 13, 9, 9, 24, 26, 17, 4, 25, 14, 19, 39, 19, 41, 7, 14, 42, 32, 26, 39, 6, 12, 22, 18, 15, 17, 41, 8, 29, 9, 24, 15, 21, 24, 40, 11, 13, 24, 19, 28, 47, 3, 35, 43, 37, 45, 22, 44, 24, 13, 44, 40, 21, 21, 16, 45, 30, 25, 3, 29, 18, 34, 10, 20, 20, 28, 16, 10, 9, 38, 31, 7, 40, 42, 40, 13, 46, 6, 25, 39, 42, 44, 15, 1, 5, 34, 12, 9, 13, 17, 13, 19, 25, 28, 30, 28, 41, 19, 1, 40, 26, 26, 3, 30, 8, 12, 3, 27, 32, 3, 26, 24, 44, 17, 35, 19, 23, 9, 18, 23, 44, 33, 10, 4, 21, 29, 38, 43, 1, 19, 4, 37, 19, 7, 43, 29, 37, 46, 34, 35, 33, 18, 29, 25, 40, 41, 40, 26, 19, 33, 16, 26, 31, 19, 19, 1, 25, 5, 23, 12, 3, 12, 45, 18, 14, 17, 8, 36, 15, 36, 43, 5, 32, 24, 18, 18, 8, 30, 13, 26, 19, 5, 28, 23, 44, 19, 3, 1, 19, 5, 1, 19, 8, 47, 26, 12, 6, 23, 18, 23, 5, 3, 18, 35, 6, 28, 4, 44, 6, 48, 7, 11, 38, 33, 16, 29, 48, 31, 2, 9, 18, 30, 28, 29, 47, 9, 29, 24, 17, 24, 10, 30, 2, 34, 28, 12, 48, 16, 28, 35, 32, 34, 12, 35, 19, 28, 45, 30, 26, 2, 16, 44, 3, 11, 18, 20, 33, 25, 41, 18, 23, 7, 10, 40, 33, 1, 21, 20, 25, 22, 36, 4, 32, 2, 30, 35, 43, 44, 3, 25, 7, 38, 13, 24, 14, 5, 31, 38, 32, 38, 43, 13, 10, 24, 47, 43, 4, 3, 43, 43, 37, 3, 14, 29, 27, 27, 3, 10, 3, 8, 30, 24, 35, 7, 1, 30, 23, 23, 38, 40, 14, 19, 6, 17, 10, 19, 16, 1, 34, 8, 34, 25, 3, 16, 28, 20, 34, 1, 34, 13, 24, 7, 3, 29, 6, 7, 27, 7, 39, 26, 31, 11, 2, 18, 3, 30, 37, 41, 13, 23, 8, 15, 19, 4, 43, 2, 19, 4, 38, 33, 3, 4, 21, 40, 25, 3, 30, 5, 26, 14, 6, 4, 12, 23, 6, 6, 29, 43, 14, 13, 43, 23, 14, 20, 9, 13, 28, 45, 9, 36, 25, 16, 34, 46, 3, 7, 21, 17, 3, 26, 7, 27, 34, 41, 18, 7, 14, 8, 33, 24, 32, 23, 41, 20, 34, 28, 3, 30, 15, 14, 28, 23, 14, 31, 1, 43, 25, 30, 27, 12, 23, 24, 18, 19, 33, 11, 26, 13, 12, 34, 37, 13, 13, 36, 25, 34, 17, 13, 24, 13, 7, 42, 35, 47, 9, 26, 1, 16, 19, 38, 24, 39, 4, 19, 16, 10, 43, 26, 15, 17, 44, 40, 43, 18, 6, 19, 31, 2, 40, 13, 7, 10, 9, 31, 25, 40, 24, 7, 4, 23, 5, 24, 30, 18, 7, 13, 1, 18, 1, 45, 48, 17, 19, 26, 30, 7, 2, 8, 28, 30, 21, 9, 2, 28, 3, 36, 20, 43, 4, 37, 41, 42, 7, 12, 43, 28, 7, 17, 30, 47, 23, 12, 38, 39, 43, 6, 18, 46, 22, 4, 5, 47, 8, 16, 11, 19, 47, 18, 41, 35, 21, 23, 25, 31, 2, 2, 21, 3, 13, 12, 26, 1, 35, 13, 3, 7, 15, 24, 4, 29, 10, 12, 22, 43, 1, 42, 6, 15, 18, 16, 16, 7, 9, 29, 25, 2, 38, 1, 11, 4, 28, 1, 12, 12, 25, 19, 40, 36, 33, 1, 41, 43, 46, 13, 47, 1, 43, 26, 4, 30, 15, 40, 18, 38, 9, 1, 16, 7, 10, 31, 13, 4, 26, 21, 41, 14, 13, 7, 26, 37, 3, 43, 28, 43, 27, 1, 7, 5, 3, 26, 9, 21, 15, 1, 8, 39, 12, 16, 19, 28, 37, 1, 13, 28, 42, 27, 2, 7, 10, 3, 28, 42, 7, 26], \"Freq\": [0.9998987109032984, 0.9906968879625159, 0.999809460018755, 0.9997620310321472, 0.9993627119196851, 0.9997176850622153, 0.9988158352197967, 0.9969205720209147, 0.9995182844704864, 0.9997606675764268, 0.9996332413219523, 0.9986847691092637, 0.9993039095741647, 0.9998070896600182, 0.999395409322914, 0.9963413119614911, 0.9992019381627205, 0.9998531499192093, 0.9972855699889038, 0.9995656697799011, 0.9992837362751786, 0.999454173534816, 0.9997560195765993, 0.9756422562366094, 0.999878791736685, 0.9994062434954047, 0.9997920767724608, 0.9998620625747635, 0.9999512830787606, 0.9998078615255309, 0.9995201437231437, 0.9991468573180823, 0.9994100313200811, 0.9887605345211441, 0.998330621940225, 0.9992575466004918, 0.9995613592045184, 0.9992274415132888, 0.9981334577662746, 0.998994733648174, 0.9997984943157158, 0.9971853709807764, 0.9940257838225024, 0.9986481780417833, 0.9991945600361384, 0.9983635766709915, 0.9994525074840268, 0.9999234520827965, 0.9998143025475121, 0.9996429267859349, 0.9953049795023836, 0.9992750498191307, 0.9954193079547298, 0.9992683586924022, 0.9998798432264286, 0.999645203070284, 0.9998975406961905, 0.9998985689418001, 0.9999075354963447, 0.9972478042578687, 0.9992617841235464, 0.9994410795599982, 0.998544413372799, 0.999597438929392, 0.9957252796810289, 0.9996172537112223, 0.9999712552506468, 0.9994394189873383, 0.9982856908468087, 0.9997398894923067, 0.9980082864289894, 0.9949300436697983, 0.9990203232405009, 0.9998570150955892, 0.9269156145939628, 0.999720228659232, 0.9976387824284456, 0.9990450898814138, 0.998865226071342, 0.9998745092786503, 0.9964899009860518, 0.9990239568502437, 0.9996686027402424, 0.9963554126863118, 0.9992626173312553, 0.999293192094624, 0.9984027777162284, 0.9929189516133143, 0.9996422842246925, 0.9992606234267345, 0.9986621374533172, 0.9997558695468942, 0.9773188687315625, 0.9996575405186395, 0.9981586179763678, 0.9984371939203472, 0.9997535598507207, 0.9986682557031556, 0.9975316523104517, 0.9996003725617484, 0.9999293530561778, 0.9999113238522256, 0.9989181323975789, 0.9999228591143141, 0.9988650255414107, 0.9998247060204244, 0.9985311245185795, 0.9997576485060182, 0.9988786569829989, 0.9989376845591551, 0.9997349392848991, 0.9999116313463634, 0.9978826384804212, 0.9985663109083298, 0.9999583059128578, 0.9998007470081265, 0.9998952566272377, 0.998823535164773, 0.9996468966812627, 0.9996982640969905, 0.9951026036155249, 0.9997198304716658, 0.9999007987585173, 0.9980286890175621, 0.9994735306207941, 0.9997491270631043, 0.9868748384911926, 0.9982247926266637, 0.9969846902352222, 0.9939443683598056, 0.9991818463467034, 0.9996689720411847, 0.9995496482874553, 0.9990971680320836, 0.997738739900909, 0.9996877016350559, 0.9997589109118639, 0.9950787639140402, 0.9996543380205276, 0.9985699409425398, 0.9996841013956725, 0.9995180547250622, 0.9990047449680203, 0.9991945853667864, 0.9980619079976769, 0.9973467990121159, 0.9999525719267748, 0.998345232890833, 0.9994638125740899, 0.9994706088628145, 0.9995031505919215, 0.9987646616868657, 0.9992111342698242, 0.9995143605346724, 0.999340209965118, 0.9991512210035299, 0.9996956074579282, 0.9982305905232058, 0.9998868300777952, 0.9998754158264943, 0.9993594040325368, 0.9988846916809703, 0.9983856600103089, 0.9993019925454668, 0.9998794089241282, 0.999947867427888, 0.9998064723548196, 0.9997815939693295, 0.9997289703963286, 0.9985833473128245, 0.9998161490827956, 0.9994349689551709, 0.996182687439725, 0.999840968913362, 0.9937180151132001, 0.9990310421115257, 0.9998004421919414, 0.999732789028953, 0.99816556433469, 0.9995815394837692, 0.9990392862907981, 0.9977369332442567, 0.9978768312879297, 0.9904595725557106, 0.9988035374507126, 0.9992975494938837, 0.9984512985178509, 0.997570864290707, 0.99808509772829, 0.9992043785648609, 0.9990458874780873, 0.9994351535841435, 0.9998750998976564, 0.996517884796452, 0.9899177440349721, 0.9983181322156678, 0.9997196391219222, 0.9984295992690643, 0.9991620058757211, 0.9994336946122737, 0.9989893104558899, 0.9996959662510474, 0.9997956984858825, 0.999525519049233, 0.9984537776348621, 0.9993120141629297, 0.9999192903837129, 0.9984185403736986, 0.9994216856024205, 0.9986972934092682, 0.9986877179893227, 0.9997765690831067, 0.9989824937419738, 0.9981750781782057, 0.9994786234133057, 0.9998852197507985, 0.9994168181020633, 0.9990002165398308, 0.9982614957786141, 0.9970375057802416, 0.9998283206025038, 0.9983971444318576, 0.9999565774746181, 0.9998708923024663, 0.9979166383176861, 0.9997713265813281, 0.997705449699075, 0.99954257071297, 0.998510988812644, 0.9932859301569502, 0.9998470781187399, 0.9998209973392188, 0.9996929561954346, 0.9976996430792122, 0.9980195802135833, 0.9992574247027781, 0.9995143850587934, 0.9991037711180208, 0.9996045180384409, 0.9998711956864583, 0.9983975593621065, 0.9995531142692926, 0.9984392083174082, 0.9994756454605417, 0.9999625312793491, 0.9996308018203646, 0.9998328971652072, 0.99971175746288, 0.9989393608189807, 0.9999456409088219, 0.9996913676661503, 0.9976062376237825, 0.9991313945065279, 0.9992459437248936, 0.9997344951007868, 0.9993843403816727, 0.9989570039216904, 0.9999041965287947, 0.9995678874190469, 0.9993928931561763, 0.9999121711399205, 0.9986684308275703, 0.9993983937060437, 0.9960878903580775, 0.998762212551582, 0.9994368011881867, 0.9997865308967312, 0.9993166650013964, 0.9998198957555225, 0.9994328484926583, 0.9993576817286387, 0.9833519219541064, 0.9998817099122962, 0.9999660816674216, 0.9997840162801731, 0.9933597828664167, 0.9999022895839544, 0.9924676409947364, 0.9971453889916639, 0.9986557699539783, 0.9981790764588782, 0.9999677847368164, 0.9998038645996256, 0.9999599003789594, 0.9999869171804447, 0.9977905644979378, 0.9999710880162519, 0.9997730382813391, 0.9988613230930763, 0.9998548321909145, 0.999181128735818, 0.9995079263550793, 0.9992973772829973, 0.9995578523871712, 0.9995596121171165, 0.9998245641253779, 0.9997454375767064, 0.9999195435367139, 0.9990221015701848, 0.9996840717779736, 0.9998684748813824, 0.9977056528463567, 0.9996095955180241, 0.9997040919829535, 0.9900038458197518, 0.9999472083968372, 0.998805184292425, 0.9996065765087, 0.9822973172368816, 0.9969991449227051, 0.9990049032551682, 0.9998535484677378, 0.9984428678923764, 0.9999193985852157, 0.9998122951460074, 0.9993891158579427, 0.9996853983344569, 0.9983333064939862, 0.9966874477951095, 0.9998950377394633, 0.9998303457358192, 0.9993478111525844, 0.9990814555443123, 0.9960668465677864, 0.9962570499197011, 0.9998648052748715, 0.9996074340241926, 0.9878800009898038, 0.9967504222955287, 0.9967373508552719, 0.9994395539593847, 0.9970869420456935, 0.9992727084929411, 0.9985525871952158, 0.9998584235116124, 0.9958659109981479, 0.9985747031374205, 0.9992352108570368, 0.9995878347940169, 0.9976935612156773, 0.9991093961902029, 0.9973432817876247, 0.9994772868471746, 0.9981617462081455, 0.9698057527562549, 0.9951468681876267, 0.9985464285887421, 0.9950063736734267, 0.9984494866989925, 0.9961276414375985, 0.9997875781290194, 0.9964610169129289, 0.9992227984891662, 0.998327147604972, 0.9980515019816003, 0.9964144294352295, 0.9952409440198599, 0.9913552268625326, 0.9998743524387772, 0.9999262882579654, 0.998945566488566, 0.99802666905967, 0.9970548076403014, 0.9999570569446767, 0.9999567620804786, 0.9997775918202416, 0.99667916117616, 0.9999734048216994, 0.9988512173759991, 0.9994912197371122, 0.9580006921249051, 0.9998149501255106, 0.9992921062217909, 0.9989393858468558, 0.997812735575537, 0.9998019704586861, 0.9973686570249247, 0.999793693116193, 0.9998730434586129, 0.9994094255080883, 0.9996735552893178, 0.9992135377832015, 0.9999522148047, 0.9955501903225785, 0.9990415047607353, 0.9995596361806147, 0.999957505571937, 0.9995792871328972, 0.9995895809932421, 0.9988378821415347, 0.9932055233315217, 0.9996592014398695, 0.9990164171691194, 0.9996473845633329, 0.9998262047173264, 0.9999161377169768, 0.9999010052782539, 0.9999390584896929, 0.9998278254384412, 0.9996117793407157, 0.9998796748651255, 0.9998349526000391, 0.9991071163532721, 0.9997895766842742, 0.9994172101478351, 0.9948739926280715, 0.999382428231264, 0.9969564610176737, 0.9999692858129797, 0.999781446442156, 0.999323096566797, 0.9972892560667541, 0.998512350466038, 0.9998333116099198, 0.996457037018275, 0.9993807065925916, 0.9989674169180089, 0.9991919474629632, 0.9893823076854809, 0.9997466152153226, 0.9980296121782647, 0.9999564930418251, 0.999905650749948, 0.9998505145373519, 0.9964644835365041, 0.999598706756015, 0.9987068906549083, 0.999712250420897, 0.9993717046085067, 0.9993972588950784, 0.9994174226840048, 0.999794736376069, 0.9993034672023735, 0.9990438592886908, 0.9999454087156453, 0.9992550663779839, 0.9998999644511418, 0.9996418571969974, 0.9999530455313872, 0.9999090648070676, 0.9999384920218637, 0.991084220611597, 0.9993909704230324, 0.9972779916601967, 0.9997684607055699, 0.999961301782894, 0.9999177720977029, 0.9998639456360089, 0.9996577905741141, 0.9995958564445123, 0.9994270685823033, 0.998909650897451, 0.999535474326304, 0.996820082276126, 0.9998595940984446, 0.9979077152028817, 0.9993047421604003, 0.9994552859117363, 0.9986902018282316, 0.9995947217936195, 0.9978904384295607, 0.998265813296238, 0.9998050879719218, 0.9994870174255392, 0.9999264492673064, 0.9996817804242253, 0.9999123472358195, 0.9995911721166327, 0.9993868898275052, 0.999588385521047, 0.9978181326221987, 0.9998020991661954, 0.9990067590164302, 0.9947612747815991, 0.9982321818487123, 0.9995114705484128, 0.9988355081393405, 0.9991317997895186, 0.9999721691399278, 0.9990417065463042, 0.9997279195498472, 0.9984940026144197, 0.9996393776132394, 0.9996331356609317, 0.9995978558958496, 0.9992234264517428, 0.9968670411312214, 0.9999773291164383, 0.9993932876752518, 0.9990999025607828, 0.9989207468872787, 0.9998766712228994, 0.9996057455437681, 0.9994215733044566, 0.9985730209652162, 0.9997153736358404, 0.9977788736773344, 0.9998596987514681, 0.9997911764230553, 0.9998725386347237, 0.9990998904943588, 0.9998658422923105, 0.9992488626229484, 0.999214760786629, 0.9996728235009364, 0.9991014675739938, 0.9997125073179385, 0.9988388687355934, 0.99822750029523, 0.9941421519370452, 0.9952583192800788, 0.997305169456407, 0.997378472804341, 0.9977379048724151, 0.9990396649000406, 0.999120498155886, 0.9989681964158603, 0.9998078161172996, 0.9931597580846091, 0.9990343058209388, 0.9992185572350301, 0.9998434508320445, 0.9998751597771908, 0.9994542751104101, 0.9947265610374927, 0.9981542880713855, 0.9980698984011582, 0.9995254087977291, 0.9995445597905689, 0.9974924283855542, 0.9974339347922505, 0.9978625345219714, 0.9999294313518968, 0.9975420463121405, 0.9997818946493202, 0.9990637008300105, 0.9988028287388402, 0.9994316414358827, 0.9931074842654255, 0.9996203358392488, 0.9975343932297964, 0.9997160906392272, 0.9989133951027637, 0.999747186062287, 0.9996325491579997, 0.9986946674031882, 0.9986695739577063, 0.9997368115921419, 0.9999213504530216, 0.9998330055713279, 0.9993230306545076, 0.9984789812754302, 0.9961847692296079, 0.998232228412603, 0.9955817345384467, 0.9994624844622104, 0.9990463307997549, 0.9994821179597694, 0.9991173508980024, 0.9914219665684932, 0.9998793550566354, 0.9990051185446774, 0.9968452411188576, 0.998199409874936, 0.9973656109570707, 0.9997473168938255, 0.9974122603596256, 0.9990058031206379, 0.9972014054772923, 0.998612577235329, 0.9996356586450651, 0.9985112507302879, 0.996933614884187, 0.9998444715337935, 0.9983147200566527, 0.9988390071211719, 0.9998374304501542, 0.9996950652213988, 0.9995219117373355, 0.9992057187731458, 0.9970567926614139, 0.9953371718166062, 0.9950438849786912, 0.9999448081706457, 0.9981587106818585, 0.9990578705927562, 0.9950228597150864, 0.9997951156210303, 0.9997201198512605, 0.999571511686058, 0.9997832685017678, 0.9997101794411929, 0.9999764602635707, 0.999300663681847, 0.9999738624034966, 0.9782251206698742, 0.9992874234053952, 0.9989116407120227, 0.9988034633145443, 0.9988542683772066, 0.9999162634833985, 0.9984238544216738, 0.9999033250616176, 0.9996928978033274, 0.9996276021437565, 0.9993994269094646, 0.9990943836683259, 0.9974602319112861, 0.9994138508789395, 0.9996389380882719, 0.9998756862253269, 0.9986915311684528, 0.9959156205923015, 0.9982083791439051, 0.9993335562368676, 0.9997025454639308, 0.9988643507556988, 0.9996460868058389, 0.9989630331735914, 0.9997655821177656, 0.9972206238111498, 0.9984279607934352, 0.9997703893508602, 0.9977666595502622, 0.999848013959388, 0.9983147266219702, 0.9996009144010417, 0.9991752706962204, 0.9979265594990475, 0.9993585936517474, 0.9999366442366072, 0.9999030972323446, 0.9998007389056128, 0.9982651580042601, 0.9996318820806365, 0.9972274173897353, 0.9938625215528273, 0.9997250654445732, 0.9956979751667834, 0.9998589472819716, 0.999713002038823, 0.999376875488003, 0.9999470741797136, 0.9994929371878737, 0.9997304608236907, 0.9988182308879412, 0.9998410928036375, 0.9971093612910613, 0.9988994543303906, 0.9989812079400683, 0.9962023230172363, 0.9997073034976075, 0.9990367074028743, 0.9998594504320972, 0.9996384674326771, 0.9998247698091972, 0.9996447357702334, 0.9998362611354026, 0.9994876745544369, 0.9999095573320538, 0.9998546334154066, 0.9988047445100213, 0.9995859737913088, 0.999147281368158, 0.9990047990859015, 0.999679734444498, 0.9992085648603657, 0.9994574038521895, 0.999791573437928, 0.999321460075359, 0.9990047262878825, 0.9991964019996997, 0.9990613788000459, 0.999707156333934, 0.9998650927934483, 0.9995754218588979, 0.9999231064953609, 0.9981505453100584, 0.9999814214240734, 0.9998879217483778, 0.9994405282102644, 0.9992379730583326, 0.9975691387927641, 0.9987842299228746, 0.9983180022541588, 0.9992821534738855, 0.9999556187673829, 0.9986626250784578, 0.9995678530575054, 0.997866484894565, 0.9992249022185684, 0.9992705285875464, 0.9995828912204003, 0.9994757761024948, 0.9980041077017616, 0.9999651995864245, 0.9999772824282944, 0.9992074027607214, 0.9991783911643942, 0.9993972042491317, 0.998366531763564, 0.9994749131825755, 0.9959543411978827, 0.9999704269477189, 0.9966804755399227, 0.9943202679615953, 0.9985890567141581, 0.9992800624140686, 0.9985951256094391, 0.9996234231082689, 0.9990300967845999, 0.9995217260452454, 0.9957813710159981, 0.9990135732250918, 0.9997831838292798, 0.9992676051065295, 0.9991013116389718, 0.9997241800667396, 0.9989416014056339, 0.9999521064165156, 0.9997130372995277, 0.9459630190898831, 0.9998794207690611, 0.9985089508941108, 0.997994814098471, 0.999002925562469, 0.9991634941553263, 0.9974030903091419, 0.9997705724103341, 0.9999315476453562, 0.9995540639959781, 0.9974520649792121, 0.99745023028813, 0.9993687975290002, 0.9988373875071785, 0.9969520007613545, 0.9919213856681641, 0.9982251949701055, 0.9994517707152737, 0.9999769439713618, 0.9997107073918805, 0.99994882087798, 0.9995493288823188, 0.9996215576546699, 0.9997424459622469, 0.9975502174958241, 0.999964256178015, 0.9997515247384421, 0.9999505888792442, 0.9998788743627905, 0.9983835130682086, 0.9966629897013184, 0.9996636131828939, 0.9998056110351632, 0.9991958717481924, 0.9999705180525723, 0.9988755851507642, 0.9996698594358072, 0.9996330721072492, 0.9995544672908769, 0.999976250510701, 0.9995395349821499, 0.9998585341381111, 0.9999168410673351, 0.9990502024376502, 0.998631976620699, 0.9998750439316386, 0.9900509627616766], \"Term\": [\"able\", \"absence\", \"absolutely\", \"abuse\", \"abusive\", \"accept\", \"access\", \"accidentally\", \"account\", \"act\", \"action\", \"actively\", \"actual\", \"actually\", \"add\", \"addition\", \"admit\", \"adult\", \"advance\", \"advice\", \"affect\", \"ago\", \"agree\", \"alarm\", \"allow\", \"almost\", \"alone\", \"already\", \"also\", \"always\", \"amount\", \"anger\", \"angry\", \"annoyed\", \"annoying\", \"answer\", \"anymore\", \"anyway\", \"anywhere\", \"apart\", \"apologize\", \"appear\", \"appearance\", \"appreciate\", \"area\", \"argue\", \"around\", \"ask\", \"asshole\", \"assume\", \"assumption\", \"attention\", \"award\", \"aware\", \"away\", \"awful\", \"baby\", \"back\", \"bad\", \"badly\", \"ban\", \"base\", \"basic\", \"basically\", \"basis\", \"bathroom\", \"be\", \"bear\", \"beat\", \"become\", \"bedroom\", \"beforehand\", \"begin\", \"behavior\", \"being\", \"believe\", \"belong\", \"benefit\", \"best\", \"big\", \"biological\", \"birth\", \"bit\", \"bitch\", \"blame\", \"body\", \"bond\", \"bone\", \"boss\", \"bother\", \"boy\", \"break\", \"breaking\", \"bring\", \"btw\", \"burn\", \"business\", \"busy\", \"butt\", \"buy\", \"call\", \"can\", \"card\", \"care\", \"carry\", \"case\", \"catch\", \"cause\", \"certain\", \"certainly\", \"chance\", \"change\", \"character\", \"cheat\", \"child\", \"choice\", \"choose\", \"circumstance\", \"class\", \"clearly\", \"client\", \"close\", \"come\", \"comfort\", \"comfortable\", \"comment\", \"commenter\", \"commitment\", \"community\", \"competition\", \"complain\", \"completely\", \"concern\", \"condition\", \"conflict\", \"consequence\", \"consider\", \"content\", \"continue\", \"contribute\", \"control\", \"conversation\", \"cook\", \"cool\", \"cope\", \"copy\", \"could\", \"country\", \"couple\", \"course\", \"cousin\", \"covid\", \"coworker\", \"create\", \"cruel\", \"curious\", \"cut\", \"cute\", \"d\", \"dad\", \"damage\", \"damn\", \"danger\", \"date\", \"daughter\", \"day\", \"deal\", \"decide\", \"decision\", \"defend\", \"definitely\", \"depend\", \"description\", \"deserve\", \"deserved\", \"detail\", \"die\", \"different\", \"differently\", \"difficult\", \"disability\", \"disabled\", \"disagree\", \"disappointed\", \"discipline\", \"discuss\", \"discussion\", \"disgust\", \"dismiss\", \"disrespect\", \"disrespectful\", \"divorce\", \"do\", \"downvote\", \"dozen\", \"draw\", \"dress\", \"drunk\", \"due\", \"early\", \"earn\", \"easy\", \"eat\", \"edit\", \"effect\", \"effort\", \"else\", \"emergency\", \"emotional\", \"emotionally\", \"encourage\", \"end\", \"energy\", \"engage\", \"enjoy\", \"enough\", \"entire\", \"environment\", \"equal\", \"equally\", \"especially\", \"essentially\", \"even\", \"ever\", \"everyday\", \"exactly\", \"exclude\", \"excuse\", \"exist\", \"existence\", \"expect\", \"experience\", \"explain\", \"explanation\", \"express\", \"extra\", \"extremely\", \"eye\", \"face\", \"fact\", \"factor\", \"fair\", \"fake\", \"fall\", \"family\", \"far\", \"father\", \"fault\", \"feed\", \"feel\", \"feeling\", \"female\", \"fiance\", \"fight\", \"figure\", \"financial\", \"financially\", \"find\", \"fine\", \"fire\", \"first\", \"fit\", \"fix\", \"flat\", \"focus\", \"follow\", \"food\", \"foot\", \"force\", \"forever\", \"form\", \"fragile\", \"free\", \"friend\", \"fuck\", \"fuss\", \"future\", \"gather\", \"gender\", \"general\", \"generally\", \"get\", \"girl\", \"give\", \"go\", \"going\", \"good\", \"great\", \"ground\", \"grow\", \"guess\", \"guest\", \"half\", \"hand\", \"handle\", \"happen\", \"happy\", \"hard\", \"harsh\", \"hate\", \"have\", \"heal\", \"healthy\", \"hear\", \"heavily\", \"help\", \"helpful\", \"high\", \"highlight\", \"highly\", \"history\", \"hold\", \"hole\", \"home\", \"hope\", \"hopefully\", \"horrible\", \"host\", \"hot\", \"house\", \"however\", \"huge\", \"human\", \"hungry\", \"hurtful\", \"husband\", \"idea\", \"identify\", \"idiot\", \"ignorant\", \"ignore\", \"immature\", \"immediately\", \"impact\", \"important\", \"importantly\", \"impossible\", \"inappropriate\", \"include\", \"inconsiderate\", \"incredibly\", \"influence\", \"info\", \"inform\", \"inheritance\", \"injury\", \"innocent\", \"insecurity\", \"insist\", \"instance\", \"instead\", \"intend\", \"interest\", \"interested\", \"interesting\", \"internet\", \"invalidate\", \"irrelevant\", \"issue\", \"job\", \"judge\", \"judgement\", \"jump\", \"keep\", \"kid\", \"kind\", \"kinda\", \"know\", \"knowledge\", \"lack\", \"lame\", \"last\", \"lawyer\", \"lead\", \"lean\", \"learn\", \"learning\", \"least\", \"leave\", \"legal\", \"less\", \"lesson\", \"let\", \"letting\", \"level\", \"lie\", \"life\", \"like\", \"likely\", \"limit\", \"limited\", \"line\", \"list\", \"literally\", \"little\", \"live\", \"long\", \"look\", \"lose\", \"loss\", \"lot\", \"love\", \"low\", \"luck\", \"mad\", \"made\", \"major\", \"majority\", \"make\", \"man\", \"manipulate\", \"manipulation\", \"manipulative\", \"many\", \"mark\", \"marriage\", \"married\", \"marry\", \"massively\", \"matter\", \"mature\", \"may\", \"maybe\", \"mean\", \"meaning\", \"medical\", \"meeting\", \"member\", \"memory\", \"mention\", \"message\", \"mind\", \"miss\", \"mistake\", \"mom\", \"moment\", \"money\", \"month\", \"mother\", \"move\", \"much\", \"naive\", \"name\", \"nature\", \"nee\", \"need\", \"never\", \"new\", \"next\", \"nice\", \"night\", \"non\", \"none\", \"nonsense\", \"normal\", \"normally\", \"notice\", \"number\", \"obvious\", \"obviously\", \"occur\", \"offend\", \"offer\", \"often\", \"old\", \"one\", \"op\", \"opinion\", \"opportunity\", \"option\", \"original\", \"other\", \"otherwise\", \"outright\", \"overreact\", \"owe\", \"own\", \"pandemic\", \"parent\", \"parenting\", \"part\", \"particularly\", \"partner\", \"party\", \"pass\", \"past\", \"pathetic\", \"people\", \"perfect\", \"perhaps\", \"period\", \"person\", \"personal\", \"petty\", \"physical\", \"picture\", \"piss\", \"place\", \"plan\", \"play\", \"plenty\", \"point\", \"police\", \"position\", \"possible\", \"possibly\", \"post\", \"potentially\", \"power\", \"pre\", \"precious\", \"prefer\", \"preference\", \"pregnancy\", \"prepare\", \"pressure\", \"pretend\", \"pretty\", \"pride\", \"priority\", \"private\", \"probably\", \"problem\", \"process\", \"professionally\", \"proper\", \"properly\", \"protect\", \"provide\", \"punish\", \"purchase\", \"purpose\", \"put\", \"quality\", \"question\", \"quick\", \"quit\", \"quite\", \"quote\", \"raise\", \"random\", \"rather\", \"react\", \"read\", \"real\", \"realise\", \"reality\", \"realize\", \"really\", \"reason\", \"reasonable\", \"recently\", \"recover\", \"reddit\", \"reduce\", \"refuse\", \"regard\", \"regardless\", \"regret\", \"reject\", \"relationship\", \"relative\", \"relevant\", \"remain\", \"remark\", \"remember\", \"reminder\", \"remove\", \"repair\", \"replace\", \"report\", \"request\", \"resolve\", \"respect\", \"respectful\", \"response\", \"responsibility\", \"responsible\", \"rest\", \"result\", \"rethink\", \"reveal\", \"reverse\", \"right\", \"road\", \"role\", \"roll\", \"room\", \"rude\", \"ruin\", \"rule\", \"run\", \"s\", \"safe\", \"say\", \"scold\", \"scream\", \"screw\", \"secret\", \"secure\", \"see\", \"seek\", \"seem\", \"selfish\", \"send\", \"sense\", \"separate\", \"separately\", \"serious\", \"seriously\", \"set\", \"several\", \"sexist\", \"sexual\", \"shame\", \"share\", \"shed\", \"shift\", \"shirt\", \"shit\", \"shock\", \"short\", \"should\", \"shove\", \"show\", \"shut\", \"side\", \"sign\", \"silly\", \"simply\", \"sister\", \"situation\", \"sleep\", \"slightly\", \"small\", \"smile\", \"soft\", \"sometimes\", \"somewhat\", \"son\", \"soon\", \"sort\", \"sound\", \"space\", \"speak\", \"specific\", \"spend\", \"spite\", \"split\", \"spouse\", \"stance\", \"stand\", \"standard\", \"start\", \"state\", \"stay\", \"steal\", \"step\", \"stick\", \"still\", \"stop\", \"store\", \"story\", \"straight\", \"stranger\", \"stress\", \"strong\", \"struggle\", \"stuff\", \"stupid\", \"sub\", \"subject\", \"suffer\", \"suggest\", \"support\", \"suppose\", \"sure\", \"system\", \"take\", \"talk\", \"teach\", \"teacher\", \"team\", \"tear\", \"technically\", \"teen\", \"tell\", \"tend\", \"terrible\", \"test\", \"thank\", \"therapist\", \"therapy\", \"there\", \"therefore\", \"thing\", \"think\", \"thinking\", \"though\", \"thought\", \"thread\", \"throw\", \"thus\", \"time\", \"tiny\", \"title\", \"ton\", \"top\", \"topic\", \"totally\", \"tough\", \"toxic\", \"transition\", \"travel\", \"treat\", \"true\", \"truly\", \"trust\", \"truth\", \"try\", \"turn\", \"undermine\", \"understand\", \"unfair\", \"unfortunate\", \"unfortunately\", \"unreasonable\", \"unsafe\", \"upset\", \"use\", \"usually\", \"vacation\", \"valuable\", \"value\", \"victim\", \"violate\", \"violent\", \"vote\", \"walk\", \"want\", \"watch\", \"way\", \"wear\", \"week\", \"weird\", \"welcome\", \"well\", \"whole\", \"wife\", \"will\", \"win\", \"wise\", \"wish\", \"woman\", \"wonder\", \"work\", \"workplace\", \"world\", \"worry\", \"worth\", \"would\", \"write\", \"wrong\", \"year\", \"yell\", \"yet\", \"young\", \"zone\"]}, \"R\": 30, \"lambda.step\": 0.01, \"plot.opts\": {\"xlab\": \"PC1\", \"ylab\": \"PC2\"}, \"topic.order\": [42, 14, 31, 48, 7, 13, 33, 20, 37, 44, 47, 17, 45, 10, 6, 9, 46, 50, 19, 30, 28, 15, 2, 38, 40, 41, 26, 35, 11, 5, 49, 4, 34, 43, 39, 32, 1, 25, 8, 23, 24, 29, 27, 21, 12, 22, 18, 16, 3, 36]};\n",
       "\n",
       "function LDAvis_load_lib(url, callback){\n",
       "  var s = document.createElement('script');\n",
       "  s.src = url;\n",
       "  s.async = true;\n",
       "  s.onreadystatechange = s.onload = callback;\n",
       "  s.onerror = function(){console.warn(\"failed to load library \" + url);};\n",
       "  document.getElementsByTagName(\"head\")[0].appendChild(s);\n",
       "}\n",
       "\n",
       "if(typeof(LDAvis) !== \"undefined\"){\n",
       "   // already loaded: just create the visualization\n",
       "   !function(LDAvis){\n",
       "       new LDAvis(\"#\" + \"ldavis_el6191404154455074247506969645\", ldavis_el6191404154455074247506969645_data);\n",
       "   }(LDAvis);\n",
       "}else if(typeof define === \"function\" && define.amd){\n",
       "   // require.js is available: use it to load d3/LDAvis\n",
       "   require.config({paths: {d3: \"https://cdnjs.cloudflare.com/ajax/libs/d3/3.5.5/d3.min\"}});\n",
       "   require([\"d3\"], function(d3){\n",
       "      window.d3 = d3;\n",
       "      LDAvis_load_lib(\"https://cdn.rawgit.com/bmabey/pyLDAvis/files/ldavis.v1.0.0.js\", function(){\n",
       "        new LDAvis(\"#\" + \"ldavis_el6191404154455074247506969645\", ldavis_el6191404154455074247506969645_data);\n",
       "      });\n",
       "    });\n",
       "}else{\n",
       "    // require.js not available: dynamically load d3 & LDAvis\n",
       "    LDAvis_load_lib(\"https://cdnjs.cloudflare.com/ajax/libs/d3/3.5.5/d3.min.js\", function(){\n",
       "         LDAvis_load_lib(\"https://cdn.rawgit.com/bmabey/pyLDAvis/files/ldavis.v1.0.0.js\", function(){\n",
       "                 new LDAvis(\"#\" + \"ldavis_el6191404154455074247506969645\", ldavis_el6191404154455074247506969645_data);\n",
       "            })\n",
       "         });\n",
       "}\n",
       "</script>"
      ],
      "text/plain": [
       "PreparedData(topic_coordinates=              x         y  topics  cluster       Freq\n",
       "topic                                                \n",
       "41    -0.105786 -0.471691       1        1  16.656461\n",
       "13    -0.077577 -0.002856       2        1   4.100513\n",
       "30    -0.072155 -0.035561       3        1   4.087165\n",
       "47    -0.075344 -0.011166       4        1   3.924970\n",
       "6     -0.068096  0.012991       5        1   3.408621\n",
       "12    -0.073232  0.002280       6        1   3.254051\n",
       "32    -0.056472  0.006376       7        1   2.800530\n",
       "19    -0.061162  0.019979       8        1   2.568291\n",
       "36    -0.049812  0.022108       9        1   2.320167\n",
       "43    -0.055240  0.020613      10        1   2.265480\n",
       "46    -0.056373  0.027708      11        1   2.200416\n",
       "16    -0.040240  0.019531      12        1   2.161948\n",
       "44    -0.036516  0.009282      13        1   2.135522\n",
       "9     -0.047593  0.023951      14        1   2.029769\n",
       "5     -0.039190  0.023909      15        1   1.983314\n",
       "8     -0.040804  0.020980      16        1   1.909663\n",
       "45    -0.033089  0.024293      17        1   1.873305\n",
       "49    -0.027976  0.018264      18        1   1.855750\n",
       "18    -0.026150  0.012709      19        1   1.811851\n",
       "29    -0.036073  0.026948      20        1   1.803042\n",
       "27    -0.033147  0.024804      21        1   1.789237\n",
       "14    -0.032014  0.028488      22        1   1.771445\n",
       "1     -0.031305  0.019318      23        1   1.713670\n",
       "37    -0.032237  0.020377      24        1   1.681144\n",
       "39    -0.021781  0.018330      25        1   1.660665\n",
       "40    -0.032419  0.017663      26        1   1.651854\n",
       "25    -0.031437  0.026037      27        1   1.638889\n",
       "34    -0.030632  0.016324      28        1   1.590009\n",
       "10    -0.020590  0.021337      29        1   1.588026\n",
       "4     -0.002905  0.013178      30        1   1.444977\n",
       "48     0.008727  0.012223      31        1   1.402779\n",
       "3      0.000562  0.016111      32        1   1.380281\n",
       "33    -0.008846  0.017629      33        1   1.372170\n",
       "42    -0.011166  0.018100      34        1   1.321782\n",
       "38    -0.007823  0.016748      35        1   1.314828\n",
       "31    -0.007837  0.019942      36        1   1.305105\n",
       "0      0.006983  0.013118      37        1   1.251696\n",
       "24     0.021705  0.006924      38        1   1.154393\n",
       "7      0.007583  0.013466      39        1   1.088484\n",
       "22     0.015800  0.008190      40        1   1.028695\n",
       "23     0.029860  0.003573      41        1   0.958846\n",
       "28     0.023790  0.007094      42        1   0.951328\n",
       "26     0.009393  0.008499      43        1   0.912627\n",
       "20     0.056141 -0.005230      44        1   0.795302\n",
       "11     0.048180 -0.001296      45        1   0.684080\n",
       "21     0.070319 -0.008622      46        1   0.655182\n",
       "17     0.151864 -0.029656      47        1   0.417496\n",
       "15     0.150354 -0.029071      48        1   0.314967\n",
       "2      0.390879 -0.032123      49        1   0.004612\n",
       "35     0.390879 -0.032123      50        1   0.004601, topic_info=             Term          Freq         Total Category  logprob  loglift\n",
       "159         would  68206.000000  68206.000000  Default  30.0000  30.0000\n",
       "521          need  46251.000000  46251.000000  Default  29.0000  29.0000\n",
       "181            be  52155.000000  52155.000000  Default  28.0000  28.0000\n",
       "99         people  40656.000000  40656.000000  Default  27.0000  27.0000\n",
       "175           say  47849.000000  47849.000000  Default  26.0000  26.0000\n",
       "...           ...           ...           ...      ...      ...      ...\n",
       "11356  fabulously      0.005397      1.329768  Topic50 -10.4349   4.4797\n",
       "11357   fictional      0.005397      1.329768  Topic50 -10.4349   4.4797\n",
       "11358  flamboyant      0.005397      1.329768  Topic50 -10.4349   4.4797\n",
       "11359      heroic      0.005397      1.329768  Topic50 -10.4349   4.4797\n",
       "11360  paraphrase      0.005397      1.329768  Topic50 -10.4349   4.4797\n",
       "\n",
       "[2254 rows x 6 columns], token_table=      Topic      Freq        Term\n",
       "term                             \n",
       "473      25  0.999899        able\n",
       "477      16  0.990697     absence\n",
       "953       5  0.999809  absolutely\n",
       "0         7  0.999762       abuse\n",
       "1088     14  0.999363     abusive\n",
       "...     ...       ...         ...\n",
       "161       3  0.999917        year\n",
       "724      28  0.999050        yell\n",
       "837      42  0.998632         yet\n",
       "162       7  0.999875       young\n",
       "76       26  0.990051        zone\n",
       "\n",
       "[768 rows x 3 columns], R=30, lambda_step=0.01, plot_opts={'xlab': 'PC1', 'ylab': 'PC2'}, topic_order=[42, 14, 31, 48, 7, 13, 33, 20, 37, 44, 47, 17, 45, 10, 6, 9, 46, 50, 19, 30, 28, 15, 2, 38, 40, 41, 26, 35, 11, 5, 49, 4, 34, 43, 39, 32, 1, 25, 8, 23, 24, 29, 27, 21, 12, 22, 18, 16, 3, 36])"
      ]
     },
     "execution_count": 26,
     "metadata": {},
     "output_type": "execute_result"
    }
   ],
   "source": [
    "import pyLDAvis\n",
    "import pyLDAvis.gensim\n",
    "# Visualize the topics\n",
    "pyLDAvis.enable_notebook()\n",
    "vis = pyLDAvis.gensim.prepare(lda_model, corpus, id2word)\n",
    "vis"
   ]
  },
  {
   "cell_type": "markdown",
   "metadata": {},
   "source": [
    "### LDA Optimization"
   ]
  },
  {
   "cell_type": "markdown",
   "metadata": {},
   "source": [
    "    Compute c_v coherence for various number of topics\n",
    "\n",
    "    Parameters:\n",
    "    ----------\n",
    "    dictionary : Gensim dictionary\n",
    "    corpus : Gensim corpus\n",
    "    texts : List of input texts\n",
    "    limit : Max num of topics\n",
    "\n",
    "    Returns:\n",
    "    -------\n",
    "    model_list : List of LDA topic models\n",
    "    coherence_values : Coherence values corresponding to the LDA model with respective number of topics"
   ]
  },
  {
   "cell_type": "code",
   "execution_count": 31,
   "metadata": {
    "ExecuteTime": {
     "end_time": "2021-01-25T19:11:38.551209Z",
     "start_time": "2021-01-25T19:11:36.693491Z"
    }
   },
   "outputs": [
    {
     "name": "stderr",
     "output_type": "stream",
     "text": [
      "/opt/anaconda3/lib/python3.8/site-packages/ipykernel/ipkernel.py:283: DeprecationWarning: `should_run_async` will not call `transform_cell` automatically in the future. Please pass the result to `transformed_cell` argument and any exception that happen during thetransform in `preprocessing_exc_tuple` in IPython 7.17 and above.\n",
      "  and should_run_async(code)\n"
     ]
    },
    {
     "ename": "CalledProcessError",
     "evalue": "Command 'mallet-2.0.8/bin/mallet import-file --preserve-case --keep-sequence --remove-stopwords --token-regex \"\\S+\" --input /var/folders/7w/_4spzkd528l0mk1v1_ftssxh0000gn/T/ed37ab_corpus.txt --output /var/folders/7w/_4spzkd528l0mk1v1_ftssxh0000gn/T/ed37ab_corpus.mallet' returned non-zero exit status 1.",
     "output_type": "error",
     "traceback": [
      "\u001b[0;31m---------------------------------------------------------------------------\u001b[0m",
      "\u001b[0;31mCalledProcessError\u001b[0m                        Traceback (most recent call last)",
      "\u001b[0;32m<ipython-input-31-e2460ed4de79>\u001b[0m in \u001b[0;36m<module>\u001b[0;34m\u001b[0m\n\u001b[1;32m      1\u001b[0m \u001b[0mmallet_path\u001b[0m \u001b[0;34m=\u001b[0m \u001b[0;34m(\u001b[0m\u001b[0;34m'mallet-2.0.8/bin/mallet'\u001b[0m\u001b[0;34m)\u001b[0m \u001b[0;31m# update this path\u001b[0m\u001b[0;34m\u001b[0m\u001b[0;34m\u001b[0m\u001b[0m\n\u001b[0;32m----> 2\u001b[0;31m \u001b[0mldamallet\u001b[0m \u001b[0;34m=\u001b[0m \u001b[0mgensim\u001b[0m\u001b[0;34m.\u001b[0m\u001b[0mmodels\u001b[0m\u001b[0;34m.\u001b[0m\u001b[0mwrappers\u001b[0m\u001b[0;34m.\u001b[0m\u001b[0mLdaMallet\u001b[0m\u001b[0;34m(\u001b[0m\u001b[0mmallet_path\u001b[0m\u001b[0;34m,\u001b[0m \u001b[0mcorpus\u001b[0m\u001b[0;34m=\u001b[0m\u001b[0mcorpus\u001b[0m\u001b[0;34m,\u001b[0m \u001b[0mnum_topics\u001b[0m\u001b[0;34m=\u001b[0m\u001b[0;36m20\u001b[0m\u001b[0;34m,\u001b[0m \u001b[0mid2word\u001b[0m\u001b[0;34m=\u001b[0m\u001b[0mid2word\u001b[0m\u001b[0;34m)\u001b[0m\u001b[0;34m\u001b[0m\u001b[0;34m\u001b[0m\u001b[0m\n\u001b[0m",
      "\u001b[0;32m/opt/anaconda3/lib/python3.8/site-packages/gensim/models/wrappers/ldamallet.py\u001b[0m in \u001b[0;36m__init__\u001b[0;34m(self, mallet_path, corpus, num_topics, alpha, id2word, workers, prefix, optimize_interval, iterations, topic_threshold, random_seed)\u001b[0m\n\u001b[1;32m    129\u001b[0m         \u001b[0mself\u001b[0m\u001b[0;34m.\u001b[0m\u001b[0mrandom_seed\u001b[0m \u001b[0;34m=\u001b[0m \u001b[0mrandom_seed\u001b[0m\u001b[0;34m\u001b[0m\u001b[0;34m\u001b[0m\u001b[0m\n\u001b[1;32m    130\u001b[0m         \u001b[0;32mif\u001b[0m \u001b[0mcorpus\u001b[0m \u001b[0;32mis\u001b[0m \u001b[0;32mnot\u001b[0m \u001b[0;32mNone\u001b[0m\u001b[0;34m:\u001b[0m\u001b[0;34m\u001b[0m\u001b[0;34m\u001b[0m\u001b[0m\n\u001b[0;32m--> 131\u001b[0;31m             \u001b[0mself\u001b[0m\u001b[0;34m.\u001b[0m\u001b[0mtrain\u001b[0m\u001b[0;34m(\u001b[0m\u001b[0mcorpus\u001b[0m\u001b[0;34m)\u001b[0m\u001b[0;34m\u001b[0m\u001b[0;34m\u001b[0m\u001b[0m\n\u001b[0m\u001b[1;32m    132\u001b[0m \u001b[0;34m\u001b[0m\u001b[0m\n\u001b[1;32m    133\u001b[0m     \u001b[0;32mdef\u001b[0m \u001b[0mfinferencer\u001b[0m\u001b[0;34m(\u001b[0m\u001b[0mself\u001b[0m\u001b[0;34m)\u001b[0m\u001b[0;34m:\u001b[0m\u001b[0;34m\u001b[0m\u001b[0;34m\u001b[0m\u001b[0m\n",
      "\u001b[0;32m/opt/anaconda3/lib/python3.8/site-packages/gensim/models/wrappers/ldamallet.py\u001b[0m in \u001b[0;36mtrain\u001b[0;34m(self, corpus)\u001b[0m\n\u001b[1;32m    270\u001b[0m \u001b[0;34m\u001b[0m\u001b[0m\n\u001b[1;32m    271\u001b[0m         \"\"\"\n\u001b[0;32m--> 272\u001b[0;31m         \u001b[0mself\u001b[0m\u001b[0;34m.\u001b[0m\u001b[0mconvert_input\u001b[0m\u001b[0;34m(\u001b[0m\u001b[0mcorpus\u001b[0m\u001b[0;34m,\u001b[0m \u001b[0minfer\u001b[0m\u001b[0;34m=\u001b[0m\u001b[0;32mFalse\u001b[0m\u001b[0;34m)\u001b[0m\u001b[0;34m\u001b[0m\u001b[0;34m\u001b[0m\u001b[0m\n\u001b[0m\u001b[1;32m    273\u001b[0m         \u001b[0mcmd\u001b[0m \u001b[0;34m=\u001b[0m \u001b[0mself\u001b[0m\u001b[0;34m.\u001b[0m\u001b[0mmallet_path\u001b[0m \u001b[0;34m+\u001b[0m \u001b[0;34m' train-topics --input %s --num-topics %s  --alpha %s --optimize-interval %s '\u001b[0m\u001b[0;31m\\\u001b[0m\u001b[0;34m\u001b[0m\u001b[0;34m\u001b[0m\u001b[0m\n\u001b[1;32m    274\u001b[0m             \u001b[0;34m'--num-threads %s --output-state %s --output-doc-topics %s --output-topic-keys %s '\u001b[0m\u001b[0;31m\\\u001b[0m\u001b[0;34m\u001b[0m\u001b[0;34m\u001b[0m\u001b[0m\n",
      "\u001b[0;32m/opt/anaconda3/lib/python3.8/site-packages/gensim/models/wrappers/ldamallet.py\u001b[0m in \u001b[0;36mconvert_input\u001b[0;34m(self, corpus, infer, serialize_corpus)\u001b[0m\n\u001b[1;32m    259\u001b[0m             \u001b[0mcmd\u001b[0m \u001b[0;34m=\u001b[0m \u001b[0mcmd\u001b[0m \u001b[0;34m%\u001b[0m \u001b[0;34m(\u001b[0m\u001b[0mself\u001b[0m\u001b[0;34m.\u001b[0m\u001b[0mfcorpustxt\u001b[0m\u001b[0;34m(\u001b[0m\u001b[0;34m)\u001b[0m\u001b[0;34m,\u001b[0m \u001b[0mself\u001b[0m\u001b[0;34m.\u001b[0m\u001b[0mfcorpusmallet\u001b[0m\u001b[0;34m(\u001b[0m\u001b[0;34m)\u001b[0m\u001b[0;34m)\u001b[0m\u001b[0;34m\u001b[0m\u001b[0;34m\u001b[0m\u001b[0m\n\u001b[1;32m    260\u001b[0m         \u001b[0mlogger\u001b[0m\u001b[0;34m.\u001b[0m\u001b[0minfo\u001b[0m\u001b[0;34m(\u001b[0m\u001b[0;34m\"converting temporary corpus to MALLET format with %s\"\u001b[0m\u001b[0;34m,\u001b[0m \u001b[0mcmd\u001b[0m\u001b[0;34m)\u001b[0m\u001b[0;34m\u001b[0m\u001b[0;34m\u001b[0m\u001b[0m\n\u001b[0;32m--> 261\u001b[0;31m         \u001b[0mcheck_output\u001b[0m\u001b[0;34m(\u001b[0m\u001b[0margs\u001b[0m\u001b[0;34m=\u001b[0m\u001b[0mcmd\u001b[0m\u001b[0;34m,\u001b[0m \u001b[0mshell\u001b[0m\u001b[0;34m=\u001b[0m\u001b[0;32mTrue\u001b[0m\u001b[0;34m)\u001b[0m\u001b[0;34m\u001b[0m\u001b[0;34m\u001b[0m\u001b[0m\n\u001b[0m\u001b[1;32m    262\u001b[0m \u001b[0;34m\u001b[0m\u001b[0m\n\u001b[1;32m    263\u001b[0m     \u001b[0;32mdef\u001b[0m \u001b[0mtrain\u001b[0m\u001b[0;34m(\u001b[0m\u001b[0mself\u001b[0m\u001b[0;34m,\u001b[0m \u001b[0mcorpus\u001b[0m\u001b[0;34m)\u001b[0m\u001b[0;34m:\u001b[0m\u001b[0;34m\u001b[0m\u001b[0;34m\u001b[0m\u001b[0m\n",
      "\u001b[0;32m/opt/anaconda3/lib/python3.8/site-packages/gensim/utils.py\u001b[0m in \u001b[0;36mcheck_output\u001b[0;34m(stdout, *popenargs, **kwargs)\u001b[0m\n\u001b[1;32m   1930\u001b[0m             \u001b[0merror\u001b[0m \u001b[0;34m=\u001b[0m \u001b[0msubprocess\u001b[0m\u001b[0;34m.\u001b[0m\u001b[0mCalledProcessError\u001b[0m\u001b[0;34m(\u001b[0m\u001b[0mretcode\u001b[0m\u001b[0;34m,\u001b[0m \u001b[0mcmd\u001b[0m\u001b[0;34m)\u001b[0m\u001b[0;34m\u001b[0m\u001b[0;34m\u001b[0m\u001b[0m\n\u001b[1;32m   1931\u001b[0m             \u001b[0merror\u001b[0m\u001b[0;34m.\u001b[0m\u001b[0moutput\u001b[0m \u001b[0;34m=\u001b[0m \u001b[0moutput\u001b[0m\u001b[0;34m\u001b[0m\u001b[0;34m\u001b[0m\u001b[0m\n\u001b[0;32m-> 1932\u001b[0;31m             \u001b[0;32mraise\u001b[0m \u001b[0merror\u001b[0m\u001b[0;34m\u001b[0m\u001b[0;34m\u001b[0m\u001b[0m\n\u001b[0m\u001b[1;32m   1933\u001b[0m         \u001b[0;32mreturn\u001b[0m \u001b[0moutput\u001b[0m\u001b[0;34m\u001b[0m\u001b[0;34m\u001b[0m\u001b[0m\n\u001b[1;32m   1934\u001b[0m     \u001b[0;32mexcept\u001b[0m \u001b[0mKeyboardInterrupt\u001b[0m\u001b[0;34m:\u001b[0m\u001b[0;34m\u001b[0m\u001b[0;34m\u001b[0m\u001b[0m\n",
      "\u001b[0;31mCalledProcessError\u001b[0m: Command 'mallet-2.0.8/bin/mallet import-file --preserve-case --keep-sequence --remove-stopwords --token-regex \"\\S+\" --input /var/folders/7w/_4spzkd528l0mk1v1_ftssxh0000gn/T/ed37ab_corpus.txt --output /var/folders/7w/_4spzkd528l0mk1v1_ftssxh0000gn/T/ed37ab_corpus.mallet' returned non-zero exit status 1."
     ]
    }
   ],
   "source": [
    "mallet_path = 'mallet-2.0.8/bin/mallet' # update this path\n",
    "ldamallet = gensim.models.wrappers.LdaMallet(mallet_path, corpus=corpus, num_topics=20, id2word=id2word)"
   ]
  },
  {
   "cell_type": "code",
   "execution_count": 27,
   "metadata": {
    "ExecuteTime": {
     "end_time": "2021-01-25T18:42:03.084275Z",
     "start_time": "2021-01-25T18:42:03.080871Z"
    }
   },
   "outputs": [
    {
     "name": "stderr",
     "output_type": "stream",
     "text": [
      "/opt/anaconda3/lib/python3.8/site-packages/ipykernel/ipkernel.py:283: DeprecationWarning: `should_run_async` will not call `transform_cell` automatically in the future. Please pass the result to `transformed_cell` argument and any exception that happen during thetransform in `preprocessing_exc_tuple` in IPython 7.17 and above.\n",
      "  and should_run_async(code)\n"
     ]
    }
   ],
   "source": [
    "def compute_coherence_values(dictionary, corpus, texts, limit, start=2, step=3):\n",
    "\n",
    "    coherence_values = []\n",
    "    model_list = []\n",
    "    for num_topics in range(start, limit, step):\n",
    "        model = gensim.models.wrappers.LdaMallet(mallet_path, corpus=corpus, num_topics=num_topics, id2word=id2word)\n",
    "        model_list.append(model)\n",
    "        coherencemodel = CoherenceModel(model=model, texts=texts, dictionary=dictionary, coherence='c_v')\n",
    "        coherence_values.append(coherencemodel.get_coherence())\n",
    "\n",
    "    return model_list, coherence_values\n"
   ]
  },
  {
   "cell_type": "code",
   "execution_count": 28,
   "metadata": {
    "ExecuteTime": {
     "end_time": "2021-01-25T18:42:03.103052Z",
     "start_time": "2021-01-25T18:42:03.085525Z"
    }
   },
   "outputs": [
    {
     "name": "stderr",
     "output_type": "stream",
     "text": [
      "/opt/anaconda3/lib/python3.8/site-packages/ipykernel/ipkernel.py:283: DeprecationWarning: `should_run_async` will not call `transform_cell` automatically in the future. Please pass the result to `transformed_cell` argument and any exception that happen during thetransform in `preprocessing_exc_tuple` in IPython 7.17 and above.\n",
      "  and should_run_async(code)\n"
     ]
    },
    {
     "ename": "NameError",
     "evalue": "name 'mallet_path' is not defined",
     "output_type": "error",
     "traceback": [
      "\u001b[0;31m---------------------------------------------------------------------------\u001b[0m",
      "\u001b[0;31mNameError\u001b[0m                                 Traceback (most recent call last)",
      "\u001b[0;32m<ipython-input-28-5788a6e71713>\u001b[0m in \u001b[0;36m<module>\u001b[0;34m\u001b[0m\n\u001b[1;32m      1\u001b[0m \u001b[0;31m# Can take a long time to run.\u001b[0m\u001b[0;34m\u001b[0m\u001b[0;34m\u001b[0m\u001b[0;34m\u001b[0m\u001b[0m\n\u001b[0;32m----> 2\u001b[0;31m \u001b[0mmodel_list\u001b[0m\u001b[0;34m,\u001b[0m \u001b[0mcoherence_values\u001b[0m \u001b[0;34m=\u001b[0m \u001b[0mcompute_coherence_values\u001b[0m\u001b[0;34m(\u001b[0m\u001b[0mdictionary\u001b[0m\u001b[0;34m=\u001b[0m\u001b[0mid2word\u001b[0m\u001b[0;34m,\u001b[0m \u001b[0mcorpus\u001b[0m\u001b[0;34m=\u001b[0m\u001b[0mcorpus\u001b[0m\u001b[0;34m,\u001b[0m \u001b[0mtexts\u001b[0m\u001b[0;34m=\u001b[0m\u001b[0mdata_lemmatized\u001b[0m\u001b[0;34m,\u001b[0m \u001b[0mstart\u001b[0m\u001b[0;34m=\u001b[0m\u001b[0;36m2\u001b[0m\u001b[0;34m,\u001b[0m \u001b[0mlimit\u001b[0m\u001b[0;34m=\u001b[0m\u001b[0;36m40\u001b[0m\u001b[0;34m,\u001b[0m \u001b[0mstep\u001b[0m\u001b[0;34m=\u001b[0m\u001b[0;36m6\u001b[0m\u001b[0;34m)\u001b[0m\u001b[0;34m\u001b[0m\u001b[0;34m\u001b[0m\u001b[0m\n\u001b[0m",
      "\u001b[0;32m<ipython-input-27-d85a791a1aa1>\u001b[0m in \u001b[0;36mcompute_coherence_values\u001b[0;34m(dictionary, corpus, texts, limit, start, step)\u001b[0m\n\u001b[1;32m      4\u001b[0m     \u001b[0mmodel_list\u001b[0m \u001b[0;34m=\u001b[0m \u001b[0;34m[\u001b[0m\u001b[0;34m]\u001b[0m\u001b[0;34m\u001b[0m\u001b[0;34m\u001b[0m\u001b[0m\n\u001b[1;32m      5\u001b[0m     \u001b[0;32mfor\u001b[0m \u001b[0mnum_topics\u001b[0m \u001b[0;32min\u001b[0m \u001b[0mrange\u001b[0m\u001b[0;34m(\u001b[0m\u001b[0mstart\u001b[0m\u001b[0;34m,\u001b[0m \u001b[0mlimit\u001b[0m\u001b[0;34m,\u001b[0m \u001b[0mstep\u001b[0m\u001b[0;34m)\u001b[0m\u001b[0;34m:\u001b[0m\u001b[0;34m\u001b[0m\u001b[0;34m\u001b[0m\u001b[0m\n\u001b[0;32m----> 6\u001b[0;31m         \u001b[0mmodel\u001b[0m \u001b[0;34m=\u001b[0m \u001b[0mgensim\u001b[0m\u001b[0;34m.\u001b[0m\u001b[0mmodels\u001b[0m\u001b[0;34m.\u001b[0m\u001b[0mwrappers\u001b[0m\u001b[0;34m.\u001b[0m\u001b[0mLdaMallet\u001b[0m\u001b[0;34m(\u001b[0m\u001b[0mmallet_path\u001b[0m\u001b[0;34m,\u001b[0m \u001b[0mcorpus\u001b[0m\u001b[0;34m=\u001b[0m\u001b[0mcorpus\u001b[0m\u001b[0;34m,\u001b[0m \u001b[0mnum_topics\u001b[0m\u001b[0;34m=\u001b[0m\u001b[0mnum_topics\u001b[0m\u001b[0;34m,\u001b[0m \u001b[0mid2word\u001b[0m\u001b[0;34m=\u001b[0m\u001b[0mid2word\u001b[0m\u001b[0;34m)\u001b[0m\u001b[0;34m\u001b[0m\u001b[0;34m\u001b[0m\u001b[0m\n\u001b[0m\u001b[1;32m      7\u001b[0m         \u001b[0mmodel_list\u001b[0m\u001b[0;34m.\u001b[0m\u001b[0mappend\u001b[0m\u001b[0;34m(\u001b[0m\u001b[0mmodel\u001b[0m\u001b[0;34m)\u001b[0m\u001b[0;34m\u001b[0m\u001b[0;34m\u001b[0m\u001b[0m\n\u001b[1;32m      8\u001b[0m         \u001b[0mcoherencemodel\u001b[0m \u001b[0;34m=\u001b[0m \u001b[0mCoherenceModel\u001b[0m\u001b[0;34m(\u001b[0m\u001b[0mmodel\u001b[0m\u001b[0;34m=\u001b[0m\u001b[0mmodel\u001b[0m\u001b[0;34m,\u001b[0m \u001b[0mtexts\u001b[0m\u001b[0;34m=\u001b[0m\u001b[0mtexts\u001b[0m\u001b[0;34m,\u001b[0m \u001b[0mdictionary\u001b[0m\u001b[0;34m=\u001b[0m\u001b[0mdictionary\u001b[0m\u001b[0;34m,\u001b[0m \u001b[0mcoherence\u001b[0m\u001b[0;34m=\u001b[0m\u001b[0;34m'c_v'\u001b[0m\u001b[0;34m)\u001b[0m\u001b[0;34m\u001b[0m\u001b[0;34m\u001b[0m\u001b[0m\n",
      "\u001b[0;31mNameError\u001b[0m: name 'mallet_path' is not defined"
     ]
    }
   ],
   "source": [
    "# Can take a long time to run.\n",
    "model_list, coherence_values = compute_coherence_values(dictionary=id2word, corpus=corpus, texts=data_lemmatized, start=2, limit=40, step=6)\n"
   ]
  },
  {
   "cell_type": "code",
   "execution_count": null,
   "metadata": {},
   "outputs": [],
   "source": []
  },
  {
   "cell_type": "code",
   "execution_count": null,
   "metadata": {},
   "outputs": [],
   "source": []
  }
 ],
 "metadata": {
  "kernelspec": {
   "display_name": "Python 3",
   "language": "python",
   "name": "python3"
  },
  "language_info": {
   "codemirror_mode": {
    "name": "ipython",
    "version": 3
   },
   "file_extension": ".py",
   "mimetype": "text/x-python",
   "name": "python",
   "nbconvert_exporter": "python",
   "pygments_lexer": "ipython3",
   "version": "3.8.5"
  },
  "toc": {
   "base_numbering": 1,
   "nav_menu": {},
   "number_sections": true,
   "sideBar": true,
   "skip_h1_title": false,
   "title_cell": "Table of Contents",
   "title_sidebar": "Contents",
   "toc_cell": false,
   "toc_position": {
    "height": "calc(100% - 180px)",
    "left": "10px",
    "top": "150px",
    "width": "170.824px"
   },
   "toc_section_display": true,
   "toc_window_display": true
  }
 },
 "nbformat": 4,
 "nbformat_minor": 4
}
