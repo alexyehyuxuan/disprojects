{
 "cells": [
  {
   "cell_type": "code",
   "execution_count": 5,
   "metadata": {
    "scrolled": true
   },
   "outputs": [],
   "source": [
    "import pandas as pd\n",
    "import praw"
   ]
  },
  {
   "cell_type": "code",
   "execution_count": 8,
   "metadata": {},
   "outputs": [],
   "source": [
    "#Acessing the reddit api\n",
    "reddit = praw.Reddit(client_id=\"9tAy2O858UyM-Q\",#client id\n",
    "                     client_secret=\"wRRhIAzTIgVBvcsvJftgZfK6dC4Nsg\", #client secret\n",
    "                     user_agent=\"alex_bot\") #user agent name\n",
    "\n",
    "# define custom scraping function\n",
    "def scrape_subreddit(subreddit, postlimit=1000):\n",
    "    \n",
    "    subreddit = reddit.subreddit(subreddit)\n",
    "\n",
    "    post_title = []\n",
    "    post_text = []\n",
    "    post_id = []\n",
    "    post_dist = []\n",
    "    post_score = []\n",
    "    post_upvoteratio = []\n",
    "    post_date = []\n",
    "    comment_text = []\n",
    "    comment_dist = []\n",
    "    comment_score = []\n",
    "    comment_parentpost_id = []\n",
    "\n",
    "    # collect from posts sorted by hot\n",
    "    for submission in subreddit.hot(limit = postlimit):\n",
    "        # collect information on post\n",
    "        post_title.append(submission.title)\n",
    "        post_text.append(submission.selftext)\n",
    "        post_id.append(submission.id)\n",
    "        post_dist.append(submission.distinguished)\n",
    "        post_score.append(submission.score)\n",
    "        post_upvoteratio.append(submission.upvote_ratio)\n",
    "        post_date.append(submission.created_utc)\n",
    "\n",
    "        # collect all comments on each post\n",
    "        submission.comments.replace_more(limit = None)\n",
    "        for comment in submission.comments.list():     \n",
    "            comment_text.append(comment.body)\n",
    "            comment_dist.append(comment.distinguished)\n",
    "            comment_score.append(comment.score)\n",
    "            comment_parentpost_id.append(submission.id)\n",
    " \n",
    "    # put posts into a df\n",
    "    df_post = pd.DataFrame({'title': post_title,\n",
    "                              'id': post_id,\n",
    "                            'date_created':post_date,\n",
    "                              'text': post_text,\n",
    "                              'distinguished': post_dist,\n",
    "                              'score': post_score,\n",
    "                              'upvote_ratio': post_upvoteratio})\n",
    "    df_post['date_created'] = pd.to_datetime(df_post['date_created'], unit = 's')\n",
    "    \n",
    "    # put comments into a df\n",
    "    df_comments = pd.DataFrame({'post_id': comment_parentpost_id,\n",
    "                              'comment_text': comment_text,\n",
    "                              'comment_distinguished': comment_dist,\n",
    "                              'comment_score': comment_score})\n",
    "    \n",
    "    return df_post, df_comments\n",
    "\n",
    "%%time\n",
    "# scrape\n",
    "aita_posts, aita_comments = scrape_subreddit('AmiTheAsshole')\n",
    "\n",
    "aita_posts.to_csv('../data/posts.csv')\n",
    "aita_comments.to_csv('../data/comments.csv')"
   ]
  },
  {
   "cell_type": "code",
   "execution_count": 9,
   "metadata": {},
   "outputs": [
    {
     "name": "stdout",
     "output_type": "stream",
     "text": [
      "CPU times: user 55.9 s, sys: 3.47 s, total: 59.4 s\n",
      "Wall time: 31min 50s\n"
     ]
    }
   ],
   "source": [
    "%%time\n",
    "# scrape\n",
    "aita_posts, aita_comments = scrape_subreddit('AmiTheAsshole')"
   ]
  },
  {
   "cell_type": "code",
   "execution_count": 14,
   "metadata": {},
   "outputs": [],
   "source": [
    "aita_posts.to_csv('datasets/posts.csv', index=False)\n",
    "aita_comments.to_csv('datasets/comments.csv', index=False)"
   ]
  },
  {
   "cell_type": "markdown",
   "metadata": {},
   "source": [
    "Second Pull 5/1/21"
   ]
  },
  {
   "cell_type": "code",
   "execution_count": 1,
   "metadata": {},
   "outputs": [
    {
     "ename": "NameError",
     "evalue": "name 'praw' is not defined",
     "output_type": "error",
     "traceback": [
      "\u001b[0;31m---------------------------------------------------------------------------\u001b[0m",
      "\u001b[0;31mNameError\u001b[0m                                 Traceback (most recent call last)",
      "\u001b[0;32m<ipython-input-1-6b5092ff4b79>\u001b[0m in \u001b[0;36m<module>\u001b[0;34m\u001b[0m\n\u001b[1;32m      1\u001b[0m \u001b[0;31m#Acessing the reddit api\u001b[0m\u001b[0;34m\u001b[0m\u001b[0;34m\u001b[0m\u001b[0;34m\u001b[0m\u001b[0m\n\u001b[0;32m----> 2\u001b[0;31m reddit = praw.Reddit(client_id=\"9tAy2O858UyM-Q\",#client id\n\u001b[0m\u001b[1;32m      3\u001b[0m                      \u001b[0mclient_secret\u001b[0m\u001b[0;34m=\u001b[0m\u001b[0;34m\"wRRhIAzTIgVBvcsvJftgZfK6dC4Nsg\"\u001b[0m\u001b[0;34m,\u001b[0m \u001b[0;31m#client secret\u001b[0m\u001b[0;34m\u001b[0m\u001b[0;34m\u001b[0m\u001b[0m\n\u001b[1;32m      4\u001b[0m                      user_agent=\"alex_bot\") #user agent name\n\u001b[1;32m      5\u001b[0m \u001b[0;34m\u001b[0m\u001b[0m\n",
      "\u001b[0;31mNameError\u001b[0m: name 'praw' is not defined"
     ]
    }
   ],
   "source": [
    "#Acessing the reddit api\n",
    "reddit = praw.Reddit(client_id=\"9tAy2O858UyM-Q\",#client id\n",
    "                     client_secret=\"wRRhIAzTIgVBvcsvJftgZfK6dC4Nsg\", #client secret\n",
    "                     user_agent=\"alex_bot\") #user agent name\n",
    "\n",
    "# define custom scraping function\n",
    "def scrape_subreddit(subreddit, postlimit=1000):\n",
    "    \n",
    "    subreddit = reddit.subreddit(subreddit)\n",
    "\n",
    "    post_title = []\n",
    "    post_text = []\n",
    "    post_id = []\n",
    "    post_dist = []\n",
    "    post_score = []\n",
    "    post_upvoteratio = []\n",
    "    post_date = []\n",
    "    comment_text = []\n",
    "    comment_dist = []\n",
    "    comment_score = []\n",
    "    comment_parentpost_id = []\n",
    "\n",
    "    # collect from posts sorted by hot\n",
    "    for submission in subreddit.hot(limit = postlimit):\n",
    "        # collect information on post\n",
    "        post_title.append(submission.title)\n",
    "        post_text.append(submission.selftext)\n",
    "        post_id.append(submission.id)\n",
    "        post_dist.append(submission.distinguished)\n",
    "        post_score.append(submission.score)\n",
    "        post_upvoteratio.append(submission.upvote_ratio)\n",
    "        post_date.append(submission.created_utc)\n",
    "\n",
    "        # collect all comments on each post\n",
    "        submission.comments.replace_more(limit = None)\n",
    "        for comment in submission.comments.list():     \n",
    "            comment_text.append(comment.body)\n",
    "            comment_dist.append(comment.distinguished)\n",
    "            comment_score.append(comment.score)\n",
    "            comment_parentpost_id.append(submission.id)\n",
    " \n",
    "    # put posts into a df\n",
    "    df_post = pd.DataFrame({'title': post_title,\n",
    "                              'id': post_id,\n",
    "                            'date_created':post_date,\n",
    "                              'text': post_text,\n",
    "                              'distinguished': post_dist,\n",
    "                              'score': post_score,\n",
    "                              'upvote_ratio': post_upvoteratio})\n",
    "    df_post['date_created'] = pd.to_datetime(df_post['date_created'], unit = 's')\n",
    "    \n",
    "    # put comments into a df\n",
    "    df_comments = pd.DataFrame({'post_id': comment_parentpost_id,\n",
    "                              'comment_text': comment_text,\n",
    "                              'comment_distinguished': comment_dist,\n",
    "                              'comment_score': comment_score})\n",
    "    \n",
    "    return df_post, df_comments\n",
    "\n",
    "%%time\n",
    "# scrape\n",
    "aita_posts, aita_comments = scrape_subreddit('AmiTheAsshole')\n",
    "\n",
    "aita_posts.to_csv('../data/posts2.csv')\n",
    "aita_comments.to_csv('../data/comments2.csv')"
   ]
  },
  {
   "cell_type": "code",
   "execution_count": null,
   "metadata": {},
   "outputs": [],
   "source": []
  }
 ],
 "metadata": {
  "kernelspec": {
   "display_name": "Python 3",
   "language": "python",
   "name": "python3"
  },
  "language_info": {
   "codemirror_mode": {
    "name": "ipython",
    "version": 3
   },
   "file_extension": ".py",
   "mimetype": "text/x-python",
   "name": "python",
   "nbconvert_exporter": "python",
   "pygments_lexer": "ipython3",
   "version": "3.8.5"
  }
 },
 "nbformat": 4,
 "nbformat_minor": 4
}
